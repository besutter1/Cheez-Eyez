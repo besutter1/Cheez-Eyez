{
 "cells": [
  {
   "cell_type": "markdown",
   "id": "c8d0b581-fbd6-44b1-b044-73dd03b00d0d",
   "metadata": {},
   "source": [
    "# Diversity analysis\n"
   ]
  },
  {
   "cell_type": "code",
   "execution_count": 2,
   "id": "778b1329-4862-4b15-a1e3-7d32c814a170",
   "metadata": {},
   "outputs": [],
   "source": [
    "import os\n",
    "import pandas as pd\n",
    "from qiime2 import Visualization\n",
    "from skbio import OrdinationResults\n",
    "import matplotlib.pyplot as plt\n",
    "from seaborn import scatterplot\n",
    "import numpy as np\n",
    "\n",
    "import qiime2 as q2\n",
    "\n",
    "%matplotlib inline\n",
    "data_dir = 'CE'"
   ]
  },
  {
   "cell_type": "markdown",
   "id": "0212ba43-0406-4c97-8ad2-4eb41425600e",
   "metadata": {},
   "source": [
    "Artifacts used for alpha-diversity (start)\n",
    "- dada2_table_align_filtered.qza  --> taxonomy.ipynb\n",
    "- fasttree-tree-rooted.qza  --> taxonomy.ipynb\n",
    "- sepp-tree.qza  --> taxonomy.ipynb"
   ]
  },
  {
   "cell_type": "markdown",
   "id": "12b9c91a-e129-487f-bcb6-e1329a884c7b",
   "metadata": {},
   "source": [
    "## Alpha rarefaction"
   ]
  },
  {
   "cell_type": "markdown",
   "id": "c599efa3-d22b-4930-b631-9c49333f8e25",
   "metadata": {},
   "source": [
    "Which tree should be chosen to conduct alpha rarefaction? the de-novo tree or fragment insertion tree? \n",
    "-> fragment insertion tree was chosen, to get the completest tree possible with as much information as possible.\n",
    "Artifacts of both trees are visualized here to have a look again:"
   ]
  },
  {
   "cell_type": "code",
   "execution_count": 2,
   "id": "dabedcb9-5140-4549-9917-d1e53f49e672",
   "metadata": {
    "tags": []
   },
   "outputs": [
    {
     "data": {
      "text/html": [
       "<div><img onload=\"(function(div, url){\n",
       "if (typeof require !== 'undefined') {\n",
       "    var baseURL = require.toUrl('').split('/').slice(0, -2).join('/');\n",
       "} else {\n",
       "    var baseURL = JSON.parse(\n",
       "        document.getElementById('jupyter-config-data').innerHTML\n",
       "    ).baseUrl.slice(0, -1);\n",
       "}\n",
       "url = baseURL + url;\n",
       "fetch(url).then(function(res) {\n",
       "    if (res.status === 404) {\n",
       "        div.innerHTML = 'Install QIIME 2 Jupyter extension with:<br />' +\n",
       "                        '<code>jupyter serverextension enable --py qiime2' +\n",
       "                        ' --sys-prefix</code><br />then restart your server.' +\n",
       "                        '<br /><br />(Interactive output not available on ' +\n",
       "                        'static notebook viewer services like nbviewer.)';\n",
       "    } else if (res.status === 409) {\n",
       "        div.innerHTML = 'Visualization no longer in scope. Re-run this cell' +\n",
       "                        ' to see the visualization.';\n",
       "    } else if (res.ok) {\n",
       "        url = res.url;\n",
       "        div.innerHTML = '<iframe src=\\'' + url + '\\' style=\\'' +\n",
       "                        'width: 100%; height: 700px; border: 0;\\'>' +\n",
       "                        '</iframe><hr />Open in a: <a href=\\'' + url + '\\'' +\n",
       "                        ' target=\\'_blank\\'>new window</a>'\n",
       "    } else {\n",
       "        div.innerHTML = 'Something has gone wrong. Check notebook server for' +\n",
       "                        ' errors.';\n",
       "    }\n",
       "});\n",
       "})(this.parentElement, '/qiime2/redirect?location=/tmp/qiime2-archive-px4s79uf')\" src=\"data:image/gif;base64,R0lGODlhAQABAIAAAP///wAAACH5BAEAAAAALAAAAAABAAEAAAICRAEAOw==\" /></div>"
      ],
      "text/plain": [
       "<visualization: Visualization uuid: fa5be120-ab7c-44b2-890e-b75b49207148>"
      ]
     },
     "execution_count": 2,
     "metadata": {},
     "output_type": "execute_result"
    }
   ],
   "source": [
    "#denovo\n",
    "Visualization.load(f'{data_dir}/fasttree-tree-rooted.qzv')"
   ]
  },
  {
   "cell_type": "code",
   "execution_count": 3,
   "id": "2403279d-4289-4839-b2be-28a380c9e9d6",
   "metadata": {
    "tags": []
   },
   "outputs": [
    {
     "data": {
      "text/html": [
       "<div><img onload=\"(function(div, url){\n",
       "if (typeof require !== 'undefined') {\n",
       "    var baseURL = require.toUrl('').split('/').slice(0, -2).join('/');\n",
       "} else {\n",
       "    var baseURL = JSON.parse(\n",
       "        document.getElementById('jupyter-config-data').innerHTML\n",
       "    ).baseUrl.slice(0, -1);\n",
       "}\n",
       "url = baseURL + url;\n",
       "fetch(url).then(function(res) {\n",
       "    if (res.status === 404) {\n",
       "        div.innerHTML = 'Install QIIME 2 Jupyter extension with:<br />' +\n",
       "                        '<code>jupyter serverextension enable --py qiime2' +\n",
       "                        ' --sys-prefix</code><br />then restart your server.' +\n",
       "                        '<br /><br />(Interactive output not available on ' +\n",
       "                        'static notebook viewer services like nbviewer.)';\n",
       "    } else if (res.status === 409) {\n",
       "        div.innerHTML = 'Visualization no longer in scope. Re-run this cell' +\n",
       "                        ' to see the visualization.';\n",
       "    } else if (res.ok) {\n",
       "        url = res.url;\n",
       "        div.innerHTML = '<iframe src=\\'' + url + '\\' style=\\'' +\n",
       "                        'width: 100%; height: 700px; border: 0;\\'>' +\n",
       "                        '</iframe><hr />Open in a: <a href=\\'' + url + '\\'' +\n",
       "                        ' target=\\'_blank\\'>new window</a>'\n",
       "    } else {\n",
       "        div.innerHTML = 'Something has gone wrong. Check notebook server for' +\n",
       "                        ' errors.';\n",
       "    }\n",
       "});\n",
       "})(this.parentElement, '/qiime2/redirect?location=/tmp/qiime2-archive-vq9fexm1')\" src=\"data:image/gif;base64,R0lGODlhAQABAIAAAP///wAAACH5BAEAAAAALAAAAAABAAEAAAICRAEAOw==\" /></div>"
      ],
      "text/plain": [
       "<visualization: Visualization uuid: c3aa3b89-243a-450b-aa54-475736e5cbb5>"
      ]
     },
     "execution_count": 3,
     "metadata": {},
     "output_type": "execute_result"
    }
   ],
   "source": [
    "#fragment-insertion\n",
    "Visualization.load(f'{data_dir}/sepp-tree-placements-tree.qzv')"
   ]
  },
  {
   "cell_type": "markdown",
   "id": "b2f93508-2e0b-4fca-b8d7-967e4b846439",
   "metadata": {},
   "source": [
    "### The following steps were done to analyze alpha diversities.\n",
    "1. The first thing I did was downloading the metadata again, as it somehow was missing in the directory file CE. If you already have the food-metadata.tsv run normally, if not, remove the hashtags # in the following two cells.\n",
    "2. Used the `alpha-rarefaction` plugin in order to decide which rarefying threshold is best suited for our data. \n",
    "3. Visualized the `diversity alpha-rarefaction` artifact (--p-max-depth 100000) to find out which sequencing depth should be used \n",
    "    - **12000** was chosen to not loose to many samples but also not loose too much diversity. Also no big differences were noticed between *de novo* and *fragment insertion tree*. At the end we used the *fragment insertion tree*.\n",
    "4. Also tested different `diversity alpha-rarefaction` --p-max-depth to double check the chosen rarefaction depth. It was done for --p-max-depth 10000 and 50000.\n",
    "5. Used `core-metrics-phylogenetic` plugin and inserted 12000 for --p-sampling-depth in order to get many different core-metrics artifacts.\n",
    "6. Used `diversity alpha-group-significance` plugin to run some statisical tests (Kruskall-Wallis)\n",
    "7. use `diversity alpha-correlation` to check for correlations (columns - richness of microbial community)\n",
    "8. some fun with pandas: creating a 2D plot of our data"
   ]
  },
  {
   "cell_type": "markdown",
   "id": "cfb41089-0980-4780-90a7-71c5b153cce3",
   "metadata": {},
   "source": [
    "### 1)"
   ]
  },
  {
   "cell_type": "code",
   "execution_count": 8,
   "id": "b0e22a2e-a021-4e8f-a690-3d74963e8e2e",
   "metadata": {
    "tags": []
   },
   "outputs": [
    {
     "name": "stdout",
     "output_type": "stream",
     "text": [
      "2022-11-08 16:20:15 URL:https://polybox.ethz.ch/index.php/s/nEd4l5CWGWGEtae/download [42810/42810] -> \"CE/food-metadata.tsv\" [1]\n"
     ]
    }
   ],
   "source": [
    "#! wget -nv -O $data_dir/food-metadata.tsv 'https://polybox.ethz.ch/index.php/s/nEd4l5CWGWGEtae/download'"
   ]
  },
  {
   "cell_type": "code",
   "execution_count": 12,
   "id": "6bd5725e-1c42-41a1-9d9a-b1d65c17a733",
   "metadata": {},
   "outputs": [],
   "source": [
    "#df_meta = pd.read_csv(f'{data_dir}/food-metadata.tsv', sep='\\t', index_col=0)"
   ]
  },
  {
   "cell_type": "markdown",
   "id": "1239bc8c-b30f-4620-a934-87197fd33cae",
   "metadata": {},
   "source": [
    "### 2)"
   ]
  },
  {
   "cell_type": "markdown",
   "id": "81ac868a-77fe-41ce-874d-d13e3f1eb1a0",
   "metadata": {},
   "source": [
    "for denovo:"
   ]
  },
  {
   "cell_type": "code",
   "execution_count": 3,
   "id": "a501688e-0dca-47c2-9e8e-5f3b7d8e12d7",
   "metadata": {
    "tags": []
   },
   "outputs": [
    {
     "name": "stdout",
     "output_type": "stream",
     "text": [
      "\u001b[32mSaved Visualization to: CE/alpha-rarefaction_denovo.qzv\u001b[0m\n",
      "\u001b[0m"
     ]
    }
   ],
   "source": [
    "! qiime diversity alpha-rarefaction \\\n",
    "    --i-table $data_dir/dada2_table_align_filtered.qza \\\n",
    "    --i-phylogeny $data_dir/fasttree-tree-rooted.qza \\\n",
    "    --p-max-depth 100000 \\\n",
    "    --m-metadata-file $data_dir/food-metadata.tsv\\\n",
    "    --o-visualization $data_dir/alpha-rarefaction_denovo.qzv"
   ]
  },
  {
   "cell_type": "markdown",
   "id": "70f0a505-e838-44db-aef3-f8523b265fc4",
   "metadata": {},
   "source": [
    "for fragment insertion:"
   ]
  },
  {
   "cell_type": "code",
   "execution_count": 12,
   "id": "1400562b-0625-494b-a7b8-ad4a2449b2e7",
   "metadata": {},
   "outputs": [
    {
     "name": "stdout",
     "output_type": "stream",
     "text": [
      "\u001b[32mSaved Visualization to: CE/alpha-rarefaction_insertion.qzv\u001b[0m\n",
      "\u001b[0m"
     ]
    }
   ],
   "source": [
    "! qiime diversity alpha-rarefaction \\\n",
    "    --i-table $data_dir/dada2_table_align_filtered.qza \\\n",
    "    --i-phylogeny $data_dir/sepp-tree.qza \\\n",
    "    --p-max-depth 100000 \\\n",
    "    --m-metadata-file $data_dir/food-metadata.tsv\\\n",
    "    --o-visualization $data_dir/alpha-rarefaction_insertion.qzv"
   ]
  },
  {
   "cell_type": "markdown",
   "id": "b682be45-a0e7-4b56-94c8-1744502c44ab",
   "metadata": {},
   "source": [
    "### 3)"
   ]
  },
  {
   "cell_type": "code",
   "execution_count": 2,
   "id": "86be5dd6-363a-47aa-90fb-b0de47a11a98",
   "metadata": {
    "tags": []
   },
   "outputs": [
    {
     "data": {
      "text/html": [
       "<div><img onload=\"(function(div, url){\n",
       "if (typeof require !== 'undefined') {\n",
       "    var baseURL = require.toUrl('').split('/').slice(0, -2).join('/');\n",
       "} else {\n",
       "    var baseURL = JSON.parse(\n",
       "        document.getElementById('jupyter-config-data').innerHTML\n",
       "    ).baseUrl.slice(0, -1);\n",
       "}\n",
       "url = baseURL + url;\n",
       "fetch(url).then(function(res) {\n",
       "    if (res.status === 404) {\n",
       "        div.innerHTML = 'Install QIIME 2 Jupyter extension with:<br />' +\n",
       "                        '<code>jupyter serverextension enable --py qiime2' +\n",
       "                        ' --sys-prefix</code><br />then restart your server.' +\n",
       "                        '<br /><br />(Interactive output not available on ' +\n",
       "                        'static notebook viewer services like nbviewer.)';\n",
       "    } else if (res.status === 409) {\n",
       "        div.innerHTML = 'Visualization no longer in scope. Re-run this cell' +\n",
       "                        ' to see the visualization.';\n",
       "    } else if (res.ok) {\n",
       "        url = res.url;\n",
       "        div.innerHTML = '<iframe src=\\'' + url + '\\' style=\\'' +\n",
       "                        'width: 100%; height: 700px; border: 0;\\'>' +\n",
       "                        '</iframe><hr />Open in a: <a href=\\'' + url + '\\'' +\n",
       "                        ' target=\\'_blank\\'>new window</a>'\n",
       "    } else {\n",
       "        div.innerHTML = 'Something has gone wrong. Check notebook server for' +\n",
       "                        ' errors.';\n",
       "    }\n",
       "});\n",
       "})(this.parentElement, '/qiime2/redirect?location=/tmp/qiime2-archive-jjkzq_u1')\" src=\"data:image/gif;base64,R0lGODlhAQABAIAAAP///wAAACH5BAEAAAAALAAAAAABAAEAAAICRAEAOw==\" /></div>"
      ],
      "text/plain": [
       "<visualization: Visualization uuid: 56a6d917-f4fa-44a8-9c5b-eb1bf1dd4340>"
      ]
     },
     "execution_count": 2,
     "metadata": {},
     "output_type": "execute_result"
    }
   ],
   "source": [
    "#denovo tree: number of samples has plateau at around 7000 for rind-type\n",
    "#could lower --p-max-depth to 10000 \\\n",
    "Visualization.load(f'{data_dir}/alpha-rarefaction_denovo.qzv')"
   ]
  },
  {
   "cell_type": "code",
   "execution_count": 3,
   "id": "e91f91a8-7208-4145-8648-5f77e637aeaf",
   "metadata": {
    "tags": []
   },
   "outputs": [
    {
     "data": {
      "text/html": [
       "<div><img onload=\"(function(div, url){\n",
       "if (typeof require !== 'undefined') {\n",
       "    var baseURL = require.toUrl('').split('/').slice(0, -2).join('/');\n",
       "} else {\n",
       "    var baseURL = JSON.parse(\n",
       "        document.getElementById('jupyter-config-data').innerHTML\n",
       "    ).baseUrl.slice(0, -1);\n",
       "}\n",
       "url = baseURL + url;\n",
       "fetch(url).then(function(res) {\n",
       "    if (res.status === 404) {\n",
       "        div.innerHTML = 'Install QIIME 2 Jupyter extension with:<br />' +\n",
       "                        '<code>jupyter serverextension enable --py qiime2' +\n",
       "                        ' --sys-prefix</code><br />then restart your server.' +\n",
       "                        '<br /><br />(Interactive output not available on ' +\n",
       "                        'static notebook viewer services like nbviewer.)';\n",
       "    } else if (res.status === 409) {\n",
       "        div.innerHTML = 'Visualization no longer in scope. Re-run this cell' +\n",
       "                        ' to see the visualization.';\n",
       "    } else if (res.ok) {\n",
       "        url = res.url;\n",
       "        div.innerHTML = '<iframe src=\\'' + url + '\\' style=\\'' +\n",
       "                        'width: 100%; height: 700px; border: 0;\\'>' +\n",
       "                        '</iframe><hr />Open in a: <a href=\\'' + url + '\\'' +\n",
       "                        ' target=\\'_blank\\'>new window</a>'\n",
       "    } else {\n",
       "        div.innerHTML = 'Something has gone wrong. Check notebook server for' +\n",
       "                        ' errors.';\n",
       "    }\n",
       "});\n",
       "})(this.parentElement, '/qiime2/redirect?location=/tmp/qiime2-archive-lzgdombb')\" src=\"data:image/gif;base64,R0lGODlhAQABAIAAAP///wAAACH5BAEAAAAALAAAAAABAAEAAAICRAEAOw==\" /></div>"
      ],
      "text/plain": [
       "<visualization: Visualization uuid: 451f3775-a4b4-4ef5-85a2-fc702c1dceea>"
      ]
     },
     "execution_count": 3,
     "metadata": {},
     "output_type": "execute_result"
    }
   ],
   "source": [
    "#fragment insertion tree: number of samples has plateau at around 7000 for rind-type\n",
    "#could change --p-max-depth  7000\\\n",
    "Visualization.load(f'{data_dir}/alpha-rarefaction_insertion.qzv')"
   ]
  },
  {
   "cell_type": "markdown",
   "id": "7b729072-a286-4522-9f30-6eaee03bfcb6",
   "metadata": {},
   "source": [
    "**Observation:** no major difference was found for denovo vs fragment insertion tree.\n",
    "I would cut at 12000 and choose that as sequencing depth. The plateau is already reached for almost all fators then and the number of samples starts decreasing. With 12000 we don't loose too many samples. The high rarefaction depth stands for a good sequencing depth quality.\n"
   ]
  },
  {
   "cell_type": "markdown",
   "id": "b3aacc59-4a1c-4a4b-8860-416b899bb45f",
   "metadata": {},
   "source": [
    "### 4)"
   ]
  },
  {
   "cell_type": "markdown",
   "id": "5f2701ed-bf55-4da5-8de4-6e42448ba7a3",
   "metadata": {},
   "source": [
    "--p-max-depth 10000"
   ]
  },
  {
   "cell_type": "code",
   "execution_count": 4,
   "id": "4bacc817-4572-445c-9bc5-4fdb6f32b53b",
   "metadata": {},
   "outputs": [
    {
     "name": "stdout",
     "output_type": "stream",
     "text": [
      "\u001b[32mSaved Visualization to: CE/alpha-rarefaction_insertion_10000.qzv\u001b[0m\n",
      "\u001b[0m"
     ]
    }
   ],
   "source": [
    "! qiime diversity alpha-rarefaction \\\n",
    "    --i-table $data_dir/dada2_table_align_filtered.qza \\\n",
    "    --i-phylogeny $data_dir/sepp-tree.qza \\\n",
    "    --p-max-depth 10000 \\\n",
    "    --m-metadata-file $data_dir/food-metadata.tsv\\\n",
    "    --o-visualization $data_dir/alpha-rarefaction_insertion_10000.qzv"
   ]
  },
  {
   "cell_type": "code",
   "execution_count": 5,
   "id": "3b82e4c8-ce58-485d-97db-227c93f5c392",
   "metadata": {},
   "outputs": [
    {
     "data": {
      "text/html": [
       "<div><img onload=\"(function(div, url){\n",
       "if (typeof require !== 'undefined') {\n",
       "    var baseURL = require.toUrl('').split('/').slice(0, -2).join('/');\n",
       "} else {\n",
       "    var baseURL = JSON.parse(\n",
       "        document.getElementById('jupyter-config-data').innerHTML\n",
       "    ).baseUrl.slice(0, -1);\n",
       "}\n",
       "url = baseURL + url;\n",
       "fetch(url).then(function(res) {\n",
       "    if (res.status === 404) {\n",
       "        div.innerHTML = 'Install QIIME 2 Jupyter extension with:<br />' +\n",
       "                        '<code>jupyter serverextension enable --py qiime2' +\n",
       "                        ' --sys-prefix</code><br />then restart your server.' +\n",
       "                        '<br /><br />(Interactive output not available on ' +\n",
       "                        'static notebook viewer services like nbviewer.)';\n",
       "    } else if (res.status === 409) {\n",
       "        div.innerHTML = 'Visualization no longer in scope. Re-run this cell' +\n",
       "                        ' to see the visualization.';\n",
       "    } else if (res.ok) {\n",
       "        url = res.url;\n",
       "        div.innerHTML = '<iframe src=\\'' + url + '\\' style=\\'' +\n",
       "                        'width: 100%; height: 700px; border: 0;\\'>' +\n",
       "                        '</iframe><hr />Open in a: <a href=\\'' + url + '\\'' +\n",
       "                        ' target=\\'_blank\\'>new window</a>'\n",
       "    } else {\n",
       "        div.innerHTML = 'Something has gone wrong. Check notebook server for' +\n",
       "                        ' errors.';\n",
       "    }\n",
       "});\n",
       "})(this.parentElement, '/qiime2/redirect?location=/tmp/qiime2-archive-_l6fsqh3')\" src=\"data:image/gif;base64,R0lGODlhAQABAIAAAP///wAAACH5BAEAAAAALAAAAAABAAEAAAICRAEAOw==\" /></div>"
      ],
      "text/plain": [
       "<visualization: Visualization uuid: 18202a81-4f32-4843-b6b1-264745313dad>"
      ]
     },
     "execution_count": 5,
     "metadata": {},
     "output_type": "execute_result"
    }
   ],
   "source": [
    "Visualization.load(f'{data_dir}/alpha-rarefaction_insertion_10000.qzv')"
   ]
  },
  {
   "cell_type": "markdown",
   "id": "94c9c508-f487-48b7-9419-e64ba16e1a66",
   "metadata": {},
   "source": [
    "--p-max-depth 50000"
   ]
  },
  {
   "cell_type": "code",
   "execution_count": 8,
   "id": "fce1a434-7731-48cf-b00a-21f984fbaa09",
   "metadata": {},
   "outputs": [
    {
     "name": "stdout",
     "output_type": "stream",
     "text": [
      "\u001b[32mSaved Visualization to: CE/alpha-rarefaction_insertion_50000.qzv\u001b[0m\n",
      "\u001b[0m"
     ]
    }
   ],
   "source": [
    "! qiime diversity alpha-rarefaction \\\n",
    "    --i-table $data_dir/dada2_table_align_filtered.qza \\\n",
    "    --i-phylogeny $data_dir/sepp-tree.qza \\\n",
    "    --p-max-depth 50000 \\\n",
    "    --m-metadata-file $data_dir/food-metadata.tsv\\\n",
    "    --o-visualization $data_dir/alpha-rarefaction_insertion_50000.qzv"
   ]
  },
  {
   "cell_type": "code",
   "execution_count": 9,
   "id": "31dabcb7-8e95-4b22-a47a-4f4d90f58574",
   "metadata": {},
   "outputs": [
    {
     "data": {
      "text/html": [
       "<div><img onload=\"(function(div, url){\n",
       "if (typeof require !== 'undefined') {\n",
       "    var baseURL = require.toUrl('').split('/').slice(0, -2).join('/');\n",
       "} else {\n",
       "    var baseURL = JSON.parse(\n",
       "        document.getElementById('jupyter-config-data').innerHTML\n",
       "    ).baseUrl.slice(0, -1);\n",
       "}\n",
       "url = baseURL + url;\n",
       "fetch(url).then(function(res) {\n",
       "    if (res.status === 404) {\n",
       "        div.innerHTML = 'Install QIIME 2 Jupyter extension with:<br />' +\n",
       "                        '<code>jupyter serverextension enable --py qiime2' +\n",
       "                        ' --sys-prefix</code><br />then restart your server.' +\n",
       "                        '<br /><br />(Interactive output not available on ' +\n",
       "                        'static notebook viewer services like nbviewer.)';\n",
       "    } else if (res.status === 409) {\n",
       "        div.innerHTML = 'Visualization no longer in scope. Re-run this cell' +\n",
       "                        ' to see the visualization.';\n",
       "    } else if (res.ok) {\n",
       "        url = res.url;\n",
       "        div.innerHTML = '<iframe src=\\'' + url + '\\' style=\\'' +\n",
       "                        'width: 100%; height: 700px; border: 0;\\'>' +\n",
       "                        '</iframe><hr />Open in a: <a href=\\'' + url + '\\'' +\n",
       "                        ' target=\\'_blank\\'>new window</a>'\n",
       "    } else {\n",
       "        div.innerHTML = 'Something has gone wrong. Check notebook server for' +\n",
       "                        ' errors.';\n",
       "    }\n",
       "});\n",
       "})(this.parentElement, '/qiime2/redirect?location=/tmp/qiime2-archive-18vadsyx')\" src=\"data:image/gif;base64,R0lGODlhAQABAIAAAP///wAAACH5BAEAAAAALAAAAAABAAEAAAICRAEAOw==\" /></div>"
      ],
      "text/plain": [
       "<visualization: Visualization uuid: 05b66370-f55c-4e24-9666-796ee5c4eb2f>"
      ]
     },
     "execution_count": 9,
     "metadata": {},
     "output_type": "execute_result"
    }
   ],
   "source": [
    "Visualization.load(f'{data_dir}/alpha-rarefaction_insertion_50000.qzv')"
   ]
  },
  {
   "cell_type": "markdown",
   "id": "3690a465-198e-4e08-bdc4-0ed3c7bf1ac2",
   "metadata": {},
   "source": [
    "**Observation:** 12'000 seems to be a good rarefaction depth also double checking using these two different max depths."
   ]
  },
  {
   "cell_type": "markdown",
   "id": "cd1d26b9-e0ef-40c8-9033-4507d8d7ce90",
   "metadata": {},
   "source": [
    "### 5)"
   ]
  },
  {
   "cell_type": "markdown",
   "id": "59401467-6c5e-4133-a21d-8ad55f0acfd5",
   "metadata": {},
   "source": [
    "## Diversity analysis"
   ]
  },
  {
   "cell_type": "markdown",
   "id": "10ec403b-496e-4919-b70e-54d23e19ae04",
   "metadata": {},
   "source": [
    "## Alpha diversity"
   ]
  },
  {
   "cell_type": "markdown",
   "id": "f94c1b6e-5328-474e-aa73-45cf509a4248",
   "metadata": {},
   "source": [
    "Sequencing depth of 12000 for rarefaction: now let's have a look at the whitin-sample diversity (= alpha div.) Done for fragment-insertion tree."
   ]
  },
  {
   "cell_type": "code",
   "execution_count": 4,
   "id": "3b8fcd33-800c-4b0c-91cf-65cd5dc2135f",
   "metadata": {},
   "outputs": [
    {
     "name": "stdout",
     "output_type": "stream",
     "text": [
      "\u001b[32mSaved FeatureTable[Frequency] to: CE/core-metrics-results_insertion_12000/rarefied_table.qza\u001b[0m\n",
      "\u001b[32mSaved SampleData[AlphaDiversity] to: CE/core-metrics-results_insertion_12000/faith_pd_vector.qza\u001b[0m\n",
      "\u001b[32mSaved SampleData[AlphaDiversity] to: CE/core-metrics-results_insertion_12000/observed_features_vector.qza\u001b[0m\n",
      "\u001b[32mSaved SampleData[AlphaDiversity] to: CE/core-metrics-results_insertion_12000/shannon_vector.qza\u001b[0m\n",
      "\u001b[32mSaved SampleData[AlphaDiversity] to: CE/core-metrics-results_insertion_12000/evenness_vector.qza\u001b[0m\n",
      "\u001b[32mSaved DistanceMatrix to: CE/core-metrics-results_insertion_12000/unweighted_unifrac_distance_matrix.qza\u001b[0m\n",
      "\u001b[32mSaved DistanceMatrix to: CE/core-metrics-results_insertion_12000/weighted_unifrac_distance_matrix.qza\u001b[0m\n",
      "\u001b[32mSaved DistanceMatrix to: CE/core-metrics-results_insertion_12000/jaccard_distance_matrix.qza\u001b[0m\n",
      "\u001b[32mSaved DistanceMatrix to: CE/core-metrics-results_insertion_12000/bray_curtis_distance_matrix.qza\u001b[0m\n",
      "\u001b[32mSaved PCoAResults to: CE/core-metrics-results_insertion_12000/unweighted_unifrac_pcoa_results.qza\u001b[0m\n",
      "\u001b[32mSaved PCoAResults to: CE/core-metrics-results_insertion_12000/weighted_unifrac_pcoa_results.qza\u001b[0m\n",
      "\u001b[32mSaved PCoAResults to: CE/core-metrics-results_insertion_12000/jaccard_pcoa_results.qza\u001b[0m\n",
      "\u001b[32mSaved PCoAResults to: CE/core-metrics-results_insertion_12000/bray_curtis_pcoa_results.qza\u001b[0m\n",
      "\u001b[32mSaved Visualization to: CE/core-metrics-results_insertion_12000/unweighted_unifrac_emperor.qzv\u001b[0m\n",
      "\u001b[32mSaved Visualization to: CE/core-metrics-results_insertion_12000/weighted_unifrac_emperor.qzv\u001b[0m\n",
      "\u001b[32mSaved Visualization to: CE/core-metrics-results_insertion_12000/jaccard_emperor.qzv\u001b[0m\n",
      "\u001b[32mSaved Visualization to: CE/core-metrics-results_insertion_12000/bray_curtis_emperor.qzv\u001b[0m\n",
      "\u001b[0m"
     ]
    }
   ],
   "source": [
    "! qiime diversity core-metrics-phylogenetic \\\n",
    "  --i-table $data_dir/dada2_table_align_filtered.qza \\\n",
    "  --i-phylogeny $data_dir/sepp-tree.qza \\\n",
    "  --m-metadata-file $data_dir/food-metadata.tsv \\\n",
    "  --p-sampling-depth 12000 \\\n",
    "  --output-dir $data_dir/core-metrics-results_insertion_12000"
   ]
  },
  {
   "cell_type": "markdown",
   "id": "88b15e04-34b7-466c-8815-9014df69c436",
   "metadata": {},
   "source": [
    "### 6)"
   ]
  },
  {
   "cell_type": "code",
   "execution_count": 5,
   "id": "1b467107-6495-4835-b80f-854f35feccbe",
   "metadata": {},
   "outputs": [
    {
     "name": "stdout",
     "output_type": "stream",
     "text": [
      "\u001b[32mSaved Visualization to: CE/core-metrics-results_insertion_12000/faith-pd-group-significance.qzv\u001b[0m\n",
      "\u001b[0m"
     ]
    }
   ],
   "source": [
    "! qiime diversity alpha-group-significance \\\n",
    "  --i-alpha-diversity $data_dir/core-metrics-results_insertion_12000/faith_pd_vector.qza \\\n",
    "  --m-metadata-file $data_dir/food-metadata.tsv \\\n",
    "  --o-visualization $data_dir/core-metrics-results_insertion_12000/faith-pd-group-significance.qzv"
   ]
  },
  {
   "cell_type": "code",
   "execution_count": 6,
   "id": "ff4c8fc7-189a-4fff-99e8-4495da24d1cb",
   "metadata": {},
   "outputs": [
    {
     "data": {
      "text/html": [
       "<div><img onload=\"(function(div, url){\n",
       "if (typeof require !== 'undefined') {\n",
       "    var baseURL = require.toUrl('').split('/').slice(0, -2).join('/');\n",
       "} else {\n",
       "    var baseURL = JSON.parse(\n",
       "        document.getElementById('jupyter-config-data').innerHTML\n",
       "    ).baseUrl.slice(0, -1);\n",
       "}\n",
       "url = baseURL + url;\n",
       "fetch(url).then(function(res) {\n",
       "    if (res.status === 404) {\n",
       "        div.innerHTML = 'Install QIIME 2 Jupyter extension with:<br />' +\n",
       "                        '<code>jupyter serverextension enable --py qiime2' +\n",
       "                        ' --sys-prefix</code><br />then restart your server.' +\n",
       "                        '<br /><br />(Interactive output not available on ' +\n",
       "                        'static notebook viewer services like nbviewer.)';\n",
       "    } else if (res.status === 409) {\n",
       "        div.innerHTML = 'Visualization no longer in scope. Re-run this cell' +\n",
       "                        ' to see the visualization.';\n",
       "    } else if (res.ok) {\n",
       "        url = res.url;\n",
       "        div.innerHTML = '<iframe src=\\'' + url + '\\' style=\\'' +\n",
       "                        'width: 100%; height: 700px; border: 0;\\'>' +\n",
       "                        '</iframe><hr />Open in a: <a href=\\'' + url + '\\'' +\n",
       "                        ' target=\\'_blank\\'>new window</a>'\n",
       "    } else {\n",
       "        div.innerHTML = 'Something has gone wrong. Check notebook server for' +\n",
       "                        ' errors.';\n",
       "    }\n",
       "});\n",
       "})(this.parentElement, '/qiime2/redirect?location=/tmp/qiime2-archive-m5t3mvqi')\" src=\"data:image/gif;base64,R0lGODlhAQABAIAAAP///wAAACH5BAEAAAAALAAAAAABAAEAAAICRAEAOw==\" /></div>"
      ],
      "text/plain": [
       "<visualization: Visualization uuid: b666216f-7507-4a72-91a4-03c56417d2f4>"
      ]
     },
     "execution_count": 6,
     "metadata": {},
     "output_type": "execute_result"
    }
   ],
   "source": [
    "Visualization.load(f'{data_dir}/core-metrics-results_insertion_12000/faith-pd-group-significance.qzv')"
   ]
  },
  {
   "cell_type": "markdown",
   "id": "f073ad0c-d239-4970-b0e3-86507086a4d2",
   "metadata": {},
   "source": [
    "### 7)"
   ]
  },
  {
   "cell_type": "code",
   "execution_count": 7,
   "id": "0ef62baa-401d-46cb-b474-40958f67bf81",
   "metadata": {},
   "outputs": [
    {
     "name": "stdout",
     "output_type": "stream",
     "text": [
      "\u001b[32mSaved Visualization to: CE/core-metrics-results_insertion_12000/faith-pd-group-significance-numeric.qzv\u001b[0m\n",
      "\u001b[0m"
     ]
    }
   ],
   "source": [
    "! qiime diversity alpha-correlation \\\n",
    "  --i-alpha-diversity $data_dir/core-metrics-results_insertion_12000/faith_pd_vector.qza \\\n",
    "  --m-metadata-file $data_dir/food-metadata.tsv \\\n",
    "  --o-visualization $data_dir/core-metrics-results_insertion_12000/faith-pd-group-significance-numeric.qzv"
   ]
  },
  {
   "cell_type": "code",
   "execution_count": 11,
   "id": "13e492c1-7838-4862-8033-d9567fc38b4e",
   "metadata": {},
   "outputs": [
    {
     "data": {
      "text/html": [
       "<div><img onload=\"(function(div, url){\n",
       "if (typeof require !== 'undefined') {\n",
       "    var baseURL = require.toUrl('').split('/').slice(0, -2).join('/');\n",
       "} else {\n",
       "    var baseURL = JSON.parse(\n",
       "        document.getElementById('jupyter-config-data').innerHTML\n",
       "    ).baseUrl.slice(0, -1);\n",
       "}\n",
       "url = baseURL + url;\n",
       "fetch(url).then(function(res) {\n",
       "    if (res.status === 404) {\n",
       "        div.innerHTML = 'Install QIIME 2 Jupyter extension with:<br />' +\n",
       "                        '<code>jupyter serverextension enable --py qiime2' +\n",
       "                        ' --sys-prefix</code><br />then restart your server.' +\n",
       "                        '<br /><br />(Interactive output not available on ' +\n",
       "                        'static notebook viewer services like nbviewer.)';\n",
       "    } else if (res.status === 409) {\n",
       "        div.innerHTML = 'Visualization no longer in scope. Re-run this cell' +\n",
       "                        ' to see the visualization.';\n",
       "    } else if (res.ok) {\n",
       "        url = res.url;\n",
       "        div.innerHTML = '<iframe src=\\'' + url + '\\' style=\\'' +\n",
       "                        'width: 100%; height: 700px; border: 0;\\'>' +\n",
       "                        '</iframe><hr />Open in a: <a href=\\'' + url + '\\'' +\n",
       "                        ' target=\\'_blank\\'>new window</a>'\n",
       "    } else {\n",
       "        div.innerHTML = 'Something has gone wrong. Check notebook server for' +\n",
       "                        ' errors.';\n",
       "    }\n",
       "});\n",
       "})(this.parentElement, '/qiime2/redirect?location=/tmp/qiime2-archive-gz9t9izz')\" src=\"data:image/gif;base64,R0lGODlhAQABAIAAAP///wAAACH5BAEAAAAALAAAAAABAAEAAAICRAEAOw==\" /></div>"
      ],
      "text/plain": [
       "<visualization: Visualization uuid: eb2de2af-9b74-4497-8e1e-9993bfbd15e1>"
      ]
     },
     "execution_count": 11,
     "metadata": {},
     "output_type": "execute_result"
    }
   ],
   "source": [
    "Visualization.load(f'{data_dir}/core-metrics-results_insertion_12000/faith-pd-group-significance-numeric.qzv')"
   ]
  },
  {
   "cell_type": "markdown",
   "id": "44dd9f15-2161-4a15-9211-b09e7a5fbf5c",
   "metadata": {},
   "source": [
    "I feel like this correlation thing isn't necessary....\n",
    "->> should try ANOVA q2-longitudinal? are assumptions correct tho?"
   ]
  },
  {
   "cell_type": "markdown",
   "id": "6edadc08-6d1d-49b8-b3a2-d2a75e3e78b8",
   "metadata": {},
   "source": [
    "### 8)"
   ]
  },
  {
   "cell_type": "markdown",
   "id": "9eecaf4a-5562-4883-a535-28e4c96471ca",
   "metadata": {},
   "source": [
    "#### PANDAS fun"
   ]
  },
  {
   "cell_type": "code",
   "execution_count": 15,
   "id": "85fe994c-d24f-4c10-9203-d5d0cddf1a5e",
   "metadata": {},
   "outputs": [],
   "source": [
    "art = q2.Artifact.load(os.path.join(data_dir, 'core-metrics-results_insertion_12000/faith_pd_vector.qza')).view(pd.Series)\n",
    "md = pd.read_csv(os.path.join(data_dir, 'food-metadata.tsv'), sep='\\t', index_col=0)['rindtype']"
   ]
  },
  {
   "cell_type": "code",
   "execution_count": 16,
   "id": "6ca639fa-06a5-42ae-8965-de10cbeb9a03",
   "metadata": {
    "tags": []
   },
   "outputs": [
    {
     "data": {
      "text/html": [
       "<div>\n",
       "<style scoped>\n",
       "    .dataframe tbody tr th:only-of-type {\n",
       "        vertical-align: middle;\n",
       "    }\n",
       "\n",
       "    .dataframe tbody tr th {\n",
       "        vertical-align: top;\n",
       "    }\n",
       "\n",
       "    .dataframe thead th {\n",
       "        text-align: right;\n",
       "    }\n",
       "</style>\n",
       "<table border=\"1\" class=\"dataframe\">\n",
       "  <thead>\n",
       "    <tr style=\"text-align: right;\">\n",
       "      <th></th>\n",
       "      <th>faith_pd</th>\n",
       "      <th>rindtype</th>\n",
       "    </tr>\n",
       "  </thead>\n",
       "  <tbody>\n",
       "    <tr>\n",
       "      <th>11488.CSB280</th>\n",
       "      <td>9.111393</td>\n",
       "      <td>natural</td>\n",
       "    </tr>\n",
       "    <tr>\n",
       "      <th>11488.CSB281</th>\n",
       "      <td>10.492586</td>\n",
       "      <td>natural</td>\n",
       "    </tr>\n",
       "    <tr>\n",
       "      <th>11488.CSB282</th>\n",
       "      <td>9.983138</td>\n",
       "      <td>natural</td>\n",
       "    </tr>\n",
       "    <tr>\n",
       "      <th>11488.CSB290</th>\n",
       "      <td>4.539658</td>\n",
       "      <td>washed</td>\n",
       "    </tr>\n",
       "    <tr>\n",
       "      <th>11488.CSB292</th>\n",
       "      <td>3.130709</td>\n",
       "      <td>washed</td>\n",
       "    </tr>\n",
       "    <tr>\n",
       "      <th>...</th>\n",
       "      <td>...</td>\n",
       "      <td>...</td>\n",
       "    </tr>\n",
       "    <tr>\n",
       "      <th>11488.CSB980</th>\n",
       "      <td>8.061571</td>\n",
       "      <td>natural</td>\n",
       "    </tr>\n",
       "    <tr>\n",
       "      <th>11488.CSB981</th>\n",
       "      <td>6.614198</td>\n",
       "      <td>natural</td>\n",
       "    </tr>\n",
       "    <tr>\n",
       "      <th>11488.CSB984</th>\n",
       "      <td>10.555242</td>\n",
       "      <td>natural</td>\n",
       "    </tr>\n",
       "    <tr>\n",
       "      <th>11488.CSB985</th>\n",
       "      <td>11.277596</td>\n",
       "      <td>washed</td>\n",
       "    </tr>\n",
       "    <tr>\n",
       "      <th>11488.CSB986</th>\n",
       "      <td>10.604778</td>\n",
       "      <td>washed</td>\n",
       "    </tr>\n",
       "  </tbody>\n",
       "</table>\n",
       "<p>337 rows × 2 columns</p>\n",
       "</div>"
      ],
      "text/plain": [
       "               faith_pd rindtype\n",
       "11488.CSB280   9.111393  natural\n",
       "11488.CSB281  10.492586  natural\n",
       "11488.CSB282   9.983138  natural\n",
       "11488.CSB290   4.539658   washed\n",
       "11488.CSB292   3.130709   washed\n",
       "...                 ...      ...\n",
       "11488.CSB980   8.061571  natural\n",
       "11488.CSB981   6.614198  natural\n",
       "11488.CSB984  10.555242  natural\n",
       "11488.CSB985  11.277596   washed\n",
       "11488.CSB986  10.604778   washed\n",
       "\n",
       "[337 rows x 2 columns]"
      ]
     },
     "execution_count": 16,
     "metadata": {},
     "output_type": "execute_result"
    }
   ],
   "source": [
    "pd.concat([art, md], join = 'inner', axis = 1)"
   ]
  },
  {
   "cell_type": "code",
   "execution_count": 17,
   "id": "1caf1dd5-5246-4c76-82f1-2180ce678de4",
   "metadata": {},
   "outputs": [],
   "source": [
    "#no change, same rows and columns\n",
    "artmd = pd.concat([art, md], join = 'inner', axis = 1).dropna()"
   ]
  },
  {
   "cell_type": "code",
   "execution_count": 18,
   "id": "c010c32f-e80f-44f5-ae26-50220ba36c2c",
   "metadata": {
    "tags": []
   },
   "outputs": [
    {
     "data": {
      "text/plain": [
       "Text(0.5, 0, 'Rind Type')"
      ]
     },
     "execution_count": 18,
     "metadata": {},
     "output_type": "execute_result"
    },
    {
     "data": {
      "image/png": "[encoded data removed]",
      "text/plain": [
       "<Figure size 432x288 with 1 Axes>"
      ]
     },
     "metadata": {
      "needs_background": "light"
     },
     "output_type": "display_data"
    }
   ],
   "source": [
    "artmd.boxplot(by = 'rindtype', rot=90, grid = False)\n",
    "plt.ylabel('Faith PD')\n",
    "plt.xlabel('Rind Type')"
   ]
  },
  {
   "cell_type": "markdown",
   "id": "351abf1e-ebce-4377-b643-9fd3b734efe6",
   "metadata": {},
   "source": [
    "---"
   ]
  },
  {
   "cell_type": "markdown",
   "id": "e710e1eb-1902-4d9e-89e1-057140625764",
   "metadata": {},
   "source": [
    "## Beta diversity"
   ]
  },
  {
   "cell_type": "markdown",
   "id": "ddd7474c-b94d-4139-83f0-b40513ef9453",
   "metadata": {},
   "source": [
    "Beta diversity measures the similarity between samples or groups of samples."
   ]
  },
  {
   "cell_type": "markdown",
   "id": "e359de46-b0f3-4e1e-afc1-b36efd68cc7d",
   "metadata": {},
   "source": [
    "Analyse beta diversity from core-metrics-phylogenetic action. Inspect unweighted_unifrac_emperor.qzv:"
   ]
  },
  {
   "cell_type": "markdown",
   "id": "4cde4d1f-1be3-48dc-b828-3c1e8e7e9186",
   "metadata": {},
   "source": [
    "Some clustering according to rindtype. But no clear clustering."
   ]
  },
  {
   "cell_type": "markdown",
   "id": "c5c80f59-0489-4525-ab29-f7c79399b160",
   "metadata": {},
   "source": [
    "#### Unweighted UniFrac"
   ]
  },
  {
   "cell_type": "code",
   "execution_count": 14,
   "id": "be924709-ea6d-40b3-b7f7-2e625c8816aa",
   "metadata": {
    "collapsed": true,
    "jupyter": {
     "outputs_hidden": true
    },
    "tags": []
   },
   "outputs": [
    {
     "data": {
      "text/html": [
       "<div><img onload=\"(function(div, url){\n",
       "if (typeof require !== 'undefined') {\n",
       "    var baseURL = require.toUrl('').split('/').slice(0, -2).join('/');\n",
       "} else {\n",
       "    var baseURL = JSON.parse(\n",
       "        document.getElementById('jupyter-config-data').innerHTML\n",
       "    ).baseUrl.slice(0, -1);\n",
       "}\n",
       "url = baseURL + url;\n",
       "fetch(url).then(function(res) {\n",
       "    if (res.status === 404) {\n",
       "        div.innerHTML = 'Install QIIME 2 Jupyter extension with:<br />' +\n",
       "                        '<code>jupyter serverextension enable --py qiime2' +\n",
       "                        ' --sys-prefix</code><br />then restart your server.' +\n",
       "                        '<br /><br />(Interactive output not available on ' +\n",
       "                        'static notebook viewer services like nbviewer.)';\n",
       "    } else if (res.status === 409) {\n",
       "        div.innerHTML = 'Visualization no longer in scope. Re-run this cell' +\n",
       "                        ' to see the visualization.';\n",
       "    } else if (res.ok) {\n",
       "        url = res.url;\n",
       "        div.innerHTML = '<iframe src=\\'' + url + '\\' style=\\'' +\n",
       "                        'width: 100%; height: 700px; border: 0;\\'>' +\n",
       "                        '</iframe><hr />Open in a: <a href=\\'' + url + '\\'' +\n",
       "                        ' target=\\'_blank\\'>new window</a>'\n",
       "    } else {\n",
       "        div.innerHTML = 'Something has gone wrong. Check notebook server for' +\n",
       "                        ' errors.';\n",
       "    }\n",
       "});\n",
       "})(this.parentElement, '/qiime2/redirect?location=/tmp/qiime2-archive-uq737o8m')\" src=\"data:image/gif;base64,R0lGODlhAQABAIAAAP///wAAACH5BAEAAAAALAAAAAABAAEAAAICRAEAOw==\" /></div>"
      ],
      "text/plain": [
       "<visualization: Visualization uuid: a2b6d310-3dc4-4b74-b5e1-5dca1757868a>"
      ]
     },
     "execution_count": 14,
     "metadata": {},
     "output_type": "execute_result"
    }
   ],
   "source": [
    "Visualization.load(f'{data_dir}/core-metrics-results_insertion_12000/unweighted_unifrac_emperor.qzv')"
   ]
  },
  {
   "cell_type": "markdown",
   "id": "96d149c9-9637-4882-9b36-e775465ca674",
   "metadata": {},
   "source": [
    "#### Jaccard"
   ]
  },
  {
   "cell_type": "code",
   "execution_count": 3,
   "id": "d3e3be12-1297-4417-a7a0-eb77ad0ade74",
   "metadata": {},
   "outputs": [
    {
     "data": {
      "text/html": [
       "<div><img onload=\"(function(div, url){\n",
       "if (typeof require !== 'undefined') {\n",
       "    var baseURL = require.toUrl('').split('/').slice(0, -2).join('/');\n",
       "} else {\n",
       "    var baseURL = JSON.parse(\n",
       "        document.getElementById('jupyter-config-data').innerHTML\n",
       "    ).baseUrl.slice(0, -1);\n",
       "}\n",
       "url = baseURL + url;\n",
       "fetch(url).then(function(res) {\n",
       "    if (res.status === 404) {\n",
       "        div.innerHTML = 'Install QIIME 2 Jupyter extension with:<br />' +\n",
       "                        '<code>jupyter serverextension enable --py qiime2' +\n",
       "                        ' --sys-prefix</code><br />then restart your server.' +\n",
       "                        '<br /><br />(Interactive output not available on ' +\n",
       "                        'static notebook viewer services like nbviewer.)';\n",
       "    } else if (res.status === 409) {\n",
       "        div.innerHTML = 'Visualization no longer in scope. Re-run this cell' +\n",
       "                        ' to see the visualization.';\n",
       "    } else if (res.ok) {\n",
       "        url = res.url;\n",
       "        div.innerHTML = '<iframe src=\\'' + url + '\\' style=\\'' +\n",
       "                        'width: 100%; height: 700px; border: 0;\\'>' +\n",
       "                        '</iframe><hr />Open in a: <a href=\\'' + url + '\\'' +\n",
       "                        ' target=\\'_blank\\'>new window</a>'\n",
       "    } else {\n",
       "        div.innerHTML = 'Something has gone wrong. Check notebook server for' +\n",
       "                        ' errors.';\n",
       "    }\n",
       "});\n",
       "})(this.parentElement, '/qiime2/redirect?location=/tmp/qiime2-archive-ypz2rwp0')\" src=\"data:image/gif;base64,R0lGODlhAQABAIAAAP///wAAACH5BAEAAAAALAAAAAABAAEAAAICRAEAOw==\" /></div>"
      ],
      "text/plain": [
       "<visualization: Visualization uuid: 029aa592-6da7-47a0-b555-69b4699a25a6>"
      ]
     },
     "execution_count": 3,
     "metadata": {},
     "output_type": "execute_result"
    }
   ],
   "source": [
    "Visualization.load(f'{data_dir}/core-metrics-results_insertion_12000/jaccard_emperor.qzv')"
   ]
  },
  {
   "cell_type": "markdown",
   "id": "a8d73e98-2ea9-46c7-ad79-fc96c72e1c6d",
   "metadata": {},
   "source": [
    "#### Weighted UniFrac"
   ]
  },
  {
   "cell_type": "code",
   "execution_count": 4,
   "id": "1464b263-74aa-4163-930e-359d9802b6c6",
   "metadata": {},
   "outputs": [
    {
     "data": {
      "text/html": [
       "<div><img onload=\"(function(div, url){\n",
       "if (typeof require !== 'undefined') {\n",
       "    var baseURL = require.toUrl('').split('/').slice(0, -2).join('/');\n",
       "} else {\n",
       "    var baseURL = JSON.parse(\n",
       "        document.getElementById('jupyter-config-data').innerHTML\n",
       "    ).baseUrl.slice(0, -1);\n",
       "}\n",
       "url = baseURL + url;\n",
       "fetch(url).then(function(res) {\n",
       "    if (res.status === 404) {\n",
       "        div.innerHTML = 'Install QIIME 2 Jupyter extension with:<br />' +\n",
       "                        '<code>jupyter serverextension enable --py qiime2' +\n",
       "                        ' --sys-prefix</code><br />then restart your server.' +\n",
       "                        '<br /><br />(Interactive output not available on ' +\n",
       "                        'static notebook viewer services like nbviewer.)';\n",
       "    } else if (res.status === 409) {\n",
       "        div.innerHTML = 'Visualization no longer in scope. Re-run this cell' +\n",
       "                        ' to see the visualization.';\n",
       "    } else if (res.ok) {\n",
       "        url = res.url;\n",
       "        div.innerHTML = '<iframe src=\\'' + url + '\\' style=\\'' +\n",
       "                        'width: 100%; height: 700px; border: 0;\\'>' +\n",
       "                        '</iframe><hr />Open in a: <a href=\\'' + url + '\\'' +\n",
       "                        ' target=\\'_blank\\'>new window</a>'\n",
       "    } else {\n",
       "        div.innerHTML = 'Something has gone wrong. Check notebook server for' +\n",
       "                        ' errors.';\n",
       "    }\n",
       "});\n",
       "})(this.parentElement, '/qiime2/redirect?location=/tmp/qiime2-archive-c0s9vnlz')\" src=\"data:image/gif;base64,R0lGODlhAQABAIAAAP///wAAACH5BAEAAAAALAAAAAABAAEAAAICRAEAOw==\" /></div>"
      ],
      "text/plain": [
       "<visualization: Visualization uuid: 33c9fd9e-be19-4adc-8bed-d67e0f7ec23c>"
      ]
     },
     "execution_count": 4,
     "metadata": {},
     "output_type": "execute_result"
    }
   ],
   "source": [
    "Visualization.load(f'{data_dir}/core-metrics-results_insertion_12000/weighted_unifrac_emperor.qzv')"
   ]
  },
  {
   "cell_type": "markdown",
   "id": "b2b5dfe9-1e1c-4934-aa35-617ced808cd6",
   "metadata": {},
   "source": [
    "#### Bray-Curtis"
   ]
  },
  {
   "cell_type": "code",
   "execution_count": 6,
   "id": "06bf761e-40c1-46a4-b796-0472ccc10f76",
   "metadata": {},
   "outputs": [
    {
     "data": {
      "text/html": [
       "<div><img onload=\"(function(div, url){\n",
       "if (typeof require !== 'undefined') {\n",
       "    var baseURL = require.toUrl('').split('/').slice(0, -2).join('/');\n",
       "} else {\n",
       "    var baseURL = JSON.parse(\n",
       "        document.getElementById('jupyter-config-data').innerHTML\n",
       "    ).baseUrl.slice(0, -1);\n",
       "}\n",
       "url = baseURL + url;\n",
       "fetch(url).then(function(res) {\n",
       "    if (res.status === 404) {\n",
       "        div.innerHTML = 'Install QIIME 2 Jupyter extension with:<br />' +\n",
       "                        '<code>jupyter serverextension enable --py qiime2' +\n",
       "                        ' --sys-prefix</code><br />then restart your server.' +\n",
       "                        '<br /><br />(Interactive output not available on ' +\n",
       "                        'static notebook viewer services like nbviewer.)';\n",
       "    } else if (res.status === 409) {\n",
       "        div.innerHTML = 'Visualization no longer in scope. Re-run this cell' +\n",
       "                        ' to see the visualization.';\n",
       "    } else if (res.ok) {\n",
       "        url = res.url;\n",
       "        div.innerHTML = '<iframe src=\\'' + url + '\\' style=\\'' +\n",
       "                        'width: 100%; height: 700px; border: 0;\\'>' +\n",
       "                        '</iframe><hr />Open in a: <a href=\\'' + url + '\\'' +\n",
       "                        ' target=\\'_blank\\'>new window</a>'\n",
       "    } else {\n",
       "        div.innerHTML = 'Something has gone wrong. Check notebook server for' +\n",
       "                        ' errors.';\n",
       "    }\n",
       "});\n",
       "})(this.parentElement, '/qiime2/redirect?location=/tmp/qiime2-archive-bf9qscqg')\" src=\"data:image/gif;base64,R0lGODlhAQABAIAAAP///wAAACH5BAEAAAAALAAAAAABAAEAAAICRAEAOw==\" /></div>"
      ],
      "text/plain": [
       "<visualization: Visualization uuid: 52f7557d-ef68-416b-881c-3b3e626391ed>"
      ]
     },
     "execution_count": 6,
     "metadata": {},
     "output_type": "execute_result"
    }
   ],
   "source": [
    "Visualization.load(f'{data_dir}/core-metrics-results_insertion_12000/bray_curtis_emperor.qzv')"
   ]
  },
  {
   "cell_type": "markdown",
   "id": "be06040d-c059-47fd-851b-ef17a22d9707",
   "metadata": {},
   "source": [
    "### PERMANOVA test\n",
    "Statistical testing of associations between beta diversity and categorical variables.\n",
    "We perform a PERMANOVA test checking whether the observed categories are significantly grouped in QIIME 2 with the qiime diversity beta-group-significance method."
   ]
  },
  {
   "cell_type": "markdown",
   "id": "e96124f1-3828-40e4-a834-9ca9f0274ae5",
   "metadata": {},
   "source": [
    "Inspect the beta diversity metrics of rindtype groupings:"
   ]
  },
  {
   "cell_type": "markdown",
   "id": "9b38b678-b208-473d-ac1a-49c2d3eb1423",
   "metadata": {},
   "source": [
    "Result: Distances between samples in groups are significantly different from the distance between samples from the other groups as the p-values are all 0.001."
   ]
  },
  {
   "cell_type": "code",
   "execution_count": 19,
   "id": "bf416744-7bf6-4538-84e4-6495086f0124",
   "metadata": {},
   "outputs": [
    {
     "name": "stdout",
     "output_type": "stream",
     "text": [
      "\u001b[32mSaved Visualization to: CE/core-metrics-results_insertion_12000/uw_unifrac-rindtype-significance.qzv\u001b[0m\n",
      "\u001b[0m"
     ]
    }
   ],
   "source": [
    "! qiime diversity beta-group-significance \\\n",
    "    --i-distance-matrix $data_dir/core-metrics-results_insertion_12000/unweighted_unifrac_distance_matrix.qza \\\n",
    "    --m-metadata-file $data_dir/food-metadata.tsv \\\n",
    "    --m-metadata-column rindtype \\\n",
    "    --p-pairwise \\\n",
    "    --o-visualization $data_dir/core-metrics-results_insertion_12000/uw_unifrac-rindtype-significance.qzv"
   ]
  },
  {
   "cell_type": "code",
   "execution_count": 20,
   "id": "c0acbb83-59b7-4a90-a059-92f9bd66aeed",
   "metadata": {},
   "outputs": [
    {
     "data": {
      "text/html": [
       "<div><img onload=\"(function(div, url){\n",
       "if (typeof require !== 'undefined') {\n",
       "    var baseURL = require.toUrl('').split('/').slice(0, -2).join('/');\n",
       "} else {\n",
       "    var baseURL = JSON.parse(\n",
       "        document.getElementById('jupyter-config-data').innerHTML\n",
       "    ).baseUrl.slice(0, -1);\n",
       "}\n",
       "url = baseURL + url;\n",
       "fetch(url).then(function(res) {\n",
       "    if (res.status === 404) {\n",
       "        div.innerHTML = 'Install QIIME 2 Jupyter extension with:<br />' +\n",
       "                        '<code>jupyter serverextension enable --py qiime2' +\n",
       "                        ' --sys-prefix</code><br />then restart your server.' +\n",
       "                        '<br /><br />(Interactive output not available on ' +\n",
       "                        'static notebook viewer services like nbviewer.)';\n",
       "    } else if (res.status === 409) {\n",
       "        div.innerHTML = 'Visualization no longer in scope. Re-run this cell' +\n",
       "                        ' to see the visualization.';\n",
       "    } else if (res.ok) {\n",
       "        url = res.url;\n",
       "        div.innerHTML = '<iframe src=\\'' + url + '\\' style=\\'' +\n",
       "                        'width: 100%; height: 700px; border: 0;\\'>' +\n",
       "                        '</iframe><hr />Open in a: <a href=\\'' + url + '\\'' +\n",
       "                        ' target=\\'_blank\\'>new window</a>'\n",
       "    } else {\n",
       "        div.innerHTML = 'Something has gone wrong. Check notebook server for' +\n",
       "                        ' errors.';\n",
       "    }\n",
       "});\n",
       "})(this.parentElement, '/qiime2/redirect?location=/tmp/qiime2-archive-09omy5z_')\" src=\"data:image/gif;base64,R0lGODlhAQABAIAAAP///wAAACH5BAEAAAAALAAAAAABAAEAAAICRAEAOw==\" /></div>"
      ],
      "text/plain": [
       "<visualization: Visualization uuid: 5dd44b9b-0dc0-4f31-8502-6f40fbdf7432>"
      ]
     },
     "execution_count": 20,
     "metadata": {},
     "output_type": "execute_result"
    }
   ],
   "source": [
    "Visualization.load(f'{data_dir}/core-metrics-results_insertion_12000/uw_unifrac-rindtype-significance.qzv')"
   ]
  },
  {
   "cell_type": "markdown",
   "id": "8394d8d7-42b5-460f-aaed-ae294a7f6e41",
   "metadata": {},
   "source": [
    "Inspect the beta diversity metrics of continent groupings:"
   ]
  },
  {
   "cell_type": "markdown",
   "id": "dd951046-f931-4af2-ad8f-16bd270a4072",
   "metadata": {},
   "source": [
    "Result: "
   ]
  },
  {
   "cell_type": "code",
   "execution_count": 21,
   "id": "7088fd8a-e89f-4ee4-a754-64fbd9d68c71",
   "metadata": {},
   "outputs": [
    {
     "name": "stdout",
     "output_type": "stream",
     "text": [
      "\u001b[32mSaved Visualization to: CE/core-metrics-results_insertion_12000/uw_unifrac-continent-significance.qzv\u001b[0m\n",
      "\u001b[0m"
     ]
    }
   ],
   "source": [
    "! qiime diversity beta-group-significance \\\n",
    "    --i-distance-matrix $data_dir/core-metrics-results_insertion_12000/unweighted_unifrac_distance_matrix.qza \\\n",
    "    --m-metadata-file $data_dir/food-metadata.tsv \\\n",
    "    --m-metadata-column continent \\\n",
    "    --p-pairwise \\\n",
    "    --o-visualization $data_dir/core-metrics-results_insertion_12000/uw_unifrac-continent-significance.qzv"
   ]
  },
  {
   "cell_type": "code",
   "execution_count": 22,
   "id": "5a1b6c6f-9efe-4ca9-80b6-983cc20f450c",
   "metadata": {},
   "outputs": [
    {
     "data": {
      "text/html": [
       "<div><img onload=\"(function(div, url){\n",
       "if (typeof require !== 'undefined') {\n",
       "    var baseURL = require.toUrl('').split('/').slice(0, -2).join('/');\n",
       "} else {\n",
       "    var baseURL = JSON.parse(\n",
       "        document.getElementById('jupyter-config-data').innerHTML\n",
       "    ).baseUrl.slice(0, -1);\n",
       "}\n",
       "url = baseURL + url;\n",
       "fetch(url).then(function(res) {\n",
       "    if (res.status === 404) {\n",
       "        div.innerHTML = 'Install QIIME 2 Jupyter extension with:<br />' +\n",
       "                        '<code>jupyter serverextension enable --py qiime2' +\n",
       "                        ' --sys-prefix</code><br />then restart your server.' +\n",
       "                        '<br /><br />(Interactive output not available on ' +\n",
       "                        'static notebook viewer services like nbviewer.)';\n",
       "    } else if (res.status === 409) {\n",
       "        div.innerHTML = 'Visualization no longer in scope. Re-run this cell' +\n",
       "                        ' to see the visualization.';\n",
       "    } else if (res.ok) {\n",
       "        url = res.url;\n",
       "        div.innerHTML = '<iframe src=\\'' + url + '\\' style=\\'' +\n",
       "                        'width: 100%; height: 700px; border: 0;\\'>' +\n",
       "                        '</iframe><hr />Open in a: <a href=\\'' + url + '\\'' +\n",
       "                        ' target=\\'_blank\\'>new window</a>'\n",
       "    } else {\n",
       "        div.innerHTML = 'Something has gone wrong. Check notebook server for' +\n",
       "                        ' errors.';\n",
       "    }\n",
       "});\n",
       "})(this.parentElement, '/qiime2/redirect?location=/tmp/qiime2-archive-_8ehn59z')\" src=\"data:image/gif;base64,R0lGODlhAQABAIAAAP///wAAACH5BAEAAAAALAAAAAABAAEAAAICRAEAOw==\" /></div>"
      ],
      "text/plain": [
       "<visualization: Visualization uuid: 45cb541f-6e82-478a-80ac-d9fdd1398355>"
      ]
     },
     "execution_count": 22,
     "metadata": {},
     "output_type": "execute_result"
    }
   ],
   "source": [
    "Visualization.load(f'{data_dir}/core-metrics-results_insertion_12000/uw_unifrac-continent-significance.qzv')"
   ]
  },
  {
   "cell_type": "markdown",
   "id": "bd7e3325-4d48-4ff9-a978-581349d396c6",
   "metadata": {},
   "source": [
    "Inspect the beta diversity metrics of animal source groupings:"
   ]
  },
  {
   "cell_type": "code",
   "execution_count": 23,
   "id": "039c9348-8742-44bd-9d6c-86b23b02beab",
   "metadata": {},
   "outputs": [
    {
     "name": "stdout",
     "output_type": "stream",
     "text": [
      "\u001b[32mSaved Visualization to: CE/core-metrics-results_insertion_12000/uw_unifrac-animal-significance.qzv\u001b[0m\n",
      "\u001b[0m"
     ]
    }
   ],
   "source": [
    "! qiime diversity beta-group-significance \\\n",
    "    --i-distance-matrix $data_dir/core-metrics-results_insertion_12000/unweighted_unifrac_distance_matrix.qza \\\n",
    "    --m-metadata-file $data_dir/food-metadata.tsv \\\n",
    "    --m-metadata-column animal_source \\\n",
    "    --p-pairwise \\\n",
    "    --o-visualization $data_dir/core-metrics-results_insertion_12000/uw_unifrac-animal-significance.qzv"
   ]
  },
  {
   "cell_type": "code",
   "execution_count": 24,
   "id": "7645cd40-aaae-410c-b597-7a241c10b1e5",
   "metadata": {},
   "outputs": [
    {
     "data": {
      "text/html": [
       "<div><img onload=\"(function(div, url){\n",
       "if (typeof require !== 'undefined') {\n",
       "    var baseURL = require.toUrl('').split('/').slice(0, -2).join('/');\n",
       "} else {\n",
       "    var baseURL = JSON.parse(\n",
       "        document.getElementById('jupyter-config-data').innerHTML\n",
       "    ).baseUrl.slice(0, -1);\n",
       "}\n",
       "url = baseURL + url;\n",
       "fetch(url).then(function(res) {\n",
       "    if (res.status === 404) {\n",
       "        div.innerHTML = 'Install QIIME 2 Jupyter extension with:<br />' +\n",
       "                        '<code>jupyter serverextension enable --py qiime2' +\n",
       "                        ' --sys-prefix</code><br />then restart your server.' +\n",
       "                        '<br /><br />(Interactive output not available on ' +\n",
       "                        'static notebook viewer services like nbviewer.)';\n",
       "    } else if (res.status === 409) {\n",
       "        div.innerHTML = 'Visualization no longer in scope. Re-run this cell' +\n",
       "                        ' to see the visualization.';\n",
       "    } else if (res.ok) {\n",
       "        url = res.url;\n",
       "        div.innerHTML = '<iframe src=\\'' + url + '\\' style=\\'' +\n",
       "                        'width: 100%; height: 700px; border: 0;\\'>' +\n",
       "                        '</iframe><hr />Open in a: <a href=\\'' + url + '\\'' +\n",
       "                        ' target=\\'_blank\\'>new window</a>'\n",
       "    } else {\n",
       "        div.innerHTML = 'Something has gone wrong. Check notebook server for' +\n",
       "                        ' errors.';\n",
       "    }\n",
       "});\n",
       "})(this.parentElement, '/qiime2/redirect?location=/tmp/qiime2-archive-frp3yosm')\" src=\"data:image/gif;base64,R0lGODlhAQABAIAAAP///wAAACH5BAEAAAAALAAAAAABAAEAAAICRAEAOw==\" /></div>"
      ],
      "text/plain": [
       "<visualization: Visualization uuid: 4e0b7922-abef-46c0-a0d1-2e4660041a6b>"
      ]
     },
     "execution_count": 24,
     "metadata": {},
     "output_type": "execute_result"
    }
   ],
   "source": [
    "Visualization.load(f'{data_dir}/core-metrics-results_insertion_12000/uw_unifrac-animal-significance.qzv')"
   ]
  },
  {
   "cell_type": "markdown",
   "id": "f4b924b9-f97c-4cf4-b266-8d3ba4f6dda9",
   "metadata": {},
   "source": [
    "#### ADONIS"
   ]
  },
  {
   "cell_type": "markdown",
   "id": "fdcc442d-8f80-4fa5-a86b-73f9a3bbcc03",
   "metadata": {},
   "source": [
    "PERMANOVA test can also be performed with the adonis implementation. --> to explain which covariates explain the most variation in our dataset."
   ]
  },
  {
   "cell_type": "markdown",
   "id": "9c6918d8-8197-4262-bfd6-961ca79ccbea",
   "metadata": {},
   "source": [
    "Order in formula can make a difference in the outcomes. --> try different orders"
   ]
  },
  {
   "cell_type": "code",
   "execution_count": 26,
   "id": "84619702-cc40-4e3c-b384-20142a7d02e3",
   "metadata": {},
   "outputs": [
    {
     "name": "stdout",
     "output_type": "stream",
     "text": [
      "\u001b[32mSaved Visualization to: CE/core-metrics-results_insertion_12000/adonis.qzv\u001b[0m\n",
      "\u001b[0m"
     ]
    }
   ],
   "source": [
    "! qiime diversity adonis \\\n",
    "    --i-distance-matrix $data_dir/core-metrics-results_insertion_12000/unweighted_unifrac_distance_matrix.qza \\\n",
    "    --m-metadata-file $data_dir/food-metadata.tsv \\\n",
    "    --p-formula \"rindtype+continent+country+region+animal_source+pasteurized\" \\\n",
    "    --o-visualization $data_dir/core-metrics-results_insertion_12000/adonis.qzv"
   ]
  },
  {
   "cell_type": "code",
   "execution_count": 27,
   "id": "8a012432-16eb-4a8a-af0a-6234a02bc4c4",
   "metadata": {
    "collapsed": true,
    "jupyter": {
     "outputs_hidden": true
    },
    "tags": []
   },
   "outputs": [
    {
     "data": {
      "text/html": [
       "<div><img onload=\"(function(div, url){\n",
       "if (typeof require !== 'undefined') {\n",
       "    var baseURL = require.toUrl('').split('/').slice(0, -2).join('/');\n",
       "} else {\n",
       "    var baseURL = JSON.parse(\n",
       "        document.getElementById('jupyter-config-data').innerHTML\n",
       "    ).baseUrl.slice(0, -1);\n",
       "}\n",
       "url = baseURL + url;\n",
       "fetch(url).then(function(res) {\n",
       "    if (res.status === 404) {\n",
       "        div.innerHTML = 'Install QIIME 2 Jupyter extension with:<br />' +\n",
       "                        '<code>jupyter serverextension enable --py qiime2' +\n",
       "                        ' --sys-prefix</code><br />then restart your server.' +\n",
       "                        '<br /><br />(Interactive output not available on ' +\n",
       "                        'static notebook viewer services like nbviewer.)';\n",
       "    } else if (res.status === 409) {\n",
       "        div.innerHTML = 'Visualization no longer in scope. Re-run this cell' +\n",
       "                        ' to see the visualization.';\n",
       "    } else if (res.ok) {\n",
       "        url = res.url;\n",
       "        div.innerHTML = '<iframe src=\\'' + url + '\\' style=\\'' +\n",
       "                        'width: 100%; height: 700px; border: 0;\\'>' +\n",
       "                        '</iframe><hr />Open in a: <a href=\\'' + url + '\\'' +\n",
       "                        ' target=\\'_blank\\'>new window</a>'\n",
       "    } else {\n",
       "        div.innerHTML = 'Something has gone wrong. Check notebook server for' +\n",
       "                        ' errors.';\n",
       "    }\n",
       "});\n",
       "})(this.parentElement, '/qiime2/redirect?location=/tmp/qiime2-archive-yv4s1lsy')\" src=\"data:image/gif;base64,R0lGODlhAQABAIAAAP///wAAACH5BAEAAAAALAAAAAABAAEAAAICRAEAOw==\" /></div>"
      ],
      "text/plain": [
       "<visualization: Visualization uuid: 86634dd3-26e3-4461-9178-3c1a29f9e932>"
      ]
     },
     "execution_count": 27,
     "metadata": {},
     "output_type": "execute_result"
    }
   ],
   "source": [
    "Visualization.load(f'{data_dir}/core-metrics-results_insertion_12000/adonis.qzv')"
   ]
  },
  {
   "cell_type": "markdown",
   "id": "d522fbbc-ff87-4bca-9613-76fac6d464b9",
   "metadata": {},
   "source": [
    "Order the columns for --p-formula by their R2 from the adonis thest performed before. The highest R2 comes first. This is important as order plays a role in adonis tests."
   ]
  },
  {
   "cell_type": "markdown",
   "id": "a77d758f-43d2-4587-8025-c9a041f7bd1d",
   "metadata": {},
   "source": [
    "Result: The region explains the most variation in our dataset (highest R2 value). --> But where is \"continent\"? :("
   ]
  },
  {
   "cell_type": "code",
   "execution_count": 30,
   "id": "41eafc4f-8839-4d35-b6ac-eb57552410f1",
   "metadata": {},
   "outputs": [
    {
     "name": "stdout",
     "output_type": "stream",
     "text": [
      "\u001b[32mSaved Visualization to: CE/core-metrics-results_insertion_12000/adonis_2.qzv\u001b[0m\n",
      "\u001b[0m"
     ]
    }
   ],
   "source": [
    "! qiime diversity adonis \\\n",
    "    --i-distance-matrix $data_dir/core-metrics-results_insertion_12000/unweighted_unifrac_distance_matrix.qza \\\n",
    "    --m-metadata-file $data_dir/food-metadata.tsv \\\n",
    "    --p-formula \"region+rindtype+country+animal_source+continent+pasteurized\" \\\n",
    "    --o-visualization $data_dir/core-metrics-results_insertion_12000/adonis_2.qzv"
   ]
  },
  {
   "cell_type": "code",
   "execution_count": 31,
   "id": "09de6c86-65ec-40f5-9b41-a9a285df3767",
   "metadata": {},
   "outputs": [
    {
     "data": {
      "text/html": [
       "<div><img onload=\"(function(div, url){\n",
       "if (typeof require !== 'undefined') {\n",
       "    var baseURL = require.toUrl('').split('/').slice(0, -2).join('/');\n",
       "} else {\n",
       "    var baseURL = JSON.parse(\n",
       "        document.getElementById('jupyter-config-data').innerHTML\n",
       "    ).baseUrl.slice(0, -1);\n",
       "}\n",
       "url = baseURL + url;\n",
       "fetch(url).then(function(res) {\n",
       "    if (res.status === 404) {\n",
       "        div.innerHTML = 'Install QIIME 2 Jupyter extension with:<br />' +\n",
       "                        '<code>jupyter serverextension enable --py qiime2' +\n",
       "                        ' --sys-prefix</code><br />then restart your server.' +\n",
       "                        '<br /><br />(Interactive output not available on ' +\n",
       "                        'static notebook viewer services like nbviewer.)';\n",
       "    } else if (res.status === 409) {\n",
       "        div.innerHTML = 'Visualization no longer in scope. Re-run this cell' +\n",
       "                        ' to see the visualization.';\n",
       "    } else if (res.ok) {\n",
       "        url = res.url;\n",
       "        div.innerHTML = '<iframe src=\\'' + url + '\\' style=\\'' +\n",
       "                        'width: 100%; height: 700px; border: 0;\\'>' +\n",
       "                        '</iframe><hr />Open in a: <a href=\\'' + url + '\\'' +\n",
       "                        ' target=\\'_blank\\'>new window</a>'\n",
       "    } else {\n",
       "        div.innerHTML = 'Something has gone wrong. Check notebook server for' +\n",
       "                        ' errors.';\n",
       "    }\n",
       "});\n",
       "})(this.parentElement, '/qiime2/redirect?location=/tmp/qiime2-archive-nnau45hk')\" src=\"data:image/gif;base64,R0lGODlhAQABAIAAAP///wAAACH5BAEAAAAALAAAAAABAAEAAAICRAEAOw==\" /></div>"
      ],
      "text/plain": [
       "<visualization: Visualization uuid: e32a5aa8-78de-4b35-b8a8-b3cf756ccf3d>"
      ]
     },
     "execution_count": 31,
     "metadata": {},
     "output_type": "execute_result"
    }
   ],
   "source": [
    "Visualization.load(f'{data_dir}/core-metrics-results_insertion_12000/adonis_2.qzv')"
   ]
  },
  {
   "cell_type": "code",
   "execution_count": 34,
   "id": "5155aa30-ddb2-49e0-a29f-7618d4c6311a",
   "metadata": {},
   "outputs": [
    {
     "name": "stdout",
     "output_type": "stream",
     "text": [
      "\u001b[32mSaved Visualization to: CE/core-metrics-results_insertion_12000/adonis_3.qzv\u001b[0m\n",
      "\u001b[0m"
     ]
    }
   ],
   "source": [
    "! qiime diversity adonis \\\n",
    "    --i-distance-matrix $data_dir/core-metrics-results_insertion_12000/unweighted_unifrac_distance_matrix.qza \\\n",
    "    --m-metadata-file $data_dir/food-metadata.tsv \\\n",
    "    --p-formula \"region+rindtype+animal_source+pasteurized+country\" \\\n",
    "    --o-visualization $data_dir/core-metrics-results_insertion_12000/adonis_3.qzv"
   ]
  },
  {
   "cell_type": "code",
   "execution_count": 35,
   "id": "5e24f571-786a-40f3-806d-6454489507ed",
   "metadata": {},
   "outputs": [
    {
     "data": {
      "text/html": [
       "<div><img onload=\"(function(div, url){\n",
       "if (typeof require !== 'undefined') {\n",
       "    var baseURL = require.toUrl('').split('/').slice(0, -2).join('/');\n",
       "} else {\n",
       "    var baseURL = JSON.parse(\n",
       "        document.getElementById('jupyter-config-data').innerHTML\n",
       "    ).baseUrl.slice(0, -1);\n",
       "}\n",
       "url = baseURL + url;\n",
       "fetch(url).then(function(res) {\n",
       "    if (res.status === 404) {\n",
       "        div.innerHTML = 'Install QIIME 2 Jupyter extension with:<br />' +\n",
       "                        '<code>jupyter serverextension enable --py qiime2' +\n",
       "                        ' --sys-prefix</code><br />then restart your server.' +\n",
       "                        '<br /><br />(Interactive output not available on ' +\n",
       "                        'static notebook viewer services like nbviewer.)';\n",
       "    } else if (res.status === 409) {\n",
       "        div.innerHTML = 'Visualization no longer in scope. Re-run this cell' +\n",
       "                        ' to see the visualization.';\n",
       "    } else if (res.ok) {\n",
       "        url = res.url;\n",
       "        div.innerHTML = '<iframe src=\\'' + url + '\\' style=\\'' +\n",
       "                        'width: 100%; height: 700px; border: 0;\\'>' +\n",
       "                        '</iframe><hr />Open in a: <a href=\\'' + url + '\\'' +\n",
       "                        ' target=\\'_blank\\'>new window</a>'\n",
       "    } else {\n",
       "        div.innerHTML = 'Something has gone wrong. Check notebook server for' +\n",
       "                        ' errors.';\n",
       "    }\n",
       "});\n",
       "})(this.parentElement, '/qiime2/redirect?location=/tmp/qiime2-archive-lqq0voy0')\" src=\"data:image/gif;base64,R0lGODlhAQABAIAAAP///wAAACH5BAEAAAAALAAAAAABAAEAAAICRAEAOw==\" /></div>"
      ],
      "text/plain": [
       "<visualization: Visualization uuid: 28d476db-653d-4869-8000-4d6c084888da>"
      ]
     },
     "execution_count": 35,
     "metadata": {},
     "output_type": "execute_result"
    }
   ],
   "source": [
    "Visualization.load(f'{data_dir}/core-metrics-results_insertion_12000/adonis_3.qzv')"
   ]
  },
  {
   "cell_type": "markdown",
   "id": "8efb094d-a0cf-4479-b57a-5de24632d295",
   "metadata": {},
   "source": [
    "#### PANDAS fun"
   ]
  },
  {
   "cell_type": "markdown",
   "id": "20553aed-154f-4fa8-a4f3-9c86064635cd",
   "metadata": {},
   "source": [
    "### 12000"
   ]
  },
  {
   "cell_type": "code",
   "execution_count": 37,
   "id": "f11cc943-1b37-460e-baf5-49a1812611a8",
   "metadata": {},
   "outputs": [],
   "source": [
    "unw_UF_pcoa_res_12000 = q2.Artifact.load(os.path.join(data_dir, 'core-metrics-results_insertion_12000/unweighted_unifrac_pcoa_results.qza'))\n",
    "unw_UF_pcoa_res_12000 = unw_UF_pcoa_res_12000.view(OrdinationResults)\n",
    "# let's just take the first 3 columns (i.e., first 3 PCoA axes)\n",
    "unw_UF_pcoa_res_data_12000 = unw_UF_pcoa_res_12000.samples.iloc[:,:3]\n",
    "# rename the columns for clarity\n",
    "unw_UF_pcoa_res_data_12000.columns = ['Axis 1', 'Axis 2', 'Axis 3']"
   ]
  },
  {
   "cell_type": "code",
   "execution_count": 38,
   "id": "aa49ee0f-14a4-4a4f-9871-22b367bb2c75",
   "metadata": {},
   "outputs": [
    {
     "data": {
      "text/html": [
       "<div>\n",
       "<style scoped>\n",
       "    .dataframe tbody tr th:only-of-type {\n",
       "        vertical-align: middle;\n",
       "    }\n",
       "\n",
       "    .dataframe tbody tr th {\n",
       "        vertical-align: top;\n",
       "    }\n",
       "\n",
       "    .dataframe thead th {\n",
       "        text-align: right;\n",
       "    }\n",
       "</style>\n",
       "<table border=\"1\" class=\"dataframe\">\n",
       "  <thead>\n",
       "    <tr style=\"text-align: right;\">\n",
       "      <th></th>\n",
       "      <th>Axis 1</th>\n",
       "      <th>Axis 2</th>\n",
       "      <th>Axis 3</th>\n",
       "    </tr>\n",
       "  </thead>\n",
       "  <tbody>\n",
       "    <tr>\n",
       "      <th>11488.CSB280</th>\n",
       "      <td>0.049976</td>\n",
       "      <td>0.008295</td>\n",
       "      <td>-0.268998</td>\n",
       "    </tr>\n",
       "    <tr>\n",
       "      <th>11488.CSB281</th>\n",
       "      <td>0.196987</td>\n",
       "      <td>0.149224</td>\n",
       "      <td>-0.089773</td>\n",
       "    </tr>\n",
       "    <tr>\n",
       "      <th>11488.CSB282</th>\n",
       "      <td>0.082988</td>\n",
       "      <td>0.043284</td>\n",
       "      <td>-0.248198</td>\n",
       "    </tr>\n",
       "  </tbody>\n",
       "</table>\n",
       "</div>"
      ],
      "text/plain": [
       "                Axis 1    Axis 2    Axis 3\n",
       "11488.CSB280  0.049976  0.008295 -0.268998\n",
       "11488.CSB281  0.196987  0.149224 -0.089773\n",
       "11488.CSB282  0.082988  0.043284 -0.248198"
      ]
     },
     "execution_count": 38,
     "metadata": {},
     "output_type": "execute_result"
    }
   ],
   "source": [
    "unw_UF_pcoa_res_data_12000.head(3)"
   ]
  },
  {
   "cell_type": "code",
   "execution_count": 40,
   "id": "b995aa80-1caf-4f87-8647-c68c8f50f006",
   "metadata": {},
   "outputs": [],
   "source": [
    "df_meta = pd.read_csv(f'{data_dir}/food-metadata.tsv', sep='\\t', index_col=0)"
   ]
  },
  {
   "cell_type": "markdown",
   "id": "f69e31d8-197e-4d13-adae-26c5d46620b1",
   "metadata": {},
   "source": [
    "Join this dataframe with metadata column:"
   ]
  },
  {
   "cell_type": "code",
   "execution_count": 41,
   "id": "970c273c-c139-4f7f-8e52-4b50f8bbcfc1",
   "metadata": {},
   "outputs": [
    {
     "data": {
      "text/html": [
       "<div>\n",
       "<style scoped>\n",
       "    .dataframe tbody tr th:only-of-type {\n",
       "        vertical-align: middle;\n",
       "    }\n",
       "\n",
       "    .dataframe tbody tr th {\n",
       "        vertical-align: top;\n",
       "    }\n",
       "\n",
       "    .dataframe thead th {\n",
       "        text-align: right;\n",
       "    }\n",
       "</style>\n",
       "<table border=\"1\" class=\"dataframe\">\n",
       "  <thead>\n",
       "    <tr style=\"text-align: right;\">\n",
       "      <th></th>\n",
       "      <th>Axis 1</th>\n",
       "      <th>Axis 2</th>\n",
       "      <th>Axis 3</th>\n",
       "      <th>rindtype</th>\n",
       "    </tr>\n",
       "  </thead>\n",
       "  <tbody>\n",
       "    <tr>\n",
       "      <th>11488.CSB280</th>\n",
       "      <td>0.049976</td>\n",
       "      <td>0.008295</td>\n",
       "      <td>-0.268998</td>\n",
       "      <td>natural</td>\n",
       "    </tr>\n",
       "    <tr>\n",
       "      <th>11488.CSB281</th>\n",
       "      <td>0.196987</td>\n",
       "      <td>0.149224</td>\n",
       "      <td>-0.089773</td>\n",
       "      <td>natural</td>\n",
       "    </tr>\n",
       "    <tr>\n",
       "      <th>11488.CSB282</th>\n",
       "      <td>0.082988</td>\n",
       "      <td>0.043284</td>\n",
       "      <td>-0.248198</td>\n",
       "      <td>natural</td>\n",
       "    </tr>\n",
       "    <tr>\n",
       "      <th>11488.CSB290</th>\n",
       "      <td>-0.175483</td>\n",
       "      <td>0.165197</td>\n",
       "      <td>-0.013238</td>\n",
       "      <td>washed</td>\n",
       "    </tr>\n",
       "    <tr>\n",
       "      <th>11488.CSB292</th>\n",
       "      <td>-0.299215</td>\n",
       "      <td>0.131027</td>\n",
       "      <td>0.022871</td>\n",
       "      <td>washed</td>\n",
       "    </tr>\n",
       "  </tbody>\n",
       "</table>\n",
       "</div>"
      ],
      "text/plain": [
       "                Axis 1    Axis 2    Axis 3 rindtype\n",
       "11488.CSB280  0.049976  0.008295 -0.268998  natural\n",
       "11488.CSB281  0.196987  0.149224 -0.089773  natural\n",
       "11488.CSB282  0.082988  0.043284 -0.248198  natural\n",
       "11488.CSB290 -0.175483  0.165197 -0.013238   washed\n",
       "11488.CSB292 -0.299215  0.131027  0.022871   washed"
      ]
     },
     "execution_count": 41,
     "metadata": {},
     "output_type": "execute_result"
    }
   ],
   "source": [
    "unw_UF_pcoa_res_data_with_rindtype_12000 = unw_UF_pcoa_res_data_12000.join(df_meta['rindtype'])\n",
    "unw_UF_pcoa_res_data_with_rindtype_12000.head()"
   ]
  },
  {
   "cell_type": "markdown",
   "id": "ad58d0c7-dac7-4b9d-9a74-622eee81b2a4",
   "metadata": {},
   "source": [
    "Visualize data using Python visualization library seaborn:"
   ]
  },
  {
   "cell_type": "code",
   "execution_count": 42,
   "id": "6cced624-d255-4468-9fc8-df9d6867d7e7",
   "metadata": {},
   "outputs": [
    {
     "data": {
      "text/plain": [
       "<AxesSubplot:xlabel='Axis 1', ylabel='Axis 2'>"
      ]
     },
     "execution_count": 42,
     "metadata": {},
     "output_type": "execute_result"
    },
    {
     "data": {
      "image/png": "[encoded data removed]",
      "text/plain": [
       "<Figure size 432x288 with 1 Axes>"
      ]
     },
     "metadata": {
      "needs_background": "light"
     },
     "output_type": "display_data"
    }
   ],
   "source": [
    "scatterplot(data=unw_UF_pcoa_res_data_with_rindtype_12000,\n",
    "            x='Axis 1',\n",
    "            y='Axis 2',\n",
    "            hue='rindtype',\n",
    "            palette='viridis')"
   ]
  },
  {
   "cell_type": "code",
   "execution_count": null,
   "id": "ee7700ed-830a-4355-bcd8-1ae4e22acb44",
   "metadata": {},
   "outputs": [],
   "source": []
  }
 ],
 "metadata": {
  "kernelspec": {
   "display_name": "Python 3 (ipykernel)",
   "language": "python",
   "name": "python3"
  },
  "language_info": {
   "codemirror_mode": {
    "name": "ipython",
    "version": 3
   },
   "file_extension": ".py",
   "mimetype": "text/x-python",
   "name": "python",
   "nbconvert_exporter": "python",
   "pygments_lexer": "ipython3",
   "version": "3.8.13"
  }
 },
 "nbformat": 4,
 "nbformat_minor": 5
}
