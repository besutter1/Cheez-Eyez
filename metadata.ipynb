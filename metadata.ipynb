{
 "cells": [
  {
   "cell_type": "code",
   "execution_count": 1,
   "id": "082ee4bf",
   "metadata": {},
   "outputs": [
    {
     "data": {
      "text/html": [
       "<div>\n",
       "<style scoped>\n",
       "    .dataframe tbody tr th:only-of-type {\n",
       "        vertical-align: middle;\n",
       "    }\n",
       "\n",
       "    .dataframe tbody tr th {\n",
       "        vertical-align: top;\n",
       "    }\n",
       "\n",
       "    .dataframe thead th {\n",
       "        text-align: right;\n",
       "    }\n",
       "</style>\n",
       "<table border=\"1\" class=\"dataframe\">\n",
       "  <thead>\n",
       "    <tr style=\"text-align: right;\">\n",
       "      <th></th>\n",
       "      <th>sample-id</th>\n",
       "      <th>rindtype</th>\n",
       "      <th>style</th>\n",
       "      <th>name</th>\n",
       "      <th>continent</th>\n",
       "      <th>country</th>\n",
       "      <th>region</th>\n",
       "      <th>longitude</th>\n",
       "      <th>latitude</th>\n",
       "      <th>ph</th>\n",
       "      <th>salt</th>\n",
       "      <th>moisture</th>\n",
       "      <th>animal_source</th>\n",
       "      <th>pasteurized</th>\n",
       "    </tr>\n",
       "  </thead>\n",
       "  <tbody>\n",
       "    <tr>\n",
       "      <th>0</th>\n",
       "      <td>#q2:types</td>\n",
       "      <td>categorical</td>\n",
       "      <td>categorical</td>\n",
       "      <td>categorical</td>\n",
       "      <td>categorical</td>\n",
       "      <td>categorical</td>\n",
       "      <td>categorical</td>\n",
       "      <td>numeric</td>\n",
       "      <td>numeric</td>\n",
       "      <td>categorical</td>\n",
       "      <td>categorical</td>\n",
       "      <td>categorical</td>\n",
       "      <td>categorical</td>\n",
       "      <td>categorical</td>\n",
       "    </tr>\n",
       "    <tr>\n",
       "      <th>1</th>\n",
       "      <td>11488.CSB279</td>\n",
       "      <td>natural</td>\n",
       "      <td>NaN</td>\n",
       "      <td>Bethlehem</td>\n",
       "      <td>North_America</td>\n",
       "      <td>USA</td>\n",
       "      <td>Connecticut</td>\n",
       "      <td>-73.210236</td>\n",
       "      <td>41.611893</td>\n",
       "      <td>6.95</td>\n",
       "      <td>0.044293775</td>\n",
       "      <td>33.33333333</td>\n",
       "      <td>cow</td>\n",
       "      <td>N</td>\n",
       "    </tr>\n",
       "    <tr>\n",
       "      <th>2</th>\n",
       "      <td>11488.CSB280</td>\n",
       "      <td>natural</td>\n",
       "      <td>NaN</td>\n",
       "      <td>Bethlehem</td>\n",
       "      <td>North_America</td>\n",
       "      <td>USA</td>\n",
       "      <td>Connecticut</td>\n",
       "      <td>-73.210236</td>\n",
       "      <td>41.611893</td>\n",
       "      <td>6.55</td>\n",
       "      <td>0.045997737</td>\n",
       "      <td>34.80519481</td>\n",
       "      <td>cow</td>\n",
       "      <td>N</td>\n",
       "    </tr>\n",
       "    <tr>\n",
       "      <th>3</th>\n",
       "      <td>11488.CSB281</td>\n",
       "      <td>natural</td>\n",
       "      <td>NaN</td>\n",
       "      <td>Bethlehem</td>\n",
       "      <td>North_America</td>\n",
       "      <td>USA</td>\n",
       "      <td>Connecticut</td>\n",
       "      <td>-73.210236</td>\n",
       "      <td>41.611893</td>\n",
       "      <td>6.54</td>\n",
       "      <td>0.068926154</td>\n",
       "      <td>31.33333333</td>\n",
       "      <td>cow</td>\n",
       "      <td>N</td>\n",
       "    </tr>\n",
       "    <tr>\n",
       "      <th>4</th>\n",
       "      <td>11488.CSB282</td>\n",
       "      <td>natural</td>\n",
       "      <td>NaN</td>\n",
       "      <td>Bethlehem</td>\n",
       "      <td>North_America</td>\n",
       "      <td>USA</td>\n",
       "      <td>Connecticut</td>\n",
       "      <td>-73.210236</td>\n",
       "      <td>41.611893</td>\n",
       "      <td>6.55</td>\n",
       "      <td>0.030862483</td>\n",
       "      <td>34.90566038</td>\n",
       "      <td>cow</td>\n",
       "      <td>N</td>\n",
       "    </tr>\n",
       "    <tr>\n",
       "      <th>...</th>\n",
       "      <td>...</td>\n",
       "      <td>...</td>\n",
       "      <td>...</td>\n",
       "      <td>...</td>\n",
       "      <td>...</td>\n",
       "      <td>...</td>\n",
       "      <td>...</td>\n",
       "      <td>...</td>\n",
       "      <td>...</td>\n",
       "      <td>...</td>\n",
       "      <td>...</td>\n",
       "      <td>...</td>\n",
       "      <td>...</td>\n",
       "      <td>...</td>\n",
       "    </tr>\n",
       "    <tr>\n",
       "      <th>350</th>\n",
       "      <td>11488.CSB980</td>\n",
       "      <td>natural</td>\n",
       "      <td>blue</td>\n",
       "      <td>Dunbarton_Blue</td>\n",
       "      <td>North_America</td>\n",
       "      <td>USA</td>\n",
       "      <td>Wisconsin</td>\n",
       "      <td>-90.23096</td>\n",
       "      <td>42.573335</td>\n",
       "      <td>7.02</td>\n",
       "      <td>0.134996023</td>\n",
       "      <td>28.20512821</td>\n",
       "      <td>cow</td>\n",
       "      <td>Y</td>\n",
       "    </tr>\n",
       "    <tr>\n",
       "      <th>351</th>\n",
       "      <td>11488.CSB981</td>\n",
       "      <td>natural</td>\n",
       "      <td>blue</td>\n",
       "      <td>Dunbarton_Blue</td>\n",
       "      <td>North_America</td>\n",
       "      <td>USA</td>\n",
       "      <td>Wisconsin</td>\n",
       "      <td>-90.23096</td>\n",
       "      <td>42.573335</td>\n",
       "      <td>7.09</td>\n",
       "      <td>0.102762839</td>\n",
       "      <td>25.76153177</td>\n",
       "      <td>cow</td>\n",
       "      <td>Y</td>\n",
       "    </tr>\n",
       "    <tr>\n",
       "      <th>352</th>\n",
       "      <td>11488.CSB984</td>\n",
       "      <td>natural</td>\n",
       "      <td>clothbound</td>\n",
       "      <td>Bandaged_Cheddar</td>\n",
       "      <td>North_America</td>\n",
       "      <td>USA</td>\n",
       "      <td>Wisconsin</td>\n",
       "      <td>-90.23096</td>\n",
       "      <td>42.573335</td>\n",
       "      <td>7.41</td>\n",
       "      <td>0.285081837</td>\n",
       "      <td>28.84012539</td>\n",
       "      <td>cow</td>\n",
       "      <td>Y</td>\n",
       "    </tr>\n",
       "    <tr>\n",
       "      <th>353</th>\n",
       "      <td>11488.CSB985</td>\n",
       "      <td>washed</td>\n",
       "      <td>alpine</td>\n",
       "      <td>Alpine_Renegade</td>\n",
       "      <td>North_America</td>\n",
       "      <td>USA</td>\n",
       "      <td>Wisconsin</td>\n",
       "      <td>-89.832345</td>\n",
       "      <td>43.017497</td>\n",
       "      <td>7.06</td>\n",
       "      <td>0.109716632</td>\n",
       "      <td>24.9661705</td>\n",
       "      <td>cow</td>\n",
       "      <td>N</td>\n",
       "    </tr>\n",
       "    <tr>\n",
       "      <th>354</th>\n",
       "      <td>11488.CSB986</td>\n",
       "      <td>washed</td>\n",
       "      <td>alpine</td>\n",
       "      <td>Alpine_Renegade</td>\n",
       "      <td>North_America</td>\n",
       "      <td>USA</td>\n",
       "      <td>Wisconsin</td>\n",
       "      <td>-89.832345</td>\n",
       "      <td>43.017497</td>\n",
       "      <td>6.86</td>\n",
       "      <td>0.083519442</td>\n",
       "      <td>40.78212291</td>\n",
       "      <td>cow</td>\n",
       "      <td>N</td>\n",
       "    </tr>\n",
       "  </tbody>\n",
       "</table>\n",
       "<p>355 rows × 14 columns</p>\n",
       "</div>"
      ],
      "text/plain": [
       "        sample-id     rindtype        style              name      continent  \\\n",
       "0       #q2:types  categorical  categorical       categorical    categorical   \n",
       "1    11488.CSB279      natural          NaN         Bethlehem  North_America   \n",
       "2    11488.CSB280      natural          NaN         Bethlehem  North_America   \n",
       "3    11488.CSB281      natural          NaN         Bethlehem  North_America   \n",
       "4    11488.CSB282      natural          NaN         Bethlehem  North_America   \n",
       "..            ...          ...          ...               ...            ...   \n",
       "350  11488.CSB980      natural         blue    Dunbarton_Blue  North_America   \n",
       "351  11488.CSB981      natural         blue    Dunbarton_Blue  North_America   \n",
       "352  11488.CSB984      natural   clothbound  Bandaged_Cheddar  North_America   \n",
       "353  11488.CSB985       washed       alpine   Alpine_Renegade  North_America   \n",
       "354  11488.CSB986       washed       alpine   Alpine_Renegade  North_America   \n",
       "\n",
       "         country       region   longitude   latitude           ph  \\\n",
       "0    categorical  categorical     numeric    numeric  categorical   \n",
       "1            USA  Connecticut  -73.210236  41.611893         6.95   \n",
       "2            USA  Connecticut  -73.210236  41.611893         6.55   \n",
       "3            USA  Connecticut  -73.210236  41.611893         6.54   \n",
       "4            USA  Connecticut  -73.210236  41.611893         6.55   \n",
       "..           ...          ...         ...        ...          ...   \n",
       "350          USA    Wisconsin   -90.23096  42.573335         7.02   \n",
       "351          USA    Wisconsin   -90.23096  42.573335         7.09   \n",
       "352          USA    Wisconsin   -90.23096  42.573335         7.41   \n",
       "353          USA    Wisconsin  -89.832345  43.017497         7.06   \n",
       "354          USA    Wisconsin  -89.832345  43.017497         6.86   \n",
       "\n",
       "            salt     moisture animal_source  pasteurized  \n",
       "0    categorical  categorical   categorical  categorical  \n",
       "1    0.044293775  33.33333333           cow            N  \n",
       "2    0.045997737  34.80519481           cow            N  \n",
       "3    0.068926154  31.33333333           cow            N  \n",
       "4    0.030862483  34.90566038           cow            N  \n",
       "..           ...          ...           ...          ...  \n",
       "350  0.134996023  28.20512821           cow            Y  \n",
       "351  0.102762839  25.76153177           cow            Y  \n",
       "352  0.285081837  28.84012539           cow            Y  \n",
       "353  0.109716632   24.9661705           cow            N  \n",
       "354  0.083519442  40.78212291           cow            N  \n",
       "\n",
       "[355 rows x 14 columns]"
      ]
     },
     "metadata": {},
     "output_type": "display_data"
    }
   ],
   "source": [
    "import pandas as pd\n",
    " \n",
    "# Data.tsv is stored locally in the\n",
    "# same directory as of this python file\n",
    "df_metadata = pd.read_csv('food-metadata.tsv',sep = '\\t')\n",
    "display(df_metadata)"
   ]
  },
  {
   "cell_type": "code",
   "execution_count": 2,
   "id": "b710f0c4",
   "metadata": {},
   "outputs": [
    {
     "data": {
      "text/html": [
       "<div>\n",
       "<style scoped>\n",
       "    .dataframe tbody tr th:only-of-type {\n",
       "        vertical-align: middle;\n",
       "    }\n",
       "\n",
       "    .dataframe tbody tr th {\n",
       "        vertical-align: top;\n",
       "    }\n",
       "\n",
       "    .dataframe thead th {\n",
       "        text-align: right;\n",
       "    }\n",
       "</style>\n",
       "<table border=\"1\" class=\"dataframe\">\n",
       "  <thead>\n",
       "    <tr style=\"text-align: right;\">\n",
       "      <th></th>\n",
       "      <th>rindtype</th>\n",
       "      <th>style</th>\n",
       "      <th>name</th>\n",
       "      <th>continent</th>\n",
       "      <th>country</th>\n",
       "      <th>region</th>\n",
       "      <th>longitude</th>\n",
       "      <th>latitude</th>\n",
       "      <th>ph</th>\n",
       "      <th>salt</th>\n",
       "      <th>moisture</th>\n",
       "      <th>animal_source</th>\n",
       "      <th>pasteurized</th>\n",
       "    </tr>\n",
       "    <tr>\n",
       "      <th>sample-id</th>\n",
       "      <th></th>\n",
       "      <th></th>\n",
       "      <th></th>\n",
       "      <th></th>\n",
       "      <th></th>\n",
       "      <th></th>\n",
       "      <th></th>\n",
       "      <th></th>\n",
       "      <th></th>\n",
       "      <th></th>\n",
       "      <th></th>\n",
       "      <th></th>\n",
       "      <th></th>\n",
       "    </tr>\n",
       "  </thead>\n",
       "  <tbody>\n",
       "    <tr>\n",
       "      <th>#q2:types</th>\n",
       "      <td>categorical</td>\n",
       "      <td>categorical</td>\n",
       "      <td>categorical</td>\n",
       "      <td>categorical</td>\n",
       "      <td>categorical</td>\n",
       "      <td>categorical</td>\n",
       "      <td>numeric</td>\n",
       "      <td>numeric</td>\n",
       "      <td>categorical</td>\n",
       "      <td>categorical</td>\n",
       "      <td>categorical</td>\n",
       "      <td>categorical</td>\n",
       "      <td>categorical</td>\n",
       "    </tr>\n",
       "    <tr>\n",
       "      <th>11488.CSB279</th>\n",
       "      <td>natural</td>\n",
       "      <td>NaN</td>\n",
       "      <td>Bethlehem</td>\n",
       "      <td>North_America</td>\n",
       "      <td>USA</td>\n",
       "      <td>Connecticut</td>\n",
       "      <td>-73.210236</td>\n",
       "      <td>41.611893</td>\n",
       "      <td>6.95</td>\n",
       "      <td>0.044293775</td>\n",
       "      <td>33.33333333</td>\n",
       "      <td>cow</td>\n",
       "      <td>N</td>\n",
       "    </tr>\n",
       "    <tr>\n",
       "      <th>11488.CSB280</th>\n",
       "      <td>natural</td>\n",
       "      <td>NaN</td>\n",
       "      <td>Bethlehem</td>\n",
       "      <td>North_America</td>\n",
       "      <td>USA</td>\n",
       "      <td>Connecticut</td>\n",
       "      <td>-73.210236</td>\n",
       "      <td>41.611893</td>\n",
       "      <td>6.55</td>\n",
       "      <td>0.045997737</td>\n",
       "      <td>34.80519481</td>\n",
       "      <td>cow</td>\n",
       "      <td>N</td>\n",
       "    </tr>\n",
       "    <tr>\n",
       "      <th>11488.CSB281</th>\n",
       "      <td>natural</td>\n",
       "      <td>NaN</td>\n",
       "      <td>Bethlehem</td>\n",
       "      <td>North_America</td>\n",
       "      <td>USA</td>\n",
       "      <td>Connecticut</td>\n",
       "      <td>-73.210236</td>\n",
       "      <td>41.611893</td>\n",
       "      <td>6.54</td>\n",
       "      <td>0.068926154</td>\n",
       "      <td>31.33333333</td>\n",
       "      <td>cow</td>\n",
       "      <td>N</td>\n",
       "    </tr>\n",
       "    <tr>\n",
       "      <th>11488.CSB282</th>\n",
       "      <td>natural</td>\n",
       "      <td>NaN</td>\n",
       "      <td>Bethlehem</td>\n",
       "      <td>North_America</td>\n",
       "      <td>USA</td>\n",
       "      <td>Connecticut</td>\n",
       "      <td>-73.210236</td>\n",
       "      <td>41.611893</td>\n",
       "      <td>6.55</td>\n",
       "      <td>0.030862483</td>\n",
       "      <td>34.90566038</td>\n",
       "      <td>cow</td>\n",
       "      <td>N</td>\n",
       "    </tr>\n",
       "    <tr>\n",
       "      <th>...</th>\n",
       "      <td>...</td>\n",
       "      <td>...</td>\n",
       "      <td>...</td>\n",
       "      <td>...</td>\n",
       "      <td>...</td>\n",
       "      <td>...</td>\n",
       "      <td>...</td>\n",
       "      <td>...</td>\n",
       "      <td>...</td>\n",
       "      <td>...</td>\n",
       "      <td>...</td>\n",
       "      <td>...</td>\n",
       "      <td>...</td>\n",
       "    </tr>\n",
       "    <tr>\n",
       "      <th>11488.CSB980</th>\n",
       "      <td>natural</td>\n",
       "      <td>blue</td>\n",
       "      <td>Dunbarton_Blue</td>\n",
       "      <td>North_America</td>\n",
       "      <td>USA</td>\n",
       "      <td>Wisconsin</td>\n",
       "      <td>-90.23096</td>\n",
       "      <td>42.573335</td>\n",
       "      <td>7.02</td>\n",
       "      <td>0.134996023</td>\n",
       "      <td>28.20512821</td>\n",
       "      <td>cow</td>\n",
       "      <td>Y</td>\n",
       "    </tr>\n",
       "    <tr>\n",
       "      <th>11488.CSB981</th>\n",
       "      <td>natural</td>\n",
       "      <td>blue</td>\n",
       "      <td>Dunbarton_Blue</td>\n",
       "      <td>North_America</td>\n",
       "      <td>USA</td>\n",
       "      <td>Wisconsin</td>\n",
       "      <td>-90.23096</td>\n",
       "      <td>42.573335</td>\n",
       "      <td>7.09</td>\n",
       "      <td>0.102762839</td>\n",
       "      <td>25.76153177</td>\n",
       "      <td>cow</td>\n",
       "      <td>Y</td>\n",
       "    </tr>\n",
       "    <tr>\n",
       "      <th>11488.CSB984</th>\n",
       "      <td>natural</td>\n",
       "      <td>clothbound</td>\n",
       "      <td>Bandaged_Cheddar</td>\n",
       "      <td>North_America</td>\n",
       "      <td>USA</td>\n",
       "      <td>Wisconsin</td>\n",
       "      <td>-90.23096</td>\n",
       "      <td>42.573335</td>\n",
       "      <td>7.41</td>\n",
       "      <td>0.285081837</td>\n",
       "      <td>28.84012539</td>\n",
       "      <td>cow</td>\n",
       "      <td>Y</td>\n",
       "    </tr>\n",
       "    <tr>\n",
       "      <th>11488.CSB985</th>\n",
       "      <td>washed</td>\n",
       "      <td>alpine</td>\n",
       "      <td>Alpine_Renegade</td>\n",
       "      <td>North_America</td>\n",
       "      <td>USA</td>\n",
       "      <td>Wisconsin</td>\n",
       "      <td>-89.832345</td>\n",
       "      <td>43.017497</td>\n",
       "      <td>7.06</td>\n",
       "      <td>0.109716632</td>\n",
       "      <td>24.9661705</td>\n",
       "      <td>cow</td>\n",
       "      <td>N</td>\n",
       "    </tr>\n",
       "    <tr>\n",
       "      <th>11488.CSB986</th>\n",
       "      <td>washed</td>\n",
       "      <td>alpine</td>\n",
       "      <td>Alpine_Renegade</td>\n",
       "      <td>North_America</td>\n",
       "      <td>USA</td>\n",
       "      <td>Wisconsin</td>\n",
       "      <td>-89.832345</td>\n",
       "      <td>43.017497</td>\n",
       "      <td>6.86</td>\n",
       "      <td>0.083519442</td>\n",
       "      <td>40.78212291</td>\n",
       "      <td>cow</td>\n",
       "      <td>N</td>\n",
       "    </tr>\n",
       "  </tbody>\n",
       "</table>\n",
       "<p>355 rows × 13 columns</p>\n",
       "</div>"
      ],
      "text/plain": [
       "                 rindtype        style              name      continent  \\\n",
       "sample-id                                                                 \n",
       "#q2:types     categorical  categorical       categorical    categorical   \n",
       "11488.CSB279      natural          NaN         Bethlehem  North_America   \n",
       "11488.CSB280      natural          NaN         Bethlehem  North_America   \n",
       "11488.CSB281      natural          NaN         Bethlehem  North_America   \n",
       "11488.CSB282      natural          NaN         Bethlehem  North_America   \n",
       "...                   ...          ...               ...            ...   \n",
       "11488.CSB980      natural         blue    Dunbarton_Blue  North_America   \n",
       "11488.CSB981      natural         blue    Dunbarton_Blue  North_America   \n",
       "11488.CSB984      natural   clothbound  Bandaged_Cheddar  North_America   \n",
       "11488.CSB985       washed       alpine   Alpine_Renegade  North_America   \n",
       "11488.CSB986       washed       alpine   Alpine_Renegade  North_America   \n",
       "\n",
       "                  country       region   longitude   latitude           ph  \\\n",
       "sample-id                                                                    \n",
       "#q2:types     categorical  categorical     numeric    numeric  categorical   \n",
       "11488.CSB279          USA  Connecticut  -73.210236  41.611893         6.95   \n",
       "11488.CSB280          USA  Connecticut  -73.210236  41.611893         6.55   \n",
       "11488.CSB281          USA  Connecticut  -73.210236  41.611893         6.54   \n",
       "11488.CSB282          USA  Connecticut  -73.210236  41.611893         6.55   \n",
       "...                   ...          ...         ...        ...          ...   \n",
       "11488.CSB980          USA    Wisconsin   -90.23096  42.573335         7.02   \n",
       "11488.CSB981          USA    Wisconsin   -90.23096  42.573335         7.09   \n",
       "11488.CSB984          USA    Wisconsin   -90.23096  42.573335         7.41   \n",
       "11488.CSB985          USA    Wisconsin  -89.832345  43.017497         7.06   \n",
       "11488.CSB986          USA    Wisconsin  -89.832345  43.017497         6.86   \n",
       "\n",
       "                     salt     moisture animal_source  pasteurized  \n",
       "sample-id                                                          \n",
       "#q2:types     categorical  categorical   categorical  categorical  \n",
       "11488.CSB279  0.044293775  33.33333333           cow            N  \n",
       "11488.CSB280  0.045997737  34.80519481           cow            N  \n",
       "11488.CSB281  0.068926154  31.33333333           cow            N  \n",
       "11488.CSB282  0.030862483  34.90566038           cow            N  \n",
       "...                   ...          ...           ...          ...  \n",
       "11488.CSB980  0.134996023  28.20512821           cow            Y  \n",
       "11488.CSB981  0.102762839  25.76153177           cow            Y  \n",
       "11488.CSB984  0.285081837  28.84012539           cow            Y  \n",
       "11488.CSB985  0.109716632   24.9661705           cow            N  \n",
       "11488.CSB986  0.083519442  40.78212291           cow            N  \n",
       "\n",
       "[355 rows x 13 columns]"
      ]
     },
     "metadata": {},
     "output_type": "display_data"
    }
   ],
   "source": [
    "# make sample-id to index and delete the numbers\n",
    "df_metadata.set_index('sample-id', inplace = True)\n",
    "display (df_metadata)\n"
   ]
  },
  {
   "cell_type": "code",
   "execution_count": 3,
   "id": "262823dc",
   "metadata": {},
   "outputs": [
    {
     "name": "stdout",
     "output_type": "stream",
     "text": [
      "rindtype         object\n",
      "style            object\n",
      "name             object\n",
      "continent        object\n",
      "country          object\n",
      "region           object\n",
      "longitude        object\n",
      "latitude         object\n",
      "ph               object\n",
      "salt             object\n",
      "moisture         object\n",
      "animal_source    object\n",
      "pasteurized      object\n",
      "dtype: object\n"
     ]
    }
   ],
   "source": [
    "#see what type the different collums have, important for calculations \n",
    "print(df_metadata.dtypes)\n",
    "\n",
    "\n"
   ]
  },
  {
   "cell_type": "markdown",
   "id": "ac8abdd7",
   "metadata": {},
   "source": [
    "Text data type is known as Strings in Python, or Objects in Pandas. Strings can contain numbers and / or characters. For example, a string might be a word, a sentence, or several sentences. A Pandas object might also be a plot name like ‘plot1’. A string can also contain or consist of numbers. For instance, ‘1234’ could be stored as a string, as could ‘10.23’. However strings that contain numbers can not be used for mathematical operations! source (https://datacarpentry.org/python-ecology-lesson/04-data-types-and-format/, also includes code for change of data type)\n"
   ]
  },
  {
   "cell_type": "markdown",
   "id": "fe43e5e1",
   "metadata": {},
   "source": [
    "**12.10.22 Milena**"
   ]
  },
  {
   "cell_type": "code",
   "execution_count": 4,
   "id": "6ab43639",
   "metadata": {},
   "outputs": [],
   "source": [
    "import matplotlib.pyplot as plt\n",
    "\n",
    "%matplotlib inline"
   ]
  },
  {
   "cell_type": "code",
   "execution_count": null,
   "id": "195a2817-5743-4a35-a89c-9e38a25763f8",
   "metadata": {},
   "outputs": [],
   "source": [
    "#lets produce some plots to see whats the metadata about"
   ]
  },
  {
   "cell_type": "code",
   "execution_count": 5,
   "id": "3a22d106",
   "metadata": {},
   "outputs": [
    {
     "data": {
      "image/png": "[encoded data removed]",
      "text/plain": [
       "<Figure size 432x288 with 1 Axes>"
      ]
     },
     "metadata": {
      "needs_background": "light"
     },
     "output_type": "display_data"
    }
   ],
   "source": [
    "df_metadata['animal_source'].value_counts().plot(kind='bar')\n",
    "plt.ylabel('Number of samples')\n",
    "plt.title('Animal Source of Samples')\n",
    "plt.show()"
   ]
  },
  {
   "cell_type": "code",
   "execution_count": 6,
   "id": "34a12acd",
   "metadata": {},
   "outputs": [
    {
     "data": {
      "image/png": "[encoded data removed]",
      "text/plain": [
       "<Figure size 432x288 with 1 Axes>"
      ]
     },
     "metadata": {
      "needs_background": "light"
     },
     "output_type": "display_data"
    }
   ],
   "source": [
    "df_metadata['rindtype'].value_counts().plot(kind='bar')\n",
    "plt.ylabel('Number of samples')\n",
    "plt.title('Rindtypes of Samples')\n",
    "plt.show()"
   ]
  },
  {
   "cell_type": "code",
   "execution_count": 7,
   "id": "797336e9",
   "metadata": {},
   "outputs": [
    {
     "data": {
      "image/png": "[encoded data removed]",
      "text/plain": [
       "<Figure size 432x288 with 1 Axes>"
      ]
     },
     "metadata": {
      "needs_background": "light"
     },
     "output_type": "display_data"
    }
   ],
   "source": [
    "df_metadata['style'].value_counts().plot(kind='bar')\n",
    "plt.ylabel('Number of samples')\n",
    "plt.title('Manifacturing styles of Samples')\n",
    "plt.show()"
   ]
  },
  {
   "cell_type": "markdown",
   "id": "fa17e9ea",
   "metadata": {},
   "source": [
    "**NOTE:** Most of samples do not have a value in this column. Only few have a notation about style. \n",
    "--> maybe include bar for NA values ?\n",
    "--> get rid of \"categorical\" bar"
   ]
  },
  {
   "cell_type": "code",
   "execution_count": 8,
   "id": "ddd37c64",
   "metadata": {},
   "outputs": [
    {
     "data": {
      "image/png": "[encoded data removed]",
      "text/plain": [
       "<Figure size 432x288 with 1 Axes>"
      ]
     },
     "metadata": {
      "needs_background": "light"
     },
     "output_type": "display_data"
    }
   ],
   "source": [
    "df_metadata['continent'].value_counts().plot(kind='bar')\n",
    "plt.ylabel('Number of samples')\n",
    "plt.title('Continent of Origin')\n",
    "plt.show()"
   ]
  },
  {
   "cell_type": "code",
   "execution_count": 9,
   "id": "8452eef6",
   "metadata": {},
   "outputs": [
    {
     "data": {
      "image/png": "[encoded data removed]",
      "text/plain": [
       "<Figure size 432x288 with 1 Axes>"
      ]
     },
     "metadata": {
      "needs_background": "light"
     },
     "output_type": "display_data"
    }
   ],
   "source": [
    "df_metadata['country'].value_counts().plot(kind='bar')\n",
    "plt.ylabel('Number of samples')\n",
    "plt.title('Country of Origin')\n",
    "plt.show()"
   ]
  },
  {
   "cell_type": "code",
   "execution_count": 10,
   "id": "2bcbe5a9",
   "metadata": {},
   "outputs": [
    {
     "data": {
      "image/png": "[encoded data removed]",
      "text/plain": [
       "<Figure size 432x288 with 1 Axes>"
      ]
     },
     "metadata": {
      "needs_background": "light"
     },
     "output_type": "display_data"
    }
   ],
   "source": [
    "df_metadata['ph'] = pd.to_numeric(df_metadata['ph'], errors='coerce') #object to float for calculations\n",
    "df_metadata['ph']=df_metadata['ph'].round() #round ph values to values without decimal to build groups\n",
    "df_metadata['ph'].value_counts().plot(kind='bar') # make plot\n",
    "plt.ylabel('Number of samples')\n",
    "plt.title('pH')\n",
    "plt.show()\n"
   ]
  },
  {
   "cell_type": "code",
   "execution_count": 11,
   "id": "5a146fee",
   "metadata": {},
   "outputs": [
    {
     "data": {
      "image/png": "[encoded data removed]",
      "text/plain": [
       "<Figure size 432x288 with 1 Axes>"
      ]
     },
     "metadata": {
      "needs_background": "light"
     },
     "output_type": "display_data"
    }
   ],
   "source": [
    "df_metadata['salt'] = pd.to_numeric(df_metadata['salt'], errors='coerce') #object to float for calculations\n",
    "df_metadata['salt']=df_metadata['salt'].round(decimals = 1) #round salt values to build groups\n",
    "df_metadata['salt'].value_counts().plot(kind='bar') # make plot\n",
    "plt.ylabel('Number of samples')\n",
    "plt.title('salt')\n",
    "plt.show()"
   ]
  },
  {
   "cell_type": "code",
   "execution_count": 12,
   "id": "3615e711",
   "metadata": {},
   "outputs": [
    {
     "data": {
      "image/png": "[encoded data removed]",
      "text/plain": [
       "<Figure size 432x288 with 1 Axes>"
      ]
     },
     "metadata": {
      "needs_background": "light"
     },
     "output_type": "display_data"
    }
   ],
   "source": [
    "df_metadata['moisture'] = pd.to_numeric(df_metadata['moisture'], errors='coerce') #object to float for calculations\n",
    "df_metadata['moisture']=df_metadata['moisture'].round(-1) #round moisture values to build groups\n",
    "df_metadata['moisture'].value_counts().plot(kind='bar') # make plot\n",
    "plt.ylabel('Number of samples')\n",
    "plt.title('moisture')\n",
    "plt.show()"
   ]
  },
  {
   "cell_type": "code",
   "execution_count": 13,
   "id": "0b36f433",
   "metadata": {},
   "outputs": [
    {
     "data": {
      "image/png": "[encoded data removed]",
      "text/plain": [
       "<Figure size 1008x288 with 1 Axes>"
      ]
     },
     "metadata": {
      "needs_background": "light"
     },
     "output_type": "display_data"
    }
   ],
   "source": [
    "df_metadata['region'].value_counts().plot(kind='bar', figsize=(14, 4)) #figsize is for changing size of figure\n",
    "plt.ylabel('Number of samples')\n",
    "plt.title('Region of Origin')\n",
    "plt.show()"
   ]
  },
  {
   "cell_type": "code",
   "execution_count": 14,
   "id": "00f0acac",
   "metadata": {},
   "outputs": [],
   "source": [
    "pd.set_option('display.max_rows', 62) #changes standard of showing maximum of rows to 62 rows"
   ]
  },
  {
   "cell_type": "code",
   "execution_count": 15,
   "id": "b96d42a3",
   "metadata": {},
   "outputs": [
    {
     "data": {
      "text/plain": [
       "Vermont                 51\n",
       "Savoie                  14\n",
       "Pyrenees                13\n",
       "Massachusetts           12\n",
       "New_York                12\n",
       "Wisconsin               12\n",
       "Somerset                11\n",
       "Connecticut             10\n",
       "Auvergne                10\n",
       "Piedmont                 8\n",
       "Orobian_Mountains        7\n",
       "Virginia                 6\n",
       "Manigod                  6\n",
       "Nottinghamshire          6\n",
       "Staffordshire            6\n",
       "Corsica                  6\n",
       "New_Hampshire            6\n",
       "Co._Cork                 6\n",
       "California               6\n",
       "Aquitaine                5\n",
       "Emmentaler               5\n",
       "Normandy                 4\n",
       "Loire                    4\n",
       "London                   4\n",
       "Via_Franca               4\n",
       "West_Midlands            3\n",
       "Indiana                  3\n",
       "Doubs_county             3\n",
       "Fribourg                 3\n",
       "Aragon                   3\n",
       "Lombardy                 3\n",
       "Landiras                 3\n",
       "Pennslyvania             3\n",
       "Abruzzo                  3\n",
       "Cornwall                 3\n",
       "Burgundy-Champagne       3\n",
       "Basilicata               3\n",
       "Catalunya                3\n",
       "Maine                    3\n",
       "Montebore                3\n",
       "Castel_San_Gimignano     3\n",
       "Aosta                    3\n",
       "Canary_Islands           3\n",
       "Pennsylvania             3\n",
       "Extremadura              3\n",
       "Oregon                   3\n",
       "Washington               3\n",
       "Cavallermaggiore         3\n",
       "Languedoc-Roussillon     3\n",
       "Centre                   3\n",
       "Tufertschwil             3\n",
       "Krammenaer               3\n",
       "Cumbria                  3\n",
       "Bourgogne                3\n",
       "Valle_Vigezzo            3\n",
       "Thurgau                  2\n",
       "Rhone-Alpes              2\n",
       "Cantabria                2\n",
       "Tuscany                  2\n",
       "Pays_de_la_Loire         2\n",
       "Gelati                   2\n",
       "categorical              1\n",
       "Name: region, dtype: int64"
      ]
     },
     "execution_count": 15,
     "metadata": {},
     "output_type": "execute_result"
    }
   ],
   "source": [
    "df_metadata['region'].value_counts()"
   ]
  },
  {
   "cell_type": "code",
   "execution_count": 16,
   "id": "dea2f84f",
   "metadata": {},
   "outputs": [
    {
     "name": "stdout",
     "output_type": "stream",
     "text": [
      "What cheese types are most over-/underrepresented in your dataset?\n",
      "The biggest group builds the washed cheese followed by the natural cheese rindtype bloomy builds the last and less represented group\n",
      "Do you see a geographic skew?\n",
      "The cheeses are mostly from Europe and as well from North America. However, when it comes to the country of origin the USA is the most represented followed by France.\n"
     ]
    }
   ],
   "source": [
    "#some qestions and aswers\n",
    "print(\"What cheese types are most over-/underrepresented in your dataset?\")\n",
    "print(\"The biggest group builds the washed cheese followed by the natural cheese rindtype bloomy builds the last and less represented group\")\n",
    "print(\"Do you see a geographic skew?\")\n",
    "print(\"The cheeses are mostly from Europe and as well from North America. However, when it comes to the country of origin the USA is the most represented followed by France.\")\n"
   ]
  }
 ],
 "metadata": {
  "kernelspec": {
   "display_name": "Python 3 (ipykernel)",
   "language": "python",
   "name": "python3"
  },
  "language_info": {
   "codemirror_mode": {
    "name": "ipython",
    "version": 3
   },
   "file_extension": ".py",
   "mimetype": "text/x-python",
   "name": "python",
   "nbconvert_exporter": "python",
   "pygments_lexer": "ipython3",
   "version": "3.8.13"
  }
 },
 "nbformat": 4,
 "nbformat_minor": 5
}
