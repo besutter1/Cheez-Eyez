{
 "cells": [
  {
   "cell_type": "markdown",
   "id": "51e3de27-d81a-4bd5-bafd-a9db058fcc79",
   "metadata": {
    "tags": []
   },
   "source": [
    "# Taxonomy full lenght\n"
   ]
  },
  {
   "cell_type": "markdown",
   "id": "73291ca4-06b6-4ea4-aab4-db160c3905c4",
   "metadata": {},
   "source": [
    "### NOTE: THIS FILE COMPAIRES THE FULL LENGTH CLASSIFIER VS THE 515f/806r CLASSIFIER FROM GREENGENES. \n",
    "\n",
    "**RESULTS:** When comparing the taxonomic classification of some feature IDs (classificatio with 515f/806r vs full-length) we discovered that the 515f-806r-classifier classified them to a slightly deeper taxonomic level. (SEE FIGURE SCREENSHOTS in project pdf) A more precise classification is beneficial to further analysis and since it was reported that species-level classification performance of 16S rRNA gene simulated reads had a slightly lower accuracy in full-length sequences than in V1–3 and V4 subdomains we decided to continue with the 515f-806r-classifier from Greengenes.\n",
    "\n",
    "feature ID example: 008e3cd88aac471b14f17c6ebd6dcff1\t\n",
    "\n",
    "| Classifier   |      Taxonomic classification      |  Confidence |\n",
    "|----------|:-------------:|------:|\n",
    "| full-length |  k__Bacteria; p__Actinobacteria; c__Actinobacteria; o__Actinomycetales | 0.9977607741262936 |\n",
    "| 515f-806r |    k__Bacteria; p__Actinobacteria; c__Actinobacteria; o__Actinomycetales; f__Microbacteriaceae; g__Pseudoclavibacter; s__bifida   | 0.8394070235862647   |\n",
    "\n",
    "\n",
    "515f-806r-classifier was able to assign taxonomy to species level whereas full-length classifier stopped already at order. Nevertheless, results should be interpreted with caution as also the confidence is lower with the 515f-806r-classifier. \n"
   ]
  },
  {
   "cell_type": "code",
   "execution_count": 1,
   "id": "6adc1e20-8c37-480a-ab48-ec9c42240bdd",
   "metadata": {},
   "outputs": [],
   "source": [
    "import os\n",
    "import pandas as pd\n",
    "from qiime2 import Visualization\n",
    "import matplotlib.pyplot as plt\n",
    "import numpy as np\n",
    "\n",
    "import qiime2 as q2\n",
    "\n",
    "%matplotlib inline\n",
    "data_dir = 'CE'"
   ]
  },
  {
   "cell_type": "code",
   "execution_count": 2,
   "id": "fca44ada-7573-4c45-a030-b92a56ab9915",
   "metadata": {},
   "outputs": [
    {
     "name": "stdout",
     "output_type": "stream",
     "text": [
      "2022-12-16 21:33:55 URL:https://s3-us-west-2.amazonaws.com/qiime2-data/2022.8/common/gg-13-8-99-nb-classifier.qza [104512483/104512483] -> \"CE/gg-13-8-99-nb-classifier.qza\" [1]\n"
     ]
    }
   ],
   "source": [
    "#fetch the pre-trained classifier \n",
    "! wget -nv -O $data_dir/gg-13-8-99-nb-classifier.qza https://data.qiime2.org/2022.8/common/gg-13-8-99-nb-classifier.qza\n"
   ]
  },
  {
   "cell_type": "code",
   "execution_count": 3,
   "id": "e430deef-b03d-427e-8c4a-cfec41f7a67f",
   "metadata": {},
   "outputs": [
    {
     "name": "stdout",
     "output_type": "stream",
     "text": [
      "\u001b[32mSaved FeatureData[Taxonomy] to: CE/taxonomy_full_length.qza\u001b[0m\n",
      "\u001b[0m"
     ]
    }
   ],
   "source": [
    "! qiime feature-classifier classify-sklearn \\\n",
    "    --i-classifier $data_dir/gg-13-8-99-nb-classifier.qza \\\n",
    "    --i-reads $data_dir/dada2_rep_set.qza \\\n",
    "    --o-classification $data_dir/taxonomy_full_length.qza"
   ]
  },
  {
   "cell_type": "code",
   "execution_count": 4,
   "id": "fdc42020-f17b-4a4d-8e0c-27fba67b87f9",
   "metadata": {},
   "outputs": [
    {
     "name": "stdout",
     "output_type": "stream",
     "text": [
      "\u001b[32mUUID\u001b[0m:        d30b0164-b887-402d-943e-23fd4aa3ddbf\n",
      "\u001b[32mType\u001b[0m:        FeatureData[Taxonomy]\n",
      "\u001b[32mData format\u001b[0m: TSVTaxonomyDirectoryFormat\n"
     ]
    }
   ],
   "source": [
    "! qiime tools peek $data_dir/taxonomy_full_length.qza"
   ]
  },
  {
   "cell_type": "markdown",
   "id": "60835257-72be-4d14-ad88-de75aa634ee0",
   "metadata": {},
   "source": [
    "visualizations:"
   ]
  },
  {
   "cell_type": "code",
   "execution_count": 5,
   "id": "ad3da664-0324-4feb-b0c3-f38592689990",
   "metadata": {},
   "outputs": [
    {
     "name": "stdout",
     "output_type": "stream",
     "text": [
      "\u001b[32mSaved Visualization to: CE/taxonomy_full_length.qzv\u001b[0m\n",
      "\u001b[0m"
     ]
    }
   ],
   "source": [
    "! qiime metadata tabulate \\\n",
    "    --m-input-file $data_dir/taxonomy_full_length.qza \\\n",
    "    --o-visualization $data_dir/taxonomy_full_length.qzv"
   ]
  },
  {
   "cell_type": "code",
   "execution_count": 6,
   "id": "921083ae-2003-4198-9589-594a4d646d9e",
   "metadata": {},
   "outputs": [
    {
     "data": {
      "text/html": [
       "<div><img onload=\"(function(div, url){\n",
       "if (typeof require !== 'undefined') {\n",
       "    var baseURL = require.toUrl('').split('/').slice(0, -2).join('/');\n",
       "} else {\n",
       "    var baseURL = JSON.parse(\n",
       "        document.getElementById('jupyter-config-data').innerHTML\n",
       "    ).baseUrl.slice(0, -1);\n",
       "}\n",
       "url = baseURL + url;\n",
       "fetch(url).then(function(res) {\n",
       "    if (res.status === 404) {\n",
       "        div.innerHTML = 'Install QIIME 2 Jupyter extension with:<br />' +\n",
       "                        '<code>jupyter serverextension enable --py qiime2' +\n",
       "                        ' --sys-prefix</code><br />then restart your server.' +\n",
       "                        '<br /><br />(Interactive output not available on ' +\n",
       "                        'static notebook viewer services like nbviewer.)';\n",
       "    } else if (res.status === 409) {\n",
       "        div.innerHTML = 'Visualization no longer in scope. Re-run this cell' +\n",
       "                        ' to see the visualization.';\n",
       "    } else if (res.ok) {\n",
       "        url = res.url;\n",
       "        div.innerHTML = '<iframe src=\\'' + url + '\\' style=\\'' +\n",
       "                        'width: 100%; height: 700px; border: 0;\\'>' +\n",
       "                        '</iframe><hr />Open in a: <a href=\\'' + url + '\\'' +\n",
       "                        ' target=\\'_blank\\'>new window</a>'\n",
       "    } else {\n",
       "        div.innerHTML = 'Something has gone wrong. Check notebook server for' +\n",
       "                        ' errors.';\n",
       "    }\n",
       "});\n",
       "})(this.parentElement, '/qiime2/redirect?location=/tmp/qiime2-archive-sxc9_tn6')\" src=\"data:image/gif;base64,R0lGODlhAQABAIAAAP///wAAACH5BAEAAAAALAAAAAABAAEAAAICRAEAOw==\" /></div>"
      ],
      "text/plain": [
       "<visualization: Visualization uuid: 9aa3eee0-f77c-4592-8f7a-e3a8e224cde5>"
      ]
     },
     "execution_count": 6,
     "metadata": {},
     "output_type": "execute_result"
    }
   ],
   "source": [
    "Visualization.load(f'{data_dir}/taxonomy_full_length.qzv')"
   ]
  },
  {
   "cell_type": "code",
   "execution_count": 7,
   "id": "8f3906de-62bd-4840-ad59-1b4fbb2df9d9",
   "metadata": {},
   "outputs": [
    {
     "name": "stdout",
     "output_type": "stream",
     "text": [
      "\u001b[32mSaved FeatureTable[Frequency] to: CE/dada2_table_align_filtered_full_length.qza\u001b[0m\n",
      "\u001b[0m"
     ]
    }
   ],
   "source": [
    "#here we use the feature table artifact which was previously aligned with the metadata [see taxonomy.ipynb]\n",
    "#filter feature table and exclude mitochondria,chloroplast\n",
    "! qiime taxa filter-table \\\n",
    "--i-table $data_dir/dada2_table_aligned.qza \\\n",
    "--i-taxonomy $data_dir/taxonomy_full_length.qza \\\n",
    "--p-exclude mitochondria,chloroplast \\\n",
    "--o-filtered-table $data_dir/dada2_table_align_filtered_full_length.qza"
   ]
  },
  {
   "cell_type": "code",
   "execution_count": 8,
   "id": "494619a6-c460-451c-938a-6ea3a7f4cbd6",
   "metadata": {},
   "outputs": [
    {
     "name": "stdout",
     "output_type": "stream",
     "text": [
      "\u001b[32mSaved FeatureData[Sequence] to: CE/dada2_rep_set_filtered_full_length.qza\u001b[0m\n",
      "\u001b[0m"
     ]
    }
   ],
   "source": [
    "#filter sequences and exclude mitochondria,chloroplast\n",
    "! qiime taxa filter-seqs \\\n",
    "--i-sequences $data_dir/dada2_rep_set.qza \\\n",
    "--i-taxonomy $data_dir/taxonomy_full_length.qza \\\n",
    "--p-exclude mitochondria,chloroplast \\\n",
    "--o-filtered-sequences $data_dir/dada2_rep_set_filtered_full_length.qza"
   ]
  },
  {
   "cell_type": "code",
   "execution_count": 9,
   "id": "e2c57af9-8b1e-4bf8-a353-842abff1286b",
   "metadata": {},
   "outputs": [
    {
     "name": "stdout",
     "output_type": "stream",
     "text": [
      "\u001b[32mSaved Visualization to: CE/taxa-bar-plots_full_length_filtered.qzv\u001b[0m\n",
      "\u001b[0m"
     ]
    }
   ],
   "source": [
    "#this is the new barplot with the filtered feature table and sequences NO MITOCHONDRIA AND CHLOOROPLAST VISIBLE\n",
    "! qiime taxa barplot \\\n",
    "--i-table $data_dir/dada2_table_align_filtered_full_length.qza \\\n",
    "--i-taxonomy $data_dir/taxonomy_full_length.qza \\\n",
    "--m-metadata-file $data_dir/food-metadata.tsv \\\n",
    "--o-visualization $data_dir/taxa-bar-plots_full_length_filtered.qzv"
   ]
  },
  {
   "cell_type": "code",
   "execution_count": 10,
   "id": "e615a867-2a0a-4409-9020-99da30fa6d62",
   "metadata": {},
   "outputs": [
    {
     "data": {
      "text/html": [
       "<div><img onload=\"(function(div, url){\n",
       "if (typeof require !== 'undefined') {\n",
       "    var baseURL = require.toUrl('').split('/').slice(0, -2).join('/');\n",
       "} else {\n",
       "    var baseURL = JSON.parse(\n",
       "        document.getElementById('jupyter-config-data').innerHTML\n",
       "    ).baseUrl.slice(0, -1);\n",
       "}\n",
       "url = baseURL + url;\n",
       "fetch(url).then(function(res) {\n",
       "    if (res.status === 404) {\n",
       "        div.innerHTML = 'Install QIIME 2 Jupyter extension with:<br />' +\n",
       "                        '<code>jupyter serverextension enable --py qiime2' +\n",
       "                        ' --sys-prefix</code><br />then restart your server.' +\n",
       "                        '<br /><br />(Interactive output not available on ' +\n",
       "                        'static notebook viewer services like nbviewer.)';\n",
       "    } else if (res.status === 409) {\n",
       "        div.innerHTML = 'Visualization no longer in scope. Re-run this cell' +\n",
       "                        ' to see the visualization.';\n",
       "    } else if (res.ok) {\n",
       "        url = res.url;\n",
       "        div.innerHTML = '<iframe src=\\'' + url + '\\' style=\\'' +\n",
       "                        'width: 100%; height: 700px; border: 0;\\'>' +\n",
       "                        '</iframe><hr />Open in a: <a href=\\'' + url + '\\'' +\n",
       "                        ' target=\\'_blank\\'>new window</a>'\n",
       "    } else {\n",
       "        div.innerHTML = 'Something has gone wrong. Check notebook server for' +\n",
       "                        ' errors.';\n",
       "    }\n",
       "});\n",
       "})(this.parentElement, '/qiime2/redirect?location=/tmp/qiime2-archive-1v2n4kjs')\" src=\"data:image/gif;base64,R0lGODlhAQABAIAAAP///wAAACH5BAEAAAAALAAAAAABAAEAAAICRAEAOw==\" /></div>"
      ],
      "text/plain": [
       "<visualization: Visualization uuid: f915ca74-e0d2-4aff-9d7d-e1503b2c4eec>"
      ]
     },
     "execution_count": 10,
     "metadata": {},
     "output_type": "execute_result"
    }
   ],
   "source": [
    "Visualization.load(f'{data_dir}/taxa-bar-plots_full_length_filtered.qzv')"
   ]
  },
  {
   "cell_type": "markdown",
   "id": "8714fe27-5516-4de6-aae8-590639fdd66e",
   "metadata": {},
   "source": []
  }
 ],
 "metadata": {
  "kernelspec": {
   "display_name": "Python 3 (ipykernel)",
   "language": "python",
   "name": "python3"
  },
  "language_info": {
   "codemirror_mode": {
    "name": "ipython",
    "version": 3
   },
   "file_extension": ".py",
   "mimetype": "text/x-python",
   "name": "python",
   "nbconvert_exporter": "python",
   "pygments_lexer": "ipython3",
   "version": "3.8.13"
  }
 },
 "nbformat": 4,
 "nbformat_minor": 5
}
