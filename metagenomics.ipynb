{
 "cells": [
  {
   "cell_type": "markdown",
   "id": "3b48991e-5cdc-4ad1-a483-ef67f132f9b9",
   "metadata": {},
   "source": [
    "### Metagenomics"
   ]
  },
  {
   "cell_type": "code",
   "execution_count": 33,
   "id": "a284a5a8-0b6d-4466-9a7e-ee8fe71db068",
   "metadata": {},
   "outputs": [],
   "source": [
    "import os\n",
    "import pandas as pd\n",
    "import qiime2 as q2\n",
    "import requests\n",
    "\n",
    "from qiime2 import Visualization\n",
    "\n",
    "data_dir = 'CE'\n",
    "    \n",
    "%matplotlib inline"
   ]
  },
  {
   "cell_type": "code",
   "execution_count": 2,
   "id": "5dada12d-b773-49c3-8c1b-f539ae9982c9",
   "metadata": {},
   "outputs": [],
   "source": [
    "def fetch_ipath(ids: list, img_output_path: str, verbose: bool = False):\n",
    "    \"\"\"Fetches a enriched pathways map from iPATH3 for given IDs.\"\"\"\n",
    "    url = 'https://pathways.embl.de/mapping.cgi'\n",
    "    \n",
    "    # remove colon from EC names\n",
    "    if ':' in ids[0]:\n",
    "        ids = [x.replace(':', '') for x in ids]\n",
    "    \n",
    "    if verbose:\n",
    "        print(f'Fetching iPATH3 diagram for ids: {ids}')\n",
    "    params = {\n",
    "        'default_opacity': 0.6,\n",
    "        'export_type': 'svg',\n",
    "        'selection': '\\n'.join(ids)\n",
    "    }   \n",
    "    response = requests.get(url=url, params=params)\n",
    "    \n",
    "    with open(img_output_path, 'wb') as img:\n",
    "        img.write(response.content)"
   ]
  },
  {
   "cell_type": "code",
   "execution_count": 3,
   "id": "04e09bc5-ab3f-4bb0-b8c8-1bced40bdf6e",
   "metadata": {},
   "outputs": [],
   "source": [
    "picrust_env = '/opt/conda/envs/picrust2/bin'"
   ]
  },
  {
   "cell_type": "markdown",
   "id": "8e921372-b0df-4ab2-9f83-58d2e0b8b864",
   "metadata": {},
   "source": [
    "#### Functional inference"
   ]
  },
  {
   "cell_type": "markdown",
   "id": "6456884f-f66b-4ec0-8544-72ccc9430c80",
   "metadata": {},
   "source": [
    "As this step would take very long to run, all the artifacts that would be generated in this step are ready to download in the next command (Download files)."
   ]
  },
  {
   "cell_type": "code",
   "execution_count": 26,
   "id": "0f4f2822-f5ca-4ee5-b29d-860429793978",
   "metadata": {},
   "outputs": [],
   "source": [
    "#%%script env picrust_env=\"$picrust_env\" data_dir=\"$data_dir\" bash\n",
    "\n",
    "#export PATH=$picrust_env:$PATH\n",
    "\n",
    "#$picrust_env/qiime picrust2 full-pipeline \\\n",
    " #   --i-seq $data_dir/dada2_rep_set_filtered.qza \\\n",
    "  #  --i-table $data_dir/dada2_table_align_filtered.qza \\\n",
    "   # --output-dir $data_dir/picrust2_results \\\n",
    "    #--p-placement-tool sepp \\\n",
    "    #--p-threads 2 \\\n",
    "    #--p-hsp-method pic \\\n",
    "    #--p-max-nsti 2 "
   ]
  },
  {
   "cell_type": "markdown",
   "id": "0896e942-b7ac-48bc-8ce6-d06be591bf8f",
   "metadata": {},
   "source": [
    "##### Download files"
   ]
  },
  {
   "cell_type": "code",
   "execution_count": 5,
   "id": "9756b7f0-e8a8-4110-8a14-785d6b04009f",
   "metadata": {},
   "outputs": [
    {
     "name": "stdout",
     "output_type": "stream",
     "text": [
      "2022-11-23 10:40:45 URL:https://polybox.ethz.ch/index.php/s/9IoT5okOckQUCl5/download [47323823] -> \"CE/picrust2_results/metagenomics.zip\" [1]\n"
     ]
    }
   ],
   "source": [
    "! wget -nv -O $data_dir/picrust2_results/metagenomics.zip 'https://polybox.ethz.ch/index.php/s/9IoT5okOckQUCl5/download'"
   ]
  },
  {
   "cell_type": "code",
   "execution_count": 6,
   "id": "a77a5617-fd30-4328-a00e-12b4ac3316be",
   "metadata": {},
   "outputs": [],
   "source": [
    "! unzip -q $data_dir/picrust2_results/metagenomics.zip -d $data_dir\n",
    "! rm $data_dir/picrust2_results/metagenomics.zip"
   ]
  },
  {
   "cell_type": "markdown",
   "id": "bedeb98b-e57f-4555-9efd-5107554e3e69",
   "metadata": {},
   "source": [
    "##### visualize metadata"
   ]
  },
  {
   "cell_type": "code",
   "execution_count": 38,
   "id": "a4e92e90-f59a-480b-91ca-ca2a27a953f7",
   "metadata": {},
   "outputs": [],
   "source": [
    "metadata = pd.read_csv(f'{data_dir}/food-metadata.tsv', sep='\\t', header=0, index_col=0)"
   ]
  },
  {
   "cell_type": "code",
   "execution_count": 3,
   "id": "ab22e55e-14af-4310-9f49-c3269910434f",
   "metadata": {},
   "outputs": [
    {
     "name": "stdout",
     "output_type": "stream",
     "text": [
      "\u001b[32mSaved Visualization to: CE/food-metadata.qzv\u001b[0m\n",
      "\u001b[0m"
     ]
    }
   ],
   "source": [
    "! qiime metadata tabulate \\\n",
    "    --m-input-file $data_dir/food-metadata.tsv \\\n",
    "    --o-visualization $data_dir/food-metadata.qzv"
   ]
  },
  {
   "cell_type": "code",
   "execution_count": 34,
   "id": "7119fd0c-f02e-48cd-9219-1771e6f88afa",
   "metadata": {},
   "outputs": [
    {
     "data": {
      "text/html": [
       "<div><img onload=\"(function(div, url){\n",
       "if (typeof require !== 'undefined') {\n",
       "    var baseURL = require.toUrl('').split('/').slice(0, -2).join('/');\n",
       "} else {\n",
       "    var baseURL = JSON.parse(\n",
       "        document.getElementById('jupyter-config-data').innerHTML\n",
       "    ).baseUrl.slice(0, -1);\n",
       "}\n",
       "url = baseURL + url;\n",
       "fetch(url).then(function(res) {\n",
       "    if (res.status === 404) {\n",
       "        div.innerHTML = 'Install QIIME 2 Jupyter extension with:<br />' +\n",
       "                        '<code>jupyter serverextension enable --py qiime2' +\n",
       "                        ' --sys-prefix</code><br />then restart your server.' +\n",
       "                        '<br /><br />(Interactive output not available on ' +\n",
       "                        'static notebook viewer services like nbviewer.)';\n",
       "    } else if (res.status === 409) {\n",
       "        div.innerHTML = 'Visualization no longer in scope. Re-run this cell' +\n",
       "                        ' to see the visualization.';\n",
       "    } else if (res.ok) {\n",
       "        url = res.url;\n",
       "        div.innerHTML = '<iframe src=\\'' + url + '\\' style=\\'' +\n",
       "                        'width: 100%; height: 700px; border: 0;\\'>' +\n",
       "                        '</iframe><hr />Open in a: <a href=\\'' + url + '\\'' +\n",
       "                        ' target=\\'_blank\\'>new window</a>'\n",
       "    } else {\n",
       "        div.innerHTML = 'Something has gone wrong. Check notebook server for' +\n",
       "                        ' errors.';\n",
       "    }\n",
       "});\n",
       "})(this.parentElement, '/qiime2/redirect?location=/tmp/qiime2-archive-vehcu5qt')\" src=\"data:image/gif;base64,R0lGODlhAQABAIAAAP///wAAACH5BAEAAAAALAAAAAABAAEAAAICRAEAOw==\" /></div>"
      ],
      "text/plain": [
       "<visualization: Visualization uuid: b7f93fda-aff6-4163-b538-49fb64f5b15a>"
      ]
     },
     "execution_count": 34,
     "metadata": {},
     "output_type": "execute_result"
    }
   ],
   "source": [
    "Visualization.load(f'{data_dir}/food-metadata.qzv')"
   ]
  },
  {
   "cell_type": "markdown",
   "id": "df7b27f2-b4f3-4198-91a9-a3d2a9a27d32",
   "metadata": {},
   "source": [
    "Then the unfiltered picrust2 results were loaded and viewed as dataframes. after that the generated tables are quickly checked by using the df.head(3) function."
   ]
  },
  {
   "cell_type": "code",
   "execution_count": 32,
   "id": "6d20c5b0-aae0-4e50-b560-237404dc9907",
   "metadata": {},
   "outputs": [],
   "source": [
    "ko = q2.Artifact.load(f'{data_dir}/picrust2_results/ko_metagenome.qza').view(pd.DataFrame)\n",
    "ec = q2.Artifact.load(f'{data_dir}/picrust2_results/ec_metagenome.qza').view(pd.DataFrame)\n",
    "pa = q2.Artifact.load(f'{data_dir}/picrust2_results/pathway_abundance.qza').view(pd.DataFrame)"
   ]
  },
  {
   "cell_type": "code",
   "execution_count": 29,
   "id": "3827af6c-ac0d-46b5-a11a-75c15bc45f8f",
   "metadata": {},
   "outputs": [
    {
     "data": {
      "text/html": [
       "<div>\n",
       "<style scoped>\n",
       "    .dataframe tbody tr th:only-of-type {\n",
       "        vertical-align: middle;\n",
       "    }\n",
       "\n",
       "    .dataframe tbody tr th {\n",
       "        vertical-align: top;\n",
       "    }\n",
       "\n",
       "    .dataframe thead th {\n",
       "        text-align: right;\n",
       "    }\n",
       "</style>\n",
       "<table border=\"1\" class=\"dataframe\">\n",
       "  <thead>\n",
       "    <tr style=\"text-align: right;\">\n",
       "      <th></th>\n",
       "      <th>K00001</th>\n",
       "      <th>K00002</th>\n",
       "      <th>K00003</th>\n",
       "      <th>K00004</th>\n",
       "      <th>K00005</th>\n",
       "      <th>K00007</th>\n",
       "      <th>K00008</th>\n",
       "      <th>K00009</th>\n",
       "      <th>K00010</th>\n",
       "      <th>K00011</th>\n",
       "      <th>...</th>\n",
       "      <th>K19776</th>\n",
       "      <th>K19777</th>\n",
       "      <th>K19778</th>\n",
       "      <th>K19779</th>\n",
       "      <th>K19780</th>\n",
       "      <th>K19784</th>\n",
       "      <th>K19785</th>\n",
       "      <th>K19788</th>\n",
       "      <th>K19789</th>\n",
       "      <th>K19791</th>\n",
       "    </tr>\n",
       "  </thead>\n",
       "  <tbody>\n",
       "    <tr>\n",
       "      <th>11488.CSB279</th>\n",
       "      <td>20.870000</td>\n",
       "      <td>0.000000</td>\n",
       "      <td>29.869996</td>\n",
       "      <td>19.088461</td>\n",
       "      <td>11.732050</td>\n",
       "      <td>0.000000</td>\n",
       "      <td>18.000000</td>\n",
       "      <td>18.870000</td>\n",
       "      <td>0.000000</td>\n",
       "      <td>0.0</td>\n",
       "      <td>...</td>\n",
       "      <td>0.000000</td>\n",
       "      <td>0.0</td>\n",
       "      <td>0.0</td>\n",
       "      <td>0.0</td>\n",
       "      <td>0.0</td>\n",
       "      <td>0.000000</td>\n",
       "      <td>0.0</td>\n",
       "      <td>0.0</td>\n",
       "      <td>0.00</td>\n",
       "      <td>0.0</td>\n",
       "    </tr>\n",
       "    <tr>\n",
       "      <th>11488.CSB280</th>\n",
       "      <td>4710.087735</td>\n",
       "      <td>0.883903</td>\n",
       "      <td>3087.591228</td>\n",
       "      <td>570.973332</td>\n",
       "      <td>598.687396</td>\n",
       "      <td>165.710000</td>\n",
       "      <td>2901.450636</td>\n",
       "      <td>1056.542353</td>\n",
       "      <td>951.836496</td>\n",
       "      <td>0.0</td>\n",
       "      <td>...</td>\n",
       "      <td>165.710000</td>\n",
       "      <td>0.0</td>\n",
       "      <td>0.0</td>\n",
       "      <td>0.0</td>\n",
       "      <td>0.0</td>\n",
       "      <td>282.312795</td>\n",
       "      <td>0.0</td>\n",
       "      <td>0.0</td>\n",
       "      <td>165.71</td>\n",
       "      <td>0.0</td>\n",
       "    </tr>\n",
       "    <tr>\n",
       "      <th>11488.CSB281</th>\n",
       "      <td>18839.163176</td>\n",
       "      <td>3.409240</td>\n",
       "      <td>14063.556301</td>\n",
       "      <td>2020.855062</td>\n",
       "      <td>1447.226731</td>\n",
       "      <td>112.020927</td>\n",
       "      <td>13866.909927</td>\n",
       "      <td>7162.240350</td>\n",
       "      <td>3390.350956</td>\n",
       "      <td>0.0</td>\n",
       "      <td>...</td>\n",
       "      <td>112.020927</td>\n",
       "      <td>0.0</td>\n",
       "      <td>0.0</td>\n",
       "      <td>0.0</td>\n",
       "      <td>0.0</td>\n",
       "      <td>534.467339</td>\n",
       "      <td>0.0</td>\n",
       "      <td>0.0</td>\n",
       "      <td>237.86</td>\n",
       "      <td>0.0</td>\n",
       "    </tr>\n",
       "  </tbody>\n",
       "</table>\n",
       "<p>3 rows × 10110 columns</p>\n",
       "</div>"
      ],
      "text/plain": [
       "                    K00001    K00002        K00003       K00004       K00005  \\\n",
       "11488.CSB279     20.870000  0.000000     29.869996    19.088461    11.732050   \n",
       "11488.CSB280   4710.087735  0.883903   3087.591228   570.973332   598.687396   \n",
       "11488.CSB281  18839.163176  3.409240  14063.556301  2020.855062  1447.226731   \n",
       "\n",
       "                  K00007        K00008       K00009       K00010  K00011  ...  \\\n",
       "11488.CSB279    0.000000     18.000000    18.870000     0.000000     0.0  ...   \n",
       "11488.CSB280  165.710000   2901.450636  1056.542353   951.836496     0.0  ...   \n",
       "11488.CSB281  112.020927  13866.909927  7162.240350  3390.350956     0.0  ...   \n",
       "\n",
       "                  K19776  K19777  K19778  K19779  K19780      K19784  K19785  \\\n",
       "11488.CSB279    0.000000     0.0     0.0     0.0     0.0    0.000000     0.0   \n",
       "11488.CSB280  165.710000     0.0     0.0     0.0     0.0  282.312795     0.0   \n",
       "11488.CSB281  112.020927     0.0     0.0     0.0     0.0  534.467339     0.0   \n",
       "\n",
       "              K19788  K19789  K19791  \n",
       "11488.CSB279     0.0    0.00     0.0  \n",
       "11488.CSB280     0.0  165.71     0.0  \n",
       "11488.CSB281     0.0  237.86     0.0  \n",
       "\n",
       "[3 rows x 10110 columns]"
      ]
     },
     "execution_count": 29,
     "metadata": {},
     "output_type": "execute_result"
    }
   ],
   "source": [
    "ko.head(3)"
   ]
  },
  {
   "cell_type": "code",
   "execution_count": 30,
   "id": "5d56702c-584e-4fee-8762-8eadbe32409e",
   "metadata": {},
   "outputs": [
    {
     "data": {
      "text/html": [
       "<div>\n",
       "<style scoped>\n",
       "    .dataframe tbody tr th:only-of-type {\n",
       "        vertical-align: middle;\n",
       "    }\n",
       "\n",
       "    .dataframe tbody tr th {\n",
       "        vertical-align: top;\n",
       "    }\n",
       "\n",
       "    .dataframe thead th {\n",
       "        text-align: right;\n",
       "    }\n",
       "</style>\n",
       "<table border=\"1\" class=\"dataframe\">\n",
       "  <thead>\n",
       "    <tr style=\"text-align: right;\">\n",
       "      <th></th>\n",
       "      <th>EC:1.1.1.1</th>\n",
       "      <th>EC:1.1.1.10</th>\n",
       "      <th>EC:1.1.1.100</th>\n",
       "      <th>EC:1.1.1.101</th>\n",
       "      <th>EC:1.1.1.102</th>\n",
       "      <th>EC:1.1.1.103</th>\n",
       "      <th>EC:1.1.1.105</th>\n",
       "      <th>EC:1.1.1.107</th>\n",
       "      <th>EC:1.1.1.108</th>\n",
       "      <th>EC:1.1.1.11</th>\n",
       "      <th>...</th>\n",
       "      <th>EC:6.4.1.8</th>\n",
       "      <th>EC:6.5.1.1</th>\n",
       "      <th>EC:6.5.1.2</th>\n",
       "      <th>EC:6.5.1.3</th>\n",
       "      <th>EC:6.5.1.4</th>\n",
       "      <th>EC:6.5.1.5</th>\n",
       "      <th>EC:6.5.1.6</th>\n",
       "      <th>EC:6.5.1.7</th>\n",
       "      <th>EC:6.6.1.1</th>\n",
       "      <th>EC:6.6.1.2</th>\n",
       "    </tr>\n",
       "  </thead>\n",
       "  <tbody>\n",
       "    <tr>\n",
       "      <th>11488.CSB279</th>\n",
       "      <td>65.976567</td>\n",
       "      <td>2.732050</td>\n",
       "      <td>118.609739</td>\n",
       "      <td>0.0</td>\n",
       "      <td>0.000000</td>\n",
       "      <td>8.267950</td>\n",
       "      <td>0.0</td>\n",
       "      <td>0.0</td>\n",
       "      <td>18.000000</td>\n",
       "      <td>0.000000</td>\n",
       "      <td>...</td>\n",
       "      <td>0.0</td>\n",
       "      <td>0.000000</td>\n",
       "      <td>29.870000</td>\n",
       "      <td>0.000000</td>\n",
       "      <td>0.000000e+00</td>\n",
       "      <td>0.0</td>\n",
       "      <td>0.000000</td>\n",
       "      <td>0.000000</td>\n",
       "      <td>0.000000</td>\n",
       "      <td>0.000000</td>\n",
       "    </tr>\n",
       "    <tr>\n",
       "      <th>11488.CSB280</th>\n",
       "      <td>21375.766822</td>\n",
       "      <td>0.000000</td>\n",
       "      <td>25027.534329</td>\n",
       "      <td>0.0</td>\n",
       "      <td>1.233809</td>\n",
       "      <td>217.384043</td>\n",
       "      <td>0.0</td>\n",
       "      <td>2008.0</td>\n",
       "      <td>2418.591401</td>\n",
       "      <td>165.710000</td>\n",
       "      <td>...</td>\n",
       "      <td>6024.0</td>\n",
       "      <td>6645.273765</td>\n",
       "      <td>3604.834077</td>\n",
       "      <td>434.392199</td>\n",
       "      <td>1.847061e-12</td>\n",
       "      <td>0.0</td>\n",
       "      <td>2249.739494</td>\n",
       "      <td>2249.739494</td>\n",
       "      <td>4385.110009</td>\n",
       "      <td>2254.049543</td>\n",
       "    </tr>\n",
       "    <tr>\n",
       "      <th>11488.CSB281</th>\n",
       "      <td>87446.728701</td>\n",
       "      <td>0.017552</td>\n",
       "      <td>101400.676468</td>\n",
       "      <td>0.0</td>\n",
       "      <td>0.000000</td>\n",
       "      <td>391.650232</td>\n",
       "      <td>0.0</td>\n",
       "      <td>8139.0</td>\n",
       "      <td>10094.037269</td>\n",
       "      <td>112.020927</td>\n",
       "      <td>...</td>\n",
       "      <td>24417.0</td>\n",
       "      <td>26331.128764</td>\n",
       "      <td>14365.575900</td>\n",
       "      <td>3813.974857</td>\n",
       "      <td>4.250465e-12</td>\n",
       "      <td>0.0</td>\n",
       "      <td>8801.180360</td>\n",
       "      <td>8801.180360</td>\n",
       "      <td>17249.749391</td>\n",
       "      <td>8836.278806</td>\n",
       "    </tr>\n",
       "  </tbody>\n",
       "</table>\n",
       "<p>3 rows × 2833 columns</p>\n",
       "</div>"
      ],
      "text/plain": [
       "                EC:1.1.1.1  EC:1.1.1.10   EC:1.1.1.100  EC:1.1.1.101  \\\n",
       "11488.CSB279     65.976567     2.732050     118.609739           0.0   \n",
       "11488.CSB280  21375.766822     0.000000   25027.534329           0.0   \n",
       "11488.CSB281  87446.728701     0.017552  101400.676468           0.0   \n",
       "\n",
       "              EC:1.1.1.102  EC:1.1.1.103  EC:1.1.1.105  EC:1.1.1.107  \\\n",
       "11488.CSB279      0.000000      8.267950           0.0           0.0   \n",
       "11488.CSB280      1.233809    217.384043           0.0        2008.0   \n",
       "11488.CSB281      0.000000    391.650232           0.0        8139.0   \n",
       "\n",
       "              EC:1.1.1.108  EC:1.1.1.11  ...  EC:6.4.1.8    EC:6.5.1.1  \\\n",
       "11488.CSB279     18.000000     0.000000  ...         0.0      0.000000   \n",
       "11488.CSB280   2418.591401   165.710000  ...      6024.0   6645.273765   \n",
       "11488.CSB281  10094.037269   112.020927  ...     24417.0  26331.128764   \n",
       "\n",
       "                EC:6.5.1.2   EC:6.5.1.3    EC:6.5.1.4  EC:6.5.1.5  \\\n",
       "11488.CSB279     29.870000     0.000000  0.000000e+00         0.0   \n",
       "11488.CSB280   3604.834077   434.392199  1.847061e-12         0.0   \n",
       "11488.CSB281  14365.575900  3813.974857  4.250465e-12         0.0   \n",
       "\n",
       "               EC:6.5.1.6   EC:6.5.1.7    EC:6.6.1.1   EC:6.6.1.2  \n",
       "11488.CSB279     0.000000     0.000000      0.000000     0.000000  \n",
       "11488.CSB280  2249.739494  2249.739494   4385.110009  2254.049543  \n",
       "11488.CSB281  8801.180360  8801.180360  17249.749391  8836.278806  \n",
       "\n",
       "[3 rows x 2833 columns]"
      ]
     },
     "execution_count": 30,
     "metadata": {},
     "output_type": "execute_result"
    }
   ],
   "source": [
    "ec.head(3)"
   ]
  },
  {
   "cell_type": "code",
   "execution_count": 31,
   "id": "de4d71c9-5482-40f3-b75a-5fdda1ffea36",
   "metadata": {},
   "outputs": [
    {
     "data": {
      "text/html": [
       "<div>\n",
       "<style scoped>\n",
       "    .dataframe tbody tr th:only-of-type {\n",
       "        vertical-align: middle;\n",
       "    }\n",
       "\n",
       "    .dataframe tbody tr th {\n",
       "        vertical-align: top;\n",
       "    }\n",
       "\n",
       "    .dataframe thead th {\n",
       "        text-align: right;\n",
       "    }\n",
       "</style>\n",
       "<table border=\"1\" class=\"dataframe\">\n",
       "  <thead>\n",
       "    <tr style=\"text-align: right;\">\n",
       "      <th></th>\n",
       "      <th>1CMET2-PWY</th>\n",
       "      <th>3-HYDROXYPHENYLACETATE-DEGRADATION-PWY</th>\n",
       "      <th>AEROBACTINSYN-PWY</th>\n",
       "      <th>ALL-CHORISMATE-PWY</th>\n",
       "      <th>ANAEROFRUCAT-PWY</th>\n",
       "      <th>ANAGLYCOLYSIS-PWY</th>\n",
       "      <th>ARG+POLYAMINE-SYN</th>\n",
       "      <th>ARGDEG-PWY</th>\n",
       "      <th>ARGORNPROST-PWY</th>\n",
       "      <th>ARGSYN-PWY</th>\n",
       "      <th>...</th>\n",
       "      <th>THISYN-PWY</th>\n",
       "      <th>THREOCAT-PWY</th>\n",
       "      <th>THRESYN-PWY</th>\n",
       "      <th>TRNA-CHARGING-PWY</th>\n",
       "      <th>TRPSYN-PWY</th>\n",
       "      <th>TYRFUMCAT-PWY</th>\n",
       "      <th>UBISYN-PWY</th>\n",
       "      <th>UDPNAGSYN-PWY</th>\n",
       "      <th>VALDEG-PWY</th>\n",
       "      <th>VALSYN-PWY</th>\n",
       "    </tr>\n",
       "  </thead>\n",
       "  <tbody>\n",
       "    <tr>\n",
       "      <th>11488.CSB279</th>\n",
       "      <td>29.087959</td>\n",
       "      <td>0.000000</td>\n",
       "      <td>0.0</td>\n",
       "      <td>0.000000</td>\n",
       "      <td>32.959133</td>\n",
       "      <td>39.774215</td>\n",
       "      <td>0.000000</td>\n",
       "      <td>0.000000</td>\n",
       "      <td>3.113013</td>\n",
       "      <td>27.818255</td>\n",
       "      <td>...</td>\n",
       "      <td>0.000000</td>\n",
       "      <td>0.000000</td>\n",
       "      <td>30.567475</td>\n",
       "      <td>26.785641</td>\n",
       "      <td>33.139028</td>\n",
       "      <td>0.000000</td>\n",
       "      <td>13.567483</td>\n",
       "      <td>32.052976</td>\n",
       "      <td>0.0</td>\n",
       "      <td>40.751255</td>\n",
       "    </tr>\n",
       "    <tr>\n",
       "      <th>11488.CSB280</th>\n",
       "      <td>4897.933964</td>\n",
       "      <td>511.684352</td>\n",
       "      <td>0.0</td>\n",
       "      <td>900.991069</td>\n",
       "      <td>4305.126894</td>\n",
       "      <td>4163.846656</td>\n",
       "      <td>1156.690606</td>\n",
       "      <td>323.661369</td>\n",
       "      <td>2554.919784</td>\n",
       "      <td>3839.894544</td>\n",
       "      <td>...</td>\n",
       "      <td>1721.375952</td>\n",
       "      <td>391.171377</td>\n",
       "      <td>3825.459102</td>\n",
       "      <td>2781.586473</td>\n",
       "      <td>3451.307117</td>\n",
       "      <td>802.594678</td>\n",
       "      <td>369.631491</td>\n",
       "      <td>3593.319358</td>\n",
       "      <td>0.0</td>\n",
       "      <td>5636.811638</td>\n",
       "    </tr>\n",
       "    <tr>\n",
       "      <th>11488.CSB281</th>\n",
       "      <td>20378.996367</td>\n",
       "      <td>767.883225</td>\n",
       "      <td>0.0</td>\n",
       "      <td>1925.233525</td>\n",
       "      <td>18908.454250</td>\n",
       "      <td>17719.000907</td>\n",
       "      <td>2168.025574</td>\n",
       "      <td>330.649935</td>\n",
       "      <td>8489.141475</td>\n",
       "      <td>16836.100159</td>\n",
       "      <td>...</td>\n",
       "      <td>3062.271909</td>\n",
       "      <td>600.324140</td>\n",
       "      <td>16594.619391</td>\n",
       "      <td>12912.178157</td>\n",
       "      <td>15623.688919</td>\n",
       "      <td>1730.403876</td>\n",
       "      <td>740.066897</td>\n",
       "      <td>16022.014999</td>\n",
       "      <td>0.0</td>\n",
       "      <td>24485.801019</td>\n",
       "    </tr>\n",
       "  </tbody>\n",
       "</table>\n",
       "<p>3 rows × 467 columns</p>\n",
       "</div>"
      ],
      "text/plain": [
       "                1CMET2-PWY  3-HYDROXYPHENYLACETATE-DEGRADATION-PWY  \\\n",
       "11488.CSB279     29.087959                                0.000000   \n",
       "11488.CSB280   4897.933964                              511.684352   \n",
       "11488.CSB281  20378.996367                              767.883225   \n",
       "\n",
       "              AEROBACTINSYN-PWY  ALL-CHORISMATE-PWY  ANAEROFRUCAT-PWY  \\\n",
       "11488.CSB279                0.0            0.000000         32.959133   \n",
       "11488.CSB280                0.0          900.991069       4305.126894   \n",
       "11488.CSB281                0.0         1925.233525      18908.454250   \n",
       "\n",
       "              ANAGLYCOLYSIS-PWY  ARG+POLYAMINE-SYN  ARGDEG-PWY  \\\n",
       "11488.CSB279          39.774215           0.000000    0.000000   \n",
       "11488.CSB280        4163.846656        1156.690606  323.661369   \n",
       "11488.CSB281       17719.000907        2168.025574  330.649935   \n",
       "\n",
       "              ARGORNPROST-PWY    ARGSYN-PWY  ...   THISYN-PWY  THREOCAT-PWY  \\\n",
       "11488.CSB279         3.113013     27.818255  ...     0.000000      0.000000   \n",
       "11488.CSB280      2554.919784   3839.894544  ...  1721.375952    391.171377   \n",
       "11488.CSB281      8489.141475  16836.100159  ...  3062.271909    600.324140   \n",
       "\n",
       "               THRESYN-PWY  TRNA-CHARGING-PWY    TRPSYN-PWY  TYRFUMCAT-PWY  \\\n",
       "11488.CSB279     30.567475          26.785641     33.139028       0.000000   \n",
       "11488.CSB280   3825.459102        2781.586473   3451.307117     802.594678   \n",
       "11488.CSB281  16594.619391       12912.178157  15623.688919    1730.403876   \n",
       "\n",
       "              UBISYN-PWY  UDPNAGSYN-PWY  VALDEG-PWY    VALSYN-PWY  \n",
       "11488.CSB279   13.567483      32.052976         0.0     40.751255  \n",
       "11488.CSB280  369.631491    3593.319358         0.0   5636.811638  \n",
       "11488.CSB281  740.066897   16022.014999         0.0  24485.801019  \n",
       "\n",
       "[3 rows x 467 columns]"
      ]
     },
     "execution_count": 31,
     "metadata": {},
     "output_type": "execute_result"
    }
   ],
   "source": [
    "pa.head(3)"
   ]
  },
  {
   "cell_type": "markdown",
   "id": "d3c3ee55-2540-4c47-a31a-1ce238441b96",
   "metadata": {},
   "source": [
    "The tables now contain information about different levels of the functional profiles:\n",
    "\n",
    "1. `ko` table: columns represent KEGG orthologs, as indicated by their names (e.g., **K**19777)\n",
    "2. `ec` table: columns represent enzymes, as indicated by the Enzyme Commission numbers (e.g., **EC**:1.1.1.108)\n",
    "3. `pa` table: columns represent entire pathways using the MetaCyc classification (e.g., ANAGLYCOLYSIS-PWY)"
   ]
  },
  {
   "cell_type": "markdown",
   "id": "3e98b0c7-59d3-4aac-96f6-8933c9ca9d13",
   "metadata": {},
   "source": [
    "Feature table was merged with the pasteurization column from the metadata."
   ]
  },
  {
   "cell_type": "code",
   "execution_count": 39,
   "id": "4f4dba53-41d5-4dcb-8bf9-8f1f6aa18e65",
   "metadata": {},
   "outputs": [],
   "source": [
    "ko_meta = ko.merge(metadata[['pasteurized']], left_index=True, right_index=True)\n",
    "ec_meta = ec.merge(metadata[['pasteurized']], left_index=True, right_index=True)\n",
    "pa_meta = pa.merge(metadata[['pasteurized']], left_index=True, right_index=True)"
   ]
  },
  {
   "cell_type": "code",
   "execution_count": 40,
   "id": "ca85779f-c916-405f-bc4a-0cbe48cdfd86",
   "metadata": {},
   "outputs": [],
   "source": [
    "ko_meta_avg = ko_meta.groupby('pasteurized').mean()\n",
    "ec_meta_avg = ec_meta.groupby('pasteurized').mean()\n",
    "pa_meta_avg = pa_meta.groupby('pasteurized').mean()"
   ]
  },
  {
   "cell_type": "code",
   "execution_count": 41,
   "id": "061c31da-5f70-469e-a169-617795ef393b",
   "metadata": {},
   "outputs": [
    {
     "data": {
      "text/html": [
       "<div>\n",
       "<style scoped>\n",
       "    .dataframe tbody tr th:only-of-type {\n",
       "        vertical-align: middle;\n",
       "    }\n",
       "\n",
       "    .dataframe tbody tr th {\n",
       "        vertical-align: top;\n",
       "    }\n",
       "\n",
       "    .dataframe thead th {\n",
       "        text-align: right;\n",
       "    }\n",
       "</style>\n",
       "<table border=\"1\" class=\"dataframe\">\n",
       "  <thead>\n",
       "    <tr style=\"text-align: right;\">\n",
       "      <th></th>\n",
       "      <th>K00001</th>\n",
       "      <th>K00002</th>\n",
       "      <th>K00003</th>\n",
       "      <th>K00004</th>\n",
       "      <th>K00005</th>\n",
       "      <th>K00007</th>\n",
       "      <th>K00008</th>\n",
       "      <th>K00009</th>\n",
       "      <th>K00010</th>\n",
       "      <th>K00011</th>\n",
       "      <th>...</th>\n",
       "      <th>K19776</th>\n",
       "      <th>K19777</th>\n",
       "      <th>K19778</th>\n",
       "      <th>K19779</th>\n",
       "      <th>K19780</th>\n",
       "      <th>K19784</th>\n",
       "      <th>K19785</th>\n",
       "      <th>K19788</th>\n",
       "      <th>K19789</th>\n",
       "      <th>K19791</th>\n",
       "    </tr>\n",
       "    <tr>\n",
       "      <th>pasteurized</th>\n",
       "      <th></th>\n",
       "      <th></th>\n",
       "      <th></th>\n",
       "      <th></th>\n",
       "      <th></th>\n",
       "      <th></th>\n",
       "      <th></th>\n",
       "      <th></th>\n",
       "      <th></th>\n",
       "      <th></th>\n",
       "      <th></th>\n",
       "      <th></th>\n",
       "      <th></th>\n",
       "      <th></th>\n",
       "      <th></th>\n",
       "      <th></th>\n",
       "      <th></th>\n",
       "      <th></th>\n",
       "      <th></th>\n",
       "      <th></th>\n",
       "      <th></th>\n",
       "    </tr>\n",
       "  </thead>\n",
       "  <tbody>\n",
       "    <tr>\n",
       "      <th>N</th>\n",
       "      <td>45212.003827</td>\n",
       "      <td>185.908689</td>\n",
       "      <td>37531.219524</td>\n",
       "      <td>14012.060133</td>\n",
       "      <td>5540.705731</td>\n",
       "      <td>39.233664</td>\n",
       "      <td>26725.283658</td>\n",
       "      <td>8666.802792</td>\n",
       "      <td>4928.603070</td>\n",
       "      <td>0.000004</td>\n",
       "      <td>...</td>\n",
       "      <td>206.156283</td>\n",
       "      <td>198.177837</td>\n",
       "      <td>221.580649</td>\n",
       "      <td>1.507643e-38</td>\n",
       "      <td>8.650003</td>\n",
       "      <td>3140.075768</td>\n",
       "      <td>4.876630e-125</td>\n",
       "      <td>9.019276e-55</td>\n",
       "      <td>2227.031159</td>\n",
       "      <td>0.520927</td>\n",
       "    </tr>\n",
       "    <tr>\n",
       "      <th>Y</th>\n",
       "      <td>48813.259252</td>\n",
       "      <td>322.071220</td>\n",
       "      <td>49677.769682</td>\n",
       "      <td>21221.676186</td>\n",
       "      <td>10779.027223</td>\n",
       "      <td>237.477202</td>\n",
       "      <td>36895.098419</td>\n",
       "      <td>16783.979802</td>\n",
       "      <td>18479.601949</td>\n",
       "      <td>0.000676</td>\n",
       "      <td>...</td>\n",
       "      <td>431.210745</td>\n",
       "      <td>204.207785</td>\n",
       "      <td>236.545723</td>\n",
       "      <td>8.246362e-38</td>\n",
       "      <td>12.900228</td>\n",
       "      <td>10312.811629</td>\n",
       "      <td>6.062880e-125</td>\n",
       "      <td>1.121323e-54</td>\n",
       "      <td>6174.098661</td>\n",
       "      <td>10.168494</td>\n",
       "    </tr>\n",
       "  </tbody>\n",
       "</table>\n",
       "<p>2 rows × 10110 columns</p>\n",
       "</div>"
      ],
      "text/plain": [
       "                   K00001      K00002        K00003        K00004  \\\n",
       "pasteurized                                                         \n",
       "N            45212.003827  185.908689  37531.219524  14012.060133   \n",
       "Y            48813.259252  322.071220  49677.769682  21221.676186   \n",
       "\n",
       "                   K00005      K00007        K00008        K00009  \\\n",
       "pasteurized                                                         \n",
       "N             5540.705731   39.233664  26725.283658   8666.802792   \n",
       "Y            10779.027223  237.477202  36895.098419  16783.979802   \n",
       "\n",
       "                   K00010    K00011  ...      K19776      K19777      K19778  \\\n",
       "pasteurized                          ...                                       \n",
       "N             4928.603070  0.000004  ...  206.156283  198.177837  221.580649   \n",
       "Y            18479.601949  0.000676  ...  431.210745  204.207785  236.545723   \n",
       "\n",
       "                   K19779     K19780        K19784         K19785  \\\n",
       "pasteurized                                                         \n",
       "N            1.507643e-38   8.650003   3140.075768  4.876630e-125   \n",
       "Y            8.246362e-38  12.900228  10312.811629  6.062880e-125   \n",
       "\n",
       "                   K19788       K19789     K19791  \n",
       "pasteurized                                        \n",
       "N            9.019276e-55  2227.031159   0.520927  \n",
       "Y            1.121323e-54  6174.098661  10.168494  \n",
       "\n",
       "[2 rows x 10110 columns]"
      ]
     },
     "execution_count": 41,
     "metadata": {},
     "output_type": "execute_result"
    }
   ],
   "source": [
    "ko_meta_avg.head()"
   ]
  },
  {
   "cell_type": "code",
   "execution_count": 42,
   "id": "337d2a24-f646-4b83-b93d-a0a0c7796be8",
   "metadata": {},
   "outputs": [
    {
     "name": "stdout",
     "output_type": "stream",
     "text": [
      "Saving 101 most abundant features...\n",
      "Saving 84 most abundant features...\n",
      "Saving 5 most abundant features...\n"
     ]
    }
   ],
   "source": [
    "# find top x% of the most abundant KOs, ECs and pathways in each sample type\n",
    "\n",
    "def find_most_abundant(df: pd.DataFrame, frac):\n",
    "    if 0 < frac < 1:\n",
    "        frac = int(frac * len(df.columns))\n",
    "    print(f'Saving {frac} most abundant features...')\n",
    "    most_abundant = {\n",
    "        smp: df.loc[smp, :].sort_values(ascending=False)[:frac]\n",
    "        for smp in df.index\n",
    "    }\n",
    "    return most_abundant\n",
    "\n",
    "ko_most_abundant = find_most_abundant(ko_meta_avg, 0.01)\n",
    "ec_most_abundant = find_most_abundant(ec_meta_avg, 0.03)\n",
    "pa_most_abundant = find_most_abundant(pa_meta_avg, 5)"
   ]
  },
  {
   "cell_type": "markdown",
   "id": "6a528632-1d2b-46e9-8194-7b78aca2fe14",
   "metadata": {},
   "source": [
    "Printing the most abundant KOs:"
   ]
  },
  {
   "cell_type": "code",
   "execution_count": 15,
   "id": "52107923-d5d4-4e7f-872c-951d33737d07",
   "metadata": {},
   "outputs": [
    {
     "name": "stdout",
     "output_type": "stream",
     "text": [
      "10 most abundant KOs in the treatment group are: ['K01990', 'K02015', 'K01992', 'K00059', 'K03088', 'K02529', 'K02016', 'K02013', 'K00626', 'K07090']\n",
      "10 most abundant KOs in the non-treatment group are: ['K01990', 'K01992', 'K02015', 'K03088', 'K00059', 'K02529', 'K00626', 'K02016', 'K02013', 'K00666']\n",
      "\n"
     ]
    }
   ],
   "source": [
    "print(f'10 most abundant KOs in the treatment group are: {ko_most_abundant[\"Y\"].index[:10].tolist()}\\n'\n",
    "      f'10 most abundant KOs in the non-treatment group are: {ko_most_abundant[\"N\"].index[:10].tolist()}\\n')"
   ]
  },
  {
   "cell_type": "code",
   "execution_count": 18,
   "id": "5bd9bab4-7c42-4a9e-bc4b-ffae22becfa0",
   "metadata": {},
   "outputs": [],
   "source": [
    "for smp in ko_most_abundant.keys():\n",
    "    fetch_ipath(ko_most_abundant[smp].index.tolist(), f'{data_dir}/kos_{smp}.svg')\n",
    "    fetch_ipath(ec_most_abundant[smp].index.str.replace(':', '').tolist(), f'{data_dir}/ecs_{smp}.svg')"
   ]
  },
  {
   "cell_type": "markdown",
   "id": "b88867e9-72bf-4393-9833-75b1927e68ca",
   "metadata": {},
   "source": [
    "Nothing too interesting was seen, so let's continue with enriched pathways.\n",
    "\n",
    "Printing the most abundant enriched pathways:"
   ]
  },
  {
   "cell_type": "code",
   "execution_count": 44,
   "id": "1d75ec80-777c-4cd0-9d74-0cc4682181b2",
   "metadata": {},
   "outputs": [
    {
     "name": "stdout",
     "output_type": "stream",
     "text": [
      "4 most abundant pathways in the treatment group are: ['PWY-7111', 'PWY-3781', 'PWY-5101', 'NONOXIPENT-PWY']\n",
      "4 most abundant pathways in the non-treatment group are: ['PWY-3781', 'PWY-7111', 'PWY-5101', 'NONOXIPENT-PWY']\n",
      "\n"
     ]
    }
   ],
   "source": [
    "print(f'4 most abundant pathways in the treatment group are: {pa_most_abundant[\"Y\"].index[:4].tolist()}\\n'\n",
    "      f'4 most abundant pathways in the non-treatment group are: {pa_most_abundant[\"N\"].index[:4].tolist()}\\n')"
   ]
  },
  {
   "cell_type": "code",
   "execution_count": 8,
   "id": "7890798b-0243-4036-9cb9-a1e2e08451db",
   "metadata": {},
   "outputs": [
    {
     "name": "stdout",
     "output_type": "stream",
     "text": [
      "\u001b[32mSaved FeatureTable[Composition] to: CE/picrust2_results/pathway_abundance_differences.qza\u001b[0m\n",
      "\u001b[0m"
     ]
    }
   ],
   "source": [
    "! qiime composition add-pseudocount \\\n",
    "    --i-table $data_dir/picrust2_results/pathway_abundance.qza \\\n",
    "    --o-composition-table $data_dir/picrust2_results/pathway_abundance_differences.qza"
   ]
  },
  {
   "cell_type": "markdown",
   "id": "b91973a2-fb68-4133-8b5b-82b1c1e2c406",
   "metadata": {},
   "source": [
    "Ancom, to look at whether there are significant differences in the pathways of pasteruized verus non-pasteruized cheeses."
   ]
  },
  {
   "cell_type": "code",
   "execution_count": 47,
   "id": "46d13c2b-a013-406f-b2a8-dab13fc57bb7",
   "metadata": {},
   "outputs": [
    {
     "name": "stdout",
     "output_type": "stream",
     "text": [
      "\u001b[32mSaved Visualization to: CE/pa_ancom_pasteurized.qzv\u001b[0m\n",
      "\u001b[0m"
     ]
    }
   ],
   "source": [
    "! qiime composition ancom \\\n",
    "    --i-table $data_dir/picrust2_results/pathway_abundance_differences.qza \\\n",
    "    --m-metadata-file $data_dir/food-metadata.tsv \\\n",
    "    --m-metadata-column pasteurized \\\n",
    "    --p-transform-function log \\\n",
    "    --o-visualization $data_dir/pa_ancom_pasteurized.qzv"
   ]
  },
  {
   "cell_type": "code",
   "execution_count": 2,
   "id": "ed20694f-7b68-4e11-9ae4-e2162e840f46",
   "metadata": {},
   "outputs": [
    {
     "data": {
      "text/html": [
       "<div><img onload=\"(function(div, url){\n",
       "if (typeof require !== 'undefined') {\n",
       "    var baseURL = require.toUrl('').split('/').slice(0, -2).join('/');\n",
       "} else {\n",
       "    var baseURL = JSON.parse(\n",
       "        document.getElementById('jupyter-config-data').innerHTML\n",
       "    ).baseUrl.slice(0, -1);\n",
       "}\n",
       "url = baseURL + url;\n",
       "fetch(url).then(function(res) {\n",
       "    if (res.status === 404) {\n",
       "        div.innerHTML = 'Install QIIME 2 Jupyter extension with:<br />' +\n",
       "                        '<code>jupyter serverextension enable --py qiime2' +\n",
       "                        ' --sys-prefix</code><br />then restart your server.' +\n",
       "                        '<br /><br />(Interactive output not available on ' +\n",
       "                        'static notebook viewer services like nbviewer.)';\n",
       "    } else if (res.status === 409) {\n",
       "        div.innerHTML = 'Visualization no longer in scope. Re-run this cell' +\n",
       "                        ' to see the visualization.';\n",
       "    } else if (res.ok) {\n",
       "        url = res.url;\n",
       "        div.innerHTML = '<iframe src=\\'' + url + '\\' style=\\'' +\n",
       "                        'width: 100%; height: 700px; border: 0;\\'>' +\n",
       "                        '</iframe><hr />Open in a: <a href=\\'' + url + '\\'' +\n",
       "                        ' target=\\'_blank\\'>new window</a>'\n",
       "    } else {\n",
       "        div.innerHTML = 'Something has gone wrong. Check notebook server for' +\n",
       "                        ' errors.';\n",
       "    }\n",
       "});\n",
       "})(this.parentElement, '/qiime2/redirect?location=/tmp/qiime2-archive-n_dda7ki')\" src=\"data:image/gif;base64,R0lGODlhAQABAIAAAP///wAAACH5BAEAAAAALAAAAAABAAEAAAICRAEAOw==\" /></div>"
      ],
      "text/plain": [
       "<visualization: Visualization uuid: 51d891ea-a130-4576-b4ad-9fa615e19bdb>"
      ]
     },
     "execution_count": 2,
     "metadata": {},
     "output_type": "execute_result"
    }
   ],
   "source": [
    "Visualization.load(f'{data_dir}/pa_ancom_pasteurized.qzv')"
   ]
  },
  {
   "cell_type": "markdown",
   "id": "ff388643-44db-4bbf-b84e-5b0791753b96",
   "metadata": {},
   "source": [
    "three significant different pathways were found for pasteurized vs non pasteurized: \n",
    "- GLUCOSE1PMETAB-PWY\twith W = 465 -> more abundant in pasteurized\n",
    "- PWY0-1533\twith W = 420 -> more abundant in pasteurized\n",
    "- PWY-6397\twith W = 420 -> more abundant in non-pasteurized"
   ]
  },
  {
   "cell_type": "markdown",
   "id": "063280fb-ab1f-4412-b606-c15f19323ec4",
   "metadata": {},
   "source": [
    "Now we want to compare bloomy and washed rindtypes. As the rindtype column has more than two classes we first need to filter the third class (natural) out."
   ]
  },
  {
   "cell_type": "code",
   "execution_count": 20,
   "id": "fdc9ead7-7cb5-4441-8818-503f5395359f",
   "metadata": {},
   "outputs": [
    {
     "name": "stdout",
     "output_type": "stream",
     "text": [
      "\u001b[32mSaved FeatureTable[Frequency] to: CE/picrust2_results/pathway_abundance_washed_bloomy.qza\u001b[0m\n",
      "\u001b[0m"
     ]
    }
   ],
   "source": [
    "! qiime feature-table filter-samples \\\n",
    "    --i-table $data_dir/picrust2_results/pathway_abundance.qza \\\n",
    "    --m-metadata-file $data_dir/food-metadata.tsv \\\n",
    "    --p-where \"[rindtype]='washed' OR [rindtype]='bloomy'\" \\\n",
    "    --o-filtered-table $data_dir/picrust2_results/pathway_abundance_washed_bloomy.qza"
   ]
  },
  {
   "cell_type": "code",
   "execution_count": 21,
   "id": "69276282-74a2-42b7-810d-7f1107463439",
   "metadata": {},
   "outputs": [],
   "source": [
    "pawb = q2.Artifact.load(f'{data_dir}/picrust2_results/pathway_abundance_washed_bloomy.qza').view(pd.DataFrame)"
   ]
  },
  {
   "cell_type": "code",
   "execution_count": 22,
   "id": "ba5cef81-2c7e-4f58-b3de-fe6bc6b4f6d7",
   "metadata": {},
   "outputs": [
    {
     "data": {
      "text/html": [
       "<div>\n",
       "<style scoped>\n",
       "    .dataframe tbody tr th:only-of-type {\n",
       "        vertical-align: middle;\n",
       "    }\n",
       "\n",
       "    .dataframe tbody tr th {\n",
       "        vertical-align: top;\n",
       "    }\n",
       "\n",
       "    .dataframe thead th {\n",
       "        text-align: right;\n",
       "    }\n",
       "</style>\n",
       "<table border=\"1\" class=\"dataframe\">\n",
       "  <thead>\n",
       "    <tr style=\"text-align: right;\">\n",
       "      <th></th>\n",
       "      <th>1CMET2-PWY</th>\n",
       "      <th>3-HYDROXYPHENYLACETATE-DEGRADATION-PWY</th>\n",
       "      <th>AEROBACTINSYN-PWY</th>\n",
       "      <th>ALL-CHORISMATE-PWY</th>\n",
       "      <th>ANAEROFRUCAT-PWY</th>\n",
       "      <th>ANAGLYCOLYSIS-PWY</th>\n",
       "      <th>ARG+POLYAMINE-SYN</th>\n",
       "      <th>ARGDEG-PWY</th>\n",
       "      <th>ARGORNPROST-PWY</th>\n",
       "      <th>ARGSYN-PWY</th>\n",
       "      <th>...</th>\n",
       "      <th>THISYN-PWY</th>\n",
       "      <th>THREOCAT-PWY</th>\n",
       "      <th>THRESYN-PWY</th>\n",
       "      <th>TRNA-CHARGING-PWY</th>\n",
       "      <th>TRPSYN-PWY</th>\n",
       "      <th>TYRFUMCAT-PWY</th>\n",
       "      <th>UBISYN-PWY</th>\n",
       "      <th>UDPNAGSYN-PWY</th>\n",
       "      <th>VALDEG-PWY</th>\n",
       "      <th>VALSYN-PWY</th>\n",
       "    </tr>\n",
       "  </thead>\n",
       "  <tbody>\n",
       "    <tr>\n",
       "      <th>11488.CSB290</th>\n",
       "      <td>12637.890024</td>\n",
       "      <td>906.965037</td>\n",
       "      <td>0.000000</td>\n",
       "      <td>0.000000</td>\n",
       "      <td>11934.402822</td>\n",
       "      <td>11063.274587</td>\n",
       "      <td>663.536056</td>\n",
       "      <td>0.000000</td>\n",
       "      <td>5593.865049</td>\n",
       "      <td>10377.259212</td>\n",
       "      <td>...</td>\n",
       "      <td>1893.451621</td>\n",
       "      <td>0.00000</td>\n",
       "      <td>9614.696886</td>\n",
       "      <td>4609.063843</td>\n",
       "      <td>9756.335402</td>\n",
       "      <td>10.294863</td>\n",
       "      <td>288.190037</td>\n",
       "      <td>9883.616193</td>\n",
       "      <td>0.0</td>\n",
       "      <td>17027.740368</td>\n",
       "    </tr>\n",
       "    <tr>\n",
       "      <th>11488.CSB291</th>\n",
       "      <td>9812.885169</td>\n",
       "      <td>1181.754274</td>\n",
       "      <td>0.000000</td>\n",
       "      <td>0.000000</td>\n",
       "      <td>9908.779207</td>\n",
       "      <td>9114.048202</td>\n",
       "      <td>902.283025</td>\n",
       "      <td>0.000000</td>\n",
       "      <td>6031.125195</td>\n",
       "      <td>8649.332999</td>\n",
       "      <td>...</td>\n",
       "      <td>2392.746116</td>\n",
       "      <td>0.00000</td>\n",
       "      <td>7949.604075</td>\n",
       "      <td>4321.629940</td>\n",
       "      <td>8297.595173</td>\n",
       "      <td>0.000000</td>\n",
       "      <td>346.755855</td>\n",
       "      <td>8312.001306</td>\n",
       "      <td>0.0</td>\n",
       "      <td>15706.753487</td>\n",
       "    </tr>\n",
       "    <tr>\n",
       "      <th>11488.CSB292</th>\n",
       "      <td>10233.505770</td>\n",
       "      <td>767.084806</td>\n",
       "      <td>0.000000</td>\n",
       "      <td>0.000000</td>\n",
       "      <td>9860.887213</td>\n",
       "      <td>9155.356721</td>\n",
       "      <td>556.104221</td>\n",
       "      <td>0.000000</td>\n",
       "      <td>4472.335197</td>\n",
       "      <td>8572.653613</td>\n",
       "      <td>...</td>\n",
       "      <td>1604.466674</td>\n",
       "      <td>0.00000</td>\n",
       "      <td>7986.461627</td>\n",
       "      <td>3470.535997</td>\n",
       "      <td>8192.541574</td>\n",
       "      <td>0.000000</td>\n",
       "      <td>252.286194</td>\n",
       "      <td>8193.325410</td>\n",
       "      <td>0.0</td>\n",
       "      <td>14055.001076</td>\n",
       "    </tr>\n",
       "    <tr>\n",
       "      <th>11488.CSB299</th>\n",
       "      <td>925.653823</td>\n",
       "      <td>188.904398</td>\n",
       "      <td>0.297164</td>\n",
       "      <td>21.057654</td>\n",
       "      <td>1529.206959</td>\n",
       "      <td>1616.659405</td>\n",
       "      <td>154.361302</td>\n",
       "      <td>35.618171</td>\n",
       "      <td>762.807619</td>\n",
       "      <td>1304.051567</td>\n",
       "      <td>...</td>\n",
       "      <td>64.715543</td>\n",
       "      <td>0.01318</td>\n",
       "      <td>1419.361116</td>\n",
       "      <td>1169.957038</td>\n",
       "      <td>1557.423974</td>\n",
       "      <td>184.096137</td>\n",
       "      <td>117.397328</td>\n",
       "      <td>1433.639443</td>\n",
       "      <td>0.0</td>\n",
       "      <td>2084.415143</td>\n",
       "    </tr>\n",
       "    <tr>\n",
       "      <th>11488.CSB300</th>\n",
       "      <td>3071.639373</td>\n",
       "      <td>491.933085</td>\n",
       "      <td>0.460374</td>\n",
       "      <td>599.410248</td>\n",
       "      <td>3598.444000</td>\n",
       "      <td>3986.662395</td>\n",
       "      <td>1313.961133</td>\n",
       "      <td>665.789745</td>\n",
       "      <td>2106.527589</td>\n",
       "      <td>3760.512195</td>\n",
       "      <td>...</td>\n",
       "      <td>662.562468</td>\n",
       "      <td>0.00000</td>\n",
       "      <td>3775.423286</td>\n",
       "      <td>3137.012254</td>\n",
       "      <td>4242.688306</td>\n",
       "      <td>1952.066295</td>\n",
       "      <td>1418.647685</td>\n",
       "      <td>3790.448335</td>\n",
       "      <td>0.0</td>\n",
       "      <td>5404.696700</td>\n",
       "    </tr>\n",
       "  </tbody>\n",
       "</table>\n",
       "<p>5 rows × 452 columns</p>\n",
       "</div>"
      ],
      "text/plain": [
       "                1CMET2-PWY  3-HYDROXYPHENYLACETATE-DEGRADATION-PWY  \\\n",
       "11488.CSB290  12637.890024                              906.965037   \n",
       "11488.CSB291   9812.885169                             1181.754274   \n",
       "11488.CSB292  10233.505770                              767.084806   \n",
       "11488.CSB299    925.653823                              188.904398   \n",
       "11488.CSB300   3071.639373                              491.933085   \n",
       "\n",
       "              AEROBACTINSYN-PWY  ALL-CHORISMATE-PWY  ANAEROFRUCAT-PWY  \\\n",
       "11488.CSB290           0.000000            0.000000      11934.402822   \n",
       "11488.CSB291           0.000000            0.000000       9908.779207   \n",
       "11488.CSB292           0.000000            0.000000       9860.887213   \n",
       "11488.CSB299           0.297164           21.057654       1529.206959   \n",
       "11488.CSB300           0.460374          599.410248       3598.444000   \n",
       "\n",
       "              ANAGLYCOLYSIS-PWY  ARG+POLYAMINE-SYN  ARGDEG-PWY  \\\n",
       "11488.CSB290       11063.274587         663.536056    0.000000   \n",
       "11488.CSB291        9114.048202         902.283025    0.000000   \n",
       "11488.CSB292        9155.356721         556.104221    0.000000   \n",
       "11488.CSB299        1616.659405         154.361302   35.618171   \n",
       "11488.CSB300        3986.662395        1313.961133  665.789745   \n",
       "\n",
       "              ARGORNPROST-PWY    ARGSYN-PWY  ...   THISYN-PWY  THREOCAT-PWY  \\\n",
       "11488.CSB290      5593.865049  10377.259212  ...  1893.451621       0.00000   \n",
       "11488.CSB291      6031.125195   8649.332999  ...  2392.746116       0.00000   \n",
       "11488.CSB292      4472.335197   8572.653613  ...  1604.466674       0.00000   \n",
       "11488.CSB299       762.807619   1304.051567  ...    64.715543       0.01318   \n",
       "11488.CSB300      2106.527589   3760.512195  ...   662.562468       0.00000   \n",
       "\n",
       "              THRESYN-PWY  TRNA-CHARGING-PWY   TRPSYN-PWY  TYRFUMCAT-PWY  \\\n",
       "11488.CSB290  9614.696886        4609.063843  9756.335402      10.294863   \n",
       "11488.CSB291  7949.604075        4321.629940  8297.595173       0.000000   \n",
       "11488.CSB292  7986.461627        3470.535997  8192.541574       0.000000   \n",
       "11488.CSB299  1419.361116        1169.957038  1557.423974     184.096137   \n",
       "11488.CSB300  3775.423286        3137.012254  4242.688306    1952.066295   \n",
       "\n",
       "               UBISYN-PWY  UDPNAGSYN-PWY  VALDEG-PWY    VALSYN-PWY  \n",
       "11488.CSB290   288.190037    9883.616193         0.0  17027.740368  \n",
       "11488.CSB291   346.755855    8312.001306         0.0  15706.753487  \n",
       "11488.CSB292   252.286194    8193.325410         0.0  14055.001076  \n",
       "11488.CSB299   117.397328    1433.639443         0.0   2084.415143  \n",
       "11488.CSB300  1418.647685    3790.448335         0.0   5404.696700  \n",
       "\n",
       "[5 rows x 452 columns]"
      ]
     },
     "execution_count": 22,
     "metadata": {},
     "output_type": "execute_result"
    }
   ],
   "source": [
    "pawb.head()"
   ]
  },
  {
   "cell_type": "code",
   "execution_count": 23,
   "id": "95ad4ad6-8e6b-4eaa-80a6-eac4de67584c",
   "metadata": {},
   "outputs": [
    {
     "name": "stdout",
     "output_type": "stream",
     "text": [
      "\u001b[32mSaved FeatureTable[Composition] to: CE/picrust2_results/pathway_abundance_differences_washed_bloomy.qza\u001b[0m\n",
      "\u001b[0m"
     ]
    }
   ],
   "source": [
    "! qiime composition add-pseudocount \\\n",
    "    --i-table $data_dir/picrust2_results/pathway_abundance_washed_bloomy.qza \\\n",
    "    --o-composition-table $data_dir/picrust2_results/pathway_abundance_differences_washed_bloomy.qza"
   ]
  },
  {
   "cell_type": "code",
   "execution_count": 24,
   "id": "0e066c46-f978-4686-815f-6c0da8a0d4ca",
   "metadata": {},
   "outputs": [
    {
     "name": "stdout",
     "output_type": "stream",
     "text": [
      "\u001b[32mSaved Visualization to: CE/pa_ancom_rindtype_bloomy_vs_washed.qzv\u001b[0m\n",
      "\u001b[0m"
     ]
    }
   ],
   "source": [
    "! qiime composition ancom \\\n",
    "    --i-table $data_dir/picrust2_results/pathway_abundance_differences_washed_bloomy.qza \\\n",
    "    --m-metadata-file $data_dir/food-metadata.tsv \\\n",
    "    --m-metadata-column rindtype \\\n",
    "    --p-transform-function log \\\n",
    "    --o-visualization $data_dir/pa_ancom_rindtype_bloomy_vs_washed.qzv"
   ]
  },
  {
   "cell_type": "code",
   "execution_count": 46,
   "id": "10e5cacf-f6f7-4cab-b67d-422dd4b289e4",
   "metadata": {},
   "outputs": [
    {
     "data": {
      "text/html": [
       "<div><img onload=\"(function(div, url){\n",
       "if (typeof require !== 'undefined') {\n",
       "    var baseURL = require.toUrl('').split('/').slice(0, -2).join('/');\n",
       "} else {\n",
       "    var baseURL = JSON.parse(\n",
       "        document.getElementById('jupyter-config-data').innerHTML\n",
       "    ).baseUrl.slice(0, -1);\n",
       "}\n",
       "url = baseURL + url;\n",
       "fetch(url).then(function(res) {\n",
       "    if (res.status === 404) {\n",
       "        div.innerHTML = 'Install QIIME 2 Jupyter extension with:<br />' +\n",
       "                        '<code>jupyter serverextension enable --py qiime2' +\n",
       "                        ' --sys-prefix</code><br />then restart your server.' +\n",
       "                        '<br /><br />(Interactive output not available on ' +\n",
       "                        'static notebook viewer services like nbviewer.)';\n",
       "    } else if (res.status === 409) {\n",
       "        div.innerHTML = 'Visualization no longer in scope. Re-run this cell' +\n",
       "                        ' to see the visualization.';\n",
       "    } else if (res.ok) {\n",
       "        url = res.url;\n",
       "        div.innerHTML = '<iframe src=\\'' + url + '\\' style=\\'' +\n",
       "                        'width: 100%; height: 700px; border: 0;\\'>' +\n",
       "                        '</iframe><hr />Open in a: <a href=\\'' + url + '\\'' +\n",
       "                        ' target=\\'_blank\\'>new window</a>'\n",
       "    } else {\n",
       "        div.innerHTML = 'Something has gone wrong. Check notebook server for' +\n",
       "                        ' errors.';\n",
       "    }\n",
       "});\n",
       "})(this.parentElement, '/qiime2/redirect?location=/tmp/qiime2-archive-5ruta52r')\" src=\"data:image/gif;base64,R0lGODlhAQABAIAAAP///wAAACH5BAEAAAAALAAAAAABAAEAAAICRAEAOw==\" /></div>"
      ],
      "text/plain": [
       "<visualization: Visualization uuid: 6a23a8db-6bd8-456a-be44-c447fc517850>"
      ]
     },
     "execution_count": 46,
     "metadata": {},
     "output_type": "execute_result"
    }
   ],
   "source": [
    "Visualization.load(f'{data_dir}/pa_ancom_rindtype_bloomy_vs_washed.qzv')"
   ]
  },
  {
   "cell_type": "markdown",
   "id": "ba1f4dd1-f6c3-4bca-b8bf-cd9831e38fba",
   "metadata": {},
   "source": [
    "For washed vs bloomy the following significantly different pathways were found:\n",
    "- PWY-6397\twith W = 451 -> more abundant in washed\n",
    "- PWY0-1338\twith W = 442 -> more abundant in bloomy\n",
    "- PWY-5005\twith W = 437 -> more abundant in washed\n",
    "- P164-PWY\twith W = 429 -> more abundant in washed\n",
    "- PWY-6107\twith W = 424 -> more abundant in washed\n",
    "- PWY-6942\twith W = 421 -> more abundant in washed\n",
    "- PWY-6629\twith W = 419 -> more abundant in washed"
   ]
  },
  {
   "cell_type": "code",
   "execution_count": null,
   "id": "59a1a3cb-19f6-4dc9-8378-ecedb8ac5295",
   "metadata": {},
   "outputs": [],
   "source": []
  },
  {
   "cell_type": "code",
   "execution_count": null,
   "id": "60054c26-4787-44f5-940e-de8ffb892b52",
   "metadata": {},
   "outputs": [],
   "source": []
  }
 ],
 "metadata": {
  "kernelspec": {
   "display_name": "Python 3 (ipykernel)",
   "language": "python",
   "name": "python3"
  },
  "language_info": {
   "codemirror_mode": {
    "name": "ipython",
    "version": 3
   },
   "file_extension": ".py",
   "mimetype": "text/x-python",
   "name": "python",
   "nbconvert_exporter": "python",
   "pygments_lexer": "ipython3",
   "version": "3.8.13"
  }
 },
 "nbformat": 4,
 "nbformat_minor": 5
}
