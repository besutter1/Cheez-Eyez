{
 "cells": [
  {
   "cell_type": "markdown",
   "id": "467047ae-e08e-4642-b32a-a951839f6497",
   "metadata": {},
   "source": [
    "# Data visualization\n",
    "\n"
   ]
  },
  {
   "cell_type": "code",
   "execution_count": 4,
   "id": "045a0c44-3218-4102-9978-48cc516351d1",
   "metadata": {},
   "outputs": [],
   "source": [
    "import os\n",
    "import pandas as pd\n",
    "from qiime2 import Visualization\n",
    "import matplotlib.pyplot as plt\n",
    "\n",
    "%matplotlib inline"
   ]
  },
  {
   "cell_type": "code",
   "execution_count": 3,
   "id": "6897ce7c-6bc6-4d4a-970b-2b4b6480f7d0",
   "metadata": {},
   "outputs": [
    {
     "ename": "SyntaxError",
     "evalue": "invalid syntax (1137994459.py, line 1)",
     "output_type": "error",
     "traceback": [
      "\u001b[0;36m  Input \u001b[0;32mIn [3]\u001b[0;36m\u001b[0m\n\u001b[0;31m    conda create -y -n q2coord\u001b[0m\n\u001b[0m          ^\u001b[0m\n\u001b[0;31mSyntaxError\u001b[0m\u001b[0;31m:\u001b[0m invalid syntax\n"
     ]
    }
   ],
   "source": [
    "qiime diversity alpha \\\n",
    "    --i-table even_table.qza \\\n",
    "    --p-metric observed_features \\\n",
    "    --o-alpha-diversity alpha_diversity_sample.qza\n",
    "\n",
    "qiime coordinates draw-map \\\n",
    "    --m-metadata-file alpha_diversity_sample.qza \\\n",
    "    --m-metadata-file chardonnay_sample_metadata.txt \\\n",
    "    --p-latitude latitude \\\n",
    "    --p-longitude longitude \\\n",
    "    --p-column observed_features \\\n",
    "    --o-visualization diversity-map.qzv"
   ]
  },
  {
   "cell_type": "code",
   "execution_count": null,
   "id": "5e499b78-318a-4a5f-9b05-afe05ec8aa9d",
   "metadata": {},
   "outputs": [],
   "source": []
  },
  {
   "cell_type": "code",
   "execution_count": null,
   "id": "4e14457f-a9a8-4802-a2f2-a8d155ead8f2",
   "metadata": {},
   "outputs": [],
   "source": []
  },
  {
   "cell_type": "code",
   "execution_count": null,
   "id": "e53c9855-745a-4304-bb0f-5311389678f7",
   "metadata": {},
   "outputs": [],
   "source": []
  },
  {
   "cell_type": "code",
   "execution_count": null,
   "id": "aa22f39a-5833-4e6d-808d-c350385cf436",
   "metadata": {},
   "outputs": [],
   "source": []
  },
  {
   "cell_type": "code",
   "execution_count": null,
   "id": "45456245-a0df-4fea-87bd-9309c28b9845",
   "metadata": {},
   "outputs": [],
   "source": []
  },
  {
   "cell_type": "code",
   "execution_count": null,
   "id": "b072feb9-93e9-45c7-8ca8-1c318ae2e1c1",
   "metadata": {},
   "outputs": [],
   "source": []
  },
  {
   "cell_type": "code",
   "execution_count": null,
   "id": "3080f43f-13b0-4e5b-8703-65e1a415bb89",
   "metadata": {},
   "outputs": [],
   "source": []
  },
  {
   "cell_type": "code",
   "execution_count": null,
   "id": "371a97a2-8b49-4c7c-b2df-90bb02f69c81",
   "metadata": {},
   "outputs": [],
   "source": []
  }
 ],
 "metadata": {
  "kernelspec": {
   "display_name": "Python 3 (ipykernel)",
   "language": "python",
   "name": "python3"
  },
  "language_info": {
   "codemirror_mode": {
    "name": "ipython",
    "version": 3
   },
   "file_extension": ".py",
   "mimetype": "text/x-python",
   "name": "python",
   "nbconvert_exporter": "python",
   "pygments_lexer": "ipython3",
   "version": "3.8.13"
  }
 },
 "nbformat": 4,
 "nbformat_minor": 5
}
