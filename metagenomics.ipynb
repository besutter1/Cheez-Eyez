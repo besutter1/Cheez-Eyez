{
 "cells": [
  {
   "cell_type": "markdown",
   "id": "3b48991e-5cdc-4ad1-a483-ef67f132f9b9",
   "metadata": {},
   "source": [
    "### Metagenomics"
   ]
  },
  {
   "cell_type": "code",
   "execution_count": 1,
   "id": "a284a5a8-0b6d-4466-9a7e-ee8fe71db068",
   "metadata": {},
   "outputs": [],
   "source": [
    "import os\n",
    "import pandas as pd\n",
    "import qiime2 as q2\n",
    "import requests\n",
    "\n",
    "from qiime2 import Visualization\n",
    "\n",
    "data_dir = 'CE'\n",
    "    \n",
    "%matplotlib inline"
   ]
  },
  {
   "cell_type": "code",
   "execution_count": 2,
   "id": "5dada12d-b773-49c3-8c1b-f539ae9982c9",
   "metadata": {},
   "outputs": [],
   "source": [
    "def fetch_ipath(ids: list, img_output_path: str, verbose: bool = False):\n",
    "    \"\"\"Fetches a enriched pathways map from iPATH3 for given IDs.\"\"\"\n",
    "    url = 'https://pathways.embl.de/mapping.cgi'\n",
    "    \n",
    "    # remove colon from EC names\n",
    "    if ':' in ids[0]:\n",
    "        ids = [x.replace(':', '') for x in ids]\n",
    "    \n",
    "    if verbose:\n",
    "        print(f'Fetching iPATH3 diagram for ids: {ids}')\n",
    "    params = {\n",
    "        'default_opacity': 0.6,\n",
    "        'export_type': 'svg',\n",
    "        'selection': '\\n'.join(ids)\n",
    "    }   \n",
    "    response = requests.get(url=url, params=params)\n",
    "    \n",
    "    with open(img_output_path, 'wb') as img:\n",
    "        img.write(response.content)"
   ]
  },
  {
   "cell_type": "code",
   "execution_count": 3,
   "id": "04e09bc5-ab3f-4bb0-b8c8-1bced40bdf6e",
   "metadata": {},
   "outputs": [],
   "source": [
    "picrust_env = '/opt/conda/envs/picrust2/bin'"
   ]
  },
  {
   "cell_type": "markdown",
   "id": "8e921372-b0df-4ab2-9f83-58d2e0b8b864",
   "metadata": {},
   "source": [
    "#### Functional inference"
   ]
  },
  {
   "cell_type": "code",
   "execution_count": 4,
   "id": "0f4f2822-f5ca-4ee5-b29d-860429793978",
   "metadata": {},
   "outputs": [
    {
     "name": "stderr",
     "output_type": "stream",
     "text": [
      "QIIME is caching your current deployment for improved performance. This may take a few moments and should only happen once per deployment.\n"
     ]
    },
    {
     "name": "stdout",
     "output_type": "stream",
     "text": [
      "Saved FeatureTable[Frequency] to: CE/picrust2_results/ko_metagenome.qza\n",
      "Saved FeatureTable[Frequency] to: CE/picrust2_results/ec_metagenome.qza\n",
      "Saved FeatureTable[Frequency] to: CE/picrust2_results/pathway_abundance.qza\n"
     ]
    }
   ],
   "source": [
    "%%script env picrust_env=\"$picrust_env\" data_dir=\"$data_dir\" bash\n",
    "\n",
    "# append the env location to PATH so that qiime\n",
    "# can find all required executables\n",
    "export PATH=$picrust_env:$PATH\n",
    "\n",
    "$picrust_env/qiime picrust2 full-pipeline \\\n",
    "    --i-seq $data_dir/dada2_rep_set_filtered.qza \\\n",
    "    --i-table $data_dir/dada2_table_align_filtered.qza \\\n",
    "    --output-dir $data_dir/picrust2_results \\\n",
    "    --p-placement-tool sepp \\\n",
    "    --p-threads 2 \\\n",
    "    --p-hsp-method pic \\\n",
    "    --p-max-nsti 2 "
   ]
  },
  {
   "cell_type": "code",
   "execution_count": 1,
   "id": "ab22e55e-14af-4310-9f49-c3269910434f",
   "metadata": {},
   "outputs": [
    {
     "ename": "SyntaxError",
     "evalue": "invalid syntax (557426884.py, line 1)",
     "output_type": "error",
     "traceback": [
      "\u001b[0;36m  Input \u001b[0;32mIn [1]\u001b[0;36m\u001b[0m\n\u001b[0;31m    Test test..\u001b[0m\n\u001b[0m         ^\u001b[0m\n\u001b[0;31mSyntaxError\u001b[0m\u001b[0;31m:\u001b[0m invalid syntax\n"
     ]
    }
   ],
   "source": [
    "Test test.."
   ]
  },
  {
   "cell_type": "code",
   "execution_count": 2,
   "id": "6d20c5b0-aae0-4e50-b560-237404dc9907",
   "metadata": {},
   "outputs": [
    {
     "ename": "SyntaxError",
     "evalue": "invalid syntax (3039516243.py, line 1)",
     "output_type": "error",
     "traceback": [
      "\u001b[0;36m  Input \u001b[0;32mIn [2]\u001b[0;36m\u001b[0m\n\u001b[0;31m    change 1,2,3 blibli blabla\u001b[0m\n\u001b[0m           ^\u001b[0m\n\u001b[0;31mSyntaxError\u001b[0m\u001b[0;31m:\u001b[0m invalid syntax\n"
     ]
    }
   ],
   "source": [
    "change 1,2,3 blibli blabla"
   ]
  },
  {
   "cell_type": "code",
   "execution_count": 4,
   "id": "337d2a24-f646-4b83-b93d-a0a0c7796be8",
   "metadata": {},
   "outputs": [
    {
     "ename": "SyntaxError",
     "evalue": "invalid syntax (2317514261.py, line 1)",
     "output_type": "error",
     "traceback": [
      "\u001b[0;36m  Input \u001b[0;32mIn [4]\u001b[0;36m\u001b[0m\n\u001b[0;31m    nomal test gopf\u001b[0m\n\u001b[0m          ^\u001b[0m\n\u001b[0;31mSyntaxError\u001b[0m\u001b[0;31m:\u001b[0m invalid syntax\n"
     ]
    }
   ],
   "source": [
    "nomal test gopf"
   ]
  },
  {
   "cell_type": "code",
   "execution_count": null,
   "id": "52107923-d5d4-4e7f-872c-951d33737d07",
   "metadata": {},
   "outputs": [],
   "source": []
  }
 ],
 "metadata": {
  "kernelspec": {
   "display_name": "Python 3 (ipykernel)",
   "language": "python",
   "name": "python3"
  },
  "language_info": {
   "codemirror_mode": {
    "name": "ipython",
    "version": 3
   },
   "file_extension": ".py",
   "mimetype": "text/x-python",
   "name": "python",
   "nbconvert_exporter": "python",
   "pygments_lexer": "ipython3",
   "version": "3.8.13"
  }
 },
 "nbformat": 4,
 "nbformat_minor": 5
}
