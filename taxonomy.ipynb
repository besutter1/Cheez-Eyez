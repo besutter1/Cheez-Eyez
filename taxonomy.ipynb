{
 "cells": [
  {
   "cell_type": "markdown",
   "id": "3ba335e5",
   "metadata": {},
   "source": [
    "Taxonomy\n",
    "---\n",
    "In this file we will assign taxonomy labels to the ASVs obtained from the denoising. In order to do that we will use the `classify-sklearn` action from the `feature-classifier` plugin and fetch:\n",
    "- a pretrained classifier (from greengenes as the silva needs too much RAM)\n",
    "- the sequences which we want to have classified (from the denoising step: dada2_rep_set.qza)\n",
    "**Note:** As we don't know which primers were used we actually cannot just take a pre-trained classifier as such classifiers corresponds to a certain primer pair/rRNA region. But we do know the sequences (101bp) originate from the V4 region (300bp) of the 16S rRNA. As the most common primer pair (515f/806r) fully covers the V4 region we think it should be possible to use a classifier which was trained with 515f/806r seqeunces. Why not use a full lenght classifier? It was reported that Species-level classification performance of 16S rRNA gene simulated reads had a slightly lower accuracy in full-lenght sequences than in V1–3 and V4 subdomains. (from https://doi.org/10.1186/s40168-018-0470-z) "
   ]
  },
  {
   "cell_type": "code",
   "execution_count": 1,
   "id": "27a911cc",
   "metadata": {},
   "outputs": [],
   "source": [
    "import os\n",
    "import pandas as pd\n",
    "from qiime2 import Visualization\n",
    "import matplotlib.pyplot as plt\n",
    "import numpy as np\n",
    "\n",
    "import qiime2 as q2\n",
    "\n",
    "%matplotlib inline\n",
    "data_dir = 'CE'"
   ]
  },
  {
   "cell_type": "code",
   "execution_count": 2,
   "id": "dbeaedb4",
   "metadata": {},
   "outputs": [
    {
     "name": "stdout",
     "output_type": "stream",
     "text": [
      "2022-11-02 10:06:54 URL:https://s3-us-west-2.amazonaws.com/qiime2-data/2021.4/common/gg-13-8-99-515-806-nb-classifier.qza [28289645/28289645] -> \"CE/515f-806r-classifier.qza\" [1]\n"
     ]
    }
   ],
   "source": [
    "#fetch the pre-trained classifier \n",
    "! wget -nv -O $data_dir/515f-806r-classifier.qza https://data.qiime2.org/2021.4/common/gg-13-8-99-515-806-nb-classifier.qza"
   ]
  },
  {
   "cell_type": "code",
   "execution_count": 3,
   "id": "a57b2982",
   "metadata": {},
   "outputs": [
    {
     "name": "stdout",
     "output_type": "stream",
     "text": [
      "\u001b[32mSaved FeatureData[Taxonomy] to: CE/taxonomy_v4.qza\u001b[0m\n",
      "\u001b[0m"
     ]
    }
   ],
   "source": [
    "! qiime feature-classifier classify-sklearn \\\n",
    "    --i-classifier $data_dir/515f-806r-classifier.qza \\\n",
    "    --i-reads $data_dir/dada2_rep_set.qza \\\n",
    "    --o-classification $data_dir/taxonomy_v4.qza"
   ]
  },
  {
   "cell_type": "markdown",
   "id": "17762115",
   "metadata": {},
   "source": [
    "This should have created a new taxonomy.qza artifact (containing our taxonomic assignments per feature)"
   ]
  },
  {
   "cell_type": "code",
   "execution_count": 4,
   "id": "ae8e5d5d",
   "metadata": {},
   "outputs": [
    {
     "name": "stdout",
     "output_type": "stream",
     "text": [
      "\u001b[32mUUID\u001b[0m:        681c3a56-4a2a-4db6-8bd9-ad30c3a5b7bb\n",
      "\u001b[32mType\u001b[0m:        FeatureData[Taxonomy]\n",
      "\u001b[32mData format\u001b[0m: TSVTaxonomyDirectoryFormat\n"
     ]
    }
   ],
   "source": [
    "! qiime tools peek $data_dir/taxonomy_v4.qza"
   ]
  },
  {
   "cell_type": "markdown",
   "id": "9d3f4872",
   "metadata": {},
   "source": [
    "Visualizations\n",
    "---\n",
    "We can make a tabular representation of all the features labeled with their corresponding taxonomy:"
   ]
  },
  {
   "cell_type": "code",
   "execution_count": 5,
   "id": "0689abd1",
   "metadata": {},
   "outputs": [
    {
     "name": "stdout",
     "output_type": "stream",
     "text": [
      "\u001b[32mSaved Visualization to: CE/taxonomy_v4.qzv\u001b[0m\n",
      "\u001b[0m"
     ]
    }
   ],
   "source": [
    "! qiime metadata tabulate \\\n",
    "    --m-input-file $data_dir/taxonomy_v4.qza \\\n",
    "    --o-visualization $data_dir/taxonomy_v4.qzv"
   ]
  },
  {
   "cell_type": "code",
   "execution_count": 15,
   "id": "9ac18240",
   "metadata": {},
   "outputs": [
    {
     "name": "stderr",
     "output_type": "stream",
     "text": [
      "<<<<<<< local\n"
     ]
    },
    {
     "data": {
      "text/html": [
       "<div><img onload=\"(function(div, url){\n",
       "if (typeof require !== 'undefined') {\n",
       "    var baseURL = require.toUrl('').split('/').slice(0, -2).join('/');\n",
       "} else {\n",
       "    var baseURL = JSON.parse(\n",
       "        document.getElementById('jupyter-config-data').innerHTML\n",
       "    ).baseUrl.slice(0, -1);\n",
       "}\n",
       "url = baseURL + url;\n",
       "fetch(url).then(function(res) {\n",
       "    if (res.status === 404) {\n",
       "        div.innerHTML = 'Install QIIME 2 Jupyter extension with:<br />' +\n",
       "                        '<code>jupyter serverextension enable --py qiime2' +\n",
       "                        ' --sys-prefix</code><br />then restart your server.' +\n",
       "                        '<br /><br />(Interactive output not available on ' +\n",
       "                        'static notebook viewer services like nbviewer.)';\n",
       "    } else if (res.status === 409) {\n",
       "        div.innerHTML = 'Visualization no longer in scope. Re-run this cell' +\n",
       "                        ' to see the visualization.';\n",
       "    } else if (res.ok) {\n",
       "        url = res.url;\n",
       "        div.innerHTML = '<iframe src=\\'' + url + '\\' style=\\'' +\n",
       "                        'width: 100%; height: 700px; border: 0;\\'>' +\n",
       "                        '</iframe><hr />Open in a: <a href=\\'' + url + '\\'' +\n",
       "                        ' target=\\'_blank\\'>new window</a>'\n",
       "    } else {\n",
       "        div.innerHTML = 'Something has gone wrong. Check notebook server for' +\n",
       "                        ' errors.';\n",
       "    }\n",
       "});\n",
       "})(this.parentElement, '/qiime2/redirect?location=/tmp/qiime2-archive-sv9mg9ri')\" src=\"data:image/gif;base64,R0lGODlhAQABAIAAAP///wAAACH5BAEAAAAALAAAAAABAAEAAAICRAEAOw==\" /></div>"
      ],
      "text/plain": [
       "<visualization: Visualization uuid: 25326f1a-4573-4976-b1a6-a30b926b7b60>"
      ]
     },
     "execution_count": 15,
     "metadata": {},
     "output_type": "execute_result"
    },
    {
     "name": "stderr",
     "output_type": "stream",
     "text": [
      "=======\n"
     ]
    },
    {
     "data": {
      "text/html": [
       "<div><img onload=\"(function(div, url){\n",
       "if (typeof require !== 'undefined') {\n",
       "    var baseURL = require.toUrl('').split('/').slice(0, -2).join('/');\n",
       "} else {\n",
       "    var baseURL = JSON.parse(\n",
       "        document.getElementById('jupyter-config-data').innerHTML\n",
       "    ).baseUrl.slice(0, -1);\n",
       "}\n",
       "url = baseURL + url;\n",
       "fetch(url).then(function(res) {\n",
       "    if (res.status === 404) {\n",
       "        div.innerHTML = 'Install QIIME 2 Jupyter extension with:<br />' +\n",
       "                        '<code>jupyter serverextension enable --py qiime2' +\n",
       "                        ' --sys-prefix</code><br />then restart your server.' +\n",
       "                        '<br /><br />(Interactive output not available on ' +\n",
       "                        'static notebook viewer services like nbviewer.)';\n",
       "    } else if (res.status === 409) {\n",
       "        div.innerHTML = 'Visualization no longer in scope. Re-run this cell' +\n",
       "                        ' to see the visualization.';\n",
       "    } else if (res.ok) {\n",
       "        url = res.url;\n",
       "        div.innerHTML = '<iframe src=\\'' + url + '\\' style=\\'' +\n",
       "                        'width: 100%; height: 700px; border: 0;\\'>' +\n",
       "                        '</iframe><hr />Open in a: <a href=\\'' + url + '\\'' +\n",
       "                        ' target=\\'_blank\\'>new window</a>'\n",
       "    } else {\n",
       "        div.innerHTML = 'Something has gone wrong. Check notebook server for' +\n",
       "                        ' errors.';\n",
       "    }\n",
       "});\n",
       "})(this.parentElement, '/qiime2/redirect?location=/tmp/qiime2-archive-0xq_9vtl')\" src=\"data:image/gif;base64,R0lGODlhAQABAIAAAP///wAAACH5BAEAAAAALAAAAAABAAEAAAICRAEAOw==\" /></div>"
      ],
      "text/plain": [
       "<visualization: Visualization uuid: fa5f4d9b-5e86-4469-9151-d17594aa1016>"
      ]
     },
     "execution_count": 6,
     "metadata": {},
     "output_type": "execute_result"
    },
    {
     "name": "stderr",
     "output_type": "stream",
     "text": [
      ">>>>>>> remote\n"
     ]
    }
   ],
   "source": [
    "Visualization.load(f'{data_dir}/taxonomy_v4.qzv')"
   ]
  },
  {
   "cell_type": "markdown",
   "id": "1ad7fedc",
   "metadata": {},
   "source": [
    "By combining the taxonomic inforamtion with the metadata of our samples we can also get a hint of what the distribution of species is in the different samples! \n",
    "**Note:** dada2_table is a feature table from the denoising step which includes all ASVs (with error-corrected sequences)"
   ]
  },
  {
   "cell_type": "code",
   "execution_count": 7,
   "id": "180ab70c",
   "metadata": {},
   "outputs": [
    {
     "name": "stdout",
     "output_type": "stream",
     "text": [
      "\u001b[32mSaved FeatureTable[Frequency] to: CE/dada2_table_aligned.qza\u001b[0m\n",
      "\u001b[0m"
     ]
    }
   ],
   "source": [
    "#filter the feature table by excluding samples not present in metadata\n",
    "! qiime feature-table filter-samples \\\n",
    "    --i-table $data_dir/dada2_table.qza \\\n",
    "    --m-metadata-file $data_dir/food-metadata.tsv \\\n",
    "    --o-filtered-table $data_dir/dada2_table_aligned.qza"
   ]
  },
  {
   "cell_type": "code",
   "execution_count": 8,
   "id": "eea11ded",
   "metadata": {},
   "outputs": [
    {
     "name": "stdout",
     "output_type": "stream",
     "text": [
      "\u001b[32mSaved Visualization to: CE/dada2_table_aligned.qzv\u001b[0m\n",
      "\u001b[0m"
     ]
    }
   ],
   "source": [
    "! qiime feature-table summarize \\\n",
    "    --i-table $data_dir/dada2_table_aligned.qza \\\n",
    "    --m-sample-metadata-file $data_dir/food-metadata.tsv \\\n",
    "    --o-visualization $data_dir/dada2_table_aligned.qzv"
   ]
  },
  {
   "cell_type": "code",
   "execution_count": 9,
   "id": "9ae9f112",
   "metadata": {},
   "outputs": [
    {
     "data": {
      "text/html": [
       "<div><img onload=\"(function(div, url){\n",
       "if (typeof require !== 'undefined') {\n",
       "    var baseURL = require.toUrl('').split('/').slice(0, -2).join('/');\n",
       "} else {\n",
       "    var baseURL = JSON.parse(\n",
       "        document.getElementById('jupyter-config-data').innerHTML\n",
       "    ).baseUrl.slice(0, -1);\n",
       "}\n",
       "url = baseURL + url;\n",
       "fetch(url).then(function(res) {\n",
       "    if (res.status === 404) {\n",
       "        div.innerHTML = 'Install QIIME 2 Jupyter extension with:<br />' +\n",
       "                        '<code>jupyter serverextension enable --py qiime2' +\n",
       "                        ' --sys-prefix</code><br />then restart your server.' +\n",
       "                        '<br /><br />(Interactive output not available on ' +\n",
       "                        'static notebook viewer services like nbviewer.)';\n",
       "    } else if (res.status === 409) {\n",
       "        div.innerHTML = 'Visualization no longer in scope. Re-run this cell' +\n",
       "                        ' to see the visualization.';\n",
       "    } else if (res.ok) {\n",
       "        url = res.url;\n",
       "        div.innerHTML = '<iframe src=\\'' + url + '\\' style=\\'' +\n",
       "                        'width: 100%; height: 700px; border: 0;\\'>' +\n",
       "                        '</iframe><hr />Open in a: <a href=\\'' + url + '\\'' +\n",
       "                        ' target=\\'_blank\\'>new window</a>'\n",
       "    } else {\n",
       "        div.innerHTML = 'Something has gone wrong. Check notebook server for' +\n",
       "                        ' errors.';\n",
       "    }\n",
       "});\n",
       "})(this.parentElement, '/qiime2/redirect?location=/tmp/qiime2-archive-iyw3ekw8')\" src=\"data:image/gif;base64,R0lGODlhAQABAIAAAP///wAAACH5BAEAAAAALAAAAAABAAEAAAICRAEAOw==\" /></div>"
      ],
      "text/plain": [
       "<visualization: Visualization uuid: f2c0a510-17c9-43c6-81d7-4ccaadd2e8bc>"
      ]
     },
     "execution_count": 9,
     "metadata": {},
     "output_type": "execute_result"
    }
   ],
   "source": [
    "Visualization.load(f'{data_dir}/dada2_table_aligned.qzv')"
   ]
  },
  {
   "cell_type": "code",
   "execution_count": 10,
   "id": "19af826c",
   "metadata": {},
   "outputs": [
    {
     "name": "stdout",
     "output_type": "stream",
     "text": [
      "\u001b[32mSaved Visualization to: CE/taxa-bar-plots_v4.qzv\u001b[0m\n",
      "\u001b[0m"
     ]
    }
   ],
   "source": [
    "! qiime taxa barplot \\\n",
    "    --i-table $data_dir/dada2_table_aligned.qza \\\n",
    "    --i-taxonomy $data_dir/taxonomy_v4.qza \\\n",
    "    --m-metadata-file $data_dir/food-metadata.tsv \\\n",
    "    --o-visualization $data_dir/taxa-bar-plots_v4.qzv"
   ]
  },
  {
   "cell_type": "code",
   "execution_count": 11,
   "id": "be73358b",
   "metadata": {},
   "outputs": [
    {
     "data": {
      "text/html": [
       "<div><img onload=\"(function(div, url){\n",
       "if (typeof require !== 'undefined') {\n",
       "    var baseURL = require.toUrl('').split('/').slice(0, -2).join('/');\n",
       "} else {\n",
       "    var baseURL = JSON.parse(\n",
       "        document.getElementById('jupyter-config-data').innerHTML\n",
       "    ).baseUrl.slice(0, -1);\n",
       "}\n",
       "url = baseURL + url;\n",
       "fetch(url).then(function(res) {\n",
       "    if (res.status === 404) {\n",
       "        div.innerHTML = 'Install QIIME 2 Jupyter extension with:<br />' +\n",
       "                        '<code>jupyter serverextension enable --py qiime2' +\n",
       "                        ' --sys-prefix</code><br />then restart your server.' +\n",
       "                        '<br /><br />(Interactive output not available on ' +\n",
       "                        'static notebook viewer services like nbviewer.)';\n",
       "    } else if (res.status === 409) {\n",
       "        div.innerHTML = 'Visualization no longer in scope. Re-run this cell' +\n",
       "                        ' to see the visualization.';\n",
       "    } else if (res.ok) {\n",
       "        url = res.url;\n",
       "        div.innerHTML = '<iframe src=\\'' + url + '\\' style=\\'' +\n",
       "                        'width: 100%; height: 700px; border: 0;\\'>' +\n",
       "                        '</iframe><hr />Open in a: <a href=\\'' + url + '\\'' +\n",
       "                        ' target=\\'_blank\\'>new window</a>'\n",
       "    } else {\n",
       "        div.innerHTML = 'Something has gone wrong. Check notebook server for' +\n",
       "                        ' errors.';\n",
       "    }\n",
       "});\n",
       "})(this.parentElement, '/qiime2/redirect?location=/tmp/qiime2-archive-evabsuhc')\" src=\"data:image/gif;base64,R0lGODlhAQABAIAAAP///wAAACH5BAEAAAAALAAAAAABAAEAAAICRAEAOw==\" /></div>"
      ],
      "text/plain": [
       "<visualization: Visualization uuid: f9fe30df-e2d5-4ed0-8a9b-4a9fd20dc786>"
      ]
     },
     "execution_count": 11,
     "metadata": {},
     "output_type": "execute_result"
    }
   ],
   "source": [
    "Visualization.load(f'{data_dir}/taxa-bar-plots_v4.qzv')"
   ]
  },
  {
   "cell_type": "markdown",
   "id": "30fbc5eb",
   "metadata": {
    "tags": []
   },
   "source": [
    "To investigate how our taxonomic analysis compares to e.g. BLAST. We can open the tabular view of our ASVs and search for some features manually (click on sequence)"
   ]
  },
  {
   "cell_type": "markdown",
   "id": "06058c64",
   "metadata": {
    "tags": []
   },
   "source": [
    "**de novo tree**"
   ]
  },
  {
   "cell_type": "code",
   "execution_count": 12,
   "id": "4656c9ca",
   "metadata": {},
   "outputs": [
    {
     "ename": "IndentationError",
     "evalue": "unexpected indent (1759767849.py, line 2)",
     "output_type": "error",
     "traceback": [
      "\u001b[0;36m  Input \u001b[0;32mIn [12]\u001b[0;36m\u001b[0m\n\u001b[0;31m    get_ipython().system(' qiime alignment mafft       --i-sequences $data_dir/rep-seqs-filtered.qza       --o-alignment $data_dir/aligned-rep-seqs.qza')\u001b[0m\n\u001b[0m    ^\u001b[0m\n\u001b[0;31mIndentationError\u001b[0m\u001b[0;31m:\u001b[0m unexpected indent\n"
     ]
    }
   ],
   "source": [
    "#Sequence alignment\n",
    " ! qiime alignment mafft \\\n",
    "     --i-sequences $data_dir/rep-seqs-filtered.qza \\\n",
    "     --o-alignment $data_dir/aligned-rep-seqs.qza"
   ]
  },
  {
   "cell_type": "code",
   "execution_count": null,
   "id": "6d7f9110",
   "metadata": {},
   "outputs": [],
   "source": [
    "#Alignment masking\n",
    "! qiime alignment mask \\\n",
    "    --i-alignment $data_dir/aligned-rep-seqs.qza \\\n",
    "    --o-masked-alignment $data_dir/masked-aligned-rep-seqs.qza"
   ]
  },
  {
   "cell_type": "code",
   "execution_count": null,
   "id": "d14567a6",
   "metadata": {},
   "outputs": [],
   "source": [
    "#Tree construction\n",
    "! qiime phylogeny fasttree \\\n",
    "    --i-alignment $data_dir/masked-aligned-rep-seqs.qza \\\n",
    "    --o-tree $data_dir/fasttree-tree.qza\n",
    "\n",
    "! qiime phylogeny midpoint-root \\\n",
    "    --i-tree $data_dir/fasttree-tree.qza \\\n",
    "    --o-rooted-tree $data_dir/fasttree-tree-rooted.qza"
   ]
  },
  {
   "cell_type": "code",
   "execution_count": null,
   "id": "09716e8b",
   "metadata": {},
   "outputs": [],
   "source": [
    "#Tree visualization\n",
    " ! qiime empress tree-plot \\\n",
    "     --i-tree $data_dir/fasttree-tree-rooted.qza \\\n",
    "     --m-feature-metadata-file $data_dir/taxonomy.qza \\\n",
    "     --o-visualization $data_dir/fasttree-tree-rooted.qzv"
   ]
  },
  {
   "cell_type": "code",
   "execution_count": null,
   "id": "9ee4c7a2",
   "metadata": {},
   "outputs": [],
   "source": [
    "Visualization.load(f'{data_dir}/fasttree-tree-rooted.qzv')"
   ]
  },
  {
   "cell_type": "markdown",
   "id": "a244e625",
   "metadata": {
    "tags": []
   },
   "source": [
    "**fragment insertion**"
   ]
  },
  {
   "cell_type": "code",
   "execution_count": null,
   "id": "2068fce9",
   "metadata": {},
   "outputs": [],
   "source": [
    "! wget -nv -O $data_dir/sepp-refs-gg-13-8.qza https://data.qiime2.org/2021.4/common/sepp-refs-gg-13-8.qza"
   ]
  },
  {
   "cell_type": "code",
   "execution_count": null,
   "id": "3c537f99",
   "metadata": {},
   "outputs": [],
   "source": [
    "! qiime fragment-insertion sepp \\\n",
    "    --i-representative-sequences $data_dir/rep-seqs-filtered.qza \\\n",
    "    --i-reference-database $data_dir/sepp-refs-gg-13-8.qza \\\n",
    "    --p-threads 2 \\\n",
    "    --o-tree $data_dir/sepp-tree.qza \\\n",
    "    --o-placements $data_dir/sepp-tree-placements.qza"
   ]
  },
  {
   "cell_type": "code",
   "execution_count": null,
   "id": "58e10c41",
   "metadata": {},
   "outputs": [],
   "source": [
    "  ! qiime empress tree-plot \\\n",
    "      --i-tree $data_dir/sepp-tree.qza \\\n",
    "      --m-feature-metadata-file $data_dir/taxonomy.qza \\\n",
    "      --o-visualization $data_dir/sepp-tree-placements-tree.qzv"
   ]
  },
  {
   "cell_type": "code",
   "execution_count": null,
   "id": "550393c2",
   "metadata": {},
   "outputs": [],
   "source": [
    "Visualization.load(f'{data_dir}/sepp-tree-placements-tree.qzv')"
   ]
  }
 ],
 "metadata": {
  "kernelspec": {
   "display_name": "Python 3 (ipykernel)",
   "language": "python",
   "name": "python3"
  },
  "language_info": {
   "codemirror_mode": {
    "name": "ipython",
    "version": 3
   },
   "file_extension": ".py",
   "mimetype": "text/x-python",
   "name": "python",
   "nbconvert_exporter": "python",
   "pygments_lexer": "ipython3",
   "version": "3.8.13"
  }
 },
 "nbformat": 4,
 "nbformat_minor": 5
}
