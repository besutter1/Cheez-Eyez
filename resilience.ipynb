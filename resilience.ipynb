{
 "cells": [
  {
   "cell_type": "markdown",
   "id": "e6d03c73-6b63-49c6-a69b-a00ecb3ea0da",
   "metadata": {},
   "source": [
    "<a id='longitudinal'></a>\n",
    "## Longitudinal resilience analysis"
   ]
  },
  {
   "cell_type": "code",
   "execution_count": 12,
   "id": "e281737e-47e2-4c82-95d9-cefb15e388f4",
   "metadata": {
    "tags": []
   },
   "outputs": [],
   "source": [
    "import os\n",
    "import pandas as pd\n",
    "from qiime2 import Visualization\n",
    "from skbio import OrdinationResults\n",
    "import matplotlib.pyplot as plt\n",
    "from seaborn import scatterplot\n",
    "import numpy as np\n",
    "\n",
    "import qiime2 as q2\n",
    "\n",
    "# do not increase this value!\n",
    "n_jobs = 3\n",
    "    \n",
    "\n",
    "%matplotlib inline\n",
    "data_dir = 'CE'"
   ]
  },
  {
   "cell_type": "code",
   "execution_count": 13,
   "id": "122d9fb2-8b0d-4b00-bca5-394c537e125f",
   "metadata": {},
   "outputs": [
    {
     "name": "stdout",
     "output_type": "stream",
     "text": [
      "\u001b[32mSaved FeatureTable[Frequency] to: CE/table_abund254.qza\u001b[0m\n",
      "\u001b[0m"
     ]
    }
   ],
   "source": [
    "#only retain features that are present at some minimal frequency (25) and in at least 4 samples\n",
    "! qiime feature-table filter-features \\\n",
    "--i-table $data_dir/dada2_table_align_filtered.qza \\\n",
    "--p-min-frequency 25 \\\n",
    "--p-min-samples 4 \\\n",
    "--o-filtered-table $data_dir/table_abund254.qza"
   ]
  },
  {
   "cell_type": "code",
   "execution_count": 14,
   "id": "2f63d26a-8f47-472e-bdcf-b1744668f00c",
   "metadata": {},
   "outputs": [
    {
     "name": "stdout",
     "output_type": "stream",
     "text": [
      "\u001b[32mSaved FeatureTable[Frequency] to: CE/table_abund254_continent.qza\u001b[0m\n",
      "\u001b[0m"
     ]
    }
   ],
   "source": [
    "#example: comparing diff. abundance within continents\n",
    "! qiime feature-table filter-samples \\\n",
    "--i-table $data_dir/table_abund254.qza \\\n",
    "--m-metadata-file $data_dir/food-metadata.tsv \\\n",
    "--p-where \"[continent]='North_America' or [continent]='Europe'\" \\\n",
    "--o-filtered-table $data_dir/table_abund254_continent.qza"
   ]
  },
  {
   "cell_type": "code",
   "execution_count": 23,
   "id": "1137471f-9b99-4661-909e-60c1e5e3fc6c",
   "metadata": {},
   "outputs": [
    {
     "name": "stdout",
     "output_type": "stream",
     "text": [
      "\u001b[32mSaved FeatureTable[Frequency] to: CE/filtered-table-deblur-with-continent.qza\u001b[0m\n",
      "\u001b[0mUsage: \u001b[94mqiime diversity core-metrics\u001b[0m [OPTIONS]\n",
      "\n",
      "  Applies a collection of diversity metrics (non-phylogenetic) to a feature\n",
      "  table.\n",
      "\n",
      "\u001b[1mInputs\u001b[0m:\n",
      "  \u001b[94m\u001b[4m--i-table\u001b[0m ARTIFACT \u001b[32mFeatureTable[Frequency]\u001b[0m\n",
      "                       The feature table containing the samples over which\n",
      "                       diversity metrics should be computed.        \u001b[35m[required]\u001b[0m\n",
      "\u001b[1mParameters\u001b[0m:\n",
      "  \u001b[94m\u001b[4m--p-sampling-depth\u001b[0m INTEGER\n",
      "    \u001b[32mRange(1, None)\u001b[0m     The total frequency that each sample should be\n",
      "                       rarefied to prior to computing diversity metrics.\n",
      "                                                                    \u001b[35m[required]\u001b[0m\n",
      "  \u001b[94m\u001b[4m--m-metadata-file\u001b[0m METADATA...\n",
      "    (multiple          The sample metadata to use in the emperor plots.\n",
      "     arguments will    \n",
      "     be merged)                                                     \u001b[35m[required]\u001b[0m\n",
      "  \u001b[94m--p-with-replacement\u001b[0m / \u001b[94m--p-no-with-replacement\u001b[0m\n",
      "                       Rarefy with replacement by sampling from the\n",
      "                       multinomial distribution instead of rarefying without\n",
      "                       replacement.                           \u001b[35m[default: False]\u001b[0m\n",
      "  \u001b[94m--p-n-jobs\u001b[0m VALUE \u001b[32mInt % Range(1, None) | Str % Choices('auto')\u001b[0m\n",
      "                       [beta methods only] - The number of concurrent jobs to\n",
      "                       use in performing this calculation. May not exceed the\n",
      "                       number of available physical cores. If \u001b[4mn-jobs\u001b[0m = 'auto',\n",
      "                       one job will be launched for each identified CPU core\n",
      "                       on the host.                               \u001b[35m[default: 1]\u001b[0m\n",
      "\u001b[1mOutputs\u001b[0m:\n",
      "  \u001b[94m\u001b[4m--o-rarefied-table\u001b[0m ARTIFACT \u001b[32mFeatureTable[Frequency]\u001b[0m\n",
      "                       The resulting rarefied feature table.        \u001b[35m[required]\u001b[0m\n",
      "  \u001b[94m\u001b[4m--o-observed-features-vector\u001b[0m ARTIFACT \u001b[32mSampleData[AlphaDiversity]\u001b[0m\n",
      "                       Vector of Observed Features values by sample.\n",
      "                                                                    \u001b[35m[required]\u001b[0m\n",
      "  \u001b[94m\u001b[4m--o-shannon-vector\u001b[0m ARTIFACT \u001b[32mSampleData[AlphaDiversity]\u001b[0m\n",
      "                       Vector of Shannon diversity values by sample.\n",
      "                                                                    \u001b[35m[required]\u001b[0m\n",
      "  \u001b[94m\u001b[4m--o-evenness-vector\u001b[0m ARTIFACT \u001b[32mSampleData[AlphaDiversity]\u001b[0m\n",
      "                       Vector of Pielou's evenness values by sample.\n",
      "                                                                    \u001b[35m[required]\u001b[0m\n",
      "  \u001b[94m\u001b[4m--o-jaccard-distance-matrix\u001b[0m ARTIFACT\n",
      "    \u001b[32mDistanceMatrix\u001b[0m     Matrix of Jaccard distances between pairs of samples.\n",
      "                                                                    \u001b[35m[required]\u001b[0m\n",
      "  \u001b[94m\u001b[4m--o-bray-curtis-distance-matrix\u001b[0m ARTIFACT\n",
      "    \u001b[32mDistanceMatrix\u001b[0m     Matrix of Bray-Curtis distances between pairs of\n",
      "                       samples.                                     \u001b[35m[required]\u001b[0m\n",
      "  \u001b[94m\u001b[4m--o-jaccard-pcoa-results\u001b[0m ARTIFACT\n",
      "    \u001b[32mPCoAResults\u001b[0m        PCoA matrix computed from Jaccard distances between\n",
      "                       samples.                                     \u001b[35m[required]\u001b[0m\n",
      "  \u001b[94m\u001b[4m--o-bray-curtis-pcoa-results\u001b[0m ARTIFACT\n",
      "    \u001b[32mPCoAResults\u001b[0m        PCoA matrix computed from Bray-Curtis distances\n",
      "                       between samples.                             \u001b[35m[required]\u001b[0m\n",
      "  \u001b[94m\u001b[4m--o-jaccard-emperor\u001b[0m VISUALIZATION\n",
      "                       Emperor plot of the PCoA matrix computed from Jaccard.\n",
      "                                                                    \u001b[35m[required]\u001b[0m\n",
      "  \u001b[94m\u001b[4m--o-bray-curtis-emperor\u001b[0m VISUALIZATION\n",
      "                       Emperor plot of the PCoA matrix computed from\n",
      "                       Bray-Curtis.                                 \u001b[35m[required]\u001b[0m\n",
      "\u001b[1mMiscellaneous\u001b[0m:\n",
      "  \u001b[94m--output-dir\u001b[0m PATH    Output unspecified results to a directory\n",
      "  \u001b[94m--verbose\u001b[0m / \u001b[94m--quiet\u001b[0m  Display verbose output to stdout and/or stderr during\n",
      "                       execution of this action. Or silence output if\n",
      "                       execution is successful (silence is golden).\n",
      "  \u001b[94m--example-data\u001b[0m PATH  Write example data and exit.\n",
      "  \u001b[94m--citations\u001b[0m          Show citations and exit.\n",
      "  \u001b[94m--help\u001b[0m               Show this message and exit.\n",
      "\n",
      "\u001b[33m                  There were some problems with the command:                  \u001b[0m\n",
      "\u001b[31m\u001b[1m (1/11) Invalid value for '--output-dir': 'CE/core-metrics-with-continent'\n",
      "  already exists, will not overwrite.\u001b[0m\n",
      "\u001b[31m\u001b[1m (2/11) Missing option '--o-rarefied-table'.  (\"--output-dir\" may also be\n",
      "  used)\u001b[0m\n",
      "\u001b[31m\u001b[1m (3/11) Missing option '--o-observed-features-vector'.  (\"--output-dir\" may\n",
      "  also be used)\u001b[0m\n",
      "\u001b[31m\u001b[1m (4/11) Missing option '--o-shannon-vector'.  (\"--output-dir\" may also be\n",
      "  used)\u001b[0m\n",
      "\u001b[31m\u001b[1m (5/11) Missing option '--o-evenness-vector'.  (\"--output-dir\" may also be\n",
      "  used)\u001b[0m\n",
      "\u001b[31m\u001b[1m (6/11) Missing option '--o-jaccard-distance-matrix'.  (\"--output-dir\" may\n",
      "  also be used)\u001b[0m\n",
      "\u001b[31m\u001b[1m (7/11) Missing option '--o-bray-curtis-distance-matrix'.  (\"--output-dir\" may\n",
      "  also be used)\u001b[0m\n",
      "\u001b[31m\u001b[1m (8/11) Missing option '--o-jaccard-pcoa-results'.  (\"--output-dir\" may also\n",
      "  be used)\u001b[0m\n",
      "\u001b[31m\u001b[1m (9/11) Missing option '--o-bray-curtis-pcoa-results'.  (\"--output-dir\" may\n",
      "  also be used)\u001b[0m\n",
      "\u001b[31m\u001b[1m (10/11) Missing option '--o-jaccard-emperor'.  (\"--output-dir\" may also be\n",
      "  used)\u001b[0m\n",
      "\u001b[31m\u001b[1m (11/11) Missing option '--o-bray-curtis-emperor'.  (\"--output-dir\" may also\n",
      "  be used)\u001b[0m\n",
      "\u001b[0m\u001b[32mSaved Visualization to: CE/core-metrics-with-continent/volatility.qzv\u001b[0m\n",
      "\u001b[0m"
     ]
    }
   ],
   "source": [
    "# Run the following commands and inspect the results.\n",
    "# We will look at infants and their mothers' microbiota just prior to birth\n",
    "! qiime feature-table filter-samples \\\n",
    "    --i-table $data_dir/table_abund254_continent.qza \\\n",
    "    --m-metadata-file $data_dir/food-metadata.tsv \\\n",
    "    --o-filtered-table $data_dir/filtered-table-deblur-with-continent.qza\n",
    "\n",
    "# Repeat our core-metrics diversity analysis from before, this time with mothers\n",
    "! qiime diversity core-metrics \\\n",
    "  --i-table $data_dir/filtered-table-deblur-with-continent.qza \\\n",
    "  --m-metadata-file $data_dir/food-metadata.tsv \\\n",
    "  --p-sampling-depth 1800 \\\n",
    "  --p-n-jobs $n_jobs \\\n",
    "  --output-dir $data_dir/core-metrics-with-continent\n",
    "\n",
    "# this creates an interactive line plot — useful for looking at changes in alpha and beta diversity across time\n",
    "! qiime longitudinal volatility \\\n",
    "  --m-metadata-file $data_dir/food-metadata.tsv \\\n",
    "  --m-metadata-file $data_dir/core-metrics-with-continent/observed_features_vector.qza \\\n",
    "  --m-metadata-file $data_dir/core-metrics-with-continent/shannon_vector.qza \\\n",
    "  --m-metadata-file $data_dir/core-metrics-with-continent/jaccard_pcoa_results.qza \\\n",
    "  --p-default-group-column 'continent'\\\n",
    "  --p-default-metric 'observed_features' \\\n",
    "  --p-state-column 'longitude' \\\n",
    "  --p-individual-id-column 'continent' \\\n",
    "  --o-visualization $data_dir/core-metrics-with-continent/volatility.qzv\n",
    "\n"
   ]
  },
  {
   "cell_type": "code",
   "execution_count": 17,
   "id": "dbd3e949-301c-4302-b2bf-7a325b48c93c",
   "metadata": {},
   "outputs": [
    {
     "data": {
      "text/html": [
       "<div><img onload=\"(function(div, url){\n",
       "if (typeof require !== 'undefined') {\n",
       "    var baseURL = require.toUrl('').split('/').slice(0, -2).join('/');\n",
       "} else {\n",
       "    var baseURL = JSON.parse(\n",
       "        document.getElementById('jupyter-config-data').innerHTML\n",
       "    ).baseUrl.slice(0, -1);\n",
       "}\n",
       "url = baseURL + url;\n",
       "fetch(url).then(function(res) {\n",
       "    if (res.status === 404) {\n",
       "        div.innerHTML = 'Install QIIME 2 Jupyter extension with:<br />' +\n",
       "                        '<code>jupyter serverextension enable --py qiime2' +\n",
       "                        ' --sys-prefix</code><br />then restart your server.' +\n",
       "                        '<br /><br />(Interactive output not available on ' +\n",
       "                        'static notebook viewer services like nbviewer.)';\n",
       "    } else if (res.status === 409) {\n",
       "        div.innerHTML = 'Visualization no longer in scope. Re-run this cell' +\n",
       "                        ' to see the visualization.';\n",
       "    } else if (res.ok) {\n",
       "        url = res.url;\n",
       "        div.innerHTML = '<iframe src=\\'' + url + '\\' style=\\'' +\n",
       "                        'width: 100%; height: 700px; border: 0;\\'>' +\n",
       "                        '</iframe><hr />Open in a: <a href=\\'' + url + '\\'' +\n",
       "                        ' target=\\'_blank\\'>new window</a>'\n",
       "    } else {\n",
       "        div.innerHTML = 'Something has gone wrong. Check notebook server for' +\n",
       "                        ' errors.';\n",
       "    }\n",
       "});\n",
       "})(this.parentElement, '/qiime2/redirect?location=/tmp/qiime2-archive-psax86vp')\" src=\"data:image/gif;base64,R0lGODlhAQABAIAAAP///wAAACH5BAEAAAAALAAAAAABAAEAAAICRAEAOw==\" /></div>"
      ],
      "text/plain": [
       "<visualization: Visualization uuid: 32d546ba-52c6-493b-85e0-aa8607b6a921>"
      ]
     },
     "execution_count": 17,
     "metadata": {},
     "output_type": "execute_result"
    }
   ],
   "source": [
    "Visualization.load(f'{data_dir}/core-metrics-with-continent/jaccard_emperor.qzv')"
   ]
  },
  {
   "cell_type": "code",
   "execution_count": 24,
   "id": "77efa09b-ff04-4184-a3ed-ccd8f58abfa5",
   "metadata": {},
   "outputs": [
    {
     "data": {
      "text/html": [
       "<div><img onload=\"(function(div, url){\n",
       "if (typeof require !== 'undefined') {\n",
       "    var baseURL = require.toUrl('').split('/').slice(0, -2).join('/');\n",
       "} else {\n",
       "    var baseURL = JSON.parse(\n",
       "        document.getElementById('jupyter-config-data').innerHTML\n",
       "    ).baseUrl.slice(0, -1);\n",
       "}\n",
       "url = baseURL + url;\n",
       "fetch(url).then(function(res) {\n",
       "    if (res.status === 404) {\n",
       "        div.innerHTML = 'Install QIIME 2 Jupyter extension with:<br />' +\n",
       "                        '<code>jupyter serverextension enable --py qiime2' +\n",
       "                        ' --sys-prefix</code><br />then restart your server.' +\n",
       "                        '<br /><br />(Interactive output not available on ' +\n",
       "                        'static notebook viewer services like nbviewer.)';\n",
       "    } else if (res.status === 409) {\n",
       "        div.innerHTML = 'Visualization no longer in scope. Re-run this cell' +\n",
       "                        ' to see the visualization.';\n",
       "    } else if (res.ok) {\n",
       "        url = res.url;\n",
       "        div.innerHTML = '<iframe src=\\'' + url + '\\' style=\\'' +\n",
       "                        'width: 100%; height: 700px; border: 0;\\'>' +\n",
       "                        '</iframe><hr />Open in a: <a href=\\'' + url + '\\'' +\n",
       "                        ' target=\\'_blank\\'>new window</a>'\n",
       "    } else {\n",
       "        div.innerHTML = 'Something has gone wrong. Check notebook server for' +\n",
       "                        ' errors.';\n",
       "    }\n",
       "});\n",
       "})(this.parentElement, '/qiime2/redirect?location=/tmp/qiime2-archive-h90v0k2s')\" src=\"data:image/gif;base64,R0lGODlhAQABAIAAAP///wAAACH5BAEAAAAALAAAAAABAAEAAAICRAEAOw==\" /></div>"
      ],
      "text/plain": [
       "<visualization: Visualization uuid: bb78dab9-1625-42d1-a3e4-a7ebb6137867>"
      ]
     },
     "execution_count": 24,
     "metadata": {},
     "output_type": "execute_result"
    }
   ],
   "source": [
    "Visualization.load(f'{data_dir}/core-metrics-with-continent/volatility.qzv')"
   ]
  }
 ],
 "metadata": {
  "kernelspec": {
   "display_name": "Python 3 (ipykernel)",
   "language": "python",
   "name": "python3"
  },
  "language_info": {
   "codemirror_mode": {
    "name": "ipython",
    "version": 3
   },
   "file_extension": ".py",
   "mimetype": "text/x-python",
   "name": "python",
   "nbconvert_exporter": "python",
   "pygments_lexer": "ipython3",
   "version": "3.8.13"
  }
 },
 "nbformat": 4,
 "nbformat_minor": 5
}
