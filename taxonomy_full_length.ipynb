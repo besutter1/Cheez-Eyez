{
 "cells": [
  {
   "cell_type": "markdown",
   "id": "45af823e-81c9-4a02-b3af-addb01793417",
   "metadata": {},
   "source": [
    "### NOTE: THIS FILE COMPAIRES THE FULL LENGTH CLASSIFIER VS THE 515f/806r CLASSIFIER FROM GREENGENES. "
   ]
  },
  {
   "cell_type": "code",
   "execution_count": null,
   "id": "fffac492-9daa-49e4-8b26-a72303f46723",
   "metadata": {},
   "outputs": [],
   "source": [
    "import os\n",
    "import pandas as pd\n",
    "from qiime2 import Visualization\n",
    "import matplotlib.pyplot as plt\n",
    "import numpy as np\n",
    "\n",
    "import qiime2 as q2\n",
    "\n",
    "%matplotlib inline\n",
    "data_dir = 'CE'"
   ]
  },
  {
   "cell_type": "code",
   "execution_count": null,
   "id": "5c082a4a-9a0b-4b0e-a187-48bb54d69eea",
   "metadata": {},
   "outputs": [],
   "source": [
    "#fetch the pre-trained classifier \n",
    "! wget -nv -O $data_dir/gg-13-8-99-nb-classifier.qza https://data.qiime2.org/2022.8/common/gg-13-8-99-nb-classifier.qza\n"
   ]
  },
  {
   "cell_type": "code",
   "execution_count": null,
   "id": "0b905493-a012-4bbd-bbc9-8ac8d649635f",
   "metadata": {},
   "outputs": [],
   "source": [
    "! qiime feature-classifier classify-sklearn \\\n",
    "    --i-classifier $data_dir/gg-13-8-99-nb-classifier.qza \\\n",
    "    --i-reads $data_dir/dada2_rep_set.qza \\\n",
    "    --o-classification $data_dir/taxonomy_full_length.qza"
   ]
  },
  {
   "cell_type": "code",
   "execution_count": null,
   "id": "aee365ce-65d4-4349-bcb0-60539983b535",
   "metadata": {},
   "outputs": [],
   "source": [
    "! qiime tools peek $data_dir/taxonomy_full_length.qza"
   ]
  },
  {
   "cell_type": "markdown",
   "id": "9994e5dd-e8ab-438b-9320-90a8a8f27a69",
   "metadata": {},
   "source": [
    "visualizations:"
   ]
  },
  {
   "cell_type": "code",
   "execution_count": null,
   "id": "cc7b2ab8-82d8-4f1b-9438-af505b341f6f",
   "metadata": {},
   "outputs": [],
   "source": [
    "! qiime metadata tabulate \\\n",
    "    --m-input-file $data_dir/taxonomy_full_length.qza \\\n",
    "    --o-visualization $data_dir/taxonomy_full_length.qzv"
   ]
  },
  {
   "cell_type": "code",
   "execution_count": null,
   "id": "e2425a4c-b297-47bb-a631-f96e0f00c9bb",
   "metadata": {},
   "outputs": [],
   "source": [
    "Visualization.load(f'{data_dir}/taxonomy_full_length.qzv')"
   ]
  },
  {
   "cell_type": "code",
   "execution_count": null,
   "id": "1d766d54-9b17-494e-a560-cd44b21ca16e",
   "metadata": {},
   "outputs": [],
   "source": [
    "#here we use the feature table artifact which was previously aligned with the metadata [see taxonomy.ipynb]\n",
    "#filter feature table and exclude mitochondria,chloroplast\n",
    "! qiime taxa filter-table \\\n",
    "--i-table $data_dir/dada2_table_aligned.qza \\\n",
    "--i-taxonomy $data_dir/taxonomy_full_length.qza \\\n",
    "--p-exclude mitochondria,chloroplast \\\n",
    "--o-filtered-table $data_dir/dada2_table_align_filtered_full_length.qza"
   ]
  },
  {
   "cell_type": "code",
   "execution_count": null,
   "id": "bed87e82-fa76-48da-b17c-2fb1850be99e",
   "metadata": {},
   "outputs": [],
   "source": [
    "#filter sequences and exclude mitochondria,chloroplast\n",
    "! qiime taxa filter-seqs \\\n",
    "--i-sequences $data_dir/dada2_rep_set.qza \\\n",
    "--i-taxonomy $data_dir/taxonomy_full_length.qza \\\n",
    "--p-exclude mitochondria,chloroplast \\\n",
    "--o-filtered-sequences $data_dir/dada2_rep_set_filtered_full_length.qza"
   ]
  },
  {
   "cell_type": "code",
   "execution_count": null,
   "id": "2efac97d-1e98-41af-99fe-06ecd2d6c0eb",
   "metadata": {},
   "outputs": [],
   "source": [
    "#this is the new barplot with the filtered feature table and sequences NO MITOCHONDRIA AND CHLOOROPLAST VISIBLE\n",
    "! qiime taxa barplot \\\n",
    "--i-table $data_dir/dada2_table_align_filtered_full_length.qza \\\n",
    "--i-taxonomy $data_dir/taxonomy_full_length.qza \\\n",
    "--m-metadata-file $data_dir/food-metadata.tsv \\\n",
    "--o-visualization $data_dir/taxa-bar-plots_full_length_filtered.qzv"
   ]
  },
  {
   "cell_type": "code",
   "execution_count": null,
   "id": "ef92d042-1256-4c97-8e47-eaa90ef87028",
   "metadata": {},
   "outputs": [],
   "source": [
    "Visualization.load(f'{data_dir}/taxa-bar-plots_full_length_filtered.qzv')"
   ]
  },
  {
   "cell_type": "markdown",
   "id": "3cedb9ea-eb9d-4192-8235-80d486728ca3",
   "metadata": {},
   "source": [
    "In this boxplot we see that:\n",
    "- "
   ]
  }
 ],
 "metadata": {
  "kernelspec": {
   "display_name": "Python 3 (ipykernel)",
   "language": "python",
   "name": "python3"
  },
  "language_info": {
   "codemirror_mode": {
    "name": "ipython",
    "version": 3
   },
   "file_extension": ".py",
   "mimetype": "text/x-python",
   "name": "python",
   "nbconvert_exporter": "python",
   "pygments_lexer": "ipython3",
   "version": "3.8.13"
  }
 },
 "nbformat": 4,
 "nbformat_minor": 5
}
