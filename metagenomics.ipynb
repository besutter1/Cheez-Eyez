{
 "cells": [
  {
   "cell_type": "markdown",
   "id": "3b48991e-5cdc-4ad1-a483-ef67f132f9b9",
   "metadata": {},
   "source": [
    "### Metagenomics"
   ]
  },
  {
   "cell_type": "code",
   "execution_count": 3,
   "id": "a284a5a8-0b6d-4466-9a7e-ee8fe71db068",
   "metadata": {},
   "outputs": [],
   "source": [
    "import os\n",
    "import pandas as pd\n",
    "import qiime2 as q2\n",
    "import requests\n",
    "\n",
    "from qiime2 import Visualization\n",
    "\n",
    "data_dir = 'CE'\n",
    "    \n",
    "%matplotlib inline"
   ]
  },
  {
   "cell_type": "code",
   "execution_count": 2,
   "id": "5dada12d-b773-49c3-8c1b-f539ae9982c9",
   "metadata": {},
   "outputs": [],
   "source": [
    "def fetch_ipath(ids: list, img_output_path: str, verbose: bool = False):\n",
    "    \"\"\"Fetches a enriched pathways map from iPATH3 for given IDs.\"\"\"\n",
    "    url = 'https://pathways.embl.de/mapping.cgi'\n",
    "    \n",
    "    # remove colon from EC names\n",
    "    if ':' in ids[0]:\n",
    "        ids = [x.replace(':', '') for x in ids]\n",
    "    \n",
    "    if verbose:\n",
    "        print(f'Fetching iPATH3 diagram for ids: {ids}')\n",
    "    params = {\n",
    "        'default_opacity': 0.6,\n",
    "        'export_type': 'svg',\n",
    "        'selection': '\\n'.join(ids)\n",
    "    }   \n",
    "    response = requests.get(url=url, params=params)\n",
    "    \n",
    "    with open(img_output_path, 'wb') as img:\n",
    "        img.write(response.content)"
   ]
  },
  {
   "cell_type": "code",
   "execution_count": 3,
   "id": "04e09bc5-ab3f-4bb0-b8c8-1bced40bdf6e",
   "metadata": {},
   "outputs": [],
   "source": [
    "picrust_env = '/opt/conda/envs/picrust2/bin'"
   ]
  },
  {
   "cell_type": "markdown",
   "id": "8e921372-b0df-4ab2-9f83-58d2e0b8b864",
   "metadata": {},
   "source": [
    "#### Functional inference"
   ]
  },
  {
   "cell_type": "code",
   "execution_count": 6,
   "id": "0f4f2822-f5ca-4ee5-b29d-860429793978",
   "metadata": {},
   "outputs": [
    {
     "name": "stderr",
     "output_type": "stream",
     "text": [
      "Usage: qiime picrust2 full-pipeline [OPTIONS]\n",
      "\n",
      "  QIIME 2 plugin for default 16S PICRUSt2 pipeline\n",
      "\n",
      "Inputs:\n",
      "  --i-table ARTIFACT FeatureTable[Frequency]\n",
      "                       The feature table containing sequence abundances per\n",
      "                       sample.                                      [required]\n",
      "  --i-seq ARTIFACT FeatureData[Sequence]\n",
      "                       Sequences (e.g. ASVs or representative OTUs)\n",
      "                       corresponding to the abundance table given.  [required]\n",
      "Parameters:\n",
      "  --p-threads INTEGER  Number of threads/processes to use during workflow.\n",
      "    Range(1, None)                                                [default: 1]\n",
      "  --p-hsp-method TEXT Choices('mp', 'emp_prob', 'pic', 'scp',\n",
      "    'subtree_average') Which hidden-state prediction method to use.\n",
      "                                                               [default: 'mp']\n",
      "  --p-placement-tool TEXT Choices('epa-ng', 'sepp')\n",
      "                       Placement tool to use when placing sequences into\n",
      "                       reference tree. EPA-ng is the default, but SEPP is less\n",
      "                       memory intensive.                   [default: 'epa-ng']\n",
      "  --p-min-align PROPORTION\n",
      "    Range(0.0, 1.0)    Proportion of the total length of an input query\n",
      "                       sequence that must align with reference sequences. Any\n",
      "                       sequences with lengths below this value after making an\n",
      "                       alignment with reference sequences will be excluded\n",
      "                       from the placement and all subsequent steps.\n",
      "                                                                [default: 0.8]\n",
      "  --p-max-nsti NUMBER  Max nearest-sequenced taxon index for an input ASV to\n",
      "    Range(0.0, None)   be output.                               [default: 2.0]\n",
      "  --p-edge-exponent NUMBER\n",
      "    Range(0.0, None)   Setting for maximum parisomony hidden-state\n",
      "                       prediction. Specifies weighting transition costs by the\n",
      "                       inverse length of edge lengths. If 0, then edge lengths\n",
      "                       do not influence predictions. Must be a non-negative\n",
      "                       real-valued number.                      [default: 0.5]\n",
      "  --p-skip-minpath / --p-no-skip-minpath\n",
      "                       Do not run MinPath to identify which pathways are\n",
      "                       present as a first pass (on by default).\n",
      "                                                              [default: False]\n",
      "  --p-no-gap-fill / --p-no-no-gap-fill\n",
      "                       Do not perform gap filling before predicting pathway\n",
      "                       abundances (gap filling is on otherwise by default).\n",
      "                                                              [default: False]\n",
      "  --p-skip-norm / --p-no-skip-norm\n",
      "                       Skip normalizing sequence abundances by predicted\n",
      "                       marker gene copy numbers (typically 16S rRNA genes).\n",
      "                       The normalization step will be performed automatically\n",
      "                       unless this option is specified.       [default: False]\n",
      "  --p-highly-verbose / --p-no-highly-verbose\n",
      "                       Print all commands being written as well as all\n",
      "                       standard output of wrapped tools. This can be\n",
      "                       especially useful for debugging. Note that this option\n",
      "                       requires that the --verbose option is also set (which\n",
      "                       is an internal QIIME 2 option that indicates that\n",
      "                       STDOUT and STDERR should be printed out).\n",
      "                                                              [default: False]\n",
      "Outputs:\n",
      "  --o-ko-metagenome ARTIFACT FeatureTable[Frequency]\n",
      "                       Predicted metagenome for KEGG orthologs      [required]\n",
      "  --o-ec-metagenome ARTIFACT FeatureTable[Frequency]\n",
      "                       Predicted metagenome for EC numbers          [required]\n",
      "  --o-pathway-abundance ARTIFACT FeatureTable[Frequency]\n",
      "                       Predicted MetaCyc pathway abundances         [required]\n",
      "Miscellaneous:\n",
      "  --output-dir PATH    Output unspecified results to a directory\n",
      "  --verbose / --quiet  Display verbose output to stdout and/or stderr during\n",
      "                       execution of this action. Or silence output if\n",
      "                       execution is successful (silence is golden).\n",
      "  --example-data PATH  Write example data and exit.\n",
      "  --citations          Show citations and exit.\n",
      "  --help               Show this message and exit.\n",
      "\n",
      "                  There were some problems with the command:                  \n",
      " (1/4) Invalid value for '--output-dir': 'CE/picrust2_results' already exists,\n",
      "  will not overwrite.\n",
      " (2/4) Missing option '--o-ko-metagenome'.  (\"--output-dir\" may also be used)\n",
      " (3/4) Missing option '--o-ec-metagenome'.  (\"--output-dir\" may also be used)\n",
      " (4/4) Missing option '--o-pathway-abundance'.  (\"--output-dir\" may also be\n",
      "  used)\n"
     ]
    },
    {
     "ename": "CalledProcessError",
     "evalue": "Command 'b'\\n# append the env location to PATH so that qiime\\n# can find all required executables\\nexport PATH=$picrust_env:$PATH\\n\\n$picrust_env/qiime picrust2 full-pipeline \\\\\\n    --i-seq $data_dir/dada2_rep_set_filtered.qza \\\\\\n    --i-table $data_dir/dada2_table_align_filtered.qza \\\\\\n    --output-dir $data_dir/picrust2_results \\\\\\n    --p-placement-tool sepp \\\\\\n    --p-threads 2 \\\\\\n    --p-hsp-method pic \\\\\\n    --p-max-nsti 2 \\n'' returned non-zero exit status 1.",
     "output_type": "error",
     "traceback": [
      "\u001b[0;31m---------------------------------------------------------------------------\u001b[0m",
      "\u001b[0;31mCalledProcessError\u001b[0m                        Traceback (most recent call last)",
      "Input \u001b[0;32mIn [6]\u001b[0m, in \u001b[0;36m<cell line: 1>\u001b[0;34m()\u001b[0m\n\u001b[0;32m----> 1\u001b[0m \u001b[43mget_ipython\u001b[49m\u001b[43m(\u001b[49m\u001b[43m)\u001b[49m\u001b[38;5;241;43m.\u001b[39;49m\u001b[43mrun_cell_magic\u001b[49m\u001b[43m(\u001b[49m\u001b[38;5;124;43m'\u001b[39;49m\u001b[38;5;124;43mscript\u001b[39;49m\u001b[38;5;124;43m'\u001b[39;49m\u001b[43m,\u001b[49m\u001b[43m \u001b[49m\u001b[38;5;124;43m'\u001b[39;49m\u001b[38;5;124;43menv picrust_env=\u001b[39;49m\u001b[38;5;124;43m\"\u001b[39;49m\u001b[38;5;124;43m$picrust_env\u001b[39;49m\u001b[38;5;124;43m\"\u001b[39;49m\u001b[38;5;124;43m data_dir=\u001b[39;49m\u001b[38;5;124;43m\"\u001b[39;49m\u001b[38;5;124;43m$data_dir\u001b[39;49m\u001b[38;5;124;43m\"\u001b[39;49m\u001b[38;5;124;43m bash\u001b[39;49m\u001b[38;5;124;43m'\u001b[39;49m\u001b[43m,\u001b[49m\u001b[43m \u001b[49m\u001b[38;5;124;43m'\u001b[39;49m\u001b[38;5;130;43;01m\\n\u001b[39;49;00m\u001b[38;5;124;43m# append the env location to PATH so that qiime\u001b[39;49m\u001b[38;5;130;43;01m\\n\u001b[39;49;00m\u001b[38;5;124;43m# can find all required executables\u001b[39;49m\u001b[38;5;130;43;01m\\n\u001b[39;49;00m\u001b[38;5;124;43mexport PATH=$picrust_env:$PATH\u001b[39;49m\u001b[38;5;130;43;01m\\n\u001b[39;49;00m\u001b[38;5;130;43;01m\\n\u001b[39;49;00m\u001b[38;5;124;43m$picrust_env/qiime picrust2 full-pipeline \u001b[39;49m\u001b[38;5;130;43;01m\\\\\u001b[39;49;00m\u001b[38;5;130;43;01m\\n\u001b[39;49;00m\u001b[38;5;124;43m    --i-seq $data_dir/dada2_rep_set_filtered.qza \u001b[39;49m\u001b[38;5;130;43;01m\\\\\u001b[39;49;00m\u001b[38;5;130;43;01m\\n\u001b[39;49;00m\u001b[38;5;124;43m    --i-table $data_dir/dada2_table_align_filtered.qza \u001b[39;49m\u001b[38;5;130;43;01m\\\\\u001b[39;49;00m\u001b[38;5;130;43;01m\\n\u001b[39;49;00m\u001b[38;5;124;43m    --output-dir $data_dir/picrust2_results \u001b[39;49m\u001b[38;5;130;43;01m\\\\\u001b[39;49;00m\u001b[38;5;130;43;01m\\n\u001b[39;49;00m\u001b[38;5;124;43m    --p-placement-tool sepp \u001b[39;49m\u001b[38;5;130;43;01m\\\\\u001b[39;49;00m\u001b[38;5;130;43;01m\\n\u001b[39;49;00m\u001b[38;5;124;43m    --p-threads 2 \u001b[39;49m\u001b[38;5;130;43;01m\\\\\u001b[39;49;00m\u001b[38;5;130;43;01m\\n\u001b[39;49;00m\u001b[38;5;124;43m    --p-hsp-method pic \u001b[39;49m\u001b[38;5;130;43;01m\\\\\u001b[39;49;00m\u001b[38;5;130;43;01m\\n\u001b[39;49;00m\u001b[38;5;124;43m    --p-max-nsti 2 \u001b[39;49m\u001b[38;5;130;43;01m\\n\u001b[39;49;00m\u001b[38;5;124;43m'\u001b[39;49m\u001b[43m)\u001b[49m\n",
      "File \u001b[0;32m/opt/conda/lib/python3.8/site-packages/IPython/core/interactiveshell.py:2358\u001b[0m, in \u001b[0;36mInteractiveShell.run_cell_magic\u001b[0;34m(self, magic_name, line, cell)\u001b[0m\n\u001b[1;32m   2356\u001b[0m \u001b[38;5;28;01mwith\u001b[39;00m \u001b[38;5;28mself\u001b[39m\u001b[38;5;241m.\u001b[39mbuiltin_trap:\n\u001b[1;32m   2357\u001b[0m     args \u001b[38;5;241m=\u001b[39m (magic_arg_s, cell)\n\u001b[0;32m-> 2358\u001b[0m     result \u001b[38;5;241m=\u001b[39m \u001b[43mfn\u001b[49m\u001b[43m(\u001b[49m\u001b[38;5;241;43m*\u001b[39;49m\u001b[43margs\u001b[49m\u001b[43m,\u001b[49m\u001b[43m \u001b[49m\u001b[38;5;241;43m*\u001b[39;49m\u001b[38;5;241;43m*\u001b[39;49m\u001b[43mkwargs\u001b[49m\u001b[43m)\u001b[49m\n\u001b[1;32m   2359\u001b[0m \u001b[38;5;28;01mreturn\u001b[39;00m result\n",
      "File \u001b[0;32m/opt/conda/lib/python3.8/site-packages/IPython/core/magics/script.py:305\u001b[0m, in \u001b[0;36mScriptMagics.shebang\u001b[0;34m(self, line, cell)\u001b[0m\n\u001b[1;32m    300\u001b[0m \u001b[38;5;28;01mif\u001b[39;00m args\u001b[38;5;241m.\u001b[39mraise_error \u001b[38;5;129;01mand\u001b[39;00m p\u001b[38;5;241m.\u001b[39mreturncode \u001b[38;5;241m!=\u001b[39m \u001b[38;5;241m0\u001b[39m:\n\u001b[1;32m    301\u001b[0m     \u001b[38;5;66;03m# If we get here and p.returncode is still None, we must have\u001b[39;00m\n\u001b[1;32m    302\u001b[0m     \u001b[38;5;66;03m# killed it but not yet seen its return code. We don't wait for it,\u001b[39;00m\n\u001b[1;32m    303\u001b[0m     \u001b[38;5;66;03m# in case it's stuck in uninterruptible sleep. -9 = SIGKILL\u001b[39;00m\n\u001b[1;32m    304\u001b[0m     rc \u001b[38;5;241m=\u001b[39m p\u001b[38;5;241m.\u001b[39mreturncode \u001b[38;5;129;01mor\u001b[39;00m \u001b[38;5;241m-\u001b[39m\u001b[38;5;241m9\u001b[39m\n\u001b[0;32m--> 305\u001b[0m     \u001b[38;5;28;01mraise\u001b[39;00m CalledProcessError(rc, cell)\n",
      "\u001b[0;31mCalledProcessError\u001b[0m: Command 'b'\\n# append the env location to PATH so that qiime\\n# can find all required executables\\nexport PATH=$picrust_env:$PATH\\n\\n$picrust_env/qiime picrust2 full-pipeline \\\\\\n    --i-seq $data_dir/dada2_rep_set_filtered.qza \\\\\\n    --i-table $data_dir/dada2_table_align_filtered.qza \\\\\\n    --output-dir $data_dir/picrust2_results \\\\\\n    --p-placement-tool sepp \\\\\\n    --p-threads 2 \\\\\\n    --p-hsp-method pic \\\\\\n    --p-max-nsti 2 \\n'' returned non-zero exit status 1."
     ]
    }
   ],
   "source": [
    "%%script env picrust_env=\"$picrust_env\" data_dir=\"$data_dir\" bash\n",
    "\n",
    "# append the env location to PATH so that qiime\n",
    "# can find all required executables\n",
    "export PATH=$picrust_env:$PATH\n",
    "\n",
    "$picrust_env/qiime picrust2 full-pipeline \\\n",
    "    --i-seq $data_dir/dada2_rep_set_filtered.qza \\\n",
    "    --i-table $data_dir/dada2_table_align_filtered.qza \\\n",
    "    --output-dir $data_dir/picrust2_results \\\n",
    "    --p-placement-tool sepp \\\n",
    "    --p-threads 2 \\\n",
    "    --p-hsp-method pic \\\n",
    "    --p-max-nsti 2 "
   ]
  },
  {
   "cell_type": "code",
   "execution_count": 1,
   "id": "ab22e55e-14af-4310-9f49-c3269910434f",
   "metadata": {},
   "outputs": [
    {
     "ename": "SyntaxError",
     "evalue": "invalid syntax (557426884.py, line 1)",
     "output_type": "error",
     "traceback": [
      "\u001b[0;36m  Input \u001b[0;32mIn [1]\u001b[0;36m\u001b[0m\n\u001b[0;31m    Test test..\u001b[0m\n\u001b[0m         ^\u001b[0m\n\u001b[0;31mSyntaxError\u001b[0m\u001b[0;31m:\u001b[0m invalid syntax\n"
     ]
    }
   ],
   "source": [
    "Test test.."
   ]
  },
  {
   "cell_type": "code",
   "execution_count": 2,
   "id": "6d20c5b0-aae0-4e50-b560-237404dc9907",
   "metadata": {},
   "outputs": [
    {
     "ename": "SyntaxError",
     "evalue": "invalid syntax (3039516243.py, line 1)",
     "output_type": "error",
     "traceback": [
      "\u001b[0;36m  Input \u001b[0;32mIn [2]\u001b[0;36m\u001b[0m\n\u001b[0;31m    change 1,2,3 blibli blabla\u001b[0m\n\u001b[0m           ^\u001b[0m\n\u001b[0;31mSyntaxError\u001b[0m\u001b[0;31m:\u001b[0m invalid syntax\n"
     ]
    }
   ],
   "source": [
    "change 1,2,3 blibli blabla"
   ]
  },
  {
   "cell_type": "code",
   "execution_count": null,
   "id": "337d2a24-f646-4b83-b93d-a0a0c7796be8",
   "metadata": {},
   "outputs": [],
   "source": []
  }
 ],
 "metadata": {
  "kernelspec": {
   "display_name": "Python 3 (ipykernel)",
   "language": "python",
   "name": "python3"
  },
  "language_info": {
   "codemirror_mode": {
    "name": "ipython",
    "version": 3
   },
   "file_extension": ".py",
   "mimetype": "text/x-python",
   "name": "python",
   "nbconvert_exporter": "python",
   "pygments_lexer": "ipython3",
   "version": "3.8.13"
  }
 },
 "nbformat": 4,
 "nbformat_minor": 5
}
