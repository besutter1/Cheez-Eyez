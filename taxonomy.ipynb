{
 "cells": [
  {
   "cell_type": "markdown",
   "id": "fb679d84-ac1e-46d8-a727-801dc4c4e20d",
   "metadata": {},
   "source": [
    "Taxonomy\n",
    "---\n",
    "In this file we will assign taxonomy labels to the ASVs obtained from the denoising. In order to do that we will use the `classify-sklearn` action from the `feature-classifier` plugin and fetch:\n",
    "- a pretrained classifier (from greengenes as the silva needs too much RAM)\n",
    "- the sequences which we want to have classified (from the denoising step: dada2_rep_set.qza)\n",
    "**Note:** As we don't know which primers were used we actually cannot just take a pre-trained classifier as such classifiers corresponds to a certain primer pair/rRNA region. But we do know the sequences (101bp) originate from the V4 region (300bp) of the 16S rRNA. As the most common primer pair (515f/806r) fully covers the V4 region we think it should be possible to use a classifier which was trained with 515f/806r seqeunces. Why not use a full lenght classifier? It was reported that Species-level classification performance of 16S rRNA gene simulated reads had a slightly lower accuracy in full-lenght sequences than in V1–3 and V4 subdomains. (from https://doi.org/10.1186/s40168-018-0470-z) "
   ]
  },
  {
   "cell_type": "code",
   "execution_count": null,
   "id": "1c0fde3e-0106-4164-a46f-dc99d671734d",
   "metadata": {},
   "outputs": [],
   "source": [
    "import os\n",
    "import pandas as pd\n",
    "from qiime2 import Visualization\n",
    "import matplotlib.pyplot as plt\n",
    "import numpy as np\n",
    "\n",
    "import qiime2 as q2\n",
    "\n",
    "%matplotlib inline\n",
    "data_dir = 'CE'"
   ]
  },
  {
   "cell_type": "code",
   "execution_count": 16,
   "id": "c2f76713-c637-4de9-b767-a71084886c80",
   "metadata": {},
   "outputs": [
    {
     "name": "stdout",
     "output_type": "stream",
     "text": [
      "2022-11-02 10:39:42 URL:https://s3-us-west-2.amazonaws.com/qiime2-data/2021.4/common/gg-13-8-99-515-806-nb-classifier.qza [28289645/28289645] -> \"CE/515f-806r-classifier.qza\" [1]\n"
     ]
    }
   ],
   "source": [
    "#fetch the pre-trained classifier \n",
    "! wget -nv -O $data_dir/515f-806r-classifier.qza https://data.qiime2.org/2021.4/common/gg-13-8-99-515-806-nb-classifier.qza"
   ]
  },
  {
   "cell_type": "code",
   "execution_count": 17,
   "id": "0d76ff74-465b-4664-9af0-9f6b8ab9299c",
   "metadata": {},
   "outputs": [
    {
     "name": "stdout",
     "output_type": "stream",
     "text": [
      "\u001b[32mSaved FeatureData[Taxonomy] to: CE/taxonomy_v4.qza\u001b[0m\n",
      "\u001b[0m"
     ]
    }
   ],
   "source": [
    "! qiime feature-classifier classify-sklearn \\\n",
    "    --i-classifier $data_dir/515f-806r-classifier.qza \\\n",
    "    --i-reads $data_dir/dada2_rep_set.qza \\\n",
    "    --o-classification $data_dir/taxonomy_v4.qza"
   ]
  },
  {
   "cell_type": "markdown",
   "id": "1d0dfa34-bd0f-485f-afee-d06917fc40fe",
   "metadata": {},
   "source": [
    "This should have created a new taxonomy.qza artifact (containing our taxonomic assignments per feature)"
   ]
  },
  {
   "cell_type": "code",
   "execution_count": 18,
   "id": "f9effea5-2e2c-460f-962c-9a39e629c73d",
   "metadata": {},
   "outputs": [
    {
     "name": "stdout",
     "output_type": "stream",
     "text": [
      "\u001b[32mUUID\u001b[0m:        bee1106c-4fdc-4415-80c8-7b70438075cb\n",
      "\u001b[32mType\u001b[0m:        FeatureData[Taxonomy]\n",
      "\u001b[32mData format\u001b[0m: TSVTaxonomyDirectoryFormat\n"
     ]
    }
   ],
   "source": [
    "! qiime tools peek $data_dir/taxonomy_v4.qza"
   ]
  },
  {
   "cell_type": "markdown",
   "id": "6de99771-f9d9-4ee3-8e5e-fdff856a5f8d",
   "metadata": {},
   "source": [
    "Visualizations\n",
    "---\n",
    "We can make a tabular representation of all the features labeled with their corresponding taxonomy:"
   ]
  },
  {
   "cell_type": "code",
   "execution_count": 19,
   "id": "01775c96-c2a4-4849-814b-ec6c346db2d3",
   "metadata": {},
   "outputs": [
    {
     "name": "stdout",
     "output_type": "stream",
     "text": [
      "\u001b[32mSaved Visualization to: CE/taxonomy_v4.qzv\u001b[0m\n",
      "\u001b[0m"
     ]
    }
   ],
   "source": [
    "! qiime metadata tabulate \\\n",
    "    --m-input-file $data_dir/taxonomy_v4.qza \\\n",
    "    --o-visualization $data_dir/taxonomy_v4.qzv"
   ]
  },
  {
   "cell_type": "code",
   "execution_count": 6,
   "id": "a2819261-1db0-4991-9658-e38b6a5381d5",
   "metadata": {},
   "outputs": [
    {
     "data": {
      "text/html": [
       "<div><img onload=\"(function(div, url){\n",
       "if (typeof require !== 'undefined') {\n",
       "    var baseURL = require.toUrl('').split('/').slice(0, -2).join('/');\n",
       "} else {\n",
       "    var baseURL = JSON.parse(\n",
       "        document.getElementById('jupyter-config-data').innerHTML\n",
       "    ).baseUrl.slice(0, -1);\n",
       "}\n",
       "url = baseURL + url;\n",
       "fetch(url).then(function(res) {\n",
       "    if (res.status === 404) {\n",
       "        div.innerHTML = 'Install QIIME 2 Jupyter extension with:<br />' +\n",
       "                        '<code>jupyter serverextension enable --py qiime2' +\n",
       "                        ' --sys-prefix</code><br />then restart your server.' +\n",
       "                        '<br /><br />(Interactive output not available on ' +\n",
       "                        'static notebook viewer services like nbviewer.)';\n",
       "    } else if (res.status === 409) {\n",
       "        div.innerHTML = 'Visualization no longer in scope. Re-run this cell' +\n",
       "                        ' to see the visualization.';\n",
       "    } else if (res.ok) {\n",
       "        url = res.url;\n",
       "        div.innerHTML = '<iframe src=\\'' + url + '\\' style=\\'' +\n",
       "                        'width: 100%; height: 700px; border: 0;\\'>' +\n",
       "                        '</iframe><hr />Open in a: <a href=\\'' + url + '\\'' +\n",
       "                        ' target=\\'_blank\\'>new window</a>'\n",
       "    } else {\n",
       "        div.innerHTML = 'Something has gone wrong. Check notebook server for' +\n",
       "                        ' errors.';\n",
       "    }\n",
       "});\n",
       "})(this.parentElement, '/qiime2/redirect?location=/tmp/qiime2-archive-dysuw_wa')\" src=\"data:image/gif;base64,R0lGODlhAQABAIAAAP///wAAACH5BAEAAAAALAAAAAABAAEAAAICRAEAOw==\" /></div>"
      ],
      "text/plain": [
       "<visualization: Visualization uuid: 25326f1a-4573-4976-b1a6-a30b926b7b60>"
      ]
     },
     "execution_count": 6,
     "metadata": {},
     "output_type": "execute_result"
    }
   ],
   "source": [
    "Visualization.load(f'{data_dir}/taxonomy_v4.qzv')"
   ]
  },
  {
   "cell_type": "markdown",
   "id": "17a89e80-dee8-4744-965e-bcf7a118438f",
   "metadata": {},
   "source": [
    "By combining the taxonomic inforamtion with the metadata of our samples we can also get a hint of what the distribution of species is in the different samples! \n",
    "**Note:** dada2_table is a feature table from the denoising step which includes all ASVs (with error-corrected sequences)"
   ]
  },
  {
   "cell_type": "code",
   "execution_count": 21,
   "id": "e11090e3-8466-4337-a0e1-7293ded1c762",
   "metadata": {},
   "outputs": [
    {
     "name": "stdout",
     "output_type": "stream",
     "text": [
      "\u001b[32mSaved FeatureTable[Frequency] to: CE/dada2_table_aligned.qza\u001b[0m\n",
      "\u001b[0m"
     ]
    }
   ],
   "source": [
    "#filter the feature table by excluding samples not present in metadata\n",
    "! qiime feature-table filter-samples \\\n",
    "    --i-table $data_dir/dada2_table.qza \\\n",
    "    --m-metadata-file $data_dir/food-metadata.tsv \\\n",
    "    --o-filtered-table $data_dir/dada2_table_aligned.qza"
   ]
  },
  {
   "cell_type": "code",
   "execution_count": 22,
   "id": "56de86eb-90c6-447c-bbce-fa59d822edd5",
   "metadata": {},
   "outputs": [
    {
     "name": "stdout",
     "output_type": "stream",
     "text": [
      "\u001b[32mSaved Visualization to: CE/dada2_table_aligned.qzv\u001b[0m\n",
      "\u001b[0m"
     ]
    }
   ],
   "source": [
    "! qiime feature-table summarize \\\n",
    "    --i-table $data_dir/dada2_table_aligned.qza \\\n",
    "    --m-sample-metadata-file $data_dir/food-metadata.tsv \\\n",
    "    --o-visualization $data_dir/dada2_table_aligned.qzv"
   ]
  },
  {
   "cell_type": "code",
   "execution_count": 23,
   "id": "59b9c499-b4d5-4dfa-83a8-cc6c9c7514f2",
   "metadata": {},
   "outputs": [
    {
     "data": {
      "text/html": [
       "<div><img onload=\"(function(div, url){\n",
       "if (typeof require !== 'undefined') {\n",
       "    var baseURL = require.toUrl('').split('/').slice(0, -2).join('/');\n",
       "} else {\n",
       "    var baseURL = JSON.parse(\n",
       "        document.getElementById('jupyter-config-data').innerHTML\n",
       "    ).baseUrl.slice(0, -1);\n",
       "}\n",
       "url = baseURL + url;\n",
       "fetch(url).then(function(res) {\n",
       "    if (res.status === 404) {\n",
       "        div.innerHTML = 'Install QIIME 2 Jupyter extension with:<br />' +\n",
       "                        '<code>jupyter serverextension enable --py qiime2' +\n",
       "                        ' --sys-prefix</code><br />then restart your server.' +\n",
       "                        '<br /><br />(Interactive output not available on ' +\n",
       "                        'static notebook viewer services like nbviewer.)';\n",
       "    } else if (res.status === 409) {\n",
       "        div.innerHTML = 'Visualization no longer in scope. Re-run this cell' +\n",
       "                        ' to see the visualization.';\n",
       "    } else if (res.ok) {\n",
       "        url = res.url;\n",
       "        div.innerHTML = '<iframe src=\\'' + url + '\\' style=\\'' +\n",
       "                        'width: 100%; height: 700px; border: 0;\\'>' +\n",
       "                        '</iframe><hr />Open in a: <a href=\\'' + url + '\\'' +\n",
       "                        ' target=\\'_blank\\'>new window</a>'\n",
       "    } else {\n",
       "        div.innerHTML = 'Something has gone wrong. Check notebook server for' +\n",
       "                        ' errors.';\n",
       "    }\n",
       "});\n",
       "})(this.parentElement, '/qiime2/redirect?location=/tmp/qiime2-archive-q6pixbrh')\" src=\"data:image/gif;base64,R0lGODlhAQABAIAAAP///wAAACH5BAEAAAAALAAAAAABAAEAAAICRAEAOw==\" /></div>"
      ],
      "text/plain": [
       "<visualization: Visualization uuid: 419aac1c-07e6-4065-b500-3966d534c83e>"
      ]
     },
     "execution_count": 23,
     "metadata": {},
     "output_type": "execute_result"
    }
   ],
   "source": [
    "Visualization.load(f'{data_dir}/dada2_table_aligned.qzv')"
   ]
  },
  {
   "cell_type": "code",
   "execution_count": 24,
   "id": "1adc0d65-9a05-4841-9141-645fb5a8ea15",
   "metadata": {},
   "outputs": [
    {
     "name": "stdout",
     "output_type": "stream",
     "text": [
      "\u001b[32mSaved Visualization to: CE/taxa-bar-plots_v4.qzv\u001b[0m\n",
      "\u001b[0m"
     ]
    }
   ],
   "source": [
    "! qiime taxa barplot \\\n",
    "    --i-table $data_dir/dada2_table_aligned.qza \\\n",
    "    --i-taxonomy $data_dir/taxonomy_v4.qza \\\n",
    "    --m-metadata-file $data_dir/food-metadata.tsv \\\n",
    "    --o-visualization $data_dir/taxa-bar-plots_v4.qzv"
   ]
  },
  {
   "cell_type": "code",
   "execution_count": 25,
   "id": "b837c4b9-9a11-47a5-b968-6967c1de97ff",
   "metadata": {},
   "outputs": [
    {
     "data": {
      "text/html": [
       "<div><img onload=\"(function(div, url){\n",
       "if (typeof require !== 'undefined') {\n",
       "    var baseURL = require.toUrl('').split('/').slice(0, -2).join('/');\n",
       "} else {\n",
       "    var baseURL = JSON.parse(\n",
       "        document.getElementById('jupyter-config-data').innerHTML\n",
       "    ).baseUrl.slice(0, -1);\n",
       "}\n",
       "url = baseURL + url;\n",
       "fetch(url).then(function(res) {\n",
       "    if (res.status === 404) {\n",
       "        div.innerHTML = 'Install QIIME 2 Jupyter extension with:<br />' +\n",
       "                        '<code>jupyter serverextension enable --py qiime2' +\n",
       "                        ' --sys-prefix</code><br />then restart your server.' +\n",
       "                        '<br /><br />(Interactive output not available on ' +\n",
       "                        'static notebook viewer services like nbviewer.)';\n",
       "    } else if (res.status === 409) {\n",
       "        div.innerHTML = 'Visualization no longer in scope. Re-run this cell' +\n",
       "                        ' to see the visualization.';\n",
       "    } else if (res.ok) {\n",
       "        url = res.url;\n",
       "        div.innerHTML = '<iframe src=\\'' + url + '\\' style=\\'' +\n",
       "                        'width: 100%; height: 700px; border: 0;\\'>' +\n",
       "                        '</iframe><hr />Open in a: <a href=\\'' + url + '\\'' +\n",
       "                        ' target=\\'_blank\\'>new window</a>'\n",
       "    } else {\n",
       "        div.innerHTML = 'Something has gone wrong. Check notebook server for' +\n",
       "                        ' errors.';\n",
       "    }\n",
       "});\n",
       "})(this.parentElement, '/qiime2/redirect?location=/tmp/qiime2-archive-9e7f68ri')\" src=\"data:image/gif;base64,R0lGODlhAQABAIAAAP///wAAACH5BAEAAAAALAAAAAABAAEAAAICRAEAOw==\" /></div>"
      ],
      "text/plain": [
       "<visualization: Visualization uuid: 5ef150c6-59d1-4dfa-b930-63c1bd5f01ec>"
      ]
     },
     "execution_count": 25,
     "metadata": {},
     "output_type": "execute_result"
    }
   ],
   "source": [
    "Visualization.load(f'{data_dir}/taxa-bar-plots_v4.qzv')"
   ]
  },
  {
   "cell_type": "markdown",
   "id": "6ae62e1c-61e1-4cd8-bc57-ee19f0865f06",
   "metadata": {
    "tags": []
   },
   "source": [
    "To investigate how our taxonomic analysis compares to e.g. BLAST. We can open the tabular view of our ASVs and search for some features manually (click on sequence)"
   ]
  },
  {
   "cell_type": "code",
   "execution_count": 26,
   "id": "c27096f6-3bde-4f68-a1c2-f76b36740207",
   "metadata": {},
   "outputs": [
    {
     "name": "stdout",
     "output_type": "stream",
     "text": [
      "\u001b[32mSaved FeatureTable[Frequency] to: CE/dada2_table_align_filtered.qza\u001b[0m\n",
      "\u001b[0m"
     ]
    }
   ],
   "source": [
    "#filter feature table and exclude mitochondria,chloroplast\n",
    "! qiime taxa filter-table \\\n",
    "--i-table $data_dir/dada2_table_aligned.qza \\\n",
    "--i-taxonomy $data_dir/taxonomy_v4.qza \\\n",
    "--p-exclude mitochondria,chloroplast \\\n",
    "--o-filtered-table $data_dir/dada2_table_align_filtered.qza"
   ]
  },
  {
   "cell_type": "code",
   "execution_count": 27,
   "id": "0efe945d-0f9b-4061-8c70-51749ee5f3d4",
   "metadata": {},
   "outputs": [
    {
     "name": "stdout",
     "output_type": "stream",
     "text": [
      "\u001b[32mSaved FeatureData[Sequence] to: CE/dada2_rep_set_filtered.qza\u001b[0m\n",
      "\u001b[0m"
     ]
    }
   ],
   "source": [
    "#filter sequences and exclude mitochondria,chloroplast\n",
    "! qiime taxa filter-seqs \\\n",
    "--i-sequences $data_dir/dada2_rep_set.qza \\\n",
    "--i-taxonomy $data_dir/taxonomy_v4.qza \\\n",
    "--p-exclude mitochondria,chloroplast \\\n",
    "--o-filtered-sequences $data_dir/dada2_rep_set_filtered.qza"
   ]
  },
  {
   "cell_type": "code",
   "execution_count": 28,
   "id": "e79c0117-56b8-404d-ab5e-14586fc21e93",
   "metadata": {},
   "outputs": [
    {
     "name": "stdout",
     "output_type": "stream",
     "text": [
      "\u001b[32mSaved Visualization to: CE/taxa-bar-plots_v4_filtered.qzv\u001b[0m\n",
      "\u001b[0m"
     ]
    }
   ],
   "source": [
    "#this is the new barplot with the filtered deature atble and sequences NO MITOCHONDRIA AND CHLOOROPLAST VISIBLE\n",
    "! qiime taxa barplot \\\n",
    "--i-table $data_dir/dada2_table_align_filtered.qza \\\n",
    "--i-taxonomy $data_dir/taxonomy_v4.qza \\\n",
    "--m-metadata-file $data_dir/food-metadata.tsv \\\n",
    "--o-visualization $data_dir/taxa-bar-plots_v4_filtered.qzv"
   ]
  },
  {
   "cell_type": "code",
   "execution_count": 29,
   "id": "dafa19d5-c486-4d0a-84c9-607783d0b312",
   "metadata": {},
   "outputs": [
    {
     "data": {
      "text/html": [
       "<div><img onload=\"(function(div, url){\n",
       "if (typeof require !== 'undefined') {\n",
       "    var baseURL = require.toUrl('').split('/').slice(0, -2).join('/');\n",
       "} else {\n",
       "    var baseURL = JSON.parse(\n",
       "        document.getElementById('jupyter-config-data').innerHTML\n",
       "    ).baseUrl.slice(0, -1);\n",
       "}\n",
       "url = baseURL + url;\n",
       "fetch(url).then(function(res) {\n",
       "    if (res.status === 404) {\n",
       "        div.innerHTML = 'Install QIIME 2 Jupyter extension with:<br />' +\n",
       "                        '<code>jupyter serverextension enable --py qiime2' +\n",
       "                        ' --sys-prefix</code><br />then restart your server.' +\n",
       "                        '<br /><br />(Interactive output not available on ' +\n",
       "                        'static notebook viewer services like nbviewer.)';\n",
       "    } else if (res.status === 409) {\n",
       "        div.innerHTML = 'Visualization no longer in scope. Re-run this cell' +\n",
       "                        ' to see the visualization.';\n",
       "    } else if (res.ok) {\n",
       "        url = res.url;\n",
       "        div.innerHTML = '<iframe src=\\'' + url + '\\' style=\\'' +\n",
       "                        'width: 100%; height: 700px; border: 0;\\'>' +\n",
       "                        '</iframe><hr />Open in a: <a href=\\'' + url + '\\'' +\n",
       "                        ' target=\\'_blank\\'>new window</a>'\n",
       "    } else {\n",
       "        div.innerHTML = 'Something has gone wrong. Check notebook server for' +\n",
       "                        ' errors.';\n",
       "    }\n",
       "});\n",
       "})(this.parentElement, '/qiime2/redirect?location=/tmp/qiime2-archive-u4n0_or9')\" src=\"data:image/gif;base64,R0lGODlhAQABAIAAAP///wAAACH5BAEAAAAALAAAAAABAAEAAAICRAEAOw==\" /></div>"
      ],
      "text/plain": [
       "<visualization: Visualization uuid: 02b22756-aa14-4ac3-9340-65e092310bc0>"
      ]
     },
     "execution_count": 29,
     "metadata": {},
     "output_type": "execute_result"
    }
   ],
   "source": [
    "Visualization.load(f'{data_dir}/taxa-bar-plots_v4_filtered.qzv')"
   ]
  },
  {
   "cell_type": "markdown",
   "id": "094a768c-f42e-4dd6-87f7-316dfbca5d45",
   "metadata": {},
   "source": [
    "BUT I AM NOT DONE YET WITH FILTERING: Filtering the feature table and the sequences only to **assigned phylum level** and exclude the **unassigned**: (because when exploring barplot we discovered some features which had k__Bacteria;__;__;__;__;__;__ or Unassigned;__;__;__;__;__;__. These 2 features give us no additional information if we keep it in our data?)"
   ]
  },
  {
   "cell_type": "code",
   "execution_count": null,
   "id": "e85d1694-4727-4938-ad06-5bcd7a29dcc8",
   "metadata": {},
   "outputs": [],
   "source": [
    "! qiime taxa filter-table \\\n",
    "--i-table $data_dir/dada2_table_align_filtered.qza \\\n",
    "--i-taxonomy $data_dir/taxonomy_v4.qza \\\n",
    "--p-include p__ \\\n",
    "--o-filtered-table $data_dir/dada2_table_align_filtered2.qza"
   ]
  },
  {
   "cell_type": "code",
   "execution_count": null,
   "id": "379c6d29-35f3-4fb6-b8ff-2bdbc9822eea",
   "metadata": {},
   "outputs": [],
   "source": [
    "#filter sequences and exclude the unassigned\n",
    "! qiime taxa filter-seqs \\\n",
    "--i-sequences $data_dir/dada2_rep_set.qza \\\n",
    "--i-taxonomy $data_dir/taxonomy_v4.qza \\\n",
    "--p-include p__ \\\n",
    "--o-filtered-sequences $data_dir/dada2_rep_set_filtered2.qza"
   ]
  },
  {
   "cell_type": "code",
   "execution_count": null,
   "id": "c92a9022-7dc9-4da2-b426-e4804416bcd0",
   "metadata": {},
   "outputs": [],
   "source": [
    "#this is the new barplot with the filtered Feature table and sequences ONLY TO PHYLUM LEVEL\n",
    "! qiime taxa barplot \\\n",
    "--i-table $data_dir/dada2_table_align_filtered2.qza \\\n",
    "--i-taxonomy $data_dir/taxonomy_v4.qza \\\n",
    "--m-metadata-file $data_dir/food-metadata.tsv \\\n",
    "--o-visualization $data_dir/taxa-bar-plots_v4_filtered2.qzv"
   ]
  },
  {
   "cell_type": "code",
   "execution_count": null,
   "id": "5ddbf7a9-63c7-46e9-a721-869e54b83d7f",
   "metadata": {},
   "outputs": [],
   "source": [
    "Visualization.load(f'{data_dir}/taxa-bar-plots_v4_filtered2.qzv')"
   ]
  },
  {
   "cell_type": "markdown",
   "id": "25423286-cb1e-434c-945f-31a84a249ed5",
   "metadata": {
    "tags": []
   },
   "source": [
    "**de novo tree**"
   ]
  },
  {
   "cell_type": "code",
   "execution_count": null,
   "id": "4f2b6181-8a90-4ecd-8c64-7c0e570ae0a5",
   "metadata": {},
   "outputs": [],
   "source": [
    "#Sequence alignment\n",
    "! qiime alignment mafft \\\n",
    "     --i-sequences $data_dir/dada2_rep_set_filtered.qza \\\n",
    "     --o-alignment $data_dir/aligned-rep-seqs.qza"
   ]
  },
  {
   "cell_type": "code",
   "execution_count": null,
   "id": "00a14d5c-f133-48e7-b134-4526affd9ac3",
   "metadata": {},
   "outputs": [],
   "source": [
    "#Alignment masking\n",
    "! qiime alignment mask \\\n",
    "    --i-alignment $data_dir/aligned-rep-seqs.qza \\\n",
    "    --o-masked-alignment $data_dir/masked-aligned-rep-seqs.qza"
   ]
  },
  {
   "cell_type": "code",
   "execution_count": null,
   "id": "4e41d479-6d5d-46c1-9a43-8ea64a3b9597",
   "metadata": {},
   "outputs": [],
   "source": [
    "#Tree construction\n",
    "! qiime phylogeny fasttree \\\n",
    "    --i-alignment $data_dir/masked-aligned-rep-seqs.qza \\\n",
    "    --o-tree $data_dir/fasttree-tree.qza\n",
    "\n",
    "! qiime phylogeny midpoint-root \\\n",
    "    --i-tree $data_dir/fasttree-tree.qza \\\n",
    "    --o-rooted-tree $data_dir/fasttree-tree-rooted.qza"
   ]
  },
  {
   "cell_type": "code",
   "execution_count": null,
   "id": "fbf3ae38-9ccc-44a4-8856-f327a6771341",
   "metadata": {},
   "outputs": [],
   "source": [
    "#Tree visualization\n",
    "! qiime empress tree-plot \\\n",
    "     --i-tree $data_dir/fasttree-tree-rooted.qza \\\n",
    "     --m-feature-metadata-file $data_dir/taxonomy_v4.qza \\\n",
    "     --o-visualization $data_dir/fasttree-tree-rooted.qzv"
   ]
  },
  {
   "cell_type": "code",
   "execution_count": null,
   "id": "d402a427-e2b4-445d-827a-341cf993d924",
   "metadata": {},
   "outputs": [],
   "source": [
    "Visualization.load(f'{data_dir}/fasttree-tree-rooted.qzv')"
   ]
  },
  {
   "cell_type": "markdown",
   "id": "10829e43-1693-4508-ba87-9ad71c36f040",
   "metadata": {
    "tags": []
   },
   "source": [
    "**fragment insertion**"
   ]
  },
  {
   "cell_type": "code",
   "execution_count": null,
   "id": "51e30612-57e1-4ad1-b7f3-06c77434a696",
   "metadata": {},
   "outputs": [],
   "source": [
    "! wget -nv -O $data_dir/sepp-refs-gg-13-8.qza https://data.qiime2.org/2021.4/common/sepp-refs-gg-13-8.qza"
   ]
  },
  {
   "cell_type": "code",
   "execution_count": null,
   "id": "ea13ddf4-56d2-4683-84ef-16505432944a",
   "metadata": {},
   "outputs": [],
   "source": [
    "! qiime fragment-insertion sepp \\\n",
    "    --i-representative-sequences $data_dir/dada2_rep_set_filtered.qza \\\n",
    "    --i-reference-database $data_dir/sepp-refs-gg-13-8.qza \\\n",
    "    --p-threads 2 \\\n",
    "    --o-tree $data_dir/sepp-tree.qza \\\n",
    "    --o-placements $data_dir/sepp-tree-placements.qza"
   ]
  },
  {
   "cell_type": "code",
   "execution_count": null,
   "id": "2f27c237-e988-4dab-8904-964c5eb5a42f",
   "metadata": {},
   "outputs": [],
   "source": [
    "! qiime empress tree-plot \\\n",
    "      --i-tree $data_dir/sepp-tree.qza \\\n",
    "      --m-feature-metadata-file $data_dir/taxonomy_v4.qza \\\n",
    "      --o-visualization $data_dir/sepp-tree-placements-tree.qzv"
   ]
  },
  {
   "cell_type": "code",
   "execution_count": null,
   "id": "4afcb335-1ddd-4892-910a-bfeae8bd0fd3",
   "metadata": {},
   "outputs": [],
   "source": [
    "Visualization.load(f'{data_dir}/sepp-tree-placements-tree.qzv')"
   ]
  }
 ],
 "metadata": {
  "kernelspec": {
   "display_name": "Python 3 (ipykernel)",
   "language": "python",
   "name": "python3"
  },
  "language_info": {
   "codemirror_mode": {
    "name": "ipython",
    "version": 3
   },
   "file_extension": ".py",
   "mimetype": "text/x-python",
   "name": "python",
   "nbconvert_exporter": "python",
   "pygments_lexer": "ipython3",
   "version": "3.8.13"
  }
 },
 "nbformat": 4,
 "nbformat_minor": 5
}
