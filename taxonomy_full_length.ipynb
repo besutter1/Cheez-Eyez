{
 "cells": [
  {
   "cell_type": "markdown",
   "id": "73291ca4-06b6-4ea4-aab4-db160c3905c4",
   "metadata": {},
   "source": [
    "### NOTE: THIS FILE COMPAIRES THE FULL LENGTH CLASSIFIER VS THE 515f/806r CLASSIFIER FROM GREENGENES. \n",
    "\n",
    "**RESULTS:** When coparing the taxonomic classification of some feature IDs (classificatio with 515f/806r vs full-length) we discovered that the 515f-806r-classifier classified them to a slightly deeper taxonomic level. (SEE FIGURE SCREENSHOTS) A more precise classification is beneficial\n",
    "to further analysis and since it was reported that species-level classification performance of 16S\n",
    "rRNA gene simulated reads had a slightly lower accuracy in full-length sequences than in V1–3 and\n",
    "V4 subdomains we decided to continue with the 515f-806r-classifier from Greengenes"
   ]
  },
  {
   "cell_type": "code",
   "execution_count": 1,
   "id": "6adc1e20-8c37-480a-ab48-ec9c42240bdd",
   "metadata": {},
   "outputs": [],
   "source": [
    "import os\n",
    "import pandas as pd\n",
    "from qiime2 import Visualization\n",
    "import matplotlib.pyplot as plt\n",
    "import numpy as np\n",
    "\n",
    "import qiime2 as q2\n",
    "\n",
    "%matplotlib inline\n",
    "data_dir = 'CE'"
   ]
  },
  {
   "cell_type": "code",
   "execution_count": null,
   "id": "fca44ada-7573-4c45-a030-b92a56ab9915",
   "metadata": {},
   "outputs": [],
   "source": [
    "#fetch the pre-trained classifier \n",
    "! wget -nv -O $data_dir/gg-13-8-99-nb-classifier.qza https://data.qiime2.org/2022.8/common/gg-13-8-99-nb-classifier.qza\n"
   ]
  },
  {
   "cell_type": "code",
   "execution_count": null,
   "id": "e430deef-b03d-427e-8c4a-cfec41f7a67f",
   "metadata": {},
   "outputs": [],
   "source": [
    "! qiime feature-classifier classify-sklearn \\\n",
    "    --i-classifier $data_dir/gg-13-8-99-nb-classifier.qza \\\n",
    "    --i-reads $data_dir/dada2_rep_set.qza \\\n",
    "    --o-classification $data_dir/taxonomy_full_length.qza"
   ]
  },
  {
   "cell_type": "code",
   "execution_count": null,
   "id": "fdc42020-f17b-4a4d-8e0c-27fba67b87f9",
   "metadata": {},
   "outputs": [],
   "source": [
    "! qiime tools peek $data_dir/taxonomy_full_length.qza"
   ]
  },
  {
   "cell_type": "markdown",
   "id": "60835257-72be-4d14-ad88-de75aa634ee0",
   "metadata": {},
   "source": [
    "visualizations:"
   ]
  },
  {
   "cell_type": "code",
   "execution_count": null,
   "id": "ad3da664-0324-4feb-b0c3-f38592689990",
   "metadata": {},
   "outputs": [],
   "source": [
    "! qiime metadata tabulate \\\n",
    "    --m-input-file $data_dir/taxonomy_full_length.qza \\\n",
    "    --o-visualization $data_dir/taxonomy_full_length.qzv"
   ]
  },
  {
   "cell_type": "code",
   "execution_count": 2,
   "id": "921083ae-2003-4198-9589-594a4d646d9e",
   "metadata": {},
   "outputs": [
    {
     "ename": "ValueError",
     "evalue": "CE/taxonomy_full_length.qzv does not exist.",
     "output_type": "error",
     "traceback": [
      "\u001b[0;31m---------------------------------------------------------------------------\u001b[0m",
      "\u001b[0;31mValueError\u001b[0m                                Traceback (most recent call last)",
      "Input \u001b[0;32mIn [2]\u001b[0m, in \u001b[0;36m<cell line: 1>\u001b[0;34m()\u001b[0m\n\u001b[0;32m----> 1\u001b[0m \u001b[43mVisualization\u001b[49m\u001b[38;5;241;43m.\u001b[39;49m\u001b[43mload\u001b[49m\u001b[43m(\u001b[49m\u001b[38;5;124;43mf\u001b[39;49m\u001b[38;5;124;43m'\u001b[39;49m\u001b[38;5;132;43;01m{\u001b[39;49;00m\u001b[43mdata_dir\u001b[49m\u001b[38;5;132;43;01m}\u001b[39;49;00m\u001b[38;5;124;43m/taxonomy_full_length.qzv\u001b[39;49m\u001b[38;5;124;43m'\u001b[39;49m\u001b[43m)\u001b[49m\n",
      "File \u001b[0;32m/opt/conda/lib/python3.8/site-packages/qiime2/sdk/result.py:66\u001b[0m, in \u001b[0;36mResult.load\u001b[0;34m(cls, filepath)\u001b[0m\n\u001b[1;32m     63\u001b[0m \u001b[38;5;129m@classmethod\u001b[39m\n\u001b[1;32m     64\u001b[0m \u001b[38;5;28;01mdef\u001b[39;00m \u001b[38;5;21mload\u001b[39m(\u001b[38;5;28mcls\u001b[39m, filepath):\n\u001b[1;32m     65\u001b[0m     \u001b[38;5;124;03m\"\"\"Factory for loading Artifacts and Visualizations.\"\"\"\u001b[39;00m\n\u001b[0;32m---> 66\u001b[0m     archiver \u001b[38;5;241m=\u001b[39m \u001b[43marchive\u001b[49m\u001b[38;5;241;43m.\u001b[39;49m\u001b[43mArchiver\u001b[49m\u001b[38;5;241;43m.\u001b[39;49m\u001b[43mload\u001b[49m\u001b[43m(\u001b[49m\u001b[43mfilepath\u001b[49m\u001b[43m)\u001b[49m\n\u001b[1;32m     68\u001b[0m     \u001b[38;5;28;01mif\u001b[39;00m Artifact\u001b[38;5;241m.\u001b[39m_is_valid_type(archiver\u001b[38;5;241m.\u001b[39mtype):\n\u001b[1;32m     69\u001b[0m         result \u001b[38;5;241m=\u001b[39m Artifact\u001b[38;5;241m.\u001b[39m\u001b[38;5;21m__new__\u001b[39m(Artifact)\n",
      "File \u001b[0;32m/opt/conda/lib/python3.8/site-packages/qiime2/core/archive/archiver.py:299\u001b[0m, in \u001b[0;36mArchiver.load\u001b[0;34m(cls, filepath)\u001b[0m\n\u001b[1;32m    297\u001b[0m \u001b[38;5;129m@classmethod\u001b[39m\n\u001b[1;32m    298\u001b[0m \u001b[38;5;28;01mdef\u001b[39;00m \u001b[38;5;21mload\u001b[39m(\u001b[38;5;28mcls\u001b[39m, filepath):\n\u001b[0;32m--> 299\u001b[0m     archive \u001b[38;5;241m=\u001b[39m \u001b[38;5;28;43mcls\u001b[39;49m\u001b[38;5;241;43m.\u001b[39;49m\u001b[43mget_archive\u001b[49m\u001b[43m(\u001b[49m\u001b[43mfilepath\u001b[49m\u001b[43m)\u001b[49m\n\u001b[1;32m    300\u001b[0m     Format \u001b[38;5;241m=\u001b[39m \u001b[38;5;28mcls\u001b[39m\u001b[38;5;241m.\u001b[39mget_format_class(archive\u001b[38;5;241m.\u001b[39mversion)\n\u001b[1;32m    301\u001b[0m     \u001b[38;5;28;01mif\u001b[39;00m Format \u001b[38;5;129;01mis\u001b[39;00m \u001b[38;5;28;01mNone\u001b[39;00m:\n",
      "File \u001b[0;32m/opt/conda/lib/python3.8/site-packages/qiime2/core/archive/archiver.py:259\u001b[0m, in \u001b[0;36mArchiver.get_archive\u001b[0;34m(cls, filepath)\u001b[0m\n\u001b[1;32m    257\u001b[0m filepath \u001b[38;5;241m=\u001b[39m pathlib\u001b[38;5;241m.\u001b[39mPath(filepath)\n\u001b[1;32m    258\u001b[0m \u001b[38;5;28;01mif\u001b[39;00m \u001b[38;5;129;01mnot\u001b[39;00m filepath\u001b[38;5;241m.\u001b[39mexists():\n\u001b[0;32m--> 259\u001b[0m     \u001b[38;5;28;01mraise\u001b[39;00m \u001b[38;5;167;01mValueError\u001b[39;00m(\u001b[38;5;124m\"\u001b[39m\u001b[38;5;132;01m%s\u001b[39;00m\u001b[38;5;124m does not exist.\u001b[39m\u001b[38;5;124m\"\u001b[39m \u001b[38;5;241m%\u001b[39m filepath)\n\u001b[1;32m    261\u001b[0m \u001b[38;5;28;01mif\u001b[39;00m _ZipArchive\u001b[38;5;241m.\u001b[39mis_archive_type(filepath):\n\u001b[1;32m    262\u001b[0m     archive \u001b[38;5;241m=\u001b[39m _ZipArchive(filepath)\n",
      "\u001b[0;31mValueError\u001b[0m: CE/taxonomy_full_length.qzv does not exist."
     ]
    }
   ],
   "source": [
    "Visualization.load(f'{data_dir}/taxonomy_full_length.qzv')"
   ]
  },
  {
   "cell_type": "code",
   "execution_count": null,
   "id": "8f3906de-62bd-4840-ad59-1b4fbb2df9d9",
   "metadata": {},
   "outputs": [],
   "source": [
    "#here we use the feature table artifact which was previously aligned with the metadata [see taxonomy.ipynb]\n",
    "#filter feature table and exclude mitochondria,chloroplast\n",
    "! qiime taxa filter-table \\\n",
    "--i-table $data_dir/dada2_table_aligned.qza \\\n",
    "--i-taxonomy $data_dir/taxonomy_full_length.qza \\\n",
    "--p-exclude mitochondria,chloroplast \\\n",
    "--o-filtered-table $data_dir/dada2_table_align_filtered_full_length.qza"
   ]
  },
  {
   "cell_type": "code",
   "execution_count": null,
   "id": "494619a6-c460-451c-938a-6ea3a7f4cbd6",
   "metadata": {},
   "outputs": [],
   "source": [
    "#filter sequences and exclude mitochondria,chloroplast\n",
    "! qiime taxa filter-seqs \\\n",
    "--i-sequences $data_dir/dada2_rep_set.qza \\\n",
    "--i-taxonomy $data_dir/taxonomy_full_length.qza \\\n",
    "--p-exclude mitochondria,chloroplast \\\n",
    "--o-filtered-sequences $data_dir/dada2_rep_set_filtered_full_length.qza"
   ]
  },
  {
   "cell_type": "code",
   "execution_count": null,
   "id": "e2c57af9-8b1e-4bf8-a353-842abff1286b",
   "metadata": {},
   "outputs": [],
   "source": [
    "#this is the new barplot with the filtered feature table and sequences NO MITOCHONDRIA AND CHLOOROPLAST VISIBLE\n",
    "! qiime taxa barplot \\\n",
    "--i-table $data_dir/dada2_table_align_filtered_full_length.qza \\\n",
    "--i-taxonomy $data_dir/taxonomy_full_length.qza \\\n",
    "--m-metadata-file $data_dir/food-metadata.tsv \\\n",
    "--o-visualization $data_dir/taxa-bar-plots_full_length_filtered.qzv"
   ]
  },
  {
   "cell_type": "code",
   "execution_count": null,
   "id": "e615a867-2a0a-4409-9020-99da30fa6d62",
   "metadata": {},
   "outputs": [],
   "source": [
    "Visualization.load(f'{data_dir}/taxa-bar-plots_full_length_filtered.qzv')"
   ]
  },
  {
   "cell_type": "markdown",
   "id": "8714fe27-5516-4de6-aae8-590639fdd66e",
   "metadata": {},
   "source": [
    "In this boxplot we see that:\n",
    "\n",
    "- \n",
    "\n",
    "\n",
    "\n",
    " we also chose to classify the samples with a pre-trained full-length\n",
    "classifier just to be able to compare the results. When coparing the taxonomic classification of\n",
    "some feature IDs we discovered that the 515f-806r-classifier classified them to a slightly deeper\n",
    "(?) taxonomic level. (SEE FIGURE SCREENSHOTS) A more precise classification is beneficial\n",
    "to further analysis and since it was reported that species-level classification performance of 16S\n",
    "rRNA gene simulated reads had a slightly lower accuracy in full-length sequences than in V1–3 and\n",
    "V4 subdomains we decided to continue with the 515f-806r-classifier from Greengenes"
   ]
  }
 ],
 "metadata": {
  "kernelspec": {
   "display_name": "Python 3 (ipykernel)",
   "language": "python",
   "name": "python3"
  },
  "language_info": {
   "codemirror_mode": {
    "name": "ipython",
    "version": 3
   },
   "file_extension": ".py",
   "mimetype": "text/x-python",
   "name": "python",
   "nbconvert_exporter": "python",
   "pygments_lexer": "ipython3",
   "version": "3.8.13"
  }
 },
 "nbformat": 4,
 "nbformat_minor": 5
}
