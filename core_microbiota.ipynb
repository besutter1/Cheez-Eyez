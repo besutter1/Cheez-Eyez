{
 "cells": [
  {
   "cell_type": "markdown",
   "id": "0297b2b3-5173-4428-ae96-b75943c42cc2",
   "metadata": {},
   "source": [
    "Test different functions to get the core microbiota:"
   ]
  },
  {
   "cell_type": "code",
   "execution_count": 8,
   "id": "f8bf5dc9-c0c7-427a-9f7b-4a2fdabfd33b",
   "metadata": {},
   "outputs": [],
   "source": [
    "import os\n",
    "import pandas as pd\n",
    "from qiime2 import Visualization\n",
    "import matplotlib.pyplot as plt\n",
    "import numpy as np\n",
    "\n",
    "import qiime2 as q2\n",
    "\n",
    "%matplotlib inline\n",
    "data_dir = 'CE'"
   ]
  },
  {
   "cell_type": "markdown",
   "id": "228a5d03-2d4c-4f66-817a-c957aa0570e9",
   "metadata": {},
   "source": [
    "##### Download metadata"
   ]
  },
  {
   "cell_type": "code",
   "execution_count": 9,
   "id": "a0d8db21-e6c3-4652-b4e7-8aa46b3f7b95",
   "metadata": {},
   "outputs": [
    {
     "name": "stdout",
     "output_type": "stream",
     "text": [
      "2022-12-15 19:52:49 URL:https://polybox.ethz.ch/index.php/s/nEd4l5CWGWGEtae/download [42810/42810] -> \"CE/food-metadata.tsv\" [1]\n"
     ]
    }
   ],
   "source": [
    "! wget -nv -O $data_dir/food-metadata.tsv 'https://polybox.ethz.ch/index.php/s/nEd4l5CWGWGEtae/download'"
   ]
  },
  {
   "cell_type": "markdown",
   "id": "141dc6a1-2add-44ff-9cdd-e501eaa95dfb",
   "metadata": {},
   "source": [
    "Identify \"core\" features, which are features observed in a user-defined\n",
    "  fraction of the samples. Since the core features are a function of the\n",
    "  fraction of samples that the feature must be observed in to be considered\n",
    "  core, this is computed over a range of fractions defined by the\n",
    "  `min_fraction`, `max_fraction`, and `steps` parameters."
   ]
  },
  {
   "cell_type": "markdown",
   "id": "9efafde5-93a7-48b3-b2a9-04434a36b6cf",
   "metadata": {},
   "source": [
    "#### Workflow\n",
    "1) Try different parameters to find core features\n",
    "2) Find core features of all cheeses in our feature table\n",
    "3) Find core features of Swiss cheeses (in categories rindtype = natural, washed or style = alpine\n",
    "4) Find core features of similar neighboring country cheeses.\n",
    "5) Compare results of Swiss to neighboring country cheeses.\n",
    "6) Find core features of different variety cheeses."
   ]
  },
  {
   "cell_type": "markdown",
   "id": "884ce5d5-93e9-4914-bd64-1b26a64e105c",
   "metadata": {},
   "source": [
    "### 1) Try different parameters to find core features"
   ]
  },
  {
   "cell_type": "markdown",
   "id": "d55c3aad-6c15-4c38-9eba-3372dbd3a073",
   "metadata": {},
   "source": [
    "I tried different values for the parameters:"
   ]
  },
  {
   "cell_type": "markdown",
   "id": "ed40f85e-b264-45a2-86f7-1c468d773842",
   "metadata": {},
   "source": [
    "#### 1. Try"
   ]
  },
  {
   "cell_type": "markdown",
   "id": "1aed8ece-78cd-4cd2-90cc-44d6b78ce3b1",
   "metadata": {},
   "source": [
    "Used the function with the default values:"
   ]
  },
  {
   "cell_type": "code",
   "execution_count": 10,
   "id": "a8e8ddcb-e5f8-4e1b-b676-0d07a9f90c90",
   "metadata": {},
   "outputs": [
    {
     "name": "stdout",
     "output_type": "stream",
     "text": [
      "Usage: \u001b[94mqiime feature-table core-features\u001b[0m [OPTIONS]\n",
      "\n",
      "  Identify \"core\" features, which are features observed in a user-defined\n",
      "  fraction of the samples. Since the core features are a function of the\n",
      "  fraction of samples that the feature must be observed in to be considered\n",
      "  core, this is computed over a range of fractions defined by the\n",
      "  `min_fraction`, `max_fraction`, and `steps` parameters.\n",
      "\n",
      "\u001b[1mInputs\u001b[0m:\n",
      "  \u001b[94m\u001b[4m--i-table\u001b[0m ARTIFACT \u001b[32mFeatureTable[Frequency]\u001b[0m\n",
      "                       The feature table to use in core features\n",
      "                       calculations.                                \u001b[35m[required]\u001b[0m\n",
      "\u001b[1mParameters\u001b[0m:\n",
      "  \u001b[94m--p-min-fraction\u001b[0m PROPORTION \u001b[32mRange(0.0, 1.0, inclusive_start=False)\u001b[0m\n",
      "                       The minimum fraction of samples that a feature must be\n",
      "                       observed in for that feature to be considered a core\n",
      "                       feature.                                 \u001b[35m[default: 0.5]\u001b[0m\n",
      "  \u001b[94m--p-max-fraction\u001b[0m PROPORTION \u001b[32mRange(0.0, 1.0, inclusive_end=True)\u001b[0m\n",
      "                       The maximum fraction of samples that a feature must be\n",
      "                       observed in for that feature to be considered a core\n",
      "                       feature.                                 \u001b[35m[default: 1.0]\u001b[0m\n",
      "  \u001b[94m--p-steps\u001b[0m INTEGER    The number of steps to take between `\u001b[4mmin-fraction\u001b[0m` and\n",
      "    \u001b[32mRange(2, None)\u001b[0m     `\u001b[4mmax-fraction\u001b[0m` for core features calculations. This\n",
      "                       parameter has no effect if `\u001b[4mmin-fraction\u001b[0m` and\n",
      "                       `\u001b[4mmax-fraction\u001b[0m` are the same value.        \u001b[35m[default: 11]\u001b[0m\n",
      "\u001b[1mOutputs\u001b[0m:\n",
      "  \u001b[94m\u001b[4m--o-visualization\u001b[0m VISUALIZATION\n",
      "                                                                    \u001b[35m[required]\u001b[0m\n",
      "\u001b[1mMiscellaneous\u001b[0m:\n",
      "  \u001b[94m--output-dir\u001b[0m PATH    Output unspecified results to a directory\n",
      "  \u001b[94m--verbose\u001b[0m / \u001b[94m--quiet\u001b[0m  Display verbose output to stdout and/or stderr during\n",
      "                       execution of this action. Or silence output if\n",
      "                       execution is successful (silence is golden).\n",
      "  \u001b[94m--example-data\u001b[0m PATH  Write example data and exit.\n",
      "  \u001b[94m--citations\u001b[0m          Show citations and exit.\n",
      "  \u001b[94m--help\u001b[0m               Show this message and exit.\n",
      "\n",
      "\u001b[33m                    There was a problem with the command:                     \u001b[0m\n",
      "\u001b[31m\u001b[1m (1/1) Invalid value for '--i-table': 'CE/dada2_table_align_filtered.qza' is\n",
      "  not a valid filepath\u001b[0m\n",
      "\u001b[0m"
     ]
    }
   ],
   "source": [
    "! qiime feature-table core-features \\\n",
    "--i-table $data_dir/dada2_table_align_filtered.qza \\\n",
    "--p-min-fraction 0.5 \\\n",
    "--o-visualization $data_dir/core_microbiota.qzv"
   ]
  },
  {
   "cell_type": "code",
   "execution_count": 11,
   "id": "6d24141f-3f0c-43c0-a4e4-fb910c207df1",
   "metadata": {},
   "outputs": [
    {
     "ename": "ValueError",
     "evalue": "CE/core_microbiota.qzv does not exist.",
     "output_type": "error",
     "traceback": [
      "\u001b[0;31m---------------------------------------------------------------------------\u001b[0m",
      "\u001b[0;31mValueError\u001b[0m                                Traceback (most recent call last)",
      "Input \u001b[0;32mIn [11]\u001b[0m, in \u001b[0;36m<cell line: 1>\u001b[0;34m()\u001b[0m\n\u001b[0;32m----> 1\u001b[0m \u001b[43mVisualization\u001b[49m\u001b[38;5;241;43m.\u001b[39;49m\u001b[43mload\u001b[49m\u001b[43m(\u001b[49m\u001b[38;5;124;43mf\u001b[39;49m\u001b[38;5;124;43m'\u001b[39;49m\u001b[38;5;132;43;01m{\u001b[39;49;00m\u001b[43mdata_dir\u001b[49m\u001b[38;5;132;43;01m}\u001b[39;49;00m\u001b[38;5;124;43m/core_microbiota.qzv\u001b[39;49m\u001b[38;5;124;43m'\u001b[39;49m\u001b[43m)\u001b[49m\n",
      "File \u001b[0;32m/opt/conda/lib/python3.8/site-packages/qiime2/sdk/result.py:66\u001b[0m, in \u001b[0;36mResult.load\u001b[0;34m(cls, filepath)\u001b[0m\n\u001b[1;32m     63\u001b[0m \u001b[38;5;129m@classmethod\u001b[39m\n\u001b[1;32m     64\u001b[0m \u001b[38;5;28;01mdef\u001b[39;00m \u001b[38;5;21mload\u001b[39m(\u001b[38;5;28mcls\u001b[39m, filepath):\n\u001b[1;32m     65\u001b[0m     \u001b[38;5;124;03m\"\"\"Factory for loading Artifacts and Visualizations.\"\"\"\u001b[39;00m\n\u001b[0;32m---> 66\u001b[0m     archiver \u001b[38;5;241m=\u001b[39m \u001b[43marchive\u001b[49m\u001b[38;5;241;43m.\u001b[39;49m\u001b[43mArchiver\u001b[49m\u001b[38;5;241;43m.\u001b[39;49m\u001b[43mload\u001b[49m\u001b[43m(\u001b[49m\u001b[43mfilepath\u001b[49m\u001b[43m)\u001b[49m\n\u001b[1;32m     68\u001b[0m     \u001b[38;5;28;01mif\u001b[39;00m Artifact\u001b[38;5;241m.\u001b[39m_is_valid_type(archiver\u001b[38;5;241m.\u001b[39mtype):\n\u001b[1;32m     69\u001b[0m         result \u001b[38;5;241m=\u001b[39m Artifact\u001b[38;5;241m.\u001b[39m\u001b[38;5;21m__new__\u001b[39m(Artifact)\n",
      "File \u001b[0;32m/opt/conda/lib/python3.8/site-packages/qiime2/core/archive/archiver.py:299\u001b[0m, in \u001b[0;36mArchiver.load\u001b[0;34m(cls, filepath)\u001b[0m\n\u001b[1;32m    297\u001b[0m \u001b[38;5;129m@classmethod\u001b[39m\n\u001b[1;32m    298\u001b[0m \u001b[38;5;28;01mdef\u001b[39;00m \u001b[38;5;21mload\u001b[39m(\u001b[38;5;28mcls\u001b[39m, filepath):\n\u001b[0;32m--> 299\u001b[0m     archive \u001b[38;5;241m=\u001b[39m \u001b[38;5;28;43mcls\u001b[39;49m\u001b[38;5;241;43m.\u001b[39;49m\u001b[43mget_archive\u001b[49m\u001b[43m(\u001b[49m\u001b[43mfilepath\u001b[49m\u001b[43m)\u001b[49m\n\u001b[1;32m    300\u001b[0m     Format \u001b[38;5;241m=\u001b[39m \u001b[38;5;28mcls\u001b[39m\u001b[38;5;241m.\u001b[39mget_format_class(archive\u001b[38;5;241m.\u001b[39mversion)\n\u001b[1;32m    301\u001b[0m     \u001b[38;5;28;01mif\u001b[39;00m Format \u001b[38;5;129;01mis\u001b[39;00m \u001b[38;5;28;01mNone\u001b[39;00m:\n",
      "File \u001b[0;32m/opt/conda/lib/python3.8/site-packages/qiime2/core/archive/archiver.py:259\u001b[0m, in \u001b[0;36mArchiver.get_archive\u001b[0;34m(cls, filepath)\u001b[0m\n\u001b[1;32m    257\u001b[0m filepath \u001b[38;5;241m=\u001b[39m pathlib\u001b[38;5;241m.\u001b[39mPath(filepath)\n\u001b[1;32m    258\u001b[0m \u001b[38;5;28;01mif\u001b[39;00m \u001b[38;5;129;01mnot\u001b[39;00m filepath\u001b[38;5;241m.\u001b[39mexists():\n\u001b[0;32m--> 259\u001b[0m     \u001b[38;5;28;01mraise\u001b[39;00m \u001b[38;5;167;01mValueError\u001b[39;00m(\u001b[38;5;124m\"\u001b[39m\u001b[38;5;132;01m%s\u001b[39;00m\u001b[38;5;124m does not exist.\u001b[39m\u001b[38;5;124m\"\u001b[39m \u001b[38;5;241m%\u001b[39m filepath)\n\u001b[1;32m    261\u001b[0m \u001b[38;5;28;01mif\u001b[39;00m _ZipArchive\u001b[38;5;241m.\u001b[39mis_archive_type(filepath):\n\u001b[1;32m    262\u001b[0m     archive \u001b[38;5;241m=\u001b[39m _ZipArchive(filepath)\n",
      "\u001b[0;31mValueError\u001b[0m: CE/core_microbiota.qzv does not exist."
     ]
    }
   ],
   "source": [
    "Visualization.load(f'{data_dir}/core_microbiota.qzv')"
   ]
  },
  {
   "cell_type": "markdown",
   "id": "d5809fc7-ce02-4adc-aca2-0032c957cba9",
   "metadata": {},
   "source": [
    "#### 2. Try"
   ]
  },
  {
   "cell_type": "markdown",
   "id": "16b9e4bc-d3ab-473d-85d9-41b866f675c1",
   "metadata": {},
   "source": [
    "Used the function with higher min-fraction:"
   ]
  },
  {
   "cell_type": "code",
   "execution_count": null,
   "id": "b209969a-cc8c-4020-8929-da150206a854",
   "metadata": {},
   "outputs": [],
   "source": [
    "! qiime feature-table core-features \\\n",
    "--i-table $data_dir/dada2_table_align_filtered.qza \\\n",
    "--p-min-fraction 0.8 \\\n",
    "--o-visualization $data_dir/core_microbiota_2.qzv"
   ]
  },
  {
   "cell_type": "code",
   "execution_count": null,
   "id": "0fe8511f-073a-4024-9464-b7b798238adc",
   "metadata": {},
   "outputs": [],
   "source": [
    "Visualization.load(f'{data_dir}/core_microbiota_2.qzv')"
   ]
  },
  {
   "cell_type": "markdown",
   "id": "7feafd5c-ceae-45e7-a9db-f7c5f666d627",
   "metadata": {},
   "source": [
    "#### 3. Try"
   ]
  },
  {
   "cell_type": "markdown",
   "id": "871f0da0-35eb-4079-bde1-ee9fbb9e89ce",
   "metadata": {},
   "source": [
    "Using different step value:"
   ]
  },
  {
   "cell_type": "code",
   "execution_count": null,
   "id": "99defe16-d5db-480e-a5b0-dde544d1cafc",
   "metadata": {},
   "outputs": [],
   "source": [
    "! qiime feature-table core-features \\\n",
    "--i-table $data_dir/dada2_table_align_filtered.qza \\\n",
    "--p-min-fraction 0.8 \\\n",
    "--p-steps 5 \\\n",
    "--o-visualization $data_dir/core_microbiota_3.qzv"
   ]
  },
  {
   "cell_type": "code",
   "execution_count": null,
   "id": "afc46d07-2967-4916-87bb-4b7c2ef1ca33",
   "metadata": {},
   "outputs": [],
   "source": [
    "Visualization.load(f'{data_dir}/core_microbiota_3.qzv')"
   ]
  },
  {
   "cell_type": "markdown",
   "id": "01182399-9684-41ef-ae4b-c036135910cf",
   "metadata": {},
   "source": [
    "#### 4. Try"
   ]
  },
  {
   "cell_type": "markdown",
   "id": "6e51641c-12ff-4cbe-adb9-8a3791d80305",
   "metadata": {},
   "source": [
    "Use different min-fraction:"
   ]
  },
  {
   "cell_type": "code",
   "execution_count": null,
   "id": "4f99624a-8653-400f-aeb7-f23ded2b0d2d",
   "metadata": {},
   "outputs": [],
   "source": [
    "! qiime feature-table core-features \\\n",
    "--i-table $data_dir/dada2_table_align_filtered.qza \\\n",
    "--p-min-fraction 0.7 \\\n",
    "--p-steps 10 \\\n",
    "--o-visualization $data_dir/core_microbiota_4.qzv"
   ]
  },
  {
   "cell_type": "code",
   "execution_count": null,
   "id": "00fa1d04-2385-493c-8106-c47958210ca6",
   "metadata": {},
   "outputs": [],
   "source": [
    "Visualization.load(f'{data_dir}/core_microbiota_4.qzv')"
   ]
  },
  {
   "cell_type": "markdown",
   "id": "2d8ec70d-b5c8-41ad-b4ae-c28631dba414",
   "metadata": {},
   "source": [
    "### 2) Find core features of all cheeses in our feature table"
   ]
  },
  {
   "cell_type": "markdown",
   "id": "860e32dc-3717-4777-9ae3-c0f2851c8d2b",
   "metadata": {},
   "source": [
    "#### Download tsv file of core features of all cheeses"
   ]
  },
  {
   "cell_type": "markdown",
   "id": "5569b62d-7e28-4bad-b1d0-6a1862ef406b",
   "metadata": {},
   "source": [
    "TSV file with feature list could be downloaded from the output above. I downloaded the file and put it on polybox. I set the treshold of fraction of samples (The fraction of the total number of samples that a feature must be observed in for that feature to be considered \"core\".) to 0.7.\n",
    "Here we import this data from the polybox:"
   ]
  },
  {
   "cell_type": "code",
   "execution_count": null,
   "id": "bac139c4-5131-4431-90fe-e39a3553b43d",
   "metadata": {},
   "outputs": [],
   "source": [
    "! wget -nv -O $data_dir/core_microbiota_list_0.7.tsv 'https://polybox.ethz.ch/index.php/s/WRm86jdxvkxPOVa/download'"
   ]
  },
  {
   "cell_type": "markdown",
   "id": "e8f1cfe8-3a8f-4acd-b355-e5ae2af9a049",
   "metadata": {},
   "source": [
    "These are the core features of all cheeses:"
   ]
  },
  {
   "cell_type": "code",
   "execution_count": null,
   "id": "1505b02a-c087-4022-b215-83bdca97d6ac",
   "metadata": {},
   "outputs": [],
   "source": [
    "df_core_all = pd.read_csv(f'{data_dir}/core_microbiota_list_0.7.tsv', sep ='\\t')\n",
    "df_core_all.set_index('Feature ID', inplace = True)\n",
    "df_core_all"
   ]
  },
  {
   "cell_type": "markdown",
   "id": "68f186ab-383a-4f95-bdf9-830a1a8004eb",
   "metadata": {},
   "source": [
    "Load/show qiime artifact as pandas dataframe and afterwards add the Taxon column to the core feature table."
   ]
  },
  {
   "cell_type": "code",
   "execution_count": null,
   "id": "91be7783-2c95-4218-95c6-2b6418c99df4",
   "metadata": {},
   "outputs": [],
   "source": [
    "taxa = q2.Artifact.load(f'{data_dir}/taxonomy_v4.qza')\n",
    "taxa = taxa.view(pd.DataFrame)"
   ]
  },
  {
   "cell_type": "code",
   "execution_count": null,
   "id": "154a6052-08fc-4af3-b779-b3cf6736a51f",
   "metadata": {},
   "outputs": [],
   "source": [
    "core_all_taxa = df_core_all.join(taxa['Taxon'])\n",
    "pd.set_option('max_colwidth', 150)\n",
    "core_all_taxa"
   ]
  },
  {
   "cell_type": "markdown",
   "id": "b1e7272c-f01f-4b63-b16a-ecadf7634349",
   "metadata": {},
   "source": [
    "### 3) Find core features of Swiss cheeses (in categories rindtype = natural, washed or style = alpine"
   ]
  },
  {
   "cell_type": "markdown",
   "id": "f5786ad5-c152-4d30-b2d8-cbe9505cc1a0",
   "metadata": {},
   "source": [
    "Do cheeses from\n",
    "Switzerland share this core microbiome with similar cheeses (e.g., same style/rind type) from neighboring\n",
    "countries?"
   ]
  },
  {
   "cell_type": "markdown",
   "id": "42ae7f94-04fc-4b43-845b-2ab1c7f7c031",
   "metadata": {},
   "source": [
    "##### Find core features of CH cheeses with natural rindtype:"
   ]
  },
  {
   "cell_type": "markdown",
   "id": "ce3bbba9-88f1-42c1-87ab-23767ecb0e6b",
   "metadata": {},
   "source": [
    "Result: 33 core features"
   ]
  },
  {
   "cell_type": "code",
   "execution_count": null,
   "id": "c3b69153-ba76-4e00-ab86-1d76e2a16210",
   "metadata": {},
   "outputs": [],
   "source": [
    "! qiime feature-table filter-samples \\\n",
    "--i-table $data_dir/dada2_table_align_filtered.qza \\\n",
    "--m-metadata-file $data_dir/food-metadata.tsv \\\n",
    "--p-where \"[country]='Switzerland' AND [rindtype]='natural'\"\\\n",
    "--o-filtered-table $data_dir/feature_table_CH_natural.qza"
   ]
  },
  {
   "cell_type": "code",
   "execution_count": null,
   "id": "3fcf4766-e7dd-4311-8dc5-5cf9d35e15c7",
   "metadata": {},
   "outputs": [],
   "source": [
    "! qiime feature-table core-features \\\n",
    "--i-table $data_dir/feature_table_CH_natural.qza \\\n",
    "--p-min-fraction 0.7 \\\n",
    "--p-steps 10 \\\n",
    "--o-visualization $data_dir/core_microbiota_CH_natural.qzv"
   ]
  },
  {
   "cell_type": "code",
   "execution_count": null,
   "id": "f2548df5-a6ad-4eb8-93be-f80af40c62ea",
   "metadata": {},
   "outputs": [],
   "source": [
    "Visualization.load(f'{data_dir}/core_microbiota_CH_natural.qzv')"
   ]
  },
  {
   "cell_type": "markdown",
   "id": "4b36e01e-9ede-40f0-b1a4-4f1c6fee45a2",
   "metadata": {},
   "source": [
    "##### Find core features of CH cheeses with washed rindtype:"
   ]
  },
  {
   "cell_type": "code",
   "execution_count": null,
   "id": "e500d34c-02c2-48cb-977d-b00552a1da68",
   "metadata": {},
   "outputs": [],
   "source": [
    "! qiime feature-table filter-samples \\\n",
    "--i-table $data_dir/dada2_table_align_filtered.qza \\\n",
    "--m-metadata-file $data_dir/food-metadata.tsv \\\n",
    "--p-where \"[country]='Switzerland' AND [rindtype]='washed'\"\\\n",
    "--o-filtered-table $data_dir/feature_table_CH_washed.qza"
   ]
  },
  {
   "cell_type": "code",
   "execution_count": null,
   "id": "218edff4-972e-4e54-8de8-bb0f3b706de5",
   "metadata": {},
   "outputs": [],
   "source": [
    "! qiime feature-table core-features \\\n",
    "--i-table $data_dir/feature_table_CH_washed.qza \\\n",
    "--p-min-fraction 0.7 \\\n",
    "--p-steps 10 \\\n",
    "--o-visualization $data_dir/core_microbiota_CH_washed.qzv"
   ]
  },
  {
   "cell_type": "code",
   "execution_count": null,
   "id": "c1ba5739-aaf7-45bb-9c89-bf2c7a6fe4ba",
   "metadata": {},
   "outputs": [],
   "source": [
    "Visualization.load(f'{data_dir}/core_microbiota_CH_washed.qzv')"
   ]
  },
  {
   "cell_type": "markdown",
   "id": "b97fcf71-8922-4307-8865-b71a172e21ec",
   "metadata": {},
   "source": [
    "##### Find core features of CH cheeses with alpine style:"
   ]
  },
  {
   "cell_type": "code",
   "execution_count": null,
   "id": "00625eda-e78d-449e-9769-4ade39df8866",
   "metadata": {},
   "outputs": [],
   "source": [
    "! qiime feature-table filter-samples \\\n",
    "--i-table $data_dir/dada2_table_align_filtered.qza \\\n",
    "--m-metadata-file $data_dir/food-metadata.tsv \\\n",
    "--p-where \"[country]='Switzerland' AND [style]='alpine'\"\\\n",
    "--o-filtered-table $data_dir/feature_table_CH_alpine.qza"
   ]
  },
  {
   "cell_type": "code",
   "execution_count": null,
   "id": "8a02f093-ac6e-4cfe-a1e1-57fd8f9ac972",
   "metadata": {},
   "outputs": [],
   "source": [
    "! qiime feature-table core-features \\\n",
    "--i-table $data_dir/feature_table_CH_alpine.qza \\\n",
    "--p-min-fraction 0.7 \\\n",
    "--p-steps 10 \\\n",
    "--o-visualization $data_dir/core_microbiota_CH_alpine.qzv"
   ]
  },
  {
   "cell_type": "code",
   "execution_count": null,
   "id": "ac1cb3a2-83d2-4685-8cce-07e17bdfc24b",
   "metadata": {},
   "outputs": [],
   "source": [
    "Visualization.load(f'{data_dir}/core_microbiota_CH_alpine.qzv')"
   ]
  },
  {
   "cell_type": "markdown",
   "id": "d50cf8c9-576b-4cf8-b408-420b223b6db4",
   "metadata": {},
   "source": [
    "### 4) Find core features of similar neighboring country cheeses."
   ]
  },
  {
   "cell_type": "markdown",
   "id": "de98704a-b395-4dab-9fc0-e2d889c65e78",
   "metadata": {},
   "source": [
    "Filter table to have only cheeses from neighboring countries (no cheeses from Germany or Austria in our dataset):"
   ]
  },
  {
   "cell_type": "code",
   "execution_count": null,
   "id": "e796b1ce-a1d5-401f-885c-3b0876075709",
   "metadata": {},
   "outputs": [],
   "source": [
    "! qiime feature-table filter-samples \\\n",
    "--i-table $data_dir/dada2_table_align_filtered.qza \\\n",
    "--m-metadata-file $data_dir/food-metadata.tsv \\\n",
    "--p-where \"[country]='France' OR [country]='Italy'\"\\\n",
    "--o-filtered-table $data_dir/feature_table_neighbor.qza"
   ]
  },
  {
   "cell_type": "markdown",
   "id": "72f1c1b6-8313-4353-bd30-9164d20f8f39",
   "metadata": {},
   "source": [
    "##### Find core features of neighboring cheeses with natural rindtype:"
   ]
  },
  {
   "cell_type": "code",
   "execution_count": null,
   "id": "1170cb48-42f0-43bb-8099-45d4dd328f5b",
   "metadata": {},
   "outputs": [],
   "source": [
    "! qiime feature-table filter-samples \\\n",
    "--i-table $data_dir/feature_table_neighbor.qza \\\n",
    "--m-metadata-file $data_dir/food-metadata.tsv \\\n",
    "--p-where \"[rindtype]='natural'\"\\\n",
    "--o-filtered-table $data_dir/feature_table_neighbor_natural.qza"
   ]
  },
  {
   "cell_type": "code",
   "execution_count": null,
   "id": "df78cd1b-fdba-4321-adaf-984bae126d6d",
   "metadata": {},
   "outputs": [],
   "source": [
    "! qiime feature-table core-features \\\n",
    "--i-table $data_dir/feature_table_neighbor_natural.qza \\\n",
    "--p-min-fraction 0.7 \\\n",
    "--p-steps 10 \\\n",
    "--o-visualization $data_dir/core_microbiota_neighbor_natural.qzv"
   ]
  },
  {
   "cell_type": "code",
   "execution_count": null,
   "id": "7722de83-0540-4a4c-a3fe-8480335deb91",
   "metadata": {},
   "outputs": [],
   "source": [
    "Visualization.load(f'{data_dir}/core_microbiota_neighbor_natural.qzv')"
   ]
  },
  {
   "cell_type": "code",
   "execution_count": null,
   "id": "bdeed491-aeb0-4679-9af7-2ecfa0544ce5",
   "metadata": {},
   "outputs": [],
   "source": []
  },
  {
   "cell_type": "markdown",
   "id": "39874416-1e96-4490-a420-1f6475cea9dc",
   "metadata": {},
   "source": [
    "##### Find core features of neighboring cheeses with washed rindtype:"
   ]
  },
  {
   "cell_type": "code",
   "execution_count": null,
   "id": "1937d179-2f6b-4527-b327-4c68663867e5",
   "metadata": {},
   "outputs": [],
   "source": [
    "! qiime feature-table filter-samples \\\n",
    "--i-table $data_dir/feature_table_neighbor.qza \\\n",
    "--m-metadata-file $data_dir/food-metadata.tsv \\\n",
    "--p-where \"[rindtype]='washed'\"\\\n",
    "--o-filtered-table $data_dir/feature_table_neighbor_washed.qza"
   ]
  },
  {
   "cell_type": "code",
   "execution_count": null,
   "id": "9f945625-e311-4547-aefc-5045950dd5b9",
   "metadata": {},
   "outputs": [],
   "source": [
    "! qiime feature-table core-features \\\n",
    "--i-table $data_dir/feature_table_neighbor_washed.qza \\\n",
    "--p-min-fraction 0.7 \\\n",
    "--p-steps 10 \\\n",
    "--o-visualization $data_dir/core_microbiota_neighbor_washed.qzv"
   ]
  },
  {
   "cell_type": "code",
   "execution_count": null,
   "id": "4f05f3d5-5ddc-4fa5-b497-4076bc45a137",
   "metadata": {},
   "outputs": [],
   "source": [
    "Visualization.load(f'{data_dir}/core_microbiota_neighbor_washed.qzv')"
   ]
  },
  {
   "cell_type": "markdown",
   "id": "c2925714-d2e2-43f2-ab10-4a62f36befac",
   "metadata": {},
   "source": [
    "##### Find core features of neighboring cheeses with alpine style:"
   ]
  },
  {
   "cell_type": "code",
   "execution_count": null,
   "id": "c2cf8fd0-e925-4d88-b331-0d4574aaf498",
   "metadata": {},
   "outputs": [],
   "source": [
    "! qiime feature-table filter-samples \\\n",
    "--i-table $data_dir/feature_table_neighbor.qza \\\n",
    "--m-metadata-file $data_dir/food-metadata.tsv \\\n",
    "--p-where \"[style]='alpine'\"\\\n",
    "--o-filtered-table $data_dir/feature_table_neighbor_alpine.qza"
   ]
  },
  {
   "cell_type": "code",
   "execution_count": null,
   "id": "7f40fd36-4002-4304-90a0-9911525c7cab",
   "metadata": {},
   "outputs": [],
   "source": [
    "! qiime feature-table core-features \\\n",
    "--i-table $data_dir/feature_table_neighbor_alpine.qza \\\n",
    "--p-min-fraction 0.7 \\\n",
    "--p-steps 10 \\\n",
    "--o-visualization $data_dir/core_microbiota_neighbor_alpine.qzv"
   ]
  },
  {
   "cell_type": "code",
   "execution_count": null,
   "id": "a7aa6691-3864-4ce0-a967-ee00bf353f1c",
   "metadata": {
    "tags": []
   },
   "outputs": [],
   "source": [
    "Visualization.load(f'{data_dir}/core_microbiota_neighbor_alpine.qzv')"
   ]
  },
  {
   "cell_type": "markdown",
   "id": "9b423938-a9f7-4c93-a73a-0a20b0bac984",
   "metadata": {},
   "source": [
    "### 5) Compare results of core features of CH cheeses with similar cheeses from neighboring countries"
   ]
  },
  {
   "cell_type": "markdown",
   "id": "f4474eca-2631-42f5-9cda-f10d9d8a48b6",
   "metadata": {},
   "source": [
    "--> add column to table with taxonomy\n",
    "--> get list with only feature IDs\n",
    "--> use python set intersection function"
   ]
  },
  {
   "cell_type": "markdown",
   "id": "c2d60112-5c83-443a-9c3d-64b38b5d6793",
   "metadata": {},
   "source": [
    "##### Cheeses with natural rindtype"
   ]
  },
  {
   "cell_type": "markdown",
   "id": "bd012ebd-8f41-46a3-bbbd-172ba57faeb2",
   "metadata": {},
   "source": [
    "Download of tsv files with core features (fraction of samples = 0.7)"
   ]
  },
  {
   "cell_type": "code",
   "execution_count": null,
   "id": "b05f6946-e22a-4a7a-b596-7f356fe3cb30",
   "metadata": {},
   "outputs": [],
   "source": [
    "! wget -nv -O $data_dir/core_microbiota_list_ch_natural.tsv 'https://polybox.ethz.ch/index.php/s/5ZVUmvDoy1VBTAx/download'"
   ]
  },
  {
   "cell_type": "code",
   "execution_count": null,
   "id": "451fc50c-cae2-420b-b028-272fcae6d3ea",
   "metadata": {},
   "outputs": [],
   "source": [
    "! wget -nv -O $data_dir/core_microbiota_list_neighbor_natural.tsv 'https://polybox.ethz.ch/index.php/s/cAEL47rLr8ELoV5/download'"
   ]
  },
  {
   "cell_type": "markdown",
   "id": "bb1cf4b5-de41-4bfa-b381-03710b36309d",
   "metadata": {},
   "source": [
    "Read tsv files into pandas dataframe and add column with taxon:"
   ]
  },
  {
   "cell_type": "code",
   "execution_count": null,
   "id": "642c6021-7dc8-402e-a88b-290e10927387",
   "metadata": {},
   "outputs": [],
   "source": [
    "#core features from CH cheeses with natural rindtype\n",
    "df_core_ch_nat = pd.read_csv(f'{data_dir}/core_microbiota_list_ch_natural.tsv', sep ='\\t')\n",
    "df_core_ch_nat.set_index('Feature ID', inplace = True)\n",
    "core_ch_nat_taxa = df_core_ch_nat.join(taxa['Taxon'])\n",
    "pd.set_option('max_colwidth', 150)\n",
    "core_ch_nat_taxa"
   ]
  },
  {
   "cell_type": "code",
   "execution_count": null,
   "id": "f3eadf26-b1d7-45d1-96b7-577559945aba",
   "metadata": {},
   "outputs": [],
   "source": [
    "#core features from neighboring countries with natural rindtype\n",
    "df_core_nei_nat = pd.read_csv(f'{data_dir}/core_microbiota_list_neighbor_natural.tsv', sep ='\\t')\n",
    "df_core_nei_nat.set_index('Feature ID', inplace = True)\n",
    "core_nei_nat_taxa = df_core_nei_nat.join(taxa['Taxon'])\n",
    "pd.set_option('max_colwidth', 150)\n",
    "core_nei_nat_taxa"
   ]
  },
  {
   "cell_type": "markdown",
   "id": "7f1b4a64-6798-4250-bb05-56bd0bed3a96",
   "metadata": {},
   "source": [
    "Compare values between the two dataframes created above:"
   ]
  },
  {
   "cell_type": "code",
   "execution_count": null,
   "id": "96f923ed-86e1-42f9-b47f-dd5c6bd10177",
   "metadata": {},
   "outputs": [],
   "source": [
    "#get list of Feature IDs from core features of CH and neighboring cheeses with natural rindtype and convert list into set\n",
    "index_list_ch_nat = list(df_core_ch_nat.index.values)\n",
    "set_ch_nat = set(index_list_ch_nat)\n",
    "index_list_nei_nat = list(df_core_nei_nat.index.values)\n",
    "set_nei_nat = set(index_list_nei_nat)"
   ]
  },
  {
   "cell_type": "code",
   "execution_count": null,
   "id": "1bb47184-4cdc-44d0-9850-750a89d610c8",
   "metadata": {},
   "outputs": [],
   "source": [
    "#get set of Feature IDs which are the same in both sets\n",
    "set_core_nat = set_ch_nat.intersection(set_nei_nat)\n",
    "\n",
    "print(set_core_nat)"
   ]
  },
  {
   "cell_type": "code",
   "execution_count": null,
   "id": "4075470c-5422-43a3-8e65-c18abee56e1d",
   "metadata": {},
   "outputs": [],
   "source": [
    "core_nat = pd.DataFrame(set_core_nat)\n",
    "core_nat.set_index(0, inplace = True)\n",
    "#core_nat = core_nat.rename(index={'Feature ID'})\n",
    "core_nat_taxa = core_nat.join(taxa['Taxon'])\n",
    "core_nat_taxa"
   ]
  },
  {
   "cell_type": "code",
   "execution_count": null,
   "id": "5ac3bb39-2ba9-46f7-a328-0fe7e998d0c6",
   "metadata": {},
   "outputs": [],
   "source": []
  },
  {
   "cell_type": "markdown",
   "id": "061ca546-4366-4a94-b44d-940c76a6ccf0",
   "metadata": {},
   "source": [
    "##### Cheeses with washed rindtype"
   ]
  },
  {
   "cell_type": "code",
   "execution_count": null,
   "id": "d8a4ab08-0e35-4419-a56c-fae07f471da9",
   "metadata": {},
   "outputs": [],
   "source": [
    "! wget -nv -O $data_dir/core_microbiota_list_ch_washed.tsv 'https://polybox.ethz.ch/index.php/s/M5WGsq8gReQGrQq/download'\n",
    "! wget -nv -O $data_dir/core_microbiota_list_neighbor_washed.tsv 'https://polybox.ethz.ch/index.php/s/uO4l1YWYO91DkxH/download'"
   ]
  },
  {
   "cell_type": "code",
   "execution_count": null,
   "id": "bd6801f3-1b0f-4c3f-a8ad-9b9ee6d39d46",
   "metadata": {},
   "outputs": [],
   "source": [
    "#core features from CH cheeses with washed rindtype\n",
    "df_core_ch_was = pd.read_csv(f'{data_dir}/core_microbiota_list_ch_washed.tsv', sep ='\\t')\n",
    "df_core_ch_was.set_index('Feature ID', inplace = True)\n",
    "core_ch_was_taxa = df_core_ch_was.join(taxa['Taxon'])\n",
    "pd.set_option('max_colwidth', 150)\n",
    "#core_ch_was_taxa"
   ]
  },
  {
   "cell_type": "code",
   "execution_count": null,
   "id": "ce47b5e2-8104-4e35-9e49-037d9edbdd5e",
   "metadata": {},
   "outputs": [],
   "source": [
    "#core features from neighboring countries with washed rindtype\n",
    "df_core_nei_was = pd.read_csv(f'{data_dir}/core_microbiota_list_neighbor_washed.tsv', sep ='\\t')\n",
    "df_core_nei_was.set_index('Feature ID', inplace = True)\n",
    "core_nei_was_taxa = df_core_nei_was.join(taxa['Taxon'])\n",
    "pd.set_option('max_colwidth', 150)\n",
    "#core_nei_was_taxa"
   ]
  },
  {
   "cell_type": "code",
   "execution_count": null,
   "id": "8fe1a513-61af-460c-aef1-a93567d8638b",
   "metadata": {},
   "outputs": [],
   "source": [
    "#get list of Feature IDs from core features of CH and neighboring cheeses with natural rindtype and convert list into set\n",
    "index_list_ch_was = list(df_core_ch_was.index.values)\n",
    "set_ch_was = set(index_list_ch_was)\n",
    "index_list_nei_was = list(df_core_nei_was.index.values)\n",
    "set_nei_was = set(index_list_nei_was)"
   ]
  },
  {
   "cell_type": "code",
   "execution_count": null,
   "id": "baee7678-4dde-40bd-a1cc-d0156323561a",
   "metadata": {},
   "outputs": [],
   "source": [
    "#get set of Feature IDs which are the same in both sets\n",
    "set_core_was = set_ch_was.intersection(set_nei_was)\n",
    "\n",
    "print(set_core_was)"
   ]
  },
  {
   "cell_type": "code",
   "execution_count": null,
   "id": "eee9633b-daea-4048-a275-45d67518345a",
   "metadata": {},
   "outputs": [],
   "source": [
    "core_was = pd.DataFrame(set_core_was)\n",
    "core_was.set_index(0, inplace = True)\n",
    "#core_was = core_was.rename(index={'Feature ID'})\n",
    "core_was_taxa = core_was.join(taxa['Taxon'])\n",
    "core_was_taxa"
   ]
  },
  {
   "cell_type": "code",
   "execution_count": null,
   "id": "25665259-8c47-43a8-b8c0-a76a43dc8e77",
   "metadata": {},
   "outputs": [],
   "source": []
  },
  {
   "cell_type": "markdown",
   "id": "84accf76-6535-4ec1-9809-3f6f50378a33",
   "metadata": {},
   "source": [
    "##### Cheeses with alpine style"
   ]
  },
  {
   "cell_type": "code",
   "execution_count": null,
   "id": "748cd6d8-8c13-4b97-9f70-c1b7048a2d88",
   "metadata": {},
   "outputs": [],
   "source": [
    "! wget -nv -O $data_dir/core_microbiota_list_ch_alpine.tsv 'https://polybox.ethz.ch/index.php/s/f8vVurBBWM740hB/download'\n",
    "! wget -nv -O $data_dir/core_microbiota_list_neighbor_alpine.tsv 'https://polybox.ethz.ch/index.php/s/k4Yy6aCgH2G2gkT/download'"
   ]
  },
  {
   "cell_type": "code",
   "execution_count": null,
   "id": "809fa1bc-27e3-474b-8897-ba4cecf5698f",
   "metadata": {},
   "outputs": [],
   "source": [
    "#core features from CH cheeses in alpine style\n",
    "df_core_ch_alp = pd.read_csv(f'{data_dir}/core_microbiota_list_ch_alpine.tsv', sep ='\\t')\n",
    "df_core_ch_alp.set_index('Feature ID', inplace = True)\n",
    "core_ch_alp_taxa = df_core_ch_alp.join(taxa['Taxon'])\n",
    "pd.set_option('max_colwidth', 150)\n",
    "#core_ch_alp_taxa"
   ]
  },
  {
   "cell_type": "code",
   "execution_count": null,
   "id": "47f2f15a-f343-4c5a-9afa-913d458e1177",
   "metadata": {},
   "outputs": [],
   "source": [
    "#core features from neighboring countries in alpine style\n",
    "df_core_nei_alp = pd.read_csv(f'{data_dir}/core_microbiota_list_neighbor_alpine.tsv', sep ='\\t')\n",
    "df_core_nei_alp.set_index('Feature ID', inplace = True)\n",
    "core_nei_alp_taxa = df_core_nei_alp.join(taxa['Taxon'])\n",
    "pd.set_option('max_colwidth', 150)\n",
    "#core_nei_alp_taxa"
   ]
  },
  {
   "cell_type": "code",
   "execution_count": null,
   "id": "be583ae3-b42d-4f3f-b1e8-833db03517af",
   "metadata": {},
   "outputs": [],
   "source": [
    "#get list of Feature IDs from core features of CH and neighboring cheeses with natural rindtype and convert list into set\n",
    "index_list_ch_alp = list(df_core_ch_alp.index.values)\n",
    "set_ch_alp = set(index_list_ch_alp)\n",
    "index_list_nei_alp = list(df_core_nei_alp.index.values)\n",
    "set_nei_alp = set(index_list_nei_alp)"
   ]
  },
  {
   "cell_type": "code",
   "execution_count": null,
   "id": "4030efaa-4b90-498e-aee3-84ece06fe9c6",
   "metadata": {},
   "outputs": [],
   "source": [
    "#get set of Feature IDs which are the same in both sets\n",
    "set_core_alp = set_ch_alp.intersection(set_nei_alp)\n",
    "\n",
    "print(set_core_alp)"
   ]
  },
  {
   "cell_type": "code",
   "execution_count": null,
   "id": "ac757f8e-435c-46e5-bcbf-f247483a9ae0",
   "metadata": {},
   "outputs": [],
   "source": [
    "core_alp = pd.DataFrame(set_core_alp)\n",
    "core_alp.set_index(0, inplace = True)\n",
    "#core_alp = core_alp.rename(index={'Feature ID'})\n",
    "core_alp_taxa = core_alp.join(taxa['Taxon'])\n",
    "core_alp_taxa"
   ]
  },
  {
   "cell_type": "code",
   "execution_count": null,
   "id": "b24e20e7-2539-4358-8239-4a590feedfcf",
   "metadata": {},
   "outputs": [],
   "source": []
  },
  {
   "cell_type": "markdown",
   "id": "06f2ac5d-e6af-4923-b0a7-627d8d386cbc",
   "metadata": {},
   "source": [
    "### 6)"
   ]
  },
  {
   "cell_type": "markdown",
   "id": "09ac99b4-ae08-4fdc-8d53-1f7554341c39",
   "metadata": {},
   "source": [
    "##### Core features of alpine style cheeses"
   ]
  },
  {
   "cell_type": "code",
   "execution_count": null,
   "id": "44f83bc0-0007-434c-9332-c2dc0de5ef12",
   "metadata": {},
   "outputs": [],
   "source": [
    "#filter feature table\n",
    "! qiime feature-table filter-samples \\\n",
    "--i-table $data_dir/dada2_table_align_filtered.qza \\\n",
    "--m-metadata-file $data_dir/food-metadata.tsv \\\n",
    "--p-where \"[style]='alpine'\"\\\n",
    "--o-filtered-table $data_dir/feature_table_alpine.qza"
   ]
  },
  {
   "cell_type": "code",
   "execution_count": null,
   "id": "8b3aa207-a3d7-4f3a-b3bf-065607873bd9",
   "metadata": {},
   "outputs": [],
   "source": [
    "#find core features from feature table\n",
    "! qiime feature-table core-features \\\n",
    "--i-table $data_dir/feature_table_alpine.qza \\\n",
    "--p-min-fraction 0.7 \\\n",
    "--p-steps 10 \\\n",
    "--o-visualization $data_dir/core_microbiota_alpine.qzv"
   ]
  },
  {
   "cell_type": "code",
   "execution_count": null,
   "id": "92cb99df-398b-444f-8d03-9171e9001e29",
   "metadata": {},
   "outputs": [],
   "source": [
    "Visualization.load(f'{data_dir}/core_microbiota_alpine.qzv')"
   ]
  },
  {
   "cell_type": "code",
   "execution_count": null,
   "id": "6e957478-8e4b-49c1-9b50-469df914913c",
   "metadata": {},
   "outputs": [],
   "source": [
    "#import tsv file (downloaded from output above, uploaded on polybox and now downloaded to put into this notebook)\n",
    "! wget -nv -O $data_dir/core_microbiota_list_alpine.tsv 'https://polybox.ethz.ch/index.php/s/uOeN2PpeHLYPtMs/download'"
   ]
  },
  {
   "cell_type": "code",
   "execution_count": null,
   "id": "92ce364c-f4c9-41fa-96b4-048ffb8efafc",
   "metadata": {},
   "outputs": [],
   "source": [
    "#read tsv file into dataframe \n",
    "#add taxa column\n",
    "core_alpine = pd.read_csv(f'{data_dir}/core_microbiota_list_alpine.tsv', sep ='\\t')\n",
    "core_alpine.set_index('Feature ID', inplace = True)\n",
    "core_alpine_taxa = core_alpine.join(taxa['Taxon'])\n",
    "pd.set_option('max_colwidth', 150)\n",
    "core_alpine_taxa"
   ]
  },
  {
   "cell_type": "markdown",
   "id": "88c28ca8-64bc-49ff-b081-781e57bfa432",
   "metadata": {},
   "source": [
    "##### Core features of blue style cheeses"
   ]
  },
  {
   "cell_type": "code",
   "execution_count": null,
   "id": "d946488f-66fc-4ad6-a6cd-fac3bdf74ed2",
   "metadata": {},
   "outputs": [],
   "source": [
    "#filter feature table\n",
    "! qiime feature-table filter-samples \\\n",
    "--i-table $data_dir/dada2_table_align_filtered.qza \\\n",
    "--m-metadata-file $data_dir/food-metadata.tsv \\\n",
    "--p-where \"[style]='blue'\"\\\n",
    "--o-filtered-table $data_dir/feature_table_blue.qza"
   ]
  },
  {
   "cell_type": "code",
   "execution_count": null,
   "id": "81e3d3b8-7e3c-43d7-9960-68d18a301761",
   "metadata": {},
   "outputs": [],
   "source": [
    "#find core features from feature table\n",
    "! qiime feature-table core-features \\\n",
    "--i-table $data_dir/feature_table_blue.qza \\\n",
    "--p-min-fraction 0.7 \\\n",
    "--p-steps 10 \\\n",
    "--o-visualization $data_dir/core_microbiota_blue.qzv"
   ]
  },
  {
   "cell_type": "code",
   "execution_count": null,
   "id": "fc00cdc8-e4c4-4430-904f-f09b6bde79de",
   "metadata": {},
   "outputs": [],
   "source": [
    "Visualization.load(f'{data_dir}/core_microbiota_blue.qzv')"
   ]
  },
  {
   "cell_type": "code",
   "execution_count": null,
   "id": "f92de03f-0d73-43bc-b887-fbf89517f9b6",
   "metadata": {},
   "outputs": [],
   "source": [
    "#import tsv file (downloaded from output above, uploaded on polybox and now downloaded to put into this notebook)\n",
    "! wget -nv -O $data_dir/core_microbiota_list_blue.tsv 'https://polybox.ethz.ch/index.php/s/Slu48m7FhULUbxE/download'"
   ]
  },
  {
   "cell_type": "code",
   "execution_count": null,
   "id": "cd2943b6-eb19-4339-93ab-21384f864f1b",
   "metadata": {},
   "outputs": [],
   "source": [
    "#read tsv file into dataframe \n",
    "#add taxa column\n",
    "core_blue = pd.read_csv(f'{data_dir}/core_microbiota_list_blue.tsv', sep ='\\t')\n",
    "core_blue.set_index('Feature ID', inplace = True)\n",
    "core_blue_taxa = core_blue.join(taxa['Taxon'])\n",
    "pd.set_option('max_colwidth', 150)\n",
    "core_blue_taxa"
   ]
  },
  {
   "cell_type": "markdown",
   "id": "9d8a94ae-73e5-495d-bf07-350fccc21b09",
   "metadata": {},
   "source": [
    "##### Core features of washed_bloomy style cheeses"
   ]
  },
  {
   "cell_type": "code",
   "execution_count": null,
   "id": "f19eba9b-9673-468a-83d0-75e11a75fc4a",
   "metadata": {},
   "outputs": [],
   "source": [
    "#filter feature table\n",
    "! qiime feature-table filter-samples \\\n",
    "--i-table $data_dir/dada2_table_align_filtered.qza \\\n",
    "--m-metadata-file $data_dir/food-metadata.tsv \\\n",
    "--p-where \"[style]='washed_bloomy'\"\\\n",
    "--o-filtered-table $data_dir/feature_table_wb.qza"
   ]
  },
  {
   "cell_type": "code",
   "execution_count": null,
   "id": "b179b181-9ceb-4dea-9976-18f216c07907",
   "metadata": {},
   "outputs": [],
   "source": [
    "#find core features from feature table\n",
    "! qiime feature-table core-features \\\n",
    "--i-table $data_dir/feature_table_wb.qza \\\n",
    "--p-min-fraction 0.7 \\\n",
    "--p-steps 10 \\\n",
    "--o-visualization $data_dir/core_microbiota_wb.qzv"
   ]
  },
  {
   "cell_type": "code",
   "execution_count": null,
   "id": "5f629d89-6e79-4667-a3d3-94a902e4751a",
   "metadata": {},
   "outputs": [],
   "source": [
    "Visualization.load(f'{data_dir}/core_microbiota_wb.qzv')"
   ]
  },
  {
   "cell_type": "code",
   "execution_count": null,
   "id": "6ac61513-73b4-4047-92c9-ec85e2dee449",
   "metadata": {},
   "outputs": [],
   "source": [
    "#import tsv file (downloaded from output above, uploaded on polybox and now downloaded to put into this notebook)\n",
    "! wget -nv -O $data_dir/core_microbiota_list_wb.tsv 'https://polybox.ethz.ch/index.php/s/WFKVTDYyNiQAE56/download'"
   ]
  },
  {
   "cell_type": "code",
   "execution_count": null,
   "id": "20f41592-a0bb-48ef-a572-cb84cf27dd17",
   "metadata": {},
   "outputs": [],
   "source": [
    "#read tsv file into dataframe \n",
    "#add taxa column\n",
    "core_wb = pd.read_csv(f'{data_dir}/core_microbiota_list_wb.tsv', sep ='\\t')\n",
    "core_wb.set_index('Feature ID', inplace = True)\n",
    "core_wb_taxa = core_wb.join(taxa['Taxon'])\n",
    "pd.set_option('max_colwidth', 150)\n",
    "core_wb_taxa"
   ]
  },
  {
   "cell_type": "markdown",
   "id": "49b245e0-6240-43bd-8251-00381b151c96",
   "metadata": {},
   "source": [
    "##### Core features of clothbound style cheeses"
   ]
  },
  {
   "cell_type": "code",
   "execution_count": null,
   "id": "08383e2f-b8a7-4117-97be-9cc4ead6ecc8",
   "metadata": {},
   "outputs": [],
   "source": [
    "#filter feature table\n",
    "! qiime feature-table filter-samples \\\n",
    "--i-table $data_dir/dada2_table_align_filtered.qza \\\n",
    "--m-metadata-file $data_dir/food-metadata.tsv \\\n",
    "--p-where \"[style]='clothbound'\"\\\n",
    "--o-filtered-table $data_dir/feature_table_cloth.qza"
   ]
  },
  {
   "cell_type": "code",
   "execution_count": null,
   "id": "e378bf52-40b3-472a-94d7-6f24b2ab4851",
   "metadata": {},
   "outputs": [],
   "source": [
    "#find core features from feature table\n",
    "! qiime feature-table core-features \\\n",
    "--i-table $data_dir/feature_table_cloth.qza \\\n",
    "--p-min-fraction 0.7 \\\n",
    "--p-steps 10 \\\n",
    "--o-visualization $data_dir/core_microbiota_cloth.qzv"
   ]
  },
  {
   "cell_type": "code",
   "execution_count": null,
   "id": "07ba42a2-3153-4c38-9a9b-8e0d3c042a8a",
   "metadata": {},
   "outputs": [],
   "source": [
    "Visualization.load(f'{data_dir}/core_microbiota_cloth.qzv')"
   ]
  },
  {
   "cell_type": "code",
   "execution_count": null,
   "id": "d96fb4c0-b0c7-4e58-a27f-e177979c491e",
   "metadata": {},
   "outputs": [],
   "source": [
    "#import tsv file (downloaded from output above, uploaded on polybox and now downloaded to put into this notebook)\n",
    "! wget -nv -O $data_dir/core_microbiota_list_cloth.tsv 'https://polybox.ethz.ch/index.php/s/mCGw1VTuQKNmw5c/download'"
   ]
  },
  {
   "cell_type": "code",
   "execution_count": null,
   "id": "39f9d366-8dfb-45ca-9441-507f3a737f83",
   "metadata": {},
   "outputs": [],
   "source": [
    "#read tsv file into dataframe \n",
    "#add taxa column\n",
    "core_cloth = pd.read_csv(f'{data_dir}/core_microbiota_list_cloth.tsv', sep ='\\t')\n",
    "core_cloth.set_index('Feature ID', inplace = True)\n",
    "core_cloth_taxa = core_cloth.join(taxa['Taxon'])\n",
    "pd.set_option('max_colwidth', 150)\n",
    "core_cloth_taxa"
   ]
  }
 ],
 "metadata": {
  "kernelspec": {
   "display_name": "Python 3 (ipykernel)",
   "language": "python",
   "name": "python3"
  },
  "language_info": {
   "codemirror_mode": {
    "name": "ipython",
    "version": 3
   },
   "file_extension": ".py",
   "mimetype": "text/x-python",
   "name": "python",
   "nbconvert_exporter": "python",
   "pygments_lexer": "ipython3",
   "version": "3.8.13"
  }
 },
 "nbformat": 4,
 "nbformat_minor": 5
}
