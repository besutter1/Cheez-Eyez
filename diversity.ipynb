{
 "cells": [
  {
   "cell_type": "markdown",
   "id": "c8d0b581-fbd6-44b1-b044-73dd03b00d0d",
   "metadata": {},
   "source": [
    "# Diversity analysis\n"
   ]
  },
  {
   "cell_type": "code",
   "execution_count": 2,
   "id": "778b1329-4862-4b15-a1e3-7d32c814a170",
   "metadata": {},
   "outputs": [],
   "source": [
    "import os\n",
    "import pandas as pd\n",
    "from qiime2 import Visualization\n",
    "import matplotlib.pyplot as plt\n",
    "import numpy as np\n",
    "\n",
    "import qiime2 as q2\n",
    "\n",
    "%matplotlib inline\n",
    "data_dir = 'CE'"
   ]
  },
  {
   "cell_type": "markdown",
   "id": "0212ba43-0406-4c97-8ad2-4eb41425600e",
   "metadata": {},
   "source": [
    "Artifacts used for alpha-diversity (start)\n",
    "- dada2_table_align_filtered.qza"
   ]
  },
  {
   "cell_type": "markdown",
   "id": "12b9c91a-e129-487f-bcb6-e1329a884c7b",
   "metadata": {},
   "source": [
    "## Alpha rarefaction"
   ]
  },
  {
   "cell_type": "markdown",
   "id": "b2f93508-2e0b-4fca-b8d7-967e4b846439",
   "metadata": {},
   "source": [
    "Using alpha-rarefaction we can decide which rarefying threshold is bes suited for our data."
   ]
  },
  {
   "cell_type": "code",
   "execution_count": null,
   "id": "a501688e-0dca-47c2-9e8e-5f3b7d8e12d7",
   "metadata": {},
   "outputs": [],
   "source": []
  },
  {
   "cell_type": "markdown",
   "id": "59401467-6c5e-4133-a21d-8ad55f0acfd5",
   "metadata": {},
   "source": [
    "## Diversity analysis"
   ]
  },
  {
   "cell_type": "code",
   "execution_count": null,
   "id": "43202e29-d2d3-4036-9477-170c3dbac1a3",
   "metadata": {},
   "outputs": [],
   "source": []
  },
  {
   "cell_type": "markdown",
   "id": "10ec403b-496e-4919-b70e-54d23e19ae04",
   "metadata": {},
   "source": [
    "## Alpha diversity"
   ]
  },
  {
   "cell_type": "code",
   "execution_count": null,
   "id": "ec8f2f16-4045-4af5-8266-513450a083d2",
   "metadata": {},
   "outputs": [],
   "source": []
  },
  {
   "cell_type": "code",
   "execution_count": null,
   "id": "69cf080c-50f8-4141-b481-87b2b0627f31",
   "metadata": {},
   "outputs": [],
   "source": []
  },
  {
   "cell_type": "markdown",
   "id": "e710e1eb-1902-4d9e-89e1-057140625764",
   "metadata": {},
   "source": [
    "## Beta diversity"
   ]
  },
  {
   "cell_type": "markdown",
   "id": "e359de46-b0f3-4e1e-afc1-b36efd68cc7d",
   "metadata": {},
   "source": [
    "Analyse beta diversity from core-metrics-phylogenetic action:"
   ]
  },
  {
   "cell_type": "code",
   "execution_count": null,
   "id": "7c347aac-9c5c-4d04-85d8-0a7179a81f30",
   "metadata": {},
   "outputs": [],
   "source": []
  },
  {
   "cell_type": "markdown",
   "id": "be06040d-c059-47fd-851b-ef17a22d9707",
   "metadata": {},
   "source": [
    "Measure beta diversity in q2-diversity with the beta method. This method gives access to a wider selection of distance metrics than those used by core-metrics-phylogenetic."
   ]
  },
  {
   "cell_type": "code",
   "execution_count": 6,
   "id": "aa95f0a2-83e6-4f08-8740-5c0b4e939bf2",
   "metadata": {},
   "outputs": [
    {
     "name": "stdout",
     "output_type": "stream",
     "text": [
      "Usage: \u001b[94mqiime diversity beta-correlation\u001b[0m [OPTIONS]\n",
      "\n",
      "  Create a distance matrix from a numeric metadata column and apply a two-\n",
      "  sided Mantel test to identify correlation between two distance matrices.\n",
      "  Actions used internally: `distance-matrix` from q2-metadata and `mantel`\n",
      "  from q2-diversity.\n",
      "\n",
      "\u001b[1mInputs\u001b[0m:\n",
      "  \u001b[94m\u001b[4m--i-distance-matrix\u001b[0m ARTIFACT\n",
      "    \u001b[32mDistanceMatrix\u001b[0m     Matrix of distances between pairs of samples.\n",
      "                                                                    \u001b[35m[required]\u001b[0m\n",
      "\u001b[1mParameters\u001b[0m:\n",
      "  \u001b[94m\u001b[4m--m-metadata-file\u001b[0m METADATA\n",
      "  \u001b[94m\u001b[4m--m-metadata-column\u001b[0m COLUMN  \u001b[32mMetadataColumn[Numeric]\u001b[0m\n",
      "                       Numeric metadata column from which to compute pairwise\n",
      "                       Euclidean distances                          \u001b[35m[required]\u001b[0m\n",
      "  \u001b[94m--p-method\u001b[0m TEXT \u001b[32mChoices('spearman', 'pearson')\u001b[0m\n",
      "                       The correlation test to be applied in the Mantel test.\n",
      "                                                         \u001b[35m[default: 'spearman']\u001b[0m\n",
      "  \u001b[94m--p-permutations\u001b[0m INTEGER\n",
      "    \u001b[32mRange(0, None)\u001b[0m     The number of permutations to be run when computing\n",
      "                       p-values. Supplying a value of zero will disable\n",
      "                       permutation testing and p-values will not be calculated\n",
      "                       (this results in *much* quicker execution time if\n",
      "                       p-values are not desired).               \u001b[35m[default: 999]\u001b[0m\n",
      "  \u001b[94m--p-intersect-ids\u001b[0m / \u001b[94m--p-no-intersect-ids\u001b[0m\n",
      "                       If supplied, IDs that are not found in both distance\n",
      "                       matrices will be discarded before applying the Mantel\n",
      "                       test. Default behavior is to error on any mismatched\n",
      "                       IDs.                                   \u001b[35m[default: False]\u001b[0m\n",
      "  \u001b[94m--p-label1\u001b[0m TEXT      Label for `\u001b[4mdistance-matrix\u001b[0m` in the output\n",
      "                       visualization.                    \u001b[35m[default: 'Metadata']\u001b[0m\n",
      "  \u001b[94m--p-label2\u001b[0m TEXT      Label for `\u001b[4mmetadata-distance-matrix\u001b[0m` in the output\n",
      "                       visualization.             \u001b[35m[default: 'Distance Matrix']\u001b[0m\n",
      "\u001b[1mOutputs\u001b[0m:\n",
      "  \u001b[94m\u001b[4m--o-metadata-distance-matrix\u001b[0m ARTIFACT\n",
      "    \u001b[32mDistanceMatrix\u001b[0m     The Distance Matrix produced from the metadata column\n",
      "                       and used in the mantel test                  \u001b[35m[required]\u001b[0m\n",
      "  \u001b[94m\u001b[4m--o-mantel-scatter-visualization\u001b[0m VISUALIZATION\n",
      "                       Scatter plot rendering of the manteltest results\n",
      "                                                                    \u001b[35m[required]\u001b[0m\n",
      "\u001b[1mMiscellaneous\u001b[0m:\n",
      "  \u001b[94m--output-dir\u001b[0m PATH    Output unspecified results to a directory\n",
      "  \u001b[94m--verbose\u001b[0m / \u001b[94m--quiet\u001b[0m  Display verbose output to stdout and/or stderr during\n",
      "                       execution of this action. Or silence output if\n",
      "                       execution is successful (silence is golden).\n",
      "  \u001b[94m--example-data\u001b[0m PATH  Write example data and exit.\n",
      "  \u001b[94m--citations\u001b[0m          Show citations and exit.\n",
      "  \u001b[94m--help\u001b[0m               Show this message and exit.\n"
     ]
    }
   ],
   "source": [
    "! qiime diversity beta-correlation --help"
   ]
  },
  {
   "cell_type": "code",
   "execution_count": null,
   "id": "26d3a979-a181-4cae-9b35-2e66270d083e",
   "metadata": {},
   "outputs": [],
   "source": [
    "! qiime diversity beta-correlation\n",
    "  --i-distance-matrix \n",
    "  --m-metadata-file $data_dir/food-metadata.tsv \\\n",
    "  --m-metadata-column\n",
    "  --o-metadata-distance-matrix $data_dir/beta-div-distance-matrix.qza \\\n",
    "  --o-mantel-scatter-visualization $data_dir/beta-div-mantel-scatter-vis.qzv "
   ]
  }
 ],
 "metadata": {
  "kernelspec": {
   "display_name": "Python 3 (ipykernel)",
   "language": "python",
   "name": "python3"
  },
  "language_info": {
   "codemirror_mode": {
    "name": "ipython",
    "version": 3
   },
   "file_extension": ".py",
   "mimetype": "text/x-python",
   "name": "python",
   "nbconvert_exporter": "python",
   "pygments_lexer": "ipython3",
   "version": "3.8.13"
  }
 },
 "nbformat": 4,
 "nbformat_minor": 5
}
