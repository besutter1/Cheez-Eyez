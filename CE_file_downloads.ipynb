{
 "cells": [
  {
   "cell_type": "markdown",
   "id": "650df783-402a-428b-a3e8-7d3aab28dc72",
   "metadata": {},
   "source": [
    "### Run this cell :)"
   ]
  },
  {
   "cell_type": "code",
   "execution_count": 6,
   "id": "2e35e2e8-e5d1-4ca9-b8f0-9d043cb7773c",
   "metadata": {},
   "outputs": [],
   "source": [
    "#Only need to rerun this cell once everything is downloaded:\n",
    "import os\n",
    "import pandas as pd\n",
    "from qiime2 import Visualization\n",
    "import matplotlib.pyplot as plt\n",
    "\n",
    "%matplotlib inline\n",
    "data_dir = 'CE'"
   ]
  },
  {
   "cell_type": "markdown",
   "id": "d3429e7a-55f3-4919-a110-aa315fe36c7c",
   "metadata": {},
   "source": [
    "### creating data directory "
   ]
  },
  {
   "cell_type": "code",
   "execution_count": 2,
   "id": "fe493faf-594a-4abe-abdd-f1c3633caee4",
   "metadata": {},
   "outputs": [],
   "source": [
    "data_dir = 'CE'\n",
    "\n",
    "if not os.path.isdir(data_dir):\n",
    "    os.makedirs(data_dir)"
   ]
  },
  {
   "cell_type": "code",
   "execution_count": 3,
   "id": "1764515e-f001-4ab9-9b17-a5057548a3a1",
   "metadata": {},
   "outputs": [
    {
     "name": "stdout",
     "output_type": "stream",
     "text": [
      "['CE_file_downloads.ipynb', 'metadata.ipynb', 'README.md', '.gitignore']\n"
     ]
    }
   ],
   "source": [
    "print([f for f in os.listdir('.') if os.path.isfile(f)])"
   ]
  },
  {
   "cell_type": "markdown",
   "id": "071a8a43-e8e7-4ed9-9c1b-58b41380f407",
   "metadata": {},
   "source": [
    "### don't need to run every time? qza file download"
   ]
  },
  {
   "cell_type": "code",
   "execution_count": 4,
   "id": "2c88c441-a361-46f4-b7a8-53eef1d95ee1",
   "metadata": {},
   "outputs": [
    {
     "name": "stdout",
     "output_type": "stream",
     "text": [
      "2022-10-14 13:07:10 URL:https://polybox.ethz.ch/index.php/s/2AYhc9EgbtA7wsE/download [959420090/959420090] -> \"CE/cheese-single-end-demux.qza\" [1]\n"
     ]
    }
   ],
   "source": [
    "! wget -nv -O $data_dir/cheese-single-end-demux.qza 'https://polybox.ethz.ch/index.php/s/2AYhc9EgbtA7wsE/download'"
   ]
  },
  {
   "cell_type": "code",
   "execution_count": 5,
   "id": "be5ad2f8-7fd3-45c9-8437-a39b314e7589",
   "metadata": {},
   "outputs": [
    {
     "name": "stdout",
     "output_type": "stream",
     "text": [
      "cheese-single-end-demux.qza\n",
      "cheese-single-end-demux.qzv\n",
      "food-metadata.tsv\n"
     ]
    }
   ],
   "source": [
    "! ls -1 $data_dir"
   ]
  },
  {
   "cell_type": "markdown",
   "id": "f3fc8563-5abf-48c4-b3c4-5ea0630f9c4e",
   "metadata": {},
   "source": [
    "### tsv file download"
   ]
  },
  {
   "cell_type": "code",
   "execution_count": 6,
   "id": "2f261475-d23f-4ac7-af2b-9b67086860bc",
   "metadata": {},
   "outputs": [
    {
     "name": "stdout",
     "output_type": "stream",
     "text": [
      "2022-10-14 13:07:12 URL:https://polybox.ethz.ch/index.php/s/nEd4l5CWGWGEtae/download [42810/42810] -> \"CE/food-metadata.tsv\" [1]\n"
     ]
    }
   ],
   "source": [
    "! wget -nv -O $data_dir/food-metadata.tsv 'https://polybox.ethz.ch/index.php/s/nEd4l5CWGWGEtae/download'"
   ]
  },
  {
   "cell_type": "code",
   "execution_count": 7,
   "id": "6c66dc88-bcb7-4bf3-82c6-440d5cbed111",
   "metadata": {},
   "outputs": [
    {
     "name": "stdout",
     "output_type": "stream",
     "text": [
      "cheese-single-end-demux.qza\n",
      "cheese-single-end-demux.qzv\n",
      "food-metadata.tsv\n"
     ]
    }
   ],
   "source": [
    "! ls -1 $data_dir"
   ]
  },
  {
   "cell_type": "code",
   "execution_count": 8,
   "id": "b7287891-12f6-4e14-9f38-7ac5799c080d",
   "metadata": {},
   "outputs": [],
   "source": [
    "df_meta = pd.read_csv(f'{data_dir}/food-metadata.tsv', sep='\\t', index_col=0)"
   ]
  },
  {
   "cell_type": "markdown",
   "id": "eaae5c4b-5240-43fd-9271-ac98ec7ef9b1",
   "metadata": {},
   "source": [
    "### Denoising"
   ]
  },
  {
   "cell_type": "markdown",
   "id": "1e0778ac-8167-4b81-aa93-a4348a90458b",
   "metadata": {},
   "source": [
    "Visual summary of the QIIME Artifact without changes:"
   ]
  },
  {
   "cell_type": "code",
   "execution_count": 9,
   "id": "233e6ff4-922d-4cec-84c1-b891e54ba6e8",
   "metadata": {},
   "outputs": [
    {
     "name": "stdout",
     "output_type": "stream",
     "text": [
      "\u001b[32mSaved Visualization to: CE/cheese-single-end-demux.qzv\u001b[0m\n",
      "\u001b[0m"
     ]
    }
   ],
   "source": [
    "! qiime demux summarize \\\n",
    "    --i-data $data_dir/cheese-single-end-demux.qza \\\n",
    "    --o-visualization $data_dir/cheese-single-end-demux.qzv"
   ]
  },
  {
   "cell_type": "code",
   "execution_count": 4,
   "id": "154503e0-0214-4f84-9af5-716f7297f222",
   "metadata": {
    "tags": []
   },
   "outputs": [
    {
     "data": {
      "text/html": [
       "<div><img onload=\"(function(div, url){\n",
       "if (typeof require !== 'undefined') {\n",
       "    var baseURL = require.toUrl('').split('/').slice(0, -2).join('/');\n",
       "} else {\n",
       "    var baseURL = JSON.parse(\n",
       "        document.getElementById('jupyter-config-data').innerHTML\n",
       "    ).baseUrl.slice(0, -1);\n",
       "}\n",
       "url = baseURL + url;\n",
       "fetch(url).then(function(res) {\n",
       "    if (res.status === 404) {\n",
       "        div.innerHTML = 'Install QIIME 2 Jupyter extension with:<br />' +\n",
       "                        '<code>jupyter serverextension enable --py qiime2' +\n",
       "                        ' --sys-prefix</code><br />then restart your server.' +\n",
       "                        '<br /><br />(Interactive output not available on ' +\n",
       "                        'static notebook viewer services like nbviewer.)';\n",
       "    } else if (res.status === 409) {\n",
       "        div.innerHTML = 'Visualization no longer in scope. Re-run this cell' +\n",
       "                        ' to see the visualization.';\n",
       "    } else if (res.ok) {\n",
       "        url = res.url;\n",
       "        div.innerHTML = '<iframe src=\\'' + url + '\\' style=\\'' +\n",
       "                        'width: 100%; height: 700px; border: 0;\\'>' +\n",
       "                        '</iframe><hr />Open in a: <a href=\\'' + url + '\\'' +\n",
       "                        ' target=\\'_blank\\'>new window</a>'\n",
       "    } else {\n",
       "        div.innerHTML = 'Something has gone wrong. Check notebook server for' +\n",
       "                        ' errors.';\n",
       "    }\n",
       "});\n",
       "})(this.parentElement, '/qiime2/redirect?location=/tmp/qiime2-archive-gaae6vei')\" src=\"data:image/gif;base64,R0lGODlhAQABAIAAAP///wAAACH5BAEAAAAALAAAAAABAAEAAAICRAEAOw==\" /></div>"
      ],
      "text/plain": [
       "<visualization: Visualization uuid: d6d29653-7297-4ac6-90dc-a4f0a9d85fe3>"
      ]
     },
     "execution_count": 4,
     "metadata": {},
     "output_type": "execute_result"
    }
   ],
   "source": [
    "Visualization.load(f'{data_dir}/cheese-single-end-demux.qzv')\n",
    "#Overview: normal distribution from 0 to almost 100000 with max at 100 Nr. of samples. \n",
    "#Overview: Some random blocks to max 10 Nr. of samples between 100000-400000 nuber of sequences\n",
    "#Interactive quality plot looks good! nothing under QS25! -> no need to trimm off less quality sequences :)"
   ]
  },
  {
   "cell_type": "markdown",
   "id": "e66ef059-89f8-44f8-92b9-f75788958f0f",
   "metadata": {},
   "source": [
    "Denoising:\n",
    "    --p-trunc-len: the length of the reads will be truncated to 100bp (maybe use different truncating length? Max. length is 101)\n",
    "        **-> maybe don't even need to truncate due to high quality sequences :)**"
   ]
  },
  {
   "cell_type": "code",
   "execution_count": 14,
   "id": "ac0caa26-f24c-42a1-85b2-db5ef2261883",
   "metadata": {},
   "outputs": [
    {
     "name": "stdout",
     "output_type": "stream",
     "text": [
      "\u001b[32mSaved FeatureTable[Frequency] to: CE/dada2_table.qza\u001b[0m\n",
      "\u001b[32mSaved FeatureData[Sequence] to: CE/dada2_rep_set.qza\u001b[0m\n",
      "\u001b[32mSaved SampleData[DADA2Stats] to: CE/dada2_stats.qza\u001b[0m\n",
      "\u001b[0m"
     ]
    }
   ],
   "source": [
    "! qiime dada2 denoise-single \\\n",
    "    --i-demultiplexed-seqs $data_dir/cheese-single-end-demux.qza \\\n",
    "    --p-trunc-len 101 \\\n",
    "    --p-n-threads 3 \\\n",
    "    --o-table $data_dir/dada2_table.qza \\\n",
    "    --o-representative-sequences $data_dir/dada2_rep_set.qza \\\n",
    "    --o-denoising-stats $data_dir/dada2_stats.qza"
   ]
  },
  {
   "cell_type": "markdown",
   "id": "a26e5b7e-e911-4b5d-9011-c9d2490e4102",
   "metadata": {},
   "source": [
    "#### Inspect denoising stats:"
   ]
  },
  {
   "cell_type": "code",
   "execution_count": 15,
   "id": "5a040204-d2ef-4b5d-aee9-3bc371e6d14b",
   "metadata": {},
   "outputs": [
    {
     "name": "stdout",
     "output_type": "stream",
     "text": [
      "\u001b[32mSaved Visualization to: CE/dada2_stats.qzv\u001b[0m\n",
      "\u001b[0m"
     ]
    }
   ],
   "source": [
    "! qiime metadata tabulate \\\n",
    "    --m-input-file $data_dir/dada2_stats.qza \\\n",
    "    --o-visualization $data_dir/dada2_stats.qzv"
   ]
  },
  {
   "cell_type": "code",
   "execution_count": 7,
   "id": "31ba037a-b404-486d-812f-a3dd439d82f6",
   "metadata": {},
   "outputs": [
    {
     "data": {
      "text/html": [
       "<div><img onload=\"(function(div, url){\n",
       "if (typeof require !== 'undefined') {\n",
       "    var baseURL = require.toUrl('').split('/').slice(0, -2).join('/');\n",
       "} else {\n",
       "    var baseURL = JSON.parse(\n",
       "        document.getElementById('jupyter-config-data').innerHTML\n",
       "    ).baseUrl.slice(0, -1);\n",
       "}\n",
       "url = baseURL + url;\n",
       "fetch(url).then(function(res) {\n",
       "    if (res.status === 404) {\n",
       "        div.innerHTML = 'Install QIIME 2 Jupyter extension with:<br />' +\n",
       "                        '<code>jupyter serverextension enable --py qiime2' +\n",
       "                        ' --sys-prefix</code><br />then restart your server.' +\n",
       "                        '<br /><br />(Interactive output not available on ' +\n",
       "                        'static notebook viewer services like nbviewer.)';\n",
       "    } else if (res.status === 409) {\n",
       "        div.innerHTML = 'Visualization no longer in scope. Re-run this cell' +\n",
       "                        ' to see the visualization.';\n",
       "    } else if (res.ok) {\n",
       "        url = res.url;\n",
       "        div.innerHTML = '<iframe src=\\'' + url + '\\' style=\\'' +\n",
       "                        'width: 100%; height: 700px; border: 0;\\'>' +\n",
       "                        '</iframe><hr />Open in a: <a href=\\'' + url + '\\'' +\n",
       "                        ' target=\\'_blank\\'>new window</a>'\n",
       "    } else {\n",
       "        div.innerHTML = 'Something has gone wrong. Check notebook server for' +\n",
       "                        ' errors.';\n",
       "    }\n",
       "});\n",
       "})(this.parentElement, '/qiime2/redirect?location=/tmp/qiime2-archive-w3hv895j')\" src=\"data:image/gif;base64,R0lGODlhAQABAIAAAP///wAAACH5BAEAAAAALAAAAAABAAEAAAICRAEAOw==\" /></div>"
      ],
      "text/plain": [
       "<visualization: Visualization uuid: 00498b98-0800-47f7-9681-f8ba77077c50>"
      ]
     },
     "execution_count": 7,
     "metadata": {},
     "output_type": "execute_result"
    }
   ],
   "source": [
    "Visualization.load(f'{data_dir}/dada2_stats.qzv')\n",
    "#colums are: sample-id, input, filtered, percentage of input passed filter, \n",
    "#denoised, non-chimeric, percentage of input non-chimeric\n",
    "#downloaded as TSV file"
   ]
  },
  {
   "cell_type": "markdown",
   "id": "77cbf4f3-6cb9-4fc4-97cb-2c4d89691025",
   "metadata": {},
   "source": [
    "#### Visualization resulting sequences:\n",
    "- basic statistics about the identified features \n",
    "- table mapping featured IDs to DNA sewquences"
   ]
  },
  {
   "cell_type": "code",
   "execution_count": 18,
   "id": "181ca091-fc4c-430a-98f6-b5178900ef81",
   "metadata": {},
   "outputs": [
    {
     "name": "stdout",
     "output_type": "stream",
     "text": [
      "\u001b[32mSaved Visualization to: CE/dada2_rep_set.qzv\u001b[0m\n",
      "\u001b[0m"
     ]
    }
   ],
   "source": [
    "! qiime feature-table tabulate-seqs \\\n",
    "    --i-data $data_dir/dada2_rep_set.qza \\\n",
    "    --o-visualization $data_dir/dada2_rep_set.qzv"
   ]
  },
  {
   "cell_type": "code",
   "execution_count": 8,
   "id": "1486a72d-9c7a-4d13-8bbe-a6ebb434788a",
   "metadata": {},
   "outputs": [
    {
     "data": {
      "text/html": [
       "<div><img onload=\"(function(div, url){\n",
       "if (typeof require !== 'undefined') {\n",
       "    var baseURL = require.toUrl('').split('/').slice(0, -2).join('/');\n",
       "} else {\n",
       "    var baseURL = JSON.parse(\n",
       "        document.getElementById('jupyter-config-data').innerHTML\n",
       "    ).baseUrl.slice(0, -1);\n",
       "}\n",
       "url = baseURL + url;\n",
       "fetch(url).then(function(res) {\n",
       "    if (res.status === 404) {\n",
       "        div.innerHTML = 'Install QIIME 2 Jupyter extension with:<br />' +\n",
       "                        '<code>jupyter serverextension enable --py qiime2' +\n",
       "                        ' --sys-prefix</code><br />then restart your server.' +\n",
       "                        '<br /><br />(Interactive output not available on ' +\n",
       "                        'static notebook viewer services like nbviewer.)';\n",
       "    } else if (res.status === 409) {\n",
       "        div.innerHTML = 'Visualization no longer in scope. Re-run this cell' +\n",
       "                        ' to see the visualization.';\n",
       "    } else if (res.ok) {\n",
       "        url = res.url;\n",
       "        div.innerHTML = '<iframe src=\\'' + url + '\\' style=\\'' +\n",
       "                        'width: 100%; height: 700px; border: 0;\\'>' +\n",
       "                        '</iframe><hr />Open in a: <a href=\\'' + url + '\\'' +\n",
       "                        ' target=\\'_blank\\'>new window</a>'\n",
       "    } else {\n",
       "        div.innerHTML = 'Something has gone wrong. Check notebook server for' +\n",
       "                        ' errors.';\n",
       "    }\n",
       "});\n",
       "})(this.parentElement, '/qiime2/redirect?location=/tmp/qiime2-archive-2pqpn1ck')\" src=\"data:image/gif;base64,R0lGODlhAQABAIAAAP///wAAACH5BAEAAAAALAAAAAABAAEAAAICRAEAOw==\" /></div>"
      ],
      "text/plain": [
       "<visualization: Visualization uuid: d48f9e9c-ea25-475f-8c8a-1b25aec9ea0b>"
      ]
     },
     "execution_count": 8,
     "metadata": {},
     "output_type": "execute_result"
    }
   ],
   "source": [
    "Visualization.load(f'{data_dir}/dada2_rep_set.qzv')\n",
    "#Sequence Length Statistics\n",
    "    #sequence count = 792, min and max length is 101\n",
    "#Seven-Nr. Summary of Sequence Lengths\n",
    "#Sequence table\n",
    "    #Feature ID, Sequence length and Sequence"
   ]
  },
  {
   "cell_type": "markdown",
   "id": "bf845420-baa7-4180-8a6b-0dc4b4d3529c",
   "metadata": {},
   "source": [
    "#### Visualitazion of feature table"
   ]
  },
  {
   "cell_type": "code",
   "execution_count": 25,
   "id": "8d759774-1800-45c0-b628-24e2ff7574b8",
   "metadata": {},
   "outputs": [
    {
     "name": "stdout",
     "output_type": "stream",
     "text": [
      "\u001b[32mSaved Visualization to: CE/dada2_table.qzv\u001b[0m\n",
      "\u001b[0m"
     ]
    }
   ],
   "source": [
    "! qiime feature-table summarize \\\n",
    "    --i-table $data_dir/dada2_table.qza \\\n",
    "    --o-visualization $data_dir/dada2_table.qzv"
   ]
  },
  {
   "cell_type": "code",
   "execution_count": 27,
   "id": "0cb170ee-bd0d-412e-97ae-438640c1b8a6",
   "metadata": {},
   "outputs": [
    {
     "data": {
      "text/html": [
       "<div><img onload=\"(function(div, url){\n",
       "if (typeof require !== 'undefined') {\n",
       "    var baseURL = require.toUrl('').split('/').slice(0, -2).join('/');\n",
       "} else {\n",
       "    var baseURL = JSON.parse(\n",
       "        document.getElementById('jupyter-config-data').innerHTML\n",
       "    ).baseUrl.slice(0, -1);\n",
       "}\n",
       "url = baseURL + url;\n",
       "fetch(url).then(function(res) {\n",
       "    if (res.status === 404) {\n",
       "        div.innerHTML = 'Install QIIME 2 Jupyter extension with:<br />' +\n",
       "                        '<code>jupyter serverextension enable --py qiime2' +\n",
       "                        ' --sys-prefix</code><br />then restart your server.' +\n",
       "                        '<br /><br />(Interactive output not available on ' +\n",
       "                        'static notebook viewer services like nbviewer.)';\n",
       "    } else if (res.status === 409) {\n",
       "        div.innerHTML = 'Visualization no longer in scope. Re-run this cell' +\n",
       "                        ' to see the visualization.';\n",
       "    } else if (res.ok) {\n",
       "        url = res.url;\n",
       "        div.innerHTML = '<iframe src=\\'' + url + '\\' style=\\'' +\n",
       "                        'width: 100%; height: 700px; border: 0;\\'>' +\n",
       "                        '</iframe><hr />Open in a: <a href=\\'' + url + '\\'' +\n",
       "                        ' target=\\'_blank\\'>new window</a>'\n",
       "    } else {\n",
       "        div.innerHTML = 'Something has gone wrong. Check notebook server for' +\n",
       "                        ' errors.';\n",
       "    }\n",
       "});\n",
       "})(this.parentElement, '/qiime2/redirect?location=/tmp/qiime2-archive-x45xgqbl')\" src=\"data:image/gif;base64,R0lGODlhAQABAIAAAP///wAAACH5BAEAAAAALAAAAAABAAEAAAICRAEAOw==\" /></div>"
      ],
      "text/plain": [
       "<visualization: Visualization uuid: 02e095d5-6da7-4545-ab0a-4de7e8a97f86>"
      ]
     },
     "execution_count": 27,
     "metadata": {},
     "output_type": "execute_result"
    }
   ],
   "source": [
    "Visualization.load(f'{data_dir}/dada2_table.qzv')\n",
    "#Overview\n",
    "    #Table sumamry: 362 samples, 792 features, total frequency of 23'794'545\n",
    "    #Frequency per sample, downloaded histogram as PDF\n",
    "    #frequency per feature, histogram not downloaded\n",
    "#Interactive sample detail\n",
    "    #sampling depth bar\n",
    "    #sample ID and Feature count table\n",
    "#Feature Detail\n",
    "    #ID as index, `corresponding frequency` and `#of samples observed in` as columns"
   ]
  },
  {
   "cell_type": "code",
   "execution_count": null,
   "id": "f0275d25-1937-45e8-bc0c-7f2195767558",
   "metadata": {},
   "outputs": [],
   "source": []
  }
 ],
 "metadata": {
  "kernelspec": {
   "display_name": "Python 3 (ipykernel)",
   "language": "python",
   "name": "python3"
  },
  "language_info": {
   "codemirror_mode": {
    "name": "ipython",
    "version": 3
   },
   "file_extension": ".py",
   "mimetype": "text/x-python",
   "name": "python",
   "nbconvert_exporter": "python",
   "pygments_lexer": "ipython3",
   "version": "3.8.13"
  }
 },
 "nbformat": 4,
 "nbformat_minor": 5
}
