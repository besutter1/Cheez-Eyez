{
 "cells": [
  {
   "cell_type": "markdown",
   "id": "c8d0b581-fbd6-44b1-b044-73dd03b00d0d",
   "metadata": {},
   "source": [
    "# Diversity analysis\n"
   ]
  },
  {
   "cell_type": "code",
   "execution_count": 1,
   "id": "778b1329-4862-4b15-a1e3-7d32c814a170",
   "metadata": {},
   "outputs": [],
   "source": [
    "import os\n",
    "import pandas as pd\n",
    "from qiime2 import Visualization\n",
    "from skbio import OrdinationResults\n",
    "import matplotlib.pyplot as plt\n",
    "from seaborn import scatterplot\n",
    "import numpy as np\n",
    "\n",
    "import qiime2 as q2\n",
    "\n",
    "%matplotlib inline\n",
    "data_dir = 'CE'"
   ]
  },
  {
   "cell_type": "markdown",
   "id": "0212ba43-0406-4c97-8ad2-4eb41425600e",
   "metadata": {},
   "source": [
    "Artifacts used for alpha-diversity (start)\n",
    "- dada2_table_align_filtered.qza\n",
    "- fasttree-tree-rooted.qza\n",
    "- sepp-tree.qza"
   ]
  },
  {
   "cell_type": "markdown",
   "id": "12b9c91a-e129-487f-bcb6-e1329a884c7b",
   "metadata": {},
   "source": [
    "## Alpha rarefaction"
   ]
  },
  {
   "cell_type": "markdown",
   "id": "c599efa3-d22b-4930-b631-9c49333f8e25",
   "metadata": {},
   "source": [
    "Which tree should be chosen to conduct alpha rarefaction? the de-novo tree or fragment insertion tree? \n",
    "-> fragment insertion tree was chosen, das we have rather short sequences which might not bring up enough information.\n",
    "Artifacts of both trees are visualized here:"
   ]
  },
  {
   "cell_type": "code",
   "execution_count": 2,
   "id": "dabedcb9-5140-4549-9917-d1e53f49e672",
   "metadata": {
    "tags": []
   },
   "outputs": [
    {
     "ename": "ValueError",
     "evalue": "CE/fasttree-tree-rooted.qzv does not exist.",
     "output_type": "error",
     "traceback": [
      "\u001b[0;31m---------------------------------------------------------------------------\u001b[0m",
      "\u001b[0;31mValueError\u001b[0m                                Traceback (most recent call last)",
      "Input \u001b[0;32mIn [2]\u001b[0m, in \u001b[0;36m<cell line: 2>\u001b[0;34m()\u001b[0m\n\u001b[1;32m      1\u001b[0m \u001b[38;5;66;03m#denovo\u001b[39;00m\n\u001b[0;32m----> 2\u001b[0m \u001b[43mVisualization\u001b[49m\u001b[38;5;241;43m.\u001b[39;49m\u001b[43mload\u001b[49m\u001b[43m(\u001b[49m\u001b[38;5;124;43mf\u001b[39;49m\u001b[38;5;124;43m'\u001b[39;49m\u001b[38;5;132;43;01m{\u001b[39;49;00m\u001b[43mdata_dir\u001b[49m\u001b[38;5;132;43;01m}\u001b[39;49;00m\u001b[38;5;124;43m/fasttree-tree-rooted.qzv\u001b[39;49m\u001b[38;5;124;43m'\u001b[39;49m\u001b[43m)\u001b[49m\n",
      "File \u001b[0;32m/opt/conda/lib/python3.8/site-packages/qiime2/sdk/result.py:66\u001b[0m, in \u001b[0;36mResult.load\u001b[0;34m(cls, filepath)\u001b[0m\n\u001b[1;32m     63\u001b[0m \u001b[38;5;129m@classmethod\u001b[39m\n\u001b[1;32m     64\u001b[0m \u001b[38;5;28;01mdef\u001b[39;00m \u001b[38;5;21mload\u001b[39m(\u001b[38;5;28mcls\u001b[39m, filepath):\n\u001b[1;32m     65\u001b[0m     \u001b[38;5;124;03m\"\"\"Factory for loading Artifacts and Visualizations.\"\"\"\u001b[39;00m\n\u001b[0;32m---> 66\u001b[0m     archiver \u001b[38;5;241m=\u001b[39m \u001b[43marchive\u001b[49m\u001b[38;5;241;43m.\u001b[39;49m\u001b[43mArchiver\u001b[49m\u001b[38;5;241;43m.\u001b[39;49m\u001b[43mload\u001b[49m\u001b[43m(\u001b[49m\u001b[43mfilepath\u001b[49m\u001b[43m)\u001b[49m\n\u001b[1;32m     68\u001b[0m     \u001b[38;5;28;01mif\u001b[39;00m Artifact\u001b[38;5;241m.\u001b[39m_is_valid_type(archiver\u001b[38;5;241m.\u001b[39mtype):\n\u001b[1;32m     69\u001b[0m         result \u001b[38;5;241m=\u001b[39m Artifact\u001b[38;5;241m.\u001b[39m\u001b[38;5;21m__new__\u001b[39m(Artifact)\n",
      "File \u001b[0;32m/opt/conda/lib/python3.8/site-packages/qiime2/core/archive/archiver.py:299\u001b[0m, in \u001b[0;36mArchiver.load\u001b[0;34m(cls, filepath)\u001b[0m\n\u001b[1;32m    297\u001b[0m \u001b[38;5;129m@classmethod\u001b[39m\n\u001b[1;32m    298\u001b[0m \u001b[38;5;28;01mdef\u001b[39;00m \u001b[38;5;21mload\u001b[39m(\u001b[38;5;28mcls\u001b[39m, filepath):\n\u001b[0;32m--> 299\u001b[0m     archive \u001b[38;5;241m=\u001b[39m \u001b[38;5;28;43mcls\u001b[39;49m\u001b[38;5;241;43m.\u001b[39;49m\u001b[43mget_archive\u001b[49m\u001b[43m(\u001b[49m\u001b[43mfilepath\u001b[49m\u001b[43m)\u001b[49m\n\u001b[1;32m    300\u001b[0m     Format \u001b[38;5;241m=\u001b[39m \u001b[38;5;28mcls\u001b[39m\u001b[38;5;241m.\u001b[39mget_format_class(archive\u001b[38;5;241m.\u001b[39mversion)\n\u001b[1;32m    301\u001b[0m     \u001b[38;5;28;01mif\u001b[39;00m Format \u001b[38;5;129;01mis\u001b[39;00m \u001b[38;5;28;01mNone\u001b[39;00m:\n",
      "File \u001b[0;32m/opt/conda/lib/python3.8/site-packages/qiime2/core/archive/archiver.py:259\u001b[0m, in \u001b[0;36mArchiver.get_archive\u001b[0;34m(cls, filepath)\u001b[0m\n\u001b[1;32m    257\u001b[0m filepath \u001b[38;5;241m=\u001b[39m pathlib\u001b[38;5;241m.\u001b[39mPath(filepath)\n\u001b[1;32m    258\u001b[0m \u001b[38;5;28;01mif\u001b[39;00m \u001b[38;5;129;01mnot\u001b[39;00m filepath\u001b[38;5;241m.\u001b[39mexists():\n\u001b[0;32m--> 259\u001b[0m     \u001b[38;5;28;01mraise\u001b[39;00m \u001b[38;5;167;01mValueError\u001b[39;00m(\u001b[38;5;124m\"\u001b[39m\u001b[38;5;132;01m%s\u001b[39;00m\u001b[38;5;124m does not exist.\u001b[39m\u001b[38;5;124m\"\u001b[39m \u001b[38;5;241m%\u001b[39m filepath)\n\u001b[1;32m    261\u001b[0m \u001b[38;5;28;01mif\u001b[39;00m _ZipArchive\u001b[38;5;241m.\u001b[39mis_archive_type(filepath):\n\u001b[1;32m    262\u001b[0m     archive \u001b[38;5;241m=\u001b[39m _ZipArchive(filepath)\n",
      "\u001b[0;31mValueError\u001b[0m: CE/fasttree-tree-rooted.qzv does not exist."
     ]
    }
   ],
   "source": [
    "#denovo\n",
    "Visualization.load(f'{data_dir}/fasttree-tree-rooted.qzv')"
   ]
  },
  {
   "cell_type": "code",
   "execution_count": null,
   "id": "2403279d-4289-4839-b2be-28a380c9e9d6",
   "metadata": {
    "tags": []
   },
   "outputs": [],
   "source": [
    "#fragment-insertion\n",
    "Visualization.load(f'{data_dir}/sepp-tree-placements-tree.qzv')"
   ]
  },
  {
   "cell_type": "markdown",
   "id": "b2f93508-2e0b-4fca-b8d7-967e4b846439",
   "metadata": {},
   "source": [
    "Using alpha-rarefaction we can decide which rarefying threshold is best suited for our data.\n",
    "1. downloaded metadata (somehow wasn't in my CE). if you already have it run normally, if not, remove the hashtags # in the following two cells.\n",
    "2. visualized diversity alpha-rarefaction (--p-max-depth 10000) to find out which sequencing depth to use -> 1500. Also no difference was noticed between de novo and fragment insertion tree. at the end we used the insertion tree.\n",
    "3. use core-metrics-phylogenetic plugin\n",
    "4. use diversity alpha-group-significance to run some statisical tests\n",
    "5. use diversity alpha-correlation to check for correlations (columns - richness of microbial community)\n",
    "6. some fun with pandas. nice poxplots"
   ]
  },
  {
   "cell_type": "code",
   "execution_count": null,
   "id": "b0e22a2e-a021-4e8f-a690-3d74963e8e2e",
   "metadata": {
    "tags": []
   },
   "outputs": [],
   "source": [
    "! wget -nv -O $data_dir/food-metadata.tsv 'https://polybox.ethz.ch/index.php/s/nEd4l5CWGWGEtae/download'"
   ]
  },
  {
   "cell_type": "code",
   "execution_count": null,
   "id": "6bd5725e-1c42-41a1-9d9a-b1d65c17a733",
   "metadata": {},
   "outputs": [],
   "source": [
    "df_meta = pd.read_csv(f'{data_dir}/food-metadata.tsv', sep='\\t', index_col=0)"
   ]
  },
  {
   "cell_type": "code",
   "execution_count": null,
   "id": "a501688e-0dca-47c2-9e8e-5f3b7d8e12d7",
   "metadata": {
    "tags": []
   },
   "outputs": [],
   "source": [
    "! qiime diversity alpha-rarefaction \\\n",
    "    --i-table $data_dir/dada2_table_align_filtered.qza \\\n",
    "    --i-phylogeny $data_dir/fasttree-tree-rooted.qza \\\n",
    "    --p-max-depth 100000 \\\n",
    "    --m-metadata-file $data_dir/food-metadata.tsv\\\n",
    "    --o-visualization $data_dir/alpha-rarefaction_denovo.qzv"
   ]
  },
  {
   "cell_type": "code",
   "execution_count": null,
   "id": "86be5dd6-363a-47aa-90fb-b0de47a11a98",
   "metadata": {
    "tags": []
   },
   "outputs": [],
   "source": [
    "#denovo tree: number of samples has plateau at around 7000 for rind-type\n",
    "#could change --p-max-depth 7000 \\\n",
    "Visualization.load(f'{data_dir}/alpha-rarefaction_denovo.qzv')"
   ]
  },
  {
   "cell_type": "markdown",
   "id": "59401467-6c5e-4133-a21d-8ad55f0acfd5",
   "metadata": {},
   "source": [
    "## Diversity analysis"
   ]
  },
  {
   "cell_type": "code",
   "execution_count": null,
   "id": "1400562b-0625-494b-a7b8-ad4a2449b2e7",
   "metadata": {},
   "outputs": [],
   "source": [
    "! qiime diversity alpha-rarefaction \\\n",
    "    --i-table $data_dir/dada2_table_align_filtered.qza \\\n",
    "    --i-phylogeny $data_dir/sepp-tree.qza \\\n",
    "    --p-max-depth 100000 \\\n",
    "    --m-metadata-file $data_dir/food-metadata.tsv\\\n",
    "    --o-visualization $data_dir/alpha-rarefaction_insertion.qzv"
   ]
  },
  {
   "cell_type": "code",
   "execution_count": null,
   "id": "e91f91a8-7208-4145-8648-5f77e637aeaf",
   "metadata": {
    "tags": []
   },
   "outputs": [],
   "source": [
    "#fragment insertion tree: number of samples has plateau at around 7000 for rind-type\n",
    "#could change --p-max-depth  7000\\\n",
    "Visualization.load(f'{data_dir}/alpha-rarefaction_insertion.qzv')"
   ]
  },
  {
   "cell_type": "markdown",
   "id": "7b729072-a286-4522-9f30-6eaee03bfcb6",
   "metadata": {},
   "source": [
    "Observation: no difference was found for denovo vs fragment insertion tree.\n",
    "I would cut at 1500 and choose that as sequencing depth. The plateau is already reched for almost all fators then and the number of samples starts decreasing. With 1500 we don't loose too much. It could even be set lower, at around 1250.\n",
    "\n",
    "at 1500: X samples are left (loose X samples)"
   ]
  },
  {
   "cell_type": "markdown",
   "id": "10ec403b-496e-4919-b70e-54d23e19ae04",
   "metadata": {},
   "source": [
    "## Alpha diversity"
   ]
  },
  {
   "cell_type": "markdown",
   "id": "f94c1b6e-5328-474e-aa73-45cf509a4248",
   "metadata": {},
   "source": [
    "Sequencing depth of 1500 for rarefaction: now let's have a look at the whitin-sample diversity (= alpha div.) Done for fragment-insertion tree."
   ]
  },
  {
   "cell_type": "code",
   "execution_count": null,
   "id": "3b8fcd33-800c-4b0c-91cf-65cd5dc2135f",
   "metadata": {},
   "outputs": [],
   "source": [
    "! qiime diversity core-metrics-phylogenetic \\\n",
    "  --i-table $data_dir/dada2_table_align_filtered.qza \\\n",
    "  --i-phylogeny $data_dir/sepp-tree.qza \\\n",
    "  --m-metadata-file $data_dir/food-metadata.tsv \\\n",
    "  --p-sampling-depth 1500 \\\n",
    "  --output-dir $data_dir/core-metrics-results_insertion_1500"
   ]
  },
  {
   "cell_type": "code",
   "execution_count": null,
   "id": "1b467107-6495-4835-b80f-854f35feccbe",
   "metadata": {},
   "outputs": [],
   "source": [
    "! qiime diversity alpha-group-significance \\\n",
    "  --i-alpha-diversity $data_dir/core-metrics-results_insertion_1500/faith_pd_vector.qza \\\n",
    "  --m-metadata-file $data_dir/food-metadata.tsv \\\n",
    "  --o-visualization $data_dir/core-metrics-results_insertion_1500/faith-pd-group-significance.qzv"
   ]
  },
  {
   "cell_type": "code",
   "execution_count": null,
   "id": "ff4c8fc7-189a-4fff-99e8-4495da24d1cb",
   "metadata": {},
   "outputs": [],
   "source": [
    "Visualization.load(f'{data_dir}/core-metrics-results_insertion_1500/faith-pd-group-significance.qzv')"
   ]
  },
  {
   "cell_type": "code",
   "execution_count": null,
   "id": "0ef62baa-401d-46cb-b474-40958f67bf81",
   "metadata": {},
   "outputs": [],
   "source": [
    "! qiime diversity alpha-correlation \\\n",
    "  --i-alpha-diversity $data_dir/core-metrics-results_insertion_1500/faith_pd_vector.qza \\\n",
    "  --m-metadata-file $data_dir/food-metadata.tsv \\\n",
    "  --o-visualization $data_dir/core-metrics-results_insertion_1500/faith-pd-group-significance-numeric.qzv"
   ]
  },
  {
   "cell_type": "code",
   "execution_count": null,
   "id": "573b24fb-18d3-4383-acfe-8a2fe5c4138c",
   "metadata": {},
   "outputs": [],
   "source": [
    "Visualization.load(f'{data_dir}/core-metrics-results_insertion_1500/faith-pd-group-significance-numeric.qzv')"
   ]
  },
  {
   "cell_type": "markdown",
   "id": "44dd9f15-2161-4a15-9211-b09e7a5fbf5c",
   "metadata": {},
   "source": [
    "I feel like this correlation thing isn't necessary....\n",
    "->> should try ANOVA q2-longitudinal? are assumptions correct tho?"
   ]
  },
  {
   "cell_type": "markdown",
   "id": "9eecaf4a-5562-4883-a535-28e4c96471ca",
   "metadata": {},
   "source": [
    "#### PANDAS fun"
   ]
  },
  {
   "cell_type": "code",
   "execution_count": null,
   "id": "85fe994c-d24f-4c10-9203-d5d0cddf1a5e",
   "metadata": {},
   "outputs": [],
   "source": [
    "art = q2.Artifact.load(os.path.join(data_dir, 'core-metrics-results_insertion_1500/faith_pd_vector.qza')).view(pd.Series)\n",
    "md = pd.read_csv(os.path.join(data_dir, 'food-metadata.tsv'), sep='\\t', index_col=0)['rindtype']"
   ]
  },
  {
   "cell_type": "code",
   "execution_count": null,
   "id": "6ca639fa-06a5-42ae-8965-de10cbeb9a03",
   "metadata": {
    "tags": []
   },
   "outputs": [],
   "source": [
    "pd.concat([art, md], join = 'inner', axis = 1)"
   ]
  },
  {
   "cell_type": "code",
   "execution_count": null,
   "id": "1caf1dd5-5246-4c76-82f1-2180ce678de4",
   "metadata": {},
   "outputs": [],
   "source": [
    "#no change, same rows and columns\n",
    "artmd = pd.concat([art, md], join = 'inner', axis = 1).dropna()"
   ]
  },
  {
   "cell_type": "code",
   "execution_count": null,
   "id": "c010c32f-e80f-44f5-ae26-50220ba36c2c",
   "metadata": {
    "tags": []
   },
   "outputs": [],
   "source": [
    "artmd.boxplot(by = 'rindtype', rot=90, grid = False)\n",
    "plt.ylabel('Faith PD')\n",
    "plt.xlabel('Rind Type')"
   ]
  },
  {
   "cell_type": "markdown",
   "id": "e710e1eb-1902-4d9e-89e1-057140625764",
   "metadata": {},
   "source": [
    "## Beta diversity"
   ]
  },
  {
   "cell_type": "markdown",
   "id": "ddd7474c-b94d-4139-83f0-b40513ef9453",
   "metadata": {},
   "source": [
    "Beta diversity measures the similarity between samples or groups of samples."
   ]
  },
  {
   "cell_type": "markdown",
   "id": "e359de46-b0f3-4e1e-afc1-b36efd68cc7d",
   "metadata": {},
   "source": [
    "Analyse beta diversity from core-metrics-phylogenetic action. Inspect unweighted_unifrac_emperor.qzv:"
   ]
  },
  {
   "cell_type": "markdown",
   "id": "4cde4d1f-1be3-48dc-b828-3c1e8e7e9186",
   "metadata": {},
   "source": [
    "Some clustering according to rindtype. But no clear clustering."
   ]
  },
  {
   "cell_type": "markdown",
   "id": "c5c80f59-0489-4525-ab29-f7c79399b160",
   "metadata": {},
   "source": [
    "#### Unweighted UniFrac"
   ]
  },
  {
   "cell_type": "code",
   "execution_count": null,
   "id": "7c347aac-9c5c-4d04-85d8-0a7179a81f30",
   "metadata": {},
   "outputs": [],
   "source": [
    "Visualization.load(f'{data_dir}/core-metrics-results_insertion_1500/unweighted_unifrac_emperor.qzv')"
   ]
  },
  {
   "cell_type": "markdown",
   "id": "96d149c9-9637-4882-9b36-e775465ca674",
   "metadata": {},
   "source": [
    "#### Jaccard"
   ]
  },
  {
   "cell_type": "code",
   "execution_count": null,
   "id": "face3723-69b1-4164-8500-4366cbc490c1",
   "metadata": {},
   "outputs": [],
   "source": [
    "Visualization.load(f'{data_dir}/core-metrics-results_insertion_1500/jaccard_emperor.qzv')"
   ]
  },
  {
   "cell_type": "markdown",
   "id": "a8d73e98-2ea9-46c7-ad79-fc96c72e1c6d",
   "metadata": {},
   "source": [
    "#### Weighted UniFrac"
   ]
  },
  {
   "cell_type": "code",
   "execution_count": null,
   "id": "1464b263-74aa-4163-930e-359d9802b6c6",
   "metadata": {},
   "outputs": [],
   "source": [
    "Visualization.load(f'{data_dir}/core-metrics-results_insertion_1500/weighted_unifrac_emperor.qzv')"
   ]
  },
  {
   "cell_type": "markdown",
   "id": "b2b5dfe9-1e1c-4934-aa35-617ced808cd6",
   "metadata": {},
   "source": [
    "#### Bray-Curtis"
   ]
  },
  {
   "cell_type": "code",
   "execution_count": null,
   "id": "06bf761e-40c1-46a4-b796-0472ccc10f76",
   "metadata": {},
   "outputs": [],
   "source": [
    "Visualization.load(f'{data_dir}/core-metrics-results_insertion_1500/bray_curtis_emperor.qzv')"
   ]
  },
  {
   "cell_type": "markdown",
   "id": "be06040d-c059-47fd-851b-ef17a22d9707",
   "metadata": {},
   "source": [
    "### PERMANOVA test\n",
    "Statistical testing of associations between beta diversity and categorical variables.\n",
    "We perform a PERMANOVA test checking whether the observed categories are significantly grouped in QIIME 2 with the qiime diversity beta-group-significance method."
   ]
  },
  {
   "cell_type": "markdown",
   "id": "e96124f1-3828-40e4-a834-9ca9f0274ae5",
   "metadata": {},
   "source": [
    "Inspect the beta diversity metrics of rindtype groupings:"
   ]
  },
  {
   "cell_type": "markdown",
   "id": "9b38b678-b208-473d-ac1a-49c2d3eb1423",
   "metadata": {},
   "source": [
    "Result: Distances between samples in groups are significantly different from the distance between samples from the other groups as the p-values are all 0.001."
   ]
  },
  {
   "cell_type": "code",
   "execution_count": null,
   "id": "49d3e7ad-0ec9-47c4-868c-98878dc16072",
   "metadata": {},
   "outputs": [],
   "source": [
    "! qiime diversity beta-group-significance \\\n",
    "    --i-distance-matrix $data_dir/core-metrics-results_insertion_1500/unweighted_unifrac_distance_matrix.qza \\\n",
    "    --m-metadata-file $data_dir/food-metadata.tsv \\\n",
    "    --m-metadata-column rindtype \\\n",
    "    --p-pairwise \\\n",
    "    --o-visualization $data_dir/core-metrics-results_insertion_1500/uw_unifrac-rindtype-significance.qzv"
   ]
  },
  {
   "cell_type": "code",
   "execution_count": null,
   "id": "737fabca-a671-4185-b8d6-d8309dc8e46f",
   "metadata": {},
   "outputs": [],
   "source": [
    "Visualization.load(f'{data_dir}/core-metrics-results_insertion_1500/uw_unifrac-rindtype-significance.qzv')"
   ]
  },
  {
   "cell_type": "markdown",
   "id": "8394d8d7-42b5-460f-aaed-ae294a7f6e41",
   "metadata": {},
   "source": [
    "Inspect the beta diversity metrics of continent groupings:"
   ]
  },
  {
   "cell_type": "markdown",
   "id": "dd951046-f931-4af2-ad8f-16bd270a4072",
   "metadata": {},
   "source": [
    "Result: "
   ]
  },
  {
   "cell_type": "code",
   "execution_count": null,
   "id": "d28194e6-74f3-492e-b15b-bb2f66788c30",
   "metadata": {},
   "outputs": [],
   "source": [
    "! qiime diversity beta-group-significance \\\n",
    "    --i-distance-matrix $data_dir/core-metrics-results_insertion_1500/unweighted_unifrac_distance_matrix.qza \\\n",
    "    --m-metadata-file $data_dir/food-metadata.tsv \\\n",
    "    --m-metadata-column continent \\\n",
    "    --p-pairwise \\\n",
    "    --o-visualization $data_dir/core-metrics-results_insertion_1500/uw_unifrac-continent-significance.qzv"
   ]
  },
  {
   "cell_type": "code",
   "execution_count": null,
   "id": "79ecfd17-83bb-4745-95d9-c8e446c3f2a2",
   "metadata": {},
   "outputs": [],
   "source": [
    "Visualization.load(f'{data_dir}/core-metrics-results_insertion_1500/uw_unifrac-continent-significance.qzv')"
   ]
  },
  {
   "cell_type": "markdown",
   "id": "bd7e3325-4d48-4ff9-a978-581349d396c6",
   "metadata": {},
   "source": [
    "Inspect the beta diversity metrics of animal source groupings:"
   ]
  },
  {
   "cell_type": "code",
   "execution_count": null,
   "id": "19f1f7b1-ffaf-4201-bdde-5cbd3e3dd777",
   "metadata": {},
   "outputs": [],
   "source": [
    "! qiime diversity beta-group-significance \\\n",
    "    --i-distance-matrix $data_dir/core-metrics-results_insertion_1500/unweighted_unifrac_distance_matrix.qza \\\n",
    "    --m-metadata-file $data_dir/food-metadata.tsv \\\n",
    "    --m-metadata-column animal_source \\\n",
    "    --p-pairwise \\\n",
    "    --o-visualization $data_dir/core-metrics-results_insertion_1500/uw_unifrac-animal-significance.qzv"
   ]
  },
  {
   "cell_type": "code",
   "execution_count": null,
   "id": "603cb237-0530-4123-9506-a5dc4a93b6a1",
   "metadata": {
    "tags": []
   },
   "outputs": [],
   "source": [
    "Visualization.load(f'{data_dir}/core-metrics-results_insertion_1500/uw_unifrac-animal-significance.qzv')"
   ]
  },
  {
   "cell_type": "markdown",
   "id": "f4b924b9-f97c-4cf4-b266-8d3ba4f6dda9",
   "metadata": {},
   "source": [
    "#### ADONIS"
   ]
  },
  {
   "cell_type": "markdown",
   "id": "fdcc442d-8f80-4fa5-a86b-73f9a3bbcc03",
   "metadata": {},
   "source": [
    "PERMANOVA test can also be performed with the adonis implementation. --> to explain which covariates explain the most variation in our dataset."
   ]
  },
  {
   "cell_type": "markdown",
   "id": "9c6918d8-8197-4262-bfd6-961ca79ccbea",
   "metadata": {},
   "source": [
    "Order in formula can make a difference in the outcomes. --> try different orders"
   ]
  },
  {
   "cell_type": "code",
   "execution_count": null,
   "id": "220d7e91-ebf9-4070-9946-0e57f06f07bd",
   "metadata": {},
   "outputs": [],
   "source": [
    "! qiime diversity adonis \\\n",
    "    --i-distance-matrix $data_dir/core-metrics-results_insertion_1500/unweighted_unifrac_distance_matrix.qza \\\n",
    "    --m-metadata-file $data_dir/food-metadata.tsv \\\n",
    "    --p-formula \"rindtype+continent+country+region+animal_source+pasteurized\" \\\n",
    "    --o-visualization $data_dir/core-metrics-results_insertion_1500/adonis.qzv"
   ]
  },
  {
   "cell_type": "code",
   "execution_count": null,
   "id": "a797368d-385b-4c06-bcf0-2cfad1f0f57a",
   "metadata": {},
   "outputs": [],
   "source": [
    "Visualization.load(f'{data_dir}/core-metrics-results_insertion_1500/adonis.qzv')"
   ]
  },
  {
   "cell_type": "markdown",
   "id": "d522fbbc-ff87-4bca-9613-76fac6d464b9",
   "metadata": {},
   "source": [
    "Order the columns by R2. The highest R2 comes first."
   ]
  },
  {
   "cell_type": "markdown",
   "id": "a77d758f-43d2-4587-8025-c9a041f7bd1d",
   "metadata": {},
   "source": [
    "Result: The region explains the most variation in our dataset (highest R2 value). --> But where is \"continent\"? :("
   ]
  },
  {
   "cell_type": "code",
   "execution_count": null,
   "id": "26bec1c1-574e-4cc1-9b11-be0c4e725c20",
   "metadata": {},
   "outputs": [],
   "source": [
    "! qiime diversity adonis \\\n",
    "    --i-distance-matrix $data_dir/core-metrics-results_insertion_1500/unweighted_unifrac_distance_matrix.qza \\\n",
    "    --m-metadata-file $data_dir/food-metadata.tsv \\\n",
    "    --p-formula \"region+rindtype+country+animal_source+continent+pasteurized\" \\\n",
    "    --o-visualization $data_dir/core-metrics-results_insertion_1500/adonis_neworder.qzv"
   ]
  },
  {
   "cell_type": "code",
   "execution_count": null,
   "id": "59c964f4-18cf-46ea-9966-38484eb2766b",
   "metadata": {},
   "outputs": [],
   "source": [
    "Visualization.load(f'{data_dir}/core-metrics-results_insertion_1500/adonis_neworder.qzv')"
   ]
  },
  {
   "cell_type": "code",
   "execution_count": null,
   "id": "3706cf94-cb39-4a8e-9c15-38611e3d695d",
   "metadata": {},
   "outputs": [],
   "source": []
  },
  {
   "cell_type": "code",
   "execution_count": null,
   "id": "ebec1202-2f2b-4038-96b2-6d6af39b52e7",
   "metadata": {},
   "outputs": [],
   "source": [
    "! qiime diversity adonis \\\n",
    "    --i-distance-matrix $data_dir/core-metrics-results_insertion_1500/unweighted_unifrac_distance_matrix.qza \\\n",
    "    --m-metadata-file $data_dir/food-metadata.tsv \\\n",
    "    --p-formula \"rindtype+continent+country+animal_source+pasteurized\" \\\n",
    "    --o-visualization $data_dir/core-metrics-results_insertion_1500/adonis_3.qzv"
   ]
  },
  {
   "cell_type": "code",
   "execution_count": null,
   "id": "ad7820b7-57d7-490b-8b08-a536aa42ba37",
   "metadata": {},
   "outputs": [],
   "source": [
    "Visualization.load(f'{data_dir}/core-metrics-results_insertion_1500/adonis_3.qzv')"
   ]
  },
  {
   "cell_type": "code",
   "execution_count": null,
   "id": "1e53c337-4a79-4b8b-ab29-deec97e93dad",
   "metadata": {},
   "outputs": [],
   "source": [
    "! qiime diversity adonis \\\n",
    "    --i-distance-matrix $data_dir/core-metrics-results_insertion_1500/unweighted_unifrac_distance_matrix.qza \\\n",
    "    --m-metadata-file $data_dir/food-metadata.tsv \\\n",
    "    --p-formula \"rindtype+country+animal_source+continent+pasteurized\" \\\n",
    "    --o-visualization $data_dir/core-metrics-results_insertion_1500/adonis_4.qzv"
   ]
  },
  {
   "cell_type": "code",
   "execution_count": null,
   "id": "62cd51f1-47bb-4beb-ba6e-ba249c247ec7",
   "metadata": {},
   "outputs": [],
   "source": [
    "Visualization.load(f'{data_dir}/core-metrics-results_insertion_1500/adonis_4.qzv')"
   ]
  },
  {
   "cell_type": "markdown",
   "id": "8efb094d-a0cf-4479-b57a-5de24632d295",
   "metadata": {},
   "source": [
    "#### PANDAS fun"
   ]
  },
  {
   "cell_type": "code",
   "execution_count": null,
   "id": "5bb807b8-a30d-415b-9da9-2f0b6b8c0e65",
   "metadata": {},
   "outputs": [],
   "source": [
    "unw_UF_pcoa_res = q2.Artifact.load(os.path.join(data_dir, 'core-metrics-results_insertion_1500/unweighted_unifrac_pcoa_results.qza'))\n",
    "unw_UF_pcoa_res = unw_UF_pcoa_res.view(OrdinationResults)\n",
    "# let's just take the first 3 columns (i.e., first 3 PCoA axes)\n",
    "unw_UF_pcoa_res_data = unw_UF_pcoa_res.samples.iloc[:,:3]\n",
    "# rename the columns for clarity\n",
    "unw_UF_pcoa_res_data.columns = ['Axis 1', 'Axis 2', 'Axis 3']"
   ]
  },
  {
   "cell_type": "code",
   "execution_count": null,
   "id": "9656aca6-a8dd-43bc-898a-ba0eb8ac2d9a",
   "metadata": {},
   "outputs": [],
   "source": [
    "unw_UF_pcoa_res_data.head(3)"
   ]
  },
  {
   "cell_type": "markdown",
   "id": "f69e31d8-197e-4d13-adae-26c5d46620b1",
   "metadata": {},
   "source": [
    "Join this dataframe with metadata column:"
   ]
  },
  {
   "cell_type": "code",
   "execution_count": null,
   "id": "21ec9887-066e-4c6c-a7d1-09aa08bf4211",
   "metadata": {},
   "outputs": [],
   "source": [
    "unw_UF_pcoa_res_data_with_rindtype = unw_UF_pcoa_res_data.join(df_meta['rindtype'])\n",
    "unw_UF_pcoa_res_data_with_rindtype.head()"
   ]
  },
  {
   "cell_type": "markdown",
   "id": "ad58d0c7-dac7-4b9d-9a74-622eee81b2a4",
   "metadata": {},
   "source": [
    "Visualize data using Python visualization library seaborn:"
   ]
  },
  {
   "cell_type": "code",
   "execution_count": null,
   "id": "63835f60-fddb-4aac-befc-d7efc234325d",
   "metadata": {},
   "outputs": [],
   "source": [
    "scatterplot(data=unw_UF_pcoa_res_data_with_rindtype,\n",
    "            x='Axis 1',\n",
    "            y='Axis 2',\n",
    "            hue='rindtype',\n",
    "            palette='viridis')"
   ]
  },
  {
   "cell_type": "code",
   "execution_count": null,
   "id": "09fb037a-eb1e-43db-ac18-6226a290b1f9",
   "metadata": {},
   "outputs": [],
   "source": []
  }
 ],
 "metadata": {
  "kernelspec": {
   "display_name": "Python 3 (ipykernel)",
   "language": "python",
   "name": "python3"
  },
  "language_info": {
   "codemirror_mode": {
    "name": "ipython",
    "version": 3
   },
   "file_extension": ".py",
   "mimetype": "text/x-python",
   "name": "python",
   "nbconvert_exporter": "python",
   "pygments_lexer": "ipython3",
   "version": "3.8.13"
  }
 },
 "nbformat": 4,
 "nbformat_minor": 5
}
