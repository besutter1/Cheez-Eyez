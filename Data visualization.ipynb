{
 "cells": [
  {
   "cell_type": "markdown",
   "id": "467047ae-e08e-4642-b32a-a951839f6497",
   "metadata": {},
   "source": [
    "# Data visualization\n",
    "\n"
   ]
  },
  {
   "cell_type": "code",
   "execution_count": 2,
   "id": "6897ce7c-6bc6-4d4a-970b-2b4b6480f7d0",
   "metadata": {},
   "outputs": [],
   "source": [
    "import os\n",
    "import math\n",
    "import matplotlib.pyplot as plt\n",
    "import numpy as np\n",
    "import pandas as pd\n",
    "import seaborn as sns\n",
    "\n",
    "from scipy import stats\n",
    "\n",
    "data_dir = 'CE'\n",
    "\n",
    "# this is to silence pandas' warnings\n",
    "import warnings\n",
    "warnings.simplefilter(action='ignore')\n",
    "    \n",
    "%matplotlib inline"
   ]
  },
  {
   "cell_type": "code",
   "execution_count": 3,
   "id": "045a0c44-3218-4102-9978-48cc516351d1",
   "metadata": {},
   "outputs": [],
   "source": [
    "def assign_elevation_level(x):\n",
    "    \"\"\"\n",
    "    Assigns elevation profile based on \n",
    "    elevation in meters above sea level.\n",
    "    \"\"\"\n",
    "    if x <= 500: \n",
    "        return 'low'\n",
    "    elif 500 < x <= 1500:\n",
    "        return 'medium'\n",
    "    else:\n",
    "        return 'high'"
   ]
  },
  {
   "cell_type": "code",
   "execution_count": null,
   "id": "5e499b78-318a-4a5f-9b05-afe05ec8aa9d",
   "metadata": {},
   "outputs": [],
   "source": []
  },
  {
   "cell_type": "code",
   "execution_count": null,
   "id": "4e14457f-a9a8-4802-a2f2-a8d155ead8f2",
   "metadata": {},
   "outputs": [],
   "source": []
  },
  {
   "cell_type": "code",
   "execution_count": null,
   "id": "e53c9855-745a-4304-bb0f-5311389678f7",
   "metadata": {},
   "outputs": [],
   "source": []
  },
  {
   "cell_type": "code",
   "execution_count": null,
   "id": "aa22f39a-5833-4e6d-808d-c350385cf436",
   "metadata": {},
   "outputs": [],
   "source": []
  },
  {
   "cell_type": "code",
   "execution_count": null,
   "id": "45456245-a0df-4fea-87bd-9309c28b9845",
   "metadata": {},
   "outputs": [],
   "source": []
  },
  {
   "cell_type": "code",
   "execution_count": null,
   "id": "b072feb9-93e9-45c7-8ca8-1c318ae2e1c1",
   "metadata": {},
   "outputs": [],
   "source": []
  },
  {
   "cell_type": "code",
   "execution_count": null,
   "id": "3080f43f-13b0-4e5b-8703-65e1a415bb89",
   "metadata": {},
   "outputs": [],
   "source": []
  },
  {
   "cell_type": "code",
   "execution_count": null,
   "id": "371a97a2-8b49-4c7c-b2df-90bb02f69c81",
   "metadata": {},
   "outputs": [],
   "source": []
  }
 ],
 "metadata": {
  "kernelspec": {
   "display_name": "Python 3 (ipykernel)",
   "language": "python",
   "name": "python3"
  },
  "language_info": {
   "codemirror_mode": {
    "name": "ipython",
    "version": 3
   },
   "file_extension": ".py",
   "mimetype": "text/x-python",
   "name": "python",
   "nbconvert_exporter": "python",
   "pygments_lexer": "ipython3",
   "version": "3.8.13"
  }
 },
 "nbformat": 4,
 "nbformat_minor": 5
}
