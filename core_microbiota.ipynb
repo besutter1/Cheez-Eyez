{
 "cells": [
  {
   "cell_type": "markdown",
   "id": "0297b2b3-5173-4428-ae96-b75943c42cc2",
   "metadata": {},
   "source": [
    "Test different functions to get the core microbiota:"
   ]
  },
  {
   "cell_type": "code",
   "execution_count": 1,
   "id": "f8bf5dc9-c0c7-427a-9f7b-4a2fdabfd33b",
   "metadata": {},
   "outputs": [],
   "source": [
    "import os\n",
    "import pandas as pd\n",
    "from qiime2 import Visualization\n",
    "import matplotlib.pyplot as plt\n",
    "import numpy as np\n",
    "\n",
    "import qiime2 as q2\n",
    "\n",
    "%matplotlib inline\n",
    "data_dir = 'CE'"
   ]
  },
  {
   "cell_type": "markdown",
   "id": "228a5d03-2d4c-4f66-817a-c957aa0570e9",
   "metadata": {},
   "source": [
    "##### Download metadata"
   ]
  },
  {
   "cell_type": "code",
   "execution_count": 14,
   "id": "a0d8db21-e6c3-4652-b4e7-8aa46b3f7b95",
   "metadata": {},
   "outputs": [
    {
     "name": "stdout",
     "output_type": "stream",
     "text": [
      "2022-12-12 08:54:46 URL:https://polybox.ethz.ch/index.php/s/nEd4l5CWGWGEtae/download [42810/42810] -> \"CE/food-metadata.tsv\" [1]\n"
     ]
    }
   ],
   "source": [
    "! wget -nv -O $data_dir/food-metadata.tsv 'https://polybox.ethz.ch/index.php/s/nEd4l5CWGWGEtae/download'"
   ]
  },
  {
   "cell_type": "markdown",
   "id": "141dc6a1-2add-44ff-9cdd-e501eaa95dfb",
   "metadata": {},
   "source": [
    "Identify \"core\" features, which are features observed in a user-defined\n",
    "  fraction of the samples. Since the core features are a function of the\n",
    "  fraction of samples that the feature must be observed in to be considered\n",
    "  core, this is computed over a range of fractions defined by the\n",
    "  `min_fraction`, `max_fraction`, and `steps` parameters."
   ]
  },
  {
   "cell_type": "markdown",
   "id": "9efafde5-93a7-48b3-b2a9-04434a36b6cf",
   "metadata": {},
   "source": [
    "#### Workflow\n",
    "1) Try different parameters to find core features\n",
    "2) Find core features of all cheeses in our feature table\n",
    "3) Find core features of Swiss cheeses (in categories rindtype = natural, washed or style = alpine\n",
    "4) Find core features of similar neighboring country cheeses.\n",
    "5) Compare results of Swiss to neighboring country cheeses."
   ]
  },
  {
   "cell_type": "markdown",
   "id": "884ce5d5-93e9-4914-bd64-1b26a64e105c",
   "metadata": {},
   "source": [
    "### 1)"
   ]
  },
  {
   "cell_type": "markdown",
   "id": "d55c3aad-6c15-4c38-9eba-3372dbd3a073",
   "metadata": {},
   "source": [
    "I tried different values for the parameters:"
   ]
  },
  {
   "cell_type": "markdown",
   "id": "ed40f85e-b264-45a2-86f7-1c468d773842",
   "metadata": {},
   "source": [
    "#### 1. Try"
   ]
  },
  {
   "cell_type": "markdown",
   "id": "1aed8ece-78cd-4cd2-90cc-44d6b78ce3b1",
   "metadata": {},
   "source": [
    "Used the function with the default values:"
   ]
  },
  {
   "cell_type": "code",
   "execution_count": 9,
   "id": "a8e8ddcb-e5f8-4e1b-b676-0d07a9f90c90",
   "metadata": {},
   "outputs": [
    {
     "name": "stdout",
     "output_type": "stream",
     "text": [
      "Usage: \u001b[94mqiime feature-table core-features\u001b[0m [OPTIONS]\n",
      "\n",
      "  Identify \"core\" features, which are features observed in a user-defined\n",
      "  fraction of the samples. Since the core features are a function of the\n",
      "  fraction of samples that the feature must be observed in to be considered\n",
      "  core, this is computed over a range of fractions defined by the\n",
      "  `min_fraction`, `max_fraction`, and `steps` parameters.\n",
      "\n",
      "\u001b[1mInputs\u001b[0m:\n",
      "  \u001b[94m\u001b[4m--i-table\u001b[0m ARTIFACT \u001b[32mFeatureTable[Frequency]\u001b[0m\n",
      "                       The feature table to use in core features\n",
      "                       calculations.                                \u001b[35m[required]\u001b[0m\n",
      "\u001b[1mParameters\u001b[0m:\n",
      "  \u001b[94m--p-min-fraction\u001b[0m PROPORTION \u001b[32mRange(0.0, 1.0, inclusive_start=False)\u001b[0m\n",
      "                       The minimum fraction of samples that a feature must be\n",
      "                       observed in for that feature to be considered a core\n",
      "                       feature.                                 \u001b[35m[default: 0.5]\u001b[0m\n",
      "  \u001b[94m--p-max-fraction\u001b[0m PROPORTION \u001b[32mRange(0.0, 1.0, inclusive_end=True)\u001b[0m\n",
      "                       The maximum fraction of samples that a feature must be\n",
      "                       observed in for that feature to be considered a core\n",
      "                       feature.                                 \u001b[35m[default: 1.0]\u001b[0m\n",
      "  \u001b[94m--p-steps\u001b[0m INTEGER    The number of steps to take between `\u001b[4mmin-fraction\u001b[0m` and\n",
      "    \u001b[32mRange(2, None)\u001b[0m     `\u001b[4mmax-fraction\u001b[0m` for core features calculations. This\n",
      "                       parameter has no effect if `\u001b[4mmin-fraction\u001b[0m` and\n",
      "                       `\u001b[4mmax-fraction\u001b[0m` are the same value.        \u001b[35m[default: 11]\u001b[0m\n",
      "\u001b[1mOutputs\u001b[0m:\n",
      "  \u001b[94m\u001b[4m--o-visualization\u001b[0m VISUALIZATION\n",
      "                                                                    \u001b[35m[required]\u001b[0m\n",
      "\u001b[1mMiscellaneous\u001b[0m:\n",
      "  \u001b[94m--output-dir\u001b[0m PATH    Output unspecified results to a directory\n",
      "  \u001b[94m--verbose\u001b[0m / \u001b[94m--quiet\u001b[0m  Display verbose output to stdout and/or stderr during\n",
      "                       execution of this action. Or silence output if\n",
      "                       execution is successful (silence is golden).\n",
      "  \u001b[94m--example-data\u001b[0m PATH  Write example data and exit.\n",
      "  \u001b[94m--citations\u001b[0m          Show citations and exit.\n",
      "  \u001b[94m--help\u001b[0m               Show this message and exit.\n",
      "\n",
      "\u001b[33m                    There was a problem with the command:                     \u001b[0m\n",
      "\u001b[31m\u001b[1m (1/1) Invalid value for '--o-visualization': Directory 'CE/core-microbiome'\n",
      "  does not exist, cannot save 'core_microbiota.qzv' into it.\u001b[0m\n",
      "\u001b[0m"
     ]
    }
   ],
   "source": [
    "! qiime feature-table core-features \\\n",
    "--i-table $data_dir/dada2_table_align_filtered.qza \\\n",
    "--p-min-fraction 0.5 \\\n",
    "--o-visualization $data_dir/core_microbiota.qzv"
   ]
  },
  {
   "cell_type": "code",
   "execution_count": 2,
   "id": "6d24141f-3f0c-43c0-a4e4-fb910c207df1",
   "metadata": {},
   "outputs": [
    {
     "data": {
      "text/html": [
       "<div><img onload=\"(function(div, url){\n",
       "if (typeof require !== 'undefined') {\n",
       "    var baseURL = require.toUrl('').split('/').slice(0, -2).join('/');\n",
       "} else {\n",
       "    var baseURL = JSON.parse(\n",
       "        document.getElementById('jupyter-config-data').innerHTML\n",
       "    ).baseUrl.slice(0, -1);\n",
       "}\n",
       "url = baseURL + url;\n",
       "fetch(url).then(function(res) {\n",
       "    if (res.status === 404) {\n",
       "        div.innerHTML = 'Install QIIME 2 Jupyter extension with:<br />' +\n",
       "                        '<code>jupyter serverextension enable --py qiime2' +\n",
       "                        ' --sys-prefix</code><br />then restart your server.' +\n",
       "                        '<br /><br />(Interactive output not available on ' +\n",
       "                        'static notebook viewer services like nbviewer.)';\n",
       "    } else if (res.status === 409) {\n",
       "        div.innerHTML = 'Visualization no longer in scope. Re-run this cell' +\n",
       "                        ' to see the visualization.';\n",
       "    } else if (res.ok) {\n",
       "        url = res.url;\n",
       "        div.innerHTML = '<iframe src=\\'' + url + '\\' style=\\'' +\n",
       "                        'width: 100%; height: 700px; border: 0;\\'>' +\n",
       "                        '</iframe><hr />Open in a: <a href=\\'' + url + '\\'' +\n",
       "                        ' target=\\'_blank\\'>new window</a>'\n",
       "    } else {\n",
       "        div.innerHTML = 'Something has gone wrong. Check notebook server for' +\n",
       "                        ' errors.';\n",
       "    }\n",
       "});\n",
       "})(this.parentElement, '/qiime2/redirect?location=/tmp/qiime2-archive-1bowpdjq')\" src=\"data:image/gif;base64,R0lGODlhAQABAIAAAP///wAAACH5BAEAAAAALAAAAAABAAEAAAICRAEAOw==\" /></div>"
      ],
      "text/plain": [
       "<visualization: Visualization uuid: 0c0156f8-5401-48d1-80c0-988547d889ce>"
      ]
     },
     "execution_count": 2,
     "metadata": {},
     "output_type": "execute_result"
    }
   ],
   "source": [
    "Visualization.load(f'{data_dir}/core_microbiota.qzv')"
   ]
  },
  {
   "cell_type": "markdown",
   "id": "d5809fc7-ce02-4adc-aca2-0032c957cba9",
   "metadata": {},
   "source": [
    "#### 2. Try"
   ]
  },
  {
   "cell_type": "markdown",
   "id": "16b9e4bc-d3ab-473d-85d9-41b866f675c1",
   "metadata": {},
   "source": [
    "Used the function with higher min-fraction:"
   ]
  },
  {
   "cell_type": "code",
   "execution_count": 14,
   "id": "b209969a-cc8c-4020-8929-da150206a854",
   "metadata": {},
   "outputs": [
    {
     "name": "stdout",
     "output_type": "stream",
     "text": [
      "\u001b[32mSaved Visualization to: CE/core_microbiota_2.qzv\u001b[0m\n",
      "\u001b[0m"
     ]
    }
   ],
   "source": [
    "! qiime feature-table core-features \\\n",
    "--i-table $data_dir/dada2_table_align_filtered.qza \\\n",
    "--p-min-fraction 0.8 \\\n",
    "--o-visualization $data_dir/core_microbiota_2.qzv"
   ]
  },
  {
   "cell_type": "code",
   "execution_count": 3,
   "id": "0fe8511f-073a-4024-9464-b7b798238adc",
   "metadata": {},
   "outputs": [
    {
     "data": {
      "text/html": [
       "<div><img onload=\"(function(div, url){\n",
       "if (typeof require !== 'undefined') {\n",
       "    var baseURL = require.toUrl('').split('/').slice(0, -2).join('/');\n",
       "} else {\n",
       "    var baseURL = JSON.parse(\n",
       "        document.getElementById('jupyter-config-data').innerHTML\n",
       "    ).baseUrl.slice(0, -1);\n",
       "}\n",
       "url = baseURL + url;\n",
       "fetch(url).then(function(res) {\n",
       "    if (res.status === 404) {\n",
       "        div.innerHTML = 'Install QIIME 2 Jupyter extension with:<br />' +\n",
       "                        '<code>jupyter serverextension enable --py qiime2' +\n",
       "                        ' --sys-prefix</code><br />then restart your server.' +\n",
       "                        '<br /><br />(Interactive output not available on ' +\n",
       "                        'static notebook viewer services like nbviewer.)';\n",
       "    } else if (res.status === 409) {\n",
       "        div.innerHTML = 'Visualization no longer in scope. Re-run this cell' +\n",
       "                        ' to see the visualization.';\n",
       "    } else if (res.ok) {\n",
       "        url = res.url;\n",
       "        div.innerHTML = '<iframe src=\\'' + url + '\\' style=\\'' +\n",
       "                        'width: 100%; height: 700px; border: 0;\\'>' +\n",
       "                        '</iframe><hr />Open in a: <a href=\\'' + url + '\\'' +\n",
       "                        ' target=\\'_blank\\'>new window</a>'\n",
       "    } else {\n",
       "        div.innerHTML = 'Something has gone wrong. Check notebook server for' +\n",
       "                        ' errors.';\n",
       "    }\n",
       "});\n",
       "})(this.parentElement, '/qiime2/redirect?location=/tmp/qiime2-archive-tkkt_565')\" src=\"data:image/gif;base64,R0lGODlhAQABAIAAAP///wAAACH5BAEAAAAALAAAAAABAAEAAAICRAEAOw==\" /></div>"
      ],
      "text/plain": [
       "<visualization: Visualization uuid: 61f25892-088c-472b-9bc4-bcad74e4e50a>"
      ]
     },
     "execution_count": 3,
     "metadata": {},
     "output_type": "execute_result"
    }
   ],
   "source": [
    "Visualization.load(f'{data_dir}/core_microbiota_2.qzv')"
   ]
  },
  {
   "cell_type": "markdown",
   "id": "7feafd5c-ceae-45e7-a9db-f7c5f666d627",
   "metadata": {},
   "source": [
    "#### 3. Try"
   ]
  },
  {
   "cell_type": "markdown",
   "id": "871f0da0-35eb-4079-bde1-ee9fbb9e89ce",
   "metadata": {},
   "source": [
    "Using different step value:"
   ]
  },
  {
   "cell_type": "code",
   "execution_count": 17,
   "id": "99defe16-d5db-480e-a5b0-dde544d1cafc",
   "metadata": {},
   "outputs": [
    {
     "name": "stdout",
     "output_type": "stream",
     "text": [
      "\u001b[32mSaved Visualization to: CE/core_microbiota_3.qzv\u001b[0m\n",
      "\u001b[0m"
     ]
    }
   ],
   "source": [
    "! qiime feature-table core-features \\\n",
    "--i-table $data_dir/dada2_table_align_filtered.qza \\\n",
    "--p-min-fraction 0.8 \\\n",
    "--p-steps 5 \\\n",
    "--o-visualization $data_dir/core_microbiota_3.qzv"
   ]
  },
  {
   "cell_type": "code",
   "execution_count": 4,
   "id": "afc46d07-2967-4916-87bb-4b7c2ef1ca33",
   "metadata": {},
   "outputs": [
    {
     "data": {
      "text/html": [
       "<div><img onload=\"(function(div, url){\n",
       "if (typeof require !== 'undefined') {\n",
       "    var baseURL = require.toUrl('').split('/').slice(0, -2).join('/');\n",
       "} else {\n",
       "    var baseURL = JSON.parse(\n",
       "        document.getElementById('jupyter-config-data').innerHTML\n",
       "    ).baseUrl.slice(0, -1);\n",
       "}\n",
       "url = baseURL + url;\n",
       "fetch(url).then(function(res) {\n",
       "    if (res.status === 404) {\n",
       "        div.innerHTML = 'Install QIIME 2 Jupyter extension with:<br />' +\n",
       "                        '<code>jupyter serverextension enable --py qiime2' +\n",
       "                        ' --sys-prefix</code><br />then restart your server.' +\n",
       "                        '<br /><br />(Interactive output not available on ' +\n",
       "                        'static notebook viewer services like nbviewer.)';\n",
       "    } else if (res.status === 409) {\n",
       "        div.innerHTML = 'Visualization no longer in scope. Re-run this cell' +\n",
       "                        ' to see the visualization.';\n",
       "    } else if (res.ok) {\n",
       "        url = res.url;\n",
       "        div.innerHTML = '<iframe src=\\'' + url + '\\' style=\\'' +\n",
       "                        'width: 100%; height: 700px; border: 0;\\'>' +\n",
       "                        '</iframe><hr />Open in a: <a href=\\'' + url + '\\'' +\n",
       "                        ' target=\\'_blank\\'>new window</a>'\n",
       "    } else {\n",
       "        div.innerHTML = 'Something has gone wrong. Check notebook server for' +\n",
       "                        ' errors.';\n",
       "    }\n",
       "});\n",
       "})(this.parentElement, '/qiime2/redirect?location=/tmp/qiime2-archive-mrn_2fvq')\" src=\"data:image/gif;base64,R0lGODlhAQABAIAAAP///wAAACH5BAEAAAAALAAAAAABAAEAAAICRAEAOw==\" /></div>"
      ],
      "text/plain": [
       "<visualization: Visualization uuid: 6fe15849-2827-4fbf-969f-d4dae15e4cb2>"
      ]
     },
     "execution_count": 4,
     "metadata": {},
     "output_type": "execute_result"
    }
   ],
   "source": [
    "Visualization.load(f'{data_dir}/core_microbiota_3.qzv')"
   ]
  },
  {
   "cell_type": "markdown",
   "id": "01182399-9684-41ef-ae4b-c036135910cf",
   "metadata": {},
   "source": [
    "#### 4. Try"
   ]
  },
  {
   "cell_type": "markdown",
   "id": "6e51641c-12ff-4cbe-adb9-8a3791d80305",
   "metadata": {},
   "source": [
    "Use different min-fraction:"
   ]
  },
  {
   "cell_type": "code",
   "execution_count": 22,
   "id": "4f99624a-8653-400f-aeb7-f23ded2b0d2d",
   "metadata": {},
   "outputs": [
    {
     "name": "stdout",
     "output_type": "stream",
     "text": [
      "\u001b[32mSaved Visualization to: CE/core_microbiota_4.qzv\u001b[0m\n",
      "\u001b[0m"
     ]
    }
   ],
   "source": [
    "! qiime feature-table core-features \\\n",
    "--i-table $data_dir/dada2_table_align_filtered.qza \\\n",
    "--p-min-fraction 0.7 \\\n",
    "--p-steps 10 \\\n",
    "--o-visualization $data_dir/core_microbiota_4.qzv"
   ]
  },
  {
   "cell_type": "code",
   "execution_count": 5,
   "id": "00fa1d04-2385-493c-8106-c47958210ca6",
   "metadata": {},
   "outputs": [
    {
     "data": {
      "text/html": [
       "<div><img onload=\"(function(div, url){\n",
       "if (typeof require !== 'undefined') {\n",
       "    var baseURL = require.toUrl('').split('/').slice(0, -2).join('/');\n",
       "} else {\n",
       "    var baseURL = JSON.parse(\n",
       "        document.getElementById('jupyter-config-data').innerHTML\n",
       "    ).baseUrl.slice(0, -1);\n",
       "}\n",
       "url = baseURL + url;\n",
       "fetch(url).then(function(res) {\n",
       "    if (res.status === 404) {\n",
       "        div.innerHTML = 'Install QIIME 2 Jupyter extension with:<br />' +\n",
       "                        '<code>jupyter serverextension enable --py qiime2' +\n",
       "                        ' --sys-prefix</code><br />then restart your server.' +\n",
       "                        '<br /><br />(Interactive output not available on ' +\n",
       "                        'static notebook viewer services like nbviewer.)';\n",
       "    } else if (res.status === 409) {\n",
       "        div.innerHTML = 'Visualization no longer in scope. Re-run this cell' +\n",
       "                        ' to see the visualization.';\n",
       "    } else if (res.ok) {\n",
       "        url = res.url;\n",
       "        div.innerHTML = '<iframe src=\\'' + url + '\\' style=\\'' +\n",
       "                        'width: 100%; height: 700px; border: 0;\\'>' +\n",
       "                        '</iframe><hr />Open in a: <a href=\\'' + url + '\\'' +\n",
       "                        ' target=\\'_blank\\'>new window</a>'\n",
       "    } else {\n",
       "        div.innerHTML = 'Something has gone wrong. Check notebook server for' +\n",
       "                        ' errors.';\n",
       "    }\n",
       "});\n",
       "})(this.parentElement, '/qiime2/redirect?location=/tmp/qiime2-archive-g485iejn')\" src=\"data:image/gif;base64,R0lGODlhAQABAIAAAP///wAAACH5BAEAAAAALAAAAAABAAEAAAICRAEAOw==\" /></div>"
      ],
      "text/plain": [
       "<visualization: Visualization uuid: 78f37bc9-1287-4d66-bc69-3969c384e827>"
      ]
     },
     "execution_count": 5,
     "metadata": {},
     "output_type": "execute_result"
    }
   ],
   "source": [
    "Visualization.load(f'{data_dir}/core_microbiota_4.qzv')"
   ]
  },
  {
   "cell_type": "markdown",
   "id": "2d8ec70d-b5c8-41ad-b4ae-c28631dba414",
   "metadata": {},
   "source": [
    "### 2)"
   ]
  },
  {
   "cell_type": "markdown",
   "id": "860e32dc-3717-4777-9ae3-c0f2851c8d2b",
   "metadata": {},
   "source": [
    "#### Download tsv file of core features of all cheeses"
   ]
  },
  {
   "cell_type": "markdown",
   "id": "5569b62d-7e28-4bad-b1d0-6a1862ef406b",
   "metadata": {},
   "source": [
    "TSV file with feature list could be downloaded from the output above. I downloaded the file and put it on polybox. I set the treshold of fraction of samples (The fraction of the total number of samples that a feature must be observed in for that feature to be considered \"core\".) to 0.7.\n",
    "Here we import this data from the polybox:"
   ]
  },
  {
   "cell_type": "code",
   "execution_count": 11,
   "id": "bac139c4-5131-4431-90fe-e39a3553b43d",
   "metadata": {},
   "outputs": [
    {
     "name": "stdout",
     "output_type": "stream",
     "text": [
      "2022-12-12 08:53:38 URL:https://polybox.ethz.ch/index.php/s/WRm86jdxvkxPOVa/download [490/490] -> \"CE/core_microbiota_list_0.7.tsv\" [1]\n"
     ]
    }
   ],
   "source": [
    "! wget -nv -O $data_dir/core_microbiota_list_0.7.tsv 'https://polybox.ethz.ch/index.php/s/WRm86jdxvkxPOVa/download'"
   ]
  },
  {
   "cell_type": "markdown",
   "id": "e8f1cfe8-3a8f-4acd-b355-e5ae2af9a049",
   "metadata": {},
   "source": [
    "This are the core features of all cheeses:"
   ]
  },
  {
   "cell_type": "code",
   "execution_count": 7,
   "id": "1505b02a-c087-4022-b215-83bdca97d6ac",
   "metadata": {},
   "outputs": [
    {
     "data": {
      "text/html": [
       "<div>\n",
       "<style scoped>\n",
       "    .dataframe tbody tr th:only-of-type {\n",
       "        vertical-align: middle;\n",
       "    }\n",
       "\n",
       "    .dataframe tbody tr th {\n",
       "        vertical-align: top;\n",
       "    }\n",
       "\n",
       "    .dataframe thead th {\n",
       "        text-align: right;\n",
       "    }\n",
       "</style>\n",
       "<table border=\"1\" class=\"dataframe\">\n",
       "  <thead>\n",
       "    <tr style=\"text-align: right;\">\n",
       "      <th></th>\n",
       "      <th>2%</th>\n",
       "      <th>9%</th>\n",
       "      <th>25%</th>\n",
       "      <th>50%</th>\n",
       "      <th>75%</th>\n",
       "      <th>91%</th>\n",
       "      <th>98%</th>\n",
       "    </tr>\n",
       "    <tr>\n",
       "      <th>Feature ID</th>\n",
       "      <th></th>\n",
       "      <th></th>\n",
       "      <th></th>\n",
       "      <th></th>\n",
       "      <th></th>\n",
       "      <th></th>\n",
       "      <th></th>\n",
       "    </tr>\n",
       "  </thead>\n",
       "  <tbody>\n",
       "    <tr>\n",
       "      <th>f50c8ae2717bb99c926c4ab1f2a6135c</th>\n",
       "      <td>4.0</td>\n",
       "      <td>12.0</td>\n",
       "      <td>184.5</td>\n",
       "      <td>1897.5</td>\n",
       "      <td>8307.25</td>\n",
       "      <td>51957.23</td>\n",
       "      <td>88576.02</td>\n",
       "    </tr>\n",
       "    <tr>\n",
       "      <th>805c1b3ec3035abbb7b9f1f7f6157e12</th>\n",
       "      <td>0.0</td>\n",
       "      <td>13.0</td>\n",
       "      <td>98.5</td>\n",
       "      <td>741.0</td>\n",
       "      <td>6608.00</td>\n",
       "      <td>21851.37</td>\n",
       "      <td>102426.32</td>\n",
       "    </tr>\n",
       "    <tr>\n",
       "      <th>5899b66b70d688d5cd95df5fc7a26e3a</th>\n",
       "      <td>0.0</td>\n",
       "      <td>0.0</td>\n",
       "      <td>8.0</td>\n",
       "      <td>87.0</td>\n",
       "      <td>1019.25</td>\n",
       "      <td>6905.73</td>\n",
       "      <td>28623.58</td>\n",
       "    </tr>\n",
       "    <tr>\n",
       "      <th>369232e1ac9f9983056d09b9fe866df5</th>\n",
       "      <td>0.0</td>\n",
       "      <td>0.0</td>\n",
       "      <td>8.0</td>\n",
       "      <td>44.0</td>\n",
       "      <td>400.75</td>\n",
       "      <td>2877.72</td>\n",
       "      <td>12945.78</td>\n",
       "    </tr>\n",
       "    <tr>\n",
       "      <th>398e906d9ad1914eb268fda5c7453e09</th>\n",
       "      <td>0.0</td>\n",
       "      <td>3.0</td>\n",
       "      <td>6.0</td>\n",
       "      <td>32.0</td>\n",
       "      <td>1070.25</td>\n",
       "      <td>11938.72</td>\n",
       "      <td>47885.18</td>\n",
       "    </tr>\n",
       "  </tbody>\n",
       "</table>\n",
       "</div>"
      ],
      "text/plain": [
       "                                   2%    9%    25%     50%      75%       91%  \\\n",
       "Feature ID                                                                      \n",
       "f50c8ae2717bb99c926c4ab1f2a6135c  4.0  12.0  184.5  1897.5  8307.25  51957.23   \n",
       "805c1b3ec3035abbb7b9f1f7f6157e12  0.0  13.0   98.5   741.0  6608.00  21851.37   \n",
       "5899b66b70d688d5cd95df5fc7a26e3a  0.0   0.0    8.0    87.0  1019.25   6905.73   \n",
       "369232e1ac9f9983056d09b9fe866df5  0.0   0.0    8.0    44.0   400.75   2877.72   \n",
       "398e906d9ad1914eb268fda5c7453e09  0.0   3.0    6.0    32.0  1070.25  11938.72   \n",
       "\n",
       "                                        98%  \n",
       "Feature ID                                   \n",
       "f50c8ae2717bb99c926c4ab1f2a6135c   88576.02  \n",
       "805c1b3ec3035abbb7b9f1f7f6157e12  102426.32  \n",
       "5899b66b70d688d5cd95df5fc7a26e3a   28623.58  \n",
       "369232e1ac9f9983056d09b9fe866df5   12945.78  \n",
       "398e906d9ad1914eb268fda5c7453e09   47885.18  "
      ]
     },
     "execution_count": 7,
     "metadata": {},
     "output_type": "execute_result"
    }
   ],
   "source": [
    "df_core_all = pd.read_csv(f'{data_dir}/core_microbiota_list_0.7.tsv', sep ='\\t')\n",
    "df_core_all.set_index('Feature ID', inplace = True)\n",
    "df_core_all"
   ]
  },
  {
   "cell_type": "code",
   "execution_count": null,
   "id": "9373b737-e571-42a3-8f63-8cceabdd9688",
   "metadata": {},
   "outputs": [],
   "source": []
  },
  {
   "cell_type": "code",
   "execution_count": null,
   "id": "91be7783-2c95-4218-95c6-2b6418c99df4",
   "metadata": {},
   "outputs": [],
   "source": []
  },
  {
   "cell_type": "code",
   "execution_count": null,
   "id": "154a6052-08fc-4af3-b779-b3cf6736a51f",
   "metadata": {},
   "outputs": [],
   "source": []
  },
  {
   "cell_type": "code",
   "execution_count": null,
   "id": "f979c047-39c7-471d-9380-5688dae98066",
   "metadata": {},
   "outputs": [],
   "source": []
  },
  {
   "cell_type": "markdown",
   "id": "b1e7272c-f01f-4b63-b16a-ecadf7634349",
   "metadata": {},
   "source": [
    "### 3) "
   ]
  },
  {
   "cell_type": "markdown",
   "id": "f5786ad5-c152-4d30-b2d8-cbe9505cc1a0",
   "metadata": {},
   "source": [
    "Do cheeses from\n",
    "Switzerland share this core microbiome with similar cheeses (e.g., same style/rind type) from neighboring\n",
    "countries?"
   ]
  },
  {
   "cell_type": "markdown",
   "id": "42ae7f94-04fc-4b43-845b-2ab1c7f7c031",
   "metadata": {},
   "source": [
    "##### Find core features of CH cheeses with natural rindtype:"
   ]
  },
  {
   "cell_type": "markdown",
   "id": "ce3bbba9-88f1-42c1-87ab-23767ecb0e6b",
   "metadata": {},
   "source": [
    "Result: 33 core features"
   ]
  },
  {
   "cell_type": "code",
   "execution_count": 22,
   "id": "c3b69153-ba76-4e00-ab86-1d76e2a16210",
   "metadata": {},
   "outputs": [
    {
     "name": "stdout",
     "output_type": "stream",
     "text": [
      "\u001b[32mSaved FeatureTable[Frequency] to: CE/feature_table_CH_natural.qza\u001b[0m\n",
      "\u001b[0m"
     ]
    }
   ],
   "source": [
    "! qiime feature-table filter-samples \\\n",
    "--i-table $data_dir/dada2_table_align_filtered.qza \\\n",
    "--m-metadata-file $data_dir/food-metadata.tsv \\\n",
    "--p-where \"[country]='Switzerland' AND [rindtype]='natural'\"\\\n",
    "--o-filtered-table $data_dir/feature_table_CH_natural.qza"
   ]
  },
  {
   "cell_type": "code",
   "execution_count": 29,
   "id": "3fcf4766-e7dd-4311-8dc5-5cf9d35e15c7",
   "metadata": {},
   "outputs": [
    {
     "name": "stdout",
     "output_type": "stream",
     "text": [
      "\u001b[32mSaved Visualization to: CE/core_microbiota_CH_natural.qzv\u001b[0m\n",
      "\u001b[0m"
     ]
    }
   ],
   "source": [
    "! qiime feature-table core-features \\\n",
    "--i-table $data_dir/feature_table_CH_natural.qza \\\n",
    "--p-min-fraction 0.7 \\\n",
    "--p-steps 10 \\\n",
    "--o-visualization $data_dir/core_microbiota_CH_natural.qzv"
   ]
  },
  {
   "cell_type": "code",
   "execution_count": 19,
   "id": "f2548df5-a6ad-4eb8-93be-f80af40c62ea",
   "metadata": {},
   "outputs": [
    {
     "data": {
      "text/html": [
       "<div><img onload=\"(function(div, url){\n",
       "if (typeof require !== 'undefined') {\n",
       "    var baseURL = require.toUrl('').split('/').slice(0, -2).join('/');\n",
       "} else {\n",
       "    var baseURL = JSON.parse(\n",
       "        document.getElementById('jupyter-config-data').innerHTML\n",
       "    ).baseUrl.slice(0, -1);\n",
       "}\n",
       "url = baseURL + url;\n",
       "fetch(url).then(function(res) {\n",
       "    if (res.status === 404) {\n",
       "        div.innerHTML = 'Install QIIME 2 Jupyter extension with:<br />' +\n",
       "                        '<code>jupyter serverextension enable --py qiime2' +\n",
       "                        ' --sys-prefix</code><br />then restart your server.' +\n",
       "                        '<br /><br />(Interactive output not available on ' +\n",
       "                        'static notebook viewer services like nbviewer.)';\n",
       "    } else if (res.status === 409) {\n",
       "        div.innerHTML = 'Visualization no longer in scope. Re-run this cell' +\n",
       "                        ' to see the visualization.';\n",
       "    } else if (res.ok) {\n",
       "        url = res.url;\n",
       "        div.innerHTML = '<iframe src=\\'' + url + '\\' style=\\'' +\n",
       "                        'width: 100%; height: 700px; border: 0;\\'>' +\n",
       "                        '</iframe><hr />Open in a: <a href=\\'' + url + '\\'' +\n",
       "                        ' target=\\'_blank\\'>new window</a>'\n",
       "    } else {\n",
       "        div.innerHTML = 'Something has gone wrong. Check notebook server for' +\n",
       "                        ' errors.';\n",
       "    }\n",
       "});\n",
       "})(this.parentElement, '/qiime2/redirect?location=/tmp/qiime2-archive-zx05jqc8')\" src=\"data:image/gif;base64,R0lGODlhAQABAIAAAP///wAAACH5BAEAAAAALAAAAAABAAEAAAICRAEAOw==\" /></div>"
      ],
      "text/plain": [
       "<visualization: Visualization uuid: 943f3266-4c8c-4004-bba8-65dbcb0ebf16>"
      ]
     },
     "execution_count": 19,
     "metadata": {},
     "output_type": "execute_result"
    }
   ],
   "source": [
    "Visualization.load(f'{data_dir}/core_microbiota_CH_natural.qzv')"
   ]
  },
  {
   "cell_type": "markdown",
   "id": "4b36e01e-9ede-40f0-b1a4-4f1c6fee45a2",
   "metadata": {},
   "source": [
    "##### Find core features of CH cheeses with washed rindtype:"
   ]
  },
  {
   "cell_type": "code",
   "execution_count": 31,
   "id": "e500d34c-02c2-48cb-977d-b00552a1da68",
   "metadata": {},
   "outputs": [
    {
     "name": "stdout",
     "output_type": "stream",
     "text": [
      "\u001b[32mSaved FeatureTable[Frequency] to: CE/feature_table_CH_washed.qza\u001b[0m\n",
      "\u001b[0m"
     ]
    }
   ],
   "source": [
    "! qiime feature-table filter-samples \\\n",
    "--i-table $data_dir/dada2_table_align_filtered.qza \\\n",
    "--m-metadata-file $data_dir/food-metadata.tsv \\\n",
    "--p-where \"[country]='Switzerland' AND [rindtype]='washed'\"\\\n",
    "--o-filtered-table $data_dir/feature_table_CH_washed.qza"
   ]
  },
  {
   "cell_type": "code",
   "execution_count": 32,
   "id": "218edff4-972e-4e54-8de8-bb0f3b706de5",
   "metadata": {},
   "outputs": [
    {
     "name": "stdout",
     "output_type": "stream",
     "text": [
      "\u001b[32mSaved Visualization to: CE/core_microbiota_CH_washed.qzv\u001b[0m\n",
      "\u001b[0m"
     ]
    }
   ],
   "source": [
    "! qiime feature-table core-features \\\n",
    "--i-table $data_dir/feature_table_CH_washed.qza \\\n",
    "--p-min-fraction 0.7 \\\n",
    "--p-steps 10 \\\n",
    "--o-visualization $data_dir/core_microbiota_CH_washed.qzv"
   ]
  },
  {
   "cell_type": "code",
   "execution_count": 5,
   "id": "c1ba5739-aaf7-45bb-9c89-bf2c7a6fe4ba",
   "metadata": {},
   "outputs": [
    {
     "data": {
      "text/html": [
       "<div><img onload=\"(function(div, url){\n",
       "if (typeof require !== 'undefined') {\n",
       "    var baseURL = require.toUrl('').split('/').slice(0, -2).join('/');\n",
       "} else {\n",
       "    var baseURL = JSON.parse(\n",
       "        document.getElementById('jupyter-config-data').innerHTML\n",
       "    ).baseUrl.slice(0, -1);\n",
       "}\n",
       "url = baseURL + url;\n",
       "fetch(url).then(function(res) {\n",
       "    if (res.status === 404) {\n",
       "        div.innerHTML = 'Install QIIME 2 Jupyter extension with:<br />' +\n",
       "                        '<code>jupyter serverextension enable --py qiime2' +\n",
       "                        ' --sys-prefix</code><br />then restart your server.' +\n",
       "                        '<br /><br />(Interactive output not available on ' +\n",
       "                        'static notebook viewer services like nbviewer.)';\n",
       "    } else if (res.status === 409) {\n",
       "        div.innerHTML = 'Visualization no longer in scope. Re-run this cell' +\n",
       "                        ' to see the visualization.';\n",
       "    } else if (res.ok) {\n",
       "        url = res.url;\n",
       "        div.innerHTML = '<iframe src=\\'' + url + '\\' style=\\'' +\n",
       "                        'width: 100%; height: 700px; border: 0;\\'>' +\n",
       "                        '</iframe><hr />Open in a: <a href=\\'' + url + '\\'' +\n",
       "                        ' target=\\'_blank\\'>new window</a>'\n",
       "    } else {\n",
       "        div.innerHTML = 'Something has gone wrong. Check notebook server for' +\n",
       "                        ' errors.';\n",
       "    }\n",
       "});\n",
       "})(this.parentElement, '/qiime2/redirect?location=/tmp/qiime2-archive-uexdnjwq')\" src=\"data:image/gif;base64,R0lGODlhAQABAIAAAP///wAAACH5BAEAAAAALAAAAAABAAEAAAICRAEAOw==\" /></div>"
      ],
      "text/plain": [
       "<visualization: Visualization uuid: 44aaefdd-61c0-4a7d-bded-3879ace69aba>"
      ]
     },
     "execution_count": 5,
     "metadata": {},
     "output_type": "execute_result"
    }
   ],
   "source": [
    "Visualization.load(f'{data_dir}/core_microbiota_CH_washed.qzv')"
   ]
  },
  {
   "cell_type": "markdown",
   "id": "b97fcf71-8922-4307-8865-b71a172e21ec",
   "metadata": {},
   "source": [
    "##### Find core features of CH cheeses with alpine style:"
   ]
  },
  {
   "cell_type": "code",
   "execution_count": 35,
   "id": "00625eda-e78d-449e-9769-4ade39df8866",
   "metadata": {},
   "outputs": [
    {
     "name": "stdout",
     "output_type": "stream",
     "text": [
      "\u001b[32mSaved FeatureTable[Frequency] to: CE/feature_table_CH_alpine.qza\u001b[0m\n",
      "\u001b[0m"
     ]
    }
   ],
   "source": [
    "! qiime feature-table filter-samples \\\n",
    "--i-table $data_dir/dada2_table_align_filtered.qza \\\n",
    "--m-metadata-file $data_dir/food-metadata.tsv \\\n",
    "--p-where \"[country]='Switzerland' AND [style]='alpine'\"\\\n",
    "--o-filtered-table $data_dir/feature_table_CH_alpine.qza"
   ]
  },
  {
   "cell_type": "code",
   "execution_count": 36,
   "id": "8a02f093-ac6e-4cfe-a1e1-57fd8f9ac972",
   "metadata": {},
   "outputs": [
    {
     "name": "stdout",
     "output_type": "stream",
     "text": [
      "\u001b[32mSaved Visualization to: CE/core_microbiota_CH_alpine.qzv\u001b[0m\n",
      "\u001b[0m"
     ]
    }
   ],
   "source": [
    "! qiime feature-table core-features \\\n",
    "--i-table $data_dir/feature_table_CH_alpine.qza \\\n",
    "--p-min-fraction 0.7 \\\n",
    "--p-steps 10 \\\n",
    "--o-visualization $data_dir/core_microbiota_CH_alpine.qzv"
   ]
  },
  {
   "cell_type": "code",
   "execution_count": 6,
   "id": "ac1cb3a2-83d2-4685-8cce-07e17bdfc24b",
   "metadata": {},
   "outputs": [
    {
     "data": {
      "text/html": [
       "<div><img onload=\"(function(div, url){\n",
       "if (typeof require !== 'undefined') {\n",
       "    var baseURL = require.toUrl('').split('/').slice(0, -2).join('/');\n",
       "} else {\n",
       "    var baseURL = JSON.parse(\n",
       "        document.getElementById('jupyter-config-data').innerHTML\n",
       "    ).baseUrl.slice(0, -1);\n",
       "}\n",
       "url = baseURL + url;\n",
       "fetch(url).then(function(res) {\n",
       "    if (res.status === 404) {\n",
       "        div.innerHTML = 'Install QIIME 2 Jupyter extension with:<br />' +\n",
       "                        '<code>jupyter serverextension enable --py qiime2' +\n",
       "                        ' --sys-prefix</code><br />then restart your server.' +\n",
       "                        '<br /><br />(Interactive output not available on ' +\n",
       "                        'static notebook viewer services like nbviewer.)';\n",
       "    } else if (res.status === 409) {\n",
       "        div.innerHTML = 'Visualization no longer in scope. Re-run this cell' +\n",
       "                        ' to see the visualization.';\n",
       "    } else if (res.ok) {\n",
       "        url = res.url;\n",
       "        div.innerHTML = '<iframe src=\\'' + url + '\\' style=\\'' +\n",
       "                        'width: 100%; height: 700px; border: 0;\\'>' +\n",
       "                        '</iframe><hr />Open in a: <a href=\\'' + url + '\\'' +\n",
       "                        ' target=\\'_blank\\'>new window</a>'\n",
       "    } else {\n",
       "        div.innerHTML = 'Something has gone wrong. Check notebook server for' +\n",
       "                        ' errors.';\n",
       "    }\n",
       "});\n",
       "})(this.parentElement, '/qiime2/redirect?location=/tmp/qiime2-archive-29hs81b3')\" src=\"data:image/gif;base64,R0lGODlhAQABAIAAAP///wAAACH5BAEAAAAALAAAAAABAAEAAAICRAEAOw==\" /></div>"
      ],
      "text/plain": [
       "<visualization: Visualization uuid: c060248a-b70e-4c1a-9d20-f0defc56c631>"
      ]
     },
     "execution_count": 6,
     "metadata": {},
     "output_type": "execute_result"
    }
   ],
   "source": [
    "Visualization.load(f'{data_dir}/core_microbiota_CH_alpine.qzv')"
   ]
  },
  {
   "cell_type": "markdown",
   "id": "d50cf8c9-576b-4cf8-b408-420b223b6db4",
   "metadata": {},
   "source": [
    "### 4)"
   ]
  },
  {
   "cell_type": "markdown",
   "id": "de98704a-b395-4dab-9fc0-e2d889c65e78",
   "metadata": {},
   "source": [
    "Filter table to have only cheeses from neighboring countries (no cheeses from Germany or Austria in our dataset):"
   ]
  },
  {
   "cell_type": "code",
   "execution_count": 8,
   "id": "e796b1ce-a1d5-401f-885c-3b0876075709",
   "metadata": {},
   "outputs": [
    {
     "name": "stdout",
     "output_type": "stream",
     "text": [
      "\u001b[32mSaved FeatureTable[Frequency] to: CE/feature_table_neighbor.qza\u001b[0m\n",
      "\u001b[0m"
     ]
    }
   ],
   "source": [
    "! qiime feature-table filter-samples \\\n",
    "--i-table $data_dir/dada2_table_align_filtered.qza \\\n",
    "--m-metadata-file $data_dir/food-metadata.tsv \\\n",
    "--p-where \"[country]='France' OR [country]='Italy'\"\\\n",
    "--o-filtered-table $data_dir/feature_table_neighbor.qza"
   ]
  },
  {
   "cell_type": "markdown",
   "id": "72f1c1b6-8313-4353-bd30-9164d20f8f39",
   "metadata": {},
   "source": [
    "##### Find core features of neighboring cheeses with natural rindtype:"
   ]
  },
  {
   "cell_type": "code",
   "execution_count": 9,
   "id": "1170cb48-42f0-43bb-8099-45d4dd328f5b",
   "metadata": {},
   "outputs": [
    {
     "name": "stdout",
     "output_type": "stream",
     "text": [
      "\u001b[32mSaved FeatureTable[Frequency] to: CE/feature_table_neighbor_natural.qza\u001b[0m\n",
      "\u001b[0m"
     ]
    }
   ],
   "source": [
    "! qiime feature-table filter-samples \\\n",
    "--i-table $data_dir/feature_table_neighbor.qza \\\n",
    "--m-metadata-file $data_dir/food-metadata.tsv \\\n",
    "--p-where \"[rindtype]='natural'\"\\\n",
    "--o-filtered-table $data_dir/feature_table_neighbor_natural.qza"
   ]
  },
  {
   "cell_type": "code",
   "execution_count": 10,
   "id": "df78cd1b-fdba-4321-adaf-984bae126d6d",
   "metadata": {},
   "outputs": [
    {
     "name": "stdout",
     "output_type": "stream",
     "text": [
      "\u001b[32mSaved Visualization to: CE/core_microbiota_neighbor_natural.qzv\u001b[0m\n",
      "\u001b[0m"
     ]
    }
   ],
   "source": [
    "! qiime feature-table core-features \\\n",
    "--i-table $data_dir/feature_table_neighbor_natural.qza \\\n",
    "--p-min-fraction 0.7 \\\n",
    "--p-steps 10 \\\n",
    "--o-visualization $data_dir/core_microbiota_neighbor_natural.qzv"
   ]
  },
  {
   "cell_type": "code",
   "execution_count": 11,
   "id": "7722de83-0540-4a4c-a3fe-8480335deb91",
   "metadata": {},
   "outputs": [
    {
     "data": {
      "text/html": [
       "<div><img onload=\"(function(div, url){\n",
       "if (typeof require !== 'undefined') {\n",
       "    var baseURL = require.toUrl('').split('/').slice(0, -2).join('/');\n",
       "} else {\n",
       "    var baseURL = JSON.parse(\n",
       "        document.getElementById('jupyter-config-data').innerHTML\n",
       "    ).baseUrl.slice(0, -1);\n",
       "}\n",
       "url = baseURL + url;\n",
       "fetch(url).then(function(res) {\n",
       "    if (res.status === 404) {\n",
       "        div.innerHTML = 'Install QIIME 2 Jupyter extension with:<br />' +\n",
       "                        '<code>jupyter serverextension enable --py qiime2' +\n",
       "                        ' --sys-prefix</code><br />then restart your server.' +\n",
       "                        '<br /><br />(Interactive output not available on ' +\n",
       "                        'static notebook viewer services like nbviewer.)';\n",
       "    } else if (res.status === 409) {\n",
       "        div.innerHTML = 'Visualization no longer in scope. Re-run this cell' +\n",
       "                        ' to see the visualization.';\n",
       "    } else if (res.ok) {\n",
       "        url = res.url;\n",
       "        div.innerHTML = '<iframe src=\\'' + url + '\\' style=\\'' +\n",
       "                        'width: 100%; height: 700px; border: 0;\\'>' +\n",
       "                        '</iframe><hr />Open in a: <a href=\\'' + url + '\\'' +\n",
       "                        ' target=\\'_blank\\'>new window</a>'\n",
       "    } else {\n",
       "        div.innerHTML = 'Something has gone wrong. Check notebook server for' +\n",
       "                        ' errors.';\n",
       "    }\n",
       "});\n",
       "})(this.parentElement, '/qiime2/redirect?location=/tmp/qiime2-archive-d8jwgck2')\" src=\"data:image/gif;base64,R0lGODlhAQABAIAAAP///wAAACH5BAEAAAAALAAAAAABAAEAAAICRAEAOw==\" /></div>"
      ],
      "text/plain": [
       "<visualization: Visualization uuid: 47771aa4-7c15-4f91-a633-89b5c906ffb8>"
      ]
     },
     "execution_count": 11,
     "metadata": {},
     "output_type": "execute_result"
    }
   ],
   "source": [
    "Visualization.load(f'{data_dir}/core_microbiota_neighbor_natural.qzv')"
   ]
  },
  {
   "cell_type": "code",
   "execution_count": null,
   "id": "bdeed491-aeb0-4679-9af7-2ecfa0544ce5",
   "metadata": {},
   "outputs": [],
   "source": []
  },
  {
   "cell_type": "markdown",
   "id": "39874416-1e96-4490-a420-1f6475cea9dc",
   "metadata": {},
   "source": [
    "##### Find core features of neighboring cheeses with washed rindtype:"
   ]
  },
  {
   "cell_type": "code",
   "execution_count": 12,
   "id": "1937d179-2f6b-4527-b327-4c68663867e5",
   "metadata": {},
   "outputs": [
    {
     "name": "stdout",
     "output_type": "stream",
     "text": [
      "\u001b[32mSaved FeatureTable[Frequency] to: CE/feature_table_neighbor_washed.qza\u001b[0m\n",
      "\u001b[0m"
     ]
    }
   ],
   "source": [
    "! qiime feature-table filter-samples \\\n",
    "--i-table $data_dir/feature_table_neighbor.qza \\\n",
    "--m-metadata-file $data_dir/food-metadata.tsv \\\n",
    "--p-where \"[rindtype]='washed'\"\\\n",
    "--o-filtered-table $data_dir/feature_table_neighbor_washed.qza"
   ]
  },
  {
   "cell_type": "code",
   "execution_count": 13,
   "id": "9f945625-e311-4547-aefc-5045950dd5b9",
   "metadata": {},
   "outputs": [
    {
     "name": "stdout",
     "output_type": "stream",
     "text": [
      "\u001b[32mSaved Visualization to: CE/core_microbiota_neighbor_washed.qzv\u001b[0m\n",
      "\u001b[0m"
     ]
    }
   ],
   "source": [
    "! qiime feature-table core-features \\\n",
    "--i-table $data_dir/feature_table_neighbor_washed.qza \\\n",
    "--p-min-fraction 0.7 \\\n",
    "--p-steps 10 \\\n",
    "--o-visualization $data_dir/core_microbiota_neighbor_washed.qzv"
   ]
  },
  {
   "cell_type": "code",
   "execution_count": 14,
   "id": "4f05f3d5-5ddc-4fa5-b497-4076bc45a137",
   "metadata": {},
   "outputs": [
    {
     "data": {
      "text/html": [
       "<div><img onload=\"(function(div, url){\n",
       "if (typeof require !== 'undefined') {\n",
       "    var baseURL = require.toUrl('').split('/').slice(0, -2).join('/');\n",
       "} else {\n",
       "    var baseURL = JSON.parse(\n",
       "        document.getElementById('jupyter-config-data').innerHTML\n",
       "    ).baseUrl.slice(0, -1);\n",
       "}\n",
       "url = baseURL + url;\n",
       "fetch(url).then(function(res) {\n",
       "    if (res.status === 404) {\n",
       "        div.innerHTML = 'Install QIIME 2 Jupyter extension with:<br />' +\n",
       "                        '<code>jupyter serverextension enable --py qiime2' +\n",
       "                        ' --sys-prefix</code><br />then restart your server.' +\n",
       "                        '<br /><br />(Interactive output not available on ' +\n",
       "                        'static notebook viewer services like nbviewer.)';\n",
       "    } else if (res.status === 409) {\n",
       "        div.innerHTML = 'Visualization no longer in scope. Re-run this cell' +\n",
       "                        ' to see the visualization.';\n",
       "    } else if (res.ok) {\n",
       "        url = res.url;\n",
       "        div.innerHTML = '<iframe src=\\'' + url + '\\' style=\\'' +\n",
       "                        'width: 100%; height: 700px; border: 0;\\'>' +\n",
       "                        '</iframe><hr />Open in a: <a href=\\'' + url + '\\'' +\n",
       "                        ' target=\\'_blank\\'>new window</a>'\n",
       "    } else {\n",
       "        div.innerHTML = 'Something has gone wrong. Check notebook server for' +\n",
       "                        ' errors.';\n",
       "    }\n",
       "});\n",
       "})(this.parentElement, '/qiime2/redirect?location=/tmp/qiime2-archive-h3e88puk')\" src=\"data:image/gif;base64,R0lGODlhAQABAIAAAP///wAAACH5BAEAAAAALAAAAAABAAEAAAICRAEAOw==\" /></div>"
      ],
      "text/plain": [
       "<visualization: Visualization uuid: 5e1ee043-7a3f-4463-9251-cfe0547b8c06>"
      ]
     },
     "execution_count": 14,
     "metadata": {},
     "output_type": "execute_result"
    }
   ],
   "source": [
    "Visualization.load(f'{data_dir}/core_microbiota_neighbor_washed.qzv')"
   ]
  },
  {
   "cell_type": "markdown",
   "id": "c2925714-d2e2-43f2-ab10-4a62f36befac",
   "metadata": {},
   "source": [
    "##### Find core features of neighboring cheeses with alpine style:"
   ]
  },
  {
   "cell_type": "code",
   "execution_count": 15,
   "id": "c2cf8fd0-e925-4d88-b331-0d4574aaf498",
   "metadata": {},
   "outputs": [
    {
     "name": "stdout",
     "output_type": "stream",
     "text": [
      "\u001b[32mSaved FeatureTable[Frequency] to: CE/feature_table_neighbor_alpine.qza\u001b[0m\n",
      "\u001b[0m"
     ]
    }
   ],
   "source": [
    "! qiime feature-table filter-samples \\\n",
    "--i-table $data_dir/feature_table_neighbor.qza \\\n",
    "--m-metadata-file $data_dir/food-metadata.tsv \\\n",
    "--p-where \"[style]='alpine'\"\\\n",
    "--o-filtered-table $data_dir/feature_table_neighbor_alpine.qza"
   ]
  },
  {
   "cell_type": "code",
   "execution_count": 17,
   "id": "7f40fd36-4002-4304-90a0-9911525c7cab",
   "metadata": {},
   "outputs": [
    {
     "name": "stdout",
     "output_type": "stream",
     "text": [
      "\u001b[32mSaved Visualization to: CE/core_microbiota_neighbor_alpine.qzv\u001b[0m\n",
      "\u001b[0m"
     ]
    }
   ],
   "source": [
    "! qiime feature-table core-features \\\n",
    "--i-table $data_dir/feature_table_neighbor_alpine.qza \\\n",
    "--p-min-fraction 0.7 \\\n",
    "--p-steps 10 \\\n",
    "--o-visualization $data_dir/core_microbiota_neighbor_alpine.qzv"
   ]
  },
  {
   "cell_type": "code",
   "execution_count": 18,
   "id": "a7aa6691-3864-4ce0-a967-ee00bf353f1c",
   "metadata": {
    "tags": []
   },
   "outputs": [
    {
     "data": {
      "text/html": [
       "<div><img onload=\"(function(div, url){\n",
       "if (typeof require !== 'undefined') {\n",
       "    var baseURL = require.toUrl('').split('/').slice(0, -2).join('/');\n",
       "} else {\n",
       "    var baseURL = JSON.parse(\n",
       "        document.getElementById('jupyter-config-data').innerHTML\n",
       "    ).baseUrl.slice(0, -1);\n",
       "}\n",
       "url = baseURL + url;\n",
       "fetch(url).then(function(res) {\n",
       "    if (res.status === 404) {\n",
       "        div.innerHTML = 'Install QIIME 2 Jupyter extension with:<br />' +\n",
       "                        '<code>jupyter serverextension enable --py qiime2' +\n",
       "                        ' --sys-prefix</code><br />then restart your server.' +\n",
       "                        '<br /><br />(Interactive output not available on ' +\n",
       "                        'static notebook viewer services like nbviewer.)';\n",
       "    } else if (res.status === 409) {\n",
       "        div.innerHTML = 'Visualization no longer in scope. Re-run this cell' +\n",
       "                        ' to see the visualization.';\n",
       "    } else if (res.ok) {\n",
       "        url = res.url;\n",
       "        div.innerHTML = '<iframe src=\\'' + url + '\\' style=\\'' +\n",
       "                        'width: 100%; height: 700px; border: 0;\\'>' +\n",
       "                        '</iframe><hr />Open in a: <a href=\\'' + url + '\\'' +\n",
       "                        ' target=\\'_blank\\'>new window</a>'\n",
       "    } else {\n",
       "        div.innerHTML = 'Something has gone wrong. Check notebook server for' +\n",
       "                        ' errors.';\n",
       "    }\n",
       "});\n",
       "})(this.parentElement, '/qiime2/redirect?location=/tmp/qiime2-archive-tn0l2ty_')\" src=\"data:image/gif;base64,R0lGODlhAQABAIAAAP///wAAACH5BAEAAAAALAAAAAABAAEAAAICRAEAOw==\" /></div>"
      ],
      "text/plain": [
       "<visualization: Visualization uuid: 3bbf8d36-bd11-4227-9a8a-4693b8b7f4e9>"
      ]
     },
     "execution_count": 18,
     "metadata": {},
     "output_type": "execute_result"
    }
   ],
   "source": [
    "Visualization.load(f'{data_dir}/core_microbiota_neighbor_alpine.qzv')"
   ]
  },
  {
   "cell_type": "markdown",
   "id": "9b423938-a9f7-4c93-a73a-0a20b0bac984",
   "metadata": {},
   "source": [
    "### 5) Compare results of core features of CH cheeses with similar cheeses from neighboring countries"
   ]
  },
  {
   "cell_type": "markdown",
   "id": "c2d60112-5c83-443a-9c3d-64b38b5d6793",
   "metadata": {},
   "source": [
    "##### Cheeses with natural rindtype"
   ]
  },
  {
   "cell_type": "markdown",
   "id": "bd012ebd-8f41-46a3-bbbd-172ba57faeb2",
   "metadata": {},
   "source": [
    "Download of tsv files with core features (fraction of samples = 0.7)"
   ]
  },
  {
   "cell_type": "code",
   "execution_count": 20,
   "id": "b05f6946-e22a-4a7a-b596-7f356fe3cb30",
   "metadata": {},
   "outputs": [
    {
     "name": "stdout",
     "output_type": "stream",
     "text": [
      "2022-12-12 10:56:55 URL:https://polybox.ethz.ch/index.php/s/5ZVUmvDoy1VBTAx/download [2688/2688] -> \"CE/core_microbiota_list_ch_natural.tsv\" [1]\n"
     ]
    }
   ],
   "source": [
    "! wget -nv -O $data_dir/core_microbiota_list_ch_natural.tsv 'https://polybox.ethz.ch/index.php/s/5ZVUmvDoy1VBTAx/download'"
   ]
  },
  {
   "cell_type": "code",
   "execution_count": 21,
   "id": "451fc50c-cae2-420b-b028-272fcae6d3ea",
   "metadata": {},
   "outputs": [
    {
     "name": "stdout",
     "output_type": "stream",
     "text": [
      "2022-12-12 10:57:38 URL:https://polybox.ethz.ch/index.php/s/cAEL47rLr8ELoV5/download [1254/1254] -> \"CE/core_microbiota_list_neighbor_natural.tsv\" [1]\n"
     ]
    }
   ],
   "source": [
    "! wget -nv -O $data_dir/core_microbiota_list_neighbor_natural.tsv 'https://polybox.ethz.ch/index.php/s/cAEL47rLr8ELoV5/download'"
   ]
  },
  {
   "cell_type": "markdown",
   "id": "bb1cf4b5-de41-4bfa-b381-03710b36309d",
   "metadata": {},
   "source": [
    "Read tsv files into pandas dataframe:"
   ]
  },
  {
   "cell_type": "code",
   "execution_count": 38,
   "id": "642c6021-7dc8-402e-a88b-290e10927387",
   "metadata": {},
   "outputs": [
    {
     "data": {
      "text/html": [
       "<div>\n",
       "<style scoped>\n",
       "    .dataframe tbody tr th:only-of-type {\n",
       "        vertical-align: middle;\n",
       "    }\n",
       "\n",
       "    .dataframe tbody tr th {\n",
       "        vertical-align: top;\n",
       "    }\n",
       "\n",
       "    .dataframe thead th {\n",
       "        text-align: right;\n",
       "    }\n",
       "</style>\n",
       "<table border=\"1\" class=\"dataframe\">\n",
       "  <thead>\n",
       "    <tr style=\"text-align: right;\">\n",
       "      <th></th>\n",
       "      <th>2%</th>\n",
       "      <th>9%</th>\n",
       "      <th>25%</th>\n",
       "      <th>50%</th>\n",
       "      <th>75%</th>\n",
       "      <th>91%</th>\n",
       "      <th>98%</th>\n",
       "    </tr>\n",
       "    <tr>\n",
       "      <th>Feature ID</th>\n",
       "      <th></th>\n",
       "      <th></th>\n",
       "      <th></th>\n",
       "      <th></th>\n",
       "      <th></th>\n",
       "      <th></th>\n",
       "      <th></th>\n",
       "    </tr>\n",
       "  </thead>\n",
       "  <tbody>\n",
       "    <tr>\n",
       "      <th>56e99d7158115760f6283fb65ab29bd0</th>\n",
       "      <td>8279.24</td>\n",
       "      <td>8402.58</td>\n",
       "      <td>8684.5</td>\n",
       "      <td>9125.0</td>\n",
       "      <td>10451.0</td>\n",
       "      <td>11299.64</td>\n",
       "      <td>11670.92</td>\n",
       "    </tr>\n",
       "    <tr>\n",
       "      <th>f50c8ae2717bb99c926c4ab1f2a6135c</th>\n",
       "      <td>2336.28</td>\n",
       "      <td>2589.26</td>\n",
       "      <td>3167.5</td>\n",
       "      <td>4071.0</td>\n",
       "      <td>5264.5</td>\n",
       "      <td>6028.34</td>\n",
       "      <td>6362.52</td>\n",
       "    </tr>\n",
       "    <tr>\n",
       "      <th>da95b61897d9c6cd8b79f052d26a7985</th>\n",
       "      <td>1653.60</td>\n",
       "      <td>1799.20</td>\n",
       "      <td>2132.0</td>\n",
       "      <td>2652.0</td>\n",
       "      <td>2731.0</td>\n",
       "      <td>2781.56</td>\n",
       "      <td>2803.68</td>\n",
       "    </tr>\n",
       "    <tr>\n",
       "      <th>2984a873cf9373de5425dd5b5b96c232</th>\n",
       "      <td>360.48</td>\n",
       "      <td>432.16</td>\n",
       "      <td>596.0</td>\n",
       "      <td>852.0</td>\n",
       "      <td>1219.0</td>\n",
       "      <td>1453.88</td>\n",
       "      <td>1556.64</td>\n",
       "    </tr>\n",
       "    <tr>\n",
       "      <th>555d9af32f8865d0125fd551a12bebe8</th>\n",
       "      <td>358.72</td>\n",
       "      <td>382.24</td>\n",
       "      <td>436.0</td>\n",
       "      <td>520.0</td>\n",
       "      <td>535.5</td>\n",
       "      <td>545.42</td>\n",
       "      <td>549.76</td>\n",
       "    </tr>\n",
       "    <tr>\n",
       "      <th>398e906d9ad1914eb268fda5c7453e09</th>\n",
       "      <td>120.92</td>\n",
       "      <td>152.14</td>\n",
       "      <td>223.5</td>\n",
       "      <td>335.0</td>\n",
       "      <td>508.0</td>\n",
       "      <td>618.72</td>\n",
       "      <td>667.16</td>\n",
       "    </tr>\n",
       "    <tr>\n",
       "      <th>805c1b3ec3035abbb7b9f1f7f6157e12</th>\n",
       "      <td>189.60</td>\n",
       "      <td>202.20</td>\n",
       "      <td>231.0</td>\n",
       "      <td>276.0</td>\n",
       "      <td>467.0</td>\n",
       "      <td>589.24</td>\n",
       "      <td>642.72</td>\n",
       "    </tr>\n",
       "    <tr>\n",
       "      <th>d8805a58ee0553d4947a5697b758f581</th>\n",
       "      <td>111.68</td>\n",
       "      <td>135.06</td>\n",
       "      <td>188.5</td>\n",
       "      <td>272.0</td>\n",
       "      <td>501.5</td>\n",
       "      <td>648.38</td>\n",
       "      <td>712.64</td>\n",
       "    </tr>\n",
       "    <tr>\n",
       "      <th>72497fd9ff5f5766cd19190f290898ce</th>\n",
       "      <td>160.56</td>\n",
       "      <td>169.52</td>\n",
       "      <td>190.0</td>\n",
       "      <td>222.0</td>\n",
       "      <td>305.5</td>\n",
       "      <td>358.94</td>\n",
       "      <td>382.32</td>\n",
       "    </tr>\n",
       "    <tr>\n",
       "      <th>f333019d07b48493533c61f9d5749496</th>\n",
       "      <td>76.48</td>\n",
       "      <td>95.66</td>\n",
       "      <td>139.5</td>\n",
       "      <td>208.0</td>\n",
       "      <td>286.0</td>\n",
       "      <td>335.92</td>\n",
       "      <td>357.76</td>\n",
       "    </tr>\n",
       "    <tr>\n",
       "      <th>a0dac4c840defb0020a5c9657365dd99</th>\n",
       "      <td>184.52</td>\n",
       "      <td>186.34</td>\n",
       "      <td>190.5</td>\n",
       "      <td>197.0</td>\n",
       "      <td>327.0</td>\n",
       "      <td>410.20</td>\n",
       "      <td>446.60</td>\n",
       "    </tr>\n",
       "    <tr>\n",
       "      <th>7b10873b7d51a99a6e8446ff045acf3a</th>\n",
       "      <td>173.72</td>\n",
       "      <td>176.24</td>\n",
       "      <td>182.0</td>\n",
       "      <td>191.0</td>\n",
       "      <td>318.5</td>\n",
       "      <td>400.10</td>\n",
       "      <td>435.80</td>\n",
       "    </tr>\n",
       "    <tr>\n",
       "      <th>0f47f1d604a3c0c66dd7a771668df459</th>\n",
       "      <td>182.32</td>\n",
       "      <td>183.44</td>\n",
       "      <td>186.0</td>\n",
       "      <td>190.0</td>\n",
       "      <td>258.0</td>\n",
       "      <td>301.52</td>\n",
       "      <td>320.56</td>\n",
       "    </tr>\n",
       "    <tr>\n",
       "      <th>5bf8c20d23de8e5e1721cdfe2911459e</th>\n",
       "      <td>80.32</td>\n",
       "      <td>95.44</td>\n",
       "      <td>130.0</td>\n",
       "      <td>184.0</td>\n",
       "      <td>218.5</td>\n",
       "      <td>240.58</td>\n",
       "      <td>250.24</td>\n",
       "    </tr>\n",
       "    <tr>\n",
       "      <th>441b7c53469544dbeae72389a9787390</th>\n",
       "      <td>143.64</td>\n",
       "      <td>149.38</td>\n",
       "      <td>162.5</td>\n",
       "      <td>183.0</td>\n",
       "      <td>222.0</td>\n",
       "      <td>246.96</td>\n",
       "      <td>257.88</td>\n",
       "    </tr>\n",
       "    <tr>\n",
       "      <th>0769e96e771f360070592e2ee349c0cd</th>\n",
       "      <td>67.40</td>\n",
       "      <td>82.80</td>\n",
       "      <td>118.0</td>\n",
       "      <td>173.0</td>\n",
       "      <td>173.5</td>\n",
       "      <td>173.82</td>\n",
       "      <td>173.96</td>\n",
       "    </tr>\n",
       "    <tr>\n",
       "      <th>e635cb5eebb6b600ebcefa17f22ec894</th>\n",
       "      <td>116.32</td>\n",
       "      <td>124.44</td>\n",
       "      <td>143.0</td>\n",
       "      <td>172.0</td>\n",
       "      <td>195.5</td>\n",
       "      <td>210.54</td>\n",
       "      <td>217.12</td>\n",
       "    </tr>\n",
       "    <tr>\n",
       "      <th>e1cafc36b65b17e4fde098189e9b7c7c</th>\n",
       "      <td>28.40</td>\n",
       "      <td>47.30</td>\n",
       "      <td>90.5</td>\n",
       "      <td>158.0</td>\n",
       "      <td>171.5</td>\n",
       "      <td>180.14</td>\n",
       "      <td>183.92</td>\n",
       "    </tr>\n",
       "    <tr>\n",
       "      <th>b337f2e46ccdd308f177fd7044a444d3</th>\n",
       "      <td>91.44</td>\n",
       "      <td>96.48</td>\n",
       "      <td>108.0</td>\n",
       "      <td>126.0</td>\n",
       "      <td>703.5</td>\n",
       "      <td>1073.10</td>\n",
       "      <td>1234.80</td>\n",
       "    </tr>\n",
       "    <tr>\n",
       "      <th>0e0c3a6a9489f3439329d12d76275100</th>\n",
       "      <td>38.88</td>\n",
       "      <td>48.96</td>\n",
       "      <td>72.0</td>\n",
       "      <td>108.0</td>\n",
       "      <td>109.5</td>\n",
       "      <td>110.46</td>\n",
       "      <td>110.88</td>\n",
       "    </tr>\n",
       "    <tr>\n",
       "      <th>fc66fe0b594ad8931d4f8bdf18731c26</th>\n",
       "      <td>98.32</td>\n",
       "      <td>99.44</td>\n",
       "      <td>102.0</td>\n",
       "      <td>106.0</td>\n",
       "      <td>145.0</td>\n",
       "      <td>169.96</td>\n",
       "      <td>180.88</td>\n",
       "    </tr>\n",
       "    <tr>\n",
       "      <th>62d7d9dfb3dd733848ca7f122682db19</th>\n",
       "      <td>79.08</td>\n",
       "      <td>82.86</td>\n",
       "      <td>91.5</td>\n",
       "      <td>105.0</td>\n",
       "      <td>725.5</td>\n",
       "      <td>1122.62</td>\n",
       "      <td>1296.36</td>\n",
       "    </tr>\n",
       "    <tr>\n",
       "      <th>9a74ef4eb43224ae3c9d2056d0c98b8c</th>\n",
       "      <td>54.36</td>\n",
       "      <td>55.62</td>\n",
       "      <td>58.5</td>\n",
       "      <td>63.0</td>\n",
       "      <td>83.0</td>\n",
       "      <td>95.80</td>\n",
       "      <td>101.40</td>\n",
       "    </tr>\n",
       "    <tr>\n",
       "      <th>6f99fd9401c87bbf1419eecb9c1a1ce4</th>\n",
       "      <td>30.48</td>\n",
       "      <td>32.16</td>\n",
       "      <td>36.0</td>\n",
       "      <td>42.0</td>\n",
       "      <td>70.0</td>\n",
       "      <td>87.92</td>\n",
       "      <td>95.76</td>\n",
       "    </tr>\n",
       "    <tr>\n",
       "      <th>31cd92c38c20c5bdc0ee41c84ff35fb7</th>\n",
       "      <td>16.72</td>\n",
       "      <td>19.24</td>\n",
       "      <td>25.0</td>\n",
       "      <td>34.0</td>\n",
       "      <td>100.0</td>\n",
       "      <td>142.24</td>\n",
       "      <td>160.72</td>\n",
       "    </tr>\n",
       "    <tr>\n",
       "      <th>b336eaa9b927260225653a34df7b0298</th>\n",
       "      <td>17.68</td>\n",
       "      <td>20.06</td>\n",
       "      <td>25.5</td>\n",
       "      <td>34.0</td>\n",
       "      <td>53.5</td>\n",
       "      <td>65.98</td>\n",
       "      <td>71.44</td>\n",
       "    </tr>\n",
       "    <tr>\n",
       "      <th>369232e1ac9f9983056d09b9fe866df5</th>\n",
       "      <td>15.52</td>\n",
       "      <td>17.34</td>\n",
       "      <td>21.5</td>\n",
       "      <td>28.0</td>\n",
       "      <td>40.5</td>\n",
       "      <td>48.50</td>\n",
       "      <td>52.00</td>\n",
       "    </tr>\n",
       "    <tr>\n",
       "      <th>00a1d6c48ac28dda8c16227cd103edce</th>\n",
       "      <td>24.16</td>\n",
       "      <td>24.72</td>\n",
       "      <td>26.0</td>\n",
       "      <td>28.0</td>\n",
       "      <td>42.5</td>\n",
       "      <td>51.78</td>\n",
       "      <td>55.84</td>\n",
       "    </tr>\n",
       "    <tr>\n",
       "      <th>e49fc9f44192dc6e582205d6390e2a0a</th>\n",
       "      <td>12.60</td>\n",
       "      <td>14.70</td>\n",
       "      <td>19.5</td>\n",
       "      <td>27.0</td>\n",
       "      <td>48.0</td>\n",
       "      <td>61.44</td>\n",
       "      <td>67.32</td>\n",
       "    </tr>\n",
       "    <tr>\n",
       "      <th>9e7ee3f56422a0dfdfbc57326af480b7</th>\n",
       "      <td>13.52</td>\n",
       "      <td>15.34</td>\n",
       "      <td>19.5</td>\n",
       "      <td>26.0</td>\n",
       "      <td>49.5</td>\n",
       "      <td>64.54</td>\n",
       "      <td>71.12</td>\n",
       "    </tr>\n",
       "    <tr>\n",
       "      <th>f4e8613f9838f4836f9e6982aca67355</th>\n",
       "      <td>24.04</td>\n",
       "      <td>24.18</td>\n",
       "      <td>24.5</td>\n",
       "      <td>25.0</td>\n",
       "      <td>32.5</td>\n",
       "      <td>37.30</td>\n",
       "      <td>39.40</td>\n",
       "    </tr>\n",
       "    <tr>\n",
       "      <th>5899b66b70d688d5cd95df5fc7a26e3a</th>\n",
       "      <td>11.04</td>\n",
       "      <td>11.18</td>\n",
       "      <td>11.5</td>\n",
       "      <td>12.0</td>\n",
       "      <td>35.0</td>\n",
       "      <td>49.72</td>\n",
       "      <td>56.16</td>\n",
       "    </tr>\n",
       "    <tr>\n",
       "      <th>73ec9bad32b4acb6daf20abbf1347cc3</th>\n",
       "      <td>9.00</td>\n",
       "      <td>9.00</td>\n",
       "      <td>9.0</td>\n",
       "      <td>9.0</td>\n",
       "      <td>13.5</td>\n",
       "      <td>16.38</td>\n",
       "      <td>17.64</td>\n",
       "    </tr>\n",
       "  </tbody>\n",
       "</table>\n",
       "</div>"
      ],
      "text/plain": [
       "                                       2%       9%     25%     50%      75%  \\\n",
       "Feature ID                                                                    \n",
       "56e99d7158115760f6283fb65ab29bd0  8279.24  8402.58  8684.5  9125.0  10451.0   \n",
       "f50c8ae2717bb99c926c4ab1f2a6135c  2336.28  2589.26  3167.5  4071.0   5264.5   \n",
       "da95b61897d9c6cd8b79f052d26a7985  1653.60  1799.20  2132.0  2652.0   2731.0   \n",
       "2984a873cf9373de5425dd5b5b96c232   360.48   432.16   596.0   852.0   1219.0   \n",
       "555d9af32f8865d0125fd551a12bebe8   358.72   382.24   436.0   520.0    535.5   \n",
       "398e906d9ad1914eb268fda5c7453e09   120.92   152.14   223.5   335.0    508.0   \n",
       "805c1b3ec3035abbb7b9f1f7f6157e12   189.60   202.20   231.0   276.0    467.0   \n",
       "d8805a58ee0553d4947a5697b758f581   111.68   135.06   188.5   272.0    501.5   \n",
       "72497fd9ff5f5766cd19190f290898ce   160.56   169.52   190.0   222.0    305.5   \n",
       "f333019d07b48493533c61f9d5749496    76.48    95.66   139.5   208.0    286.0   \n",
       "a0dac4c840defb0020a5c9657365dd99   184.52   186.34   190.5   197.0    327.0   \n",
       "7b10873b7d51a99a6e8446ff045acf3a   173.72   176.24   182.0   191.0    318.5   \n",
       "0f47f1d604a3c0c66dd7a771668df459   182.32   183.44   186.0   190.0    258.0   \n",
       "5bf8c20d23de8e5e1721cdfe2911459e    80.32    95.44   130.0   184.0    218.5   \n",
       "441b7c53469544dbeae72389a9787390   143.64   149.38   162.5   183.0    222.0   \n",
       "0769e96e771f360070592e2ee349c0cd    67.40    82.80   118.0   173.0    173.5   \n",
       "e635cb5eebb6b600ebcefa17f22ec894   116.32   124.44   143.0   172.0    195.5   \n",
       "e1cafc36b65b17e4fde098189e9b7c7c    28.40    47.30    90.5   158.0    171.5   \n",
       "b337f2e46ccdd308f177fd7044a444d3    91.44    96.48   108.0   126.0    703.5   \n",
       "0e0c3a6a9489f3439329d12d76275100    38.88    48.96    72.0   108.0    109.5   \n",
       "fc66fe0b594ad8931d4f8bdf18731c26    98.32    99.44   102.0   106.0    145.0   \n",
       "62d7d9dfb3dd733848ca7f122682db19    79.08    82.86    91.5   105.0    725.5   \n",
       "9a74ef4eb43224ae3c9d2056d0c98b8c    54.36    55.62    58.5    63.0     83.0   \n",
       "6f99fd9401c87bbf1419eecb9c1a1ce4    30.48    32.16    36.0    42.0     70.0   \n",
       "31cd92c38c20c5bdc0ee41c84ff35fb7    16.72    19.24    25.0    34.0    100.0   \n",
       "b336eaa9b927260225653a34df7b0298    17.68    20.06    25.5    34.0     53.5   \n",
       "369232e1ac9f9983056d09b9fe866df5    15.52    17.34    21.5    28.0     40.5   \n",
       "00a1d6c48ac28dda8c16227cd103edce    24.16    24.72    26.0    28.0     42.5   \n",
       "e49fc9f44192dc6e582205d6390e2a0a    12.60    14.70    19.5    27.0     48.0   \n",
       "9e7ee3f56422a0dfdfbc57326af480b7    13.52    15.34    19.5    26.0     49.5   \n",
       "f4e8613f9838f4836f9e6982aca67355    24.04    24.18    24.5    25.0     32.5   \n",
       "5899b66b70d688d5cd95df5fc7a26e3a    11.04    11.18    11.5    12.0     35.0   \n",
       "73ec9bad32b4acb6daf20abbf1347cc3     9.00     9.00     9.0     9.0     13.5   \n",
       "\n",
       "                                       91%       98%  \n",
       "Feature ID                                            \n",
       "56e99d7158115760f6283fb65ab29bd0  11299.64  11670.92  \n",
       "f50c8ae2717bb99c926c4ab1f2a6135c   6028.34   6362.52  \n",
       "da95b61897d9c6cd8b79f052d26a7985   2781.56   2803.68  \n",
       "2984a873cf9373de5425dd5b5b96c232   1453.88   1556.64  \n",
       "555d9af32f8865d0125fd551a12bebe8    545.42    549.76  \n",
       "398e906d9ad1914eb268fda5c7453e09    618.72    667.16  \n",
       "805c1b3ec3035abbb7b9f1f7f6157e12    589.24    642.72  \n",
       "d8805a58ee0553d4947a5697b758f581    648.38    712.64  \n",
       "72497fd9ff5f5766cd19190f290898ce    358.94    382.32  \n",
       "f333019d07b48493533c61f9d5749496    335.92    357.76  \n",
       "a0dac4c840defb0020a5c9657365dd99    410.20    446.60  \n",
       "7b10873b7d51a99a6e8446ff045acf3a    400.10    435.80  \n",
       "0f47f1d604a3c0c66dd7a771668df459    301.52    320.56  \n",
       "5bf8c20d23de8e5e1721cdfe2911459e    240.58    250.24  \n",
       "441b7c53469544dbeae72389a9787390    246.96    257.88  \n",
       "0769e96e771f360070592e2ee349c0cd    173.82    173.96  \n",
       "e635cb5eebb6b600ebcefa17f22ec894    210.54    217.12  \n",
       "e1cafc36b65b17e4fde098189e9b7c7c    180.14    183.92  \n",
       "b337f2e46ccdd308f177fd7044a444d3   1073.10   1234.80  \n",
       "0e0c3a6a9489f3439329d12d76275100    110.46    110.88  \n",
       "fc66fe0b594ad8931d4f8bdf18731c26    169.96    180.88  \n",
       "62d7d9dfb3dd733848ca7f122682db19   1122.62   1296.36  \n",
       "9a74ef4eb43224ae3c9d2056d0c98b8c     95.80    101.40  \n",
       "6f99fd9401c87bbf1419eecb9c1a1ce4     87.92     95.76  \n",
       "31cd92c38c20c5bdc0ee41c84ff35fb7    142.24    160.72  \n",
       "b336eaa9b927260225653a34df7b0298     65.98     71.44  \n",
       "369232e1ac9f9983056d09b9fe866df5     48.50     52.00  \n",
       "00a1d6c48ac28dda8c16227cd103edce     51.78     55.84  \n",
       "e49fc9f44192dc6e582205d6390e2a0a     61.44     67.32  \n",
       "9e7ee3f56422a0dfdfbc57326af480b7     64.54     71.12  \n",
       "f4e8613f9838f4836f9e6982aca67355     37.30     39.40  \n",
       "5899b66b70d688d5cd95df5fc7a26e3a     49.72     56.16  \n",
       "73ec9bad32b4acb6daf20abbf1347cc3     16.38     17.64  "
      ]
     },
     "execution_count": 38,
     "metadata": {},
     "output_type": "execute_result"
    }
   ],
   "source": [
    "#core features from CH cheeses with natural rindtype\n",
    "df_core_ch_nat = pd.read_csv(f'{data_dir}/core_microbiota_list_ch_natural.tsv', sep ='\\t')\n",
    "df_core_ch_nat.set_index('Feature ID', inplace = True)\n",
    "df_core_ch_nat"
   ]
  },
  {
   "cell_type": "code",
   "execution_count": 37,
   "id": "f3eadf26-b1d7-45d1-96b7-577559945aba",
   "metadata": {},
   "outputs": [
    {
     "data": {
      "text/html": [
       "<div>\n",
       "<style scoped>\n",
       "    .dataframe tbody tr th:only-of-type {\n",
       "        vertical-align: middle;\n",
       "    }\n",
       "\n",
       "    .dataframe tbody tr th {\n",
       "        vertical-align: top;\n",
       "    }\n",
       "\n",
       "    .dataframe thead th {\n",
       "        text-align: right;\n",
       "    }\n",
       "</style>\n",
       "<table border=\"1\" class=\"dataframe\">\n",
       "  <thead>\n",
       "    <tr style=\"text-align: right;\">\n",
       "      <th></th>\n",
       "      <th>2%</th>\n",
       "      <th>9%</th>\n",
       "      <th>25%</th>\n",
       "      <th>50%</th>\n",
       "      <th>75%</th>\n",
       "      <th>91%</th>\n",
       "      <th>98%</th>\n",
       "    </tr>\n",
       "    <tr>\n",
       "      <th>Feature ID</th>\n",
       "      <th></th>\n",
       "      <th></th>\n",
       "      <th></th>\n",
       "      <th></th>\n",
       "      <th></th>\n",
       "      <th></th>\n",
       "      <th></th>\n",
       "    </tr>\n",
       "  </thead>\n",
       "  <tbody>\n",
       "    <tr>\n",
       "      <th>f50c8ae2717bb99c926c4ab1f2a6135c</th>\n",
       "      <td>6.64</td>\n",
       "      <td>826.36</td>\n",
       "      <td>2701.0</td>\n",
       "      <td>6468.0</td>\n",
       "      <td>42234.5</td>\n",
       "      <td>73295.76</td>\n",
       "      <td>87862.36</td>\n",
       "    </tr>\n",
       "    <tr>\n",
       "      <th>805c1b3ec3035abbb7b9f1f7f6157e12</th>\n",
       "      <td>10.32</td>\n",
       "      <td>51.30</td>\n",
       "      <td>309.5</td>\n",
       "      <td>1154.0</td>\n",
       "      <td>9987.5</td>\n",
       "      <td>28792.58</td>\n",
       "      <td>99149.20</td>\n",
       "    </tr>\n",
       "    <tr>\n",
       "      <th>2984a873cf9373de5425dd5b5b96c232</th>\n",
       "      <td>0.00</td>\n",
       "      <td>11.18</td>\n",
       "      <td>272.0</td>\n",
       "      <td>900.0</td>\n",
       "      <td>7441.5</td>\n",
       "      <td>15498.76</td>\n",
       "      <td>31267.08</td>\n",
       "    </tr>\n",
       "    <tr>\n",
       "      <th>0f47f1d604a3c0c66dd7a771668df459</th>\n",
       "      <td>0.00</td>\n",
       "      <td>0.00</td>\n",
       "      <td>94.5</td>\n",
       "      <td>411.0</td>\n",
       "      <td>5131.5</td>\n",
       "      <td>17080.08</td>\n",
       "      <td>28580.32</td>\n",
       "    </tr>\n",
       "    <tr>\n",
       "      <th>8bd6e175eeb3db8a8390a55b78c8d176</th>\n",
       "      <td>0.00</td>\n",
       "      <td>0.00</td>\n",
       "      <td>32.5</td>\n",
       "      <td>150.0</td>\n",
       "      <td>1071.0</td>\n",
       "      <td>3957.90</td>\n",
       "      <td>9283.16</td>\n",
       "    </tr>\n",
       "    <tr>\n",
       "      <th>398e906d9ad1914eb268fda5c7453e09</th>\n",
       "      <td>0.16</td>\n",
       "      <td>3.00</td>\n",
       "      <td>10.5</td>\n",
       "      <td>125.0</td>\n",
       "      <td>2231.0</td>\n",
       "      <td>13013.56</td>\n",
       "      <td>39871.40</td>\n",
       "    </tr>\n",
       "    <tr>\n",
       "      <th>d8805a58ee0553d4947a5697b758f581</th>\n",
       "      <td>0.00</td>\n",
       "      <td>0.00</td>\n",
       "      <td>2.5</td>\n",
       "      <td>96.0</td>\n",
       "      <td>879.0</td>\n",
       "      <td>4468.80</td>\n",
       "      <td>13048.96</td>\n",
       "    </tr>\n",
       "    <tr>\n",
       "      <th>369232e1ac9f9983056d09b9fe866df5</th>\n",
       "      <td>0.00</td>\n",
       "      <td>4.86</td>\n",
       "      <td>18.0</td>\n",
       "      <td>87.0</td>\n",
       "      <td>396.0</td>\n",
       "      <td>780.26</td>\n",
       "      <td>1747.28</td>\n",
       "    </tr>\n",
       "    <tr>\n",
       "      <th>5899b66b70d688d5cd95df5fc7a26e3a</th>\n",
       "      <td>0.00</td>\n",
       "      <td>0.00</td>\n",
       "      <td>7.5</td>\n",
       "      <td>72.0</td>\n",
       "      <td>736.0</td>\n",
       "      <td>2659.36</td>\n",
       "      <td>3855.76</td>\n",
       "    </tr>\n",
       "    <tr>\n",
       "      <th>9e9ac50434879829e4bce8eeb1bc4f9c</th>\n",
       "      <td>0.00</td>\n",
       "      <td>0.00</td>\n",
       "      <td>9.0</td>\n",
       "      <td>68.0</td>\n",
       "      <td>298.0</td>\n",
       "      <td>978.32</td>\n",
       "      <td>2745.52</td>\n",
       "    </tr>\n",
       "    <tr>\n",
       "      <th>0e0c3a6a9489f3439329d12d76275100</th>\n",
       "      <td>0.00</td>\n",
       "      <td>0.00</td>\n",
       "      <td>0.0</td>\n",
       "      <td>49.0</td>\n",
       "      <td>813.0</td>\n",
       "      <td>3025.16</td>\n",
       "      <td>12405.36</td>\n",
       "    </tr>\n",
       "    <tr>\n",
       "      <th>56e99d7158115760f6283fb65ab29bd0</th>\n",
       "      <td>0.00</td>\n",
       "      <td>0.00</td>\n",
       "      <td>0.0</td>\n",
       "      <td>22.0</td>\n",
       "      <td>242.5</td>\n",
       "      <td>4305.00</td>\n",
       "      <td>9272.72</td>\n",
       "    </tr>\n",
       "    <tr>\n",
       "      <th>6e1f00f2ee8f22d23d526c42a7ef943b</th>\n",
       "      <td>0.00</td>\n",
       "      <td>0.00</td>\n",
       "      <td>0.0</td>\n",
       "      <td>17.0</td>\n",
       "      <td>122.5</td>\n",
       "      <td>626.58</td>\n",
       "      <td>1217.48</td>\n",
       "    </tr>\n",
       "  </tbody>\n",
       "</table>\n",
       "</div>"
      ],
      "text/plain": [
       "                                     2%      9%     25%     50%      75%  \\\n",
       "Feature ID                                                                 \n",
       "f50c8ae2717bb99c926c4ab1f2a6135c   6.64  826.36  2701.0  6468.0  42234.5   \n",
       "805c1b3ec3035abbb7b9f1f7f6157e12  10.32   51.30   309.5  1154.0   9987.5   \n",
       "2984a873cf9373de5425dd5b5b96c232   0.00   11.18   272.0   900.0   7441.5   \n",
       "0f47f1d604a3c0c66dd7a771668df459   0.00    0.00    94.5   411.0   5131.5   \n",
       "8bd6e175eeb3db8a8390a55b78c8d176   0.00    0.00    32.5   150.0   1071.0   \n",
       "398e906d9ad1914eb268fda5c7453e09   0.16    3.00    10.5   125.0   2231.0   \n",
       "d8805a58ee0553d4947a5697b758f581   0.00    0.00     2.5    96.0    879.0   \n",
       "369232e1ac9f9983056d09b9fe866df5   0.00    4.86    18.0    87.0    396.0   \n",
       "5899b66b70d688d5cd95df5fc7a26e3a   0.00    0.00     7.5    72.0    736.0   \n",
       "9e9ac50434879829e4bce8eeb1bc4f9c   0.00    0.00     9.0    68.0    298.0   \n",
       "0e0c3a6a9489f3439329d12d76275100   0.00    0.00     0.0    49.0    813.0   \n",
       "56e99d7158115760f6283fb65ab29bd0   0.00    0.00     0.0    22.0    242.5   \n",
       "6e1f00f2ee8f22d23d526c42a7ef943b   0.00    0.00     0.0    17.0    122.5   \n",
       "\n",
       "                                       91%       98%  \n",
       "Feature ID                                            \n",
       "f50c8ae2717bb99c926c4ab1f2a6135c  73295.76  87862.36  \n",
       "805c1b3ec3035abbb7b9f1f7f6157e12  28792.58  99149.20  \n",
       "2984a873cf9373de5425dd5b5b96c232  15498.76  31267.08  \n",
       "0f47f1d604a3c0c66dd7a771668df459  17080.08  28580.32  \n",
       "8bd6e175eeb3db8a8390a55b78c8d176   3957.90   9283.16  \n",
       "398e906d9ad1914eb268fda5c7453e09  13013.56  39871.40  \n",
       "d8805a58ee0553d4947a5697b758f581   4468.80  13048.96  \n",
       "369232e1ac9f9983056d09b9fe866df5    780.26   1747.28  \n",
       "5899b66b70d688d5cd95df5fc7a26e3a   2659.36   3855.76  \n",
       "9e9ac50434879829e4bce8eeb1bc4f9c    978.32   2745.52  \n",
       "0e0c3a6a9489f3439329d12d76275100   3025.16  12405.36  \n",
       "56e99d7158115760f6283fb65ab29bd0   4305.00   9272.72  \n",
       "6e1f00f2ee8f22d23d526c42a7ef943b    626.58   1217.48  "
      ]
     },
     "execution_count": 37,
     "metadata": {},
     "output_type": "execute_result"
    }
   ],
   "source": [
    "df_core_nei_nat = pd.read_csv(f'{data_dir}/core_microbiota_list_neighbor_natural.tsv', sep ='\\t')\n",
    "df_core_nei_nat.set_index('Feature ID', inplace = True)\n",
    "df_core_nei_nat"
   ]
  },
  {
   "cell_type": "markdown",
   "id": "7f1b4a64-6798-4250-bb05-56bd0bed3a96",
   "metadata": {},
   "source": [
    "Compare values between the two dataframes created above:"
   ]
  },
  {
   "cell_type": "code",
   "execution_count": 39,
   "id": "96f923ed-86e1-42f9-b47f-dd5c6bd10177",
   "metadata": {},
   "outputs": [
    {
     "ename": "ValueError",
     "evalue": "columns overlap but no suffix specified: Index(['2%', '9%', '25%', '50%', '75%', '91%', '98%'], dtype='object')",
     "output_type": "error",
     "traceback": [
      "\u001b[0;31m---------------------------------------------------------------------------\u001b[0m",
      "\u001b[0;31mValueError\u001b[0m                                Traceback (most recent call last)",
      "Input \u001b[0;32mIn [39]\u001b[0m, in \u001b[0;36m<cell line: 1>\u001b[0;34m()\u001b[0m\n\u001b[0;32m----> 1\u001b[0m joined_frame \u001b[38;5;241m=\u001b[39m \u001b[43mdf_core_ch_nat\u001b[49m\u001b[38;5;241;43m.\u001b[39;49m\u001b[43mjoin\u001b[49m\u001b[43m(\u001b[49m\u001b[43mdf_core_nei_nat\u001b[49m\u001b[43m,\u001b[49m\u001b[43m \u001b[49m\u001b[43mon\u001b[49m\u001b[38;5;241;43m=\u001b[39;49m\u001b[38;5;124;43m'\u001b[39;49m\u001b[38;5;124;43mFeature ID\u001b[39;49m\u001b[38;5;124;43m'\u001b[39;49m\u001b[43m,\u001b[49m\u001b[43m \u001b[49m\u001b[43mhow\u001b[49m\u001b[38;5;241;43m=\u001b[39;49m\u001b[38;5;124;43m\"\u001b[39;49m\u001b[38;5;124;43minner\u001b[39;49m\u001b[38;5;124;43m\"\u001b[39;49m\u001b[43m)\u001b[49m\n",
      "File \u001b[0;32m/opt/conda/lib/python3.8/site-packages/pandas/core/frame.py:8110\u001b[0m, in \u001b[0;36mDataFrame.join\u001b[0;34m(self, other, on, how, lsuffix, rsuffix, sort)\u001b[0m\n\u001b[1;32m   7990\u001b[0m \u001b[38;5;28;01mdef\u001b[39;00m \u001b[38;5;21mjoin\u001b[39m(\n\u001b[1;32m   7991\u001b[0m     \u001b[38;5;28mself\u001b[39m, other, on\u001b[38;5;241m=\u001b[39m\u001b[38;5;28;01mNone\u001b[39;00m, how\u001b[38;5;241m=\u001b[39m\u001b[38;5;124m\"\u001b[39m\u001b[38;5;124mleft\u001b[39m\u001b[38;5;124m\"\u001b[39m, lsuffix\u001b[38;5;241m=\u001b[39m\u001b[38;5;124m\"\u001b[39m\u001b[38;5;124m\"\u001b[39m, rsuffix\u001b[38;5;241m=\u001b[39m\u001b[38;5;124m\"\u001b[39m\u001b[38;5;124m\"\u001b[39m, sort\u001b[38;5;241m=\u001b[39m\u001b[38;5;28;01mFalse\u001b[39;00m\n\u001b[1;32m   7992\u001b[0m ) \u001b[38;5;241m-\u001b[39m\u001b[38;5;241m>\u001b[39m DataFrame:\n\u001b[1;32m   7993\u001b[0m     \u001b[38;5;124;03m\"\"\"\u001b[39;00m\n\u001b[1;32m   7994\u001b[0m \u001b[38;5;124;03m    Join columns of another DataFrame.\u001b[39;00m\n\u001b[1;32m   7995\u001b[0m \n\u001b[0;32m   (...)\u001b[0m\n\u001b[1;32m   8108\u001b[0m \u001b[38;5;124;03m    5  K5  A5  NaN\u001b[39;00m\n\u001b[1;32m   8109\u001b[0m \u001b[38;5;124;03m    \"\"\"\u001b[39;00m\n\u001b[0;32m-> 8110\u001b[0m     \u001b[38;5;28;01mreturn\u001b[39;00m \u001b[38;5;28;43mself\u001b[39;49m\u001b[38;5;241;43m.\u001b[39;49m\u001b[43m_join_compat\u001b[49m\u001b[43m(\u001b[49m\n\u001b[1;32m   8111\u001b[0m \u001b[43m        \u001b[49m\u001b[43mother\u001b[49m\u001b[43m,\u001b[49m\u001b[43m \u001b[49m\u001b[43mon\u001b[49m\u001b[38;5;241;43m=\u001b[39;49m\u001b[43mon\u001b[49m\u001b[43m,\u001b[49m\u001b[43m \u001b[49m\u001b[43mhow\u001b[49m\u001b[38;5;241;43m=\u001b[39;49m\u001b[43mhow\u001b[49m\u001b[43m,\u001b[49m\u001b[43m \u001b[49m\u001b[43mlsuffix\u001b[49m\u001b[38;5;241;43m=\u001b[39;49m\u001b[43mlsuffix\u001b[49m\u001b[43m,\u001b[49m\u001b[43m \u001b[49m\u001b[43mrsuffix\u001b[49m\u001b[38;5;241;43m=\u001b[39;49m\u001b[43mrsuffix\u001b[49m\u001b[43m,\u001b[49m\u001b[43m \u001b[49m\u001b[43msort\u001b[49m\u001b[38;5;241;43m=\u001b[39;49m\u001b[43msort\u001b[49m\n\u001b[1;32m   8112\u001b[0m \u001b[43m    \u001b[49m\u001b[43m)\u001b[49m\n",
      "File \u001b[0;32m/opt/conda/lib/python3.8/site-packages/pandas/core/frame.py:8135\u001b[0m, in \u001b[0;36mDataFrame._join_compat\u001b[0;34m(self, other, on, how, lsuffix, rsuffix, sort)\u001b[0m\n\u001b[1;32m   8126\u001b[0m     \u001b[38;5;28;01mif\u001b[39;00m how \u001b[38;5;241m==\u001b[39m \u001b[38;5;124m\"\u001b[39m\u001b[38;5;124mcross\u001b[39m\u001b[38;5;124m\"\u001b[39m:\n\u001b[1;32m   8127\u001b[0m         \u001b[38;5;28;01mreturn\u001b[39;00m merge(\n\u001b[1;32m   8128\u001b[0m             \u001b[38;5;28mself\u001b[39m,\n\u001b[1;32m   8129\u001b[0m             other,\n\u001b[0;32m   (...)\u001b[0m\n\u001b[1;32m   8133\u001b[0m             sort\u001b[38;5;241m=\u001b[39msort,\n\u001b[1;32m   8134\u001b[0m         )\n\u001b[0;32m-> 8135\u001b[0m     \u001b[38;5;28;01mreturn\u001b[39;00m \u001b[43mmerge\u001b[49m\u001b[43m(\u001b[49m\n\u001b[1;32m   8136\u001b[0m \u001b[43m        \u001b[49m\u001b[38;5;28;43mself\u001b[39;49m\u001b[43m,\u001b[49m\n\u001b[1;32m   8137\u001b[0m \u001b[43m        \u001b[49m\u001b[43mother\u001b[49m\u001b[43m,\u001b[49m\n\u001b[1;32m   8138\u001b[0m \u001b[43m        \u001b[49m\u001b[43mleft_on\u001b[49m\u001b[38;5;241;43m=\u001b[39;49m\u001b[43mon\u001b[49m\u001b[43m,\u001b[49m\n\u001b[1;32m   8139\u001b[0m \u001b[43m        \u001b[49m\u001b[43mhow\u001b[49m\u001b[38;5;241;43m=\u001b[39;49m\u001b[43mhow\u001b[49m\u001b[43m,\u001b[49m\n\u001b[1;32m   8140\u001b[0m \u001b[43m        \u001b[49m\u001b[43mleft_index\u001b[49m\u001b[38;5;241;43m=\u001b[39;49m\u001b[43mon\u001b[49m\u001b[43m \u001b[49m\u001b[38;5;129;43;01mis\u001b[39;49;00m\u001b[43m \u001b[49m\u001b[38;5;28;43;01mNone\u001b[39;49;00m\u001b[43m,\u001b[49m\n\u001b[1;32m   8141\u001b[0m \u001b[43m        \u001b[49m\u001b[43mright_index\u001b[49m\u001b[38;5;241;43m=\u001b[39;49m\u001b[38;5;28;43;01mTrue\u001b[39;49;00m\u001b[43m,\u001b[49m\n\u001b[1;32m   8142\u001b[0m \u001b[43m        \u001b[49m\u001b[43msuffixes\u001b[49m\u001b[38;5;241;43m=\u001b[39;49m\u001b[43m(\u001b[49m\u001b[43mlsuffix\u001b[49m\u001b[43m,\u001b[49m\u001b[43m \u001b[49m\u001b[43mrsuffix\u001b[49m\u001b[43m)\u001b[49m\u001b[43m,\u001b[49m\n\u001b[1;32m   8143\u001b[0m \u001b[43m        \u001b[49m\u001b[43msort\u001b[49m\u001b[38;5;241;43m=\u001b[39;49m\u001b[43msort\u001b[49m\u001b[43m,\u001b[49m\n\u001b[1;32m   8144\u001b[0m \u001b[43m    \u001b[49m\u001b[43m)\u001b[49m\n\u001b[1;32m   8145\u001b[0m \u001b[38;5;28;01melse\u001b[39;00m:\n\u001b[1;32m   8146\u001b[0m     \u001b[38;5;28;01mif\u001b[39;00m on \u001b[38;5;129;01mis\u001b[39;00m \u001b[38;5;129;01mnot\u001b[39;00m \u001b[38;5;28;01mNone\u001b[39;00m:\n",
      "File \u001b[0;32m/opt/conda/lib/python3.8/site-packages/pandas/core/reshape/merge.py:89\u001b[0m, in \u001b[0;36mmerge\u001b[0;34m(left, right, how, on, left_on, right_on, left_index, right_index, sort, suffixes, copy, indicator, validate)\u001b[0m\n\u001b[1;32m     57\u001b[0m \u001b[38;5;129m@Substitution\u001b[39m(\u001b[38;5;124m\"\u001b[39m\u001b[38;5;130;01m\\n\u001b[39;00m\u001b[38;5;124mleft : DataFrame\u001b[39m\u001b[38;5;124m\"\u001b[39m)\n\u001b[1;32m     58\u001b[0m \u001b[38;5;129m@Appender\u001b[39m(_merge_doc, indents\u001b[38;5;241m=\u001b[39m\u001b[38;5;241m0\u001b[39m)\n\u001b[1;32m     59\u001b[0m \u001b[38;5;28;01mdef\u001b[39;00m \u001b[38;5;21mmerge\u001b[39m(\n\u001b[0;32m   (...)\u001b[0m\n\u001b[1;32m     72\u001b[0m     validate\u001b[38;5;241m=\u001b[39m\u001b[38;5;28;01mNone\u001b[39;00m,\n\u001b[1;32m     73\u001b[0m ) \u001b[38;5;241m-\u001b[39m\u001b[38;5;241m>\u001b[39m \u001b[38;5;124m\"\u001b[39m\u001b[38;5;124mDataFrame\u001b[39m\u001b[38;5;124m\"\u001b[39m:\n\u001b[1;32m     74\u001b[0m     op \u001b[38;5;241m=\u001b[39m _MergeOperation(\n\u001b[1;32m     75\u001b[0m         left,\n\u001b[1;32m     76\u001b[0m         right,\n\u001b[0;32m   (...)\u001b[0m\n\u001b[1;32m     87\u001b[0m         validate\u001b[38;5;241m=\u001b[39mvalidate,\n\u001b[1;32m     88\u001b[0m     )\n\u001b[0;32m---> 89\u001b[0m     \u001b[38;5;28;01mreturn\u001b[39;00m \u001b[43mop\u001b[49m\u001b[38;5;241;43m.\u001b[39;49m\u001b[43mget_result\u001b[49m\u001b[43m(\u001b[49m\u001b[43m)\u001b[49m\n",
      "File \u001b[0;32m/opt/conda/lib/python3.8/site-packages/pandas/core/reshape/merge.py:686\u001b[0m, in \u001b[0;36m_MergeOperation.get_result\u001b[0;34m(self)\u001b[0m\n\u001b[1;32m    682\u001b[0m     \u001b[38;5;28mself\u001b[39m\u001b[38;5;241m.\u001b[39mleft, \u001b[38;5;28mself\u001b[39m\u001b[38;5;241m.\u001b[39mright \u001b[38;5;241m=\u001b[39m \u001b[38;5;28mself\u001b[39m\u001b[38;5;241m.\u001b[39m_indicator_pre_merge(\u001b[38;5;28mself\u001b[39m\u001b[38;5;241m.\u001b[39mleft, \u001b[38;5;28mself\u001b[39m\u001b[38;5;241m.\u001b[39mright)\n\u001b[1;32m    684\u001b[0m join_index, left_indexer, right_indexer \u001b[38;5;241m=\u001b[39m \u001b[38;5;28mself\u001b[39m\u001b[38;5;241m.\u001b[39m_get_join_info()\n\u001b[0;32m--> 686\u001b[0m llabels, rlabels \u001b[38;5;241m=\u001b[39m \u001b[43m_items_overlap_with_suffix\u001b[49m\u001b[43m(\u001b[49m\n\u001b[1;32m    687\u001b[0m \u001b[43m    \u001b[49m\u001b[38;5;28;43mself\u001b[39;49m\u001b[38;5;241;43m.\u001b[39;49m\u001b[43mleft\u001b[49m\u001b[38;5;241;43m.\u001b[39;49m\u001b[43m_info_axis\u001b[49m\u001b[43m,\u001b[49m\u001b[43m \u001b[49m\u001b[38;5;28;43mself\u001b[39;49m\u001b[38;5;241;43m.\u001b[39;49m\u001b[43mright\u001b[49m\u001b[38;5;241;43m.\u001b[39;49m\u001b[43m_info_axis\u001b[49m\u001b[43m,\u001b[49m\u001b[43m \u001b[49m\u001b[38;5;28;43mself\u001b[39;49m\u001b[38;5;241;43m.\u001b[39;49m\u001b[43msuffixes\u001b[49m\n\u001b[1;32m    688\u001b[0m \u001b[43m\u001b[49m\u001b[43m)\u001b[49m\n\u001b[1;32m    690\u001b[0m lindexers \u001b[38;5;241m=\u001b[39m {\u001b[38;5;241m1\u001b[39m: left_indexer} \u001b[38;5;28;01mif\u001b[39;00m left_indexer \u001b[38;5;129;01mis\u001b[39;00m \u001b[38;5;129;01mnot\u001b[39;00m \u001b[38;5;28;01mNone\u001b[39;00m \u001b[38;5;28;01melse\u001b[39;00m {}\n\u001b[1;32m    691\u001b[0m rindexers \u001b[38;5;241m=\u001b[39m {\u001b[38;5;241m1\u001b[39m: right_indexer} \u001b[38;5;28;01mif\u001b[39;00m right_indexer \u001b[38;5;129;01mis\u001b[39;00m \u001b[38;5;129;01mnot\u001b[39;00m \u001b[38;5;28;01mNone\u001b[39;00m \u001b[38;5;28;01melse\u001b[39;00m {}\n",
      "File \u001b[0;32m/opt/conda/lib/python3.8/site-packages/pandas/core/reshape/merge.py:2178\u001b[0m, in \u001b[0;36m_items_overlap_with_suffix\u001b[0;34m(left, right, suffixes)\u001b[0m\n\u001b[1;32m   2175\u001b[0m lsuffix, rsuffix \u001b[38;5;241m=\u001b[39m suffixes\n\u001b[1;32m   2177\u001b[0m \u001b[38;5;28;01mif\u001b[39;00m \u001b[38;5;129;01mnot\u001b[39;00m lsuffix \u001b[38;5;129;01mand\u001b[39;00m \u001b[38;5;129;01mnot\u001b[39;00m rsuffix:\n\u001b[0;32m-> 2178\u001b[0m     \u001b[38;5;28;01mraise\u001b[39;00m \u001b[38;5;167;01mValueError\u001b[39;00m(\u001b[38;5;124mf\u001b[39m\u001b[38;5;124m\"\u001b[39m\u001b[38;5;124mcolumns overlap but no suffix specified: \u001b[39m\u001b[38;5;132;01m{\u001b[39;00mto_rename\u001b[38;5;132;01m}\u001b[39;00m\u001b[38;5;124m\"\u001b[39m)\n\u001b[1;32m   2180\u001b[0m \u001b[38;5;28;01mdef\u001b[39;00m \u001b[38;5;21mrenamer\u001b[39m(x, suffix):\n\u001b[1;32m   2181\u001b[0m     \u001b[38;5;124;03m\"\"\"\u001b[39;00m\n\u001b[1;32m   2182\u001b[0m \u001b[38;5;124;03m    Rename the left and right indices.\u001b[39;00m\n\u001b[1;32m   2183\u001b[0m \n\u001b[0;32m   (...)\u001b[0m\n\u001b[1;32m   2194\u001b[0m \u001b[38;5;124;03m    x : renamed column name\u001b[39;00m\n\u001b[1;32m   2195\u001b[0m \u001b[38;5;124;03m    \"\"\"\u001b[39;00m\n",
      "\u001b[0;31mValueError\u001b[0m: columns overlap but no suffix specified: Index(['2%', '9%', '25%', '50%', '75%', '91%', '98%'], dtype='object')"
     ]
    }
   ],
   "source": [
    "joined_frame = df_core_ch_nat.join(df_core_nei_nat, on='Feature ID', how=\"inner\")"
   ]
  },
  {
   "cell_type": "code",
   "execution_count": null,
   "id": "1bb47184-4cdc-44d0-9850-750a89d610c8",
   "metadata": {},
   "outputs": [],
   "source": []
  },
  {
   "cell_type": "code",
   "execution_count": null,
   "id": "4075470c-5422-43a3-8e65-c18abee56e1d",
   "metadata": {},
   "outputs": [],
   "source": []
  },
  {
   "cell_type": "code",
   "execution_count": null,
   "id": "5ac3bb39-2ba9-46f7-a328-0fe7e998d0c6",
   "metadata": {},
   "outputs": [],
   "source": []
  },
  {
   "cell_type": "markdown",
   "id": "061ca546-4366-4a94-b44d-940c76a6ccf0",
   "metadata": {},
   "source": [
    "##### Cheeses with washed rindtype"
   ]
  },
  {
   "cell_type": "code",
   "execution_count": null,
   "id": "d8a4ab08-0e35-4419-a56c-fae07f471da9",
   "metadata": {},
   "outputs": [],
   "source": []
  },
  {
   "cell_type": "code",
   "execution_count": null,
   "id": "25665259-8c47-43a8-b8c0-a76a43dc8e77",
   "metadata": {},
   "outputs": [],
   "source": []
  },
  {
   "cell_type": "markdown",
   "id": "84accf76-6535-4ec1-9809-3f6f50378a33",
   "metadata": {},
   "source": [
    "##### Cheeses with alpine style"
   ]
  },
  {
   "cell_type": "code",
   "execution_count": null,
   "id": "748cd6d8-8c13-4b97-9f70-c1b7048a2d88",
   "metadata": {},
   "outputs": [],
   "source": []
  },
  {
   "cell_type": "code",
   "execution_count": null,
   "id": "809fa1bc-27e3-474b-8897-ba4cecf5698f",
   "metadata": {},
   "outputs": [],
   "source": []
  },
  {
   "cell_type": "code",
   "execution_count": null,
   "id": "b24e20e7-2539-4358-8239-4a590feedfcf",
   "metadata": {},
   "outputs": [],
   "source": []
  }
 ],
 "metadata": {
  "kernelspec": {
   "display_name": "Python 3 (ipykernel)",
   "language": "python",
   "name": "python3"
  },
  "language_info": {
   "codemirror_mode": {
    "name": "ipython",
    "version": 3
   },
   "file_extension": ".py",
   "mimetype": "text/x-python",
   "name": "python",
   "nbconvert_exporter": "python",
   "pygments_lexer": "ipython3",
   "version": "3.8.13"
  }
 },
 "nbformat": 4,
 "nbformat_minor": 5
}
