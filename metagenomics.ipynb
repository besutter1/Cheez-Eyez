{
 "cells": [
  {
   "cell_type": "markdown",
   "id": "3b48991e-5cdc-4ad1-a483-ef67f132f9b9",
   "metadata": {},
   "source": [
    "### Metagenomics"
   ]
  },
  {
   "cell_type": "code",
   "execution_count": 1,
   "id": "a284a5a8-0b6d-4466-9a7e-ee8fe71db068",
   "metadata": {},
   "outputs": [],
   "source": [
    "import os\n",
    "import pandas as pd\n",
    "import qiime2 as q2\n",
    "import requests\n",
    "\n",
    "from qiime2 import Visualization\n",
    "\n",
    "data_dir = 'CE'\n",
    "    \n",
    "%matplotlib inline"
   ]
  },
  {
   "cell_type": "code",
   "execution_count": 2,
   "id": "5dada12d-b773-49c3-8c1b-f539ae9982c9",
   "metadata": {},
   "outputs": [],
   "source": [
    "def fetch_ipath(ids: list, img_output_path: str, verbose: bool = False):\n",
    "    \"\"\"Fetches a enriched pathways map from iPATH3 for given IDs.\"\"\"\n",
    "    url = 'https://pathways.embl.de/mapping.cgi'\n",
    "    \n",
    "    # remove colon from EC names\n",
    "    if ':' in ids[0]:\n",
    "        ids = [x.replace(':', '') for x in ids]\n",
    "    \n",
    "    if verbose:\n",
    "        print(f'Fetching iPATH3 diagram for ids: {ids}')\n",
    "    params = {\n",
    "        'default_opacity': 0.6,\n",
    "        'export_type': 'svg',\n",
    "        'selection': '\\n'.join(ids)\n",
    "    }   \n",
    "    response = requests.get(url=url, params=params)\n",
    "    \n",
    "    with open(img_output_path, 'wb') as img:\n",
    "        img.write(response.content)"
   ]
  },
  {
   "cell_type": "code",
   "execution_count": 3,
   "id": "04e09bc5-ab3f-4bb0-b8c8-1bced40bdf6e",
   "metadata": {},
   "outputs": [],
   "source": [
    "picrust_env = '/opt/conda/envs/picrust2/bin'"
   ]
  },
  {
   "cell_type": "markdown",
   "id": "8e921372-b0df-4ab2-9f83-58d2e0b8b864",
   "metadata": {},
   "source": [
    "#### Functional inference"
   ]
  },
  {
   "cell_type": "code",
   "execution_count": 4,
   "id": "0f4f2822-f5ca-4ee5-b29d-860429793978",
   "metadata": {},
   "outputs": [
    {
     "name": "stderr",
     "output_type": "stream",
     "text": [
      "QIIME is caching your current deployment for improved performance. This may take a few moments and should only happen once per deployment.\n"
     ]
    },
    {
     "name": "stdout",
     "output_type": "stream",
     "text": [
      "Saved FeatureTable[Frequency] to: CE/picrust2_results/ko_metagenome.qza\n",
      "Saved FeatureTable[Frequency] to: CE/picrust2_results/ec_metagenome.qza\n",
      "Saved FeatureTable[Frequency] to: CE/picrust2_results/pathway_abundance.qza\n"
     ]
    }
   ],
   "source": [
    "%%script env picrust_env=\"$picrust_env\" data_dir=\"$data_dir\" bash\n",
    "\n",
    "# append the env location to PATH so that qiime\n",
    "# can find all required executables\n",
    "export PATH=$picrust_env:$PATH\n",
    "\n",
    "$picrust_env/qiime picrust2 full-pipeline \\\n",
    "    --i-seq $data_dir/dada2_rep_set_filtered.qza \\\n",
    "    --i-table $data_dir/dada2_table_align_filtered.qza \\\n",
    "    --output-dir $data_dir/picrust2_results \\\n",
    "    --p-placement-tool sepp \\\n",
    "    --p-threads 2 \\\n",
    "    --p-hsp-method pic \\\n",
    "    --p-max-nsti 2 "
   ]
  },
  {
   "cell_type": "markdown",
   "id": "0896e942-b7ac-48bc-8ce6-d06be591bf8f",
   "metadata": {},
   "source": [
    "##### Download files"
   ]
  },
  {
   "cell_type": "code",
   "execution_count": 5,
   "id": "9756b7f0-e8a8-4110-8a14-785d6b04009f",
   "metadata": {},
   "outputs": [
    {
     "name": "stdout",
     "output_type": "stream",
     "text": [
      "2022-11-23 10:40:45 URL:https://polybox.ethz.ch/index.php/s/9IoT5okOckQUCl5/download [47323823] -> \"CE/picrust2_results/metagenomics.zip\" [1]\n"
     ]
    }
   ],
   "source": [
    "! wget -nv -O $data_dir/picrust2_results/metagenomics.zip 'https://polybox.ethz.ch/index.php/s/9IoT5okOckQUCl5/download'"
   ]
  },
  {
   "cell_type": "code",
   "execution_count": 6,
   "id": "a77a5617-fd30-4328-a00e-12b4ac3316be",
   "metadata": {},
   "outputs": [],
   "source": [
    "! unzip -q $data_dir/picrust2_results/metagenomics.zip -d $data_dir\n",
    "! rm $data_dir/picrust2_results/metagenomics.zip"
   ]
  },
  {
   "cell_type": "markdown",
   "id": "bedeb98b-e57f-4555-9efd-5107554e3e69",
   "metadata": {},
   "source": [
    "##### visualize metadata"
   ]
  },
  {
   "cell_type": "code",
   "execution_count": 9,
   "id": "a4e92e90-f59a-480b-91ca-ca2a27a953f7",
   "metadata": {},
   "outputs": [],
   "source": [
    "metadata = pd.read_csv(f'{data_dir}/food-metadata.tsv', sep='\\t', header=0, index_col=0)"
   ]
  },
  {
   "cell_type": "code",
   "execution_count": 3,
   "id": "ab22e55e-14af-4310-9f49-c3269910434f",
   "metadata": {},
   "outputs": [
    {
     "name": "stdout",
     "output_type": "stream",
     "text": [
      "\u001b[32mSaved Visualization to: CE/food-metadata.qzv\u001b[0m\n",
      "\u001b[0m"
     ]
    }
   ],
   "source": [
    "! qiime metadata tabulate \\\n",
    "    --m-input-file $data_dir/food-metadata.tsv \\\n",
    "    --o-visualization $data_dir/food-metadata.qzv"
   ]
  },
  {
   "cell_type": "code",
   "execution_count": 4,
   "id": "7119fd0c-f02e-48cd-9219-1771e6f88afa",
   "metadata": {},
   "outputs": [
    {
     "data": {
      "text/html": [
       "<div><img onload=\"(function(div, url){\n",
       "if (typeof require !== 'undefined') {\n",
       "    var baseURL = require.toUrl('').split('/').slice(0, -2).join('/');\n",
       "} else {\n",
       "    var baseURL = JSON.parse(\n",
       "        document.getElementById('jupyter-config-data').innerHTML\n",
       "    ).baseUrl.slice(0, -1);\n",
       "}\n",
       "url = baseURL + url;\n",
       "fetch(url).then(function(res) {\n",
       "    if (res.status === 404) {\n",
       "        div.innerHTML = 'Install QIIME 2 Jupyter extension with:<br />' +\n",
       "                        '<code>jupyter serverextension enable --py qiime2' +\n",
       "                        ' --sys-prefix</code><br />then restart your server.' +\n",
       "                        '<br /><br />(Interactive output not available on ' +\n",
       "                        'static notebook viewer services like nbviewer.)';\n",
       "    } else if (res.status === 409) {\n",
       "        div.innerHTML = 'Visualization no longer in scope. Re-run this cell' +\n",
       "                        ' to see the visualization.';\n",
       "    } else if (res.ok) {\n",
       "        url = res.url;\n",
       "        div.innerHTML = '<iframe src=\\'' + url + '\\' style=\\'' +\n",
       "                        'width: 100%; height: 700px; border: 0;\\'>' +\n",
       "                        '</iframe><hr />Open in a: <a href=\\'' + url + '\\'' +\n",
       "                        ' target=\\'_blank\\'>new window</a>'\n",
       "    } else {\n",
       "        div.innerHTML = 'Something has gone wrong. Check notebook server for' +\n",
       "                        ' errors.';\n",
       "    }\n",
       "});\n",
       "})(this.parentElement, '/qiime2/redirect?location=/tmp/qiime2-archive-1c4dp_06')\" src=\"data:image/gif;base64,R0lGODlhAQABAIAAAP///wAAACH5BAEAAAAALAAAAAABAAEAAAICRAEAOw==\" /></div>"
      ],
      "text/plain": [
       "<visualization: Visualization uuid: b7f93fda-aff6-4163-b538-49fb64f5b15a>"
      ]
     },
     "execution_count": 4,
     "metadata": {},
     "output_type": "execute_result"
    }
   ],
   "source": [
    "Visualization.load(f'{data_dir}/food-metadata.qzv')"
   ]
  },
  {
   "cell_type": "markdown",
   "id": "3fe0f50b-999b-452a-a20f-8e42158fb0f8",
   "metadata": {},
   "source": []
  },
  {
   "cell_type": "code",
   "execution_count": null,
   "id": "f891bf5d-45e8-449f-99f2-358d09237db8",
   "metadata": {},
   "outputs": [],
   "source": [
    "#han mal no nüt gfiltered (nur copy pasted)\n",
    "#! qiime feature-table filter-samples \\\n",
    "    --i-table $data_dir/picrust2_results/ko_metagenome.qza \\\n",
    "    --m-metadata-file $data_dir/metadata.tsv \\\n",
    "    --p-where \"[mom_or_child]='C'\" \\\n",
    "    --o-filtered-table $data_dir/picrust2_results/ko_metagenome_child.qza\n",
    "\n",
    "#! qiime feature-table filter-samples \\\n",
    "    --i-table $data_dir/picrust2_results/ec_metagenome.qza \\\n",
    "    --m-metadata-file $data_dir/metadata.tsv \\\n",
    "    --p-where \"[mom_or_child]='C'\" \\\n",
    "    --o-filtered-table $data_dir/picrust2_results/ec_metagenome_child.qza\n",
    "#! qiime feature-table filter-samples \\\n",
    "    --i-table $data_dir/picrust2_results/pathway_abundance.qza \\\n",
    "    --m-metadata-file $data_dir/metadata.tsv \\\n",
    "    --p-where \"[mom_or_child]='C'\" \\\n",
    "    --o-filtered-table $data_dir/picrust2_results/pathway_abundance_child.qza"
   ]
  },
  {
   "cell_type": "code",
   "execution_count": 7,
   "id": "6d20c5b0-aae0-4e50-b560-237404dc9907",
   "metadata": {},
   "outputs": [],
   "source": [
    "#let's look at unfiltered picrust2_results\n",
    "\n",
    "ko = q2.Artifact.load(f'{data_dir}/picrust2_results/ko_metagenome.qza').view(pd.DataFrame)\n",
    "ec = q2.Artifact.load(f'{data_dir}/picrust2_results/ec_metagenome.qza').view(pd.DataFrame)\n",
    "pa = q2.Artifact.load(f'{data_dir}/picrust2_results/pathway_abundance.qza').view(pd.DataFrame)\n"
   ]
  },
  {
   "cell_type": "markdown",
   "id": "d3c3ee55-2540-4c47-a31a-1ce238441b96",
   "metadata": {},
   "source": [
    "let's have a look at these tables. They don't contain any information about ASVs anymore but about different levels of the functional profiles:\n",
    "\n",
    "1. `ko` table: columns represent KEGG orthologs, as indicated by their names (e.g., **K**19777)\n",
    "2. `ec` table: columns represent enzymes, as indicated by the Enzyme Commission numbers (e.g., **EC**:1.1.1.108)\n",
    "3. `pa` table: columns represent entire pathways using the MetaCyc classification (e.g., ANAGLYCOLYSIS-PWY)"
   ]
  },
  {
   "cell_type": "markdown",
   "id": "3e98b0c7-59d3-4aac-96f6-8933c9ca9d13",
   "metadata": {},
   "source": [
    "let's merge feature table with the pasteurization column from the metadata."
   ]
  },
  {
   "cell_type": "code",
   "execution_count": 10,
   "id": "4f4dba53-41d5-4dcb-8bf9-8f1f6aa18e65",
   "metadata": {},
   "outputs": [],
   "source": [
    "ko_meta = ko.merge(metadata[['pasteurized']], left_index=True, right_index=True)\n",
    "ec_meta = ec.merge(metadata[['pasteurized']], left_index=True, right_index=True)\n",
    "pa_meta = pa.merge(metadata[['pasteurized']], left_index=True, right_index=True)"
   ]
  },
  {
   "cell_type": "code",
   "execution_count": 11,
   "id": "ca85779f-c916-405f-bc4a-0cbe48cdfd86",
   "metadata": {},
   "outputs": [],
   "source": [
    "ko_meta_avg = ko_meta.groupby('pasteurized').mean()\n",
    "ec_meta_avg = ec_meta.groupby('pasteurized').mean()\n",
    "pa_meta_avg = pa_meta.groupby('pasteurized').mean()"
   ]
  },
  {
   "cell_type": "code",
   "execution_count": 12,
   "id": "061c31da-5f70-469e-a169-617795ef393b",
   "metadata": {},
   "outputs": [
    {
     "data": {
      "text/html": [
       "<div>\n",
       "<style scoped>\n",
       "    .dataframe tbody tr th:only-of-type {\n",
       "        vertical-align: middle;\n",
       "    }\n",
       "\n",
       "    .dataframe tbody tr th {\n",
       "        vertical-align: top;\n",
       "    }\n",
       "\n",
       "    .dataframe thead th {\n",
       "        text-align: right;\n",
       "    }\n",
       "</style>\n",
       "<table border=\"1\" class=\"dataframe\">\n",
       "  <thead>\n",
       "    <tr style=\"text-align: right;\">\n",
       "      <th></th>\n",
       "      <th>K00001</th>\n",
       "      <th>K00002</th>\n",
       "      <th>K00003</th>\n",
       "      <th>K00004</th>\n",
       "      <th>K00005</th>\n",
       "      <th>K00007</th>\n",
       "      <th>K00008</th>\n",
       "      <th>K00009</th>\n",
       "      <th>K00010</th>\n",
       "      <th>K00011</th>\n",
       "      <th>...</th>\n",
       "      <th>K19776</th>\n",
       "      <th>K19777</th>\n",
       "      <th>K19778</th>\n",
       "      <th>K19779</th>\n",
       "      <th>K19780</th>\n",
       "      <th>K19784</th>\n",
       "      <th>K19785</th>\n",
       "      <th>K19788</th>\n",
       "      <th>K19789</th>\n",
       "      <th>K19791</th>\n",
       "    </tr>\n",
       "    <tr>\n",
       "      <th>pasteurized</th>\n",
       "      <th></th>\n",
       "      <th></th>\n",
       "      <th></th>\n",
       "      <th></th>\n",
       "      <th></th>\n",
       "      <th></th>\n",
       "      <th></th>\n",
       "      <th></th>\n",
       "      <th></th>\n",
       "      <th></th>\n",
       "      <th></th>\n",
       "      <th></th>\n",
       "      <th></th>\n",
       "      <th></th>\n",
       "      <th></th>\n",
       "      <th></th>\n",
       "      <th></th>\n",
       "      <th></th>\n",
       "      <th></th>\n",
       "      <th></th>\n",
       "      <th></th>\n",
       "    </tr>\n",
       "  </thead>\n",
       "  <tbody>\n",
       "    <tr>\n",
       "      <th>N</th>\n",
       "      <td>45212.003827</td>\n",
       "      <td>185.908689</td>\n",
       "      <td>37531.219524</td>\n",
       "      <td>14012.060133</td>\n",
       "      <td>5540.705731</td>\n",
       "      <td>39.233664</td>\n",
       "      <td>26725.283658</td>\n",
       "      <td>8666.802792</td>\n",
       "      <td>4928.603070</td>\n",
       "      <td>0.000004</td>\n",
       "      <td>...</td>\n",
       "      <td>206.156283</td>\n",
       "      <td>198.177837</td>\n",
       "      <td>221.580649</td>\n",
       "      <td>1.507643e-38</td>\n",
       "      <td>8.650003</td>\n",
       "      <td>3140.075768</td>\n",
       "      <td>4.876630e-125</td>\n",
       "      <td>9.019276e-55</td>\n",
       "      <td>2227.031159</td>\n",
       "      <td>0.520927</td>\n",
       "    </tr>\n",
       "    <tr>\n",
       "      <th>Y</th>\n",
       "      <td>48813.259252</td>\n",
       "      <td>322.071220</td>\n",
       "      <td>49677.769682</td>\n",
       "      <td>21221.676186</td>\n",
       "      <td>10779.027223</td>\n",
       "      <td>237.477202</td>\n",
       "      <td>36895.098419</td>\n",
       "      <td>16783.979802</td>\n",
       "      <td>18479.601949</td>\n",
       "      <td>0.000676</td>\n",
       "      <td>...</td>\n",
       "      <td>431.210745</td>\n",
       "      <td>204.207785</td>\n",
       "      <td>236.545723</td>\n",
       "      <td>8.246362e-38</td>\n",
       "      <td>12.900228</td>\n",
       "      <td>10312.811629</td>\n",
       "      <td>6.062880e-125</td>\n",
       "      <td>1.121323e-54</td>\n",
       "      <td>6174.098661</td>\n",
       "      <td>10.168494</td>\n",
       "    </tr>\n",
       "  </tbody>\n",
       "</table>\n",
       "<p>2 rows × 10110 columns</p>\n",
       "</div>"
      ],
      "text/plain": [
       "                   K00001      K00002        K00003        K00004  \\\n",
       "pasteurized                                                         \n",
       "N            45212.003827  185.908689  37531.219524  14012.060133   \n",
       "Y            48813.259252  322.071220  49677.769682  21221.676186   \n",
       "\n",
       "                   K00005      K00007        K00008        K00009  \\\n",
       "pasteurized                                                         \n",
       "N             5540.705731   39.233664  26725.283658   8666.802792   \n",
       "Y            10779.027223  237.477202  36895.098419  16783.979802   \n",
       "\n",
       "                   K00010    K00011  ...      K19776      K19777      K19778  \\\n",
       "pasteurized                          ...                                       \n",
       "N             4928.603070  0.000004  ...  206.156283  198.177837  221.580649   \n",
       "Y            18479.601949  0.000676  ...  431.210745  204.207785  236.545723   \n",
       "\n",
       "                   K19779     K19780        K19784         K19785  \\\n",
       "pasteurized                                                         \n",
       "N            1.507643e-38   8.650003   3140.075768  4.876630e-125   \n",
       "Y            8.246362e-38  12.900228  10312.811629  6.062880e-125   \n",
       "\n",
       "                   K19788       K19789     K19791  \n",
       "pasteurized                                        \n",
       "N            9.019276e-55  2227.031159   0.520927  \n",
       "Y            1.121323e-54  6174.098661  10.168494  \n",
       "\n",
       "[2 rows x 10110 columns]"
      ]
     },
     "execution_count": 12,
     "metadata": {},
     "output_type": "execute_result"
    }
   ],
   "source": [
    "ko_meta_avg.head()"
   ]
  },
  {
   "cell_type": "code",
   "execution_count": 13,
   "id": "337d2a24-f646-4b83-b93d-a0a0c7796be8",
   "metadata": {},
   "outputs": [
    {
     "name": "stdout",
     "output_type": "stream",
     "text": [
      "Saving 101 most abundant features...\n",
      "Saving 84 most abundant features...\n",
      "Saving 5 most abundant features...\n"
     ]
    }
   ],
   "source": [
    "# find top x% of the most abundant KOs, ECs and pathways in each sample type\n",
    "\n",
    "def find_most_abundant(df: pd.DataFrame, frac):\n",
    "    if 0 < frac < 1:\n",
    "        frac = int(frac * len(df.columns))\n",
    "    print(f'Saving {frac} most abundant features...')\n",
    "    most_abundant = {\n",
    "        smp: df.loc[smp, :].sort_values(ascending=False)[:frac]\n",
    "        for smp in df.index\n",
    "    }\n",
    "    return most_abundant\n",
    "\n",
    "ko_most_abundant = find_most_abundant(ko_meta_avg, 0.01)\n",
    "ec_most_abundant = find_most_abundant(ec_meta_avg, 0.03)\n",
    "pa_most_abundant = find_most_abundant(pa_meta_avg, 5)"
   ]
  },
  {
   "cell_type": "code",
   "execution_count": 15,
   "id": "52107923-d5d4-4e7f-872c-951d33737d07",
   "metadata": {},
   "outputs": [
    {
     "name": "stdout",
     "output_type": "stream",
     "text": [
      "10 most abundant KOs in the treatment group are: ['K01990', 'K02015', 'K01992', 'K00059', 'K03088', 'K02529', 'K02016', 'K02013', 'K00626', 'K07090']\n",
      "10 most abundant KOs in the non-treatment group are: ['K01990', 'K01992', 'K02015', 'K03088', 'K00059', 'K02529', 'K00626', 'K02016', 'K02013', 'K00666']\n",
      "\n"
     ]
    }
   ],
   "source": [
    "print(f'10 most abundant KOs in the treatment group are: {ko_most_abundant[\"Y\"].index[:10].tolist()}\\n'\n",
    "      f'10 most abundant KOs in the non-treatment group are: {ko_most_abundant[\"N\"].index[:10].tolist()}\\n')"
   ]
  },
  {
   "cell_type": "code",
   "execution_count": 18,
   "id": "5bd9bab4-7c42-4a9e-bc4b-ffae22becfa0",
   "metadata": {},
   "outputs": [],
   "source": [
    "for smp in ko_most_abundant.keys():\n",
    "    fetch_ipath(ko_most_abundant[smp].index.tolist(), f'{data_dir}/kos_{smp}.svg')\n",
    "    fetch_ipath(ec_most_abundant[smp].index.str.replace(':', '').tolist(), f'{data_dir}/ecs_{smp}.svg')"
   ]
  },
  {
   "cell_type": "markdown",
   "id": "b88867e9-72bf-4393-9833-75b1927e68ca",
   "metadata": {},
   "source": [
    "Don't see anything too interesting...\n",
    "let's continue with enriched pathways"
   ]
  },
  {
   "cell_type": "code",
   "execution_count": 8,
   "id": "7890798b-0243-4036-9cb9-a1e2e08451db",
   "metadata": {},
   "outputs": [
    {
     "name": "stdout",
     "output_type": "stream",
     "text": [
      "\u001b[32mSaved FeatureTable[Composition] to: CE/picrust2_results/pathway_abundance_differences.qza\u001b[0m\n",
      "\u001b[0m"
     ]
    }
   ],
   "source": [
    "! qiime composition add-pseudocount \\\n",
    "    --i-table $data_dir/picrust2_results/pathway_abundance.qza \\\n",
    "    --o-composition-table $data_dir/picrust2_results/pathway_abundance_differences.qza"
   ]
  },
  {
   "cell_type": "code",
   "execution_count": 9,
   "id": "46d13c2b-a013-406f-b2a8-dab13fc57bb7",
   "metadata": {},
   "outputs": [
    {
     "name": "stdout",
     "output_type": "stream",
     "text": [
      "\u001b[32mSaved Visualization to: CE/pa_ancom_pasteurized.qzv\u001b[0m\n",
      "\u001b[0m"
     ]
    }
   ],
   "source": [
    "! qiime composition ancom \\\n",
    "    --i-table $data_dir/picrust2_results/pathway_abundance_differences.qza \\\n",
    "    --m-metadata-file $data_dir/food-metadata.tsv \\\n",
    "    --m-metadata-column pasteurized \\\n",
    "    --p-transform-function log \\\n",
    "    --o-visualization $data_dir/pa_ancom_pasteurized.qzv"
   ]
  },
  {
   "cell_type": "code",
   "execution_count": 4,
   "id": "ed20694f-7b68-4e11-9ae4-e2162e840f46",
   "metadata": {},
   "outputs": [
    {
     "data": {
      "text/html": [
       "<div><img onload=\"(function(div, url){\n",
       "if (typeof require !== 'undefined') {\n",
       "    var baseURL = require.toUrl('').split('/').slice(0, -2).join('/');\n",
       "} else {\n",
       "    var baseURL = JSON.parse(\n",
       "        document.getElementById('jupyter-config-data').innerHTML\n",
       "    ).baseUrl.slice(0, -1);\n",
       "}\n",
       "url = baseURL + url;\n",
       "fetch(url).then(function(res) {\n",
       "    if (res.status === 404) {\n",
       "        div.innerHTML = 'Install QIIME 2 Jupyter extension with:<br />' +\n",
       "                        '<code>jupyter serverextension enable --py qiime2' +\n",
       "                        ' --sys-prefix</code><br />then restart your server.' +\n",
       "                        '<br /><br />(Interactive output not available on ' +\n",
       "                        'static notebook viewer services like nbviewer.)';\n",
       "    } else if (res.status === 409) {\n",
       "        div.innerHTML = 'Visualization no longer in scope. Re-run this cell' +\n",
       "                        ' to see the visualization.';\n",
       "    } else if (res.ok) {\n",
       "        url = res.url;\n",
       "        div.innerHTML = '<iframe src=\\'' + url + '\\' style=\\'' +\n",
       "                        'width: 100%; height: 700px; border: 0;\\'>' +\n",
       "                        '</iframe><hr />Open in a: <a href=\\'' + url + '\\'' +\n",
       "                        ' target=\\'_blank\\'>new window</a>'\n",
       "    } else {\n",
       "        div.innerHTML = 'Something has gone wrong. Check notebook server for' +\n",
       "                        ' errors.';\n",
       "    }\n",
       "});\n",
       "})(this.parentElement, '/qiime2/redirect?location=/tmp/qiime2-archive-8gpvg6zz')\" src=\"data:image/gif;base64,R0lGODlhAQABAIAAAP///wAAACH5BAEAAAAALAAAAAABAAEAAAICRAEAOw==\" /></div>"
      ],
      "text/plain": [
       "<visualization: Visualization uuid: 51d891ea-a130-4576-b4ad-9fa615e19bdb>"
      ]
     },
     "execution_count": 4,
     "metadata": {},
     "output_type": "execute_result"
    }
   ],
   "source": [
    "Visualization.load(f'{data_dir}/pa_ancom_pasteurized.qzv')"
   ]
  },
  {
   "cell_type": "markdown",
   "id": "ff388643-44db-4bbf-b84e-5b0791753b96",
   "metadata": {},
   "source": [
    "three significant different pathways were found for pasteurized vs non pasteurized: \n",
    "GLUCOSE1PMETAB-PWY\t465\n",
    "PWY0-1533\t420\n",
    "PWY-6397\t420"
   ]
  },
  {
   "cell_type": "code",
   "execution_count": 5,
   "id": "0e066c46-f978-4686-815f-6c0da8a0d4ca",
   "metadata": {},
   "outputs": [
    {
     "name": "stdout",
     "output_type": "stream",
     "text": [
      "\u001b[32mSaved Visualization to: CE/pa_ancom_rindtype.qzv\u001b[0m\n",
      "\u001b[0m"
     ]
    }
   ],
   "source": [
    "! qiime composition ancom \\\n",
    "    --i-table $data_dir/picrust2_results/pathway_abundance_differences.qza \\\n",
    "    --m-metadata-file $data_dir/food-metadata.tsv \\\n",
    "    --m-metadata-column rindtype \\\n",
    "    --p-transform-function log \\\n",
    "    --o-visualization $data_dir/pa_ancom_rindtype.qzv"
   ]
  },
  {
   "cell_type": "code",
   "execution_count": 2,
   "id": "10e5cacf-f6f7-4cab-b67d-422dd4b289e4",
   "metadata": {},
   "outputs": [
    {
     "data": {
      "text/html": [
       "<div><img onload=\"(function(div, url){\n",
       "if (typeof require !== 'undefined') {\n",
       "    var baseURL = require.toUrl('').split('/').slice(0, -2).join('/');\n",
       "} else {\n",
       "    var baseURL = JSON.parse(\n",
       "        document.getElementById('jupyter-config-data').innerHTML\n",
       "    ).baseUrl.slice(0, -1);\n",
       "}\n",
       "url = baseURL + url;\n",
       "fetch(url).then(function(res) {\n",
       "    if (res.status === 404) {\n",
       "        div.innerHTML = 'Install QIIME 2 Jupyter extension with:<br />' +\n",
       "                        '<code>jupyter serverextension enable --py qiime2' +\n",
       "                        ' --sys-prefix</code><br />then restart your server.' +\n",
       "                        '<br /><br />(Interactive output not available on ' +\n",
       "                        'static notebook viewer services like nbviewer.)';\n",
       "    } else if (res.status === 409) {\n",
       "        div.innerHTML = 'Visualization no longer in scope. Re-run this cell' +\n",
       "                        ' to see the visualization.';\n",
       "    } else if (res.ok) {\n",
       "        url = res.url;\n",
       "        div.innerHTML = '<iframe src=\\'' + url + '\\' style=\\'' +\n",
       "                        'width: 100%; height: 700px; border: 0;\\'>' +\n",
       "                        '</iframe><hr />Open in a: <a href=\\'' + url + '\\'' +\n",
       "                        ' target=\\'_blank\\'>new window</a>'\n",
       "    } else {\n",
       "        div.innerHTML = 'Something has gone wrong. Check notebook server for' +\n",
       "                        ' errors.';\n",
       "    }\n",
       "});\n",
       "})(this.parentElement, '/qiime2/redirect?location=/tmp/qiime2-archive-n89ombqi')\" src=\"data:image/gif;base64,R0lGODlhAQABAIAAAP///wAAACH5BAEAAAAALAAAAAABAAEAAAICRAEAOw==\" /></div>"
      ],
      "text/plain": [
       "<visualization: Visualization uuid: 9cacd381-c903-4b17-aed9-5efe8cbbda1b>"
      ]
     },
     "execution_count": 2,
     "metadata": {},
     "output_type": "execute_result"
    }
   ],
   "source": [
    "Visualization.load(f'{data_dir}/pa_ancom_rindtype.qzv')"
   ]
  },
  {
   "cell_type": "markdown",
   "id": "193d178b-b8ad-4c4a-8056-474c417b4a59",
   "metadata": {},
   "source": [
    "a lot of different pathways but ugly volcanoplot... it starts bottom left and goes to right up corner..."
   ]
  },
  {
   "cell_type": "code",
   "execution_count": null,
   "id": "59a1a3cb-19f6-4dc9-8378-ecedb8ac5295",
   "metadata": {},
   "outputs": [],
   "source": []
  },
  {
   "cell_type": "code",
   "execution_count": null,
   "id": "60054c26-4787-44f5-940e-de8ffb892b52",
   "metadata": {},
   "outputs": [],
   "source": []
  }
 ],
 "metadata": {
  "kernelspec": {
   "display_name": "Python 3 (ipykernel)",
   "language": "python",
   "name": "python3"
  },
  "language_info": {
   "codemirror_mode": {
    "name": "ipython",
    "version": 3
   },
   "file_extension": ".py",
   "mimetype": "text/x-python",
   "name": "python",
   "nbconvert_exporter": "python",
   "pygments_lexer": "ipython3",
   "version": "3.8.13"
  }
 },
 "nbformat": 4,
 "nbformat_minor": 5
}
