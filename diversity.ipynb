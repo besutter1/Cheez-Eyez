{
 "cells": [
  {
   "cell_type": "markdown",
   "id": "c8d0b581-fbd6-44b1-b044-73dd03b00d0d",
   "metadata": {},
   "source": [
    "# Diversity analysis\n"
   ]
  },
  {
   "cell_type": "code",
   "execution_count": 13,
   "id": "778b1329-4862-4b15-a1e3-7d32c814a170",
   "metadata": {},
   "outputs": [],
   "source": [
    "import os\n",
    "import pandas as pd\n",
    "from qiime2 import Visualization\n",
    "import matplotlib.pyplot as plt\n",
    "import numpy as np\n",
    "\n",
    "import qiime2 as q2\n",
    "\n",
    "%matplotlib inline\n",
    "data_dir = 'CE'"
   ]
  },
  {
   "cell_type": "markdown",
   "id": "0212ba43-0406-4c97-8ad2-4eb41425600e",
   "metadata": {},
   "source": [
    "Artifacts used for alpha-diversity (start)\n",
    "- dada2_table_align_filtered.qza\n",
    "- fasttree-tree-rooted.qza\n",
    "- sepp-tree.qza"
   ]
  },
  {
   "cell_type": "markdown",
   "id": "12b9c91a-e129-487f-bcb6-e1329a884c7b",
   "metadata": {},
   "source": [
    "## Alpha rarefaction"
   ]
  },
  {
   "cell_type": "markdown",
   "id": "c599efa3-d22b-4930-b631-9c49333f8e25",
   "metadata": {},
   "source": [
    "Which tree should be chosen to conduct alpha rarefaction? the de-novo tree or fragment insertion tree? \n",
    "-> fragment insertion tree was chosen, das we have rather short sequences which might not bring up enough information.\n",
    "Artifacts of both trees are visualized here:"
   ]
  },
  {
   "cell_type": "code",
   "execution_count": 5,
   "id": "dabedcb9-5140-4549-9917-d1e53f49e672",
   "metadata": {
    "collapsed": true,
    "jupyter": {
     "outputs_hidden": true
    },
    "tags": []
   },
   "outputs": [
    {
     "data": {
      "text/html": [
       "<div><img onload=\"(function(div, url){\n",
       "if (typeof require !== 'undefined') {\n",
       "    var baseURL = require.toUrl('').split('/').slice(0, -2).join('/');\n",
       "} else {\n",
       "    var baseURL = JSON.parse(\n",
       "        document.getElementById('jupyter-config-data').innerHTML\n",
       "    ).baseUrl.slice(0, -1);\n",
       "}\n",
       "url = baseURL + url;\n",
       "fetch(url).then(function(res) {\n",
       "    if (res.status === 404) {\n",
       "        div.innerHTML = 'Install QIIME 2 Jupyter extension with:<br />' +\n",
       "                        '<code>jupyter serverextension enable --py qiime2' +\n",
       "                        ' --sys-prefix</code><br />then restart your server.' +\n",
       "                        '<br /><br />(Interactive output not available on ' +\n",
       "                        'static notebook viewer services like nbviewer.)';\n",
       "    } else if (res.status === 409) {\n",
       "        div.innerHTML = 'Visualization no longer in scope. Re-run this cell' +\n",
       "                        ' to see the visualization.';\n",
       "    } else if (res.ok) {\n",
       "        url = res.url;\n",
       "        div.innerHTML = '<iframe src=\\'' + url + '\\' style=\\'' +\n",
       "                        'width: 100%; height: 700px; border: 0;\\'>' +\n",
       "                        '</iframe><hr />Open in a: <a href=\\'' + url + '\\'' +\n",
       "                        ' target=\\'_blank\\'>new window</a>'\n",
       "    } else {\n",
       "        div.innerHTML = 'Something has gone wrong. Check notebook server for' +\n",
       "                        ' errors.';\n",
       "    }\n",
       "});\n",
       "})(this.parentElement, '/qiime2/redirect?location=/tmp/qiime2-archive-3ekwp1ym')\" src=\"data:image/gif;base64,R0lGODlhAQABAIAAAP///wAAACH5BAEAAAAALAAAAAABAAEAAAICRAEAOw==\" /></div>"
      ],
      "text/plain": [
       "<visualization: Visualization uuid: b6ee1af1-07cb-475d-af95-50e410c824c5>"
      ]
     },
     "execution_count": 5,
     "metadata": {},
     "output_type": "execute_result"
    }
   ],
   "source": [
    "#denovo\n",
    "Visualization.load(f'{data_dir}/fasttree-tree-rooted.qzv')"
   ]
  },
  {
   "cell_type": "code",
   "execution_count": 4,
   "id": "2403279d-4289-4839-b2be-28a380c9e9d6",
   "metadata": {
    "collapsed": true,
    "jupyter": {
     "outputs_hidden": true
    },
    "tags": []
   },
   "outputs": [
    {
     "data": {
      "text/html": [
       "<div><img onload=\"(function(div, url){\n",
       "if (typeof require !== 'undefined') {\n",
       "    var baseURL = require.toUrl('').split('/').slice(0, -2).join('/');\n",
       "} else {\n",
       "    var baseURL = JSON.parse(\n",
       "        document.getElementById('jupyter-config-data').innerHTML\n",
       "    ).baseUrl.slice(0, -1);\n",
       "}\n",
       "url = baseURL + url;\n",
       "fetch(url).then(function(res) {\n",
       "    if (res.status === 404) {\n",
       "        div.innerHTML = 'Install QIIME 2 Jupyter extension with:<br />' +\n",
       "                        '<code>jupyter serverextension enable --py qiime2' +\n",
       "                        ' --sys-prefix</code><br />then restart your server.' +\n",
       "                        '<br /><br />(Interactive output not available on ' +\n",
       "                        'static notebook viewer services like nbviewer.)';\n",
       "    } else if (res.status === 409) {\n",
       "        div.innerHTML = 'Visualization no longer in scope. Re-run this cell' +\n",
       "                        ' to see the visualization.';\n",
       "    } else if (res.ok) {\n",
       "        url = res.url;\n",
       "        div.innerHTML = '<iframe src=\\'' + url + '\\' style=\\'' +\n",
       "                        'width: 100%; height: 700px; border: 0;\\'>' +\n",
       "                        '</iframe><hr />Open in a: <a href=\\'' + url + '\\'' +\n",
       "                        ' target=\\'_blank\\'>new window</a>'\n",
       "    } else {\n",
       "        div.innerHTML = 'Something has gone wrong. Check notebook server for' +\n",
       "                        ' errors.';\n",
       "    }\n",
       "});\n",
       "})(this.parentElement, '/qiime2/redirect?location=/tmp/qiime2-archive-_sfg1nss')\" src=\"data:image/gif;base64,R0lGODlhAQABAIAAAP///wAAACH5BAEAAAAALAAAAAABAAEAAAICRAEAOw==\" /></div>"
      ],
      "text/plain": [
       "<visualization: Visualization uuid: d319a4a0-e033-4c58-b7a1-f66f367940f7>"
      ]
     },
     "execution_count": 4,
     "metadata": {},
     "output_type": "execute_result"
    }
   ],
   "source": [
    "#fragment-insertion\n",
    "Visualization.load(f'{data_dir}/sepp-tree-placements-tree.qzv')"
   ]
  },
  {
   "cell_type": "markdown",
   "id": "b2f93508-2e0b-4fca-b8d7-967e4b846439",
   "metadata": {},
   "source": [
    "Using alpha-rarefaction we can decide which rarefying threshold is best suited for our data.\n",
    "1. downloaded metadata (somehow wasn't in my CE). if you already have it run normally, if not, remove the hashtags # in the following two cells.\n",
    "2. visualized diversity alpha-rarefaction (--p-max-depth 10000) to find out which sequencing depth to use -> 1500. Also no difference was noticed between de novo and fragment insertion tree. at the end we used the insertion tree.\n",
    "3. use core-metrics-phylogenetic plugin\n",
    "4. use diversity alpha-group-significance to run some statisical tests\n",
    "5. use diversity alpha-correlation to check for correlations (columns - richness of microbial community)\n",
    "6. some fun with pandas. nice poxplots"
   ]
  },
  {
   "cell_type": "code",
   "execution_count": 14,
   "id": "b0e22a2e-a021-4e8f-a690-3d74963e8e2e",
   "metadata": {
    "tags": []
   },
   "outputs": [
    {
     "name": "stdout",
     "output_type": "stream",
     "text": [
      "2022-11-06 10:26:22 URL:https://polybox.ethz.ch/index.php/s/nEd4l5CWGWGEtae/download [42810/42810] -> \"CE/food-metadata.tsv\" [1]\n"
     ]
    }
   ],
   "source": [
    "#! wget -nv -O $data_dir/food-metadata.tsv 'https://polybox.ethz.ch/index.php/s/nEd4l5CWGWGEtae/download'"
   ]
  },
  {
   "cell_type": "code",
   "execution_count": 15,
   "id": "6bd5725e-1c42-41a1-9d9a-b1d65c17a733",
   "metadata": {},
   "outputs": [],
   "source": [
    "#df_meta = pd.read_csv(f'{data_dir}/food-metadata.tsv', sep='\\t', index_col=0)"
   ]
  },
  {
   "cell_type": "code",
   "execution_count": 20,
   "id": "a501688e-0dca-47c2-9e8e-5f3b7d8e12d7",
   "metadata": {
    "tags": []
   },
   "outputs": [
    {
     "name": "stdout",
     "output_type": "stream",
     "text": [
      "\u001b[32mSaved Visualization to: CE/alpha-rarefaction_denovo.qzv\u001b[0m\n",
      "\u001b[0m"
     ]
    }
   ],
   "source": [
    "! qiime diversity alpha-rarefaction \\\n",
    "    --i-table $data_dir/dada2_table_align_filtered.qza \\\n",
    "    --i-phylogeny $data_dir/fasttree-tree-rooted.qza \\\n",
    "    --p-max-depth 100000 \\\n",
    "    --m-metadata-file $data_dir/food-metadata.tsv\\\n",
    "    --o-visualization $data_dir/alpha-rarefaction_denovo.qzv"
   ]
  },
  {
   "cell_type": "code",
   "execution_count": 21,
   "id": "86be5dd6-363a-47aa-90fb-b0de47a11a98",
   "metadata": {
    "collapsed": true,
    "jupyter": {
     "outputs_hidden": true
    },
    "tags": []
   },
   "outputs": [
    {
     "data": {
      "text/html": [
       "<div><img onload=\"(function(div, url){\n",
       "if (typeof require !== 'undefined') {\n",
       "    var baseURL = require.toUrl('').split('/').slice(0, -2).join('/');\n",
       "} else {\n",
       "    var baseURL = JSON.parse(\n",
       "        document.getElementById('jupyter-config-data').innerHTML\n",
       "    ).baseUrl.slice(0, -1);\n",
       "}\n",
       "url = baseURL + url;\n",
       "fetch(url).then(function(res) {\n",
       "    if (res.status === 404) {\n",
       "        div.innerHTML = 'Install QIIME 2 Jupyter extension with:<br />' +\n",
       "                        '<code>jupyter serverextension enable --py qiime2' +\n",
       "                        ' --sys-prefix</code><br />then restart your server.' +\n",
       "                        '<br /><br />(Interactive output not available on ' +\n",
       "                        'static notebook viewer services like nbviewer.)';\n",
       "    } else if (res.status === 409) {\n",
       "        div.innerHTML = 'Visualization no longer in scope. Re-run this cell' +\n",
       "                        ' to see the visualization.';\n",
       "    } else if (res.ok) {\n",
       "        url = res.url;\n",
       "        div.innerHTML = '<iframe src=\\'' + url + '\\' style=\\'' +\n",
       "                        'width: 100%; height: 700px; border: 0;\\'>' +\n",
       "                        '</iframe><hr />Open in a: <a href=\\'' + url + '\\'' +\n",
       "                        ' target=\\'_blank\\'>new window</a>'\n",
       "    } else {\n",
       "        div.innerHTML = 'Something has gone wrong. Check notebook server for' +\n",
       "                        ' errors.';\n",
       "    }\n",
       "});\n",
       "})(this.parentElement, '/qiime2/redirect?location=/tmp/qiime2-archive-6ftupw_0')\" src=\"data:image/gif;base64,R0lGODlhAQABAIAAAP///wAAACH5BAEAAAAALAAAAAABAAEAAAICRAEAOw==\" /></div>"
      ],
      "text/plain": [
       "<visualization: Visualization uuid: d3bffc94-08d3-4c2b-a593-28947694ee89>"
      ]
     },
     "execution_count": 21,
     "metadata": {},
     "output_type": "execute_result"
    }
   ],
   "source": [
    "#denovo tree: number of samples has plateau at around 7000 for rind-type\n",
    "#could change --p-max-depth 7000 \\\n",
    "Visualization.load(f'{data_dir}/alpha-rarefaction_denovo.qzv')"
   ]
  },
  {
   "cell_type": "code",
   "execution_count": 29,
   "id": "1400562b-0625-494b-a7b8-ad4a2449b2e7",
   "metadata": {},
   "outputs": [
    {
     "name": "stdout",
     "output_type": "stream",
     "text": [
      "\u001b[32mSaved Visualization to: CE/alpha-rarefaction_insertion.qzv\u001b[0m\n",
      "\u001b[0m"
     ]
    }
   ],
   "source": [
    "! qiime diversity alpha-rarefaction \\\n",
    "    --i-table $data_dir/dada2_table_align_filtered.qza \\\n",
    "    --i-phylogeny $data_dir/sepp-tree.qza \\\n",
    "    --p-max-depth 100000 \\\n",
    "    --m-metadata-file $data_dir/food-metadata.tsv\\\n",
    "    --o-visualization $data_dir/alpha-rarefaction_insertion.qzv"
   ]
  },
  {
   "cell_type": "code",
   "execution_count": 30,
   "id": "e91f91a8-7208-4145-8648-5f77e637aeaf",
   "metadata": {},
   "outputs": [
    {
     "data": {
      "text/html": [
       "<div><img onload=\"(function(div, url){\n",
       "if (typeof require !== 'undefined') {\n",
       "    var baseURL = require.toUrl('').split('/').slice(0, -2).join('/');\n",
       "} else {\n",
       "    var baseURL = JSON.parse(\n",
       "        document.getElementById('jupyter-config-data').innerHTML\n",
       "    ).baseUrl.slice(0, -1);\n",
       "}\n",
       "url = baseURL + url;\n",
       "fetch(url).then(function(res) {\n",
       "    if (res.status === 404) {\n",
       "        div.innerHTML = 'Install QIIME 2 Jupyter extension with:<br />' +\n",
       "                        '<code>jupyter serverextension enable --py qiime2' +\n",
       "                        ' --sys-prefix</code><br />then restart your server.' +\n",
       "                        '<br /><br />(Interactive output not available on ' +\n",
       "                        'static notebook viewer services like nbviewer.)';\n",
       "    } else if (res.status === 409) {\n",
       "        div.innerHTML = 'Visualization no longer in scope. Re-run this cell' +\n",
       "                        ' to see the visualization.';\n",
       "    } else if (res.ok) {\n",
       "        url = res.url;\n",
       "        div.innerHTML = '<iframe src=\\'' + url + '\\' style=\\'' +\n",
       "                        'width: 100%; height: 700px; border: 0;\\'>' +\n",
       "                        '</iframe><hr />Open in a: <a href=\\'' + url + '\\'' +\n",
       "                        ' target=\\'_blank\\'>new window</a>'\n",
       "    } else {\n",
       "        div.innerHTML = 'Something has gone wrong. Check notebook server for' +\n",
       "                        ' errors.';\n",
       "    }\n",
       "});\n",
       "})(this.parentElement, '/qiime2/redirect?location=/tmp/qiime2-archive-p_r9mond')\" src=\"data:image/gif;base64,R0lGODlhAQABAIAAAP///wAAACH5BAEAAAAALAAAAAABAAEAAAICRAEAOw==\" /></div>"
      ],
      "text/plain": [
       "<visualization: Visualization uuid: 451f3775-a4b4-4ef5-85a2-fc702c1dceea>"
      ]
     },
     "execution_count": 30,
     "metadata": {},
     "output_type": "execute_result"
    }
   ],
   "source": [
    "#fragment insertion tree: number of samples has plateau at around 7000 for rind-type\n",
    "#could change --p-max-depth  7000\\\n",
    "Visualization.load(f'{data_dir}/alpha-rarefaction_insertion.qzv')"
   ]
  },
  {
   "cell_type": "markdown",
   "id": "7b729072-a286-4522-9f30-6eaee03bfcb6",
   "metadata": {},
   "source": [
    "Observation: no difference was found for denovo vs fragment insertion tree.\n",
    "I would cut at 1500 and choose that as sequencing depth. The plateau is already reched for almost all fators then and the number of samples starts decreasing. With 1500 we don't loose too much. It could even be set lower, at around 1250.\n",
    "\n",
    "at 1500: X samples are left (loose X samples)"
   ]
  },
  {
   "cell_type": "markdown",
   "id": "f94c1b6e-5328-474e-aa73-45cf509a4248",
   "metadata": {},
   "source": [
    "Sequencing depth of 1500 for rarefaction: now let's have a look at the whitin-sample diversity (= alpha div.) Done for fragment-insertion tree."
   ]
  },
  {
   "cell_type": "code",
   "execution_count": 28,
   "id": "3b8fcd33-800c-4b0c-91cf-65cd5dc2135f",
   "metadata": {},
   "outputs": [
    {
     "name": "stdout",
     "output_type": "stream",
     "text": [
      "\u001b[32mSaved FeatureTable[Frequency] to: CE/core-metrics-results_insertion_1500/rarefied_table.qza\u001b[0m\n",
      "\u001b[32mSaved SampleData[AlphaDiversity] to: CE/core-metrics-results_insertion_1500/faith_pd_vector.qza\u001b[0m\n",
      "\u001b[32mSaved SampleData[AlphaDiversity] to: CE/core-metrics-results_insertion_1500/observed_features_vector.qza\u001b[0m\n",
      "\u001b[32mSaved SampleData[AlphaDiversity] to: CE/core-metrics-results_insertion_1500/shannon_vector.qza\u001b[0m\n",
      "\u001b[32mSaved SampleData[AlphaDiversity] to: CE/core-metrics-results_insertion_1500/evenness_vector.qza\u001b[0m\n",
      "\u001b[32mSaved DistanceMatrix to: CE/core-metrics-results_insertion_1500/unweighted_unifrac_distance_matrix.qza\u001b[0m\n",
      "\u001b[32mSaved DistanceMatrix to: CE/core-metrics-results_insertion_1500/weighted_unifrac_distance_matrix.qza\u001b[0m\n",
      "\u001b[32mSaved DistanceMatrix to: CE/core-metrics-results_insertion_1500/jaccard_distance_matrix.qza\u001b[0m\n",
      "\u001b[32mSaved DistanceMatrix to: CE/core-metrics-results_insertion_1500/bray_curtis_distance_matrix.qza\u001b[0m\n",
      "\u001b[32mSaved PCoAResults to: CE/core-metrics-results_insertion_1500/unweighted_unifrac_pcoa_results.qza\u001b[0m\n",
      "\u001b[32mSaved PCoAResults to: CE/core-metrics-results_insertion_1500/weighted_unifrac_pcoa_results.qza\u001b[0m\n",
      "\u001b[32mSaved PCoAResults to: CE/core-metrics-results_insertion_1500/jaccard_pcoa_results.qza\u001b[0m\n",
      "\u001b[32mSaved PCoAResults to: CE/core-metrics-results_insertion_1500/bray_curtis_pcoa_results.qza\u001b[0m\n",
      "\u001b[32mSaved Visualization to: CE/core-metrics-results_insertion_1500/unweighted_unifrac_emperor.qzv\u001b[0m\n",
      "\u001b[32mSaved Visualization to: CE/core-metrics-results_insertion_1500/weighted_unifrac_emperor.qzv\u001b[0m\n",
      "\u001b[32mSaved Visualization to: CE/core-metrics-results_insertion_1500/jaccard_emperor.qzv\u001b[0m\n",
      "\u001b[32mSaved Visualization to: CE/core-metrics-results_insertion_1500/bray_curtis_emperor.qzv\u001b[0m\n",
      "\u001b[0m"
     ]
    }
   ],
   "source": [
    "! qiime diversity core-metrics-phylogenetic \\\n",
    "  --i-table $data_dir/dada2_table_align_filtered.qza \\\n",
    "  --i-phylogeny $data_dir/sepp-tree.qza \\\n",
    "  --m-metadata-file $data_dir/food-metadata.tsv \\\n",
    "  --p-sampling-depth 1500 \\\n",
    "  --output-dir $data_dir/core-metrics-results_insertion_1500"
   ]
  },
  {
   "cell_type": "code",
   "execution_count": null,
   "id": "1b467107-6495-4835-b80f-854f35feccbe",
   "metadata": {},
   "outputs": [],
   "source": []
  },
  {
   "cell_type": "code",
   "execution_count": null,
   "id": "573b24fb-18d3-4383-acfe-8a2fe5c4138c",
   "metadata": {},
   "outputs": [],
   "source": []
  },
  {
   "cell_type": "markdown",
   "id": "59401467-6c5e-4133-a21d-8ad55f0acfd5",
   "metadata": {},
   "source": [
    "## Diversity analysis"
   ]
  },
  {
   "cell_type": "code",
   "execution_count": null,
   "id": "43202e29-d2d3-4036-9477-170c3dbac1a3",
   "metadata": {},
   "outputs": [],
   "source": []
  },
  {
   "cell_type": "markdown",
   "id": "10ec403b-496e-4919-b70e-54d23e19ae04",
   "metadata": {},
   "source": [
    "## Alpha diversity"
   ]
  },
  {
   "cell_type": "code",
   "execution_count": null,
   "id": "ec8f2f16-4045-4af5-8266-513450a083d2",
   "metadata": {},
   "outputs": [],
   "source": []
  },
  {
   "cell_type": "code",
   "execution_count": null,
   "id": "69cf080c-50f8-4141-b481-87b2b0627f31",
   "metadata": {},
   "outputs": [],
   "source": []
  },
  {
   "cell_type": "markdown",
   "id": "e710e1eb-1902-4d9e-89e1-057140625764",
   "metadata": {},
   "source": [
    "## Beta diversity"
   ]
  },
  {
   "cell_type": "markdown",
   "id": "e359de46-b0f3-4e1e-afc1-b36efd68cc7d",
   "metadata": {},
   "source": [
    "Analyse beta diversity from core-metrics-phylogenetic action:"
   ]
  },
  {
   "cell_type": "code",
   "execution_count": null,
   "id": "7c347aac-9c5c-4d04-85d8-0a7179a81f30",
   "metadata": {},
   "outputs": [],
   "source": []
  },
  {
   "cell_type": "markdown",
   "id": "be06040d-c059-47fd-851b-ef17a22d9707",
   "metadata": {},
   "source": [
    "Measure beta diversity in q2-diversity with the beta method. This method gives access to a wider selection of distance metrics than those used by core-metrics-phylogenetic."
   ]
  },
  {
   "cell_type": "code",
   "execution_count": 6,
   "id": "aa95f0a2-83e6-4f08-8740-5c0b4e939bf2",
   "metadata": {},
   "outputs": [
    {
     "name": "stdout",
     "output_type": "stream",
     "text": [
      "Usage: \u001b[94mqiime diversity beta-correlation\u001b[0m [OPTIONS]\n",
      "\n",
      "  Create a distance matrix from a numeric metadata column and apply a two-\n",
      "  sided Mantel test to identify correlation between two distance matrices.\n",
      "  Actions used internally: `distance-matrix` from q2-metadata and `mantel`\n",
      "  from q2-diversity.\n",
      "\n",
      "\u001b[1mInputs\u001b[0m:\n",
      "  \u001b[94m\u001b[4m--i-distance-matrix\u001b[0m ARTIFACT\n",
      "    \u001b[32mDistanceMatrix\u001b[0m     Matrix of distances between pairs of samples.\n",
      "                                                                    \u001b[35m[required]\u001b[0m\n",
      "\u001b[1mParameters\u001b[0m:\n",
      "  \u001b[94m\u001b[4m--m-metadata-file\u001b[0m METADATA\n",
      "  \u001b[94m\u001b[4m--m-metadata-column\u001b[0m COLUMN  \u001b[32mMetadataColumn[Numeric]\u001b[0m\n",
      "                       Numeric metadata column from which to compute pairwise\n",
      "                       Euclidean distances                          \u001b[35m[required]\u001b[0m\n",
      "  \u001b[94m--p-method\u001b[0m TEXT \u001b[32mChoices('spearman', 'pearson')\u001b[0m\n",
      "                       The correlation test to be applied in the Mantel test.\n",
      "                                                         \u001b[35m[default: 'spearman']\u001b[0m\n",
      "  \u001b[94m--p-permutations\u001b[0m INTEGER\n",
      "    \u001b[32mRange(0, None)\u001b[0m     The number of permutations to be run when computing\n",
      "                       p-values. Supplying a value of zero will disable\n",
      "                       permutation testing and p-values will not be calculated\n",
      "                       (this results in *much* quicker execution time if\n",
      "                       p-values are not desired).               \u001b[35m[default: 999]\u001b[0m\n",
      "  \u001b[94m--p-intersect-ids\u001b[0m / \u001b[94m--p-no-intersect-ids\u001b[0m\n",
      "                       If supplied, IDs that are not found in both distance\n",
      "                       matrices will be discarded before applying the Mantel\n",
      "                       test. Default behavior is to error on any mismatched\n",
      "                       IDs.                                   \u001b[35m[default: False]\u001b[0m\n",
      "  \u001b[94m--p-label1\u001b[0m TEXT      Label for `\u001b[4mdistance-matrix\u001b[0m` in the output\n",
      "                       visualization.                    \u001b[35m[default: 'Metadata']\u001b[0m\n",
      "  \u001b[94m--p-label2\u001b[0m TEXT      Label for `\u001b[4mmetadata-distance-matrix\u001b[0m` in the output\n",
      "                       visualization.             \u001b[35m[default: 'Distance Matrix']\u001b[0m\n",
      "\u001b[1mOutputs\u001b[0m:\n",
      "  \u001b[94m\u001b[4m--o-metadata-distance-matrix\u001b[0m ARTIFACT\n",
      "    \u001b[32mDistanceMatrix\u001b[0m     The Distance Matrix produced from the metadata column\n",
      "                       and used in the mantel test                  \u001b[35m[required]\u001b[0m\n",
      "  \u001b[94m\u001b[4m--o-mantel-scatter-visualization\u001b[0m VISUALIZATION\n",
      "                       Scatter plot rendering of the manteltest results\n",
      "                                                                    \u001b[35m[required]\u001b[0m\n",
      "\u001b[1mMiscellaneous\u001b[0m:\n",
      "  \u001b[94m--output-dir\u001b[0m PATH    Output unspecified results to a directory\n",
      "  \u001b[94m--verbose\u001b[0m / \u001b[94m--quiet\u001b[0m  Display verbose output to stdout and/or stderr during\n",
      "                       execution of this action. Or silence output if\n",
      "                       execution is successful (silence is golden).\n",
      "  \u001b[94m--example-data\u001b[0m PATH  Write example data and exit.\n",
      "  \u001b[94m--citations\u001b[0m          Show citations and exit.\n",
      "  \u001b[94m--help\u001b[0m               Show this message and exit.\n"
     ]
    }
   ],
   "source": [
    "! qiime diversity beta-correlation --help"
   ]
  },
  {
   "cell_type": "code",
   "execution_count": null,
   "id": "26d3a979-a181-4cae-9b35-2e66270d083e",
   "metadata": {},
   "outputs": [],
   "source": [
    "! qiime diversity beta-correlation\n",
    "  --i-distance-matrix \n",
    "  --m-metadata-file $data_dir/food-metadata.tsv \\\n",
    "  --m-metadata-column\n",
    "  --o-metadata-distance-matrix $data_dir/beta-div-distance-matrix.qza \\\n",
    "  --o-mantel-scatter-visualization $data_dir/beta-div-mantel-scatter-vis.qzv "
   ]
  }
 ],
 "metadata": {
  "kernelspec": {
   "display_name": "Python 3 (ipykernel)",
   "language": "python",
   "name": "python3"
  },
  "language_info": {
   "codemirror_mode": {
    "name": "ipython",
    "version": 3
   },
   "file_extension": ".py",
   "mimetype": "text/x-python",
   "name": "python",
   "nbconvert_exporter": "python",
   "pygments_lexer": "ipython3",
   "version": "3.8.13"
  }
 },
 "nbformat": 4,
 "nbformat_minor": 5
}
