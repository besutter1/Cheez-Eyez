{
 "cells": [
  {
   "cell_type": "markdown",
   "id": "73291ca4-06b6-4ea4-aab4-db160c3905c4",
   "metadata": {},
   "source": [
    "### NOTE: THIS FILE COMPAIRES THE FULL LENGTH CLASSIFIER VS THE 515f/806r CLASSIFIER FROM GREENGENES. "
   ]
  },
  {
   "cell_type": "code",
   "execution_count": null,
   "id": "6adc1e20-8c37-480a-ab48-ec9c42240bdd",
   "metadata": {},
   "outputs": [],
   "source": [
    "import os\n",
    "import pandas as pd\n",
    "from qiime2 import Visualization\n",
    "import matplotlib.pyplot as plt\n",
    "import numpy as np\n",
    "\n",
    "import qiime2 as q2\n",
    "\n",
    "%matplotlib inline\n",
    "data_dir = 'CE'"
   ]
  },
  {
   "cell_type": "code",
   "execution_count": null,
   "id": "fca44ada-7573-4c45-a030-b92a56ab9915",
   "metadata": {},
   "outputs": [],
   "source": [
    "#fetch the pre-trained classifier \n",
    "! wget -nv -O $data_dir/gg-13-8-99-nb-classifier.qza https://data.qiime2.org/2022.8/common/gg-13-8-99-nb-classifier.qza\n"
   ]
  },
  {
   "cell_type": "code",
   "execution_count": null,
   "id": "e430deef-b03d-427e-8c4a-cfec41f7a67f",
   "metadata": {},
   "outputs": [],
   "source": [
    "! qiime feature-classifier classify-sklearn \\\n",
    "    --i-classifier $data_dir/gg-13-8-99-nb-classifier.qza \\\n",
    "    --i-reads $data_dir/dada2_rep_set.qza \\\n",
    "    --o-classification $data_dir/taxonomy_full_length.qza"
   ]
  },
  {
   "cell_type": "code",
   "execution_count": null,
   "id": "fdc42020-f17b-4a4d-8e0c-27fba67b87f9",
   "metadata": {},
   "outputs": [],
   "source": [
    "! qiime tools peek $data_dir/taxonomy_full_length.qza"
   ]
  },
  {
   "cell_type": "markdown",
   "id": "60835257-72be-4d14-ad88-de75aa634ee0",
   "metadata": {},
   "source": [
    "visualizations:"
   ]
  },
  {
   "cell_type": "code",
   "execution_count": null,
   "id": "ad3da664-0324-4feb-b0c3-f38592689990",
   "metadata": {},
   "outputs": [],
   "source": [
    "! qiime metadata tabulate \\\n",
    "    --m-input-file $data_dir/taxonomy_full_length.qza \\\n",
    "    --o-visualization $data_dir/taxonomy_full_length.qzv"
   ]
  },
  {
   "cell_type": "code",
   "execution_count": null,
   "id": "921083ae-2003-4198-9589-594a4d646d9e",
   "metadata": {},
   "outputs": [],
   "source": [
    "Visualization.load(f'{data_dir}/taxonomy_full_length.qzv')"
   ]
  },
  {
   "cell_type": "code",
   "execution_count": null,
   "id": "8f3906de-62bd-4840-ad59-1b4fbb2df9d9",
   "metadata": {},
   "outputs": [],
   "source": [
    "#here we use the feature table artifact which was previously aligned with the metadata [see taxonomy.ipynb]\n",
    "#filter feature table and exclude mitochondria,chloroplast\n",
    "! qiime taxa filter-table \\\n",
    "--i-table $data_dir/dada2_table_aligned.qza \\\n",
    "--i-taxonomy $data_dir/taxonomy_full_length.qza \\\n",
    "--p-exclude mitochondria,chloroplast \\\n",
    "--o-filtered-table $data_dir/dada2_table_align_filtered_full_length.qza"
   ]
  },
  {
   "cell_type": "code",
   "execution_count": null,
   "id": "494619a6-c460-451c-938a-6ea3a7f4cbd6",
   "metadata": {},
   "outputs": [],
   "source": [
    "#filter sequences and exclude mitochondria,chloroplast\n",
    "! qiime taxa filter-seqs \\\n",
    "--i-sequences $data_dir/dada2_rep_set.qza \\\n",
    "--i-taxonomy $data_dir/taxonomy_full_length.qza \\\n",
    "--p-exclude mitochondria,chloroplast \\\n",
    "--o-filtered-sequences $data_dir/dada2_rep_set_filtered_full_length.qza"
   ]
  },
  {
   "cell_type": "code",
   "execution_count": null,
   "id": "e2c57af9-8b1e-4bf8-a353-842abff1286b",
   "metadata": {},
   "outputs": [],
   "source": [
    "#this is the new barplot with the filtered feature table and sequences NO MITOCHONDRIA AND CHLOOROPLAST VISIBLE\n",
    "! qiime taxa barplot \\\n",
    "--i-table $data_dir/dada2_table_align_filtered_full_length.qza \\\n",
    "--i-taxonomy $data_dir/taxonomy_full_length.qza \\\n",
    "--m-metadata-file $data_dir/food-metadata.tsv \\\n",
    "--o-visualization $data_dir/taxa-bar-plots_full_length_filtered.qzv"
   ]
  },
  {
   "cell_type": "code",
   "execution_count": null,
   "id": "e615a867-2a0a-4409-9020-99da30fa6d62",
   "metadata": {},
   "outputs": [],
   "source": [
    "Visualization.load(f'{data_dir}/taxa-bar-plots_full_length_filtered.qzv')"
   ]
  },
  {
   "cell_type": "markdown",
   "id": "8714fe27-5516-4de6-aae8-590639fdd66e",
   "metadata": {},
   "source": [
    "In this boxplot we see that:\n",
    "- "
   ]
  }
 ],
 "metadata": {
  "kernelspec": {
   "display_name": "Python 3 (ipykernel)",
   "language": "python",
   "name": "python3"
  },
  "language_info": {
   "codemirror_mode": {
    "name": "ipython",
    "version": 3
   },
   "file_extension": ".py",
   "mimetype": "text/x-python",
   "name": "python",
   "nbconvert_exporter": "python",
   "pygments_lexer": "ipython3",
   "version": "3.8.13"
  }
 },
 "nbformat": 4,
 "nbformat_minor": 5
}
