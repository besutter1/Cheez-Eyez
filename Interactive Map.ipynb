{
 "cells": [
  {
   "cell_type": "markdown",
   "id": "467047ae-e08e-4642-b32a-a951839f6497",
   "metadata": {},
   "source": [
    "# Interactive Map"
   ]
  },
  {
   "cell_type": "code",
   "execution_count": 4,
   "id": "6897ce7c-6bc6-4d4a-970b-2b4b6480f7d0",
   "metadata": {},
   "outputs": [],
   "source": [
    "import os\n",
    "import pandas as pd\n",
    "from qiime2 import Visualization\n",
    "from skbio import OrdinationResults\n",
    "import matplotlib.pyplot as plt\n",
    "from seaborn import scatterplot\n",
    "import numpy as np\n",
    "\n",
    "import qiime2 as q2\n",
    "\n",
    "%matplotlib inline\n",
    "data_dir = 'CE'"
   ]
  },
  {
   "cell_type": "code",
   "execution_count": 2,
   "id": "e53c9855-745a-4304-bb0f-5311389678f7",
   "metadata": {},
   "outputs": [],
   "source": [
    "# The following two commands were executed in the terminal"
   ]
  },
  {
   "cell_type": "code",
   "execution_count": 3,
   "id": "312dfea4-dafb-492b-ac60-994d916f2075",
   "metadata": {},
   "outputs": [
    {
     "ename": "SyntaxError",
     "evalue": "invalid syntax (685299790.py, line 1)",
     "output_type": "error",
     "traceback": [
      "\u001b[0;36m  Input \u001b[0;32mIn [3]\u001b[0;36m\u001b[0m\n\u001b[0;31m    qiime diversity alpha --i-table dada2_table_align_filtered.qza --p-metric observed_features --o-alpha-diversity alpha_diversity_sample.qza\u001b[0m\n\u001b[0m          ^\u001b[0m\n\u001b[0;31mSyntaxError\u001b[0m\u001b[0;31m:\u001b[0m invalid syntax\n"
     ]
    }
   ],
   "source": [
    "qiime diversity alpha --i-table dada2_table_align_filtered.qza --p-metric observed_features --o-alpha-diversity alpha_diversity_sample.qza"
   ]
  },
  {
   "cell_type": "code",
   "execution_count": null,
   "id": "ff64e9a3-29b1-473e-a711-322fc2f3e96d",
   "metadata": {},
   "outputs": [],
   "source": [
    "qiime coordinates draw-interactive-map --m-metadata-file alpha_diversity_sample.qza --m-metadata-file food-metadata.tsv --p-latitude latitude --p-longitude longitude --p-column observed_features --o-visualization diversity-interactive-map.qzv"
   ]
  },
  {
   "cell_type": "code",
   "execution_count": null,
   "id": "aa22f39a-5833-4e6d-808d-c350385cf436",
   "metadata": {},
   "outputs": [],
   "source": [
    "# here is the interactive map to download"
   ]
  },
  {
   "cell_type": "code",
   "execution_count": 5,
   "id": "45456245-a0df-4fea-87bd-9309c28b9845",
   "metadata": {},
   "outputs": [
    {
     "name": "stdout",
     "output_type": "stream",
     "text": [
      "2022-12-17 19:28:57 URL:https://polybox.ethz.ch/index.php/s/ighOn6YVfaH3kp3/download [1232460/1232460] -> \"CE/diversity-interactive-map.qzv\" [1]\n"
     ]
    }
   ],
   "source": [
    "! wget -nv -O $data_dir/diversity-interactive-map.qzv 'https://polybox.ethz.ch/index.php/s/ighOn6YVfaH3kp3/download'"
   ]
  },
  {
   "cell_type": "code",
   "execution_count": 6,
   "id": "b072feb9-93e9-45c7-8ca8-1c318ae2e1c1",
   "metadata": {},
   "outputs": [
    {
     "data": {
      "text/html": [
       "<div><img onload=\"(function(div, url){\n",
       "if (typeof require !== 'undefined') {\n",
       "    var baseURL = require.toUrl('').split('/').slice(0, -2).join('/');\n",
       "} else {\n",
       "    var baseURL = JSON.parse(\n",
       "        document.getElementById('jupyter-config-data').innerHTML\n",
       "    ).baseUrl.slice(0, -1);\n",
       "}\n",
       "url = baseURL + url;\n",
       "fetch(url).then(function(res) {\n",
       "    if (res.status === 404) {\n",
       "        div.innerHTML = 'Install QIIME 2 Jupyter extension with:<br />' +\n",
       "                        '<code>jupyter serverextension enable --py qiime2' +\n",
       "                        ' --sys-prefix</code><br />then restart your server.' +\n",
       "                        '<br /><br />(Interactive output not available on ' +\n",
       "                        'static notebook viewer services like nbviewer.)';\n",
       "    } else if (res.status === 409) {\n",
       "        div.innerHTML = 'Visualization no longer in scope. Re-run this cell' +\n",
       "                        ' to see the visualization.';\n",
       "    } else if (res.ok) {\n",
       "        url = res.url;\n",
       "        div.innerHTML = '<iframe src=\\'' + url + '\\' style=\\'' +\n",
       "                        'width: 100%; height: 700px; border: 0;\\'>' +\n",
       "                        '</iframe><hr />Open in a: <a href=\\'' + url + '\\'' +\n",
       "                        ' target=\\'_blank\\'>new window</a>'\n",
       "    } else {\n",
       "        div.innerHTML = 'Something has gone wrong. Check notebook server for' +\n",
       "                        ' errors.';\n",
       "    }\n",
       "});\n",
       "})(this.parentElement, '/qiime2/redirect?location=/tmp/qiime2-archive-q3_d4_ds')\" src=\"data:image/gif;base64,R0lGODlhAQABAIAAAP///wAAACH5BAEAAAAALAAAAAABAAEAAAICRAEAOw==\" /></div>"
      ],
      "text/plain": [
       "<visualization: Visualization uuid: dfcb57b3-5e53-46b7-8b97-b7af0d2f6477>"
      ]
     },
     "execution_count": 6,
     "metadata": {},
     "output_type": "execute_result"
    }
   ],
   "source": [
    "# load visualization\n",
    "Visualization.load(f'{data_dir}/diversity-interactive-map.qzv')"
   ]
  }
 ],
 "metadata": {
  "kernelspec": {
   "display_name": "Python 3 (ipykernel)",
   "language": "python",
   "name": "python3"
  },
  "language_info": {
   "codemirror_mode": {
    "name": "ipython",
    "version": 3
   },
   "file_extension": ".py",
   "mimetype": "text/x-python",
   "name": "python",
   "nbconvert_exporter": "python",
   "pygments_lexer": "ipython3",
   "version": "3.8.13"
  }
 },
 "nbformat": 4,
 "nbformat_minor": 5
}
