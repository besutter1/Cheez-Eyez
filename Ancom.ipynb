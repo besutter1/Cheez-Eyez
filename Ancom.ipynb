{
 "cells": [
  {
   "cell_type": "markdown",
   "id": "687bd2c6-37cc-415a-b94d-de320d57554d",
   "metadata": {},
   "source": [
    "In this notebook we try to analyze the differential abundance in our samples. Meaning we try to test whether individual ASVs/taxa differ in abundance between samples groups. :)\n",
    "\n",
    "We will first try to explore the data (finding out that data is not normalverteilt, shocking) and then try to use ANCOM as appropriate statistical test. "
   ]
  },
  {
   "cell_type": "code",
   "execution_count": null,
   "id": "d9dc25a8-8ca7-4492-9de7-57988c153ad8",
   "metadata": {},
   "outputs": [],
   "source": [
    "import os\n",
    "import matplotlib.pyplot as plt\n",
    "import pandas as pd\n",
    "import qiime2 as q2\n",
    "from qiime2 import Visualization\n",
    "import seaborn as sns\n",
    "from scipy.stats import shapiro, kruskal, f_oneway\n",
    "\n",
    "data_dir = 'CE'\n",
    "%matplotlib inline"
   ]
  },
  {
   "cell_type": "markdown",
   "id": "f1ed95f5-87c2-4556-88e4-828b67b6701c",
   "metadata": {},
   "source": [
    "Artifacts we need to run this Notebook:\n",
    "1. feature table = 'dada2_table_align_filtered.qza'\n",
    "2. metadata table = 'food-metadata.tsv'\n",
    "3. taxonomic classification = 'taxonomy_v4.qza'"
   ]
  },
  {
   "cell_type": "code",
   "execution_count": null,
   "id": "a088698b-d8d2-4d6c-83cc-93d64f908e3b",
   "metadata": {},
   "outputs": [],
   "source": [
    "##Data Exploration"
   ]
  }
 ],
 "metadata": {
  "kernelspec": {
   "display_name": "Python 3 (ipykernel)",
   "language": "python",
   "name": "python3"
  },
  "language_info": {
   "codemirror_mode": {
    "name": "ipython",
    "version": 3
   },
   "file_extension": ".py",
   "mimetype": "text/x-python",
   "name": "python",
   "nbconvert_exporter": "python",
   "pygments_lexer": "ipython3",
   "version": "3.8.13"
  }
 },
 "nbformat": 4,
 "nbformat_minor": 5
}
