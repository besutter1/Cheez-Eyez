{
 "cells": [
  {
   "cell_type": "markdown",
   "id": "fb679d84-ac1e-46d8-a727-801dc4c4e20d",
   "metadata": {},
   "source": [
    "Taxonomy\n",
    "---\n",
    "In this file we will assign taxonomy labels to the ASVs obtained from the denoising. In order to do that we will use the `classify-sklearn` action from the `feature-classifier` plugin and fetch:\n",
    "- a pretrained classifier (from greengenes as the silva needs too much RAM)\n",
    "- the sequences which we want to have classified (from the denoising step: dada2_rep_set.qza)\n",
    "**Note:** As we don't know which primers were used we actually cannot just take a pre-trained classifier as such classifiers corresponds to a certain primer pair/rRNA region. But we do know the sequences (101bp) originate from the V4 region (300bp) of the 16S rRNA. As the most common primer pair (515f/806r) fully covers the V4 region we think it should be possible to use a classifier which was trained with 515f/806r seqeunces. Why not use a full lenght classifier? It was reported that Species-level classification performance of 16S rRNA gene simulated reads had a slightly lower accuracy in full-lenght sequences than in V1–3 and V4 subdomains. (from https://doi.org/10.1186/s40168-018-0470-z) "
   ]
  },
  {
   "cell_type": "code",
   "execution_count": 1,
   "id": "1c0fde3e-0106-4164-a46f-dc99d671734d",
   "metadata": {},
   "outputs": [],
   "source": [
    "import os\n",
    "import pandas as pd\n",
    "from qiime2 import Visualization\n",
    "import matplotlib.pyplot as plt\n",
    "import numpy as np\n",
    "\n",
    "import qiime2 as q2\n",
    "\n",
    "%matplotlib inline\n",
    "data_dir = 'CE'"
   ]
  },
  {
   "cell_type": "code",
   "execution_count": 2,
   "id": "c2f76713-c637-4de9-b767-a71084886c80",
   "metadata": {},
   "outputs": [
    {
     "name": "stdout",
     "output_type": "stream",
     "text": [
      "2022-11-01 07:26:55 URL:https://s3-us-west-2.amazonaws.com/qiime2-data/2021.4/common/gg-13-8-99-515-806-nb-classifier.qza [28289645/28289645] -> \"CE/515f-806r-classifier.qza\" [1]\n"
     ]
    }
   ],
   "source": [
    "#fetch the pre-trained classifier \n",
    "! wget -nv -O $data_dir/515f-806r-classifier.qza https://data.qiime2.org/2021.4/common/gg-13-8-99-515-806-nb-classifier.qza"
   ]
  },
  {
   "cell_type": "code",
   "execution_count": 3,
   "id": "0d76ff74-465b-4664-9af0-9f6b8ab9299c",
   "metadata": {},
   "outputs": [
    {
     "name": "stdout",
     "output_type": "stream",
     "text": [
      "\u001b[32mSaved FeatureData[Taxonomy] to: CE/taxonomy_v4.qza\u001b[0m\n",
      "\u001b[0m"
     ]
    }
   ],
   "source": [
    "! qiime feature-classifier classify-sklearn \\\n",
    "    --i-classifier $data_dir/515f-806r-classifier.qza \\\n",
    "    --i-reads $data_dir/dada2_rep_set.qza \\\n",
    "    --o-classification $data_dir/taxonomy_v4.qza"
   ]
  },
  {
   "cell_type": "markdown",
   "id": "1d0dfa34-bd0f-485f-afee-d06917fc40fe",
   "metadata": {},
   "source": [
    "This should have created a new taxonomy.qza artifact (containing our taxonomic assignments per feature)"
   ]
  },
  {
   "cell_type": "code",
   "execution_count": 4,
   "id": "f9effea5-2e2c-460f-962c-9a39e629c73d",
   "metadata": {},
   "outputs": [
    {
     "name": "stdout",
     "output_type": "stream",
     "text": [
      "\u001b[32mUUID\u001b[0m:        24a0655a-6f0c-4904-83fb-b1a2ee622b2d\n",
      "\u001b[32mType\u001b[0m:        FeatureData[Taxonomy]\n",
      "\u001b[32mData format\u001b[0m: TSVTaxonomyDirectoryFormat\n"
     ]
    }
   ],
   "source": [
    "! qiime tools peek $data_dir/taxonomy_v4.qza"
   ]
  },
  {
   "cell_type": "markdown",
   "id": "6de99771-f9d9-4ee3-8e5e-fdff856a5f8d",
   "metadata": {},
   "source": [
    "Visualizations\n",
    "---\n",
    "We can make a tabular representation of all the features labeled with their corresponding taxonomy:"
   ]
  },
  {
   "cell_type": "code",
   "execution_count": 5,
   "id": "01775c96-c2a4-4849-814b-ec6c346db2d3",
   "metadata": {},
   "outputs": [
    {
     "name": "stdout",
     "output_type": "stream",
     "text": [
      "\u001b[32mSaved Visualization to: CE/taxonomy_v4.qzv\u001b[0m\n",
      "\u001b[0m"
     ]
    }
   ],
   "source": [
    "! qiime metadata tabulate \\\n",
    "    --m-input-file $data_dir/taxonomy_v4.qza \\\n",
    "    --o-visualization $data_dir/taxonomy_v4.qzv"
   ]
  },
  {
   "cell_type": "code",
   "execution_count": 6,
   "id": "a2819261-1db0-4991-9658-e38b6a5381d5",
   "metadata": {},
   "outputs": [
    {
     "data": {
      "text/html": [
       "<div><img onload=\"(function(div, url){\n",
       "if (typeof require !== 'undefined') {\n",
       "    var baseURL = require.toUrl('').split('/').slice(0, -2).join('/');\n",
       "} else {\n",
       "    var baseURL = JSON.parse(\n",
       "        document.getElementById('jupyter-config-data').innerHTML\n",
       "    ).baseUrl.slice(0, -1);\n",
       "}\n",
       "url = baseURL + url;\n",
       "fetch(url).then(function(res) {\n",
       "    if (res.status === 404) {\n",
       "        div.innerHTML = 'Install QIIME 2 Jupyter extension with:<br />' +\n",
       "                        '<code>jupyter serverextension enable --py qiime2' +\n",
       "                        ' --sys-prefix</code><br />then restart your server.' +\n",
       "                        '<br /><br />(Interactive output not available on ' +\n",
       "                        'static notebook viewer services like nbviewer.)';\n",
       "    } else if (res.status === 409) {\n",
       "        div.innerHTML = 'Visualization no longer in scope. Re-run this cell' +\n",
       "                        ' to see the visualization.';\n",
       "    } else if (res.ok) {\n",
       "        url = res.url;\n",
       "        div.innerHTML = '<iframe src=\\'' + url + '\\' style=\\'' +\n",
       "                        'width: 100%; height: 700px; border: 0;\\'>' +\n",
       "                        '</iframe><hr />Open in a: <a href=\\'' + url + '\\'' +\n",
       "                        ' target=\\'_blank\\'>new window</a>'\n",
       "    } else {\n",
       "        div.innerHTML = 'Something has gone wrong. Check notebook server for' +\n",
       "                        ' errors.';\n",
       "    }\n",
       "});\n",
       "})(this.parentElement, '/qiime2/redirect?location=/tmp/qiime2-archive-953srnn_')\" src=\"data:image/gif;base64,R0lGODlhAQABAIAAAP///wAAACH5BAEAAAAALAAAAAABAAEAAAICRAEAOw==\" /></div>"
      ],
      "text/plain": [
       "<visualization: Visualization uuid: bc235c07-9c64-496f-9bd1-fc5f5e958239>"
      ]
     },
     "execution_count": 6,
     "metadata": {},
     "output_type": "execute_result"
    }
   ],
   "source": [
    "Visualization.load(f'{data_dir}/taxonomy_v4.qzv')"
   ]
  },
  {
   "cell_type": "markdown",
   "id": "17a89e80-dee8-4744-965e-bcf7a118438f",
   "metadata": {},
   "source": [
    "By combining the taxonomic inforamtion with the metadata of our samples we can also get a hint of what the distribution of species is in the different samples! \n",
    "**Note:** dada2_table is a feature table from the denoising step which includes all ASVs (with error-corrected sequences)"
   ]
  },
  {
   "cell_type": "code",
   "execution_count": 3,
   "id": "69e86b8e-6a8f-4700-bdc3-98843145831b",
   "metadata": {},
   "outputs": [
    {
     "name": "stdout",
     "output_type": "stream",
     "text": [
      "2022-11-01 10:06:37 URL:https://polybox.ethz.ch/index.php/s/nEd4l5CWGWGEtae/download [42810/42810] -> \"CE/fmetadata.tsv\" [1]\n"
     ]
    }
   ],
   "source": [
    "! wget -nv -O $data_dir/fmetadata.tsv 'https://polybox.ethz.ch/index.php/s/nEd4l5CWGWGEtae/download'"
   ]
  },
  {
   "cell_type": "code",
   "execution_count": 4,
   "id": "4b5f7bcc-a85b-4ec0-9a86-24c978c5c93f",
   "metadata": {},
   "outputs": [
    {
     "name": "stdout",
     "output_type": "stream",
     "text": [
      "515f-806r-classifier.qza\n",
      "cheese-single-end-demux.qza\n",
      "cheese-single-end-demux.qzv\n",
      "dada2_rep_set.qza\n",
      "dada2_rep_set.qzv\n",
      "dada2_stats.qza\n",
      "dada2_stats.qzv\n",
      "dada2_table.qza\n",
      "dada2_table.qzv\n",
      "fmetadata.tsv\n",
      "food-metadata.tsv\n",
      "taxonomy_v4.qza\n",
      "taxonomy_v4.qzv\n"
     ]
    }
   ],
   "source": [
    "! ls -1 $data_dir"
   ]
  },
  {
   "cell_type": "code",
   "execution_count": 5,
   "id": "029aeecc-ba4e-4370-8b94-e545d89abd81",
   "metadata": {},
   "outputs": [],
   "source": [
    "df_meta = pd.read_csv(f'{data_dir}/fmetadata.tsv', sep='\\t', index_col=0)"
   ]
  },
  {
   "cell_type": "code",
   "execution_count": 7,
   "id": "56de86eb-90c6-447c-bbce-fa59d822edd5",
   "metadata": {},
   "outputs": [
    {
     "name": "stdout",
     "output_type": "stream",
     "text": [
      "\u001b[31m\u001b[1mPlugin error from feature-table:\n",
      "\n",
      "  The following IDs are not present in the metadata: '11488.CSB396', '11488.CSB397', '11488.CSB398', '11488.CSB696', '11488.CSB712', '11488.CSB713', '11488.CSB966', '11488.CSB969'\n",
      "\n",
      "Debug info has been saved to /tmp/qiime2-q2cli-err-qunp4f8i.log\u001b[0m\n",
      "\u001b[0m"
     ]
    }
   ],
   "source": [
    "! qiime feature-table summarize \\\n",
    "    --i-table $data_dir/dada2_table.qza \\\n",
    "    --m-sample-metadata-file $data_dir/food-metadata.tsv \\\n",
    "    --o-visualization $data_dir/dada2_table.qzv"
   ]
  },
  {
   "cell_type": "code",
   "execution_count": null,
   "id": "59b9c499-b4d5-4dfa-83a8-cc6c9c7514f2",
   "metadata": {},
   "outputs": [],
   "source": [
    "Visualization.load(f'{data_dir}/dada2_table.qzv')"
   ]
  },
  {
   "cell_type": "code",
   "execution_count": 8,
   "id": "1adc0d65-9a05-4841-9141-645fb5a8ea15",
   "metadata": {},
   "outputs": [
    {
     "name": "stdout",
     "output_type": "stream",
     "text": [
      "\u001b[31m\u001b[1mPlugin error from taxa:\n",
      "\n",
      "  Sample IDs found in the table are missing in the metadata: {'11488.CSB397', '11488.CSB713', '11488.CSB396', '11488.CSB696', '11488.CSB712', '11488.CSB969', '11488.CSB966', '11488.CSB398'}.\n",
      "\n",
      "Debug info has been saved to /tmp/qiime2-q2cli-err-9ikegcm0.log\u001b[0m\n",
      "\u001b[0m"
     ]
    }
   ],
   "source": [
    "! qiime taxa barplot \\\n",
    "    --i-table $data_dir/dada2_table.qza \\\n",
    "    --i-taxonomy $data_dir/taxonomy_v4.qza \\\n",
    "    --m-metadata-file $data_dir/food-metadata.tsv \\\n",
    "    --o-visualization $data_dir/taxa-bar-plots_v4.qzv"
   ]
  },
  {
   "cell_type": "code",
   "execution_count": 9,
   "id": "b837c4b9-9a11-47a5-b968-6967c1de97ff",
   "metadata": {},
   "outputs": [
    {
     "ename": "ValueError",
     "evalue": "CE/taxa-bar-plots_v4.qzv does not exist.",
     "output_type": "error",
     "traceback": [
      "\u001b[0;31m---------------------------------------------------------------------------\u001b[0m",
      "\u001b[0;31mValueError\u001b[0m                                Traceback (most recent call last)",
      "Input \u001b[0;32mIn [9]\u001b[0m, in \u001b[0;36m<cell line: 1>\u001b[0;34m()\u001b[0m\n\u001b[0;32m----> 1\u001b[0m \u001b[43mVisualization\u001b[49m\u001b[38;5;241;43m.\u001b[39;49m\u001b[43mload\u001b[49m\u001b[43m(\u001b[49m\u001b[38;5;124;43mf\u001b[39;49m\u001b[38;5;124;43m'\u001b[39;49m\u001b[38;5;132;43;01m{\u001b[39;49;00m\u001b[43mdata_dir\u001b[49m\u001b[38;5;132;43;01m}\u001b[39;49;00m\u001b[38;5;124;43m/taxa-bar-plots_v4.qzv\u001b[39;49m\u001b[38;5;124;43m'\u001b[39;49m\u001b[43m)\u001b[49m\n",
      "File \u001b[0;32m/opt/conda/lib/python3.8/site-packages/qiime2/sdk/result.py:66\u001b[0m, in \u001b[0;36mResult.load\u001b[0;34m(cls, filepath)\u001b[0m\n\u001b[1;32m     63\u001b[0m \u001b[38;5;129m@classmethod\u001b[39m\n\u001b[1;32m     64\u001b[0m \u001b[38;5;28;01mdef\u001b[39;00m \u001b[38;5;21mload\u001b[39m(\u001b[38;5;28mcls\u001b[39m, filepath):\n\u001b[1;32m     65\u001b[0m     \u001b[38;5;124;03m\"\"\"Factory for loading Artifacts and Visualizations.\"\"\"\u001b[39;00m\n\u001b[0;32m---> 66\u001b[0m     archiver \u001b[38;5;241m=\u001b[39m \u001b[43marchive\u001b[49m\u001b[38;5;241;43m.\u001b[39;49m\u001b[43mArchiver\u001b[49m\u001b[38;5;241;43m.\u001b[39;49m\u001b[43mload\u001b[49m\u001b[43m(\u001b[49m\u001b[43mfilepath\u001b[49m\u001b[43m)\u001b[49m\n\u001b[1;32m     68\u001b[0m     \u001b[38;5;28;01mif\u001b[39;00m Artifact\u001b[38;5;241m.\u001b[39m_is_valid_type(archiver\u001b[38;5;241m.\u001b[39mtype):\n\u001b[1;32m     69\u001b[0m         result \u001b[38;5;241m=\u001b[39m Artifact\u001b[38;5;241m.\u001b[39m\u001b[38;5;21m__new__\u001b[39m(Artifact)\n",
      "File \u001b[0;32m/opt/conda/lib/python3.8/site-packages/qiime2/core/archive/archiver.py:299\u001b[0m, in \u001b[0;36mArchiver.load\u001b[0;34m(cls, filepath)\u001b[0m\n\u001b[1;32m    297\u001b[0m \u001b[38;5;129m@classmethod\u001b[39m\n\u001b[1;32m    298\u001b[0m \u001b[38;5;28;01mdef\u001b[39;00m \u001b[38;5;21mload\u001b[39m(\u001b[38;5;28mcls\u001b[39m, filepath):\n\u001b[0;32m--> 299\u001b[0m     archive \u001b[38;5;241m=\u001b[39m \u001b[38;5;28;43mcls\u001b[39;49m\u001b[38;5;241;43m.\u001b[39;49m\u001b[43mget_archive\u001b[49m\u001b[43m(\u001b[49m\u001b[43mfilepath\u001b[49m\u001b[43m)\u001b[49m\n\u001b[1;32m    300\u001b[0m     Format \u001b[38;5;241m=\u001b[39m \u001b[38;5;28mcls\u001b[39m\u001b[38;5;241m.\u001b[39mget_format_class(archive\u001b[38;5;241m.\u001b[39mversion)\n\u001b[1;32m    301\u001b[0m     \u001b[38;5;28;01mif\u001b[39;00m Format \u001b[38;5;129;01mis\u001b[39;00m \u001b[38;5;28;01mNone\u001b[39;00m:\n",
      "File \u001b[0;32m/opt/conda/lib/python3.8/site-packages/qiime2/core/archive/archiver.py:259\u001b[0m, in \u001b[0;36mArchiver.get_archive\u001b[0;34m(cls, filepath)\u001b[0m\n\u001b[1;32m    257\u001b[0m filepath \u001b[38;5;241m=\u001b[39m pathlib\u001b[38;5;241m.\u001b[39mPath(filepath)\n\u001b[1;32m    258\u001b[0m \u001b[38;5;28;01mif\u001b[39;00m \u001b[38;5;129;01mnot\u001b[39;00m filepath\u001b[38;5;241m.\u001b[39mexists():\n\u001b[0;32m--> 259\u001b[0m     \u001b[38;5;28;01mraise\u001b[39;00m \u001b[38;5;167;01mValueError\u001b[39;00m(\u001b[38;5;124m\"\u001b[39m\u001b[38;5;132;01m%s\u001b[39;00m\u001b[38;5;124m does not exist.\u001b[39m\u001b[38;5;124m\"\u001b[39m \u001b[38;5;241m%\u001b[39m filepath)\n\u001b[1;32m    261\u001b[0m \u001b[38;5;28;01mif\u001b[39;00m _ZipArchive\u001b[38;5;241m.\u001b[39mis_archive_type(filepath):\n\u001b[1;32m    262\u001b[0m     archive \u001b[38;5;241m=\u001b[39m _ZipArchive(filepath)\n",
      "\u001b[0;31mValueError\u001b[0m: CE/taxa-bar-plots_v4.qzv does not exist."
     ]
    }
   ],
   "source": [
    "Visualization.load(f'{data_dir}/taxa-bar-plots_v4.qzv')"
   ]
  },
  {
   "cell_type": "markdown",
   "id": "6ae62e1c-61e1-4cd8-bc57-ee19f0865f06",
   "metadata": {
    "tags": []
   },
   "source": [
    "To investigate how our taxonomic analysis compares to e.g. BLAST. We can open the tabular view of our ASVs and search for some features manually (click on sequence)"
   ]
  },
  {
   "cell_type": "markdown",
   "id": "25423286-cb1e-434c-945f-31a84a249ed5",
   "metadata": {
    "tags": []
   },
   "source": [
    "**de novo tree**"
   ]
  },
  {
   "cell_type": "code",
   "execution_count": null,
   "id": "4f2b6181-8a90-4ecd-8c64-7c0e570ae0a5",
   "metadata": {},
   "outputs": [],
   "source": [
    "#Sequence alignment\n",
    " ! qiime alignment mafft \\\n",
    "     --i-sequences $data_dir/rep-seqs-filtered.qza \\\n",
    "     --o-alignment $data_dir/aligned-rep-seqs.qza"
   ]
  },
  {
   "cell_type": "code",
   "execution_count": null,
   "id": "00a14d5c-f133-48e7-b134-4526affd9ac3",
   "metadata": {},
   "outputs": [],
   "source": [
    "#Alignment masking\n",
    "! qiime alignment mask \\\n",
    "    --i-alignment $data_dir/aligned-rep-seqs.qza \\\n",
    "    --o-masked-alignment $data_dir/masked-aligned-rep-seqs.qza"
   ]
  },
  {
   "cell_type": "code",
   "execution_count": null,
   "id": "4e41d479-6d5d-46c1-9a43-8ea64a3b9597",
   "metadata": {},
   "outputs": [],
   "source": [
    "#Tree construction\n",
    "! qiime phylogeny fasttree \\\n",
    "    --i-alignment $data_dir/masked-aligned-rep-seqs.qza \\\n",
    "    --o-tree $data_dir/fasttree-tree.qza\n",
    "\n",
    "! qiime phylogeny midpoint-root \\\n",
    "    --i-tree $data_dir/fasttree-tree.qza \\\n",
    "    --o-rooted-tree $data_dir/fasttree-tree-rooted.qza"
   ]
  },
  {
   "cell_type": "code",
   "execution_count": null,
   "id": "fbf3ae38-9ccc-44a4-8856-f327a6771341",
   "metadata": {},
   "outputs": [],
   "source": [
    "#Tree visualization\n",
    " ! qiime empress tree-plot \\\n",
    "     --i-tree $data_dir/fasttree-tree-rooted.qza \\\n",
    "     --m-feature-metadata-file $data_dir/taxonomy.qza \\\n",
    "     --o-visualization $data_dir/fasttree-tree-rooted.qzv"
   ]
  },
  {
   "cell_type": "code",
   "execution_count": null,
   "id": "d402a427-e2b4-445d-827a-341cf993d924",
   "metadata": {},
   "outputs": [],
   "source": [
    "Visualization.load(f'{data_dir}/fasttree-tree-rooted.qzv')"
   ]
  },
  {
   "cell_type": "markdown",
   "id": "10829e43-1693-4508-ba87-9ad71c36f040",
   "metadata": {
    "tags": []
   },
   "source": [
    "**fragment insertion**"
   ]
  },
  {
   "cell_type": "code",
   "execution_count": 11,
   "id": "483e7eae-6a95-4573-8273-a3cb6092632a",
   "metadata": {},
   "outputs": [
    {
     "data": {
      "text/plain": [
       "'should we use Greengenes 13_8 database as well in our case?'"
      ]
     },
     "execution_count": 11,
     "metadata": {},
     "output_type": "execute_result"
    }
   ],
   "source": [
    "\"should we use Greengenes 13_8 database as well in our case?\""
   ]
  },
  {
   "cell_type": "code",
   "execution_count": null,
   "id": "51e30612-57e1-4ad1-b7f3-06c77434a696",
   "metadata": {},
   "outputs": [],
   "source": [
    "#! wget -nv -O $data_dir/sepp-refs-gg-13-8.qza https://data.qiime2.org/2021.4/common/sepp-refs-gg-13-8.qza"
   ]
  },
  {
   "cell_type": "code",
   "execution_count": null,
   "id": "ea13ddf4-56d2-4683-84ef-16505432944a",
   "metadata": {},
   "outputs": [],
   "source": [
    "# ! qiime fragment-insertion sepp \\\n",
    "#     --i-representative-sequences $data_dir/rep-seqs-filtered.qza \\\n",
    "#     --i-reference-database $data_dir/sepp-refs-gg-13-8.qza \\\n",
    "#     --p-threads 2 \\\n",
    "#     --o-tree $data_dir/sepp-tree.qza \\\n",
    "#     --o-placements $data_dir/sepp-tree-placements.qza"
   ]
  },
  {
   "cell_type": "code",
   "execution_count": null,
   "id": "2f27c237-e988-4dab-8904-964c5eb5a42f",
   "metadata": {},
   "outputs": [],
   "source": [
    "#   ! qiime empress tree-plot \\\n",
    "#       --i-tree $data_dir/sepp-tree.qza \\\n",
    "#       --m-feature-metadata-file $data_dir/taxonomy.qza \\\n",
    "#       --o-visualization $data_dir/sepp-tree-placements-tree.qzv"
   ]
  },
  {
   "cell_type": "code",
   "execution_count": null,
   "id": "4afcb335-1ddd-4892-910a-bfeae8bd0fd3",
   "metadata": {},
   "outputs": [],
   "source": [
    "Visualization.load(f'{data_dir}/sepp-tree-placements-tree.qzv')"
   ]
  }
 ],
 "metadata": {
  "kernelspec": {
   "display_name": "Python 3 (ipykernel)",
   "language": "python",
   "name": "python3"
  },
  "language_info": {
   "codemirror_mode": {
    "name": "ipython",
    "version": 3
   },
   "file_extension": ".py",
   "mimetype": "text/x-python",
   "name": "python",
   "nbconvert_exporter": "python",
   "pygments_lexer": "ipython3",
   "version": "3.8.13"
  }
 },
 "nbformat": 4,
 "nbformat_minor": 5
}
