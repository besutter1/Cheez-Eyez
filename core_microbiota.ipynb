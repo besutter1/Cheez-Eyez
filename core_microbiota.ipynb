{
 "cells": [
  {
   "cell_type": "markdown",
   "id": "0297b2b3-5173-4428-ae96-b75943c42cc2",
   "metadata": {},
   "source": [
    "Test different functions to get the core microbiota:"
   ]
  },
  {
   "cell_type": "code",
   "execution_count": 1,
   "id": "f8bf5dc9-c0c7-427a-9f7b-4a2fdabfd33b",
   "metadata": {},
   "outputs": [],
   "source": [
    "import os\n",
    "import pandas as pd\n",
    "from qiime2 import Visualization\n",
    "import matplotlib.pyplot as plt\n",
    "import numpy as np\n",
    "\n",
    "import qiime2 as q2\n",
    "\n",
    "%matplotlib inline\n",
    "data_dir = 'CE'"
   ]
  },
  {
   "cell_type": "markdown",
   "id": "228a5d03-2d4c-4f66-817a-c957aa0570e9",
   "metadata": {},
   "source": [
    "##### Download metadata"
   ]
  },
  {
   "cell_type": "code",
   "execution_count": 14,
   "id": "a0d8db21-e6c3-4652-b4e7-8aa46b3f7b95",
   "metadata": {},
   "outputs": [
    {
     "name": "stdout",
     "output_type": "stream",
     "text": [
      "2022-12-12 08:54:46 URL:https://polybox.ethz.ch/index.php/s/nEd4l5CWGWGEtae/download [42810/42810] -> \"CE/food-metadata.tsv\" [1]\n"
     ]
    }
   ],
   "source": [
    "! wget -nv -O $data_dir/food-metadata.tsv 'https://polybox.ethz.ch/index.php/s/nEd4l5CWGWGEtae/download'"
   ]
  },
  {
   "cell_type": "markdown",
   "id": "141dc6a1-2add-44ff-9cdd-e501eaa95dfb",
   "metadata": {},
   "source": [
    "Identify \"core\" features, which are features observed in a user-defined\n",
    "  fraction of the samples. Since the core features are a function of the\n",
    "  fraction of samples that the feature must be observed in to be considered\n",
    "  core, this is computed over a range of fractions defined by the\n",
    "  `min_fraction`, `max_fraction`, and `steps` parameters."
   ]
  },
  {
   "cell_type": "markdown",
   "id": "9efafde5-93a7-48b3-b2a9-04434a36b6cf",
   "metadata": {},
   "source": [
    "#### Workflow\n",
    "1) Try different parameters to find core features\n",
    "2) Find core features of all cheeses in our feature table\n",
    "3) Find core features of Swiss cheeses (in categories rindtype = natural, washed or style = alpine\n",
    "4) Find core features of similar neighboring country cheeses.\n",
    "5) Compare results of Swiss to neighboring country cheeses."
   ]
  },
  {
   "cell_type": "markdown",
   "id": "884ce5d5-93e9-4914-bd64-1b26a64e105c",
   "metadata": {},
   "source": [
    "### 1)"
   ]
  },
  {
   "cell_type": "markdown",
   "id": "d55c3aad-6c15-4c38-9eba-3372dbd3a073",
   "metadata": {},
   "source": [
    "I tried different values for the parameters:"
   ]
  },
  {
   "cell_type": "markdown",
   "id": "ed40f85e-b264-45a2-86f7-1c468d773842",
   "metadata": {},
   "source": [
    "#### 1. Try"
   ]
  },
  {
   "cell_type": "markdown",
   "id": "1aed8ece-78cd-4cd2-90cc-44d6b78ce3b1",
   "metadata": {},
   "source": [
    "Used the function with the default values:"
   ]
  },
  {
   "cell_type": "code",
   "execution_count": 9,
   "id": "a8e8ddcb-e5f8-4e1b-b676-0d07a9f90c90",
   "metadata": {},
   "outputs": [
    {
     "name": "stdout",
     "output_type": "stream",
     "text": [
      "Usage: \u001b[94mqiime feature-table core-features\u001b[0m [OPTIONS]\n",
      "\n",
      "  Identify \"core\" features, which are features observed in a user-defined\n",
      "  fraction of the samples. Since the core features are a function of the\n",
      "  fraction of samples that the feature must be observed in to be considered\n",
      "  core, this is computed over a range of fractions defined by the\n",
      "  `min_fraction`, `max_fraction`, and `steps` parameters.\n",
      "\n",
      "\u001b[1mInputs\u001b[0m:\n",
      "  \u001b[94m\u001b[4m--i-table\u001b[0m ARTIFACT \u001b[32mFeatureTable[Frequency]\u001b[0m\n",
      "                       The feature table to use in core features\n",
      "                       calculations.                                \u001b[35m[required]\u001b[0m\n",
      "\u001b[1mParameters\u001b[0m:\n",
      "  \u001b[94m--p-min-fraction\u001b[0m PROPORTION \u001b[32mRange(0.0, 1.0, inclusive_start=False)\u001b[0m\n",
      "                       The minimum fraction of samples that a feature must be\n",
      "                       observed in for that feature to be considered a core\n",
      "                       feature.                                 \u001b[35m[default: 0.5]\u001b[0m\n",
      "  \u001b[94m--p-max-fraction\u001b[0m PROPORTION \u001b[32mRange(0.0, 1.0, inclusive_end=True)\u001b[0m\n",
      "                       The maximum fraction of samples that a feature must be\n",
      "                       observed in for that feature to be considered a core\n",
      "                       feature.                                 \u001b[35m[default: 1.0]\u001b[0m\n",
      "  \u001b[94m--p-steps\u001b[0m INTEGER    The number of steps to take between `\u001b[4mmin-fraction\u001b[0m` and\n",
      "    \u001b[32mRange(2, None)\u001b[0m     `\u001b[4mmax-fraction\u001b[0m` for core features calculations. This\n",
      "                       parameter has no effect if `\u001b[4mmin-fraction\u001b[0m` and\n",
      "                       `\u001b[4mmax-fraction\u001b[0m` are the same value.        \u001b[35m[default: 11]\u001b[0m\n",
      "\u001b[1mOutputs\u001b[0m:\n",
      "  \u001b[94m\u001b[4m--o-visualization\u001b[0m VISUALIZATION\n",
      "                                                                    \u001b[35m[required]\u001b[0m\n",
      "\u001b[1mMiscellaneous\u001b[0m:\n",
      "  \u001b[94m--output-dir\u001b[0m PATH    Output unspecified results to a directory\n",
      "  \u001b[94m--verbose\u001b[0m / \u001b[94m--quiet\u001b[0m  Display verbose output to stdout and/or stderr during\n",
      "                       execution of this action. Or silence output if\n",
      "                       execution is successful (silence is golden).\n",
      "  \u001b[94m--example-data\u001b[0m PATH  Write example data and exit.\n",
      "  \u001b[94m--citations\u001b[0m          Show citations and exit.\n",
      "  \u001b[94m--help\u001b[0m               Show this message and exit.\n",
      "\n",
      "\u001b[33m                    There was a problem with the command:                     \u001b[0m\n",
      "\u001b[31m\u001b[1m (1/1) Invalid value for '--o-visualization': Directory 'CE/core-microbiome'\n",
      "  does not exist, cannot save 'core_microbiota.qzv' into it.\u001b[0m\n",
      "\u001b[0m"
     ]
    }
   ],
   "source": [
    "! qiime feature-table core-features \\\n",
    "--i-table $data_dir/dada2_table_align_filtered.qza \\\n",
    "--p-min-fraction 0.5 \\\n",
    "--o-visualization $data_dir/core_microbiota.qzv"
   ]
  },
  {
   "cell_type": "code",
   "execution_count": 2,
   "id": "6d24141f-3f0c-43c0-a4e4-fb910c207df1",
   "metadata": {},
   "outputs": [
    {
     "data": {
      "text/html": [
       "<div><img onload=\"(function(div, url){\n",
       "if (typeof require !== 'undefined') {\n",
       "    var baseURL = require.toUrl('').split('/').slice(0, -2).join('/');\n",
       "} else {\n",
       "    var baseURL = JSON.parse(\n",
       "        document.getElementById('jupyter-config-data').innerHTML\n",
       "    ).baseUrl.slice(0, -1);\n",
       "}\n",
       "url = baseURL + url;\n",
       "fetch(url).then(function(res) {\n",
       "    if (res.status === 404) {\n",
       "        div.innerHTML = 'Install QIIME 2 Jupyter extension with:<br />' +\n",
       "                        '<code>jupyter serverextension enable --py qiime2' +\n",
       "                        ' --sys-prefix</code><br />then restart your server.' +\n",
       "                        '<br /><br />(Interactive output not available on ' +\n",
       "                        'static notebook viewer services like nbviewer.)';\n",
       "    } else if (res.status === 409) {\n",
       "        div.innerHTML = 'Visualization no longer in scope. Re-run this cell' +\n",
       "                        ' to see the visualization.';\n",
       "    } else if (res.ok) {\n",
       "        url = res.url;\n",
       "        div.innerHTML = '<iframe src=\\'' + url + '\\' style=\\'' +\n",
       "                        'width: 100%; height: 700px; border: 0;\\'>' +\n",
       "                        '</iframe><hr />Open in a: <a href=\\'' + url + '\\'' +\n",
       "                        ' target=\\'_blank\\'>new window</a>'\n",
       "    } else {\n",
       "        div.innerHTML = 'Something has gone wrong. Check notebook server for' +\n",
       "                        ' errors.';\n",
       "    }\n",
       "});\n",
       "})(this.parentElement, '/qiime2/redirect?location=/tmp/qiime2-archive-1bowpdjq')\" src=\"data:image/gif;base64,R0lGODlhAQABAIAAAP///wAAACH5BAEAAAAALAAAAAABAAEAAAICRAEAOw==\" /></div>"
      ],
      "text/plain": [
       "<visualization: Visualization uuid: 0c0156f8-5401-48d1-80c0-988547d889ce>"
      ]
     },
     "execution_count": 2,
     "metadata": {},
     "output_type": "execute_result"
    }
   ],
   "source": [
    "Visualization.load(f'{data_dir}/core_microbiota.qzv')"
   ]
  },
  {
   "cell_type": "markdown",
   "id": "d5809fc7-ce02-4adc-aca2-0032c957cba9",
   "metadata": {},
   "source": [
    "#### 2. Try"
   ]
  },
  {
   "cell_type": "markdown",
   "id": "16b9e4bc-d3ab-473d-85d9-41b866f675c1",
   "metadata": {},
   "source": [
    "Used the function with higher min-fraction:"
   ]
  },
  {
   "cell_type": "code",
   "execution_count": 14,
   "id": "b209969a-cc8c-4020-8929-da150206a854",
   "metadata": {},
   "outputs": [
    {
     "name": "stdout",
     "output_type": "stream",
     "text": [
      "\u001b[32mSaved Visualization to: CE/core_microbiota_2.qzv\u001b[0m\n",
      "\u001b[0m"
     ]
    }
   ],
   "source": [
    "! qiime feature-table core-features \\\n",
    "--i-table $data_dir/dada2_table_align_filtered.qza \\\n",
    "--p-min-fraction 0.8 \\\n",
    "--o-visualization $data_dir/core_microbiota_2.qzv"
   ]
  },
  {
   "cell_type": "code",
   "execution_count": 3,
   "id": "0fe8511f-073a-4024-9464-b7b798238adc",
   "metadata": {},
   "outputs": [
    {
     "data": {
      "text/html": [
       "<div><img onload=\"(function(div, url){\n",
       "if (typeof require !== 'undefined') {\n",
       "    var baseURL = require.toUrl('').split('/').slice(0, -2).join('/');\n",
       "} else {\n",
       "    var baseURL = JSON.parse(\n",
       "        document.getElementById('jupyter-config-data').innerHTML\n",
       "    ).baseUrl.slice(0, -1);\n",
       "}\n",
       "url = baseURL + url;\n",
       "fetch(url).then(function(res) {\n",
       "    if (res.status === 404) {\n",
       "        div.innerHTML = 'Install QIIME 2 Jupyter extension with:<br />' +\n",
       "                        '<code>jupyter serverextension enable --py qiime2' +\n",
       "                        ' --sys-prefix</code><br />then restart your server.' +\n",
       "                        '<br /><br />(Interactive output not available on ' +\n",
       "                        'static notebook viewer services like nbviewer.)';\n",
       "    } else if (res.status === 409) {\n",
       "        div.innerHTML = 'Visualization no longer in scope. Re-run this cell' +\n",
       "                        ' to see the visualization.';\n",
       "    } else if (res.ok) {\n",
       "        url = res.url;\n",
       "        div.innerHTML = '<iframe src=\\'' + url + '\\' style=\\'' +\n",
       "                        'width: 100%; height: 700px; border: 0;\\'>' +\n",
       "                        '</iframe><hr />Open in a: <a href=\\'' + url + '\\'' +\n",
       "                        ' target=\\'_blank\\'>new window</a>'\n",
       "    } else {\n",
       "        div.innerHTML = 'Something has gone wrong. Check notebook server for' +\n",
       "                        ' errors.';\n",
       "    }\n",
       "});\n",
       "})(this.parentElement, '/qiime2/redirect?location=/tmp/qiime2-archive-tkkt_565')\" src=\"data:image/gif;base64,R0lGODlhAQABAIAAAP///wAAACH5BAEAAAAALAAAAAABAAEAAAICRAEAOw==\" /></div>"
      ],
      "text/plain": [
       "<visualization: Visualization uuid: 61f25892-088c-472b-9bc4-bcad74e4e50a>"
      ]
     },
     "execution_count": 3,
     "metadata": {},
     "output_type": "execute_result"
    }
   ],
   "source": [
    "Visualization.load(f'{data_dir}/core_microbiota_2.qzv')"
   ]
  },
  {
   "cell_type": "markdown",
   "id": "7feafd5c-ceae-45e7-a9db-f7c5f666d627",
   "metadata": {},
   "source": [
    "#### 3. Try"
   ]
  },
  {
   "cell_type": "markdown",
   "id": "871f0da0-35eb-4079-bde1-ee9fbb9e89ce",
   "metadata": {},
   "source": [
    "Using different step value:"
   ]
  },
  {
   "cell_type": "code",
   "execution_count": 17,
   "id": "99defe16-d5db-480e-a5b0-dde544d1cafc",
   "metadata": {},
   "outputs": [
    {
     "name": "stdout",
     "output_type": "stream",
     "text": [
      "\u001b[32mSaved Visualization to: CE/core_microbiota_3.qzv\u001b[0m\n",
      "\u001b[0m"
     ]
    }
   ],
   "source": [
    "! qiime feature-table core-features \\\n",
    "--i-table $data_dir/dada2_table_align_filtered.qza \\\n",
    "--p-min-fraction 0.8 \\\n",
    "--p-steps 5 \\\n",
    "--o-visualization $data_dir/core_microbiota_3.qzv"
   ]
  },
  {
   "cell_type": "code",
   "execution_count": 4,
   "id": "afc46d07-2967-4916-87bb-4b7c2ef1ca33",
   "metadata": {},
   "outputs": [
    {
     "data": {
      "text/html": [
       "<div><img onload=\"(function(div, url){\n",
       "if (typeof require !== 'undefined') {\n",
       "    var baseURL = require.toUrl('').split('/').slice(0, -2).join('/');\n",
       "} else {\n",
       "    var baseURL = JSON.parse(\n",
       "        document.getElementById('jupyter-config-data').innerHTML\n",
       "    ).baseUrl.slice(0, -1);\n",
       "}\n",
       "url = baseURL + url;\n",
       "fetch(url).then(function(res) {\n",
       "    if (res.status === 404) {\n",
       "        div.innerHTML = 'Install QIIME 2 Jupyter extension with:<br />' +\n",
       "                        '<code>jupyter serverextension enable --py qiime2' +\n",
       "                        ' --sys-prefix</code><br />then restart your server.' +\n",
       "                        '<br /><br />(Interactive output not available on ' +\n",
       "                        'static notebook viewer services like nbviewer.)';\n",
       "    } else if (res.status === 409) {\n",
       "        div.innerHTML = 'Visualization no longer in scope. Re-run this cell' +\n",
       "                        ' to see the visualization.';\n",
       "    } else if (res.ok) {\n",
       "        url = res.url;\n",
       "        div.innerHTML = '<iframe src=\\'' + url + '\\' style=\\'' +\n",
       "                        'width: 100%; height: 700px; border: 0;\\'>' +\n",
       "                        '</iframe><hr />Open in a: <a href=\\'' + url + '\\'' +\n",
       "                        ' target=\\'_blank\\'>new window</a>'\n",
       "    } else {\n",
       "        div.innerHTML = 'Something has gone wrong. Check notebook server for' +\n",
       "                        ' errors.';\n",
       "    }\n",
       "});\n",
       "})(this.parentElement, '/qiime2/redirect?location=/tmp/qiime2-archive-mrn_2fvq')\" src=\"data:image/gif;base64,R0lGODlhAQABAIAAAP///wAAACH5BAEAAAAALAAAAAABAAEAAAICRAEAOw==\" /></div>"
      ],
      "text/plain": [
       "<visualization: Visualization uuid: 6fe15849-2827-4fbf-969f-d4dae15e4cb2>"
      ]
     },
     "execution_count": 4,
     "metadata": {},
     "output_type": "execute_result"
    }
   ],
   "source": [
    "Visualization.load(f'{data_dir}/core_microbiota_3.qzv')"
   ]
  },
  {
   "cell_type": "markdown",
   "id": "01182399-9684-41ef-ae4b-c036135910cf",
   "metadata": {},
   "source": [
    "#### 4. Try"
   ]
  },
  {
   "cell_type": "markdown",
   "id": "6e51641c-12ff-4cbe-adb9-8a3791d80305",
   "metadata": {},
   "source": [
    "Use different min-fraction:"
   ]
  },
  {
   "cell_type": "code",
   "execution_count": 22,
   "id": "4f99624a-8653-400f-aeb7-f23ded2b0d2d",
   "metadata": {},
   "outputs": [
    {
     "name": "stdout",
     "output_type": "stream",
     "text": [
      "\u001b[32mSaved Visualization to: CE/core_microbiota_4.qzv\u001b[0m\n",
      "\u001b[0m"
     ]
    }
   ],
   "source": [
    "! qiime feature-table core-features \\\n",
    "--i-table $data_dir/dada2_table_align_filtered.qza \\\n",
    "--p-min-fraction 0.7 \\\n",
    "--p-steps 10 \\\n",
    "--o-visualization $data_dir/core_microbiota_4.qzv"
   ]
  },
  {
   "cell_type": "code",
   "execution_count": 5,
   "id": "00fa1d04-2385-493c-8106-c47958210ca6",
   "metadata": {},
   "outputs": [
    {
     "data": {
      "text/html": [
       "<div><img onload=\"(function(div, url){\n",
       "if (typeof require !== 'undefined') {\n",
       "    var baseURL = require.toUrl('').split('/').slice(0, -2).join('/');\n",
       "} else {\n",
       "    var baseURL = JSON.parse(\n",
       "        document.getElementById('jupyter-config-data').innerHTML\n",
       "    ).baseUrl.slice(0, -1);\n",
       "}\n",
       "url = baseURL + url;\n",
       "fetch(url).then(function(res) {\n",
       "    if (res.status === 404) {\n",
       "        div.innerHTML = 'Install QIIME 2 Jupyter extension with:<br />' +\n",
       "                        '<code>jupyter serverextension enable --py qiime2' +\n",
       "                        ' --sys-prefix</code><br />then restart your server.' +\n",
       "                        '<br /><br />(Interactive output not available on ' +\n",
       "                        'static notebook viewer services like nbviewer.)';\n",
       "    } else if (res.status === 409) {\n",
       "        div.innerHTML = 'Visualization no longer in scope. Re-run this cell' +\n",
       "                        ' to see the visualization.';\n",
       "    } else if (res.ok) {\n",
       "        url = res.url;\n",
       "        div.innerHTML = '<iframe src=\\'' + url + '\\' style=\\'' +\n",
       "                        'width: 100%; height: 700px; border: 0;\\'>' +\n",
       "                        '</iframe><hr />Open in a: <a href=\\'' + url + '\\'' +\n",
       "                        ' target=\\'_blank\\'>new window</a>'\n",
       "    } else {\n",
       "        div.innerHTML = 'Something has gone wrong. Check notebook server for' +\n",
       "                        ' errors.';\n",
       "    }\n",
       "});\n",
       "})(this.parentElement, '/qiime2/redirect?location=/tmp/qiime2-archive-g485iejn')\" src=\"data:image/gif;base64,R0lGODlhAQABAIAAAP///wAAACH5BAEAAAAALAAAAAABAAEAAAICRAEAOw==\" /></div>"
      ],
      "text/plain": [
       "<visualization: Visualization uuid: 78f37bc9-1287-4d66-bc69-3969c384e827>"
      ]
     },
     "execution_count": 5,
     "metadata": {},
     "output_type": "execute_result"
    }
   ],
   "source": [
    "Visualization.load(f'{data_dir}/core_microbiota_4.qzv')"
   ]
  },
  {
   "cell_type": "markdown",
   "id": "2d8ec70d-b5c8-41ad-b4ae-c28631dba414",
   "metadata": {},
   "source": [
    "### 2)"
   ]
  },
  {
   "cell_type": "markdown",
   "id": "860e32dc-3717-4777-9ae3-c0f2851c8d2b",
   "metadata": {},
   "source": [
    "#### Download tsv file of core features of all cheeses"
   ]
  },
  {
   "cell_type": "markdown",
   "id": "5569b62d-7e28-4bad-b1d0-6a1862ef406b",
   "metadata": {},
   "source": [
    "TSV file with feature list could be downloaded from the output above. I downloaded the file and put it on polybox. I set the treshold of fraction of samples (The fraction of the total number of samples that a feature must be observed in for that feature to be considered \"core\".) to 0.7.\n",
    "Here we import this data from the polybox:"
   ]
  },
  {
   "cell_type": "code",
   "execution_count": 11,
   "id": "bac139c4-5131-4431-90fe-e39a3553b43d",
   "metadata": {},
   "outputs": [
    {
     "name": "stdout",
     "output_type": "stream",
     "text": [
      "2022-12-12 08:53:38 URL:https://polybox.ethz.ch/index.php/s/WRm86jdxvkxPOVa/download [490/490] -> \"CE/core_microbiota_list_0.7.tsv\" [1]\n"
     ]
    }
   ],
   "source": [
    "! wget -nv -O $data_dir/core_microbiota_list_0.7.tsv 'https://polybox.ethz.ch/index.php/s/WRm86jdxvkxPOVa/download'"
   ]
  },
  {
   "cell_type": "markdown",
   "id": "e8f1cfe8-3a8f-4acd-b355-e5ae2af9a049",
   "metadata": {},
   "source": [
    "These are the core features of all cheeses:"
   ]
  },
  {
   "cell_type": "code",
   "execution_count": 3,
   "id": "1505b02a-c087-4022-b215-83bdca97d6ac",
   "metadata": {},
   "outputs": [
    {
     "data": {
      "text/html": [
       "<div>\n",
       "<style scoped>\n",
       "    .dataframe tbody tr th:only-of-type {\n",
       "        vertical-align: middle;\n",
       "    }\n",
       "\n",
       "    .dataframe tbody tr th {\n",
       "        vertical-align: top;\n",
       "    }\n",
       "\n",
       "    .dataframe thead th {\n",
       "        text-align: right;\n",
       "    }\n",
       "</style>\n",
       "<table border=\"1\" class=\"dataframe\">\n",
       "  <thead>\n",
       "    <tr style=\"text-align: right;\">\n",
       "      <th></th>\n",
       "      <th>2%</th>\n",
       "      <th>9%</th>\n",
       "      <th>25%</th>\n",
       "      <th>50%</th>\n",
       "      <th>75%</th>\n",
       "      <th>91%</th>\n",
       "      <th>98%</th>\n",
       "    </tr>\n",
       "    <tr>\n",
       "      <th>Feature ID</th>\n",
       "      <th></th>\n",
       "      <th></th>\n",
       "      <th></th>\n",
       "      <th></th>\n",
       "      <th></th>\n",
       "      <th></th>\n",
       "      <th></th>\n",
       "    </tr>\n",
       "  </thead>\n",
       "  <tbody>\n",
       "    <tr>\n",
       "      <th>f50c8ae2717bb99c926c4ab1f2a6135c</th>\n",
       "      <td>4.0</td>\n",
       "      <td>12.0</td>\n",
       "      <td>184.5</td>\n",
       "      <td>1897.5</td>\n",
       "      <td>8307.25</td>\n",
       "      <td>51957.23</td>\n",
       "      <td>88576.02</td>\n",
       "    </tr>\n",
       "    <tr>\n",
       "      <th>805c1b3ec3035abbb7b9f1f7f6157e12</th>\n",
       "      <td>0.0</td>\n",
       "      <td>13.0</td>\n",
       "      <td>98.5</td>\n",
       "      <td>741.0</td>\n",
       "      <td>6608.00</td>\n",
       "      <td>21851.37</td>\n",
       "      <td>102426.32</td>\n",
       "    </tr>\n",
       "    <tr>\n",
       "      <th>5899b66b70d688d5cd95df5fc7a26e3a</th>\n",
       "      <td>0.0</td>\n",
       "      <td>0.0</td>\n",
       "      <td>8.0</td>\n",
       "      <td>87.0</td>\n",
       "      <td>1019.25</td>\n",
       "      <td>6905.73</td>\n",
       "      <td>28623.58</td>\n",
       "    </tr>\n",
       "    <tr>\n",
       "      <th>369232e1ac9f9983056d09b9fe866df5</th>\n",
       "      <td>0.0</td>\n",
       "      <td>0.0</td>\n",
       "      <td>8.0</td>\n",
       "      <td>44.0</td>\n",
       "      <td>400.75</td>\n",
       "      <td>2877.72</td>\n",
       "      <td>12945.78</td>\n",
       "    </tr>\n",
       "    <tr>\n",
       "      <th>398e906d9ad1914eb268fda5c7453e09</th>\n",
       "      <td>0.0</td>\n",
       "      <td>3.0</td>\n",
       "      <td>6.0</td>\n",
       "      <td>32.0</td>\n",
       "      <td>1070.25</td>\n",
       "      <td>11938.72</td>\n",
       "      <td>47885.18</td>\n",
       "    </tr>\n",
       "  </tbody>\n",
       "</table>\n",
       "</div>"
      ],
      "text/plain": [
       "                                   2%    9%    25%     50%      75%       91%  \\\n",
       "Feature ID                                                                      \n",
       "f50c8ae2717bb99c926c4ab1f2a6135c  4.0  12.0  184.5  1897.5  8307.25  51957.23   \n",
       "805c1b3ec3035abbb7b9f1f7f6157e12  0.0  13.0   98.5   741.0  6608.00  21851.37   \n",
       "5899b66b70d688d5cd95df5fc7a26e3a  0.0   0.0    8.0    87.0  1019.25   6905.73   \n",
       "369232e1ac9f9983056d09b9fe866df5  0.0   0.0    8.0    44.0   400.75   2877.72   \n",
       "398e906d9ad1914eb268fda5c7453e09  0.0   3.0    6.0    32.0  1070.25  11938.72   \n",
       "\n",
       "                                        98%  \n",
       "Feature ID                                   \n",
       "f50c8ae2717bb99c926c4ab1f2a6135c   88576.02  \n",
       "805c1b3ec3035abbb7b9f1f7f6157e12  102426.32  \n",
       "5899b66b70d688d5cd95df5fc7a26e3a   28623.58  \n",
       "369232e1ac9f9983056d09b9fe866df5   12945.78  \n",
       "398e906d9ad1914eb268fda5c7453e09   47885.18  "
      ]
     },
     "execution_count": 3,
     "metadata": {},
     "output_type": "execute_result"
    }
   ],
   "source": [
    "df_core_all = pd.read_csv(f'{data_dir}/core_microbiota_list_0.7.tsv', sep ='\\t')\n",
    "df_core_all.set_index('Feature ID', inplace = True)\n",
    "df_core_all"
   ]
  },
  {
   "cell_type": "markdown",
   "id": "68f186ab-383a-4f95-bdf9-830a1a8004eb",
   "metadata": {},
   "source": [
    "Load/show qiime artifact as pandas dataframe and afterwards add the Taxon column to the core feature table."
   ]
  },
  {
   "cell_type": "code",
   "execution_count": 4,
   "id": "91be7783-2c95-4218-95c6-2b6418c99df4",
   "metadata": {},
   "outputs": [],
   "source": [
    "taxa = q2.Artifact.load(f'{data_dir}/taxonomy_v4.qza')\n",
    "taxa = taxa.view(pd.DataFrame)"
   ]
  },
  {
   "cell_type": "code",
   "execution_count": 5,
   "id": "154a6052-08fc-4af3-b779-b3cf6736a51f",
   "metadata": {},
   "outputs": [
    {
     "data": {
      "text/html": [
       "<div>\n",
       "<style scoped>\n",
       "    .dataframe tbody tr th:only-of-type {\n",
       "        vertical-align: middle;\n",
       "    }\n",
       "\n",
       "    .dataframe tbody tr th {\n",
       "        vertical-align: top;\n",
       "    }\n",
       "\n",
       "    .dataframe thead th {\n",
       "        text-align: right;\n",
       "    }\n",
       "</style>\n",
       "<table border=\"1\" class=\"dataframe\">\n",
       "  <thead>\n",
       "    <tr style=\"text-align: right;\">\n",
       "      <th></th>\n",
       "      <th>2%</th>\n",
       "      <th>9%</th>\n",
       "      <th>25%</th>\n",
       "      <th>50%</th>\n",
       "      <th>75%</th>\n",
       "      <th>91%</th>\n",
       "      <th>98%</th>\n",
       "      <th>Taxon</th>\n",
       "    </tr>\n",
       "    <tr>\n",
       "      <th>Feature ID</th>\n",
       "      <th></th>\n",
       "      <th></th>\n",
       "      <th></th>\n",
       "      <th></th>\n",
       "      <th></th>\n",
       "      <th></th>\n",
       "      <th></th>\n",
       "      <th></th>\n",
       "    </tr>\n",
       "  </thead>\n",
       "  <tbody>\n",
       "    <tr>\n",
       "      <th>f50c8ae2717bb99c926c4ab1f2a6135c</th>\n",
       "      <td>4.0</td>\n",
       "      <td>12.0</td>\n",
       "      <td>184.5</td>\n",
       "      <td>1897.5</td>\n",
       "      <td>8307.25</td>\n",
       "      <td>51957.23</td>\n",
       "      <td>88576.02</td>\n",
       "      <td>k__Bacteria; p__Actinobacteria; c__Actinobacteria; o__Actinomycetales; f__Brevibacteriaceae; g__Brevibacterium</td>\n",
       "    </tr>\n",
       "    <tr>\n",
       "      <th>805c1b3ec3035abbb7b9f1f7f6157e12</th>\n",
       "      <td>0.0</td>\n",
       "      <td>13.0</td>\n",
       "      <td>98.5</td>\n",
       "      <td>741.0</td>\n",
       "      <td>6608.00</td>\n",
       "      <td>21851.37</td>\n",
       "      <td>102426.32</td>\n",
       "      <td>k__Bacteria; p__Firmicutes; c__Bacilli; o__Bacillales; f__Staphylococcaceae; g__Staphylococcus</td>\n",
       "    </tr>\n",
       "    <tr>\n",
       "      <th>5899b66b70d688d5cd95df5fc7a26e3a</th>\n",
       "      <td>0.0</td>\n",
       "      <td>0.0</td>\n",
       "      <td>8.0</td>\n",
       "      <td>87.0</td>\n",
       "      <td>1019.25</td>\n",
       "      <td>6905.73</td>\n",
       "      <td>28623.58</td>\n",
       "      <td>k__Bacteria; p__Proteobacteria; c__Gammaproteobacteria; o__Pseudomonadales; f__Moraxellaceae; g__Psychrobacter</td>\n",
       "    </tr>\n",
       "    <tr>\n",
       "      <th>369232e1ac9f9983056d09b9fe866df5</th>\n",
       "      <td>0.0</td>\n",
       "      <td>0.0</td>\n",
       "      <td>8.0</td>\n",
       "      <td>44.0</td>\n",
       "      <td>400.75</td>\n",
       "      <td>2877.72</td>\n",
       "      <td>12945.78</td>\n",
       "      <td>k__Bacteria; p__Firmicutes; c__Bacilli; o__Lactobacillales; f__Streptococcaceae; g__Lactococcus; s__</td>\n",
       "    </tr>\n",
       "    <tr>\n",
       "      <th>398e906d9ad1914eb268fda5c7453e09</th>\n",
       "      <td>0.0</td>\n",
       "      <td>3.0</td>\n",
       "      <td>6.0</td>\n",
       "      <td>32.0</td>\n",
       "      <td>1070.25</td>\n",
       "      <td>11938.72</td>\n",
       "      <td>47885.18</td>\n",
       "      <td>k__Bacteria</td>\n",
       "    </tr>\n",
       "  </tbody>\n",
       "</table>\n",
       "</div>"
      ],
      "text/plain": [
       "                                   2%    9%    25%     50%      75%       91%  \\\n",
       "Feature ID                                                                      \n",
       "f50c8ae2717bb99c926c4ab1f2a6135c  4.0  12.0  184.5  1897.5  8307.25  51957.23   \n",
       "805c1b3ec3035abbb7b9f1f7f6157e12  0.0  13.0   98.5   741.0  6608.00  21851.37   \n",
       "5899b66b70d688d5cd95df5fc7a26e3a  0.0   0.0    8.0    87.0  1019.25   6905.73   \n",
       "369232e1ac9f9983056d09b9fe866df5  0.0   0.0    8.0    44.0   400.75   2877.72   \n",
       "398e906d9ad1914eb268fda5c7453e09  0.0   3.0    6.0    32.0  1070.25  11938.72   \n",
       "\n",
       "                                        98%  \\\n",
       "Feature ID                                    \n",
       "f50c8ae2717bb99c926c4ab1f2a6135c   88576.02   \n",
       "805c1b3ec3035abbb7b9f1f7f6157e12  102426.32   \n",
       "5899b66b70d688d5cd95df5fc7a26e3a   28623.58   \n",
       "369232e1ac9f9983056d09b9fe866df5   12945.78   \n",
       "398e906d9ad1914eb268fda5c7453e09   47885.18   \n",
       "\n",
       "                                                                                                                                           Taxon  \n",
       "Feature ID                                                                                                                                        \n",
       "f50c8ae2717bb99c926c4ab1f2a6135c  k__Bacteria; p__Actinobacteria; c__Actinobacteria; o__Actinomycetales; f__Brevibacteriaceae; g__Brevibacterium  \n",
       "805c1b3ec3035abbb7b9f1f7f6157e12                  k__Bacteria; p__Firmicutes; c__Bacilli; o__Bacillales; f__Staphylococcaceae; g__Staphylococcus  \n",
       "5899b66b70d688d5cd95df5fc7a26e3a  k__Bacteria; p__Proteobacteria; c__Gammaproteobacteria; o__Pseudomonadales; f__Moraxellaceae; g__Psychrobacter  \n",
       "369232e1ac9f9983056d09b9fe866df5            k__Bacteria; p__Firmicutes; c__Bacilli; o__Lactobacillales; f__Streptococcaceae; g__Lactococcus; s__  \n",
       "398e906d9ad1914eb268fda5c7453e09                                                                                                     k__Bacteria  "
      ]
     },
     "execution_count": 5,
     "metadata": {},
     "output_type": "execute_result"
    }
   ],
   "source": [
    "core_all_taxa = df_core_all.join(taxa['Taxon'])\n",
    "pd.set_option('max_colwidth', 150)\n",
    "core_all_taxa"
   ]
  },
  {
   "cell_type": "markdown",
   "id": "b1e7272c-f01f-4b63-b16a-ecadf7634349",
   "metadata": {},
   "source": [
    "### 3) "
   ]
  },
  {
   "cell_type": "markdown",
   "id": "f5786ad5-c152-4d30-b2d8-cbe9505cc1a0",
   "metadata": {},
   "source": [
    "Do cheeses from\n",
    "Switzerland share this core microbiome with similar cheeses (e.g., same style/rind type) from neighboring\n",
    "countries?"
   ]
  },
  {
   "cell_type": "markdown",
   "id": "42ae7f94-04fc-4b43-845b-2ab1c7f7c031",
   "metadata": {},
   "source": [
    "##### Find core features of CH cheeses with natural rindtype:"
   ]
  },
  {
   "cell_type": "markdown",
   "id": "ce3bbba9-88f1-42c1-87ab-23767ecb0e6b",
   "metadata": {},
   "source": [
    "Result: 33 core features"
   ]
  },
  {
   "cell_type": "code",
   "execution_count": 22,
   "id": "c3b69153-ba76-4e00-ab86-1d76e2a16210",
   "metadata": {},
   "outputs": [
    {
     "name": "stdout",
     "output_type": "stream",
     "text": [
      "\u001b[32mSaved FeatureTable[Frequency] to: CE/feature_table_CH_natural.qza\u001b[0m\n",
      "\u001b[0m"
     ]
    }
   ],
   "source": [
    "! qiime feature-table filter-samples \\\n",
    "--i-table $data_dir/dada2_table_align_filtered.qza \\\n",
    "--m-metadata-file $data_dir/food-metadata.tsv \\\n",
    "--p-where \"[country]='Switzerland' AND [rindtype]='natural'\"\\\n",
    "--o-filtered-table $data_dir/feature_table_CH_natural.qza"
   ]
  },
  {
   "cell_type": "code",
   "execution_count": 29,
   "id": "3fcf4766-e7dd-4311-8dc5-5cf9d35e15c7",
   "metadata": {},
   "outputs": [
    {
     "name": "stdout",
     "output_type": "stream",
     "text": [
      "\u001b[32mSaved Visualization to: CE/core_microbiota_CH_natural.qzv\u001b[0m\n",
      "\u001b[0m"
     ]
    }
   ],
   "source": [
    "! qiime feature-table core-features \\\n",
    "--i-table $data_dir/feature_table_CH_natural.qza \\\n",
    "--p-min-fraction 0.7 \\\n",
    "--p-steps 10 \\\n",
    "--o-visualization $data_dir/core_microbiota_CH_natural.qzv"
   ]
  },
  {
   "cell_type": "code",
   "execution_count": 19,
   "id": "f2548df5-a6ad-4eb8-93be-f80af40c62ea",
   "metadata": {},
   "outputs": [
    {
     "data": {
      "text/html": [
       "<div><img onload=\"(function(div, url){\n",
       "if (typeof require !== 'undefined') {\n",
       "    var baseURL = require.toUrl('').split('/').slice(0, -2).join('/');\n",
       "} else {\n",
       "    var baseURL = JSON.parse(\n",
       "        document.getElementById('jupyter-config-data').innerHTML\n",
       "    ).baseUrl.slice(0, -1);\n",
       "}\n",
       "url = baseURL + url;\n",
       "fetch(url).then(function(res) {\n",
       "    if (res.status === 404) {\n",
       "        div.innerHTML = 'Install QIIME 2 Jupyter extension with:<br />' +\n",
       "                        '<code>jupyter serverextension enable --py qiime2' +\n",
       "                        ' --sys-prefix</code><br />then restart your server.' +\n",
       "                        '<br /><br />(Interactive output not available on ' +\n",
       "                        'static notebook viewer services like nbviewer.)';\n",
       "    } else if (res.status === 409) {\n",
       "        div.innerHTML = 'Visualization no longer in scope. Re-run this cell' +\n",
       "                        ' to see the visualization.';\n",
       "    } else if (res.ok) {\n",
       "        url = res.url;\n",
       "        div.innerHTML = '<iframe src=\\'' + url + '\\' style=\\'' +\n",
       "                        'width: 100%; height: 700px; border: 0;\\'>' +\n",
       "                        '</iframe><hr />Open in a: <a href=\\'' + url + '\\'' +\n",
       "                        ' target=\\'_blank\\'>new window</a>'\n",
       "    } else {\n",
       "        div.innerHTML = 'Something has gone wrong. Check notebook server for' +\n",
       "                        ' errors.';\n",
       "    }\n",
       "});\n",
       "})(this.parentElement, '/qiime2/redirect?location=/tmp/qiime2-archive-zx05jqc8')\" src=\"data:image/gif;base64,R0lGODlhAQABAIAAAP///wAAACH5BAEAAAAALAAAAAABAAEAAAICRAEAOw==\" /></div>"
      ],
      "text/plain": [
       "<visualization: Visualization uuid: 943f3266-4c8c-4004-bba8-65dbcb0ebf16>"
      ]
     },
     "execution_count": 19,
     "metadata": {},
     "output_type": "execute_result"
    }
   ],
   "source": [
    "Visualization.load(f'{data_dir}/core_microbiota_CH_natural.qzv')"
   ]
  },
  {
   "cell_type": "markdown",
   "id": "4b36e01e-9ede-40f0-b1a4-4f1c6fee45a2",
   "metadata": {},
   "source": [
    "##### Find core features of CH cheeses with washed rindtype:"
   ]
  },
  {
   "cell_type": "code",
   "execution_count": 31,
   "id": "e500d34c-02c2-48cb-977d-b00552a1da68",
   "metadata": {},
   "outputs": [
    {
     "name": "stdout",
     "output_type": "stream",
     "text": [
      "\u001b[32mSaved FeatureTable[Frequency] to: CE/feature_table_CH_washed.qza\u001b[0m\n",
      "\u001b[0m"
     ]
    }
   ],
   "source": [
    "! qiime feature-table filter-samples \\\n",
    "--i-table $data_dir/dada2_table_align_filtered.qza \\\n",
    "--m-metadata-file $data_dir/food-metadata.tsv \\\n",
    "--p-where \"[country]='Switzerland' AND [rindtype]='washed'\"\\\n",
    "--o-filtered-table $data_dir/feature_table_CH_washed.qza"
   ]
  },
  {
   "cell_type": "code",
   "execution_count": 32,
   "id": "218edff4-972e-4e54-8de8-bb0f3b706de5",
   "metadata": {},
   "outputs": [
    {
     "name": "stdout",
     "output_type": "stream",
     "text": [
      "\u001b[32mSaved Visualization to: CE/core_microbiota_CH_washed.qzv\u001b[0m\n",
      "\u001b[0m"
     ]
    }
   ],
   "source": [
    "! qiime feature-table core-features \\\n",
    "--i-table $data_dir/feature_table_CH_washed.qza \\\n",
    "--p-min-fraction 0.7 \\\n",
    "--p-steps 10 \\\n",
    "--o-visualization $data_dir/core_microbiota_CH_washed.qzv"
   ]
  },
  {
   "cell_type": "code",
   "execution_count": 5,
   "id": "c1ba5739-aaf7-45bb-9c89-bf2c7a6fe4ba",
   "metadata": {},
   "outputs": [
    {
     "data": {
      "text/html": [
       "<div><img onload=\"(function(div, url){\n",
       "if (typeof require !== 'undefined') {\n",
       "    var baseURL = require.toUrl('').split('/').slice(0, -2).join('/');\n",
       "} else {\n",
       "    var baseURL = JSON.parse(\n",
       "        document.getElementById('jupyter-config-data').innerHTML\n",
       "    ).baseUrl.slice(0, -1);\n",
       "}\n",
       "url = baseURL + url;\n",
       "fetch(url).then(function(res) {\n",
       "    if (res.status === 404) {\n",
       "        div.innerHTML = 'Install QIIME 2 Jupyter extension with:<br />' +\n",
       "                        '<code>jupyter serverextension enable --py qiime2' +\n",
       "                        ' --sys-prefix</code><br />then restart your server.' +\n",
       "                        '<br /><br />(Interactive output not available on ' +\n",
       "                        'static notebook viewer services like nbviewer.)';\n",
       "    } else if (res.status === 409) {\n",
       "        div.innerHTML = 'Visualization no longer in scope. Re-run this cell' +\n",
       "                        ' to see the visualization.';\n",
       "    } else if (res.ok) {\n",
       "        url = res.url;\n",
       "        div.innerHTML = '<iframe src=\\'' + url + '\\' style=\\'' +\n",
       "                        'width: 100%; height: 700px; border: 0;\\'>' +\n",
       "                        '</iframe><hr />Open in a: <a href=\\'' + url + '\\'' +\n",
       "                        ' target=\\'_blank\\'>new window</a>'\n",
       "    } else {\n",
       "        div.innerHTML = 'Something has gone wrong. Check notebook server for' +\n",
       "                        ' errors.';\n",
       "    }\n",
       "});\n",
       "})(this.parentElement, '/qiime2/redirect?location=/tmp/qiime2-archive-uexdnjwq')\" src=\"data:image/gif;base64,R0lGODlhAQABAIAAAP///wAAACH5BAEAAAAALAAAAAABAAEAAAICRAEAOw==\" /></div>"
      ],
      "text/plain": [
       "<visualization: Visualization uuid: 44aaefdd-61c0-4a7d-bded-3879ace69aba>"
      ]
     },
     "execution_count": 5,
     "metadata": {},
     "output_type": "execute_result"
    }
   ],
   "source": [
    "Visualization.load(f'{data_dir}/core_microbiota_CH_washed.qzv')"
   ]
  },
  {
   "cell_type": "markdown",
   "id": "b97fcf71-8922-4307-8865-b71a172e21ec",
   "metadata": {},
   "source": [
    "##### Find core features of CH cheeses with alpine style:"
   ]
  },
  {
   "cell_type": "code",
   "execution_count": 35,
   "id": "00625eda-e78d-449e-9769-4ade39df8866",
   "metadata": {},
   "outputs": [
    {
     "name": "stdout",
     "output_type": "stream",
     "text": [
      "\u001b[32mSaved FeatureTable[Frequency] to: CE/feature_table_CH_alpine.qza\u001b[0m\n",
      "\u001b[0m"
     ]
    }
   ],
   "source": [
    "! qiime feature-table filter-samples \\\n",
    "--i-table $data_dir/dada2_table_align_filtered.qza \\\n",
    "--m-metadata-file $data_dir/food-metadata.tsv \\\n",
    "--p-where \"[country]='Switzerland' AND [style]='alpine'\"\\\n",
    "--o-filtered-table $data_dir/feature_table_CH_alpine.qza"
   ]
  },
  {
   "cell_type": "code",
   "execution_count": 36,
   "id": "8a02f093-ac6e-4cfe-a1e1-57fd8f9ac972",
   "metadata": {},
   "outputs": [
    {
     "name": "stdout",
     "output_type": "stream",
     "text": [
      "\u001b[32mSaved Visualization to: CE/core_microbiota_CH_alpine.qzv\u001b[0m\n",
      "\u001b[0m"
     ]
    }
   ],
   "source": [
    "! qiime feature-table core-features \\\n",
    "--i-table $data_dir/feature_table_CH_alpine.qza \\\n",
    "--p-min-fraction 0.7 \\\n",
    "--p-steps 10 \\\n",
    "--o-visualization $data_dir/core_microbiota_CH_alpine.qzv"
   ]
  },
  {
   "cell_type": "code",
   "execution_count": 6,
   "id": "ac1cb3a2-83d2-4685-8cce-07e17bdfc24b",
   "metadata": {},
   "outputs": [
    {
     "data": {
      "text/html": [
       "<div><img onload=\"(function(div, url){\n",
       "if (typeof require !== 'undefined') {\n",
       "    var baseURL = require.toUrl('').split('/').slice(0, -2).join('/');\n",
       "} else {\n",
       "    var baseURL = JSON.parse(\n",
       "        document.getElementById('jupyter-config-data').innerHTML\n",
       "    ).baseUrl.slice(0, -1);\n",
       "}\n",
       "url = baseURL + url;\n",
       "fetch(url).then(function(res) {\n",
       "    if (res.status === 404) {\n",
       "        div.innerHTML = 'Install QIIME 2 Jupyter extension with:<br />' +\n",
       "                        '<code>jupyter serverextension enable --py qiime2' +\n",
       "                        ' --sys-prefix</code><br />then restart your server.' +\n",
       "                        '<br /><br />(Interactive output not available on ' +\n",
       "                        'static notebook viewer services like nbviewer.)';\n",
       "    } else if (res.status === 409) {\n",
       "        div.innerHTML = 'Visualization no longer in scope. Re-run this cell' +\n",
       "                        ' to see the visualization.';\n",
       "    } else if (res.ok) {\n",
       "        url = res.url;\n",
       "        div.innerHTML = '<iframe src=\\'' + url + '\\' style=\\'' +\n",
       "                        'width: 100%; height: 700px; border: 0;\\'>' +\n",
       "                        '</iframe><hr />Open in a: <a href=\\'' + url + '\\'' +\n",
       "                        ' target=\\'_blank\\'>new window</a>'\n",
       "    } else {\n",
       "        div.innerHTML = 'Something has gone wrong. Check notebook server for' +\n",
       "                        ' errors.';\n",
       "    }\n",
       "});\n",
       "})(this.parentElement, '/qiime2/redirect?location=/tmp/qiime2-archive-29hs81b3')\" src=\"data:image/gif;base64,R0lGODlhAQABAIAAAP///wAAACH5BAEAAAAALAAAAAABAAEAAAICRAEAOw==\" /></div>"
      ],
      "text/plain": [
       "<visualization: Visualization uuid: c060248a-b70e-4c1a-9d20-f0defc56c631>"
      ]
     },
     "execution_count": 6,
     "metadata": {},
     "output_type": "execute_result"
    }
   ],
   "source": [
    "Visualization.load(f'{data_dir}/core_microbiota_CH_alpine.qzv')"
   ]
  },
  {
   "cell_type": "markdown",
   "id": "d50cf8c9-576b-4cf8-b408-420b223b6db4",
   "metadata": {},
   "source": [
    "### 4)"
   ]
  },
  {
   "cell_type": "markdown",
   "id": "de98704a-b395-4dab-9fc0-e2d889c65e78",
   "metadata": {},
   "source": [
    "Filter table to have only cheeses from neighboring countries (no cheeses from Germany or Austria in our dataset):"
   ]
  },
  {
   "cell_type": "code",
   "execution_count": 8,
   "id": "e796b1ce-a1d5-401f-885c-3b0876075709",
   "metadata": {},
   "outputs": [
    {
     "name": "stdout",
     "output_type": "stream",
     "text": [
      "\u001b[32mSaved FeatureTable[Frequency] to: CE/feature_table_neighbor.qza\u001b[0m\n",
      "\u001b[0m"
     ]
    }
   ],
   "source": [
    "! qiime feature-table filter-samples \\\n",
    "--i-table $data_dir/dada2_table_align_filtered.qza \\\n",
    "--m-metadata-file $data_dir/food-metadata.tsv \\\n",
    "--p-where \"[country]='France' OR [country]='Italy'\"\\\n",
    "--o-filtered-table $data_dir/feature_table_neighbor.qza"
   ]
  },
  {
   "cell_type": "markdown",
   "id": "72f1c1b6-8313-4353-bd30-9164d20f8f39",
   "metadata": {},
   "source": [
    "##### Find core features of neighboring cheeses with natural rindtype:"
   ]
  },
  {
   "cell_type": "code",
   "execution_count": 9,
   "id": "1170cb48-42f0-43bb-8099-45d4dd328f5b",
   "metadata": {},
   "outputs": [
    {
     "name": "stdout",
     "output_type": "stream",
     "text": [
      "\u001b[32mSaved FeatureTable[Frequency] to: CE/feature_table_neighbor_natural.qza\u001b[0m\n",
      "\u001b[0m"
     ]
    }
   ],
   "source": [
    "! qiime feature-table filter-samples \\\n",
    "--i-table $data_dir/feature_table_neighbor.qza \\\n",
    "--m-metadata-file $data_dir/food-metadata.tsv \\\n",
    "--p-where \"[rindtype]='natural'\"\\\n",
    "--o-filtered-table $data_dir/feature_table_neighbor_natural.qza"
   ]
  },
  {
   "cell_type": "code",
   "execution_count": 10,
   "id": "df78cd1b-fdba-4321-adaf-984bae126d6d",
   "metadata": {},
   "outputs": [
    {
     "name": "stdout",
     "output_type": "stream",
     "text": [
      "\u001b[32mSaved Visualization to: CE/core_microbiota_neighbor_natural.qzv\u001b[0m\n",
      "\u001b[0m"
     ]
    }
   ],
   "source": [
    "! qiime feature-table core-features \\\n",
    "--i-table $data_dir/feature_table_neighbor_natural.qza \\\n",
    "--p-min-fraction 0.7 \\\n",
    "--p-steps 10 \\\n",
    "--o-visualization $data_dir/core_microbiota_neighbor_natural.qzv"
   ]
  },
  {
   "cell_type": "code",
   "execution_count": 11,
   "id": "7722de83-0540-4a4c-a3fe-8480335deb91",
   "metadata": {},
   "outputs": [
    {
     "data": {
      "text/html": [
       "<div><img onload=\"(function(div, url){\n",
       "if (typeof require !== 'undefined') {\n",
       "    var baseURL = require.toUrl('').split('/').slice(0, -2).join('/');\n",
       "} else {\n",
       "    var baseURL = JSON.parse(\n",
       "        document.getElementById('jupyter-config-data').innerHTML\n",
       "    ).baseUrl.slice(0, -1);\n",
       "}\n",
       "url = baseURL + url;\n",
       "fetch(url).then(function(res) {\n",
       "    if (res.status === 404) {\n",
       "        div.innerHTML = 'Install QIIME 2 Jupyter extension with:<br />' +\n",
       "                        '<code>jupyter serverextension enable --py qiime2' +\n",
       "                        ' --sys-prefix</code><br />then restart your server.' +\n",
       "                        '<br /><br />(Interactive output not available on ' +\n",
       "                        'static notebook viewer services like nbviewer.)';\n",
       "    } else if (res.status === 409) {\n",
       "        div.innerHTML = 'Visualization no longer in scope. Re-run this cell' +\n",
       "                        ' to see the visualization.';\n",
       "    } else if (res.ok) {\n",
       "        url = res.url;\n",
       "        div.innerHTML = '<iframe src=\\'' + url + '\\' style=\\'' +\n",
       "                        'width: 100%; height: 700px; border: 0;\\'>' +\n",
       "                        '</iframe><hr />Open in a: <a href=\\'' + url + '\\'' +\n",
       "                        ' target=\\'_blank\\'>new window</a>'\n",
       "    } else {\n",
       "        div.innerHTML = 'Something has gone wrong. Check notebook server for' +\n",
       "                        ' errors.';\n",
       "    }\n",
       "});\n",
       "})(this.parentElement, '/qiime2/redirect?location=/tmp/qiime2-archive-d8jwgck2')\" src=\"data:image/gif;base64,R0lGODlhAQABAIAAAP///wAAACH5BAEAAAAALAAAAAABAAEAAAICRAEAOw==\" /></div>"
      ],
      "text/plain": [
       "<visualization: Visualization uuid: 47771aa4-7c15-4f91-a633-89b5c906ffb8>"
      ]
     },
     "execution_count": 11,
     "metadata": {},
     "output_type": "execute_result"
    }
   ],
   "source": [
    "Visualization.load(f'{data_dir}/core_microbiota_neighbor_natural.qzv')"
   ]
  },
  {
   "cell_type": "code",
   "execution_count": null,
   "id": "bdeed491-aeb0-4679-9af7-2ecfa0544ce5",
   "metadata": {},
   "outputs": [],
   "source": []
  },
  {
   "cell_type": "markdown",
   "id": "39874416-1e96-4490-a420-1f6475cea9dc",
   "metadata": {},
   "source": [
    "##### Find core features of neighboring cheeses with washed rindtype:"
   ]
  },
  {
   "cell_type": "code",
   "execution_count": 12,
   "id": "1937d179-2f6b-4527-b327-4c68663867e5",
   "metadata": {},
   "outputs": [
    {
     "name": "stdout",
     "output_type": "stream",
     "text": [
      "\u001b[32mSaved FeatureTable[Frequency] to: CE/feature_table_neighbor_washed.qza\u001b[0m\n",
      "\u001b[0m"
     ]
    }
   ],
   "source": [
    "! qiime feature-table filter-samples \\\n",
    "--i-table $data_dir/feature_table_neighbor.qza \\\n",
    "--m-metadata-file $data_dir/food-metadata.tsv \\\n",
    "--p-where \"[rindtype]='washed'\"\\\n",
    "--o-filtered-table $data_dir/feature_table_neighbor_washed.qza"
   ]
  },
  {
   "cell_type": "code",
   "execution_count": 13,
   "id": "9f945625-e311-4547-aefc-5045950dd5b9",
   "metadata": {},
   "outputs": [
    {
     "name": "stdout",
     "output_type": "stream",
     "text": [
      "\u001b[32mSaved Visualization to: CE/core_microbiota_neighbor_washed.qzv\u001b[0m\n",
      "\u001b[0m"
     ]
    }
   ],
   "source": [
    "! qiime feature-table core-features \\\n",
    "--i-table $data_dir/feature_table_neighbor_washed.qza \\\n",
    "--p-min-fraction 0.7 \\\n",
    "--p-steps 10 \\\n",
    "--o-visualization $data_dir/core_microbiota_neighbor_washed.qzv"
   ]
  },
  {
   "cell_type": "code",
   "execution_count": 14,
   "id": "4f05f3d5-5ddc-4fa5-b497-4076bc45a137",
   "metadata": {},
   "outputs": [
    {
     "data": {
      "text/html": [
       "<div><img onload=\"(function(div, url){\n",
       "if (typeof require !== 'undefined') {\n",
       "    var baseURL = require.toUrl('').split('/').slice(0, -2).join('/');\n",
       "} else {\n",
       "    var baseURL = JSON.parse(\n",
       "        document.getElementById('jupyter-config-data').innerHTML\n",
       "    ).baseUrl.slice(0, -1);\n",
       "}\n",
       "url = baseURL + url;\n",
       "fetch(url).then(function(res) {\n",
       "    if (res.status === 404) {\n",
       "        div.innerHTML = 'Install QIIME 2 Jupyter extension with:<br />' +\n",
       "                        '<code>jupyter serverextension enable --py qiime2' +\n",
       "                        ' --sys-prefix</code><br />then restart your server.' +\n",
       "                        '<br /><br />(Interactive output not available on ' +\n",
       "                        'static notebook viewer services like nbviewer.)';\n",
       "    } else if (res.status === 409) {\n",
       "        div.innerHTML = 'Visualization no longer in scope. Re-run this cell' +\n",
       "                        ' to see the visualization.';\n",
       "    } else if (res.ok) {\n",
       "        url = res.url;\n",
       "        div.innerHTML = '<iframe src=\\'' + url + '\\' style=\\'' +\n",
       "                        'width: 100%; height: 700px; border: 0;\\'>' +\n",
       "                        '</iframe><hr />Open in a: <a href=\\'' + url + '\\'' +\n",
       "                        ' target=\\'_blank\\'>new window</a>'\n",
       "    } else {\n",
       "        div.innerHTML = 'Something has gone wrong. Check notebook server for' +\n",
       "                        ' errors.';\n",
       "    }\n",
       "});\n",
       "})(this.parentElement, '/qiime2/redirect?location=/tmp/qiime2-archive-h3e88puk')\" src=\"data:image/gif;base64,R0lGODlhAQABAIAAAP///wAAACH5BAEAAAAALAAAAAABAAEAAAICRAEAOw==\" /></div>"
      ],
      "text/plain": [
       "<visualization: Visualization uuid: 5e1ee043-7a3f-4463-9251-cfe0547b8c06>"
      ]
     },
     "execution_count": 14,
     "metadata": {},
     "output_type": "execute_result"
    }
   ],
   "source": [
    "Visualization.load(f'{data_dir}/core_microbiota_neighbor_washed.qzv')"
   ]
  },
  {
   "cell_type": "markdown",
   "id": "c2925714-d2e2-43f2-ab10-4a62f36befac",
   "metadata": {},
   "source": [
    "##### Find core features of neighboring cheeses with alpine style:"
   ]
  },
  {
   "cell_type": "code",
   "execution_count": 15,
   "id": "c2cf8fd0-e925-4d88-b331-0d4574aaf498",
   "metadata": {},
   "outputs": [
    {
     "name": "stdout",
     "output_type": "stream",
     "text": [
      "\u001b[32mSaved FeatureTable[Frequency] to: CE/feature_table_neighbor_alpine.qza\u001b[0m\n",
      "\u001b[0m"
     ]
    }
   ],
   "source": [
    "! qiime feature-table filter-samples \\\n",
    "--i-table $data_dir/feature_table_neighbor.qza \\\n",
    "--m-metadata-file $data_dir/food-metadata.tsv \\\n",
    "--p-where \"[style]='alpine'\"\\\n",
    "--o-filtered-table $data_dir/feature_table_neighbor_alpine.qza"
   ]
  },
  {
   "cell_type": "code",
   "execution_count": 17,
   "id": "7f40fd36-4002-4304-90a0-9911525c7cab",
   "metadata": {},
   "outputs": [
    {
     "name": "stdout",
     "output_type": "stream",
     "text": [
      "\u001b[32mSaved Visualization to: CE/core_microbiota_neighbor_alpine.qzv\u001b[0m\n",
      "\u001b[0m"
     ]
    }
   ],
   "source": [
    "! qiime feature-table core-features \\\n",
    "--i-table $data_dir/feature_table_neighbor_alpine.qza \\\n",
    "--p-min-fraction 0.7 \\\n",
    "--p-steps 10 \\\n",
    "--o-visualization $data_dir/core_microbiota_neighbor_alpine.qzv"
   ]
  },
  {
   "cell_type": "code",
   "execution_count": 18,
   "id": "a7aa6691-3864-4ce0-a967-ee00bf353f1c",
   "metadata": {
    "tags": []
   },
   "outputs": [
    {
     "data": {
      "text/html": [
       "<div><img onload=\"(function(div, url){\n",
       "if (typeof require !== 'undefined') {\n",
       "    var baseURL = require.toUrl('').split('/').slice(0, -2).join('/');\n",
       "} else {\n",
       "    var baseURL = JSON.parse(\n",
       "        document.getElementById('jupyter-config-data').innerHTML\n",
       "    ).baseUrl.slice(0, -1);\n",
       "}\n",
       "url = baseURL + url;\n",
       "fetch(url).then(function(res) {\n",
       "    if (res.status === 404) {\n",
       "        div.innerHTML = 'Install QIIME 2 Jupyter extension with:<br />' +\n",
       "                        '<code>jupyter serverextension enable --py qiime2' +\n",
       "                        ' --sys-prefix</code><br />then restart your server.' +\n",
       "                        '<br /><br />(Interactive output not available on ' +\n",
       "                        'static notebook viewer services like nbviewer.)';\n",
       "    } else if (res.status === 409) {\n",
       "        div.innerHTML = 'Visualization no longer in scope. Re-run this cell' +\n",
       "                        ' to see the visualization.';\n",
       "    } else if (res.ok) {\n",
       "        url = res.url;\n",
       "        div.innerHTML = '<iframe src=\\'' + url + '\\' style=\\'' +\n",
       "                        'width: 100%; height: 700px; border: 0;\\'>' +\n",
       "                        '</iframe><hr />Open in a: <a href=\\'' + url + '\\'' +\n",
       "                        ' target=\\'_blank\\'>new window</a>'\n",
       "    } else {\n",
       "        div.innerHTML = 'Something has gone wrong. Check notebook server for' +\n",
       "                        ' errors.';\n",
       "    }\n",
       "});\n",
       "})(this.parentElement, '/qiime2/redirect?location=/tmp/qiime2-archive-tn0l2ty_')\" src=\"data:image/gif;base64,R0lGODlhAQABAIAAAP///wAAACH5BAEAAAAALAAAAAABAAEAAAICRAEAOw==\" /></div>"
      ],
      "text/plain": [
       "<visualization: Visualization uuid: 3bbf8d36-bd11-4227-9a8a-4693b8b7f4e9>"
      ]
     },
     "execution_count": 18,
     "metadata": {},
     "output_type": "execute_result"
    }
   ],
   "source": [
    "Visualization.load(f'{data_dir}/core_microbiota_neighbor_alpine.qzv')"
   ]
  },
  {
   "cell_type": "markdown",
   "id": "9b423938-a9f7-4c93-a73a-0a20b0bac984",
   "metadata": {},
   "source": [
    "### 5) Compare results of core features of CH cheeses with similar cheeses from neighboring countries"
   ]
  },
  {
   "cell_type": "markdown",
   "id": "f4474eca-2631-42f5-9cda-f10d9d8a48b6",
   "metadata": {},
   "source": [
    "--> add column to table with taxonomy\n",
    "--> get list with only feature IDs\n",
    "--> use python set intersection function"
   ]
  },
  {
   "cell_type": "markdown",
   "id": "c2d60112-5c83-443a-9c3d-64b38b5d6793",
   "metadata": {},
   "source": [
    "##### Cheeses with natural rindtype"
   ]
  },
  {
   "cell_type": "markdown",
   "id": "bd012ebd-8f41-46a3-bbbd-172ba57faeb2",
   "metadata": {},
   "source": [
    "Download of tsv files with core features (fraction of samples = 0.7)"
   ]
  },
  {
   "cell_type": "code",
   "execution_count": 20,
   "id": "b05f6946-e22a-4a7a-b596-7f356fe3cb30",
   "metadata": {},
   "outputs": [
    {
     "name": "stdout",
     "output_type": "stream",
     "text": [
      "2022-12-12 10:56:55 URL:https://polybox.ethz.ch/index.php/s/5ZVUmvDoy1VBTAx/download [2688/2688] -> \"CE/core_microbiota_list_ch_natural.tsv\" [1]\n"
     ]
    }
   ],
   "source": [
    "! wget -nv -O $data_dir/core_microbiota_list_ch_natural.tsv 'https://polybox.ethz.ch/index.php/s/5ZVUmvDoy1VBTAx/download'"
   ]
  },
  {
   "cell_type": "code",
   "execution_count": 21,
   "id": "451fc50c-cae2-420b-b028-272fcae6d3ea",
   "metadata": {},
   "outputs": [
    {
     "name": "stdout",
     "output_type": "stream",
     "text": [
      "2022-12-12 10:57:38 URL:https://polybox.ethz.ch/index.php/s/cAEL47rLr8ELoV5/download [1254/1254] -> \"CE/core_microbiota_list_neighbor_natural.tsv\" [1]\n"
     ]
    }
   ],
   "source": [
    "! wget -nv -O $data_dir/core_microbiota_list_neighbor_natural.tsv 'https://polybox.ethz.ch/index.php/s/cAEL47rLr8ELoV5/download'"
   ]
  },
  {
   "cell_type": "markdown",
   "id": "bb1cf4b5-de41-4bfa-b381-03710b36309d",
   "metadata": {},
   "source": [
    "Read tsv files into pandas dataframe and add column with taxon:"
   ]
  },
  {
   "cell_type": "code",
   "execution_count": 12,
   "id": "642c6021-7dc8-402e-a88b-290e10927387",
   "metadata": {},
   "outputs": [],
   "source": [
    "#core features from CH cheeses with natural rindtype\n",
    "df_core_ch_nat = pd.read_csv(f'{data_dir}/core_microbiota_list_ch_natural.tsv', sep ='\\t')\n",
    "df_core_ch_nat.set_index('Feature ID', inplace = True)\n",
    "core_ch_nat_taxa = df_core_ch_nat.join(taxa['Taxon'])\n",
    "pd.set_option('max_colwidth', 150)\n",
    "#core_ch_nat_taxa"
   ]
  },
  {
   "cell_type": "code",
   "execution_count": 11,
   "id": "f3eadf26-b1d7-45d1-96b7-577559945aba",
   "metadata": {},
   "outputs": [],
   "source": [
    "#core features from neighboring countries with natural rindtype\n",
    "df_core_nei_nat = pd.read_csv(f'{data_dir}/core_microbiota_list_neighbor_natural.tsv', sep ='\\t')\n",
    "df_core_nei_nat.set_index('Feature ID', inplace = True)\n",
    "core_nei_nat_taxa = df_core_nei_nat.join(taxa['Taxon'])\n",
    "pd.set_option('max_colwidth', 150)\n",
    "#core_nei_nat_taxa"
   ]
  },
  {
   "cell_type": "markdown",
   "id": "7f1b4a64-6798-4250-bb05-56bd0bed3a96",
   "metadata": {},
   "source": [
    "Compare values between the two dataframes created above:"
   ]
  },
  {
   "cell_type": "code",
   "execution_count": 8,
   "id": "96f923ed-86e1-42f9-b47f-dd5c6bd10177",
   "metadata": {},
   "outputs": [],
   "source": [
    "#get list of Feature IDs from core features of CH and neighboring cheeses with natural rindtype and convert list into set\n",
    "index_list_ch_nat = list(df_core_ch_nat.index.values)\n",
    "set_ch_nat = set(index_list_ch_nat)\n",
    "index_list_nei_nat = list(df_core_nei_nat.index.values)\n",
    "set_nei_nat = set(index_list_nei_nat)"
   ]
  },
  {
   "cell_type": "code",
   "execution_count": 9,
   "id": "1bb47184-4cdc-44d0-9850-750a89d610c8",
   "metadata": {},
   "outputs": [
    {
     "name": "stdout",
     "output_type": "stream",
     "text": [
      "{'d8805a58ee0553d4947a5697b758f581', 'f50c8ae2717bb99c926c4ab1f2a6135c', '5899b66b70d688d5cd95df5fc7a26e3a', '0e0c3a6a9489f3439329d12d76275100', '805c1b3ec3035abbb7b9f1f7f6157e12', '0f47f1d604a3c0c66dd7a771668df459', '2984a873cf9373de5425dd5b5b96c232', '56e99d7158115760f6283fb65ab29bd0', '398e906d9ad1914eb268fda5c7453e09', '369232e1ac9f9983056d09b9fe866df5'}\n"
     ]
    }
   ],
   "source": [
    "#get set of Feature IDs which are the same in both sets\n",
    "set_core_nat = set_ch_nat.intersection(set_nei_nat)\n",
    "\n",
    "print(set_core_nat)"
   ]
  },
  {
   "cell_type": "code",
   "execution_count": 10,
   "id": "4075470c-5422-43a3-8e65-c18abee56e1d",
   "metadata": {},
   "outputs": [
    {
     "data": {
      "text/html": [
       "<div>\n",
       "<style scoped>\n",
       "    .dataframe tbody tr th:only-of-type {\n",
       "        vertical-align: middle;\n",
       "    }\n",
       "\n",
       "    .dataframe tbody tr th {\n",
       "        vertical-align: top;\n",
       "    }\n",
       "\n",
       "    .dataframe thead th {\n",
       "        text-align: right;\n",
       "    }\n",
       "</style>\n",
       "<table border=\"1\" class=\"dataframe\">\n",
       "  <thead>\n",
       "    <tr style=\"text-align: right;\">\n",
       "      <th></th>\n",
       "      <th>Taxon</th>\n",
       "    </tr>\n",
       "    <tr>\n",
       "      <th>0</th>\n",
       "      <th></th>\n",
       "    </tr>\n",
       "  </thead>\n",
       "  <tbody>\n",
       "    <tr>\n",
       "      <th>d8805a58ee0553d4947a5697b758f581</th>\n",
       "      <td>k__Bacteria; p__Proteobacteria; c__Gammaproteobacteria; o__Oceanospirillales; f__Halomonadaceae; g__Halomonas</td>\n",
       "    </tr>\n",
       "    <tr>\n",
       "      <th>f50c8ae2717bb99c926c4ab1f2a6135c</th>\n",
       "      <td>k__Bacteria; p__Actinobacteria; c__Actinobacteria; o__Actinomycetales; f__Brevibacteriaceae; g__Brevibacterium</td>\n",
       "    </tr>\n",
       "    <tr>\n",
       "      <th>5899b66b70d688d5cd95df5fc7a26e3a</th>\n",
       "      <td>k__Bacteria; p__Proteobacteria; c__Gammaproteobacteria; o__Pseudomonadales; f__Moraxellaceae; g__Psychrobacter</td>\n",
       "    </tr>\n",
       "    <tr>\n",
       "      <th>0e0c3a6a9489f3439329d12d76275100</th>\n",
       "      <td>k__Bacteria; p__Actinobacteria; c__Actinobacteria; o__Actinomycetales; f__Micrococcaceae; g__Arthrobacter</td>\n",
       "    </tr>\n",
       "    <tr>\n",
       "      <th>805c1b3ec3035abbb7b9f1f7f6157e12</th>\n",
       "      <td>k__Bacteria; p__Firmicutes; c__Bacilli; o__Bacillales; f__Staphylococcaceae; g__Staphylococcus</td>\n",
       "    </tr>\n",
       "    <tr>\n",
       "      <th>0f47f1d604a3c0c66dd7a771668df459</th>\n",
       "      <td>k__Bacteria; p__Actinobacteria; c__Actinobacteria; o__Actinomycetales; f__Dermabacteraceae; g__Brachybacterium</td>\n",
       "    </tr>\n",
       "    <tr>\n",
       "      <th>2984a873cf9373de5425dd5b5b96c232</th>\n",
       "      <td>k__Bacteria; p__Actinobacteria; c__Actinobacteria; o__Actinomycetales; f__Dermabacteraceae; g__Brachybacterium; s__</td>\n",
       "    </tr>\n",
       "    <tr>\n",
       "      <th>56e99d7158115760f6283fb65ab29bd0</th>\n",
       "      <td>k__Bacteria</td>\n",
       "    </tr>\n",
       "    <tr>\n",
       "      <th>398e906d9ad1914eb268fda5c7453e09</th>\n",
       "      <td>k__Bacteria</td>\n",
       "    </tr>\n",
       "    <tr>\n",
       "      <th>369232e1ac9f9983056d09b9fe866df5</th>\n",
       "      <td>k__Bacteria; p__Firmicutes; c__Bacilli; o__Lactobacillales; f__Streptococcaceae; g__Lactococcus; s__</td>\n",
       "    </tr>\n",
       "  </tbody>\n",
       "</table>\n",
       "</div>"
      ],
      "text/plain": [
       "                                                                                                                                                Taxon\n",
       "0                                                                                                                                                    \n",
       "d8805a58ee0553d4947a5697b758f581        k__Bacteria; p__Proteobacteria; c__Gammaproteobacteria; o__Oceanospirillales; f__Halomonadaceae; g__Halomonas\n",
       "f50c8ae2717bb99c926c4ab1f2a6135c       k__Bacteria; p__Actinobacteria; c__Actinobacteria; o__Actinomycetales; f__Brevibacteriaceae; g__Brevibacterium\n",
       "5899b66b70d688d5cd95df5fc7a26e3a       k__Bacteria; p__Proteobacteria; c__Gammaproteobacteria; o__Pseudomonadales; f__Moraxellaceae; g__Psychrobacter\n",
       "0e0c3a6a9489f3439329d12d76275100            k__Bacteria; p__Actinobacteria; c__Actinobacteria; o__Actinomycetales; f__Micrococcaceae; g__Arthrobacter\n",
       "805c1b3ec3035abbb7b9f1f7f6157e12                       k__Bacteria; p__Firmicutes; c__Bacilli; o__Bacillales; f__Staphylococcaceae; g__Staphylococcus\n",
       "0f47f1d604a3c0c66dd7a771668df459       k__Bacteria; p__Actinobacteria; c__Actinobacteria; o__Actinomycetales; f__Dermabacteraceae; g__Brachybacterium\n",
       "2984a873cf9373de5425dd5b5b96c232  k__Bacteria; p__Actinobacteria; c__Actinobacteria; o__Actinomycetales; f__Dermabacteraceae; g__Brachybacterium; s__\n",
       "56e99d7158115760f6283fb65ab29bd0                                                                                                          k__Bacteria\n",
       "398e906d9ad1914eb268fda5c7453e09                                                                                                          k__Bacteria\n",
       "369232e1ac9f9983056d09b9fe866df5                 k__Bacteria; p__Firmicutes; c__Bacilli; o__Lactobacillales; f__Streptococcaceae; g__Lactococcus; s__"
      ]
     },
     "execution_count": 10,
     "metadata": {},
     "output_type": "execute_result"
    }
   ],
   "source": [
    "core_nat = pd.DataFrame(set_core_nat)\n",
    "core_nat.set_index(0, inplace = True)\n",
    "#core_nat = core_nat.rename(index={'Feature ID'})\n",
    "core_nat_taxa = core_nat.join(taxa['Taxon'])\n",
    "core_nat_taxa"
   ]
  },
  {
   "cell_type": "code",
   "execution_count": null,
   "id": "5ac3bb39-2ba9-46f7-a328-0fe7e998d0c6",
   "metadata": {},
   "outputs": [],
   "source": []
  },
  {
   "cell_type": "markdown",
   "id": "061ca546-4366-4a94-b44d-940c76a6ccf0",
   "metadata": {},
   "source": [
    "##### Cheeses with washed rindtype"
   ]
  },
  {
   "cell_type": "code",
   "execution_count": 13,
   "id": "d8a4ab08-0e35-4419-a56c-fae07f471da9",
   "metadata": {},
   "outputs": [
    {
     "name": "stdout",
     "output_type": "stream",
     "text": [
      "2022-12-13 16:22:44 URL:https://polybox.ethz.ch/index.php/s/M5WGsq8gReQGrQq/download [1816/1816] -> \"CE/core_microbiota_list_ch_washed.tsv\" [1]\n",
      "2022-12-13 16:22:44 URL:https://polybox.ethz.ch/index.php/s/uO4l1YWYO91DkxH/download [1166/1166] -> \"CE/core_microbiota_list_neighbor_washed.tsv\" [1]\n"
     ]
    }
   ],
   "source": [
    "! wget -nv -O $data_dir/core_microbiota_list_ch_washed.tsv 'https://polybox.ethz.ch/index.php/s/M5WGsq8gReQGrQq/download'\n",
    "! wget -nv -O $data_dir/core_microbiota_list_neighbor_washed.tsv 'https://polybox.ethz.ch/index.php/s/uO4l1YWYO91DkxH/download'"
   ]
  },
  {
   "cell_type": "code",
   "execution_count": 25,
   "id": "bd6801f3-1b0f-4c3f-a8ad-9b9ee6d39d46",
   "metadata": {},
   "outputs": [],
   "source": [
    "#core features from CH cheeses with washed rindtype\n",
    "df_core_ch_was = pd.read_csv(f'{data_dir}/core_microbiota_list_ch_washed.tsv', sep ='\\t')\n",
    "df_core_ch_was.set_index('Feature ID', inplace = True)\n",
    "core_ch_was_taxa = df_core_ch_was.join(taxa['Taxon'])\n",
    "pd.set_option('max_colwidth', 150)\n",
    "#core_ch_was_taxa"
   ]
  },
  {
   "cell_type": "code",
   "execution_count": 21,
   "id": "ce47b5e2-8104-4e35-9e49-037d9edbdd5e",
   "metadata": {},
   "outputs": [],
   "source": [
    "#core features from neighboring countries with washed rindtype\n",
    "df_core_nei_was = pd.read_csv(f'{data_dir}/core_microbiota_list_neighbor_washed.tsv', sep ='\\t')\n",
    "df_core_nei_was.set_index('Feature ID', inplace = True)\n",
    "core_nei_was_taxa = df_core_nei_was.join(taxa['Taxon'])\n",
    "pd.set_option('max_colwidth', 150)\n",
    "#core_nei_was_taxa"
   ]
  },
  {
   "cell_type": "code",
   "execution_count": 17,
   "id": "8fe1a513-61af-460c-aef1-a93567d8638b",
   "metadata": {},
   "outputs": [],
   "source": [
    "#get list of Feature IDs from core features of CH and neighboring cheeses with natural rindtype and convert list into set\n",
    "index_list_ch_was = list(df_core_ch_was.index.values)\n",
    "set_ch_was = set(index_list_ch_was)\n",
    "index_list_nei_was = list(df_core_nei_was.index.values)\n",
    "set_nei_was = set(index_list_nei_was)"
   ]
  },
  {
   "cell_type": "code",
   "execution_count": 18,
   "id": "baee7678-4dde-40bd-a1cc-d0156323561a",
   "metadata": {},
   "outputs": [
    {
     "name": "stdout",
     "output_type": "stream",
     "text": [
      "{'f50c8ae2717bb99c926c4ab1f2a6135c', '5899b66b70d688d5cd95df5fc7a26e3a', 'da95b61897d9c6cd8b79f052d26a7985', '805c1b3ec3035abbb7b9f1f7f6157e12', '4db7c06da0197e12d5dd8b3dc1418e50', '398e906d9ad1914eb268fda5c7453e09'}\n"
     ]
    }
   ],
   "source": [
    "#get set of Feature IDs which are the same in both sets\n",
    "set_core_was = set_ch_was.intersection(set_nei_was)\n",
    "\n",
    "print(set_core_was)"
   ]
  },
  {
   "cell_type": "code",
   "execution_count": 19,
   "id": "eee9633b-daea-4048-a275-45d67518345a",
   "metadata": {},
   "outputs": [
    {
     "data": {
      "text/html": [
       "<div>\n",
       "<style scoped>\n",
       "    .dataframe tbody tr th:only-of-type {\n",
       "        vertical-align: middle;\n",
       "    }\n",
       "\n",
       "    .dataframe tbody tr th {\n",
       "        vertical-align: top;\n",
       "    }\n",
       "\n",
       "    .dataframe thead th {\n",
       "        text-align: right;\n",
       "    }\n",
       "</style>\n",
       "<table border=\"1\" class=\"dataframe\">\n",
       "  <thead>\n",
       "    <tr style=\"text-align: right;\">\n",
       "      <th></th>\n",
       "      <th>Taxon</th>\n",
       "    </tr>\n",
       "    <tr>\n",
       "      <th>0</th>\n",
       "      <th></th>\n",
       "    </tr>\n",
       "  </thead>\n",
       "  <tbody>\n",
       "    <tr>\n",
       "      <th>f50c8ae2717bb99c926c4ab1f2a6135c</th>\n",
       "      <td>k__Bacteria; p__Actinobacteria; c__Actinobacteria; o__Actinomycetales; f__Brevibacteriaceae; g__Brevibacterium</td>\n",
       "    </tr>\n",
       "    <tr>\n",
       "      <th>5899b66b70d688d5cd95df5fc7a26e3a</th>\n",
       "      <td>k__Bacteria; p__Proteobacteria; c__Gammaproteobacteria; o__Pseudomonadales; f__Moraxellaceae; g__Psychrobacter</td>\n",
       "    </tr>\n",
       "    <tr>\n",
       "      <th>da95b61897d9c6cd8b79f052d26a7985</th>\n",
       "      <td>k__Bacteria; p__Actinobacteria; c__Actinobacteria; o__Actinomycetales; f__Corynebacteriaceae; g__Corynebacterium; s__variabile</td>\n",
       "    </tr>\n",
       "    <tr>\n",
       "      <th>805c1b3ec3035abbb7b9f1f7f6157e12</th>\n",
       "      <td>k__Bacteria; p__Firmicutes; c__Bacilli; o__Bacillales; f__Staphylococcaceae; g__Staphylococcus</td>\n",
       "    </tr>\n",
       "    <tr>\n",
       "      <th>4db7c06da0197e12d5dd8b3dc1418e50</th>\n",
       "      <td>k__Bacteria; p__Proteobacteria; c__Gammaproteobacteria; o__Oceanospirillales; f__Halomonadaceae; g__Halomonas; s__</td>\n",
       "    </tr>\n",
       "    <tr>\n",
       "      <th>398e906d9ad1914eb268fda5c7453e09</th>\n",
       "      <td>k__Bacteria</td>\n",
       "    </tr>\n",
       "  </tbody>\n",
       "</table>\n",
       "</div>"
      ],
      "text/plain": [
       "                                                                                                                                                           Taxon\n",
       "0                                                                                                                                                               \n",
       "f50c8ae2717bb99c926c4ab1f2a6135c                  k__Bacteria; p__Actinobacteria; c__Actinobacteria; o__Actinomycetales; f__Brevibacteriaceae; g__Brevibacterium\n",
       "5899b66b70d688d5cd95df5fc7a26e3a                  k__Bacteria; p__Proteobacteria; c__Gammaproteobacteria; o__Pseudomonadales; f__Moraxellaceae; g__Psychrobacter\n",
       "da95b61897d9c6cd8b79f052d26a7985  k__Bacteria; p__Actinobacteria; c__Actinobacteria; o__Actinomycetales; f__Corynebacteriaceae; g__Corynebacterium; s__variabile\n",
       "805c1b3ec3035abbb7b9f1f7f6157e12                                  k__Bacteria; p__Firmicutes; c__Bacilli; o__Bacillales; f__Staphylococcaceae; g__Staphylococcus\n",
       "4db7c06da0197e12d5dd8b3dc1418e50              k__Bacteria; p__Proteobacteria; c__Gammaproteobacteria; o__Oceanospirillales; f__Halomonadaceae; g__Halomonas; s__\n",
       "398e906d9ad1914eb268fda5c7453e09                                                                                                                     k__Bacteria"
      ]
     },
     "execution_count": 19,
     "metadata": {},
     "output_type": "execute_result"
    }
   ],
   "source": [
    "core_was = pd.DataFrame(set_core_was)\n",
    "core_was.set_index(0, inplace = True)\n",
    "#core_was = core_was.rename(index={'Feature ID'})\n",
    "core_was_taxa = core_was.join(taxa['Taxon'])\n",
    "core_was_taxa"
   ]
  },
  {
   "cell_type": "code",
   "execution_count": null,
   "id": "25665259-8c47-43a8-b8c0-a76a43dc8e77",
   "metadata": {},
   "outputs": [],
   "source": []
  },
  {
   "cell_type": "markdown",
   "id": "84accf76-6535-4ec1-9809-3f6f50378a33",
   "metadata": {},
   "source": [
    "##### Cheeses with alpine style"
   ]
  },
  {
   "cell_type": "code",
   "execution_count": 22,
   "id": "748cd6d8-8c13-4b97-9f70-c1b7048a2d88",
   "metadata": {},
   "outputs": [
    {
     "name": "stdout",
     "output_type": "stream",
     "text": [
      "2022-12-13 16:29:41 URL:https://polybox.ethz.ch/index.php/s/f8vVurBBWM740hB/download [1917/1917] -> \"CE/core_microbiota_list_ch_alpine.tsv\" [1]\n",
      "2022-12-13 16:29:42 URL:https://polybox.ethz.ch/index.php/s/k4Yy6aCgH2G2gkT/download [1849/1849] -> \"CE/core_microbiota_list_neighbor_alpine.tsv\" [1]\n"
     ]
    }
   ],
   "source": [
    "! wget -nv -O $data_dir/core_microbiota_list_ch_alpine.tsv 'https://polybox.ethz.ch/index.php/s/f8vVurBBWM740hB/download'\n",
    "! wget -nv -O $data_dir/core_microbiota_list_neighbor_alpine.tsv 'https://polybox.ethz.ch/index.php/s/k4Yy6aCgH2G2gkT/download'"
   ]
  },
  {
   "cell_type": "code",
   "execution_count": 27,
   "id": "809fa1bc-27e3-474b-8897-ba4cecf5698f",
   "metadata": {},
   "outputs": [],
   "source": [
    "#core features from CH cheeses in alpine style\n",
    "df_core_ch_alp = pd.read_csv(f'{data_dir}/core_microbiota_list_ch_alpine.tsv', sep ='\\t')\n",
    "df_core_ch_alp.set_index('Feature ID', inplace = True)\n",
    "core_ch_alp_taxa = df_core_ch_alp.join(taxa['Taxon'])\n",
    "pd.set_option('max_colwidth', 150)\n",
    "#core_ch_alp_taxa"
   ]
  },
  {
   "cell_type": "code",
   "execution_count": 29,
   "id": "47f2f15a-f343-4c5a-9afa-913d458e1177",
   "metadata": {},
   "outputs": [],
   "source": [
    "#core features from neighboring countries in alpine style\n",
    "df_core_nei_alp = pd.read_csv(f'{data_dir}/core_microbiota_list_neighbor_alpine.tsv', sep ='\\t')\n",
    "df_core_nei_alp.set_index('Feature ID', inplace = True)\n",
    "core_nei_alp_taxa = df_core_nei_alp.join(taxa['Taxon'])\n",
    "pd.set_option('max_colwidth', 150)\n",
    "#core_nei_alp_taxa"
   ]
  },
  {
   "cell_type": "code",
   "execution_count": 30,
   "id": "be583ae3-b42d-4f3f-b1e8-833db03517af",
   "metadata": {},
   "outputs": [],
   "source": [
    "#get list of Feature IDs from core features of CH and neighboring cheeses with natural rindtype and convert list into set\n",
    "index_list_ch_alp = list(df_core_ch_alp.index.values)\n",
    "set_ch_alp = set(index_list_ch_alp)\n",
    "index_list_nei_alp = list(df_core_nei_alp.index.values)\n",
    "set_nei_alp = set(index_list_nei_alp)"
   ]
  },
  {
   "cell_type": "code",
   "execution_count": 31,
   "id": "4030efaa-4b90-498e-aee3-84ece06fe9c6",
   "metadata": {},
   "outputs": [
    {
     "name": "stdout",
     "output_type": "stream",
     "text": [
      "{'f50c8ae2717bb99c926c4ab1f2a6135c', '13abd204fa63efb19248b7c271448d5a', '5899b66b70d688d5cd95df5fc7a26e3a', '805c1b3ec3035abbb7b9f1f7f6157e12', 'da95b61897d9c6cd8b79f052d26a7985', 'fc51328a0e0452be580de099a5b5791a', 'd847672aeae8e53a505ead86563586e4', '398e906d9ad1914eb268fda5c7453e09', '9e9ac50434879829e4bce8eeb1bc4f9c', 'c3e308088f68e1cabfd16c37f5a2307b', '4db7c06da0197e12d5dd8b3dc1418e50', '016557b68d4a86357fc47eab6f903d3f'}\n"
     ]
    }
   ],
   "source": [
    "#get set of Feature IDs which are the same in both sets\n",
    "set_core_alp = set_ch_alp.intersection(set_nei_alp)\n",
    "\n",
    "print(set_core_alp)"
   ]
  },
  {
   "cell_type": "code",
   "execution_count": 32,
   "id": "ac757f8e-435c-46e5-bcbf-f247483a9ae0",
   "metadata": {},
   "outputs": [
    {
     "data": {
      "text/html": [
       "<div>\n",
       "<style scoped>\n",
       "    .dataframe tbody tr th:only-of-type {\n",
       "        vertical-align: middle;\n",
       "    }\n",
       "\n",
       "    .dataframe tbody tr th {\n",
       "        vertical-align: top;\n",
       "    }\n",
       "\n",
       "    .dataframe thead th {\n",
       "        text-align: right;\n",
       "    }\n",
       "</style>\n",
       "<table border=\"1\" class=\"dataframe\">\n",
       "  <thead>\n",
       "    <tr style=\"text-align: right;\">\n",
       "      <th></th>\n",
       "      <th>Taxon</th>\n",
       "    </tr>\n",
       "    <tr>\n",
       "      <th>0</th>\n",
       "      <th></th>\n",
       "    </tr>\n",
       "  </thead>\n",
       "  <tbody>\n",
       "    <tr>\n",
       "      <th>f50c8ae2717bb99c926c4ab1f2a6135c</th>\n",
       "      <td>k__Bacteria; p__Actinobacteria; c__Actinobacteria; o__Actinomycetales; f__Brevibacteriaceae; g__Brevibacterium</td>\n",
       "    </tr>\n",
       "    <tr>\n",
       "      <th>13abd204fa63efb19248b7c271448d5a</th>\n",
       "      <td>k__Bacteria; p__Actinobacteria; c__Actinobacteria; o__Actinomycetales; f__Dermabacteraceae; g__Brachybacterium; s__</td>\n",
       "    </tr>\n",
       "    <tr>\n",
       "      <th>5899b66b70d688d5cd95df5fc7a26e3a</th>\n",
       "      <td>k__Bacteria; p__Proteobacteria; c__Gammaproteobacteria; o__Pseudomonadales; f__Moraxellaceae; g__Psychrobacter</td>\n",
       "    </tr>\n",
       "    <tr>\n",
       "      <th>805c1b3ec3035abbb7b9f1f7f6157e12</th>\n",
       "      <td>k__Bacteria; p__Firmicutes; c__Bacilli; o__Bacillales; f__Staphylococcaceae; g__Staphylococcus</td>\n",
       "    </tr>\n",
       "    <tr>\n",
       "      <th>da95b61897d9c6cd8b79f052d26a7985</th>\n",
       "      <td>k__Bacteria; p__Actinobacteria; c__Actinobacteria; o__Actinomycetales; f__Corynebacteriaceae; g__Corynebacterium; s__variabile</td>\n",
       "    </tr>\n",
       "    <tr>\n",
       "      <th>fc51328a0e0452be580de099a5b5791a</th>\n",
       "      <td>k__Bacteria; p__Actinobacteria; c__Actinobacteria; o__Actinomycetales; f__Corynebacteriaceae; g__Corynebacterium; s__stationis</td>\n",
       "    </tr>\n",
       "    <tr>\n",
       "      <th>d847672aeae8e53a505ead86563586e4</th>\n",
       "      <td>k__Bacteria; p__Firmicutes; c__Bacilli; o__Lactobacillales; f__Aerococcaceae; g__Facklamia; s__</td>\n",
       "    </tr>\n",
       "    <tr>\n",
       "      <th>398e906d9ad1914eb268fda5c7453e09</th>\n",
       "      <td>k__Bacteria</td>\n",
       "    </tr>\n",
       "    <tr>\n",
       "      <th>9e9ac50434879829e4bce8eeb1bc4f9c</th>\n",
       "      <td>k__Bacteria; p__Actinobacteria; c__Actinobacteria; o__Actinomycetales; f__Brevibacteriaceae; g__Brevibacterium; s__</td>\n",
       "    </tr>\n",
       "    <tr>\n",
       "      <th>c3e308088f68e1cabfd16c37f5a2307b</th>\n",
       "      <td>k__Bacteria; p__Actinobacteria; c__Actinobacteria; o__Actinomycetales; f__Yaniellaceae; g__Yaniella; s__</td>\n",
       "    </tr>\n",
       "    <tr>\n",
       "      <th>4db7c06da0197e12d5dd8b3dc1418e50</th>\n",
       "      <td>k__Bacteria; p__Proteobacteria; c__Gammaproteobacteria; o__Oceanospirillales; f__Halomonadaceae; g__Halomonas; s__</td>\n",
       "    </tr>\n",
       "    <tr>\n",
       "      <th>016557b68d4a86357fc47eab6f903d3f</th>\n",
       "      <td>k__Bacteria; p__Actinobacteria; c__Actinobacteria; o__Actinomycetales; f__Microbacteriaceae; g__Candidatus Rhodoluna; s__</td>\n",
       "    </tr>\n",
       "  </tbody>\n",
       "</table>\n",
       "</div>"
      ],
      "text/plain": [
       "                                                                                                                                                           Taxon\n",
       "0                                                                                                                                                               \n",
       "f50c8ae2717bb99c926c4ab1f2a6135c                  k__Bacteria; p__Actinobacteria; c__Actinobacteria; o__Actinomycetales; f__Brevibacteriaceae; g__Brevibacterium\n",
       "13abd204fa63efb19248b7c271448d5a             k__Bacteria; p__Actinobacteria; c__Actinobacteria; o__Actinomycetales; f__Dermabacteraceae; g__Brachybacterium; s__\n",
       "5899b66b70d688d5cd95df5fc7a26e3a                  k__Bacteria; p__Proteobacteria; c__Gammaproteobacteria; o__Pseudomonadales; f__Moraxellaceae; g__Psychrobacter\n",
       "805c1b3ec3035abbb7b9f1f7f6157e12                                  k__Bacteria; p__Firmicutes; c__Bacilli; o__Bacillales; f__Staphylococcaceae; g__Staphylococcus\n",
       "da95b61897d9c6cd8b79f052d26a7985  k__Bacteria; p__Actinobacteria; c__Actinobacteria; o__Actinomycetales; f__Corynebacteriaceae; g__Corynebacterium; s__variabile\n",
       "fc51328a0e0452be580de099a5b5791a  k__Bacteria; p__Actinobacteria; c__Actinobacteria; o__Actinomycetales; f__Corynebacteriaceae; g__Corynebacterium; s__stationis\n",
       "d847672aeae8e53a505ead86563586e4                                 k__Bacteria; p__Firmicutes; c__Bacilli; o__Lactobacillales; f__Aerococcaceae; g__Facklamia; s__\n",
       "398e906d9ad1914eb268fda5c7453e09                                                                                                                     k__Bacteria\n",
       "9e9ac50434879829e4bce8eeb1bc4f9c             k__Bacteria; p__Actinobacteria; c__Actinobacteria; o__Actinomycetales; f__Brevibacteriaceae; g__Brevibacterium; s__\n",
       "c3e308088f68e1cabfd16c37f5a2307b                        k__Bacteria; p__Actinobacteria; c__Actinobacteria; o__Actinomycetales; f__Yaniellaceae; g__Yaniella; s__\n",
       "4db7c06da0197e12d5dd8b3dc1418e50              k__Bacteria; p__Proteobacteria; c__Gammaproteobacteria; o__Oceanospirillales; f__Halomonadaceae; g__Halomonas; s__\n",
       "016557b68d4a86357fc47eab6f903d3f       k__Bacteria; p__Actinobacteria; c__Actinobacteria; o__Actinomycetales; f__Microbacteriaceae; g__Candidatus Rhodoluna; s__"
      ]
     },
     "execution_count": 32,
     "metadata": {},
     "output_type": "execute_result"
    }
   ],
   "source": [
    "core_alp = pd.DataFrame(set_core_alp)\n",
    "core_alp.set_index(0, inplace = True)\n",
    "#core_alp = core_alp.rename(index={'Feature ID'})\n",
    "core_alp_taxa = core_alp.join(taxa['Taxon'])\n",
    "core_alp_taxa"
   ]
  },
  {
   "cell_type": "code",
   "execution_count": null,
   "id": "b24e20e7-2539-4358-8239-4a590feedfcf",
   "metadata": {},
   "outputs": [],
   "source": []
  }
 ],
 "metadata": {
  "kernelspec": {
   "display_name": "Python 3 (ipykernel)",
   "language": "python",
   "name": "python3"
  },
  "language_info": {
   "codemirror_mode": {
    "name": "ipython",
    "version": 3
   },
   "file_extension": ".py",
   "mimetype": "text/x-python",
   "name": "python",
   "nbconvert_exporter": "python",
   "pygments_lexer": "ipython3",
   "version": "3.8.13"
  }
 },
 "nbformat": 4,
 "nbformat_minor": 5
}
