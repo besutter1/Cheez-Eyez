{
 "cells": [
  {
   "cell_type": "markdown",
   "id": "650df783-402a-428b-a3e8-7d3aab28dc72",
   "metadata": {},
   "source": [
    "### import packages"
   ]
  },
  {
   "cell_type": "code",
   "execution_count": 18,
   "id": "2e35e2e8-e5d1-4ca9-b8f0-9d043cb7773c",
   "metadata": {},
   "outputs": [],
   "source": [
    "import os\n",
    "import pandas as pd\n",
    "from qiime2 import Visualization\n",
    "import matplotlib.pyplot as plt\n",
    "\n",
    "%matplotlib inline"
   ]
  },
  {
   "cell_type": "markdown",
   "id": "d3429e7a-55f3-4919-a110-aa315fe36c7c",
   "metadata": {},
   "source": [
    "### creating data directory "
   ]
  },
  {
   "cell_type": "code",
   "execution_count": 19,
   "id": "fe493faf-594a-4abe-abdd-f1c3633caee4",
   "metadata": {},
   "outputs": [],
   "source": [
    "data_dir = 'CheezEyez_data'\n",
    "\n",
    "if not os.path.isdir(data_dir):\n",
    "    os.makedirs(data_dir)"
   ]
  },
  {
   "cell_type": "code",
   "execution_count": 20,
   "id": "1764515e-f001-4ab9-9b17-a5057548a3a1",
   "metadata": {},
   "outputs": [
    {
     "name": "stdout",
     "output_type": "stream",
     "text": [
      "['1CheezEyez draft.ipynb', 'W3_meieri_DataImport_Denoising_Clustering.ipynb', 'cheese-single-end-demux.qza', 'food-metadata.tsv']\n"
     ]
    }
   ],
   "source": [
    "print([f for f in os.listdir('.') if os.path.isfile(f)])"
   ]
  },
  {
   "cell_type": "markdown",
   "id": "071a8a43-e8e7-4ed9-9c1b-58b41380f407",
   "metadata": {},
   "source": [
    "### don't need to run every time? qza file download"
   ]
  },
  {
   "cell_type": "code",
   "execution_count": 21,
   "id": "2c88c441-a361-46f4-b7a8-53eef1d95ee1",
   "metadata": {},
   "outputs": [
    {
     "name": "stdout",
     "output_type": "stream",
     "text": [
      "2022-10-05 10:16:44 URL:https://polybox.ethz.ch/index.php/s/2AYhc9EgbtA7wsE [13481/13481] -> \"/home/jovyan/CheezEyez/CheezEyez_data/cheese-single-end-demux.qza\" [1]\n"
     ]
    }
   ],
   "source": [
    "! wget -nv -O $data_dir/cheese-single-end-demux.qza 'https://polybox.ethz.ch/index.php/s/2AYhc9EgbtA7wsE'"
   ]
  },
  {
   "cell_type": "code",
   "execution_count": 22,
   "id": "be5ad2f8-7fd3-45c9-8437-a39b314e7589",
   "metadata": {},
   "outputs": [
    {
     "name": "stdout",
     "output_type": "stream",
     "text": [
      "cheese-single-end-demux.qza\n"
     ]
    }
   ],
   "source": [
    "! ls -1 $data_dir"
   ]
  },
  {
   "cell_type": "markdown",
   "id": "f3fc8563-5abf-48c4-b3c4-5ea0630f9c4e",
   "metadata": {},
   "source": [
    "### tsv file download"
   ]
  },
  {
   "cell_type": "code",
   "execution_count": 25,
   "id": "2f261475-d23f-4ac7-af2b-9b67086860bc",
   "metadata": {},
   "outputs": [
    {
     "name": "stdout",
     "output_type": "stream",
     "text": [
      "2022-10-05 10:34:21 URL:https://polybox.ethz.ch/index.php/s/nEd4l5CWGWGEtae [13436/13436] -> \"/home/jovyan/CheezEyez/CheezEyez_data/food-metadata.tsv\" [1]\n"
     ]
    }
   ],
   "source": [
    "! wget -nv -O $data_dir/food-metadata.tsv 'https://polybox.ethz.ch/index.php/s/nEd4l5CWGWGEtae'"
   ]
  },
  {
   "cell_type": "code",
   "execution_count": 26,
   "id": "6c66dc88-bcb7-4bf3-82c6-440d5cbed111",
   "metadata": {},
   "outputs": [
    {
     "name": "stdout",
     "output_type": "stream",
     "text": [
      "cheese-single-end-demux.qza\n",
      "food-metadata.tsv\n"
     ]
    }
   ],
   "source": [
    "! ls -1 $data_dir"
   ]
  },
  {
   "cell_type": "raw",
   "id": "c3d258e0-8f10-492b-a7c0-037c46a10de1",
   "metadata": {},
   "source": [
    "test"
   ]
  },
  {
   "cell_type": "code",
   "execution_count": null,
   "id": "ac0caa26-f24c-42a1-85b2-db5ef2261883",
   "metadata": {},
   "outputs": [],
   "source": []
  }
 ],
 "metadata": {
  "kernelspec": {
   "display_name": "Python 3 (ipykernel)",
   "language": "python",
   "name": "python3"
  },
  "language_info": {
   "codemirror_mode": {
    "name": "ipython",
    "version": 3
   },
   "file_extension": ".py",
   "mimetype": "text/x-python",
   "name": "python",
   "nbconvert_exporter": "python",
   "pygments_lexer": "ipython3",
   "version": "3.8.13"
  }
 },
 "nbformat": 4,
 "nbformat_minor": 5
}
