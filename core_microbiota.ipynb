{
 "cells": [
  {
   "cell_type": "markdown",
   "id": "0297b2b3-5173-4428-ae96-b75943c42cc2",
   "metadata": {},
   "source": [
    "Test different functions to get the core microbiota:"
   ]
  },
  {
   "cell_type": "code",
   "execution_count": 4,
   "id": "f8bf5dc9-c0c7-427a-9f7b-4a2fdabfd33b",
   "metadata": {},
   "outputs": [],
   "source": [
    "import os\n",
    "import pandas as pd\n",
    "from qiime2 import Visualization\n",
    "import matplotlib.pyplot as plt\n",
    "import numpy as np\n",
    "\n",
    "import qiime2 as q2\n",
    "\n",
    "%matplotlib inline\n",
    "data_dir = 'CE'"
   ]
  },
  {
   "cell_type": "markdown",
   "id": "228a5d03-2d4c-4f66-817a-c957aa0570e9",
   "metadata": {},
   "source": [
    "##### Download metadata"
   ]
  },
  {
   "cell_type": "code",
   "execution_count": 14,
   "id": "a0d8db21-e6c3-4652-b4e7-8aa46b3f7b95",
   "metadata": {},
   "outputs": [
    {
     "name": "stdout",
     "output_type": "stream",
     "text": [
      "2022-12-12 08:54:46 URL:https://polybox.ethz.ch/index.php/s/nEd4l5CWGWGEtae/download [42810/42810] -> \"CE/food-metadata.tsv\" [1]\n"
     ]
    }
   ],
   "source": [
    "! wget -nv -O $data_dir/food-metadata.tsv 'https://polybox.ethz.ch/index.php/s/nEd4l5CWGWGEtae/download'"
   ]
  },
  {
   "cell_type": "markdown",
   "id": "141dc6a1-2add-44ff-9cdd-e501eaa95dfb",
   "metadata": {},
   "source": [
    "Identify \"core\" features, which are features observed in a user-defined\n",
    "  fraction of the samples. Since the core features are a function of the\n",
    "  fraction of samples that the feature must be observed in to be considered\n",
    "  core, this is computed over a range of fractions defined by the\n",
    "  `min_fraction`, `max_fraction`, and `steps` parameters."
   ]
  },
  {
   "cell_type": "markdown",
   "id": "9efafde5-93a7-48b3-b2a9-04434a36b6cf",
   "metadata": {},
   "source": [
    "#### Workflow\n",
    "1) Try different parameters to find core features\n",
    "2) Find core features of all cheeses in our feature table\n",
    "3) Find core features of Swiss cheeses (in categories rindtype = natural, washed or style = alpine\n",
    "4) Find core features of similar neighboring country cheeses.\n",
    "5) Compare results of Swiss to neighboring country cheeses."
   ]
  },
  {
   "cell_type": "markdown",
   "id": "884ce5d5-93e9-4914-bd64-1b26a64e105c",
   "metadata": {},
   "source": [
    "### 1)"
   ]
  },
  {
   "cell_type": "markdown",
   "id": "d55c3aad-6c15-4c38-9eba-3372dbd3a073",
   "metadata": {},
   "source": [
    "I tried different values for the parameters:"
   ]
  },
  {
   "cell_type": "markdown",
   "id": "ed40f85e-b264-45a2-86f7-1c468d773842",
   "metadata": {},
   "source": [
    "#### 1. Try"
   ]
  },
  {
   "cell_type": "markdown",
   "id": "1aed8ece-78cd-4cd2-90cc-44d6b78ce3b1",
   "metadata": {},
   "source": [
    "Used the function with the default values:"
   ]
  },
  {
   "cell_type": "code",
   "execution_count": 9,
   "id": "a8e8ddcb-e5f8-4e1b-b676-0d07a9f90c90",
   "metadata": {},
   "outputs": [
    {
     "name": "stdout",
     "output_type": "stream",
     "text": [
      "Usage: \u001b[94mqiime feature-table core-features\u001b[0m [OPTIONS]\n",
      "\n",
      "  Identify \"core\" features, which are features observed in a user-defined\n",
      "  fraction of the samples. Since the core features are a function of the\n",
      "  fraction of samples that the feature must be observed in to be considered\n",
      "  core, this is computed over a range of fractions defined by the\n",
      "  `min_fraction`, `max_fraction`, and `steps` parameters.\n",
      "\n",
      "\u001b[1mInputs\u001b[0m:\n",
      "  \u001b[94m\u001b[4m--i-table\u001b[0m ARTIFACT \u001b[32mFeatureTable[Frequency]\u001b[0m\n",
      "                       The feature table to use in core features\n",
      "                       calculations.                                \u001b[35m[required]\u001b[0m\n",
      "\u001b[1mParameters\u001b[0m:\n",
      "  \u001b[94m--p-min-fraction\u001b[0m PROPORTION \u001b[32mRange(0.0, 1.0, inclusive_start=False)\u001b[0m\n",
      "                       The minimum fraction of samples that a feature must be\n",
      "                       observed in for that feature to be considered a core\n",
      "                       feature.                                 \u001b[35m[default: 0.5]\u001b[0m\n",
      "  \u001b[94m--p-max-fraction\u001b[0m PROPORTION \u001b[32mRange(0.0, 1.0, inclusive_end=True)\u001b[0m\n",
      "                       The maximum fraction of samples that a feature must be\n",
      "                       observed in for that feature to be considered a core\n",
      "                       feature.                                 \u001b[35m[default: 1.0]\u001b[0m\n",
      "  \u001b[94m--p-steps\u001b[0m INTEGER    The number of steps to take between `\u001b[4mmin-fraction\u001b[0m` and\n",
      "    \u001b[32mRange(2, None)\u001b[0m     `\u001b[4mmax-fraction\u001b[0m` for core features calculations. This\n",
      "                       parameter has no effect if `\u001b[4mmin-fraction\u001b[0m` and\n",
      "                       `\u001b[4mmax-fraction\u001b[0m` are the same value.        \u001b[35m[default: 11]\u001b[0m\n",
      "\u001b[1mOutputs\u001b[0m:\n",
      "  \u001b[94m\u001b[4m--o-visualization\u001b[0m VISUALIZATION\n",
      "                                                                    \u001b[35m[required]\u001b[0m\n",
      "\u001b[1mMiscellaneous\u001b[0m:\n",
      "  \u001b[94m--output-dir\u001b[0m PATH    Output unspecified results to a directory\n",
      "  \u001b[94m--verbose\u001b[0m / \u001b[94m--quiet\u001b[0m  Display verbose output to stdout and/or stderr during\n",
      "                       execution of this action. Or silence output if\n",
      "                       execution is successful (silence is golden).\n",
      "  \u001b[94m--example-data\u001b[0m PATH  Write example data and exit.\n",
      "  \u001b[94m--citations\u001b[0m          Show citations and exit.\n",
      "  \u001b[94m--help\u001b[0m               Show this message and exit.\n",
      "\n",
      "\u001b[33m                    There was a problem with the command:                     \u001b[0m\n",
      "\u001b[31m\u001b[1m (1/1) Invalid value for '--o-visualization': Directory 'CE/core-microbiome'\n",
      "  does not exist, cannot save 'core_microbiota.qzv' into it.\u001b[0m\n",
      "\u001b[0m"
     ]
    }
   ],
   "source": [
    "! qiime feature-table core-features \\\n",
    "--i-table $data_dir/dada2_table_align_filtered.qza \\\n",
    "--p-min-fraction 0.5 \\\n",
    "--o-visualization $data_dir/core_microbiota.qzv"
   ]
  },
  {
   "cell_type": "code",
   "execution_count": 4,
   "id": "6d24141f-3f0c-43c0-a4e4-fb910c207df1",
   "metadata": {},
   "outputs": [
    {
     "data": {
      "text/html": [
       "<div><img onload=\"(function(div, url){\n",
       "if (typeof require !== 'undefined') {\n",
       "    var baseURL = require.toUrl('').split('/').slice(0, -2).join('/');\n",
       "} else {\n",
       "    var baseURL = JSON.parse(\n",
       "        document.getElementById('jupyter-config-data').innerHTML\n",
       "    ).baseUrl.slice(0, -1);\n",
       "}\n",
       "url = baseURL + url;\n",
       "fetch(url).then(function(res) {\n",
       "    if (res.status === 404) {\n",
       "        div.innerHTML = 'Install QIIME 2 Jupyter extension with:<br />' +\n",
       "                        '<code>jupyter serverextension enable --py qiime2' +\n",
       "                        ' --sys-prefix</code><br />then restart your server.' +\n",
       "                        '<br /><br />(Interactive output not available on ' +\n",
       "                        'static notebook viewer services like nbviewer.)';\n",
       "    } else if (res.status === 409) {\n",
       "        div.innerHTML = 'Visualization no longer in scope. Re-run this cell' +\n",
       "                        ' to see the visualization.';\n",
       "    } else if (res.ok) {\n",
       "        url = res.url;\n",
       "        div.innerHTML = '<iframe src=\\'' + url + '\\' style=\\'' +\n",
       "                        'width: 100%; height: 700px; border: 0;\\'>' +\n",
       "                        '</iframe><hr />Open in a: <a href=\\'' + url + '\\'' +\n",
       "                        ' target=\\'_blank\\'>new window</a>'\n",
       "    } else {\n",
       "        div.innerHTML = 'Something has gone wrong. Check notebook server for' +\n",
       "                        ' errors.';\n",
       "    }\n",
       "});\n",
       "})(this.parentElement, '/qiime2/redirect?location=/tmp/qiime2-archive-ggvgehhm')\" src=\"data:image/gif;base64,R0lGODlhAQABAIAAAP///wAAACH5BAEAAAAALAAAAAABAAEAAAICRAEAOw==\" /></div>"
      ],
      "text/plain": [
       "<visualization: Visualization uuid: 0c0156f8-5401-48d1-80c0-988547d889ce>"
      ]
     },
     "execution_count": 4,
     "metadata": {},
     "output_type": "execute_result"
    }
   ],
   "source": [
    "Visualization.load(f'{data_dir}/core_microbiota.qzv')"
   ]
  },
  {
   "cell_type": "markdown",
   "id": "d5809fc7-ce02-4adc-aca2-0032c957cba9",
   "metadata": {},
   "source": [
    "#### 2. Try"
   ]
  },
  {
   "cell_type": "markdown",
   "id": "16b9e4bc-d3ab-473d-85d9-41b866f675c1",
   "metadata": {},
   "source": [
    "Used the function with higher min-fraction:"
   ]
  },
  {
   "cell_type": "code",
   "execution_count": 14,
   "id": "b209969a-cc8c-4020-8929-da150206a854",
   "metadata": {},
   "outputs": [
    {
     "name": "stdout",
     "output_type": "stream",
     "text": [
      "\u001b[32mSaved Visualization to: CE/core_microbiota_2.qzv\u001b[0m\n",
      "\u001b[0m"
     ]
    }
   ],
   "source": [
    "! qiime feature-table core-features \\\n",
    "--i-table $data_dir/dada2_table_align_filtered.qza \\\n",
    "--p-min-fraction 0.8 \\\n",
    "--o-visualization $data_dir/core_microbiota_2.qzv"
   ]
  },
  {
   "cell_type": "code",
   "execution_count": 15,
   "id": "0fe8511f-073a-4024-9464-b7b798238adc",
   "metadata": {},
   "outputs": [
    {
     "data": {
      "text/html": [
       "<div><img onload=\"(function(div, url){\n",
       "if (typeof require !== 'undefined') {\n",
       "    var baseURL = require.toUrl('').split('/').slice(0, -2).join('/');\n",
       "} else {\n",
       "    var baseURL = JSON.parse(\n",
       "        document.getElementById('jupyter-config-data').innerHTML\n",
       "    ).baseUrl.slice(0, -1);\n",
       "}\n",
       "url = baseURL + url;\n",
       "fetch(url).then(function(res) {\n",
       "    if (res.status === 404) {\n",
       "        div.innerHTML = 'Install QIIME 2 Jupyter extension with:<br />' +\n",
       "                        '<code>jupyter serverextension enable --py qiime2' +\n",
       "                        ' --sys-prefix</code><br />then restart your server.' +\n",
       "                        '<br /><br />(Interactive output not available on ' +\n",
       "                        'static notebook viewer services like nbviewer.)';\n",
       "    } else if (res.status === 409) {\n",
       "        div.innerHTML = 'Visualization no longer in scope. Re-run this cell' +\n",
       "                        ' to see the visualization.';\n",
       "    } else if (res.ok) {\n",
       "        url = res.url;\n",
       "        div.innerHTML = '<iframe src=\\'' + url + '\\' style=\\'' +\n",
       "                        'width: 100%; height: 700px; border: 0;\\'>' +\n",
       "                        '</iframe><hr />Open in a: <a href=\\'' + url + '\\'' +\n",
       "                        ' target=\\'_blank\\'>new window</a>'\n",
       "    } else {\n",
       "        div.innerHTML = 'Something has gone wrong. Check notebook server for' +\n",
       "                        ' errors.';\n",
       "    }\n",
       "});\n",
       "})(this.parentElement, '/qiime2/redirect?location=/tmp/qiime2-archive-vymikown')\" src=\"data:image/gif;base64,R0lGODlhAQABAIAAAP///wAAACH5BAEAAAAALAAAAAABAAEAAAICRAEAOw==\" /></div>"
      ],
      "text/plain": [
       "<visualization: Visualization uuid: 61f25892-088c-472b-9bc4-bcad74e4e50a>"
      ]
     },
     "execution_count": 15,
     "metadata": {},
     "output_type": "execute_result"
    }
   ],
   "source": [
    "Visualization.load(f'{data_dir}/core_microbiota_2.qzv')"
   ]
  },
  {
   "cell_type": "markdown",
   "id": "7feafd5c-ceae-45e7-a9db-f7c5f666d627",
   "metadata": {},
   "source": [
    "#### 3. Try"
   ]
  },
  {
   "cell_type": "markdown",
   "id": "871f0da0-35eb-4079-bde1-ee9fbb9e89ce",
   "metadata": {},
   "source": [
    "Using different step value:"
   ]
  },
  {
   "cell_type": "code",
   "execution_count": 17,
   "id": "99defe16-d5db-480e-a5b0-dde544d1cafc",
   "metadata": {},
   "outputs": [
    {
     "name": "stdout",
     "output_type": "stream",
     "text": [
      "\u001b[32mSaved Visualization to: CE/core_microbiota_3.qzv\u001b[0m\n",
      "\u001b[0m"
     ]
    }
   ],
   "source": [
    "! qiime feature-table core-features \\\n",
    "--i-table $data_dir/dada2_table_align_filtered.qza \\\n",
    "--p-min-fraction 0.8 \\\n",
    "--p-steps 5 \\\n",
    "--o-visualization $data_dir/core_microbiota_3.qzv"
   ]
  },
  {
   "cell_type": "code",
   "execution_count": 18,
   "id": "afc46d07-2967-4916-87bb-4b7c2ef1ca33",
   "metadata": {},
   "outputs": [
    {
     "data": {
      "text/html": [
       "<div><img onload=\"(function(div, url){\n",
       "if (typeof require !== 'undefined') {\n",
       "    var baseURL = require.toUrl('').split('/').slice(0, -2).join('/');\n",
       "} else {\n",
       "    var baseURL = JSON.parse(\n",
       "        document.getElementById('jupyter-config-data').innerHTML\n",
       "    ).baseUrl.slice(0, -1);\n",
       "}\n",
       "url = baseURL + url;\n",
       "fetch(url).then(function(res) {\n",
       "    if (res.status === 404) {\n",
       "        div.innerHTML = 'Install QIIME 2 Jupyter extension with:<br />' +\n",
       "                        '<code>jupyter serverextension enable --py qiime2' +\n",
       "                        ' --sys-prefix</code><br />then restart your server.' +\n",
       "                        '<br /><br />(Interactive output not available on ' +\n",
       "                        'static notebook viewer services like nbviewer.)';\n",
       "    } else if (res.status === 409) {\n",
       "        div.innerHTML = 'Visualization no longer in scope. Re-run this cell' +\n",
       "                        ' to see the visualization.';\n",
       "    } else if (res.ok) {\n",
       "        url = res.url;\n",
       "        div.innerHTML = '<iframe src=\\'' + url + '\\' style=\\'' +\n",
       "                        'width: 100%; height: 700px; border: 0;\\'>' +\n",
       "                        '</iframe><hr />Open in a: <a href=\\'' + url + '\\'' +\n",
       "                        ' target=\\'_blank\\'>new window</a>'\n",
       "    } else {\n",
       "        div.innerHTML = 'Something has gone wrong. Check notebook server for' +\n",
       "                        ' errors.';\n",
       "    }\n",
       "});\n",
       "})(this.parentElement, '/qiime2/redirect?location=/tmp/qiime2-archive-xi6_qzcy')\" src=\"data:image/gif;base64,R0lGODlhAQABAIAAAP///wAAACH5BAEAAAAALAAAAAABAAEAAAICRAEAOw==\" /></div>"
      ],
      "text/plain": [
       "<visualization: Visualization uuid: 6fe15849-2827-4fbf-969f-d4dae15e4cb2>"
      ]
     },
     "execution_count": 18,
     "metadata": {},
     "output_type": "execute_result"
    }
   ],
   "source": [
    "Visualization.load(f'{data_dir}/core_microbiota_3.qzv')"
   ]
  },
  {
   "cell_type": "markdown",
   "id": "01182399-9684-41ef-ae4b-c036135910cf",
   "metadata": {},
   "source": [
    "#### 4. Try"
   ]
  },
  {
   "cell_type": "markdown",
   "id": "6e51641c-12ff-4cbe-adb9-8a3791d80305",
   "metadata": {},
   "source": [
    "Use different min-fraction:"
   ]
  },
  {
   "cell_type": "code",
   "execution_count": 22,
   "id": "4f99624a-8653-400f-aeb7-f23ded2b0d2d",
   "metadata": {},
   "outputs": [
    {
     "name": "stdout",
     "output_type": "stream",
     "text": [
      "\u001b[32mSaved Visualization to: CE/core_microbiota_4.qzv\u001b[0m\n",
      "\u001b[0m"
     ]
    }
   ],
   "source": [
    "! qiime feature-table core-features \\\n",
    "--i-table $data_dir/dada2_table_align_filtered.qza \\\n",
    "--p-min-fraction 0.7 \\\n",
    "--p-steps 10 \\\n",
    "--o-visualization $data_dir/core_microbiota_4.qzv"
   ]
  },
  {
   "cell_type": "code",
   "execution_count": 2,
   "id": "00fa1d04-2385-493c-8106-c47958210ca6",
   "metadata": {},
   "outputs": [
    {
     "data": {
      "text/html": [
       "<div><img onload=\"(function(div, url){\n",
       "if (typeof require !== 'undefined') {\n",
       "    var baseURL = require.toUrl('').split('/').slice(0, -2).join('/');\n",
       "} else {\n",
       "    var baseURL = JSON.parse(\n",
       "        document.getElementById('jupyter-config-data').innerHTML\n",
       "    ).baseUrl.slice(0, -1);\n",
       "}\n",
       "url = baseURL + url;\n",
       "fetch(url).then(function(res) {\n",
       "    if (res.status === 404) {\n",
       "        div.innerHTML = 'Install QIIME 2 Jupyter extension with:<br />' +\n",
       "                        '<code>jupyter serverextension enable --py qiime2' +\n",
       "                        ' --sys-prefix</code><br />then restart your server.' +\n",
       "                        '<br /><br />(Interactive output not available on ' +\n",
       "                        'static notebook viewer services like nbviewer.)';\n",
       "    } else if (res.status === 409) {\n",
       "        div.innerHTML = 'Visualization no longer in scope. Re-run this cell' +\n",
       "                        ' to see the visualization.';\n",
       "    } else if (res.ok) {\n",
       "        url = res.url;\n",
       "        div.innerHTML = '<iframe src=\\'' + url + '\\' style=\\'' +\n",
       "                        'width: 100%; height: 700px; border: 0;\\'>' +\n",
       "                        '</iframe><hr />Open in a: <a href=\\'' + url + '\\'' +\n",
       "                        ' target=\\'_blank\\'>new window</a>'\n",
       "    } else {\n",
       "        div.innerHTML = 'Something has gone wrong. Check notebook server for' +\n",
       "                        ' errors.';\n",
       "    }\n",
       "});\n",
       "})(this.parentElement, '/qiime2/redirect?location=/tmp/qiime2-archive-fdy5s8ms')\" src=\"data:image/gif;base64,R0lGODlhAQABAIAAAP///wAAACH5BAEAAAAALAAAAAABAAEAAAICRAEAOw==\" /></div>"
      ],
      "text/plain": [
       "<visualization: Visualization uuid: 78f37bc9-1287-4d66-bc69-3969c384e827>"
      ]
     },
     "execution_count": 2,
     "metadata": {},
     "output_type": "execute_result"
    }
   ],
   "source": [
    "Visualization.load(f'{data_dir}/core_microbiota_4.qzv')"
   ]
  },
  {
   "cell_type": "markdown",
   "id": "2d8ec70d-b5c8-41ad-b4ae-c28631dba414",
   "metadata": {},
   "source": [
    "### 2)"
   ]
  },
  {
   "cell_type": "markdown",
   "id": "860e32dc-3717-4777-9ae3-c0f2851c8d2b",
   "metadata": {},
   "source": [
    "#### Download tsv file"
   ]
  },
  {
   "cell_type": "markdown",
   "id": "5569b62d-7e28-4bad-b1d0-6a1862ef406b",
   "metadata": {},
   "source": [
    "TSV file with feature list could be downloaded from the output above. I downloaded the file and put it on polybox. I set the treshold of fraction of samples (The fraction of the total number of samples that a feature must be observed in for that feature to be considered \"core\".) to 0.7.\n",
    "Here we import this data from the polybox:"
   ]
  },
  {
   "cell_type": "code",
   "execution_count": 11,
   "id": "bac139c4-5131-4431-90fe-e39a3553b43d",
   "metadata": {},
   "outputs": [
    {
     "name": "stdout",
     "output_type": "stream",
     "text": [
      "2022-12-12 08:53:38 URL:https://polybox.ethz.ch/index.php/s/WRm86jdxvkxPOVa/download [490/490] -> \"CE/core_microbiota_list_0.7.tsv\" [1]\n"
     ]
    }
   ],
   "source": [
    "! wget -nv -O $data_dir/core_microbiota_list_0.7.tsv 'https://polybox.ethz.ch/index.php/s/WRm86jdxvkxPOVa/download'"
   ]
  },
  {
   "cell_type": "markdown",
   "id": "e8f1cfe8-3a8f-4acd-b355-e5ae2af9a049",
   "metadata": {},
   "source": [
    "This are the core features of all cheeses:"
   ]
  },
  {
   "cell_type": "code",
   "execution_count": 12,
   "id": "1505b02a-c087-4022-b215-83bdca97d6ac",
   "metadata": {},
   "outputs": [
    {
     "data": {
      "text/html": [
       "<div>\n",
       "<style scoped>\n",
       "    .dataframe tbody tr th:only-of-type {\n",
       "        vertical-align: middle;\n",
       "    }\n",
       "\n",
       "    .dataframe tbody tr th {\n",
       "        vertical-align: top;\n",
       "    }\n",
       "\n",
       "    .dataframe thead th {\n",
       "        text-align: right;\n",
       "    }\n",
       "</style>\n",
       "<table border=\"1\" class=\"dataframe\">\n",
       "  <thead>\n",
       "    <tr style=\"text-align: right;\">\n",
       "      <th></th>\n",
       "      <th>Feature ID</th>\n",
       "      <th>2%</th>\n",
       "      <th>9%</th>\n",
       "      <th>25%</th>\n",
       "      <th>50%</th>\n",
       "      <th>75%</th>\n",
       "      <th>91%</th>\n",
       "      <th>98%</th>\n",
       "    </tr>\n",
       "  </thead>\n",
       "  <tbody>\n",
       "    <tr>\n",
       "      <th>0</th>\n",
       "      <td>f50c8ae2717bb99c926c4ab1f2a6135c</td>\n",
       "      <td>4.0</td>\n",
       "      <td>12.0</td>\n",
       "      <td>184.5</td>\n",
       "      <td>1897.5</td>\n",
       "      <td>8307.25</td>\n",
       "      <td>51957.23</td>\n",
       "      <td>88576.02</td>\n",
       "    </tr>\n",
       "    <tr>\n",
       "      <th>1</th>\n",
       "      <td>805c1b3ec3035abbb7b9f1f7f6157e12</td>\n",
       "      <td>0.0</td>\n",
       "      <td>13.0</td>\n",
       "      <td>98.5</td>\n",
       "      <td>741.0</td>\n",
       "      <td>6608.00</td>\n",
       "      <td>21851.37</td>\n",
       "      <td>102426.32</td>\n",
       "    </tr>\n",
       "    <tr>\n",
       "      <th>2</th>\n",
       "      <td>5899b66b70d688d5cd95df5fc7a26e3a</td>\n",
       "      <td>0.0</td>\n",
       "      <td>0.0</td>\n",
       "      <td>8.0</td>\n",
       "      <td>87.0</td>\n",
       "      <td>1019.25</td>\n",
       "      <td>6905.73</td>\n",
       "      <td>28623.58</td>\n",
       "    </tr>\n",
       "    <tr>\n",
       "      <th>3</th>\n",
       "      <td>369232e1ac9f9983056d09b9fe866df5</td>\n",
       "      <td>0.0</td>\n",
       "      <td>0.0</td>\n",
       "      <td>8.0</td>\n",
       "      <td>44.0</td>\n",
       "      <td>400.75</td>\n",
       "      <td>2877.72</td>\n",
       "      <td>12945.78</td>\n",
       "    </tr>\n",
       "    <tr>\n",
       "      <th>4</th>\n",
       "      <td>398e906d9ad1914eb268fda5c7453e09</td>\n",
       "      <td>0.0</td>\n",
       "      <td>3.0</td>\n",
       "      <td>6.0</td>\n",
       "      <td>32.0</td>\n",
       "      <td>1070.25</td>\n",
       "      <td>11938.72</td>\n",
       "      <td>47885.18</td>\n",
       "    </tr>\n",
       "  </tbody>\n",
       "</table>\n",
       "</div>"
      ],
      "text/plain": [
       "                         Feature ID   2%    9%    25%     50%      75%  \\\n",
       "0  f50c8ae2717bb99c926c4ab1f2a6135c  4.0  12.0  184.5  1897.5  8307.25   \n",
       "1  805c1b3ec3035abbb7b9f1f7f6157e12  0.0  13.0   98.5   741.0  6608.00   \n",
       "2  5899b66b70d688d5cd95df5fc7a26e3a  0.0   0.0    8.0    87.0  1019.25   \n",
       "3  369232e1ac9f9983056d09b9fe866df5  0.0   0.0    8.0    44.0   400.75   \n",
       "4  398e906d9ad1914eb268fda5c7453e09  0.0   3.0    6.0    32.0  1070.25   \n",
       "\n",
       "        91%        98%  \n",
       "0  51957.23   88576.02  \n",
       "1  21851.37  102426.32  \n",
       "2   6905.73   28623.58  \n",
       "3   2877.72   12945.78  \n",
       "4  11938.72   47885.18  "
      ]
     },
     "execution_count": 12,
     "metadata": {},
     "output_type": "execute_result"
    }
   ],
   "source": [
    "df_core_all = pd.read_csv(f'{data_dir}/core_microbiota_list_0.7.tsv', sep ='\\t')\n",
    "df_core_all"
   ]
  },
  {
   "cell_type": "code",
   "execution_count": null,
   "id": "a29867c4-7c79-4b6e-9003-cdbdbcc6d167",
   "metadata": {},
   "outputs": [],
   "source": []
  },
  {
   "cell_type": "code",
   "execution_count": null,
   "id": "9373b737-e571-42a3-8f63-8cceabdd9688",
   "metadata": {},
   "outputs": [],
   "source": []
  },
  {
   "cell_type": "markdown",
   "id": "b1e7272c-f01f-4b63-b16a-ecadf7634349",
   "metadata": {},
   "source": [
    "### 3) "
   ]
  },
  {
   "cell_type": "markdown",
   "id": "f5786ad5-c152-4d30-b2d8-cbe9505cc1a0",
   "metadata": {},
   "source": [
    "Do cheeses from\n",
    "Switzerland share this core microbiome with similar cheeses (e.g., same style/rind type) from neighboring\n",
    "countries?"
   ]
  },
  {
   "cell_type": "markdown",
   "id": "42ae7f94-04fc-4b43-845b-2ab1c7f7c031",
   "metadata": {},
   "source": [
    "Find core features of CH cheeses with natural rindtype:"
   ]
  },
  {
   "cell_type": "markdown",
   "id": "ce3bbba9-88f1-42c1-87ab-23767ecb0e6b",
   "metadata": {},
   "source": [
    "Result: 33 core features"
   ]
  },
  {
   "cell_type": "code",
   "execution_count": 22,
   "id": "c3b69153-ba76-4e00-ab86-1d76e2a16210",
   "metadata": {},
   "outputs": [
    {
     "name": "stdout",
     "output_type": "stream",
     "text": [
      "\u001b[32mSaved FeatureTable[Frequency] to: CE/feature_table_CH_natural.qza\u001b[0m\n",
      "\u001b[0m"
     ]
    }
   ],
   "source": [
    "! qiime feature-table filter-samples \\\n",
    "--i-table $data_dir/dada2_table_align_filtered.qza \\\n",
    "--m-metadata-file $data_dir/food-metadata.tsv \\\n",
    "--p-where \"[country]='Switzerland' AND [rindtype]='natural'\"\\\n",
    "--o-filtered-table $data_dir/feature_table_CH_natural.qza"
   ]
  },
  {
   "cell_type": "code",
   "execution_count": 29,
   "id": "3fcf4766-e7dd-4311-8dc5-5cf9d35e15c7",
   "metadata": {},
   "outputs": [
    {
     "name": "stdout",
     "output_type": "stream",
     "text": [
      "\u001b[32mSaved Visualization to: CE/core_microbiota_CH_natural.qzv\u001b[0m\n",
      "\u001b[0m"
     ]
    }
   ],
   "source": [
    "! qiime feature-table core-features \\\n",
    "--i-table $data_dir/feature_table_CH_natural.qza \\\n",
    "--p-min-fraction 0.7 \\\n",
    "--p-steps 10 \\\n",
    "--o-visualization $data_dir/core_microbiota_CH_natural.qzv"
   ]
  },
  {
   "cell_type": "code",
   "execution_count": 30,
   "id": "f2548df5-a6ad-4eb8-93be-f80af40c62ea",
   "metadata": {},
   "outputs": [
    {
     "data": {
      "text/html": [
       "<div><img onload=\"(function(div, url){\n",
       "if (typeof require !== 'undefined') {\n",
       "    var baseURL = require.toUrl('').split('/').slice(0, -2).join('/');\n",
       "} else {\n",
       "    var baseURL = JSON.parse(\n",
       "        document.getElementById('jupyter-config-data').innerHTML\n",
       "    ).baseUrl.slice(0, -1);\n",
       "}\n",
       "url = baseURL + url;\n",
       "fetch(url).then(function(res) {\n",
       "    if (res.status === 404) {\n",
       "        div.innerHTML = 'Install QIIME 2 Jupyter extension with:<br />' +\n",
       "                        '<code>jupyter serverextension enable --py qiime2' +\n",
       "                        ' --sys-prefix</code><br />then restart your server.' +\n",
       "                        '<br /><br />(Interactive output not available on ' +\n",
       "                        'static notebook viewer services like nbviewer.)';\n",
       "    } else if (res.status === 409) {\n",
       "        div.innerHTML = 'Visualization no longer in scope. Re-run this cell' +\n",
       "                        ' to see the visualization.';\n",
       "    } else if (res.ok) {\n",
       "        url = res.url;\n",
       "        div.innerHTML = '<iframe src=\\'' + url + '\\' style=\\'' +\n",
       "                        'width: 100%; height: 700px; border: 0;\\'>' +\n",
       "                        '</iframe><hr />Open in a: <a href=\\'' + url + '\\'' +\n",
       "                        ' target=\\'_blank\\'>new window</a>'\n",
       "    } else {\n",
       "        div.innerHTML = 'Something has gone wrong. Check notebook server for' +\n",
       "                        ' errors.';\n",
       "    }\n",
       "});\n",
       "})(this.parentElement, '/qiime2/redirect?location=/tmp/qiime2-archive-cwfshp3a')\" src=\"data:image/gif;base64,R0lGODlhAQABAIAAAP///wAAACH5BAEAAAAALAAAAAABAAEAAAICRAEAOw==\" /></div>"
      ],
      "text/plain": [
       "<visualization: Visualization uuid: 943f3266-4c8c-4004-bba8-65dbcb0ebf16>"
      ]
     },
     "execution_count": 30,
     "metadata": {},
     "output_type": "execute_result"
    }
   ],
   "source": [
    "Visualization.load(f'{data_dir}/core_microbiota_CH_natural.qzv')"
   ]
  },
  {
   "cell_type": "markdown",
   "id": "4b36e01e-9ede-40f0-b1a4-4f1c6fee45a2",
   "metadata": {},
   "source": [
    "Find core features of CH cheeses with washed rindtype:"
   ]
  },
  {
   "cell_type": "code",
   "execution_count": 31,
   "id": "e500d34c-02c2-48cb-977d-b00552a1da68",
   "metadata": {},
   "outputs": [
    {
     "name": "stdout",
     "output_type": "stream",
     "text": [
      "\u001b[32mSaved FeatureTable[Frequency] to: CE/feature_table_CH_washed.qza\u001b[0m\n",
      "\u001b[0m"
     ]
    }
   ],
   "source": [
    "! qiime feature-table filter-samples \\\n",
    "--i-table $data_dir/dada2_table_align_filtered.qza \\\n",
    "--m-metadata-file $data_dir/food-metadata.tsv \\\n",
    "--p-where \"[country]='Switzerland' AND [rindtype]='washed'\"\\\n",
    "--o-filtered-table $data_dir/feature_table_CH_washed.qza"
   ]
  },
  {
   "cell_type": "code",
   "execution_count": 32,
   "id": "218edff4-972e-4e54-8de8-bb0f3b706de5",
   "metadata": {},
   "outputs": [
    {
     "name": "stdout",
     "output_type": "stream",
     "text": [
      "\u001b[32mSaved Visualization to: CE/core_microbiota_CH_washed.qzv\u001b[0m\n",
      "\u001b[0m"
     ]
    }
   ],
   "source": [
    "! qiime feature-table core-features \\\n",
    "--i-table $data_dir/feature_table_CH_washed.qza \\\n",
    "--p-min-fraction 0.7 \\\n",
    "--p-steps 10 \\\n",
    "--o-visualization $data_dir/core_microbiota_CH_washed.qzv"
   ]
  },
  {
   "cell_type": "code",
   "execution_count": 33,
   "id": "c1ba5739-aaf7-45bb-9c89-bf2c7a6fe4ba",
   "metadata": {},
   "outputs": [
    {
     "data": {
      "text/html": [
       "<div><img onload=\"(function(div, url){\n",
       "if (typeof require !== 'undefined') {\n",
       "    var baseURL = require.toUrl('').split('/').slice(0, -2).join('/');\n",
       "} else {\n",
       "    var baseURL = JSON.parse(\n",
       "        document.getElementById('jupyter-config-data').innerHTML\n",
       "    ).baseUrl.slice(0, -1);\n",
       "}\n",
       "url = baseURL + url;\n",
       "fetch(url).then(function(res) {\n",
       "    if (res.status === 404) {\n",
       "        div.innerHTML = 'Install QIIME 2 Jupyter extension with:<br />' +\n",
       "                        '<code>jupyter serverextension enable --py qiime2' +\n",
       "                        ' --sys-prefix</code><br />then restart your server.' +\n",
       "                        '<br /><br />(Interactive output not available on ' +\n",
       "                        'static notebook viewer services like nbviewer.)';\n",
       "    } else if (res.status === 409) {\n",
       "        div.innerHTML = 'Visualization no longer in scope. Re-run this cell' +\n",
       "                        ' to see the visualization.';\n",
       "    } else if (res.ok) {\n",
       "        url = res.url;\n",
       "        div.innerHTML = '<iframe src=\\'' + url + '\\' style=\\'' +\n",
       "                        'width: 100%; height: 700px; border: 0;\\'>' +\n",
       "                        '</iframe><hr />Open in a: <a href=\\'' + url + '\\'' +\n",
       "                        ' target=\\'_blank\\'>new window</a>'\n",
       "    } else {\n",
       "        div.innerHTML = 'Something has gone wrong. Check notebook server for' +\n",
       "                        ' errors.';\n",
       "    }\n",
       "});\n",
       "})(this.parentElement, '/qiime2/redirect?location=/tmp/qiime2-archive-8xdrkkrp')\" src=\"data:image/gif;base64,R0lGODlhAQABAIAAAP///wAAACH5BAEAAAAALAAAAAABAAEAAAICRAEAOw==\" /></div>"
      ],
      "text/plain": [
       "<visualization: Visualization uuid: 44aaefdd-61c0-4a7d-bded-3879ace69aba>"
      ]
     },
     "execution_count": 33,
     "metadata": {},
     "output_type": "execute_result"
    }
   ],
   "source": [
    "Visualization.load(f'{data_dir}/core_microbiota_CH_washed.qzv')"
   ]
  },
  {
   "cell_type": "markdown",
   "id": "b97fcf71-8922-4307-8865-b71a172e21ec",
   "metadata": {},
   "source": [
    "Find core features of CH cheeses with alpine style:"
   ]
  },
  {
   "cell_type": "code",
   "execution_count": 35,
   "id": "00625eda-e78d-449e-9769-4ade39df8866",
   "metadata": {},
   "outputs": [
    {
     "name": "stdout",
     "output_type": "stream",
     "text": [
      "\u001b[32mSaved FeatureTable[Frequency] to: CE/feature_table_CH_alpine.qza\u001b[0m\n",
      "\u001b[0m"
     ]
    }
   ],
   "source": [
    "! qiime feature-table filter-samples \\\n",
    "--i-table $data_dir/dada2_table_align_filtered.qza \\\n",
    "--m-metadata-file $data_dir/food-metadata.tsv \\\n",
    "--p-where \"[country]='Switzerland' AND [style]='alpine'\"\\\n",
    "--o-filtered-table $data_dir/feature_table_CH_alpine.qza"
   ]
  },
  {
   "cell_type": "code",
   "execution_count": 36,
   "id": "8a02f093-ac6e-4cfe-a1e1-57fd8f9ac972",
   "metadata": {},
   "outputs": [
    {
     "name": "stdout",
     "output_type": "stream",
     "text": [
      "\u001b[32mSaved Visualization to: CE/core_microbiota_CH_alpine.qzv\u001b[0m\n",
      "\u001b[0m"
     ]
    }
   ],
   "source": [
    "! qiime feature-table core-features \\\n",
    "--i-table $data_dir/feature_table_CH_alpine.qza \\\n",
    "--p-min-fraction 0.7 \\\n",
    "--p-steps 10 \\\n",
    "--o-visualization $data_dir/core_microbiota_CH_alpine.qzv"
   ]
  },
  {
   "cell_type": "code",
   "execution_count": 37,
   "id": "ac1cb3a2-83d2-4685-8cce-07e17bdfc24b",
   "metadata": {},
   "outputs": [
    {
     "data": {
      "text/html": [
       "<div><img onload=\"(function(div, url){\n",
       "if (typeof require !== 'undefined') {\n",
       "    var baseURL = require.toUrl('').split('/').slice(0, -2).join('/');\n",
       "} else {\n",
       "    var baseURL = JSON.parse(\n",
       "        document.getElementById('jupyter-config-data').innerHTML\n",
       "    ).baseUrl.slice(0, -1);\n",
       "}\n",
       "url = baseURL + url;\n",
       "fetch(url).then(function(res) {\n",
       "    if (res.status === 404) {\n",
       "        div.innerHTML = 'Install QIIME 2 Jupyter extension with:<br />' +\n",
       "                        '<code>jupyter serverextension enable --py qiime2' +\n",
       "                        ' --sys-prefix</code><br />then restart your server.' +\n",
       "                        '<br /><br />(Interactive output not available on ' +\n",
       "                        'static notebook viewer services like nbviewer.)';\n",
       "    } else if (res.status === 409) {\n",
       "        div.innerHTML = 'Visualization no longer in scope. Re-run this cell' +\n",
       "                        ' to see the visualization.';\n",
       "    } else if (res.ok) {\n",
       "        url = res.url;\n",
       "        div.innerHTML = '<iframe src=\\'' + url + '\\' style=\\'' +\n",
       "                        'width: 100%; height: 700px; border: 0;\\'>' +\n",
       "                        '</iframe><hr />Open in a: <a href=\\'' + url + '\\'' +\n",
       "                        ' target=\\'_blank\\'>new window</a>'\n",
       "    } else {\n",
       "        div.innerHTML = 'Something has gone wrong. Check notebook server for' +\n",
       "                        ' errors.';\n",
       "    }\n",
       "});\n",
       "})(this.parentElement, '/qiime2/redirect?location=/tmp/qiime2-archive-j2_61sdh')\" src=\"data:image/gif;base64,R0lGODlhAQABAIAAAP///wAAACH5BAEAAAAALAAAAAABAAEAAAICRAEAOw==\" /></div>"
      ],
      "text/plain": [
       "<visualization: Visualization uuid: c060248a-b70e-4c1a-9d20-f0defc56c631>"
      ]
     },
     "execution_count": 37,
     "metadata": {},
     "output_type": "execute_result"
    }
   ],
   "source": [
    "Visualization.load(f'{data_dir}/core_microbiota_CH_alpine.qzv')"
   ]
  },
  {
   "cell_type": "code",
   "execution_count": null,
   "id": "a41e88ae-0e86-4af0-80a4-f749e3b39c9d",
   "metadata": {},
   "outputs": [],
   "source": []
  },
  {
   "cell_type": "code",
   "execution_count": null,
   "id": "1170cb48-42f0-43bb-8099-45d4dd328f5b",
   "metadata": {},
   "outputs": [],
   "source": []
  },
  {
   "cell_type": "code",
   "execution_count": null,
   "id": "dfed3c07-dd08-4581-956b-4ae6d55bdc04",
   "metadata": {},
   "outputs": [],
   "source": []
  },
  {
   "cell_type": "code",
   "execution_count": null,
   "id": "1937d179-2f6b-4527-b327-4c68663867e5",
   "metadata": {},
   "outputs": [],
   "source": []
  },
  {
   "cell_type": "code",
   "execution_count": null,
   "id": "a7aa6691-3864-4ce0-a967-ee00bf353f1c",
   "metadata": {},
   "outputs": [],
   "source": []
  },
  {
   "cell_type": "code",
   "execution_count": 23,
   "id": "0e57b1c5-4c18-4a66-825e-ed149cfa9c7d",
   "metadata": {},
   "outputs": [
    {
     "name": "stdout",
     "output_type": "stream",
     "text": [
      "\u001b[32mSaved Visualization to: CE/feature_table_CH_natural.qzv\u001b[0m\n",
      "\u001b[0m"
     ]
    }
   ],
   "source": [
    "! qiime feature-table summarize \\\n",
    "--i-table $data_dir/feature_table_CH_natural.qza \\\n",
    "--o-visualization $data_dir/feature_table_CH_natural.qzv"
   ]
  },
  {
   "cell_type": "code",
   "execution_count": 24,
   "id": "dd3038fe-3a62-4698-9196-995af187d248",
   "metadata": {},
   "outputs": [
    {
     "data": {
      "text/html": [
       "<div><img onload=\"(function(div, url){\n",
       "if (typeof require !== 'undefined') {\n",
       "    var baseURL = require.toUrl('').split('/').slice(0, -2).join('/');\n",
       "} else {\n",
       "    var baseURL = JSON.parse(\n",
       "        document.getElementById('jupyter-config-data').innerHTML\n",
       "    ).baseUrl.slice(0, -1);\n",
       "}\n",
       "url = baseURL + url;\n",
       "fetch(url).then(function(res) {\n",
       "    if (res.status === 404) {\n",
       "        div.innerHTML = 'Install QIIME 2 Jupyter extension with:<br />' +\n",
       "                        '<code>jupyter serverextension enable --py qiime2' +\n",
       "                        ' --sys-prefix</code><br />then restart your server.' +\n",
       "                        '<br /><br />(Interactive output not available on ' +\n",
       "                        'static notebook viewer services like nbviewer.)';\n",
       "    } else if (res.status === 409) {\n",
       "        div.innerHTML = 'Visualization no longer in scope. Re-run this cell' +\n",
       "                        ' to see the visualization.';\n",
       "    } else if (res.ok) {\n",
       "        url = res.url;\n",
       "        div.innerHTML = '<iframe src=\\'' + url + '\\' style=\\'' +\n",
       "                        'width: 100%; height: 700px; border: 0;\\'>' +\n",
       "                        '</iframe><hr />Open in a: <a href=\\'' + url + '\\'' +\n",
       "                        ' target=\\'_blank\\'>new window</a>'\n",
       "    } else {\n",
       "        div.innerHTML = 'Something has gone wrong. Check notebook server for' +\n",
       "                        ' errors.';\n",
       "    }\n",
       "});\n",
       "})(this.parentElement, '/qiime2/redirect?location=/tmp/qiime2-archive-1ghk27xh')\" src=\"data:image/gif;base64,R0lGODlhAQABAIAAAP///wAAACH5BAEAAAAALAAAAAABAAEAAAICRAEAOw==\" /></div>"
      ],
      "text/plain": [
       "<visualization: Visualization uuid: 1723da06-c9e2-4655-b698-beb5f16d91b6>"
      ]
     },
     "execution_count": 24,
     "metadata": {},
     "output_type": "execute_result"
    }
   ],
   "source": [
    "Visualization.load(f'{data_dir}/feature_table_CH_natural.qzv')"
   ]
  },
  {
   "cell_type": "code",
   "execution_count": 17,
   "id": "6b417762-8cde-44f0-b932-136a1081cd14",
   "metadata": {},
   "outputs": [
    {
     "name": "stdout",
     "output_type": "stream",
     "text": [
      "Usage: \u001b[94mqiime feature-table summarize\u001b[0m [OPTIONS]\n",
      "\n",
      "  Generate visual and tabular summaries of a feature table.\n",
      "\n",
      "\u001b[1mInputs\u001b[0m:\n",
      "  \u001b[94m\u001b[4m--i-table\u001b[0m ARTIFACT \u001b[32mFeatureTable[Frequency | RelativeFrequency |\u001b[0m\n",
      "    \u001b[32mPresenceAbsence]\u001b[0m   The feature table to be summarized.          \u001b[35m[required]\u001b[0m\n",
      "\u001b[1mParameters\u001b[0m:\n",
      "  \u001b[94m--m-sample-metadata-file\u001b[0m METADATA...\n",
      "    (multiple          The sample metadata.\n",
      "     arguments will    \n",
      "     be merged)                                                     \u001b[35m[optional]\u001b[0m\n",
      "\u001b[1mOutputs\u001b[0m:\n",
      "  \u001b[94m\u001b[4m--o-visualization\u001b[0m VISUALIZATION\n",
      "                                                                    \u001b[35m[required]\u001b[0m\n",
      "\u001b[1mMiscellaneous\u001b[0m:\n",
      "  \u001b[94m--output-dir\u001b[0m PATH    Output unspecified results to a directory\n",
      "  \u001b[94m--verbose\u001b[0m / \u001b[94m--quiet\u001b[0m  Display verbose output to stdout and/or stderr during\n",
      "                       execution of this action. Or silence output if\n",
      "                       execution is successful (silence is golden).\n",
      "  \u001b[94m--example-data\u001b[0m PATH  Write example data and exit.\n",
      "  \u001b[94m--citations\u001b[0m          Show citations and exit.\n",
      "  \u001b[94m--help\u001b[0m               Show this message and exit.\n"
     ]
    }
   ],
   "source": [
    "! qiime feature-table summarize --help"
   ]
  },
  {
   "cell_type": "code",
   "execution_count": 2,
   "id": "bbbb18bb-43ec-4043-bc6d-ea7443f0c9ff",
   "metadata": {},
   "outputs": [
    {
     "name": "stdout",
     "output_type": "stream",
     "text": [
      "Usage: \u001b[94mqiime feature-table filter-samples\u001b[0m [OPTIONS]\n",
      "\n",
      "  Filter samples from table based on frequency and/or metadata. Any features\n",
      "  with a frequency of zero after sample filtering will also be removed. See\n",
      "  the filtering tutorial on https://docs.qiime2.org for additional details.\n",
      "\n",
      "\u001b[1mInputs\u001b[0m:\n",
      "  \u001b[94m\u001b[4m--i-table\u001b[0m ARTIFACT \u001b[32mFeatureTable[Frequency¹ | RelativeFrequency² |\u001b[0m\n",
      "    \u001b[32mPresenceAbsence³ | Composition⁴]\u001b[0m\n",
      "                       The feature table from which samples should be\n",
      "                       filtered.                                    \u001b[35m[required]\u001b[0m\n",
      "\u001b[1mParameters\u001b[0m:\n",
      "  \u001b[94m--p-min-frequency\u001b[0m INTEGER\n",
      "                       The minimum total frequency that a sample must have to\n",
      "                       be retained.                               \u001b[35m[default: 0]\u001b[0m\n",
      "  \u001b[94m--p-max-frequency\u001b[0m INTEGER\n",
      "                       The maximum total frequency that a sample can have to\n",
      "                       be retained. If no value is provided this will default\n",
      "                       to infinity (i.e., no maximum frequency filter will be\n",
      "                       applied).                                    \u001b[35m[optional]\u001b[0m\n",
      "  \u001b[94m--p-min-features\u001b[0m INTEGER\n",
      "                       The minimum number of features that a sample must have\n",
      "                       to be retained.                            \u001b[35m[default: 0]\u001b[0m\n",
      "  \u001b[94m--p-max-features\u001b[0m INTEGER\n",
      "                       The maximum number of features that a sample can have\n",
      "                       to be retained. If no value is provided this will\n",
      "                       default to infinity (i.e., no maximum feature filter\n",
      "                       will be applied).                            \u001b[35m[optional]\u001b[0m\n",
      "  \u001b[94m--m-metadata-file\u001b[0m METADATA...\n",
      "    (multiple          Sample metadata used with `where` parameter when\n",
      "     arguments will    selecting samples to retain, or with `\u001b[4mexclude-ids\u001b[0m` when\n",
      "     be merged)        selecting samples to discard.                \u001b[35m[optional]\u001b[0m\n",
      "  \u001b[94m--p-where\u001b[0m TEXT       SQLite WHERE clause specifying sample metadata\n",
      "                       criteria that must be met to be included in the\n",
      "                       filtered feature table. If not provided, all samples in\n",
      "                       `metadata` that are also in the feature table will be\n",
      "                       retained.                                    \u001b[35m[optional]\u001b[0m\n",
      "  \u001b[94m--p-exclude-ids\u001b[0m / \u001b[94m--p-no-exclude-ids\u001b[0m\n",
      "                       If true, the samples selected by `metadata` or `where`\n",
      "                       parameters will be excluded from the filtered table\n",
      "                       instead of being retained.             \u001b[35m[default: False]\u001b[0m\n",
      "  \u001b[94m--p-filter-empty-features\u001b[0m / \u001b[94m--p-no-filter-empty-features\u001b[0m\n",
      "                       If true, features which are not present in any\n",
      "                       retained samples are dropped.           \u001b[35m[default: True]\u001b[0m\n",
      "\u001b[1mOutputs\u001b[0m:\n",
      "  \u001b[94m\u001b[4m--o-filtered-table\u001b[0m ARTIFACT \u001b[32mFeatureTable[Frequency¹ | RelativeFrequency²\u001b[0m\n",
      "    \u001b[32m| PresenceAbsence³ | Composition⁴]\u001b[0m\n",
      "                       The resulting feature table filtered by sample.\n",
      "                                                                    \u001b[35m[required]\u001b[0m\n",
      "\u001b[1mMiscellaneous\u001b[0m:\n",
      "  \u001b[94m--output-dir\u001b[0m PATH    Output unspecified results to a directory\n",
      "  \u001b[94m--verbose\u001b[0m / \u001b[94m--quiet\u001b[0m  Display verbose output to stdout and/or stderr during\n",
      "                       execution of this action. Or silence output if\n",
      "                       execution is successful (silence is golden).\n",
      "  \u001b[94m--example-data\u001b[0m PATH  Write example data and exit.\n",
      "  \u001b[94m--citations\u001b[0m          Show citations and exit.\n",
      "  \u001b[94m--help\u001b[0m               Show this message and exit.\n"
     ]
    }
   ],
   "source": [
    "! qiime feature-table filter-samples --help"
   ]
  }
 ],
 "metadata": {
  "kernelspec": {
   "display_name": "Python 3 (ipykernel)",
   "language": "python",
   "name": "python3"
  },
  "language_info": {
   "codemirror_mode": {
    "name": "ipython",
    "version": 3
   },
   "file_extension": ".py",
   "mimetype": "text/x-python",
   "name": "python",
   "nbconvert_exporter": "python",
   "pygments_lexer": "ipython3",
   "version": "3.8.13"
  }
 },
 "nbformat": 4,
 "nbformat_minor": 5
}
