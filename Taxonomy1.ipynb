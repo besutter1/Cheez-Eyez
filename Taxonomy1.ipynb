{
 "cells": [
  {
   "cell_type": "markdown",
   "id": "653d3bb0-9966-4b7c-9e51-6cf2191f876c",
   "metadata": {},
   "source": [
    "# Taxonomy & Phylogeny \n",
    "---\n",
    "In this file we will assign taxonomy labels to the ASVs obtained from the denoising. In order to do that we will use the `classify-sklearn` action from the `feature-classifier` plugin and fetch:\n",
    "- a pretrained classifier (from greengenes as the silva needs too much RAM)\n",
    "- the sequences which we want to have classified (from the denoising step: dada2_rep_set.qza)\n",
    "**Note:** As we don't know which primers were used we actually cannot just take a pre-trained classifier as such classifiers corresponds to a certain primer pair/rRNA region. But we do know the sequences (101bp) originate from the V4 region (300bp) of the 16S rRNA. As the most common primer pair (515f/806r) fully covers the V4 region we think it should be possible to use a classifier which was trained with 515f/806r seqeunces. Why not use a full lenght classifier? It was reported that Species-level classification performance of 16S rRNA gene simulated reads had a slightly lower accuracy in full-lenght sequences than in V1–3 and V4 subdomains. (from https://doi.org/10.1186/s40168-018-0470-z) "
   ]
  },
  {
   "cell_type": "code",
   "execution_count": null,
   "id": "8fe7478d-7790-43f1-9c83-7025c36e2549",
   "metadata": {},
   "outputs": [],
   "source": [
    "import os\n",
    "import pandas as pd\n",
    "from qiime2 import Visualization\n",
    "import matplotlib.pyplot as plt\n",
    "import numpy as np\n",
    "\n",
    "import qiime2 as q2\n",
    "\n",
    "%matplotlib inline\n",
    "data_dir = 'CE'"
   ]
  },
  {
   "cell_type": "markdown",
   "id": "c7520ccb-fe70-40e9-b3e3-a5d5a5c24152",
   "metadata": {},
   "source": [
    "## Taxonomy\n",
    "So lets start with the taxonomic classification of our ASVs !"
   ]
  },
  {
   "cell_type": "code",
   "execution_count": null,
   "id": "0aba65d0-4c15-4513-943b-93d7d9bf55d2",
   "metadata": {},
   "outputs": [],
   "source": [
    "#fetch the pre-trained classifier \n",
    "! wget -nv -O $data_dir/515f-806r-classifier.qza https://data.qiime2.org/2021.4/common/gg-13-8-99-515-806-nb-classifier.qza"
   ]
  },
  {
   "cell_type": "code",
   "execution_count": null,
   "id": "96ccba1e-adfa-4cd2-a1f9-103af78d5e59",
   "metadata": {},
   "outputs": [],
   "source": [
    "! qiime feature-classifier classify-sklearn \\\n",
    "    --i-classifier $data_dir/515f-806r-classifier.qza \\\n",
    "    --i-reads $data_dir/dada2_rep_set.qza \\\n",
    "    --o-classification $data_dir/taxonomy_v4.qza"
   ]
  },
  {
   "cell_type": "markdown",
   "id": "a07222ae-26d3-4f59-881e-fce65452038b",
   "metadata": {},
   "source": [
    "This should have created a new taxonomy.qza artifact (containing our taxonomic assignments per feature)"
   ]
  },
  {
   "cell_type": "code",
   "execution_count": null,
   "id": "597013e4-7cf1-4195-99de-e46656fca198",
   "metadata": {},
   "outputs": [],
   "source": [
    "! qiime tools peek $data_dir/taxonomy_v4.qza"
   ]
  },
  {
   "cell_type": "markdown",
   "id": "ddf4fffe-3463-482b-a1a4-302503a9e6e6",
   "metadata": {},
   "source": [
    "### Visualizations\n",
    "\n",
    "We can make a tabular representation of all the features labeled with their corresponding taxonomy:"
   ]
  },
  {
   "cell_type": "code",
   "execution_count": null,
   "id": "c5d8450d-348a-49d1-8033-ecdb7e701453",
   "metadata": {},
   "outputs": [],
   "source": [
    "! qiime metadata tabulate \\\n",
    "    --m-input-file $data_dir/taxonomy_v4.qza \\\n",
    "    --o-visualization $data_dir/taxonomy_v4.qzv"
   ]
  },
  {
   "cell_type": "code",
   "execution_count": null,
   "id": "bede33dd-403b-46be-a6e5-f08ca6d167f2",
   "metadata": {},
   "outputs": [],
   "source": [
    "Visualization.load(f'{data_dir}/taxonomy_v4.qzv')"
   ]
  },
  {
   "cell_type": "markdown",
   "id": "5ab749c7-9c30-4032-995b-6e5c522040c0",
   "metadata": {},
   "source": [
    "By combining the taxonomic inforamtion with the metadata of our samples we can also get a hint of what the distribution of species is in the different samples! \n",
    "**Note:** dada2_table is a feature table from the denoising step which includes all ASVs (with error-corrected sequences)"
   ]
  },
  {
   "cell_type": "code",
   "execution_count": null,
   "id": "60dd4aa0-9b01-4547-8994-bd45665818ee",
   "metadata": {},
   "outputs": [],
   "source": [
    "#filter the feature table by excluding samples not present in metadata\n",
    "! qiime feature-table filter-samples \\\n",
    "    --i-table $data_dir/dada2_table.qza \\\n",
    "    --m-metadata-file $data_dir/food-metadata.tsv \\\n",
    "    --o-filtered-table $data_dir/dada2_table_aligned.qza"
   ]
  },
  {
   "cell_type": "code",
   "execution_count": null,
   "id": "d08da692-3013-4772-b35e-6488e11cc993",
   "metadata": {},
   "outputs": [],
   "source": [
    "! qiime feature-table summarize \\\n",
    "    --i-table $data_dir/dada2_table_aligned.qza \\\n",
    "    --m-sample-metadata-file $data_dir/food-metadata.tsv \\\n",
    "    --o-visualization $data_dir/dada2_table_aligned.qzv"
   ]
  },
  {
   "cell_type": "code",
   "execution_count": null,
   "id": "a240b9d0-aeeb-460f-aaae-d4f6fcc67764",
   "metadata": {},
   "outputs": [],
   "source": [
    "Visualization.load(f'{data_dir}/dada2_table_aligned.qzv')"
   ]
  },
  {
   "cell_type": "code",
   "execution_count": null,
   "id": "94b239fc-ce20-4ea3-89aa-48ff6349ee60",
   "metadata": {},
   "outputs": [],
   "source": [
    "! qiime taxa barplot \\\n",
    "    --i-table $data_dir/dada2_table_aligned.qza \\\n",
    "    --i-taxonomy $data_dir/taxonomy_v4.qza \\\n",
    "    --m-metadata-file $data_dir/food-metadata.tsv \\\n",
    "    --o-visualization $data_dir/taxa-bar-plots_v4.qzv"
   ]
  },
  {
   "cell_type": "code",
   "execution_count": null,
   "id": "60856133-170b-4043-93c8-883c8697fd5c",
   "metadata": {},
   "outputs": [],
   "source": [
    "Visualization.load(f'{data_dir}/taxa-bar-plots_v4.qzv')"
   ]
  },
  {
   "cell_type": "markdown",
   "id": "eabd133e-878b-4b3f-8333-6ef0e5b00d58",
   "metadata": {
    "tags": []
   },
   "source": [
    "To investigate how our taxonomic analysis compares to e.g. BLAST. We can open the tabular view of our ASVs and search for some features manually. "
   ]
  },
  {
   "cell_type": "markdown",
   "id": "238e79de-707e-460a-b89c-9d035c43a02a",
   "metadata": {},
   "source": [
    "### Filtering the feature table"
   ]
  },
  {
   "cell_type": "code",
   "execution_count": null,
   "id": "686cc3c5-c1fc-4c13-b7fc-3191ebe0a30e",
   "metadata": {},
   "outputs": [],
   "source": [
    "#filter feature table and exclude mitochondria,chloroplast\n",
    "! qiime taxa filter-table \\\n",
    "--i-table $data_dir/dada2_table_aligned.qza \\\n",
    "--i-taxonomy $data_dir/taxonomy_v4.qza \\\n",
    "--p-exclude mitochondria,chloroplast \\\n",
    "--o-filtered-table $data_dir/dada2_table_align_filtered.qza"
   ]
  },
  {
   "cell_type": "code",
   "execution_count": null,
   "id": "8c8b2a97-fda8-4ff5-89e9-2e63997499e6",
   "metadata": {},
   "outputs": [],
   "source": [
    "#filter sequences and exclude mitochondria,chloroplast\n",
    "! qiime taxa filter-seqs \\\n",
    "--i-sequences $data_dir/dada2_rep_set.qza \\\n",
    "--i-taxonomy $data_dir/taxonomy_v4.qza \\\n",
    "--p-exclude mitochondria,chloroplast \\\n",
    "--o-filtered-sequences $data_dir/dada2_rep_set_filtered.qza"
   ]
  },
  {
   "cell_type": "code",
   "execution_count": null,
   "id": "d1c5f6ce-dbec-4311-ad68-8760de93670e",
   "metadata": {},
   "outputs": [],
   "source": [
    "#this is the new barplot with the filtered deature atble and sequences NO MITOCHONDRIA AND CHLOOROPLAST VISIBLE\n",
    "! qiime taxa barplot \\\n",
    "--i-table $data_dir/dada2_table_align_filtered.qza \\\n",
    "--i-taxonomy $data_dir/taxonomy_v4.qza \\\n",
    "--m-metadata-file $data_dir/food-metadata.tsv \\\n",
    "--o-visualization $data_dir/taxa-bar-plots_v4_filtered.qzv"
   ]
  },
  {
   "cell_type": "code",
   "execution_count": null,
   "id": "ddfb43da-ca78-49c7-ab4a-03c2eab35ad8",
   "metadata": {},
   "outputs": [],
   "source": [
    "Visualization.load(f'{data_dir}/taxa-bar-plots_v4_filtered.qzv')"
   ]
  },
  {
   "cell_type": "markdown",
   "id": "8eb438e4-b6ef-4b78-99b7-fa9d5d9cf967",
   "metadata": {},
   "source": [
    "BUT I AM NOT DONE YET WITH FILTERING: Filtering the feature table and the sequences only to **assigned phylum level** and exclude the **unassigned**: (because when exploring barplot we discovered some features which had k__Bacteria;__;__;__;__;__;__ or Unassigned;__;__;__;__;__;__. These 2 features give us no additional information if we keep it in our data?)"
   ]
  },
  {
   "cell_type": "code",
   "execution_count": null,
   "id": "fe7c32ee-8bb8-44df-826e-6bd357ebc9eb",
   "metadata": {},
   "outputs": [],
   "source": [
    "! qiime taxa filter-table \\\n",
    "--i-table $data_dir/dada2_table_align_filtered.qza \\\n",
    "--i-taxonomy $data_dir/taxonomy_v4.qza \\\n",
    "--p-include p__ \\\n",
    "--o-filtered-table $data_dir/dada2_table_align_filtered2.qza"
   ]
  },
  {
   "cell_type": "code",
   "execution_count": null,
   "id": "afc35dd8-fbae-4d8f-a8cb-d513585bff1d",
   "metadata": {},
   "outputs": [],
   "source": [
    "#filter sequences and exclude the unassigned\n",
    "#edit from future milena: we did not continue with this qza as we decided to keep the unassigned sequences as they may be the key to the differnces between the microbiomes\n",
    "! qiime taxa filter-seqs \\\n",
    "--i-sequences $data_dir/dada2_rep_set.qza \\\n",
    "--i-taxonomy $data_dir/taxonomy_v4.qza \\\n",
    "--p-include p__ \\\n",
    "--o-filtered-sequences $data_dir/dada2_rep_set_filtered2.qza"
   ]
  },
  {
   "cell_type": "code",
   "execution_count": null,
   "id": "eedff595-f6fd-4f27-8417-1e029f7e44c7",
   "metadata": {},
   "outputs": [],
   "source": [
    "#this is the new barplot with the filtered Feature table and sequences ONLY TO PHYLUM LEVEL\n",
    "! qiime taxa barplot \\\n",
    "--i-table $data_dir/dada2_table_align_filtered2.qza \\\n",
    "--i-taxonomy $data_dir/taxonomy_v4.qza \\\n",
    "--m-metadata-file $data_dir/food-metadata.tsv \\\n",
    "--o-visualization $data_dir/taxa-bar-plots_v4_filtered2.qzv"
   ]
  },
  {
   "cell_type": "code",
   "execution_count": null,
   "id": "0b31257e-1767-4510-a0b5-c1e95186f6e7",
   "metadata": {},
   "outputs": [],
   "source": [
    "Visualization.load(f'{data_dir}/taxa-bar-plots_v4_filtered2.qzv')"
   ]
  },
  {
   "cell_type": "markdown",
   "id": "ee14ab7a-f9df-479d-af04-0bd7545b0794",
   "metadata": {
    "tags": []
   },
   "source": [
    "## Phylogeny\n",
    "We will use the two main phylogeny reconstruction approaches:\n",
    "\n",
    "1. de novo reconstruction\n",
    "2. reference-based fragment insertion\n"
   ]
  },
  {
   "cell_type": "markdown",
   "id": "31df6308-c866-4854-87e4-94143b87417e",
   "metadata": {},
   "source": [
    "### 1. de novo reconstruction"
   ]
  },
  {
   "cell_type": "code",
   "execution_count": null,
   "id": "e6548998-1153-4d35-89a8-f9e9baa16faf",
   "metadata": {},
   "outputs": [],
   "source": [
    "#Sequence alignment\n",
    "! qiime alignment mafft \\\n",
    "     --i-sequences $data_dir/dada2_rep_set_filtered.qza \\\n",
    "     --o-alignment $data_dir/aligned-rep-seqs.qza"
   ]
  },
  {
   "cell_type": "code",
   "execution_count": null,
   "id": "909b4b1e-2a8d-4c06-bdb2-d832d3ee67eb",
   "metadata": {},
   "outputs": [],
   "source": [
    "#Alignment masking\n",
    "#removing regions that are phylogenetically uninformative due e.g. to alignment errors\n",
    "! qiime alignment mask \\\n",
    "    --i-alignment $data_dir/aligned-rep-seqs.qza \\\n",
    "    --o-masked-alignment $data_dir/masked-aligned-rep-seqs.qza"
   ]
  },
  {
   "cell_type": "code",
   "execution_count": null,
   "id": "08e65e4c-67f6-4c97-a505-72f46f4fe581",
   "metadata": {},
   "outputs": [],
   "source": [
    "#Tree construction\n",
    "! qiime phylogeny fasttree \\\n",
    "    --i-alignment $data_dir/masked-aligned-rep-seqs.qza \\\n",
    "    --o-tree $data_dir/fasttree-tree.qza\n",
    "\n",
    "! qiime phylogeny midpoint-root \\\n",
    "    --i-tree $data_dir/fasttree-tree.qza \\\n",
    "    --o-rooted-tree $data_dir/fasttree-tree-rooted.qza"
   ]
  },
  {
   "cell_type": "code",
   "execution_count": null,
   "id": "e7d3dc9c-63f1-4e9e-8fe9-60fd349256c9",
   "metadata": {},
   "outputs": [],
   "source": [
    "#Tree visualization\n",
    "! qiime empress tree-plot \\\n",
    "     --i-tree $data_dir/fasttree-tree-rooted.qza \\\n",
    "     --m-feature-metadata-file $data_dir/taxonomy_v4.qza \\\n",
    "     --o-visualization $data_dir/fasttree-tree-rooted.qzv"
   ]
  },
  {
   "cell_type": "code",
   "execution_count": null,
   "id": "e298ca18-f468-43f1-8545-eda32d22e924",
   "metadata": {},
   "outputs": [],
   "source": [
    "Visualization.load(f'{data_dir}/fasttree-tree-rooted.qzv')"
   ]
  },
  {
   "cell_type": "markdown",
   "id": "edc685a4-fa9a-44ce-8922-3e7129132490",
   "metadata": {
    "tags": []
   },
   "source": [
    "### 2. reference-based fragment insertion\n",
    "Now we use a tree that was already constructed and only insert our sequences into the existing tree."
   ]
  },
  {
   "cell_type": "code",
   "execution_count": null,
   "id": "9bc217c5-5ced-4304-8fb1-368aab0eeaec",
   "metadata": {},
   "outputs": [],
   "source": [
    "# fetch the tree that was built from the Greengenes 13_8 database at 99% identity\n",
    "! wget -nv -O $data_dir/sepp-refs-gg-13-8.qza https://data.qiime2.org/2021.4/common/sepp-refs-gg-13-8.qza"
   ]
  },
  {
   "cell_type": "code",
   "execution_count": null,
   "id": "0fbd4a66-1b5a-4021-9603-914a15290517",
   "metadata": {},
   "outputs": [],
   "source": [
    "#insert our sequences\n",
    "#note: this is an already rooted tree\n",
    "! qiime fragment-insertion sepp \\\n",
    "    --i-representative-sequences $data_dir/dada2_rep_set_filtered.qza \\\n",
    "    --i-reference-database $data_dir/sepp-refs-gg-13-8.qza \\\n",
    "    --p-threads 2 \\\n",
    "    --o-tree $data_dir/sepp-tree.qza \\\n",
    "    --o-placements $data_dir/sepp-tree-placements.qza"
   ]
  },
  {
   "cell_type": "code",
   "execution_count": null,
   "id": "812185a2-a237-4c94-bfba-21f9365e0db6",
   "metadata": {},
   "outputs": [],
   "source": [
    "#tree visualization\n",
    "! qiime empress tree-plot \\\n",
    "      --i-tree $data_dir/sepp-tree.qza \\\n",
    "      --m-feature-metadata-file $data_dir/taxonomy_v4.qza \\\n",
    "      --o-visualization $data_dir/sepp-tree-placements-tree.qzv"
   ]
  },
  {
   "cell_type": "code",
   "execution_count": null,
   "id": "c8a0d968-7fba-42d3-965f-df55b15e15df",
   "metadata": {},
   "outputs": [],
   "source": [
    "Visualization.load(f'{data_dir}/sepp-tree-placements-tree.qzv')"
   ]
  },
  {
   "cell_type": "code",
   "execution_count": null,
   "id": "5ef73c9a-0ed7-43ce-b092-0e3748b2b36a",
   "metadata": {},
   "outputs": [],
   "source": []
  }
 ],
 "metadata": {
  "kernelspec": {
   "display_name": "Python 3 (ipykernel)",
   "language": "python",
   "name": "python3"
  },
  "language_info": {
   "codemirror_mode": {
    "name": "ipython",
    "version": 3
   },
   "file_extension": ".py",
   "mimetype": "text/x-python",
   "name": "python",
   "nbconvert_exporter": "python",
   "pygments_lexer": "ipython3",
   "version": "3.8.13"
  }
 },
 "nbformat": 4,
 "nbformat_minor": 5
}
